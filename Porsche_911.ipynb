{
  "cells": [
    {
      "cell_type": "code",
      "metadata": {
        "id": "0TXog-C7YI5y",
        "colab_type": "code",
        "colab": {}
      },
      "source": [
        "import pandas as pd\n",
        "import numpy as np\n"
      ],
      "execution_count": 4,
      "outputs": []
    },
    {
      "cell_type": "code",
      "metadata": {
        "id": "XTGC-WwtW-Dy",
        "colab_type": "code",
        "colab": {}
      },
      "source": [
        "df = pd.read_csv('https://raw.githubusercontent.com/popkdodge/Unit-2-Build/master/Carrera_911_1_2.csv',index_col=[0])"
      ],
      "execution_count": 5,
      "outputs": []
    },
    {
      "cell_type": "code",
      "metadata": {
        "id": "pFR_iXuTYH5Q",
        "colab_type": "code",
        "outputId": "9dfbf1be-d9d3-475c-e0f2-14442781629a",
        "colab": {
          "base_uri": "https://localhost:8080/",
          "height": 406
        }
      },
      "source": [
        "df"
      ],
      "execution_count": 6,
      "outputs": [
        {
          "output_type": "execute_result",
          "data": {
            "text/plain": "              condition  milage     Price  Year    Brand  Model Model_Vers  \\\n0                  Used   47649   48950.0  2012  Porsche    911    Carrera   \n1                  Used   19020   67988.0  2015  Porsche    911    Carrera   \n3                  Used   56436   51990.0  2012  Porsche    911    Carrera   \n4                  Used   85000   34900.0  2009  Porsche    911    Carrera   \n5                  Used   15808   96995.0  2018  Porsche    911    Carrera   \n...                 ...     ...       ...   ...      ...    ...        ...   \n1493               Used   19826   99950.0  2017  Porsche    911    Carrera   \n1494               Used   15710   89995.0  2016  Porsche    911    Carrera   \n1495               Used     502   93900.0  2018  Porsche    911    Carrera   \n1496               Used    5182   81995.0  2016  Porsche    911    Carrera   \n1501  Porsche Certified   10074  112000.0  2018  Porsche    911    Carrera   \n\n       S_RS  Cabriolet  Color Transmission  \n0     Black    Edition  Black    Automatic  \n1      Base    Hardtop  Black    Automatic  \n3         S    Hardtop  Black    Automatic  \n4         S  Cabriolet  Black    Automatic  \n5         S    Hardtop  Black    Automatic  \n...     ...        ...    ...          ...  \n1493     4S    Hardtop  White       Manual  \n1494     4S    Hardtop  White       Manual  \n1495      T    Hardtop  White       Manual  \n1496      S    Hardtop  White       Manual  \n1501     4S    Hardtop  White       Manual  \n\n[810 rows x 11 columns]",
            "text/html": "<div>\n<style scoped>\n    .dataframe tbody tr th:only-of-type {\n        vertical-align: middle;\n    }\n\n    .dataframe tbody tr th {\n        vertical-align: top;\n    }\n\n    .dataframe thead th {\n        text-align: right;\n    }\n</style>\n<table border=\"1\" class=\"dataframe\">\n  <thead>\n    <tr style=\"text-align: right;\">\n      <th></th>\n      <th>condition</th>\n      <th>milage</th>\n      <th>Price</th>\n      <th>Year</th>\n      <th>Brand</th>\n      <th>Model</th>\n      <th>Model_Vers</th>\n      <th>S_RS</th>\n      <th>Cabriolet</th>\n      <th>Color</th>\n      <th>Transmission</th>\n    </tr>\n  </thead>\n  <tbody>\n    <tr>\n      <th>0</th>\n      <td>Used</td>\n      <td>47649</td>\n      <td>48950.0</td>\n      <td>2012</td>\n      <td>Porsche</td>\n      <td>911</td>\n      <td>Carrera</td>\n      <td>Black</td>\n      <td>Edition</td>\n      <td>Black</td>\n      <td>Automatic</td>\n    </tr>\n    <tr>\n      <th>1</th>\n      <td>Used</td>\n      <td>19020</td>\n      <td>67988.0</td>\n      <td>2015</td>\n      <td>Porsche</td>\n      <td>911</td>\n      <td>Carrera</td>\n      <td>Base</td>\n      <td>Hardtop</td>\n      <td>Black</td>\n      <td>Automatic</td>\n    </tr>\n    <tr>\n      <th>3</th>\n      <td>Used</td>\n      <td>56436</td>\n      <td>51990.0</td>\n      <td>2012</td>\n      <td>Porsche</td>\n      <td>911</td>\n      <td>Carrera</td>\n      <td>S</td>\n      <td>Hardtop</td>\n      <td>Black</td>\n      <td>Automatic</td>\n    </tr>\n    <tr>\n      <th>4</th>\n      <td>Used</td>\n      <td>85000</td>\n      <td>34900.0</td>\n      <td>2009</td>\n      <td>Porsche</td>\n      <td>911</td>\n      <td>Carrera</td>\n      <td>S</td>\n      <td>Cabriolet</td>\n      <td>Black</td>\n      <td>Automatic</td>\n    </tr>\n    <tr>\n      <th>5</th>\n      <td>Used</td>\n      <td>15808</td>\n      <td>96995.0</td>\n      <td>2018</td>\n      <td>Porsche</td>\n      <td>911</td>\n      <td>Carrera</td>\n      <td>S</td>\n      <td>Hardtop</td>\n      <td>Black</td>\n      <td>Automatic</td>\n    </tr>\n    <tr>\n      <th>...</th>\n      <td>...</td>\n      <td>...</td>\n      <td>...</td>\n      <td>...</td>\n      <td>...</td>\n      <td>...</td>\n      <td>...</td>\n      <td>...</td>\n      <td>...</td>\n      <td>...</td>\n      <td>...</td>\n    </tr>\n    <tr>\n      <th>1493</th>\n      <td>Used</td>\n      <td>19826</td>\n      <td>99950.0</td>\n      <td>2017</td>\n      <td>Porsche</td>\n      <td>911</td>\n      <td>Carrera</td>\n      <td>4S</td>\n      <td>Hardtop</td>\n      <td>White</td>\n      <td>Manual</td>\n    </tr>\n    <tr>\n      <th>1494</th>\n      <td>Used</td>\n      <td>15710</td>\n      <td>89995.0</td>\n      <td>2016</td>\n      <td>Porsche</td>\n      <td>911</td>\n      <td>Carrera</td>\n      <td>4S</td>\n      <td>Hardtop</td>\n      <td>White</td>\n      <td>Manual</td>\n    </tr>\n    <tr>\n      <th>1495</th>\n      <td>Used</td>\n      <td>502</td>\n      <td>93900.0</td>\n      <td>2018</td>\n      <td>Porsche</td>\n      <td>911</td>\n      <td>Carrera</td>\n      <td>T</td>\n      <td>Hardtop</td>\n      <td>White</td>\n      <td>Manual</td>\n    </tr>\n    <tr>\n      <th>1496</th>\n      <td>Used</td>\n      <td>5182</td>\n      <td>81995.0</td>\n      <td>2016</td>\n      <td>Porsche</td>\n      <td>911</td>\n      <td>Carrera</td>\n      <td>S</td>\n      <td>Hardtop</td>\n      <td>White</td>\n      <td>Manual</td>\n    </tr>\n    <tr>\n      <th>1501</th>\n      <td>Porsche Certified</td>\n      <td>10074</td>\n      <td>112000.0</td>\n      <td>2018</td>\n      <td>Porsche</td>\n      <td>911</td>\n      <td>Carrera</td>\n      <td>4S</td>\n      <td>Hardtop</td>\n      <td>White</td>\n      <td>Manual</td>\n    </tr>\n  </tbody>\n</table>\n<p>810 rows × 11 columns</p>\n</div>"
          },
          "metadata": {},
          "execution_count": 6
        }
      ]
    },
    {
      "cell_type": "code",
      "metadata": {
        "id": "3O15x4CgYQZh",
        "colab_type": "code",
        "outputId": "08033378-6362-46c5-fd88-f934aa966b91",
        "colab": {
          "base_uri": "https://localhost:8080/",
          "height": 105
        }
      },
      "source": [
        "df['Cabriolet'].value_counts()"
      ],
      "execution_count": 7,
      "outputs": [
        {
          "output_type": "execute_result",
          "data": {
            "text/plain": "Hardtop      736\nCabriolet     69\nEdition        4\nBlack          1\nName: Cabriolet, dtype: int64"
          },
          "metadata": {},
          "execution_count": 7
        }
      ]
    },
    {
      "cell_type": "code",
      "metadata": {
        "id": "9xlaMAukZAwP",
        "colab_type": "code",
        "outputId": "c22d4d89-d47a-4235-9e52-a0549aebdd61",
        "colab": {
          "base_uri": "https://localhost:8080/",
          "height": 230
        }
      },
      "source": [
        "df.isnull().sum()"
      ],
      "execution_count": 8,
      "outputs": [
        {
          "output_type": "execute_result",
          "data": {
            "text/plain": "condition       0\nmilage          0\nPrice           0\nYear            0\nBrand           0\nModel           0\nModel_Vers      0\nS_RS            0\nCabriolet       0\nColor           0\nTransmission    0\ndtype: int64"
          },
          "metadata": {},
          "execution_count": 8
        }
      ]
    },
    {
      "cell_type": "code",
      "metadata": {
        "id": "XD6vcCjvYemr",
        "colab_type": "code",
        "colab": {}
      },
      "source": [
        "df['Cabriolet'] = df['Cabriolet'].replace(\"Black\",'Hardtop')"
      ],
      "execution_count": 9,
      "outputs": []
    },
    {
      "cell_type": "code",
      "metadata": {
        "colab_type": "code",
        "id": "-tdTHFnrY5Ao",
        "colab": {}
      },
      "source": [
        "df['Cabriolet'] = df['Cabriolet'].replace(\"Edition\",'Hardtop')"
      ],
      "execution_count": 10,
      "outputs": []
    },
    {
      "cell_type": "code",
      "metadata": {
        "id": "Sf8jlHVzY2Ry",
        "colab_type": "code",
        "colab": {}
      },
      "source": [
        "df['Price'] = df['Price'].astype(int)"
      ],
      "execution_count": 11,
      "outputs": []
    },
    {
      "cell_type": "code",
      "metadata": {
        "id": "_uLEAlGjal7U",
        "colab_type": "code",
        "outputId": "e876f2d3-8372-4fce-bf28-8f42e7c4eee0",
        "colab": {
          "base_uri": "https://localhost:8080/",
          "height": 230
        }
      },
      "source": [
        "df.dtypes"
      ],
      "execution_count": 12,
      "outputs": [
        {
          "output_type": "execute_result",
          "data": {
            "text/plain": "condition       object\nmilage           int64\nPrice            int32\nYear             int64\nBrand           object\nModel            int64\nModel_Vers      object\nS_RS            object\nCabriolet       object\nColor           object\nTransmission    object\ndtype: object"
          },
          "metadata": {},
          "execution_count": 12
        }
      ]
    },
    {
      "cell_type": "code",
      "metadata": {
        "id": "eB7rYEo2aosx",
        "colab_type": "code",
        "outputId": "e498c4ef-128b-4b54-d923-f455f0209737",
        "colab": {
          "base_uri": "https://localhost:8080/",
          "height": 70
        }
      },
      "source": [
        "df.condition.value_counts(normalize=True)"
      ],
      "execution_count": 10,
      "outputs": [
        {
          "output_type": "execute_result",
          "data": {
            "text/plain": "Used                 0.84321\nPorsche Certified    0.15679\nName: condition, dtype: float64"
          },
          "metadata": {},
          "execution_count": 10
        }
      ]
    },
    {
      "cell_type": "code",
      "metadata": {
        "id": "aslU4xWya1Te",
        "colab_type": "code",
        "colab": {}
      },
      "source": [
        "df['condition'] = df['condition'].replace(\"Porsche Certified\",'CPO')"
      ],
      "execution_count": 13,
      "outputs": []
    },
    {
      "cell_type": "code",
      "metadata": {
        "id": "DqHQrh3Ha9QL",
        "colab_type": "code",
        "colab": {}
      },
      "source": [
        "from sklearn.model_selection import train_test_split\n",
        "train, test= train_test_split(df, test_size=0.20, random_state=2)"
      ],
      "execution_count": 14,
      "outputs": []
    },
    {
      "cell_type": "code",
      "metadata": {
        "id": "b3bQE5U7hsOB",
        "colab_type": "code",
        "colab": {}
      },
      "source": [
        ""
      ],
      "execution_count": 0,
      "outputs": []
    },
    {
      "cell_type": "code",
      "metadata": {
        "id": "FA0xZeJHcDHL",
        "colab_type": "code",
        "outputId": "1bbd41c4-d72e-4954-c1f7-59774e22f065",
        "colab": {
          "base_uri": "https://localhost:8080/",
          "height": 406
        }
      },
      "source": [
        "train"
      ],
      "execution_count": 15,
      "outputs": [
        {
          "output_type": "execute_result",
          "data": {
            "text/plain": "     condition  milage   Price  Year    Brand  Model Model_Vers  S_RS  \\\n1494      Used   15710   89995  2016  Porsche    911    Carrera    4S   \n1176      Used   35750   39300  2008  Porsche    911    Carrera     S   \n692       Used   26324   59000  2010  Porsche    911    Carrera    4S   \n758       Used  130000   34900  2013  Porsche    911    Carrera  Base   \n825       Used    4113  103995  2017  Porsche    911    Carrera  Base   \n...        ...     ...     ...   ...      ...    ...        ...   ...   \n1047       CPO   34541   84995  2018  Porsche    911    Carrera  Base   \n1151       CPO   17066   89957  2015  Porsche    911    Carrera   GTS   \n938       Used   40700   66999  2017  Porsche    911    Carrera  Base   \n1035      Used   26067   94951  2017  Porsche    911    Carrera     S   \n324       Used   23000   76500  2015  Porsche    911    Carrera     S   \n\n      Cabriolet        Color Transmission  \n1494    Hardtop        White       Manual  \n1176  Cabriolet        Black       Manual  \n692   Cabriolet        Other    Automatic  \n758     Hardtop  Gray/Silver    Automatic  \n825     Hardtop        White    Automatic  \n...         ...          ...          ...  \n1047    Hardtop        White    Automatic  \n1151    Hardtop          Red    Automatic  \n938     Hardtop        White    Automatic  \n1035    Hardtop        White    Automatic  \n324     Hardtop        Black    Automatic  \n\n[648 rows x 11 columns]",
            "text/html": "<div>\n<style scoped>\n    .dataframe tbody tr th:only-of-type {\n        vertical-align: middle;\n    }\n\n    .dataframe tbody tr th {\n        vertical-align: top;\n    }\n\n    .dataframe thead th {\n        text-align: right;\n    }\n</style>\n<table border=\"1\" class=\"dataframe\">\n  <thead>\n    <tr style=\"text-align: right;\">\n      <th></th>\n      <th>condition</th>\n      <th>milage</th>\n      <th>Price</th>\n      <th>Year</th>\n      <th>Brand</th>\n      <th>Model</th>\n      <th>Model_Vers</th>\n      <th>S_RS</th>\n      <th>Cabriolet</th>\n      <th>Color</th>\n      <th>Transmission</th>\n    </tr>\n  </thead>\n  <tbody>\n    <tr>\n      <th>1494</th>\n      <td>Used</td>\n      <td>15710</td>\n      <td>89995</td>\n      <td>2016</td>\n      <td>Porsche</td>\n      <td>911</td>\n      <td>Carrera</td>\n      <td>4S</td>\n      <td>Hardtop</td>\n      <td>White</td>\n      <td>Manual</td>\n    </tr>\n    <tr>\n      <th>1176</th>\n      <td>Used</td>\n      <td>35750</td>\n      <td>39300</td>\n      <td>2008</td>\n      <td>Porsche</td>\n      <td>911</td>\n      <td>Carrera</td>\n      <td>S</td>\n      <td>Cabriolet</td>\n      <td>Black</td>\n      <td>Manual</td>\n    </tr>\n    <tr>\n      <th>692</th>\n      <td>Used</td>\n      <td>26324</td>\n      <td>59000</td>\n      <td>2010</td>\n      <td>Porsche</td>\n      <td>911</td>\n      <td>Carrera</td>\n      <td>4S</td>\n      <td>Cabriolet</td>\n      <td>Other</td>\n      <td>Automatic</td>\n    </tr>\n    <tr>\n      <th>758</th>\n      <td>Used</td>\n      <td>130000</td>\n      <td>34900</td>\n      <td>2013</td>\n      <td>Porsche</td>\n      <td>911</td>\n      <td>Carrera</td>\n      <td>Base</td>\n      <td>Hardtop</td>\n      <td>Gray/Silver</td>\n      <td>Automatic</td>\n    </tr>\n    <tr>\n      <th>825</th>\n      <td>Used</td>\n      <td>4113</td>\n      <td>103995</td>\n      <td>2017</td>\n      <td>Porsche</td>\n      <td>911</td>\n      <td>Carrera</td>\n      <td>Base</td>\n      <td>Hardtop</td>\n      <td>White</td>\n      <td>Automatic</td>\n    </tr>\n    <tr>\n      <th>...</th>\n      <td>...</td>\n      <td>...</td>\n      <td>...</td>\n      <td>...</td>\n      <td>...</td>\n      <td>...</td>\n      <td>...</td>\n      <td>...</td>\n      <td>...</td>\n      <td>...</td>\n      <td>...</td>\n    </tr>\n    <tr>\n      <th>1047</th>\n      <td>CPO</td>\n      <td>34541</td>\n      <td>84995</td>\n      <td>2018</td>\n      <td>Porsche</td>\n      <td>911</td>\n      <td>Carrera</td>\n      <td>Base</td>\n      <td>Hardtop</td>\n      <td>White</td>\n      <td>Automatic</td>\n    </tr>\n    <tr>\n      <th>1151</th>\n      <td>CPO</td>\n      <td>17066</td>\n      <td>89957</td>\n      <td>2015</td>\n      <td>Porsche</td>\n      <td>911</td>\n      <td>Carrera</td>\n      <td>GTS</td>\n      <td>Hardtop</td>\n      <td>Red</td>\n      <td>Automatic</td>\n    </tr>\n    <tr>\n      <th>938</th>\n      <td>Used</td>\n      <td>40700</td>\n      <td>66999</td>\n      <td>2017</td>\n      <td>Porsche</td>\n      <td>911</td>\n      <td>Carrera</td>\n      <td>Base</td>\n      <td>Hardtop</td>\n      <td>White</td>\n      <td>Automatic</td>\n    </tr>\n    <tr>\n      <th>1035</th>\n      <td>Used</td>\n      <td>26067</td>\n      <td>94951</td>\n      <td>2017</td>\n      <td>Porsche</td>\n      <td>911</td>\n      <td>Carrera</td>\n      <td>S</td>\n      <td>Hardtop</td>\n      <td>White</td>\n      <td>Automatic</td>\n    </tr>\n    <tr>\n      <th>324</th>\n      <td>Used</td>\n      <td>23000</td>\n      <td>76500</td>\n      <td>2015</td>\n      <td>Porsche</td>\n      <td>911</td>\n      <td>Carrera</td>\n      <td>S</td>\n      <td>Hardtop</td>\n      <td>Black</td>\n      <td>Automatic</td>\n    </tr>\n  </tbody>\n</table>\n<p>648 rows × 11 columns</p>\n</div>"
          },
          "metadata": {},
          "execution_count": 15
        }
      ]
    },
    {
      "cell_type": "code",
      "metadata": {
        "id": "YUXqy1xPc45p",
        "colab_type": "code",
        "outputId": "a0b7131e-792d-45a3-c090-7b5e8e6ddb1f",
        "colab": {
          "base_uri": "https://localhost:8080/",
          "height": 406
        }
      },
      "source": [
        "test"
      ],
      "execution_count": 16,
      "outputs": [
        {
          "output_type": "execute_result",
          "data": {
            "text/plain": "     condition  milage   Price  Year    Brand  Model Model_Vers  S_RS  \\\n830       Used   36843   78777  2015  Porsche    911    Carrera     S   \n244       Used   22789  103900  2017  Porsche    911    Carrera    4S   \n226        CPO   13220  106900  2017  Porsche    911    Carrera    4S   \n1020      Used   21136   73995  2013  Porsche    911    Carrera     S   \n606       Used   35103   68398  2018  Porsche    911    Carrera  Base   \n...        ...     ...     ...   ...      ...    ...        ...   ...   \n1098      Used    5517   99495  2019  Porsche    911    Carrera     T   \n1408      Used   17000   35000  2008  Porsche    911    Carrera     S   \n936       Used   26775   67500  2013  Porsche    911    Carrera     S   \n1261      Used   22463   56997  2013  Porsche    911    Carrera  Base   \n532       Used   28822   76900  2014  Porsche    911    Carrera    4S   \n\n      Cabriolet        Color Transmission  \n830     Hardtop        White    Automatic  \n244     Hardtop        Black    Automatic  \n226     Hardtop        Black    Automatic  \n1020    Hardtop        White    Automatic  \n606     Hardtop        Other    Automatic  \n...         ...          ...          ...  \n1098    Hardtop          Red    Automatic  \n1408  Cabriolet        Other       Manual  \n936     Hardtop        White    Automatic  \n1261    Hardtop  Gray/Silver       Manual  \n532     Hardtop        Other    Automatic  \n\n[162 rows x 11 columns]",
            "text/html": "<div>\n<style scoped>\n    .dataframe tbody tr th:only-of-type {\n        vertical-align: middle;\n    }\n\n    .dataframe tbody tr th {\n        vertical-align: top;\n    }\n\n    .dataframe thead th {\n        text-align: right;\n    }\n</style>\n<table border=\"1\" class=\"dataframe\">\n  <thead>\n    <tr style=\"text-align: right;\">\n      <th></th>\n      <th>condition</th>\n      <th>milage</th>\n      <th>Price</th>\n      <th>Year</th>\n      <th>Brand</th>\n      <th>Model</th>\n      <th>Model_Vers</th>\n      <th>S_RS</th>\n      <th>Cabriolet</th>\n      <th>Color</th>\n      <th>Transmission</th>\n    </tr>\n  </thead>\n  <tbody>\n    <tr>\n      <th>830</th>\n      <td>Used</td>\n      <td>36843</td>\n      <td>78777</td>\n      <td>2015</td>\n      <td>Porsche</td>\n      <td>911</td>\n      <td>Carrera</td>\n      <td>S</td>\n      <td>Hardtop</td>\n      <td>White</td>\n      <td>Automatic</td>\n    </tr>\n    <tr>\n      <th>244</th>\n      <td>Used</td>\n      <td>22789</td>\n      <td>103900</td>\n      <td>2017</td>\n      <td>Porsche</td>\n      <td>911</td>\n      <td>Carrera</td>\n      <td>4S</td>\n      <td>Hardtop</td>\n      <td>Black</td>\n      <td>Automatic</td>\n    </tr>\n    <tr>\n      <th>226</th>\n      <td>CPO</td>\n      <td>13220</td>\n      <td>106900</td>\n      <td>2017</td>\n      <td>Porsche</td>\n      <td>911</td>\n      <td>Carrera</td>\n      <td>4S</td>\n      <td>Hardtop</td>\n      <td>Black</td>\n      <td>Automatic</td>\n    </tr>\n    <tr>\n      <th>1020</th>\n      <td>Used</td>\n      <td>21136</td>\n      <td>73995</td>\n      <td>2013</td>\n      <td>Porsche</td>\n      <td>911</td>\n      <td>Carrera</td>\n      <td>S</td>\n      <td>Hardtop</td>\n      <td>White</td>\n      <td>Automatic</td>\n    </tr>\n    <tr>\n      <th>606</th>\n      <td>Used</td>\n      <td>35103</td>\n      <td>68398</td>\n      <td>2018</td>\n      <td>Porsche</td>\n      <td>911</td>\n      <td>Carrera</td>\n      <td>Base</td>\n      <td>Hardtop</td>\n      <td>Other</td>\n      <td>Automatic</td>\n    </tr>\n    <tr>\n      <th>...</th>\n      <td>...</td>\n      <td>...</td>\n      <td>...</td>\n      <td>...</td>\n      <td>...</td>\n      <td>...</td>\n      <td>...</td>\n      <td>...</td>\n      <td>...</td>\n      <td>...</td>\n      <td>...</td>\n    </tr>\n    <tr>\n      <th>1098</th>\n      <td>Used</td>\n      <td>5517</td>\n      <td>99495</td>\n      <td>2019</td>\n      <td>Porsche</td>\n      <td>911</td>\n      <td>Carrera</td>\n      <td>T</td>\n      <td>Hardtop</td>\n      <td>Red</td>\n      <td>Automatic</td>\n    </tr>\n    <tr>\n      <th>1408</th>\n      <td>Used</td>\n      <td>17000</td>\n      <td>35000</td>\n      <td>2008</td>\n      <td>Porsche</td>\n      <td>911</td>\n      <td>Carrera</td>\n      <td>S</td>\n      <td>Cabriolet</td>\n      <td>Other</td>\n      <td>Manual</td>\n    </tr>\n    <tr>\n      <th>936</th>\n      <td>Used</td>\n      <td>26775</td>\n      <td>67500</td>\n      <td>2013</td>\n      <td>Porsche</td>\n      <td>911</td>\n      <td>Carrera</td>\n      <td>S</td>\n      <td>Hardtop</td>\n      <td>White</td>\n      <td>Automatic</td>\n    </tr>\n    <tr>\n      <th>1261</th>\n      <td>Used</td>\n      <td>22463</td>\n      <td>56997</td>\n      <td>2013</td>\n      <td>Porsche</td>\n      <td>911</td>\n      <td>Carrera</td>\n      <td>Base</td>\n      <td>Hardtop</td>\n      <td>Gray/Silver</td>\n      <td>Manual</td>\n    </tr>\n    <tr>\n      <th>532</th>\n      <td>Used</td>\n      <td>28822</td>\n      <td>76900</td>\n      <td>2014</td>\n      <td>Porsche</td>\n      <td>911</td>\n      <td>Carrera</td>\n      <td>4S</td>\n      <td>Hardtop</td>\n      <td>Other</td>\n      <td>Automatic</td>\n    </tr>\n  </tbody>\n</table>\n<p>162 rows × 11 columns</p>\n</div>"
          },
          "metadata": {},
          "execution_count": 16
        }
      ]
    },
    {
      "cell_type": "code",
      "metadata": {
        "id": "K9H-qFr3c54x",
        "colab_type": "code",
        "colab": {}
      },
      "source": [
        "feature = ['condition','milage','Year','S_RS','Cabriolet','Color','Transmission']\n",
        "target = 'Price'\n",
        "X_train = train[feature]\n",
        "X_test = test[feature]\n",
        "Y_test = test[target]\n",
        "Y_train = train[target]"
      ],
      "execution_count": 17,
      "outputs": []
    },
    {
      "cell_type": "code",
      "metadata": {
        "id": "zSgLO81geFji",
        "colab_type": "code",
        "outputId": "53731534-06ce-4377-d576-ee00c7dd5889",
        "colab": {
          "base_uri": "https://localhost:8080/",
          "height": 283
        }
      },
      "source": [
        "!pip install category_encoders"
      ],
      "execution_count": 18,
      "outputs": [
        {
          "output_type": "stream",
          "name": "stdout",
          "text": "Requirement already satisfied: category_encoders in c:\\users\\sasana kongjareon\\anaconda3\\lib\\site-packages (2.2.2)\nRequirement already satisfied: numpy>=1.14.0 in c:\\users\\sasana kongjareon\\anaconda3\\lib\\site-packages (from category_encoders) (1.18.1)\nRequirement already satisfied: scikit-learn>=0.20.0 in c:\\users\\sasana kongjareon\\anaconda3\\lib\\site-packages (from category_encoders) (0.22.1)\nRequirement already satisfied: pandas>=0.21.1 in c:\\users\\sasana kongjareon\\anaconda3\\lib\\site-packages (from category_encoders) (1.0.4)\nRequirement already satisfied: scipy>=1.0.0 in c:\\users\\sasana kongjareon\\anaconda3\\lib\\site-packages (from category_encoders) (1.4.1)\nRequirement already satisfied: patsy>=0.5.1 in c:\\users\\sasana kongjareon\\anaconda3\\lib\\site-packages (from category_encoders) (0.5.1)\nRequirement already satisfied: statsmodels>=0.9.0 in c:\\users\\sasana kongjareon\\anaconda3\\lib\\site-packages (from category_encoders) (0.11.0)\nRequirement already satisfied: joblib>=0.11 in c:\\users\\sasana kongjareon\\anaconda3\\lib\\site-packages (from scikit-learn>=0.20.0->category_encoders) (0.14.1)\nRequirement already satisfied: python-dateutil>=2.6.1 in c:\\users\\sasana kongjareon\\anaconda3\\lib\\site-packages (from pandas>=0.21.1->category_encoders) (2.8.1)\nRequirement already satisfied: pytz>=2017.2 in c:\\users\\sasana kongjareon\\anaconda3\\lib\\site-packages (from pandas>=0.21.1->category_encoders) (2019.3)\nRequirement already satisfied: six in c:\\users\\sasana kongjareon\\anaconda3\\lib\\site-packages (from patsy>=0.5.1->category_encoders) (1.14.0)\n"
        }
      ]
    },
    {
      "cell_type": "code",
      "metadata": {
        "id": "Pmzy9lAVdQnc",
        "colab_type": "code",
        "outputId": "9f259b6b-801e-4a37-c446-637a941c0213",
        "colab": {
          "base_uri": "https://localhost:8080/",
          "height": 52
        }
      },
      "source": [
        "import category_encoders as ce\n",
        "encoder = ce.OneHotEncoder(use_cat_names=True)"
      ],
      "execution_count": 19,
      "outputs": []
    },
    {
      "cell_type": "code",
      "metadata": {
        "id": "78_uFQtReodF",
        "colab_type": "code",
        "outputId": "bef2f617-1b19-449d-fee1-ceaec749d4b9",
        "colab": {
          "base_uri": "https://localhost:8080/",
          "height": 406
        }
      },
      "source": [
        "X_test"
      ],
      "execution_count": 20,
      "outputs": [
        {
          "output_type": "execute_result",
          "data": {
            "text/plain": "     condition  milage  Year  S_RS  Cabriolet        Color Transmission\n830       Used   36843  2015     S    Hardtop        White    Automatic\n244       Used   22789  2017    4S    Hardtop        Black    Automatic\n226        CPO   13220  2017    4S    Hardtop        Black    Automatic\n1020      Used   21136  2013     S    Hardtop        White    Automatic\n606       Used   35103  2018  Base    Hardtop        Other    Automatic\n...        ...     ...   ...   ...        ...          ...          ...\n1098      Used    5517  2019     T    Hardtop          Red    Automatic\n1408      Used   17000  2008     S  Cabriolet        Other       Manual\n936       Used   26775  2013     S    Hardtop        White    Automatic\n1261      Used   22463  2013  Base    Hardtop  Gray/Silver       Manual\n532       Used   28822  2014    4S    Hardtop        Other    Automatic\n\n[162 rows x 7 columns]",
            "text/html": "<div>\n<style scoped>\n    .dataframe tbody tr th:only-of-type {\n        vertical-align: middle;\n    }\n\n    .dataframe tbody tr th {\n        vertical-align: top;\n    }\n\n    .dataframe thead th {\n        text-align: right;\n    }\n</style>\n<table border=\"1\" class=\"dataframe\">\n  <thead>\n    <tr style=\"text-align: right;\">\n      <th></th>\n      <th>condition</th>\n      <th>milage</th>\n      <th>Year</th>\n      <th>S_RS</th>\n      <th>Cabriolet</th>\n      <th>Color</th>\n      <th>Transmission</th>\n    </tr>\n  </thead>\n  <tbody>\n    <tr>\n      <th>830</th>\n      <td>Used</td>\n      <td>36843</td>\n      <td>2015</td>\n      <td>S</td>\n      <td>Hardtop</td>\n      <td>White</td>\n      <td>Automatic</td>\n    </tr>\n    <tr>\n      <th>244</th>\n      <td>Used</td>\n      <td>22789</td>\n      <td>2017</td>\n      <td>4S</td>\n      <td>Hardtop</td>\n      <td>Black</td>\n      <td>Automatic</td>\n    </tr>\n    <tr>\n      <th>226</th>\n      <td>CPO</td>\n      <td>13220</td>\n      <td>2017</td>\n      <td>4S</td>\n      <td>Hardtop</td>\n      <td>Black</td>\n      <td>Automatic</td>\n    </tr>\n    <tr>\n      <th>1020</th>\n      <td>Used</td>\n      <td>21136</td>\n      <td>2013</td>\n      <td>S</td>\n      <td>Hardtop</td>\n      <td>White</td>\n      <td>Automatic</td>\n    </tr>\n    <tr>\n      <th>606</th>\n      <td>Used</td>\n      <td>35103</td>\n      <td>2018</td>\n      <td>Base</td>\n      <td>Hardtop</td>\n      <td>Other</td>\n      <td>Automatic</td>\n    </tr>\n    <tr>\n      <th>...</th>\n      <td>...</td>\n      <td>...</td>\n      <td>...</td>\n      <td>...</td>\n      <td>...</td>\n      <td>...</td>\n      <td>...</td>\n    </tr>\n    <tr>\n      <th>1098</th>\n      <td>Used</td>\n      <td>5517</td>\n      <td>2019</td>\n      <td>T</td>\n      <td>Hardtop</td>\n      <td>Red</td>\n      <td>Automatic</td>\n    </tr>\n    <tr>\n      <th>1408</th>\n      <td>Used</td>\n      <td>17000</td>\n      <td>2008</td>\n      <td>S</td>\n      <td>Cabriolet</td>\n      <td>Other</td>\n      <td>Manual</td>\n    </tr>\n    <tr>\n      <th>936</th>\n      <td>Used</td>\n      <td>26775</td>\n      <td>2013</td>\n      <td>S</td>\n      <td>Hardtop</td>\n      <td>White</td>\n      <td>Automatic</td>\n    </tr>\n    <tr>\n      <th>1261</th>\n      <td>Used</td>\n      <td>22463</td>\n      <td>2013</td>\n      <td>Base</td>\n      <td>Hardtop</td>\n      <td>Gray/Silver</td>\n      <td>Manual</td>\n    </tr>\n    <tr>\n      <th>532</th>\n      <td>Used</td>\n      <td>28822</td>\n      <td>2014</td>\n      <td>4S</td>\n      <td>Hardtop</td>\n      <td>Other</td>\n      <td>Automatic</td>\n    </tr>\n  </tbody>\n</table>\n<p>162 rows × 7 columns</p>\n</div>"
          },
          "metadata": {},
          "execution_count": 20
        }
      ]
    },
    {
      "cell_type": "code",
      "metadata": {
        "id": "jrSG9ioQesLf",
        "colab_type": "code",
        "outputId": "5d813412-80c9-4491-dc30-2eb288a92164",
        "colab": {
          "base_uri": "https://localhost:8080/",
          "height": 406
        }
      },
      "source": [
        "X_train"
      ],
      "execution_count": 21,
      "outputs": [
        {
          "output_type": "execute_result",
          "data": {
            "text/plain": "     condition  milage  Year  S_RS  Cabriolet        Color Transmission\n1494      Used   15710  2016    4S    Hardtop        White       Manual\n1176      Used   35750  2008     S  Cabriolet        Black       Manual\n692       Used   26324  2010    4S  Cabriolet        Other    Automatic\n758       Used  130000  2013  Base    Hardtop  Gray/Silver    Automatic\n825       Used    4113  2017  Base    Hardtop        White    Automatic\n...        ...     ...   ...   ...        ...          ...          ...\n1047       CPO   34541  2018  Base    Hardtop        White    Automatic\n1151       CPO   17066  2015   GTS    Hardtop          Red    Automatic\n938       Used   40700  2017  Base    Hardtop        White    Automatic\n1035      Used   26067  2017     S    Hardtop        White    Automatic\n324       Used   23000  2015     S    Hardtop        Black    Automatic\n\n[648 rows x 7 columns]",
            "text/html": "<div>\n<style scoped>\n    .dataframe tbody tr th:only-of-type {\n        vertical-align: middle;\n    }\n\n    .dataframe tbody tr th {\n        vertical-align: top;\n    }\n\n    .dataframe thead th {\n        text-align: right;\n    }\n</style>\n<table border=\"1\" class=\"dataframe\">\n  <thead>\n    <tr style=\"text-align: right;\">\n      <th></th>\n      <th>condition</th>\n      <th>milage</th>\n      <th>Year</th>\n      <th>S_RS</th>\n      <th>Cabriolet</th>\n      <th>Color</th>\n      <th>Transmission</th>\n    </tr>\n  </thead>\n  <tbody>\n    <tr>\n      <th>1494</th>\n      <td>Used</td>\n      <td>15710</td>\n      <td>2016</td>\n      <td>4S</td>\n      <td>Hardtop</td>\n      <td>White</td>\n      <td>Manual</td>\n    </tr>\n    <tr>\n      <th>1176</th>\n      <td>Used</td>\n      <td>35750</td>\n      <td>2008</td>\n      <td>S</td>\n      <td>Cabriolet</td>\n      <td>Black</td>\n      <td>Manual</td>\n    </tr>\n    <tr>\n      <th>692</th>\n      <td>Used</td>\n      <td>26324</td>\n      <td>2010</td>\n      <td>4S</td>\n      <td>Cabriolet</td>\n      <td>Other</td>\n      <td>Automatic</td>\n    </tr>\n    <tr>\n      <th>758</th>\n      <td>Used</td>\n      <td>130000</td>\n      <td>2013</td>\n      <td>Base</td>\n      <td>Hardtop</td>\n      <td>Gray/Silver</td>\n      <td>Automatic</td>\n    </tr>\n    <tr>\n      <th>825</th>\n      <td>Used</td>\n      <td>4113</td>\n      <td>2017</td>\n      <td>Base</td>\n      <td>Hardtop</td>\n      <td>White</td>\n      <td>Automatic</td>\n    </tr>\n    <tr>\n      <th>...</th>\n      <td>...</td>\n      <td>...</td>\n      <td>...</td>\n      <td>...</td>\n      <td>...</td>\n      <td>...</td>\n      <td>...</td>\n    </tr>\n    <tr>\n      <th>1047</th>\n      <td>CPO</td>\n      <td>34541</td>\n      <td>2018</td>\n      <td>Base</td>\n      <td>Hardtop</td>\n      <td>White</td>\n      <td>Automatic</td>\n    </tr>\n    <tr>\n      <th>1151</th>\n      <td>CPO</td>\n      <td>17066</td>\n      <td>2015</td>\n      <td>GTS</td>\n      <td>Hardtop</td>\n      <td>Red</td>\n      <td>Automatic</td>\n    </tr>\n    <tr>\n      <th>938</th>\n      <td>Used</td>\n      <td>40700</td>\n      <td>2017</td>\n      <td>Base</td>\n      <td>Hardtop</td>\n      <td>White</td>\n      <td>Automatic</td>\n    </tr>\n    <tr>\n      <th>1035</th>\n      <td>Used</td>\n      <td>26067</td>\n      <td>2017</td>\n      <td>S</td>\n      <td>Hardtop</td>\n      <td>White</td>\n      <td>Automatic</td>\n    </tr>\n    <tr>\n      <th>324</th>\n      <td>Used</td>\n      <td>23000</td>\n      <td>2015</td>\n      <td>S</td>\n      <td>Hardtop</td>\n      <td>Black</td>\n      <td>Automatic</td>\n    </tr>\n  </tbody>\n</table>\n<p>648 rows × 7 columns</p>\n</div>"
          },
          "metadata": {},
          "execution_count": 21
        }
      ]
    },
    {
      "cell_type": "code",
      "metadata": {
        "id": "JQt0T-t3fAAP",
        "colab_type": "code",
        "colab": {}
      },
      "source": [
        "X_train = encoder.fit_transform(X_train)"
      ],
      "execution_count": 22,
      "outputs": []
    },
    {
      "cell_type": "code",
      "metadata": {
        "id": "wZ0Poc6eeLyt",
        "colab_type": "code",
        "colab": {}
      },
      "source": [
        "X_test = encoder.fit_transform(X_test)"
      ],
      "execution_count": 23,
      "outputs": []
    },
    {
      "cell_type": "code",
      "metadata": {
        "id": "23v5dKr1eqwt",
        "colab_type": "code",
        "outputId": "9fcceb09-a718-49b2-f6b2-c8f28c9e96dc",
        "colab": {
          "base_uri": "https://localhost:8080/",
          "height": 34
        }
      },
      "source": [
        "from sklearn.linear_model import LinearRegression\n",
        "from sklearn.metrics import mean_absolute_error, mean_squared_error, r2_score\n",
        "\n",
        "model = LinearRegression()\n",
        "\n",
        "\n",
        "model.fit(X_train, Y_train)"
      ],
      "execution_count": 24,
      "outputs": [
        {
          "output_type": "execute_result",
          "data": {
            "text/plain": "LinearRegression(copy_X=True, fit_intercept=True, n_jobs=None, normalize=False)"
          },
          "metadata": {},
          "execution_count": 24
        }
      ]
    },
    {
      "cell_type": "code",
      "metadata": {
        "id": "eXINm9QBeVpg",
        "colab_type": "code",
        "outputId": "04be7ed7-ee43-437c-9a0d-4f4c985f2eb7",
        "colab": {
          "base_uri": "https://localhost:8080/",
          "height": 34
        }
      },
      "source": [
        "y_pred_train = model.predict(X_train)\n",
        "print(\"MAE(Train):$\",mean_absolute_error(Y_train, y_pred_train))"
      ],
      "execution_count": 25,
      "outputs": [
        {
          "output_type": "stream",
          "name": "stdout",
          "text": "MAE(Train):$ 5887.1435565924985\n"
        }
      ]
    },
    {
      "cell_type": "code",
      "metadata": {
        "id": "AAFOnwW0gyzT",
        "colab_type": "code",
        "outputId": "4d39958c-148f-47e0-e6fc-4a81def10709",
        "colab": {
          "base_uri": "https://localhost:8080/",
          "height": 34
        }
      },
      "source": [
        "r2_base = r2_score(Y_train, y_pred_train)\n",
        "print('R^2 scores (Train):',r2_base)"
      ],
      "execution_count": 26,
      "outputs": [
        {
          "output_type": "stream",
          "name": "stdout",
          "text": "R^2 scores (Train): 0.8526697531427914\n"
        }
      ]
    },
    {
      "cell_type": "code",
      "metadata": {
        "id": "M2e3bvFzhSyo",
        "colab_type": "code",
        "outputId": "6703de46-3c65-4fe8-8572-f2ba578f44a2",
        "colab": {
          "base_uri": "https://localhost:8080/",
          "height": 34
        }
      },
      "source": [
        "y_pred_val = model.predict(X_test)\n",
        "print(\"MAE(Val):$\",mean_absolute_error(Y_test, y_pred_val))"
      ],
      "execution_count": 27,
      "outputs": [
        {
          "output_type": "stream",
          "name": "stdout",
          "text": "MAE(Val):$ 9245.341766848309\n"
        }
      ]
    },
    {
      "cell_type": "code",
      "metadata": {
        "id": "8zYovyEwiKVv",
        "colab_type": "code",
        "outputId": "241ebcc2-15e0-46e7-e1c6-a02e892ac1b5",
        "colab": {
          "base_uri": "https://localhost:8080/",
          "height": 34
        }
      },
      "source": [
        "r2_base = r2_score(Y_test, y_pred_val)\n",
        "print('R^2 scores (Train):',r2_base)"
      ],
      "execution_count": 28,
      "outputs": [
        {
          "output_type": "stream",
          "name": "stdout",
          "text": "R^2 scores (Train): 0.6024955718824534\n"
        }
      ]
    },
    {
      "cell_type": "code",
      "metadata": {
        "id": "whHWYXGFiRef",
        "colab_type": "code",
        "outputId": "7489ca5f-460b-43b8-ae01-702deda4bb38",
        "colab": {
          "base_uri": "https://localhost:8080/",
          "height": 123
        }
      },
      "source": [
        "model.coef_"
      ],
      "execution_count": 29,
      "outputs": [
        {
          "output_type": "execute_result",
          "data": {
            "text/plain": "array([-1.31655432e+03,  1.31655432e+03, -3.33234590e-01,  3.96288098e+03,\n        2.70944244e+03, -2.65031358e+03, -1.14525798e+04,  1.85901607e+04,\n       -7.61778495e+03, -1.13169386e+04,  2.47773451e+04, -1.30393313e+04,\n       -1.01278027e+03,  1.01278027e+03, -5.60972173e+02, -2.61793715e+03,\n        5.96289735e+02,  3.28889368e+02,  1.37856716e+03,  8.75163062e+02,\n        1.05500997e+03, -1.05500997e+03])"
          },
          "metadata": {},
          "execution_count": 29
        }
      ]
    },
    {
      "cell_type": "code",
      "metadata": {
        "id": "O8ubp8Ufiqk-",
        "colab_type": "code",
        "outputId": "283e5920-79b2-4eda-b49f-f187e9dc2500",
        "colab": {
          "base_uri": "https://localhost:8080/",
          "height": 407
        }
      },
      "source": [
        "list(X_train)"
      ],
      "execution_count": 30,
      "outputs": [
        {
          "output_type": "execute_result",
          "data": {
            "text/plain": "['condition_Used',\n 'condition_CPO',\n 'milage',\n 'Year',\n 'S_RS_4S',\n 'S_RS_S',\n 'S_RS_Base',\n 'S_RS_GTS',\n 'S_RS_4',\n 'S_RS_T',\n 'S_RS_GTS4',\n 'S_RS_Black',\n 'Cabriolet_Hardtop',\n 'Cabriolet_Cabriolet',\n 'Color_White',\n 'Color_Black',\n 'Color_Other',\n 'Color_Gray/Silver',\n 'Color_Blue',\n 'Color_Red',\n 'Transmission_Manual',\n 'Transmission_Automatic']"
          },
          "metadata": {},
          "execution_count": 30
        }
      ]
    },
    {
      "cell_type": "code",
      "metadata": {
        "id": "tGtvDkX3jZBn",
        "colab_type": "code",
        "colab": {}
      },
      "source": [
        "condition_Used = 0\n",
        "condition_CPO = 1\n",
        "milage = 30000\n",
        "Year = 2016\n",
        "S_RS_4S = 0\n",
        "S_RS_S = 0\n",
        "S_RS_Base = 1\n",
        "S_RS_GTS = 0\n",
        "S_RS_4 = 0\n",
        "S_RS_T = 0\n",
        "S_RS_4GTS = 0\n",
        "S_RS_Black_Ed = 0\n",
        "Cabriolet_Hardtop = 0\n",
        "Cabriolet_Cabriolet= 1\n",
        "Color_White = 0\n",
        "Color_Black = 1\n",
        "Color_Other = 0\n",
        "Color_Gray_Silver = 0\n",
        "Color_Blue = 0\n",
        "Color_Red = 0\n",
        "Transmission_Manual = 0\n",
        "Transmission_Automatic = 1"
      ],
      "execution_count": 31,
      "outputs": []
    },
    {
      "cell_type": "code",
      "metadata": {
        "id": "xBA0qh8WihBj",
        "colab_type": "code",
        "colab": {}
      },
      "source": [
        "price = model.predict([[condition_Used,condition_CPO,milage,Year,S_RS_4S,S_RS_S\n",
        "                ,S_RS_Base,S_RS_GTS,S_RS_4,S_RS_T,S_RS_4GTS,\n",
        "                S_RS_Black_Ed,Cabriolet_Hardtop,Cabriolet_Cabriolet,Color_White,\n",
        "                Color_Black,Color_Other,Color_Gray_Silver,Color_Blue,Color_Red,Transmission_Automatic,\n",
        "                Transmission_Manual]])\n"
      ],
      "execution_count": 32,
      "outputs": []
    },
    {
      "cell_type": "code",
      "metadata": {
        "id": "2R43VOualuwL",
        "colab_type": "code",
        "outputId": "b05eef92-e7ea-4820-88cc-5c09a646fad5",
        "colab": {
          "base_uri": "https://localhost:8080/",
          "height": 34
        }
      },
      "source": [
        "print(\"Your 911 should be price at :$\",price)"
      ],
      "execution_count": 33,
      "outputs": [
        {
          "output_type": "stream",
          "name": "stdout",
          "text": "Your 911 should be price at :$ [75973.26777012]\n"
        }
      ]
    },
    {
      "cell_type": "code",
      "metadata": {
        "id": "idvL9kDIU1As",
        "colab_type": "code",
        "colab": {}
      },
      "source": [
        "dt = df.copy()"
      ],
      "execution_count": 34,
      "outputs": []
    },
    {
      "cell_type": "markdown",
      "metadata": {},
      "source": [
        "### Linear Model (Ridge)\n",
        "---"
      ]
    },
    {
      "cell_type": "code",
      "metadata": {
        "id": "GKUIjFOInYAv",
        "colab_type": "code",
        "outputId": "fe4fc491-d2e9-4efb-a0d7-c9079acc6465",
        "colab": {
          "base_uri": "https://localhost:8080/",
          "height": 406
        }
      },
      "source": [
        "from sklearn.model_selection import GridSearchCV, RandomizedSearchCV\n",
        "import category_encoders as ce\n",
        "import numpy as np\n",
        "from sklearn.feature_selection import f_regression, SelectKBest\n",
        "from sklearn.impute import SimpleImputer\n",
        "from sklearn.linear_model import Ridge\n",
        "from sklearn.model_selection import cross_val_score\n",
        "from sklearn.pipeline import make_pipeline\n",
        "from sklearn.preprocessing import StandardScaler\n",
        "\n",
        "pipeline = make_pipeline(\n",
        "    ce.OneHotEncoder(use_cat_names=True), \n",
        "    SimpleImputer(), \n",
        "    StandardScaler(), \n",
        "    SelectKBest(f_regression), \n",
        "    Ridge()\n",
        ")\n",
        "\n",
        "param_distributions = {\n",
        "    'simpleimputer__strategy': ['mean', 'median'], \n",
        "    'selectkbest__k': range(1, len(X_train.columns)+1), \n",
        "    'ridge__alpha': [0.1, 1, 10], \n",
        "}\n",
        "\n",
        "# If you're on Colab, decrease n_iter & cv parameters\n",
        "search = RandomizedSearchCV(\n",
        "    pipeline, \n",
        "    param_distributions=param_distributions, \n",
        "    n_iter=100, \n",
        "    cv=10, \n",
        "    scoring='neg_mean_absolute_error', \n",
        "    verbose=10, \n",
        "    return_train_score=True, \n",
        "    n_jobs=-1\n",
        ")\n",
        "\n",
        "search.fit(X_train, Y_train);"
      ],
      "execution_count": 35,
      "outputs": [
        {
          "output_type": "stream",
          "name": "stdout",
          "text": "Fitting 10 folds for each of 100 candidates, totalling 1000 fits\n[Parallel(n_jobs=-1)]: Using backend LokyBackend with 12 concurrent workers.\n[Parallel(n_jobs=-1)]: Done   1 tasks      | elapsed:    2.1s\n[Parallel(n_jobs=-1)]: Done   8 tasks      | elapsed:    2.2s\n[Parallel(n_jobs=-1)]: Done  17 tasks      | elapsed:    2.2s\n[Parallel(n_jobs=-1)]: Done  26 tasks      | elapsed:    2.3s\n[Parallel(n_jobs=-1)]: Done  37 tasks      | elapsed:    2.3s\n[Parallel(n_jobs=-1)]: Batch computation too fast (0.1817s.) Setting batch_size=2.\n[Parallel(n_jobs=-1)]: Done  48 tasks      | elapsed:    2.3s\n[Parallel(n_jobs=-1)]: Done  61 tasks      | elapsed:    2.4s\n[Parallel(n_jobs=-1)]: Batch computation too fast (0.0868s.) Setting batch_size=4.\n[Parallel(n_jobs=-1)]: Done  76 tasks      | elapsed:    2.5s\n[Parallel(n_jobs=-1)]: Done 106 tasks      | elapsed:    2.6s\n[Parallel(n_jobs=-1)]: Batch computation too fast (0.1885s.) Setting batch_size=8.\n[Parallel(n_jobs=-1)]: Done 152 tasks      | elapsed:    2.8s\n[Parallel(n_jobs=-1)]: Done 224 tasks      | elapsed:    3.0s\n[Parallel(n_jobs=-1)]: Done 360 tasks      | elapsed:    3.2s\n[Parallel(n_jobs=-1)]: Done 512 tasks      | elapsed:    3.4s\n[Parallel(n_jobs=-1)]: Done 664 tasks      | elapsed:    3.8s\n[Parallel(n_jobs=-1)]: Done 832 tasks      | elapsed:    4.0s\n[Parallel(n_jobs=-1)]: Done 1000 out of 1000 | elapsed:    4.2s finished\n"
        }
      ]
    },
    {
      "cell_type": "code",
      "execution_count": 36,
      "metadata": {},
      "outputs": [
        {
          "output_type": "stream",
          "name": "stdout",
          "text": "Best hyperparameters {'simpleimputer__strategy': 'median', 'selectkbest__k': 15, 'ridge__alpha': 1}\nCross-validation MAE 6045.1699218060685\n"
        }
      ],
      "source": [
        "print('Best hyperparameters', search.best_params_)\n",
        "print('Cross-validation MAE', -search.best_score_)"
      ]
    },
    {
      "cell_type": "code",
      "execution_count": 37,
      "metadata": {},
      "outputs": [
        {
          "output_type": "execute_result",
          "data": {
            "text/plain": "234.592   \n\n                                                                              0   \\\nmean_fit_time                                                           0.019847   \nstd_fit_time                                                          0.00229349   \nmean_score_time                                                       0.00169582   \nstd_score_time                                                       0.000456872   \nparam_simpleimputer__strategy                                               mean   \nparam_selectkbest__k                                                           3   \nparam_ridge__alpha                                                           0.1   \nparams                         {'simpleimputer__strategy': 'mean', 'selectkbe...   \nsplit0_test_score                                                       -6734.29   \nsplit1_test_score                                                       -6696.05   \nsplit2_test_score                                                       -8106.41   \nsplit3_test_score                                                       -10175.7   \nsplit4_test_score                                                       -7220.06   \nsplit5_test_score                                                       -8960.22   \nsplit6_test_score                                                       -10386.2   \nsplit7_test_score                                                       -10444.1   \nsplit8_test_score                                                       -9243.97   \nsplit9_test_score                                                       -7517.03   \nmean_test_score                                                         -8548.39   \nstd_test_score                                                           1414.85   \nrank_test_score                                                               94   \nsplit0_train_score                                                       -8727.3   \nsplit1_train_score                                                      -8724.72   \nsplit2_train_score                                                      -8580.51   \nsplit3_train_score                                                      -8322.27   \nsplit4_train_score                                                      -8685.32   \nsplit5_train_score                                                      -8385.99   \nsplit6_train_score                                                      -8274.17   \nsplit7_train_score                                                      -8300.21   \nsplit8_train_score                                                      -8435.37   \nsplit9_train_score                                                      -7947.08   \nmean_train_score                                                        -8438.29   \nstd_train_score                                                          234.589   \n\n                                                                              7   \\\nmean_fit_time                                                         0.00548546   \nstd_fit_time                                                         0.000804201   \nmean_score_time                                                       0.00139642   \nstd_score_time                                                       0.000488617   \nparam_simpleimputer__strategy                                             median   \nparam_selectkbest__k                                                           1   \nparam_ridge__alpha                                                            10   \nparams                         {'simpleimputer__strategy': 'median', 'selectk...   \nsplit0_test_score                                                       -9486.67   \nsplit1_test_score                                                        -8866.3   \nsplit2_test_score                                                        -9501.1   \nsplit3_test_score                                                       -10959.6   \nsplit4_test_score                                                       -7841.82   \nsplit5_test_score                                                       -11110.2   \nsplit6_test_score                                                       -12516.7   \nsplit7_test_score                                                       -11564.1   \nsplit8_test_score                                                       -9723.29   \nsplit9_test_score                                                       -9802.88   \nmean_test_score                                                         -10137.3   \nstd_test_score                                                            1315.9   \nrank_test_score                                                               95   \nsplit0_train_score                                                      -10169.3   \nsplit1_train_score                                                      -10245.5   \nsplit2_train_score                                                      -10172.6   \nsplit3_train_score                                                       -9997.1   \nsplit4_train_score                                                      -10354.1   \nsplit5_train_score                                                      -9951.66   \nsplit6_train_score                                                      -9815.26   \nsplit7_train_score                                                      -9956.14   \nsplit8_train_score                                                      -10146.1   \nsplit9_train_score                                                      -10154.4   \nmean_train_score                                                        -10096.2   \nstd_train_score                                                          153.329   \n\n                                                                              6   \\\nmean_fit_time                                                         0.00418847   \nstd_fit_time                                                         0.000869234   \nmean_score_time                                                       0.00109723   \nstd_score_time                                                       0.000299049   \nparam_simpleimputer__strategy                                               mean   \nparam_selectkbest__k                                                           1   \nparam_ridge__alpha                                                            10   \nparams                         {'simpleimputer__strategy': 'mean', 'selectkbe...   \nsplit0_test_score                                                       -9486.67   \nsplit1_test_score                                                        -8866.3   \nsplit2_test_score                                                        -9501.1   \nsplit3_test_score                                                       -10959.6   \nsplit4_test_score                                                       -7841.82   \nsplit5_test_score                                                       -11110.2   \nsplit6_test_score                                                       -12516.7   \nsplit7_test_score                                                       -11564.1   \nsplit8_test_score                                                       -9723.29   \nsplit9_test_score                                                       -9802.88   \nmean_test_score                                                         -10137.3   \nstd_test_score                                                            1315.9   \nrank_test_score                                                               95   \nsplit0_train_score                                                      -10169.3   \nsplit1_train_score                                                      -10245.5   \nsplit2_train_score                                                      -10172.6   \nsplit3_train_score                                                       -9997.1   \nsplit4_train_score                                                      -10354.1   \nsplit5_train_score                                                      -9951.66   \nsplit6_train_score                                                      -9815.26   \nsplit7_train_score                                                      -9956.14   \nsplit8_train_score                                                      -10146.1   \nsplit9_train_score                                                      -10154.4   \nmean_train_score                                                        -10096.2   \nstd_train_score                                                          153.329   \n\n                                                                              30  \\\nmean_fit_time                                                         0.00588434   \nstd_fit_time                                                         0.000940098   \nmean_score_time                                                       0.00159533   \nstd_score_time                                                       0.000488579   \nparam_simpleimputer__strategy                                               mean   \nparam_selectkbest__k                                                           1   \nparam_ridge__alpha                                                             1   \nparams                         {'simpleimputer__strategy': 'mean', 'selectkbe...   \nsplit0_test_score                                                        -9468.1   \nsplit1_test_score                                                       -8930.84   \nsplit2_test_score                                                       -9517.23   \nsplit3_test_score                                                       -10937.8   \nsplit4_test_score                                                       -7840.81   \nsplit5_test_score                                                       -11067.9   \nsplit6_test_score                                                       -12544.4   \nsplit7_test_score                                                       -11603.4   \nsplit8_test_score                                                       -9789.88   \nsplit9_test_score                                                       -9823.26   \nmean_test_score                                                         -10152.4   \nstd_test_score                                                            1312.6   \nrank_test_score                                                               97   \nsplit0_train_score                                                      -10181.2   \nsplit1_train_score                                                      -10255.8   \nsplit2_train_score                                                      -10181.6   \nsplit3_train_score                                                      -10006.3   \nsplit4_train_score                                                      -10365.3   \nsplit5_train_score                                                      -9956.89   \nsplit6_train_score                                                      -9824.93   \nsplit7_train_score                                                      -9964.79   \nsplit8_train_score                                                      -10165.7   \nsplit9_train_score                                                      -10164.7   \nmean_train_score                                                        -10106.7   \nstd_train_score                                                          154.649   \n\n                                                                              24  \\\nmean_fit_time                                                         0.00718098   \nstd_fit_time                                                          0.00116304   \nmean_score_time                                                        0.0015954   \nstd_score_time                                                       0.000487955   \nparam_simpleimputer__strategy                                             median   \nparam_selectkbest__k                                                           1   \nparam_ridge__alpha                                                             1   \nparams                         {'simpleimputer__strategy': 'median', 'selectk...   \nsplit0_test_score                                                        -9468.1   \nsplit1_test_score                                                       -8930.84   \nsplit2_test_score                                                       -9517.23   \nsplit3_test_score                                                       -10937.8   \nsplit4_test_score                                                       -7840.81   \nsplit5_test_score                                                       -11067.9   \nsplit6_test_score                                                       -12544.4   \nsplit7_test_score                                                       -11603.4   \nsplit8_test_score                                                       -9789.88   \nsplit9_test_score                                                       -9823.26   \nmean_test_score                                                         -10152.4   \nstd_test_score                                                            1312.6   \nrank_test_score                                                               97   \nsplit0_train_score                                                      -10181.2   \nsplit1_train_score                                                      -10255.8   \nsplit2_train_score                                                      -10181.6   \nsplit3_train_score                                                      -10006.3   \nsplit4_train_score                                                      -10365.3   \nsplit5_train_score                                                      -9956.89   \nsplit6_train_score                                                      -9824.93   \nsplit7_train_score                                                      -9964.79   \nsplit8_train_score                                                      -10165.7   \nsplit9_train_score                                                      -10164.7   \nmean_train_score                                                        -10106.7   \nstd_train_score                                                          154.649   \n\n                                                                              15  \\\nmean_fit_time                                                         0.00628362   \nstd_fit_time                                                          0.00100196   \nmean_score_time                                                        0.0014955   \nstd_score_time                                                       0.000498629   \nparam_simpleimputer__strategy                                               mean   \nparam_selectkbest__k                                                           1   \nparam_ridge__alpha                                                           0.1   \nparams                         {'simpleimputer__strategy': 'mean', 'selectkbe...   \nsplit0_test_score                                                       -9466.85   \nsplit1_test_score                                                       -8937.65   \nsplit2_test_score                                                       -9518.87   \nsplit3_test_score                                                       -10935.6   \nsplit4_test_score                                                        -7840.7   \nsplit5_test_score                                                       -11063.6   \nsplit6_test_score                                                       -12548.8   \nsplit7_test_score                                                       -11607.4   \nsplit8_test_score                                                       -9796.65   \nsplit9_test_score                                                       -9825.33   \nmean_test_score                                                         -10154.1   \nstd_test_score                                                           1312.55   \nrank_test_score                                                               99   \nsplit0_train_score                                                      -10182.6   \nsplit1_train_score                                                      -10257.4   \nsplit2_train_score                                                      -10182.7   \nsplit3_train_score                                                      -10007.6   \nsplit4_train_score                                                      -10366.5   \nsplit5_train_score                                                      -9957.58   \nsplit6_train_score                                                      -9826.65   \nsplit7_train_score                                                      -9966.53   \nsplit8_train_score                                                      -10167.8   \nsplit9_train_score                                                      -10165.9   \nmean_train_score                                                        -10108.1   \nstd_train_score                                                           154.62   \n\n                                                                              62  \nmean_fit_time                                                         0.00698147  \nstd_fit_time                                                          0.00077294  \nmean_score_time                                                       0.00149589  \nstd_score_time                                                       0.000498772  \nparam_simpleimputer__strategy                                             median  \nparam_selectkbest__k                                                           1  \nparam_ridge__alpha                                                           0.1  \nparams                         {'simpleimputer__strategy': 'median', 'selectk...  \nsplit0_test_score                                                       -9466.85  \nsplit1_test_score                                                       -8937.65  \nsplit2_test_score                                                       -9518.87  \nsplit3_test_score                                                       -10935.6  \nsplit4_test_score                                                        -7840.7  \nsplit5_test_score                                                       -11063.6  \nsplit6_test_score                                                       -12548.8  \nsplit7_test_score                                                       -11607.4  \nsplit8_test_score                                                       -9796.65  \nsplit9_test_score                                                       -9825.33  \nmean_test_score                                                         -10154.1  \nstd_test_score                                                           1312.55  \nrank_test_score                                                               99  \nsplit0_train_score                                                      -10182.6  \nsplit1_train_score                                                      -10257.4  \nsplit2_train_score                                                      -10182.7  \nsplit3_train_score                                                      -10007.6  \nsplit4_train_score                                                      -10366.5  \nsplit5_train_score                                                      -9957.58  \nsplit6_train_score                                                      -9826.65  \nsplit7_train_score                                                      -9966.53  \nsplit8_train_score                                                      -10167.8  \nsplit9_train_score                                                      -10165.9  \nmean_train_score                                                        -10108.1  \nstd_train_score                                                           154.62  \n\n[33 rows x 100 columns]",
            "text/html": "<div>\n<style scoped>\n    .dataframe tbody tr th:only-of-type {\n        vertical-align: middle;\n    }\n\n    .dataframe tbody tr th {\n        vertical-align: top;\n    }\n\n    .dataframe thead th {\n        text-align: right;\n    }\n</style>\n<table border=\"1\" class=\"dataframe\">\n  <thead>\n    <tr style=\"text-align: right;\">\n      <th></th>\n      <th>79</th>\n      <th>40</th>\n      <th>5</th>\n      <th>43</th>\n      <th>59</th>\n      <th>36</th>\n      <th>67</th>\n      <th>38</th>\n      <th>27</th>\n      <th>74</th>\n      <th>...</th>\n      <th>39</th>\n      <th>18</th>\n      <th>32</th>\n      <th>0</th>\n      <th>7</th>\n      <th>6</th>\n      <th>30</th>\n      <th>24</th>\n      <th>15</th>\n      <th>62</th>\n    </tr>\n  </thead>\n  <tbody>\n    <tr>\n      <th>mean_fit_time</th>\n      <td>0.007181</td>\n      <td>0.00708084</td>\n      <td>0.00428839</td>\n      <td>0.00768013</td>\n      <td>0.00688121</td>\n      <td>0.00768008</td>\n      <td>0.00698125</td>\n      <td>0.00827744</td>\n      <td>0.00767992</td>\n      <td>0.00767937</td>\n      <td>...</td>\n      <td>0.00827808</td>\n      <td>0.0066823</td>\n      <td>0.00598373</td>\n      <td>0.019847</td>\n      <td>0.00548546</td>\n      <td>0.00418847</td>\n      <td>0.00588434</td>\n      <td>0.00718098</td>\n      <td>0.00628362</td>\n      <td>0.00698147</td>\n    </tr>\n    <tr>\n      <th>std_fit_time</th>\n      <td>0.00107375</td>\n      <td>0.000299121</td>\n      <td>0.000897291</td>\n      <td>0.00100278</td>\n      <td>0.000828315</td>\n      <td>0.000638532</td>\n      <td>0.00147927</td>\n      <td>0.0017302</td>\n      <td>0.00118466</td>\n      <td>0.00278714</td>\n      <td>...</td>\n      <td>0.000779174</td>\n      <td>0.0007786</td>\n      <td>0.000631129</td>\n      <td>0.00229349</td>\n      <td>0.000804201</td>\n      <td>0.000869234</td>\n      <td>0.000940098</td>\n      <td>0.00116304</td>\n      <td>0.00100196</td>\n      <td>0.00077294</td>\n    </tr>\n    <tr>\n      <th>mean_score_time</th>\n      <td>0.00179462</td>\n      <td>0.00179543</td>\n      <td>0.000997233</td>\n      <td>0.0014957</td>\n      <td>0.00229404</td>\n      <td>0.00189462</td>\n      <td>0.00215054</td>\n      <td>0.00169563</td>\n      <td>0.00159564</td>\n      <td>0.00204639</td>\n      <td>...</td>\n      <td>0.00159574</td>\n      <td>0.00159571</td>\n      <td>0.00139651</td>\n      <td>0.00169582</td>\n      <td>0.00139642</td>\n      <td>0.00109723</td>\n      <td>0.00159533</td>\n      <td>0.0015954</td>\n      <td>0.0014955</td>\n      <td>0.00149589</td>\n    </tr>\n    <tr>\n      <th>std_score_time</th>\n      <td>0.000398899</td>\n      <td>0.000398887</td>\n      <td>9.23699e-07</td>\n      <td>0.000668995</td>\n      <td>0.00118411</td>\n      <td>0.000298946</td>\n      <td>0.0013357</td>\n      <td>0.000457112</td>\n      <td>0.000488539</td>\n      <td>0.000846473</td>\n      <td>...</td>\n      <td>0.000488471</td>\n      <td>0.000488696</td>\n      <td>0.000488685</td>\n      <td>0.000456872</td>\n      <td>0.000488617</td>\n      <td>0.000299049</td>\n      <td>0.000488579</td>\n      <td>0.000487955</td>\n      <td>0.000498629</td>\n      <td>0.000498772</td>\n    </tr>\n    <tr>\n      <th>param_simpleimputer__strategy</th>\n      <td>median</td>\n      <td>median</td>\n      <td>mean</td>\n      <td>median</td>\n      <td>mean</td>\n      <td>median</td>\n      <td>mean</td>\n      <td>median</td>\n      <td>median</td>\n      <td>mean</td>\n      <td>...</td>\n      <td>median</td>\n      <td>mean</td>\n      <td>mean</td>\n      <td>mean</td>\n      <td>median</td>\n      <td>mean</td>\n      <td>mean</td>\n      <td>median</td>\n      <td>mean</td>\n      <td>median</td>\n    </tr>\n    <tr>\n      <th>param_selectkbest__k</th>\n      <td>15</td>\n      <td>15</td>\n      <td>17</td>\n      <td>17</td>\n      <td>16</td>\n      <td>20</td>\n      <td>20</td>\n      <td>18</td>\n      <td>21</td>\n      <td>21</td>\n      <td>...</td>\n      <td>4</td>\n      <td>4</td>\n      <td>3</td>\n      <td>3</td>\n      <td>1</td>\n      <td>1</td>\n      <td>1</td>\n      <td>1</td>\n      <td>1</td>\n      <td>1</td>\n    </tr>\n    <tr>\n      <th>param_ridge__alpha</th>\n      <td>1</td>\n      <td>0.1</td>\n      <td>10</td>\n      <td>10</td>\n      <td>10</td>\n      <td>10</td>\n      <td>10</td>\n      <td>10</td>\n      <td>10</td>\n      <td>10</td>\n      <td>...</td>\n      <td>0.1</td>\n      <td>0.1</td>\n      <td>1</td>\n      <td>0.1</td>\n      <td>10</td>\n      <td>10</td>\n      <td>1</td>\n      <td>1</td>\n      <td>0.1</td>\n      <td>0.1</td>\n    </tr>\n    <tr>\n      <th>params</th>\n      <td>{'simpleimputer__strategy': 'median', 'selectk...</td>\n      <td>{'simpleimputer__strategy': 'median', 'selectk...</td>\n      <td>{'simpleimputer__strategy': 'mean', 'selectkbe...</td>\n      <td>{'simpleimputer__strategy': 'median', 'selectk...</td>\n      <td>{'simpleimputer__strategy': 'mean', 'selectkbe...</td>\n      <td>{'simpleimputer__strategy': 'median', 'selectk...</td>\n      <td>{'simpleimputer__strategy': 'mean', 'selectkbe...</td>\n      <td>{'simpleimputer__strategy': 'median', 'selectk...</td>\n      <td>{'simpleimputer__strategy': 'median', 'selectk...</td>\n      <td>{'simpleimputer__strategy': 'mean', 'selectkbe...</td>\n      <td>...</td>\n      <td>{'simpleimputer__strategy': 'median', 'selectk...</td>\n      <td>{'simpleimputer__strategy': 'mean', 'selectkbe...</td>\n      <td>{'simpleimputer__strategy': 'mean', 'selectkbe...</td>\n      <td>{'simpleimputer__strategy': 'mean', 'selectkbe...</td>\n      <td>{'simpleimputer__strategy': 'median', 'selectk...</td>\n      <td>{'simpleimputer__strategy': 'mean', 'selectkbe...</td>\n      <td>{'simpleimputer__strategy': 'mean', 'selectkbe...</td>\n      <td>{'simpleimputer__strategy': 'median', 'selectk...</td>\n      <td>{'simpleimputer__strategy': 'mean', 'selectkbe...</td>\n      <td>{'simpleimputer__strategy': 'median', 'selectk...</td>\n    </tr>\n    <tr>\n      <th>split0_test_score</th>\n      <td>-4854.57</td>\n      <td>-4866.88</td>\n      <td>-5030.6</td>\n      <td>-5030.6</td>\n      <td>-5027.16</td>\n      <td>-5075.78</td>\n      <td>-5075.78</td>\n      <td>-5078.77</td>\n      <td>-5111.34</td>\n      <td>-5111.34</td>\n      <td>...</td>\n      <td>-6734.31</td>\n      <td>-6734.31</td>\n      <td>-6733.07</td>\n      <td>-6734.29</td>\n      <td>-9486.67</td>\n      <td>-9486.67</td>\n      <td>-9468.1</td>\n      <td>-9468.1</td>\n      <td>-9466.85</td>\n      <td>-9466.85</td>\n    </tr>\n    <tr>\n      <th>split1_test_score</th>\n      <td>-5308.55</td>\n      <td>-5320.58</td>\n      <td>-5397.43</td>\n      <td>-5397.43</td>\n      <td>-5394.49</td>\n      <td>-5397.99</td>\n      <td>-5397.99</td>\n      <td>-5388.24</td>\n      <td>-5401.15</td>\n      <td>-5401.15</td>\n      <td>...</td>\n      <td>-6696.05</td>\n      <td>-6696.05</td>\n      <td>-6691.8</td>\n      <td>-6696.05</td>\n      <td>-8866.3</td>\n      <td>-8866.3</td>\n      <td>-8930.84</td>\n      <td>-8930.84</td>\n      <td>-8937.65</td>\n      <td>-8937.65</td>\n    </tr>\n    <tr>\n      <th>split2_test_score</th>\n      <td>-5791.83</td>\n      <td>-5787.2</td>\n      <td>-5851.77</td>\n      <td>-5851.77</td>\n      <td>-5861.43</td>\n      <td>-5906.99</td>\n      <td>-5906.99</td>\n      <td>-5912.26</td>\n      <td>-5906.11</td>\n      <td>-5906.11</td>\n      <td>...</td>\n      <td>-8106.43</td>\n      <td>-8106.43</td>\n      <td>-8104.72</td>\n      <td>-8106.41</td>\n      <td>-9501.1</td>\n      <td>-9501.1</td>\n      <td>-9517.23</td>\n      <td>-9517.23</td>\n      <td>-9518.87</td>\n      <td>-9518.87</td>\n    </tr>\n    <tr>\n      <th>split3_test_score</th>\n      <td>-6261.53</td>\n      <td>-6257.32</td>\n      <td>-6109.68</td>\n      <td>-6109.68</td>\n      <td>-6110.9</td>\n      <td>-6082.48</td>\n      <td>-6082.48</td>\n      <td>-6114.42</td>\n      <td>-6081.43</td>\n      <td>-6081.43</td>\n      <td>...</td>\n      <td>-10175.7</td>\n      <td>-10175.7</td>\n      <td>-10174.5</td>\n      <td>-10175.7</td>\n      <td>-10959.6</td>\n      <td>-10959.6</td>\n      <td>-10937.8</td>\n      <td>-10937.8</td>\n      <td>-10935.6</td>\n      <td>-10935.6</td>\n    </tr>\n    <tr>\n      <th>split4_test_score</th>\n      <td>-5109.15</td>\n      <td>-5108.03</td>\n      <td>-5230.18</td>\n      <td>-5230.18</td>\n      <td>-5086.94</td>\n      <td>-5253.64</td>\n      <td>-5253.64</td>\n      <td>-5231.73</td>\n      <td>-5255.73</td>\n      <td>-5255.73</td>\n      <td>...</td>\n      <td>-7220.06</td>\n      <td>-7220.06</td>\n      <td>-7222.62</td>\n      <td>-7220.06</td>\n      <td>-7841.82</td>\n      <td>-7841.82</td>\n      <td>-7840.81</td>\n      <td>-7840.81</td>\n      <td>-7840.7</td>\n      <td>-7840.7</td>\n    </tr>\n    <tr>\n      <th>split5_test_score</th>\n      <td>-7118.29</td>\n      <td>-7115.66</td>\n      <td>-7357.38</td>\n      <td>-7357.38</td>\n      <td>-7249.3</td>\n      <td>-7384</td>\n      <td>-7384</td>\n      <td>-7358.91</td>\n      <td>-7387.26</td>\n      <td>-7387.26</td>\n      <td>...</td>\n      <td>-8960.21</td>\n      <td>-8960.21</td>\n      <td>-8960.53</td>\n      <td>-8960.22</td>\n      <td>-11110.2</td>\n      <td>-11110.2</td>\n      <td>-11067.9</td>\n      <td>-11067.9</td>\n      <td>-11063.6</td>\n      <td>-11063.6</td>\n    </tr>\n    <tr>\n      <th>split6_test_score</th>\n      <td>-7623.45</td>\n      <td>-7636.75</td>\n      <td>-7419.9</td>\n      <td>-7419.9</td>\n      <td>-7420.76</td>\n      <td>-7487.56</td>\n      <td>-7487.56</td>\n      <td>-7456.25</td>\n      <td>-7493.27</td>\n      <td>-7493.27</td>\n      <td>...</td>\n      <td>-10386.2</td>\n      <td>-10386.2</td>\n      <td>-10388.9</td>\n      <td>-10386.2</td>\n      <td>-12516.7</td>\n      <td>-12516.7</td>\n      <td>-12544.4</td>\n      <td>-12544.4</td>\n      <td>-12548.8</td>\n      <td>-12548.8</td>\n    </tr>\n    <tr>\n      <th>split7_test_score</th>\n      <td>-6772.3</td>\n      <td>-6775.45</td>\n      <td>-6721.08</td>\n      <td>-6721.08</td>\n      <td>-6746.4</td>\n      <td>-6710.99</td>\n      <td>-6710.99</td>\n      <td>-6717.16</td>\n      <td>-6711.8</td>\n      <td>-6711.8</td>\n      <td>...</td>\n      <td>-10444.1</td>\n      <td>-10444.1</td>\n      <td>-10436.7</td>\n      <td>-10444.1</td>\n      <td>-11564.1</td>\n      <td>-11564.1</td>\n      <td>-11603.4</td>\n      <td>-11603.4</td>\n      <td>-11607.4</td>\n      <td>-11607.4</td>\n    </tr>\n    <tr>\n      <th>split8_test_score</th>\n      <td>-6626.08</td>\n      <td>-6625.66</td>\n      <td>-6645.46</td>\n      <td>-6645.46</td>\n      <td>-6645.37</td>\n      <td>-6621.61</td>\n      <td>-6621.61</td>\n      <td>-6658.24</td>\n      <td>-6618.34</td>\n      <td>-6618.34</td>\n      <td>...</td>\n      <td>-9243.97</td>\n      <td>-9243.97</td>\n      <td>-9242.56</td>\n      <td>-9243.97</td>\n      <td>-9723.29</td>\n      <td>-9723.29</td>\n      <td>-9789.88</td>\n      <td>-9789.88</td>\n      <td>-9796.65</td>\n      <td>-9796.65</td>\n    </tr>\n    <tr>\n      <th>split9_test_score</th>\n      <td>-4985.95</td>\n      <td>-4985.06</td>\n      <td>-4722.87</td>\n      <td>-4722.87</td>\n      <td>-4996.19</td>\n      <td>-4697.02</td>\n      <td>-4697.02</td>\n      <td>-4713.89</td>\n      <td>-4692.25</td>\n      <td>-4692.25</td>\n      <td>...</td>\n      <td>-7455.08</td>\n      <td>-7455.08</td>\n      <td>-7517.13</td>\n      <td>-7517.03</td>\n      <td>-9802.88</td>\n      <td>-9802.88</td>\n      <td>-9823.26</td>\n      <td>-9823.26</td>\n      <td>-9825.33</td>\n      <td>-9825.33</td>\n    </tr>\n    <tr>\n      <th>mean_test_score</th>\n      <td>-6045.17</td>\n      <td>-6047.86</td>\n      <td>-6048.64</td>\n      <td>-6048.64</td>\n      <td>-6053.89</td>\n      <td>-6061.8</td>\n      <td>-6061.8</td>\n      <td>-6062.99</td>\n      <td>-6065.87</td>\n      <td>-6065.87</td>\n      <td>...</td>\n      <td>-8542.2</td>\n      <td>-8542.2</td>\n      <td>-8547.25</td>\n      <td>-8548.39</td>\n      <td>-10137.3</td>\n      <td>-10137.3</td>\n      <td>-10152.4</td>\n      <td>-10152.4</td>\n      <td>-10154.1</td>\n      <td>-10154.1</td>\n    </tr>\n    <tr>\n      <th>std_test_score</th>\n      <td>926.171</td>\n      <td>926.084</td>\n      <td>912.799</td>\n      <td>912.799</td>\n      <td>878.052</td>\n      <td>920.264</td>\n      <td>920.264</td>\n      <td>914.508</td>\n      <td>918.036</td>\n      <td>918.036</td>\n      <td>...</td>\n      <td>1419.48</td>\n      <td>1419.48</td>\n      <td>1414.55</td>\n      <td>1414.85</td>\n      <td>1315.9</td>\n      <td>1315.9</td>\n      <td>1312.6</td>\n      <td>1312.6</td>\n      <td>1312.55</td>\n      <td>1312.55</td>\n    </tr>\n    <tr>\n      <th>rank_test_score</th>\n      <td>1</td>\n      <td>2</td>\n      <td>3</td>\n      <td>3</td>\n      <td>5</td>\n      <td>6</td>\n      <td>6</td>\n      <td>8</td>\n      <td>9</td>\n      <td>9</td>\n      <td>...</td>\n      <td>91</td>\n      <td>91</td>\n      <td>93</td>\n      <td>94</td>\n      <td>95</td>\n      <td>95</td>\n      <td>97</td>\n      <td>97</td>\n      <td>99</td>\n      <td>99</td>\n    </tr>\n    <tr>\n      <th>split0_train_score</th>\n      <td>-6016.26</td>\n      <td>-6018.67</td>\n      <td>-6029.77</td>\n      <td>-6029.77</td>\n      <td>-6029.07</td>\n      <td>-6041.25</td>\n      <td>-6041.25</td>\n      <td>-6051.22</td>\n      <td>-6049.68</td>\n      <td>-6049.68</td>\n      <td>...</td>\n      <td>-8727.31</td>\n      <td>-8727.31</td>\n      <td>-8725.98</td>\n      <td>-8727.3</td>\n      <td>-10169.3</td>\n      <td>-10169.3</td>\n      <td>-10181.2</td>\n      <td>-10181.2</td>\n      <td>-10182.6</td>\n      <td>-10182.6</td>\n    </tr>\n    <tr>\n      <th>split1_train_score</th>\n      <td>-5973.17</td>\n      <td>-5973.59</td>\n      <td>-6002.19</td>\n      <td>-6002.19</td>\n      <td>-6001.38</td>\n      <td>-6005.77</td>\n      <td>-6005.77</td>\n      <td>-6012.52</td>\n      <td>-5984.63</td>\n      <td>-5984.63</td>\n      <td>...</td>\n      <td>-8724.72</td>\n      <td>-8724.72</td>\n      <td>-8724.12</td>\n      <td>-8724.72</td>\n      <td>-10245.5</td>\n      <td>-10245.5</td>\n      <td>-10255.8</td>\n      <td>-10255.8</td>\n      <td>-10257.4</td>\n      <td>-10257.4</td>\n    </tr>\n    <tr>\n      <th>split2_train_score</th>\n      <td>-5914.94</td>\n      <td>-5916.83</td>\n      <td>-5908.92</td>\n      <td>-5908.92</td>\n      <td>-5901.08</td>\n      <td>-5912.26</td>\n      <td>-5912.26</td>\n      <td>-5931.67</td>\n      <td>-5902.48</td>\n      <td>-5902.48</td>\n      <td>...</td>\n      <td>-8580.52</td>\n      <td>-8580.52</td>\n      <td>-8579.42</td>\n      <td>-8580.51</td>\n      <td>-10172.6</td>\n      <td>-10172.6</td>\n      <td>-10181.6</td>\n      <td>-10181.6</td>\n      <td>-10182.7</td>\n      <td>-10182.7</td>\n    </tr>\n    <tr>\n      <th>split3_train_score</th>\n      <td>-5850.17</td>\n      <td>-5851.9</td>\n      <td>-5862.35</td>\n      <td>-5862.35</td>\n      <td>-5861.87</td>\n      <td>-5869.7</td>\n      <td>-5869.7</td>\n      <td>-5873.74</td>\n      <td>-5862.74</td>\n      <td>-5862.74</td>\n      <td>...</td>\n      <td>-8322.28</td>\n      <td>-8322.28</td>\n      <td>-8321.66</td>\n      <td>-8322.27</td>\n      <td>-9997.1</td>\n      <td>-9997.1</td>\n      <td>-10006.3</td>\n      <td>-10006.3</td>\n      <td>-10007.6</td>\n      <td>-10007.6</td>\n    </tr>\n    <tr>\n      <th>split4_train_score</th>\n      <td>-5986.25</td>\n      <td>-5988.12</td>\n      <td>-6007.22</td>\n      <td>-6007.22</td>\n      <td>-5990.58</td>\n      <td>-5995.84</td>\n      <td>-5995.84</td>\n      <td>-6007.86</td>\n      <td>-5996.88</td>\n      <td>-5996.88</td>\n      <td>...</td>\n      <td>-8685.33</td>\n      <td>-8685.33</td>\n      <td>-8684.28</td>\n      <td>-8685.32</td>\n      <td>-10354.1</td>\n      <td>-10354.1</td>\n      <td>-10365.3</td>\n      <td>-10365.3</td>\n      <td>-10366.5</td>\n      <td>-10366.5</td>\n    </tr>\n    <tr>\n      <th>split5_train_score</th>\n      <td>-5916.46</td>\n      <td>-5916.09</td>\n      <td>-5699.53</td>\n      <td>-5699.53</td>\n      <td>-5687.86</td>\n      <td>-5694.15</td>\n      <td>-5694.15</td>\n      <td>-5700.01</td>\n      <td>-5696.79</td>\n      <td>-5696.79</td>\n      <td>...</td>\n      <td>-8386</td>\n      <td>-8386</td>\n      <td>-8385.27</td>\n      <td>-8385.99</td>\n      <td>-9951.66</td>\n      <td>-9951.66</td>\n      <td>-9956.89</td>\n      <td>-9956.89</td>\n      <td>-9957.58</td>\n      <td>-9957.58</td>\n    </tr>\n    <tr>\n      <th>split6_train_score</th>\n      <td>-5624.35</td>\n      <td>-5626.28</td>\n      <td>-5635.35</td>\n      <td>-5635.35</td>\n      <td>-5635</td>\n      <td>-5645.68</td>\n      <td>-5645.68</td>\n      <td>-5648.76</td>\n      <td>-5624.25</td>\n      <td>-5624.25</td>\n      <td>...</td>\n      <td>-8274.18</td>\n      <td>-8274.18</td>\n      <td>-8272.91</td>\n      <td>-8274.17</td>\n      <td>-9815.26</td>\n      <td>-9815.26</td>\n      <td>-9824.93</td>\n      <td>-9824.93</td>\n      <td>-9826.65</td>\n      <td>-9826.65</td>\n    </tr>\n    <tr>\n      <th>split7_train_score</th>\n      <td>-5816.98</td>\n      <td>-5819.38</td>\n      <td>-5779.95</td>\n      <td>-5779.95</td>\n      <td>-5797.42</td>\n      <td>-5781.63</td>\n      <td>-5781.63</td>\n      <td>-5792.4</td>\n      <td>-5761.23</td>\n      <td>-5761.23</td>\n      <td>...</td>\n      <td>-8300.21</td>\n      <td>-8300.21</td>\n      <td>-8299.68</td>\n      <td>-8300.21</td>\n      <td>-9956.14</td>\n      <td>-9956.14</td>\n      <td>-9964.79</td>\n      <td>-9964.79</td>\n      <td>-9966.53</td>\n      <td>-9966.53</td>\n    </tr>\n    <tr>\n      <th>split8_train_score</th>\n      <td>-5735.95</td>\n      <td>-5738.99</td>\n      <td>-5722.54</td>\n      <td>-5722.54</td>\n      <td>-5722.26</td>\n      <td>-5738.21</td>\n      <td>-5738.21</td>\n      <td>-5731.55</td>\n      <td>-5736.1</td>\n      <td>-5736.1</td>\n      <td>...</td>\n      <td>-8435.37</td>\n      <td>-8435.37</td>\n      <td>-8433.66</td>\n      <td>-8435.37</td>\n      <td>-10146.1</td>\n      <td>-10146.1</td>\n      <td>-10165.7</td>\n      <td>-10165.7</td>\n      <td>-10167.8</td>\n      <td>-10167.8</td>\n    </tr>\n    <tr>\n      <th>split9_train_score</th>\n      <td>-6210.43</td>\n      <td>-6212.05</td>\n      <td>-6042.52</td>\n      <td>-6042.52</td>\n      <td>-6205.43</td>\n      <td>-6057.73</td>\n      <td>-6057.73</td>\n      <td>-6056.18</td>\n      <td>-6036.41</td>\n      <td>-6036.41</td>\n      <td>...</td>\n      <td>-7960.26</td>\n      <td>-7960.26</td>\n      <td>-7945.89</td>\n      <td>-7947.08</td>\n      <td>-10154.4</td>\n      <td>-10154.4</td>\n      <td>-10164.7</td>\n      <td>-10164.7</td>\n      <td>-10165.9</td>\n      <td>-10165.9</td>\n    </tr>\n    <tr>\n      <th>mean_train_score</th>\n      <td>-5904.5</td>\n      <td>-5906.19</td>\n      <td>-5869.03</td>\n      <td>-5869.03</td>\n      <td>-5883.19</td>\n      <td>-5874.22</td>\n      <td>-5874.22</td>\n      <td>-5880.59</td>\n      <td>-5865.12</td>\n      <td>-5865.12</td>\n      <td>...</td>\n      <td>-8439.62</td>\n      <td>-8439.62</td>\n      <td>-8437.28</td>\n      <td>-8438.29</td>\n      <td>-10096.2</td>\n      <td>-10096.2</td>\n      <td>-10106.7</td>\n      <td>-10106.7</td>\n      <td>-10108.1</td>\n      <td>-10108.1</td>\n    </tr>\n    <tr>\n      <th>std_train_score</th>\n      <td>153.375</td>\n      <td>153.121</td>\n      <td>143.922</td>\n      <td>143.922</td>\n      <td>168.641</td>\n      <td>143.828</td>\n      <td>143.828</td>\n      <td>145.792</td>\n      <td>144.997</td>\n      <td>144.997</td>\n      <td>...</td>\n      <td>231.847</td>\n      <td>231.847</td>\n      <td>234.592</td>\n      <td>234.589</td>\n      <td>153.329</td>\n      <td>153.329</td>\n      <td>154.649</td>\n      <td>154.649</td>\n      <td>154.62</td>\n      <td>154.62</td>\n    </tr>\n  </tbody>\n</table>\n<p>33 rows × 100 columns</p>\n</div>"
          },
          "metadata": {},
          "execution_count": 37
        }
      ],
      "source": [
        "pd.DataFrame(search.cv_results_).sort_values(by='rank_test_score').T"
      ]
    },
    {
      "cell_type": "code",
      "execution_count": 38,
      "metadata": {},
      "outputs": [
        {
          "output_type": "stream",
          "name": "stdout",
          "text": "Test MAE: $9,139\n"
        }
      ],
      "source": [
        "pipeline = search.best_estimator_\n",
        "from sklearn.metrics import mean_absolute_error\n",
        "y_pred = pipeline.predict(X_test)\n",
        "mae = mean_absolute_error(Y_test, y_pred)\n",
        "print(f'Test MAE: ${mae:,.0f}')"
      ]
    },
    {
      "cell_type": "markdown",
      "metadata": {},
      "source": [
        "### Random Forrest Regressor\n",
        "---"
      ]
    },
    {
      "cell_type": "code",
      "execution_count": 39,
      "metadata": {},
      "outputs": [
        {
          "output_type": "stream",
          "name": "stdout",
          "text": "Fitting 10 folds for each of 100 candidates, totalling 1000 fits\n[Parallel(n_jobs=-1)]: Using backend LokyBackend with 12 concurrent workers.\n[Parallel(n_jobs=-1)]: Done   1 tasks      | elapsed:    0.8s\n[Parallel(n_jobs=-1)]: Done   8 tasks      | elapsed:    1.0s\n[Parallel(n_jobs=-1)]: Done  17 tasks      | elapsed:    2.1s\n[Parallel(n_jobs=-1)]: Done  26 tasks      | elapsed:    2.8s\n[Parallel(n_jobs=-1)]: Done  37 tasks      | elapsed:    3.5s\n[Parallel(n_jobs=-1)]: Done  48 tasks      | elapsed:    3.8s\n[Parallel(n_jobs=-1)]: Done  61 tasks      | elapsed:    4.9s\n[Parallel(n_jobs=-1)]: Done  74 tasks      | elapsed:    6.8s\n[Parallel(n_jobs=-1)]: Done  89 tasks      | elapsed:    8.6s\n[Parallel(n_jobs=-1)]: Done 104 tasks      | elapsed:   10.0s\n[Parallel(n_jobs=-1)]: Done 121 tasks      | elapsed:   11.6s\n[Parallel(n_jobs=-1)]: Done 138 tasks      | elapsed:   12.9s\n[Parallel(n_jobs=-1)]: Done 157 tasks      | elapsed:   15.3s\n[Parallel(n_jobs=-1)]: Done 176 tasks      | elapsed:   17.0s\n[Parallel(n_jobs=-1)]: Done 197 tasks      | elapsed:   18.1s\n[Parallel(n_jobs=-1)]: Done 218 tasks      | elapsed:   19.8s\n[Parallel(n_jobs=-1)]: Done 241 tasks      | elapsed:   22.6s\n[Parallel(n_jobs=-1)]: Done 264 tasks      | elapsed:   24.3s\n[Parallel(n_jobs=-1)]: Done 289 tasks      | elapsed:   26.4s\n[Parallel(n_jobs=-1)]: Done 314 tasks      | elapsed:   28.5s\n[Parallel(n_jobs=-1)]: Done 341 tasks      | elapsed:   30.3s\n[Parallel(n_jobs=-1)]: Done 368 tasks      | elapsed:   32.1s\n[Parallel(n_jobs=-1)]: Done 397 tasks      | elapsed:   34.9s\n[Parallel(n_jobs=-1)]: Done 426 tasks      | elapsed:   37.4s\n[Parallel(n_jobs=-1)]: Done 457 tasks      | elapsed:   41.0s\n[Parallel(n_jobs=-1)]: Done 488 tasks      | elapsed:   43.4s\n[Parallel(n_jobs=-1)]: Done 521 tasks      | elapsed:   45.7s\n[Parallel(n_jobs=-1)]: Done 554 tasks      | elapsed:   48.0s\n[Parallel(n_jobs=-1)]: Done 589 tasks      | elapsed:   50.3s\n[Parallel(n_jobs=-1)]: Done 624 tasks      | elapsed:   53.4s\n[Parallel(n_jobs=-1)]: Done 661 tasks      | elapsed:   56.1s\n[Parallel(n_jobs=-1)]: Done 698 tasks      | elapsed:   58.2s\n[Parallel(n_jobs=-1)]: Done 737 tasks      | elapsed:  1.0min\n[Parallel(n_jobs=-1)]: Done 776 tasks      | elapsed:  1.1min\n[Parallel(n_jobs=-1)]: Done 817 tasks      | elapsed:  1.1min\n[Parallel(n_jobs=-1)]: Done 858 tasks      | elapsed:  1.2min\n[Parallel(n_jobs=-1)]: Done 901 tasks      | elapsed:  1.3min\n[Parallel(n_jobs=-1)]: Done 944 tasks      | elapsed:  1.3min\n[Parallel(n_jobs=-1)]: Done 1000 out of 1000 | elapsed:  1.4min finished\n"
        }
      ],
      "source": [
        "from scipy.stats import randint, uniform\n",
        "from sklearn.ensemble import RandomForestRegressor\n",
        "\n",
        "features = train.columns.drop(target)\n",
        "X_train = train[features]\n",
        "y_train = train[target]\n",
        "\n",
        "pipeline = make_pipeline(\n",
        "    ce.TargetEncoder(), \n",
        "    SimpleImputer(),\n",
        "    StandardScaler(), \n",
        "    RandomForestRegressor(random_state=42)\n",
        ")\n",
        "\n",
        "param_distributions = {\n",
        "    'targetencoder__min_samples_leaf': randint(1, 1000),     \n",
        "    'simpleimputer__strategy': ['mean', 'median'], \n",
        "    'randomforestregressor__n_estimators': randint(50, 500), \n",
        "    'randomforestregressor__max_depth': [5, 10, 15, 20, None], \n",
        "    'randomforestregressor__max_features': uniform(0, 1), \n",
        "}\n",
        "\n",
        "# If you're on Colab, decrease n_iter & cv parameters\n",
        "search = RandomizedSearchCV(\n",
        "    pipeline, \n",
        "    param_distributions=param_distributions, \n",
        "    n_iter=100, \n",
        "    cv=10, \n",
        "    scoring='neg_mean_absolute_error', \n",
        "    verbose=10, \n",
        "    return_train_score=True, \n",
        "    n_jobs=-1\n",
        ")\n",
        "\n",
        "search.fit(X_train, y_train);"
      ]
    },
    {
      "cell_type": "code",
      "execution_count": 40,
      "metadata": {},
      "outputs": [
        {
          "output_type": "stream",
          "name": "stdout",
          "text": "Best hyperparameters {'randomforestregressor__max_depth': None, 'randomforestregressor__max_features': 0.9861816473221374, 'randomforestregressor__n_estimators': 398, 'simpleimputer__strategy': 'mean', 'targetencoder__min_samples_leaf': 5}\nCross-validation MAE 5106.883394134132\n"
        }
      ],
      "source": [
        "print('Best hyperparameters', search.best_params_)\n",
        "print('Cross-validation MAE', -search.best_score_)"
      ]
    },
    {
      "cell_type": "code",
      "execution_count": 67,
      "metadata": {},
      "outputs": [
        {
          "output_type": "execute_result",
          "data": {
            "text/plain": "    mean_fit_time  std_fit_time  mean_score_time  std_score_time  \\\n61       1.363081      0.128157         0.056153        0.007256   \n79       1.321998      0.170846         0.062034        0.010041   \n7        1.397432      0.160406         0.070114        0.011137   \n91       0.706480      0.083515         0.043197        0.010474   \n58       0.701381      0.087130         0.037232        0.005974   \n..            ...           ...              ...             ...   \n48       0.946056      0.065716         0.058842        0.008731   \n68       0.483652      0.039490         0.030595        0.002030   \n99       1.235153      0.098487         0.063044        0.007001   \n49       0.653488      0.063011         0.038102        0.004243   \n14       1.151912      0.088903         0.059740        0.008083   \n\n   param_randomforestregressor__max_depth  \\\n61                                   None   \n79                                   None   \n7                                      20   \n91                                     15   \n58                                     20   \n..                                    ...   \n48                                      5   \n68                                     20   \n99                                   None   \n49                                     15   \n14                                     15   \n\n   param_randomforestregressor__max_features  \\\n61                                  0.986182   \n79                                  0.379498   \n7                                   0.561344   \n91                                   0.54968   \n58                                  0.973945   \n..                                       ...   \n48                                 0.0935676   \n68                                  0.014904   \n99                                  0.159948   \n49                                 0.0540382   \n14                                 0.0494367   \n\n   param_randomforestregressor__n_estimators param_simpleimputer__strategy  \\\n61                                       398                          mean   \n79                                       415                        median   \n7                                        453                          mean   \n91                                       190                        median   \n58                                       170                        median   \n..                                       ...                           ...   \n48                                       420                        median   \n68                                       134                          mean   \n99                                       434                        median   \n49                                       213                        median   \n14                                       420                        median   \n\n   param_targetencoder__min_samples_leaf  \\\n61                                     5   \n79                                    16   \n7                                    179   \n91                                   137   \n58                                   126   \n..                                   ...   \n48                                   452   \n68                                   391   \n99                                   440   \n49                                   391   \n14                                   370   \n\n                                               params  ...  \\\n61  {'randomforestregressor__max_depth': None, 'ra...  ...   \n79  {'randomforestregressor__max_depth': None, 'ra...  ...   \n7   {'randomforestregressor__max_depth': 20, 'rand...  ...   \n91  {'randomforestregressor__max_depth': 15, 'rand...  ...   \n58  {'randomforestregressor__max_depth': 20, 'rand...  ...   \n..                                                ...  ...   \n48  {'randomforestregressor__max_depth': 5, 'rando...  ...   \n68  {'randomforestregressor__max_depth': 20, 'rand...  ...   \n99  {'randomforestregressor__max_depth': None, 'ra...  ...   \n49  {'randomforestregressor__max_depth': 15, 'rand...  ...   \n14  {'randomforestregressor__max_depth': 15, 'rand...  ...   \n\n    split2_train_score  split3_train_score  split4_train_score  \\\n61        -1950.609764        -1901.849216        -1895.940927   \n79        -2085.053657        -2045.164112        -2022.755899   \n7         -2170.357688        -2136.805371        -2136.955418   \n91        -2167.335259        -2145.277089        -2138.733773   \n58        -2239.542196        -2191.094081        -2212.796241   \n..                 ...                 ...                 ...   \n48        -7444.415113        -7303.524169        -7413.960573   \n68        -3180.630804        -3026.868177        -3147.066389   \n99        -3149.314135        -3011.604133        -3119.457620   \n49        -3230.678956        -3073.117237        -3176.229684   \n14        -3211.683461        -3056.126756        -3161.296864   \n\n    split5_train_score  split6_train_score  split7_train_score  \\\n61        -1824.079906        -1841.544614        -1855.911297   \n79        -2000.208981        -1963.811804        -2007.124421   \n7         -2073.181318        -2055.644982        -2103.663581   \n91        -2060.845855        -2052.457126        -2130.840580   \n58        -2083.279578        -2092.838220        -2156.760620   \n..                 ...                 ...                 ...   \n48        -7285.452319        -7147.125144        -7176.814723   \n68        -3014.607852        -2992.657678        -3006.458497   \n99        -3000.415944        -2964.066196        -2981.087309   \n49        -3070.574116        -3026.392878        -3039.972171   \n14        -3063.365910        -3013.994432        -3020.190006   \n\n    split8_train_score  split9_train_score  mean_train_score  std_train_score  \n61        -1733.359133        -1948.990987      -1883.535799        67.469292  \n79        -1896.872409        -2073.886493      -2025.151760        57.747833  \n7         -1936.613554        -2106.066373      -2102.408475        66.485077  \n91        -1946.277000        -2110.576278      -2105.742154        65.506164  \n58        -1961.107907        -2134.466116      -2151.052927        81.821445  \n..                 ...                 ...               ...              ...  \n48        -6976.709275        -7387.477525      -7298.334908       149.781753  \n68        -2850.379615        -3117.610311      -3064.507776       102.829583  \n99        -2840.844364        -3095.838469      -3037.779692        94.129977  \n49        -2884.802258        -3128.389368      -3096.863663        99.907367  \n14        -2884.524767        -3133.173495      -3086.141909        96.521839  \n\n[100 rows x 35 columns]",
            "text/html": "<div>\n<style scoped>\n    .dataframe tbody tr th:only-of-type {\n        vertical-align: middle;\n    }\n\n    .dataframe tbody tr th {\n        vertical-align: top;\n    }\n\n    .dataframe thead th {\n        text-align: right;\n    }\n</style>\n<table border=\"1\" class=\"dataframe\">\n  <thead>\n    <tr style=\"text-align: right;\">\n      <th></th>\n      <th>mean_fit_time</th>\n      <th>std_fit_time</th>\n      <th>mean_score_time</th>\n      <th>std_score_time</th>\n      <th>param_randomforestregressor__max_depth</th>\n      <th>param_randomforestregressor__max_features</th>\n      <th>param_randomforestregressor__n_estimators</th>\n      <th>param_simpleimputer__strategy</th>\n      <th>param_targetencoder__min_samples_leaf</th>\n      <th>params</th>\n      <th>...</th>\n      <th>split2_train_score</th>\n      <th>split3_train_score</th>\n      <th>split4_train_score</th>\n      <th>split5_train_score</th>\n      <th>split6_train_score</th>\n      <th>split7_train_score</th>\n      <th>split8_train_score</th>\n      <th>split9_train_score</th>\n      <th>mean_train_score</th>\n      <th>std_train_score</th>\n    </tr>\n  </thead>\n  <tbody>\n    <tr>\n      <th>61</th>\n      <td>1.363081</td>\n      <td>0.128157</td>\n      <td>0.056153</td>\n      <td>0.007256</td>\n      <td>None</td>\n      <td>0.986182</td>\n      <td>398</td>\n      <td>mean</td>\n      <td>5</td>\n      <td>{'randomforestregressor__max_depth': None, 'ra...</td>\n      <td>...</td>\n      <td>-1950.609764</td>\n      <td>-1901.849216</td>\n      <td>-1895.940927</td>\n      <td>-1824.079906</td>\n      <td>-1841.544614</td>\n      <td>-1855.911297</td>\n      <td>-1733.359133</td>\n      <td>-1948.990987</td>\n      <td>-1883.535799</td>\n      <td>67.469292</td>\n    </tr>\n    <tr>\n      <th>79</th>\n      <td>1.321998</td>\n      <td>0.170846</td>\n      <td>0.062034</td>\n      <td>0.010041</td>\n      <td>None</td>\n      <td>0.379498</td>\n      <td>415</td>\n      <td>median</td>\n      <td>16</td>\n      <td>{'randomforestregressor__max_depth': None, 'ra...</td>\n      <td>...</td>\n      <td>-2085.053657</td>\n      <td>-2045.164112</td>\n      <td>-2022.755899</td>\n      <td>-2000.208981</td>\n      <td>-1963.811804</td>\n      <td>-2007.124421</td>\n      <td>-1896.872409</td>\n      <td>-2073.886493</td>\n      <td>-2025.151760</td>\n      <td>57.747833</td>\n    </tr>\n    <tr>\n      <th>7</th>\n      <td>1.397432</td>\n      <td>0.160406</td>\n      <td>0.070114</td>\n      <td>0.011137</td>\n      <td>20</td>\n      <td>0.561344</td>\n      <td>453</td>\n      <td>mean</td>\n      <td>179</td>\n      <td>{'randomforestregressor__max_depth': 20, 'rand...</td>\n      <td>...</td>\n      <td>-2170.357688</td>\n      <td>-2136.805371</td>\n      <td>-2136.955418</td>\n      <td>-2073.181318</td>\n      <td>-2055.644982</td>\n      <td>-2103.663581</td>\n      <td>-1936.613554</td>\n      <td>-2106.066373</td>\n      <td>-2102.408475</td>\n      <td>66.485077</td>\n    </tr>\n    <tr>\n      <th>91</th>\n      <td>0.706480</td>\n      <td>0.083515</td>\n      <td>0.043197</td>\n      <td>0.010474</td>\n      <td>15</td>\n      <td>0.54968</td>\n      <td>190</td>\n      <td>median</td>\n      <td>137</td>\n      <td>{'randomforestregressor__max_depth': 15, 'rand...</td>\n      <td>...</td>\n      <td>-2167.335259</td>\n      <td>-2145.277089</td>\n      <td>-2138.733773</td>\n      <td>-2060.845855</td>\n      <td>-2052.457126</td>\n      <td>-2130.840580</td>\n      <td>-1946.277000</td>\n      <td>-2110.576278</td>\n      <td>-2105.742154</td>\n      <td>65.506164</td>\n    </tr>\n    <tr>\n      <th>58</th>\n      <td>0.701381</td>\n      <td>0.087130</td>\n      <td>0.037232</td>\n      <td>0.005974</td>\n      <td>20</td>\n      <td>0.973945</td>\n      <td>170</td>\n      <td>median</td>\n      <td>126</td>\n      <td>{'randomforestregressor__max_depth': 20, 'rand...</td>\n      <td>...</td>\n      <td>-2239.542196</td>\n      <td>-2191.094081</td>\n      <td>-2212.796241</td>\n      <td>-2083.279578</td>\n      <td>-2092.838220</td>\n      <td>-2156.760620</td>\n      <td>-1961.107907</td>\n      <td>-2134.466116</td>\n      <td>-2151.052927</td>\n      <td>81.821445</td>\n    </tr>\n    <tr>\n      <th>...</th>\n      <td>...</td>\n      <td>...</td>\n      <td>...</td>\n      <td>...</td>\n      <td>...</td>\n      <td>...</td>\n      <td>...</td>\n      <td>...</td>\n      <td>...</td>\n      <td>...</td>\n      <td>...</td>\n      <td>...</td>\n      <td>...</td>\n      <td>...</td>\n      <td>...</td>\n      <td>...</td>\n      <td>...</td>\n      <td>...</td>\n      <td>...</td>\n      <td>...</td>\n      <td>...</td>\n    </tr>\n    <tr>\n      <th>48</th>\n      <td>0.946056</td>\n      <td>0.065716</td>\n      <td>0.058842</td>\n      <td>0.008731</td>\n      <td>5</td>\n      <td>0.0935676</td>\n      <td>420</td>\n      <td>median</td>\n      <td>452</td>\n      <td>{'randomforestregressor__max_depth': 5, 'rando...</td>\n      <td>...</td>\n      <td>-7444.415113</td>\n      <td>-7303.524169</td>\n      <td>-7413.960573</td>\n      <td>-7285.452319</td>\n      <td>-7147.125144</td>\n      <td>-7176.814723</td>\n      <td>-6976.709275</td>\n      <td>-7387.477525</td>\n      <td>-7298.334908</td>\n      <td>149.781753</td>\n    </tr>\n    <tr>\n      <th>68</th>\n      <td>0.483652</td>\n      <td>0.039490</td>\n      <td>0.030595</td>\n      <td>0.002030</td>\n      <td>20</td>\n      <td>0.014904</td>\n      <td>134</td>\n      <td>mean</td>\n      <td>391</td>\n      <td>{'randomforestregressor__max_depth': 20, 'rand...</td>\n      <td>...</td>\n      <td>-3180.630804</td>\n      <td>-3026.868177</td>\n      <td>-3147.066389</td>\n      <td>-3014.607852</td>\n      <td>-2992.657678</td>\n      <td>-3006.458497</td>\n      <td>-2850.379615</td>\n      <td>-3117.610311</td>\n      <td>-3064.507776</td>\n      <td>102.829583</td>\n    </tr>\n    <tr>\n      <th>99</th>\n      <td>1.235153</td>\n      <td>0.098487</td>\n      <td>0.063044</td>\n      <td>0.007001</td>\n      <td>None</td>\n      <td>0.159948</td>\n      <td>434</td>\n      <td>median</td>\n      <td>440</td>\n      <td>{'randomforestregressor__max_depth': None, 'ra...</td>\n      <td>...</td>\n      <td>-3149.314135</td>\n      <td>-3011.604133</td>\n      <td>-3119.457620</td>\n      <td>-3000.415944</td>\n      <td>-2964.066196</td>\n      <td>-2981.087309</td>\n      <td>-2840.844364</td>\n      <td>-3095.838469</td>\n      <td>-3037.779692</td>\n      <td>94.129977</td>\n    </tr>\n    <tr>\n      <th>49</th>\n      <td>0.653488</td>\n      <td>0.063011</td>\n      <td>0.038102</td>\n      <td>0.004243</td>\n      <td>15</td>\n      <td>0.0540382</td>\n      <td>213</td>\n      <td>median</td>\n      <td>391</td>\n      <td>{'randomforestregressor__max_depth': 15, 'rand...</td>\n      <td>...</td>\n      <td>-3230.678956</td>\n      <td>-3073.117237</td>\n      <td>-3176.229684</td>\n      <td>-3070.574116</td>\n      <td>-3026.392878</td>\n      <td>-3039.972171</td>\n      <td>-2884.802258</td>\n      <td>-3128.389368</td>\n      <td>-3096.863663</td>\n      <td>99.907367</td>\n    </tr>\n    <tr>\n      <th>14</th>\n      <td>1.151912</td>\n      <td>0.088903</td>\n      <td>0.059740</td>\n      <td>0.008083</td>\n      <td>15</td>\n      <td>0.0494367</td>\n      <td>420</td>\n      <td>median</td>\n      <td>370</td>\n      <td>{'randomforestregressor__max_depth': 15, 'rand...</td>\n      <td>...</td>\n      <td>-3211.683461</td>\n      <td>-3056.126756</td>\n      <td>-3161.296864</td>\n      <td>-3063.365910</td>\n      <td>-3013.994432</td>\n      <td>-3020.190006</td>\n      <td>-2884.524767</td>\n      <td>-3133.173495</td>\n      <td>-3086.141909</td>\n      <td>96.521839</td>\n    </tr>\n  </tbody>\n</table>\n<p>100 rows × 35 columns</p>\n</div>"
          },
          "metadata": {},
          "execution_count": 67
        }
      ],
      "source": [
        "pd.DataFrame(search.cv_results_).sort_values(by='rank_test_score')"
      ]
    },
    {
      "cell_type": "code",
      "execution_count": 43,
      "metadata": {},
      "outputs": [],
      "source": [
        "pipeline = search.best_estimator_"
      ]
    },
    {
      "cell_type": "code",
      "execution_count": 44,
      "metadata": {},
      "outputs": [
        {
          "output_type": "stream",
          "name": "stdout",
          "text": "Test MAE: $5,621\n"
        }
      ],
      "source": [
        "X_test = test[features]\n",
        "y_test = test[target]\n",
        "\n",
        "y_pred = pipeline.predict(X_test)\n",
        "mae = mean_absolute_error(y_test, y_pred)\n",
        "print(f'Test MAE: ${mae:,.0f}')"
      ]
    },
    {
      "cell_type": "code",
      "execution_count": 45,
      "metadata": {},
      "outputs": [
        {
          "output_type": "execute_result",
          "data": {
            "text/plain": "     condition  milage  Year    Brand  Model Model_Vers  S_RS  Cabriolet  \\\n830       Used   36843  2015  Porsche    911    Carrera     S    Hardtop   \n244       Used   22789  2017  Porsche    911    Carrera    4S    Hardtop   \n226        CPO   13220  2017  Porsche    911    Carrera    4S    Hardtop   \n1020      Used   21136  2013  Porsche    911    Carrera     S    Hardtop   \n606       Used   35103  2018  Porsche    911    Carrera  Base    Hardtop   \n...        ...     ...   ...      ...    ...        ...   ...        ...   \n1098      Used    5517  2019  Porsche    911    Carrera     T    Hardtop   \n1408      Used   17000  2008  Porsche    911    Carrera     S  Cabriolet   \n936       Used   26775  2013  Porsche    911    Carrera     S    Hardtop   \n1261      Used   22463  2013  Porsche    911    Carrera  Base    Hardtop   \n532       Used   28822  2014  Porsche    911    Carrera    4S    Hardtop   \n\n            Color Transmission  \n830         White    Automatic  \n244         Black    Automatic  \n226         Black    Automatic  \n1020        White    Automatic  \n606         Other    Automatic  \n...           ...          ...  \n1098          Red    Automatic  \n1408        Other       Manual  \n936         White    Automatic  \n1261  Gray/Silver       Manual  \n532         Other    Automatic  \n\n[162 rows x 10 columns]",
            "text/html": "<div>\n<style scoped>\n    .dataframe tbody tr th:only-of-type {\n        vertical-align: middle;\n    }\n\n    .dataframe tbody tr th {\n        vertical-align: top;\n    }\n\n    .dataframe thead th {\n        text-align: right;\n    }\n</style>\n<table border=\"1\" class=\"dataframe\">\n  <thead>\n    <tr style=\"text-align: right;\">\n      <th></th>\n      <th>condition</th>\n      <th>milage</th>\n      <th>Year</th>\n      <th>Brand</th>\n      <th>Model</th>\n      <th>Model_Vers</th>\n      <th>S_RS</th>\n      <th>Cabriolet</th>\n      <th>Color</th>\n      <th>Transmission</th>\n    </tr>\n  </thead>\n  <tbody>\n    <tr>\n      <th>830</th>\n      <td>Used</td>\n      <td>36843</td>\n      <td>2015</td>\n      <td>Porsche</td>\n      <td>911</td>\n      <td>Carrera</td>\n      <td>S</td>\n      <td>Hardtop</td>\n      <td>White</td>\n      <td>Automatic</td>\n    </tr>\n    <tr>\n      <th>244</th>\n      <td>Used</td>\n      <td>22789</td>\n      <td>2017</td>\n      <td>Porsche</td>\n      <td>911</td>\n      <td>Carrera</td>\n      <td>4S</td>\n      <td>Hardtop</td>\n      <td>Black</td>\n      <td>Automatic</td>\n    </tr>\n    <tr>\n      <th>226</th>\n      <td>CPO</td>\n      <td>13220</td>\n      <td>2017</td>\n      <td>Porsche</td>\n      <td>911</td>\n      <td>Carrera</td>\n      <td>4S</td>\n      <td>Hardtop</td>\n      <td>Black</td>\n      <td>Automatic</td>\n    </tr>\n    <tr>\n      <th>1020</th>\n      <td>Used</td>\n      <td>21136</td>\n      <td>2013</td>\n      <td>Porsche</td>\n      <td>911</td>\n      <td>Carrera</td>\n      <td>S</td>\n      <td>Hardtop</td>\n      <td>White</td>\n      <td>Automatic</td>\n    </tr>\n    <tr>\n      <th>606</th>\n      <td>Used</td>\n      <td>35103</td>\n      <td>2018</td>\n      <td>Porsche</td>\n      <td>911</td>\n      <td>Carrera</td>\n      <td>Base</td>\n      <td>Hardtop</td>\n      <td>Other</td>\n      <td>Automatic</td>\n    </tr>\n    <tr>\n      <th>...</th>\n      <td>...</td>\n      <td>...</td>\n      <td>...</td>\n      <td>...</td>\n      <td>...</td>\n      <td>...</td>\n      <td>...</td>\n      <td>...</td>\n      <td>...</td>\n      <td>...</td>\n    </tr>\n    <tr>\n      <th>1098</th>\n      <td>Used</td>\n      <td>5517</td>\n      <td>2019</td>\n      <td>Porsche</td>\n      <td>911</td>\n      <td>Carrera</td>\n      <td>T</td>\n      <td>Hardtop</td>\n      <td>Red</td>\n      <td>Automatic</td>\n    </tr>\n    <tr>\n      <th>1408</th>\n      <td>Used</td>\n      <td>17000</td>\n      <td>2008</td>\n      <td>Porsche</td>\n      <td>911</td>\n      <td>Carrera</td>\n      <td>S</td>\n      <td>Cabriolet</td>\n      <td>Other</td>\n      <td>Manual</td>\n    </tr>\n    <tr>\n      <th>936</th>\n      <td>Used</td>\n      <td>26775</td>\n      <td>2013</td>\n      <td>Porsche</td>\n      <td>911</td>\n      <td>Carrera</td>\n      <td>S</td>\n      <td>Hardtop</td>\n      <td>White</td>\n      <td>Automatic</td>\n    </tr>\n    <tr>\n      <th>1261</th>\n      <td>Used</td>\n      <td>22463</td>\n      <td>2013</td>\n      <td>Porsche</td>\n      <td>911</td>\n      <td>Carrera</td>\n      <td>Base</td>\n      <td>Hardtop</td>\n      <td>Gray/Silver</td>\n      <td>Manual</td>\n    </tr>\n    <tr>\n      <th>532</th>\n      <td>Used</td>\n      <td>28822</td>\n      <td>2014</td>\n      <td>Porsche</td>\n      <td>911</td>\n      <td>Carrera</td>\n      <td>4S</td>\n      <td>Hardtop</td>\n      <td>Other</td>\n      <td>Automatic</td>\n    </tr>\n  </tbody>\n</table>\n<p>162 rows × 10 columns</p>\n</div>"
          },
          "metadata": {},
          "execution_count": 45
        }
      ],
      "source": [
        "X_test"
      ]
    },
    {
      "cell_type": "code",
      "execution_count": 46,
      "metadata": {},
      "outputs": [
        {
          "output_type": "execute_result",
          "data": {
            "text/plain": "condition            Used\nmilage              19020\nYear                 2015\nBrand             Porsche\nModel                 911\nModel_Vers        Carrera\nS_RS                 Base\nCabriolet         Hardtop\nColor               Black\nTransmission    Automatic\nName: 1, dtype: object"
          },
          "metadata": {},
          "execution_count": 46
        }
      ],
      "source": [
        "Model_test = X_test.loc[1,].copy()\n",
        "Model_test"
      ]
    },
    {
      "cell_type": "code",
      "execution_count": 82,
      "metadata": {},
      "outputs": [],
      "source": [
        "Model_test.condition = 'Used'\n",
        "Model_test.milage = 60000\n",
        "Model_test.Year = 2013\n",
        "Model_test.Brand = 'Porsche'\n",
        "Model_test.Model = 911\n",
        "Model_test.Model_Vers = 'Carrera'\n",
        "Model_test.S_RS = 'S'\n",
        "Model_test.Cabriolet = 'Cabriolet'\n",
        "Model_test.Color = 'Black'\n",
        "Model_test.Transmission = 'Automatic'"
      ]
    },
    {
      "cell_type": "code",
      "execution_count": 83,
      "metadata": {},
      "outputs": [
        {
          "output_type": "execute_result",
          "data": {
            "text/plain": "condition            Used\nmilage              60000\nYear                 2013\nBrand             Porsche\nModel                 911\nModel_Vers        Carrera\nS_RS                    S\nCabriolet       Cabriolet\nColor               Black\nTransmission    Automatic\nName: 1, dtype: object"
          },
          "metadata": {},
          "execution_count": 83
        }
      ],
      "source": [
        "Model_test"
      ]
    },
    {
      "cell_type": "code",
      "execution_count": 84,
      "metadata": {},
      "outputs": [],
      "source": [
        "price = pipeline.predict([Model_test])\n"
      ]
    },
    {
      "cell_type": "code",
      "execution_count": 85,
      "metadata": {},
      "outputs": [
        {
          "output_type": "stream",
          "name": "stdout",
          "text": "High price for your 911 is:$ 61180.0\nFair price for your 911 is:$ 58267.0\nLow price for your 911 is:$ 55354.0\n"
        }
      ],
      "source": [
        "print(\"High price for your 911 is:$\",round(price[0]+(price[0]*.05),0))\n",
        "print(\"Fair price for your 911 is:$\",round(price[0],0))\n",
        "print(\"Low price for your 911 is:$\",round(price[0]-(price[0]*.05),0))"
      ]
    },
    {
      "cell_type": "code",
      "execution_count": 66,
      "metadata": {},
      "outputs": [
        {
          "output_type": "error",
          "ename": "NameError",
          "evalue": "name 'price_dict' is not defined",
          "traceback": [
            "\u001b[1;31m---------------------------------------------------------------------------\u001b[0m",
            "\u001b[1;31mNameError\u001b[0m                                 Traceback (most recent call last)",
            "\u001b[1;32m<ipython-input-66-07c9e7ebbdd2>\u001b[0m in \u001b[0;36m<module>\u001b[1;34m\u001b[0m\n\u001b[1;32m----> 1\u001b[1;33m \u001b[0mprice_dict\u001b[0m\u001b[1;33m\u001b[0m\u001b[1;33m\u001b[0m\u001b[0m\n\u001b[0m",
            "\u001b[1;31mNameError\u001b[0m: name 'price_dict' is not defined"
          ]
        }
      ],
      "source": [
        "price_dict"
      ]
    },
    {
      "cell_type": "code",
      "execution_count": null,
      "metadata": {},
      "outputs": [],
      "source": []
    }
  ],
  "metadata": {
    "colab": {
      "name": "Porsche_911.ipynb",
      "provenance": [],
      "authorship_tag": "ABX9TyN6bSkRV5yK+S2A7e2MZXF+",
      "include_colab_link": true
    },
    "kernelspec": {
      "name": "python3",
      "display_name": "Python 3"
    }
  },
  "nbformat": 4,
  "nbformat_minor": 0
}
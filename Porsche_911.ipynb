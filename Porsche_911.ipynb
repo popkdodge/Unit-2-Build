{
  "cells": [
    {
      "cell_type": "code",
      "metadata": {
        "id": "0TXog-C7YI5y",
        "colab_type": "code",
        "colab": {}
      },
      "source": [
        "import pandas as pd\n",
        "import numpy as np\n"
      ],
      "execution_count": 94,
      "outputs": []
    },
    {
      "cell_type": "code",
      "metadata": {
        "id": "XTGC-WwtW-Dy",
        "colab_type": "code",
        "colab": {}
      },
      "source": [
        "df = pd.read_csv('https://raw.githubusercontent.com/popkdodge/Unit-2-Build/master/Carrera_911_1_2.csv',index_col=[0])"
      ],
      "execution_count": 95,
      "outputs": []
    },
    {
      "cell_type": "code",
      "metadata": {
        "id": "pFR_iXuTYH5Q",
        "colab_type": "code",
        "outputId": "9dfbf1be-d9d3-475c-e0f2-14442781629a",
        "colab": {
          "base_uri": "https://localhost:8080/",
          "height": 406
        }
      },
      "source": [
        "df"
      ],
      "execution_count": 96,
      "outputs": [
        {
          "output_type": "execute_result",
          "data": {
            "text/plain": "              condition  milage     Price  Year    Brand  Model Model_Vers  \\\n0                  Used   47649   48950.0  2012  Porsche    911    Carrera   \n1                  Used   19020   67988.0  2015  Porsche    911    Carrera   \n3                  Used   56436   51990.0  2012  Porsche    911    Carrera   \n4                  Used   85000   34900.0  2009  Porsche    911    Carrera   \n5                  Used   15808   96995.0  2018  Porsche    911    Carrera   \n...                 ...     ...       ...   ...      ...    ...        ...   \n1493               Used   19826   99950.0  2017  Porsche    911    Carrera   \n1494               Used   15710   89995.0  2016  Porsche    911    Carrera   \n1495               Used     502   93900.0  2018  Porsche    911    Carrera   \n1496               Used    5182   81995.0  2016  Porsche    911    Carrera   \n1501  Porsche Certified   10074  112000.0  2018  Porsche    911    Carrera   \n\n       S_RS  Cabriolet  Color Transmission  \n0     Black    Edition  Black    Automatic  \n1      Base    Hardtop  Black    Automatic  \n3         S    Hardtop  Black    Automatic  \n4         S  Cabriolet  Black    Automatic  \n5         S    Hardtop  Black    Automatic  \n...     ...        ...    ...          ...  \n1493     4S    Hardtop  White       Manual  \n1494     4S    Hardtop  White       Manual  \n1495      T    Hardtop  White       Manual  \n1496      S    Hardtop  White       Manual  \n1501     4S    Hardtop  White       Manual  \n\n[810 rows x 11 columns]",
            "text/html": "<div>\n<style scoped>\n    .dataframe tbody tr th:only-of-type {\n        vertical-align: middle;\n    }\n\n    .dataframe tbody tr th {\n        vertical-align: top;\n    }\n\n    .dataframe thead th {\n        text-align: right;\n    }\n</style>\n<table border=\"1\" class=\"dataframe\">\n  <thead>\n    <tr style=\"text-align: right;\">\n      <th></th>\n      <th>condition</th>\n      <th>milage</th>\n      <th>Price</th>\n      <th>Year</th>\n      <th>Brand</th>\n      <th>Model</th>\n      <th>Model_Vers</th>\n      <th>S_RS</th>\n      <th>Cabriolet</th>\n      <th>Color</th>\n      <th>Transmission</th>\n    </tr>\n  </thead>\n  <tbody>\n    <tr>\n      <th>0</th>\n      <td>Used</td>\n      <td>47649</td>\n      <td>48950.0</td>\n      <td>2012</td>\n      <td>Porsche</td>\n      <td>911</td>\n      <td>Carrera</td>\n      <td>Black</td>\n      <td>Edition</td>\n      <td>Black</td>\n      <td>Automatic</td>\n    </tr>\n    <tr>\n      <th>1</th>\n      <td>Used</td>\n      <td>19020</td>\n      <td>67988.0</td>\n      <td>2015</td>\n      <td>Porsche</td>\n      <td>911</td>\n      <td>Carrera</td>\n      <td>Base</td>\n      <td>Hardtop</td>\n      <td>Black</td>\n      <td>Automatic</td>\n    </tr>\n    <tr>\n      <th>3</th>\n      <td>Used</td>\n      <td>56436</td>\n      <td>51990.0</td>\n      <td>2012</td>\n      <td>Porsche</td>\n      <td>911</td>\n      <td>Carrera</td>\n      <td>S</td>\n      <td>Hardtop</td>\n      <td>Black</td>\n      <td>Automatic</td>\n    </tr>\n    <tr>\n      <th>4</th>\n      <td>Used</td>\n      <td>85000</td>\n      <td>34900.0</td>\n      <td>2009</td>\n      <td>Porsche</td>\n      <td>911</td>\n      <td>Carrera</td>\n      <td>S</td>\n      <td>Cabriolet</td>\n      <td>Black</td>\n      <td>Automatic</td>\n    </tr>\n    <tr>\n      <th>5</th>\n      <td>Used</td>\n      <td>15808</td>\n      <td>96995.0</td>\n      <td>2018</td>\n      <td>Porsche</td>\n      <td>911</td>\n      <td>Carrera</td>\n      <td>S</td>\n      <td>Hardtop</td>\n      <td>Black</td>\n      <td>Automatic</td>\n    </tr>\n    <tr>\n      <th>...</th>\n      <td>...</td>\n      <td>...</td>\n      <td>...</td>\n      <td>...</td>\n      <td>...</td>\n      <td>...</td>\n      <td>...</td>\n      <td>...</td>\n      <td>...</td>\n      <td>...</td>\n      <td>...</td>\n    </tr>\n    <tr>\n      <th>1493</th>\n      <td>Used</td>\n      <td>19826</td>\n      <td>99950.0</td>\n      <td>2017</td>\n      <td>Porsche</td>\n      <td>911</td>\n      <td>Carrera</td>\n      <td>4S</td>\n      <td>Hardtop</td>\n      <td>White</td>\n      <td>Manual</td>\n    </tr>\n    <tr>\n      <th>1494</th>\n      <td>Used</td>\n      <td>15710</td>\n      <td>89995.0</td>\n      <td>2016</td>\n      <td>Porsche</td>\n      <td>911</td>\n      <td>Carrera</td>\n      <td>4S</td>\n      <td>Hardtop</td>\n      <td>White</td>\n      <td>Manual</td>\n    </tr>\n    <tr>\n      <th>1495</th>\n      <td>Used</td>\n      <td>502</td>\n      <td>93900.0</td>\n      <td>2018</td>\n      <td>Porsche</td>\n      <td>911</td>\n      <td>Carrera</td>\n      <td>T</td>\n      <td>Hardtop</td>\n      <td>White</td>\n      <td>Manual</td>\n    </tr>\n    <tr>\n      <th>1496</th>\n      <td>Used</td>\n      <td>5182</td>\n      <td>81995.0</td>\n      <td>2016</td>\n      <td>Porsche</td>\n      <td>911</td>\n      <td>Carrera</td>\n      <td>S</td>\n      <td>Hardtop</td>\n      <td>White</td>\n      <td>Manual</td>\n    </tr>\n    <tr>\n      <th>1501</th>\n      <td>Porsche Certified</td>\n      <td>10074</td>\n      <td>112000.0</td>\n      <td>2018</td>\n      <td>Porsche</td>\n      <td>911</td>\n      <td>Carrera</td>\n      <td>4S</td>\n      <td>Hardtop</td>\n      <td>White</td>\n      <td>Manual</td>\n    </tr>\n  </tbody>\n</table>\n<p>810 rows × 11 columns</p>\n</div>"
          },
          "metadata": {},
          "execution_count": 96
        }
      ]
    },
    {
      "cell_type": "code",
      "metadata": {
        "id": "3O15x4CgYQZh",
        "colab_type": "code",
        "outputId": "08033378-6362-46c5-fd88-f934aa966b91",
        "colab": {
          "base_uri": "https://localhost:8080/",
          "height": 105
        }
      },
      "source": [
        "df['Cabriolet'].value_counts()"
      ],
      "execution_count": 97,
      "outputs": [
        {
          "output_type": "execute_result",
          "data": {
            "text/plain": "Hardtop      736\nCabriolet     69\nEdition        4\nBlack          1\nName: Cabriolet, dtype: int64"
          },
          "metadata": {},
          "execution_count": 97
        }
      ]
    },
    {
      "cell_type": "code",
      "metadata": {
        "id": "9xlaMAukZAwP",
        "colab_type": "code",
        "outputId": "c22d4d89-d47a-4235-9e52-a0549aebdd61",
        "colab": {
          "base_uri": "https://localhost:8080/",
          "height": 230
        }
      },
      "source": [
        "df.isnull().sum()"
      ],
      "execution_count": 98,
      "outputs": [
        {
          "output_type": "execute_result",
          "data": {
            "text/plain": "condition       0\nmilage          0\nPrice           0\nYear            0\nBrand           0\nModel           0\nModel_Vers      0\nS_RS            0\nCabriolet       0\nColor           0\nTransmission    0\ndtype: int64"
          },
          "metadata": {},
          "execution_count": 98
        }
      ]
    },
    {
      "cell_type": "code",
      "metadata": {
        "id": "XD6vcCjvYemr",
        "colab_type": "code",
        "colab": {}
      },
      "source": [
        "df['Cabriolet'] = df['Cabriolet'].replace(\"Black\",'Hardtop')"
      ],
      "execution_count": 99,
      "outputs": []
    },
    {
      "cell_type": "code",
      "metadata": {
        "colab_type": "code",
        "id": "-tdTHFnrY5Ao",
        "colab": {}
      },
      "source": [
        "df['Cabriolet'] = df['Cabriolet'].replace(\"Edition\",'Hardtop')"
      ],
      "execution_count": 100,
      "outputs": []
    },
    {
      "cell_type": "code",
      "metadata": {
        "id": "Sf8jlHVzY2Ry",
        "colab_type": "code",
        "colab": {}
      },
      "source": [
        "df['Price'] = df['Price'].astype(int)"
      ],
      "execution_count": 101,
      "outputs": []
    },
    {
      "cell_type": "code",
      "metadata": {
        "id": "_uLEAlGjal7U",
        "colab_type": "code",
        "outputId": "e876f2d3-8372-4fce-bf28-8f42e7c4eee0",
        "colab": {
          "base_uri": "https://localhost:8080/",
          "height": 230
        }
      },
      "source": [
        "df.dtypes"
      ],
      "execution_count": 102,
      "outputs": [
        {
          "output_type": "execute_result",
          "data": {
            "text/plain": "condition       object\nmilage           int64\nPrice            int32\nYear             int64\nBrand           object\nModel            int64\nModel_Vers      object\nS_RS            object\nCabriolet       object\nColor           object\nTransmission    object\ndtype: object"
          },
          "metadata": {},
          "execution_count": 102
        }
      ]
    },
    {
      "cell_type": "code",
      "metadata": {
        "id": "eB7rYEo2aosx",
        "colab_type": "code",
        "outputId": "e498c4ef-128b-4b54-d923-f455f0209737",
        "colab": {
          "base_uri": "https://localhost:8080/",
          "height": 70
        }
      },
      "source": [
        "df.condition.value_counts(normalize=True)"
      ],
      "execution_count": 103,
      "outputs": [
        {
          "output_type": "execute_result",
          "data": {
            "text/plain": "Used                 0.84321\nPorsche Certified    0.15679\nName: condition, dtype: float64"
          },
          "metadata": {},
          "execution_count": 103
        }
      ]
    },
    {
      "cell_type": "code",
      "metadata": {
        "id": "aslU4xWya1Te",
        "colab_type": "code",
        "colab": {}
      },
      "source": [
        "df['condition'] = df['condition'].replace(\"Porsche Certified\",'CPO')"
      ],
      "execution_count": 104,
      "outputs": []
    },
    {
      "cell_type": "code",
      "metadata": {
        "id": "DqHQrh3Ha9QL",
        "colab_type": "code",
        "colab": {}
      },
      "source": [
        "from sklearn.model_selection import train_test_split\n",
        "train, test= train_test_split(df, test_size=0.20)"
      ],
      "execution_count": 105,
      "outputs": []
    },
    {
      "cell_type": "code",
      "metadata": {
        "id": "b3bQE5U7hsOB",
        "colab_type": "code",
        "colab": {}
      },
      "source": [
        ""
      ],
      "execution_count": 0,
      "outputs": []
    },
    {
      "cell_type": "code",
      "metadata": {
        "id": "FA0xZeJHcDHL",
        "colab_type": "code",
        "outputId": "1bbd41c4-d72e-4954-c1f7-59774e22f065",
        "colab": {
          "base_uri": "https://localhost:8080/",
          "height": 406
        }
      },
      "source": [
        "train"
      ],
      "execution_count": 106,
      "outputs": [
        {
          "output_type": "execute_result",
          "data": {
            "text/plain": "     condition  milage  Price  Year    Brand  Model Model_Vers  S_RS  \\\n718       Used   94249  59995  2013  Porsche    911    Carrera     S   \n705       Used   46857  64000  2014  Porsche    911    Carrera     S   \n1466      Used    3100  81900  2012  Porsche    911    Carrera     S   \n1177      Used   34688  67433  2014  Porsche    911    Carrera     S   \n155       Used   34520  37000  2008  Porsche    911    Carrera     S   \n...        ...     ...    ...   ...      ...    ...        ...   ...   \n1333       CPO   43092  75900  2017  Porsche    911    Carrera  Base   \n1439       CPO   21358  76995  2017  Porsche    911    Carrera  Base   \n104       Used   33302  55850  2010  Porsche    911    Carrera     S   \n422       Used   70865  32888  2008  Porsche    911    Carrera     S   \n54         CPO   27962  64490  2014  Porsche    911    Carrera  Base   \n\n      Cabriolet        Color Transmission  \n718     Hardtop  Gray/Silver    Automatic  \n705     Hardtop  Gray/Silver    Automatic  \n1466    Hardtop        White       Manual  \n1177    Hardtop        Black       Manual  \n155   Cabriolet        Black    Automatic  \n...         ...          ...          ...  \n1333    Hardtop  Gray/Silver       Manual  \n1439    Hardtop          Red       Manual  \n104     Hardtop        Black    Automatic  \n422   Cabriolet         Blue    Automatic  \n54      Hardtop        Black    Automatic  \n\n[648 rows x 11 columns]",
            "text/html": "<div>\n<style scoped>\n    .dataframe tbody tr th:only-of-type {\n        vertical-align: middle;\n    }\n\n    .dataframe tbody tr th {\n        vertical-align: top;\n    }\n\n    .dataframe thead th {\n        text-align: right;\n    }\n</style>\n<table border=\"1\" class=\"dataframe\">\n  <thead>\n    <tr style=\"text-align: right;\">\n      <th></th>\n      <th>condition</th>\n      <th>milage</th>\n      <th>Price</th>\n      <th>Year</th>\n      <th>Brand</th>\n      <th>Model</th>\n      <th>Model_Vers</th>\n      <th>S_RS</th>\n      <th>Cabriolet</th>\n      <th>Color</th>\n      <th>Transmission</th>\n    </tr>\n  </thead>\n  <tbody>\n    <tr>\n      <th>718</th>\n      <td>Used</td>\n      <td>94249</td>\n      <td>59995</td>\n      <td>2013</td>\n      <td>Porsche</td>\n      <td>911</td>\n      <td>Carrera</td>\n      <td>S</td>\n      <td>Hardtop</td>\n      <td>Gray/Silver</td>\n      <td>Automatic</td>\n    </tr>\n    <tr>\n      <th>705</th>\n      <td>Used</td>\n      <td>46857</td>\n      <td>64000</td>\n      <td>2014</td>\n      <td>Porsche</td>\n      <td>911</td>\n      <td>Carrera</td>\n      <td>S</td>\n      <td>Hardtop</td>\n      <td>Gray/Silver</td>\n      <td>Automatic</td>\n    </tr>\n    <tr>\n      <th>1466</th>\n      <td>Used</td>\n      <td>3100</td>\n      <td>81900</td>\n      <td>2012</td>\n      <td>Porsche</td>\n      <td>911</td>\n      <td>Carrera</td>\n      <td>S</td>\n      <td>Hardtop</td>\n      <td>White</td>\n      <td>Manual</td>\n    </tr>\n    <tr>\n      <th>1177</th>\n      <td>Used</td>\n      <td>34688</td>\n      <td>67433</td>\n      <td>2014</td>\n      <td>Porsche</td>\n      <td>911</td>\n      <td>Carrera</td>\n      <td>S</td>\n      <td>Hardtop</td>\n      <td>Black</td>\n      <td>Manual</td>\n    </tr>\n    <tr>\n      <th>155</th>\n      <td>Used</td>\n      <td>34520</td>\n      <td>37000</td>\n      <td>2008</td>\n      <td>Porsche</td>\n      <td>911</td>\n      <td>Carrera</td>\n      <td>S</td>\n      <td>Cabriolet</td>\n      <td>Black</td>\n      <td>Automatic</td>\n    </tr>\n    <tr>\n      <th>...</th>\n      <td>...</td>\n      <td>...</td>\n      <td>...</td>\n      <td>...</td>\n      <td>...</td>\n      <td>...</td>\n      <td>...</td>\n      <td>...</td>\n      <td>...</td>\n      <td>...</td>\n      <td>...</td>\n    </tr>\n    <tr>\n      <th>1333</th>\n      <td>CPO</td>\n      <td>43092</td>\n      <td>75900</td>\n      <td>2017</td>\n      <td>Porsche</td>\n      <td>911</td>\n      <td>Carrera</td>\n      <td>Base</td>\n      <td>Hardtop</td>\n      <td>Gray/Silver</td>\n      <td>Manual</td>\n    </tr>\n    <tr>\n      <th>1439</th>\n      <td>CPO</td>\n      <td>21358</td>\n      <td>76995</td>\n      <td>2017</td>\n      <td>Porsche</td>\n      <td>911</td>\n      <td>Carrera</td>\n      <td>Base</td>\n      <td>Hardtop</td>\n      <td>Red</td>\n      <td>Manual</td>\n    </tr>\n    <tr>\n      <th>104</th>\n      <td>Used</td>\n      <td>33302</td>\n      <td>55850</td>\n      <td>2010</td>\n      <td>Porsche</td>\n      <td>911</td>\n      <td>Carrera</td>\n      <td>S</td>\n      <td>Hardtop</td>\n      <td>Black</td>\n      <td>Automatic</td>\n    </tr>\n    <tr>\n      <th>422</th>\n      <td>Used</td>\n      <td>70865</td>\n      <td>32888</td>\n      <td>2008</td>\n      <td>Porsche</td>\n      <td>911</td>\n      <td>Carrera</td>\n      <td>S</td>\n      <td>Cabriolet</td>\n      <td>Blue</td>\n      <td>Automatic</td>\n    </tr>\n    <tr>\n      <th>54</th>\n      <td>CPO</td>\n      <td>27962</td>\n      <td>64490</td>\n      <td>2014</td>\n      <td>Porsche</td>\n      <td>911</td>\n      <td>Carrera</td>\n      <td>Base</td>\n      <td>Hardtop</td>\n      <td>Black</td>\n      <td>Automatic</td>\n    </tr>\n  </tbody>\n</table>\n<p>648 rows × 11 columns</p>\n</div>"
          },
          "metadata": {},
          "execution_count": 106
        }
      ]
    },
    {
      "cell_type": "code",
      "metadata": {
        "id": "YUXqy1xPc45p",
        "colab_type": "code",
        "outputId": "a0b7131e-792d-45a3-c090-7b5e8e6ddb1f",
        "colab": {
          "base_uri": "https://localhost:8080/",
          "height": 406
        }
      },
      "source": [
        "test"
      ],
      "execution_count": 107,
      "outputs": [
        {
          "output_type": "execute_result",
          "data": {
            "text/plain": "     condition  milage   Price  Year    Brand  Model Model_Vers  S_RS  \\\n12        Used   54905   53000  2012  Porsche    911    Carrera     S   \n1318      Used   15523   60999  2014  Porsche    911    Carrera  Base   \n168       Used    6793  127489  2018  Porsche    911    Carrera   GTS   \n1082      Used   28555   64869  2014  Porsche    911    Carrera  Base   \n1169      Used   56436   51990  2012  Porsche    911    Carrera     S   \n...        ...     ...     ...   ...      ...    ...        ...   ...   \n994       Used   37085   89996  2017  Porsche    911    Carrera     S   \n1138      Used   50678   53950  2009  Porsche    911    Carrera    4S   \n1181      Used   36118   47977  2009  Porsche    911    Carrera     S   \n1287      Used   63485   39900  2007  Porsche    911    Carrera    4S   \n60        Used   72700   34988  2007  Porsche    911    Carrera     S   \n\n      Cabriolet        Color Transmission  \n12      Hardtop        Black    Automatic  \n1318    Hardtop  Gray/Silver       Manual  \n168     Hardtop        Black    Automatic  \n1082    Hardtop          Red    Automatic  \n1169    Hardtop        Black       Manual  \n...         ...          ...          ...  \n994     Hardtop        White    Automatic  \n1138    Hardtop          Red    Automatic  \n1181  Cabriolet        Black       Manual  \n1287  Cabriolet  Gray/Silver       Manual  \n60      Hardtop        Black    Automatic  \n\n[162 rows x 11 columns]",
            "text/html": "<div>\n<style scoped>\n    .dataframe tbody tr th:only-of-type {\n        vertical-align: middle;\n    }\n\n    .dataframe tbody tr th {\n        vertical-align: top;\n    }\n\n    .dataframe thead th {\n        text-align: right;\n    }\n</style>\n<table border=\"1\" class=\"dataframe\">\n  <thead>\n    <tr style=\"text-align: right;\">\n      <th></th>\n      <th>condition</th>\n      <th>milage</th>\n      <th>Price</th>\n      <th>Year</th>\n      <th>Brand</th>\n      <th>Model</th>\n      <th>Model_Vers</th>\n      <th>S_RS</th>\n      <th>Cabriolet</th>\n      <th>Color</th>\n      <th>Transmission</th>\n    </tr>\n  </thead>\n  <tbody>\n    <tr>\n      <th>12</th>\n      <td>Used</td>\n      <td>54905</td>\n      <td>53000</td>\n      <td>2012</td>\n      <td>Porsche</td>\n      <td>911</td>\n      <td>Carrera</td>\n      <td>S</td>\n      <td>Hardtop</td>\n      <td>Black</td>\n      <td>Automatic</td>\n    </tr>\n    <tr>\n      <th>1318</th>\n      <td>Used</td>\n      <td>15523</td>\n      <td>60999</td>\n      <td>2014</td>\n      <td>Porsche</td>\n      <td>911</td>\n      <td>Carrera</td>\n      <td>Base</td>\n      <td>Hardtop</td>\n      <td>Gray/Silver</td>\n      <td>Manual</td>\n    </tr>\n    <tr>\n      <th>168</th>\n      <td>Used</td>\n      <td>6793</td>\n      <td>127489</td>\n      <td>2018</td>\n      <td>Porsche</td>\n      <td>911</td>\n      <td>Carrera</td>\n      <td>GTS</td>\n      <td>Hardtop</td>\n      <td>Black</td>\n      <td>Automatic</td>\n    </tr>\n    <tr>\n      <th>1082</th>\n      <td>Used</td>\n      <td>28555</td>\n      <td>64869</td>\n      <td>2014</td>\n      <td>Porsche</td>\n      <td>911</td>\n      <td>Carrera</td>\n      <td>Base</td>\n      <td>Hardtop</td>\n      <td>Red</td>\n      <td>Automatic</td>\n    </tr>\n    <tr>\n      <th>1169</th>\n      <td>Used</td>\n      <td>56436</td>\n      <td>51990</td>\n      <td>2012</td>\n      <td>Porsche</td>\n      <td>911</td>\n      <td>Carrera</td>\n      <td>S</td>\n      <td>Hardtop</td>\n      <td>Black</td>\n      <td>Manual</td>\n    </tr>\n    <tr>\n      <th>...</th>\n      <td>...</td>\n      <td>...</td>\n      <td>...</td>\n      <td>...</td>\n      <td>...</td>\n      <td>...</td>\n      <td>...</td>\n      <td>...</td>\n      <td>...</td>\n      <td>...</td>\n      <td>...</td>\n    </tr>\n    <tr>\n      <th>994</th>\n      <td>Used</td>\n      <td>37085</td>\n      <td>89996</td>\n      <td>2017</td>\n      <td>Porsche</td>\n      <td>911</td>\n      <td>Carrera</td>\n      <td>S</td>\n      <td>Hardtop</td>\n      <td>White</td>\n      <td>Automatic</td>\n    </tr>\n    <tr>\n      <th>1138</th>\n      <td>Used</td>\n      <td>50678</td>\n      <td>53950</td>\n      <td>2009</td>\n      <td>Porsche</td>\n      <td>911</td>\n      <td>Carrera</td>\n      <td>4S</td>\n      <td>Hardtop</td>\n      <td>Red</td>\n      <td>Automatic</td>\n    </tr>\n    <tr>\n      <th>1181</th>\n      <td>Used</td>\n      <td>36118</td>\n      <td>47977</td>\n      <td>2009</td>\n      <td>Porsche</td>\n      <td>911</td>\n      <td>Carrera</td>\n      <td>S</td>\n      <td>Cabriolet</td>\n      <td>Black</td>\n      <td>Manual</td>\n    </tr>\n    <tr>\n      <th>1287</th>\n      <td>Used</td>\n      <td>63485</td>\n      <td>39900</td>\n      <td>2007</td>\n      <td>Porsche</td>\n      <td>911</td>\n      <td>Carrera</td>\n      <td>4S</td>\n      <td>Cabriolet</td>\n      <td>Gray/Silver</td>\n      <td>Manual</td>\n    </tr>\n    <tr>\n      <th>60</th>\n      <td>Used</td>\n      <td>72700</td>\n      <td>34988</td>\n      <td>2007</td>\n      <td>Porsche</td>\n      <td>911</td>\n      <td>Carrera</td>\n      <td>S</td>\n      <td>Hardtop</td>\n      <td>Black</td>\n      <td>Automatic</td>\n    </tr>\n  </tbody>\n</table>\n<p>162 rows × 11 columns</p>\n</div>"
          },
          "metadata": {},
          "execution_count": 107
        }
      ]
    },
    {
      "cell_type": "code",
      "metadata": {
        "id": "K9H-qFr3c54x",
        "colab_type": "code",
        "colab": {}
      },
      "source": [
        "feature = ['condition','milage','Year','S_RS','Cabriolet']\n",
        "target = 'Price'\n",
        "X_train = train[feature]\n",
        "X_test = test[feature]\n",
        "Y_test = test[target]\n",
        "Y_train = train[target]"
      ],
      "execution_count": 108,
      "outputs": []
    },
    {
      "cell_type": "code",
      "metadata": {
        "id": "zSgLO81geFji",
        "colab_type": "code",
        "outputId": "53731534-06ce-4377-d576-ee00c7dd5889",
        "colab": {
          "base_uri": "https://localhost:8080/",
          "height": 283
        },
        "tags": []
      },
      "source": [
        "#!pip install category_encoders"
      ],
      "execution_count": 109,
      "outputs": []
    },
    {
      "cell_type": "code",
      "metadata": {
        "id": "Pmzy9lAVdQnc",
        "colab_type": "code",
        "outputId": "9f259b6b-801e-4a37-c446-637a941c0213",
        "colab": {
          "base_uri": "https://localhost:8080/",
          "height": 52
        }
      },
      "source": [
        "import category_encoders as ce\n",
        "encoder = ce.OneHotEncoder(use_cat_names=True)"
      ],
      "execution_count": 110,
      "outputs": []
    },
    {
      "cell_type": "code",
      "metadata": {
        "id": "78_uFQtReodF",
        "colab_type": "code",
        "outputId": "bef2f617-1b19-449d-fee1-ceaec749d4b9",
        "colab": {
          "base_uri": "https://localhost:8080/",
          "height": 406
        }
      },
      "source": [
        "X_test"
      ],
      "execution_count": 111,
      "outputs": [
        {
          "output_type": "execute_result",
          "data": {
            "text/plain": "     condition  milage  Year  S_RS  Cabriolet\n12        Used   54905  2012     S    Hardtop\n1318      Used   15523  2014  Base    Hardtop\n168       Used    6793  2018   GTS    Hardtop\n1082      Used   28555  2014  Base    Hardtop\n1169      Used   56436  2012     S    Hardtop\n...        ...     ...   ...   ...        ...\n994       Used   37085  2017     S    Hardtop\n1138      Used   50678  2009    4S    Hardtop\n1181      Used   36118  2009     S  Cabriolet\n1287      Used   63485  2007    4S  Cabriolet\n60        Used   72700  2007     S    Hardtop\n\n[162 rows x 5 columns]",
            "text/html": "<div>\n<style scoped>\n    .dataframe tbody tr th:only-of-type {\n        vertical-align: middle;\n    }\n\n    .dataframe tbody tr th {\n        vertical-align: top;\n    }\n\n    .dataframe thead th {\n        text-align: right;\n    }\n</style>\n<table border=\"1\" class=\"dataframe\">\n  <thead>\n    <tr style=\"text-align: right;\">\n      <th></th>\n      <th>condition</th>\n      <th>milage</th>\n      <th>Year</th>\n      <th>S_RS</th>\n      <th>Cabriolet</th>\n    </tr>\n  </thead>\n  <tbody>\n    <tr>\n      <th>12</th>\n      <td>Used</td>\n      <td>54905</td>\n      <td>2012</td>\n      <td>S</td>\n      <td>Hardtop</td>\n    </tr>\n    <tr>\n      <th>1318</th>\n      <td>Used</td>\n      <td>15523</td>\n      <td>2014</td>\n      <td>Base</td>\n      <td>Hardtop</td>\n    </tr>\n    <tr>\n      <th>168</th>\n      <td>Used</td>\n      <td>6793</td>\n      <td>2018</td>\n      <td>GTS</td>\n      <td>Hardtop</td>\n    </tr>\n    <tr>\n      <th>1082</th>\n      <td>Used</td>\n      <td>28555</td>\n      <td>2014</td>\n      <td>Base</td>\n      <td>Hardtop</td>\n    </tr>\n    <tr>\n      <th>1169</th>\n      <td>Used</td>\n      <td>56436</td>\n      <td>2012</td>\n      <td>S</td>\n      <td>Hardtop</td>\n    </tr>\n    <tr>\n      <th>...</th>\n      <td>...</td>\n      <td>...</td>\n      <td>...</td>\n      <td>...</td>\n      <td>...</td>\n    </tr>\n    <tr>\n      <th>994</th>\n      <td>Used</td>\n      <td>37085</td>\n      <td>2017</td>\n      <td>S</td>\n      <td>Hardtop</td>\n    </tr>\n    <tr>\n      <th>1138</th>\n      <td>Used</td>\n      <td>50678</td>\n      <td>2009</td>\n      <td>4S</td>\n      <td>Hardtop</td>\n    </tr>\n    <tr>\n      <th>1181</th>\n      <td>Used</td>\n      <td>36118</td>\n      <td>2009</td>\n      <td>S</td>\n      <td>Cabriolet</td>\n    </tr>\n    <tr>\n      <th>1287</th>\n      <td>Used</td>\n      <td>63485</td>\n      <td>2007</td>\n      <td>4S</td>\n      <td>Cabriolet</td>\n    </tr>\n    <tr>\n      <th>60</th>\n      <td>Used</td>\n      <td>72700</td>\n      <td>2007</td>\n      <td>S</td>\n      <td>Hardtop</td>\n    </tr>\n  </tbody>\n</table>\n<p>162 rows × 5 columns</p>\n</div>"
          },
          "metadata": {},
          "execution_count": 111
        }
      ]
    },
    {
      "cell_type": "code",
      "metadata": {
        "id": "jrSG9ioQesLf",
        "colab_type": "code",
        "outputId": "5d813412-80c9-4491-dc30-2eb288a92164",
        "colab": {
          "base_uri": "https://localhost:8080/",
          "height": 406
        }
      },
      "source": [
        "X_train"
      ],
      "execution_count": 112,
      "outputs": [
        {
          "output_type": "execute_result",
          "data": {
            "text/plain": "     condition  milage  Year  S_RS  Cabriolet\n718       Used   94249  2013     S    Hardtop\n705       Used   46857  2014     S    Hardtop\n1466      Used    3100  2012     S    Hardtop\n1177      Used   34688  2014     S    Hardtop\n155       Used   34520  2008     S  Cabriolet\n...        ...     ...   ...   ...        ...\n1333       CPO   43092  2017  Base    Hardtop\n1439       CPO   21358  2017  Base    Hardtop\n104       Used   33302  2010     S    Hardtop\n422       Used   70865  2008     S  Cabriolet\n54         CPO   27962  2014  Base    Hardtop\n\n[648 rows x 5 columns]",
            "text/html": "<div>\n<style scoped>\n    .dataframe tbody tr th:only-of-type {\n        vertical-align: middle;\n    }\n\n    .dataframe tbody tr th {\n        vertical-align: top;\n    }\n\n    .dataframe thead th {\n        text-align: right;\n    }\n</style>\n<table border=\"1\" class=\"dataframe\">\n  <thead>\n    <tr style=\"text-align: right;\">\n      <th></th>\n      <th>condition</th>\n      <th>milage</th>\n      <th>Year</th>\n      <th>S_RS</th>\n      <th>Cabriolet</th>\n    </tr>\n  </thead>\n  <tbody>\n    <tr>\n      <th>718</th>\n      <td>Used</td>\n      <td>94249</td>\n      <td>2013</td>\n      <td>S</td>\n      <td>Hardtop</td>\n    </tr>\n    <tr>\n      <th>705</th>\n      <td>Used</td>\n      <td>46857</td>\n      <td>2014</td>\n      <td>S</td>\n      <td>Hardtop</td>\n    </tr>\n    <tr>\n      <th>1466</th>\n      <td>Used</td>\n      <td>3100</td>\n      <td>2012</td>\n      <td>S</td>\n      <td>Hardtop</td>\n    </tr>\n    <tr>\n      <th>1177</th>\n      <td>Used</td>\n      <td>34688</td>\n      <td>2014</td>\n      <td>S</td>\n      <td>Hardtop</td>\n    </tr>\n    <tr>\n      <th>155</th>\n      <td>Used</td>\n      <td>34520</td>\n      <td>2008</td>\n      <td>S</td>\n      <td>Cabriolet</td>\n    </tr>\n    <tr>\n      <th>...</th>\n      <td>...</td>\n      <td>...</td>\n      <td>...</td>\n      <td>...</td>\n      <td>...</td>\n    </tr>\n    <tr>\n      <th>1333</th>\n      <td>CPO</td>\n      <td>43092</td>\n      <td>2017</td>\n      <td>Base</td>\n      <td>Hardtop</td>\n    </tr>\n    <tr>\n      <th>1439</th>\n      <td>CPO</td>\n      <td>21358</td>\n      <td>2017</td>\n      <td>Base</td>\n      <td>Hardtop</td>\n    </tr>\n    <tr>\n      <th>104</th>\n      <td>Used</td>\n      <td>33302</td>\n      <td>2010</td>\n      <td>S</td>\n      <td>Hardtop</td>\n    </tr>\n    <tr>\n      <th>422</th>\n      <td>Used</td>\n      <td>70865</td>\n      <td>2008</td>\n      <td>S</td>\n      <td>Cabriolet</td>\n    </tr>\n    <tr>\n      <th>54</th>\n      <td>CPO</td>\n      <td>27962</td>\n      <td>2014</td>\n      <td>Base</td>\n      <td>Hardtop</td>\n    </tr>\n  </tbody>\n</table>\n<p>648 rows × 5 columns</p>\n</div>"
          },
          "metadata": {},
          "execution_count": 112
        }
      ]
    },
    {
      "cell_type": "code",
      "metadata": {
        "id": "JQt0T-t3fAAP",
        "colab_type": "code",
        "colab": {}
      },
      "source": [
        "X_train = encoder.fit_transform(X_train)"
      ],
      "execution_count": 113,
      "outputs": []
    },
    {
      "cell_type": "code",
      "metadata": {
        "id": "wZ0Poc6eeLyt",
        "colab_type": "code",
        "colab": {}
      },
      "source": [
        "X_test = encoder.fit_transform(X_test)"
      ],
      "execution_count": 114,
      "outputs": []
    },
    {
      "cell_type": "code",
      "metadata": {
        "id": "23v5dKr1eqwt",
        "colab_type": "code",
        "outputId": "9fcceb09-a718-49b2-f6b2-c8f28c9e96dc",
        "colab": {
          "base_uri": "https://localhost:8080/",
          "height": 34
        }
      },
      "source": [
        "from sklearn.linear_model import LinearRegression\n",
        "from sklearn.metrics import mean_absolute_error, mean_squared_error, r2_score\n",
        "\n",
        "model = LinearRegression()\n",
        "model.fit(X_train, Y_train)"
      ],
      "execution_count": 115,
      "outputs": [
        {
          "output_type": "execute_result",
          "data": {
            "text/plain": "LinearRegression(copy_X=True, fit_intercept=True, n_jobs=None, normalize=False)"
          },
          "metadata": {},
          "execution_count": 115
        }
      ]
    },
    {
      "cell_type": "code",
      "metadata": {
        "id": "eXINm9QBeVpg",
        "colab_type": "code",
        "outputId": "04be7ed7-ee43-437c-9a0d-4f4c985f2eb7",
        "colab": {
          "base_uri": "https://localhost:8080/",
          "height": 34
        },
        "tags": []
      },
      "source": [
        "y_pred_train = model.predict(X_train)\n",
        "print(\"MAE(Train):$\",mean_absolute_error(Y_train, y_pred_train))"
      ],
      "execution_count": 116,
      "outputs": [
        {
          "output_type": "stream",
          "name": "stdout",
          "text": "MAE(Train):$ 6202.639916555079\n"
        }
      ]
    },
    {
      "cell_type": "code",
      "metadata": {
        "id": "AAFOnwW0gyzT",
        "colab_type": "code",
        "outputId": "4d39958c-148f-47e0-e6fc-4a81def10709",
        "colab": {
          "base_uri": "https://localhost:8080/",
          "height": 34
        },
        "tags": []
      },
      "source": [
        "r2_base = r2_score(Y_train, y_pred_train)\n",
        "print('R^2 scores (Train):',r2_base)"
      ],
      "execution_count": 117,
      "outputs": [
        {
          "output_type": "stream",
          "name": "stdout",
          "text": "R^2 scores (Train): 0.8288837663506435\n"
        }
      ]
    },
    {
      "cell_type": "code",
      "metadata": {
        "id": "M2e3bvFzhSyo",
        "colab_type": "code",
        "outputId": "6703de46-3c65-4fe8-8572-f2ba578f44a2",
        "colab": {
          "base_uri": "https://localhost:8080/",
          "height": 34
        },
        "tags": []
      },
      "source": [
        "y_pred_val = model.predict(X_test)\n",
        "print(\"MAE(Val):$\",mean_absolute_error(Y_test, y_pred_val))"
      ],
      "execution_count": 118,
      "outputs": [
        {
          "output_type": "error",
          "ename": "ValueError",
          "evalue": "matmul: Input operand 1 has a mismatch in its core dimension 0, with gufunc signature (n?,k),(k,m?)->(n?,m?) (size 14 is different from 13)",
          "traceback": [
            "\u001b[1;31m---------------------------------------------------------------------------\u001b[0m",
            "\u001b[1;31mValueError\u001b[0m                                Traceback (most recent call last)",
            "\u001b[1;32m<ipython-input-118-e129936e145a>\u001b[0m in \u001b[0;36m<module>\u001b[1;34m\u001b[0m\n\u001b[1;32m----> 1\u001b[1;33m \u001b[0my_pred_val\u001b[0m \u001b[1;33m=\u001b[0m \u001b[0mmodel\u001b[0m\u001b[1;33m.\u001b[0m\u001b[0mpredict\u001b[0m\u001b[1;33m(\u001b[0m\u001b[0mX_test\u001b[0m\u001b[1;33m)\u001b[0m\u001b[1;33m\u001b[0m\u001b[1;33m\u001b[0m\u001b[0m\n\u001b[0m\u001b[0;32m      2\u001b[0m \u001b[0mprint\u001b[0m\u001b[1;33m(\u001b[0m\u001b[1;34m\"MAE(Val):$\"\u001b[0m\u001b[1;33m,\u001b[0m\u001b[0mmean_absolute_error\u001b[0m\u001b[1;33m(\u001b[0m\u001b[0mY_test\u001b[0m\u001b[1;33m,\u001b[0m \u001b[0my_pred_val\u001b[0m\u001b[1;33m)\u001b[0m\u001b[1;33m)\u001b[0m\u001b[1;33m\u001b[0m\u001b[1;33m\u001b[0m\u001b[0m\n",
            "\u001b[1;32m~\\anaconda3\\lib\\site-packages\\sklearn\\linear_model\\_base.py\u001b[0m in \u001b[0;36mpredict\u001b[1;34m(self, X)\u001b[0m\n\u001b[0;32m    223\u001b[0m             \u001b[0mReturns\u001b[0m \u001b[0mpredicted\u001b[0m \u001b[0mvalues\u001b[0m\u001b[1;33m.\u001b[0m\u001b[1;33m\u001b[0m\u001b[1;33m\u001b[0m\u001b[0m\n\u001b[0;32m    224\u001b[0m         \"\"\"\n\u001b[1;32m--> 225\u001b[1;33m         \u001b[1;32mreturn\u001b[0m \u001b[0mself\u001b[0m\u001b[1;33m.\u001b[0m\u001b[0m_decision_function\u001b[0m\u001b[1;33m(\u001b[0m\u001b[0mX\u001b[0m\u001b[1;33m)\u001b[0m\u001b[1;33m\u001b[0m\u001b[1;33m\u001b[0m\u001b[0m\n\u001b[0m\u001b[0;32m    226\u001b[0m \u001b[1;33m\u001b[0m\u001b[0m\n\u001b[0;32m    227\u001b[0m     \u001b[0m_preprocess_data\u001b[0m \u001b[1;33m=\u001b[0m \u001b[0mstaticmethod\u001b[0m\u001b[1;33m(\u001b[0m\u001b[0m_preprocess_data\u001b[0m\u001b[1;33m)\u001b[0m\u001b[1;33m\u001b[0m\u001b[1;33m\u001b[0m\u001b[0m\n",
            "\u001b[1;32m~\\anaconda3\\lib\\site-packages\\sklearn\\linear_model\\_base.py\u001b[0m in \u001b[0;36m_decision_function\u001b[1;34m(self, X)\u001b[0m\n\u001b[0;32m    207\u001b[0m         \u001b[0mX\u001b[0m \u001b[1;33m=\u001b[0m \u001b[0mcheck_array\u001b[0m\u001b[1;33m(\u001b[0m\u001b[0mX\u001b[0m\u001b[1;33m,\u001b[0m \u001b[0maccept_sparse\u001b[0m\u001b[1;33m=\u001b[0m\u001b[1;33m[\u001b[0m\u001b[1;34m'csr'\u001b[0m\u001b[1;33m,\u001b[0m \u001b[1;34m'csc'\u001b[0m\u001b[1;33m,\u001b[0m \u001b[1;34m'coo'\u001b[0m\u001b[1;33m]\u001b[0m\u001b[1;33m)\u001b[0m\u001b[1;33m\u001b[0m\u001b[1;33m\u001b[0m\u001b[0m\n\u001b[0;32m    208\u001b[0m         return safe_sparse_dot(X, self.coef_.T,\n\u001b[1;32m--> 209\u001b[1;33m                                dense_output=True) + self.intercept_\n\u001b[0m\u001b[0;32m    210\u001b[0m \u001b[1;33m\u001b[0m\u001b[0m\n\u001b[0;32m    211\u001b[0m     \u001b[1;32mdef\u001b[0m \u001b[0mpredict\u001b[0m\u001b[1;33m(\u001b[0m\u001b[0mself\u001b[0m\u001b[1;33m,\u001b[0m \u001b[0mX\u001b[0m\u001b[1;33m)\u001b[0m\u001b[1;33m:\u001b[0m\u001b[1;33m\u001b[0m\u001b[1;33m\u001b[0m\u001b[0m\n",
            "\u001b[1;32m~\\anaconda3\\lib\\site-packages\\sklearn\\utils\\extmath.py\u001b[0m in \u001b[0;36msafe_sparse_dot\u001b[1;34m(a, b, dense_output)\u001b[0m\n\u001b[0;32m    149\u001b[0m             \u001b[0mret\u001b[0m \u001b[1;33m=\u001b[0m \u001b[0mnp\u001b[0m\u001b[1;33m.\u001b[0m\u001b[0mdot\u001b[0m\u001b[1;33m(\u001b[0m\u001b[0ma\u001b[0m\u001b[1;33m,\u001b[0m \u001b[0mb\u001b[0m\u001b[1;33m)\u001b[0m\u001b[1;33m\u001b[0m\u001b[1;33m\u001b[0m\u001b[0m\n\u001b[0;32m    150\u001b[0m     \u001b[1;32melse\u001b[0m\u001b[1;33m:\u001b[0m\u001b[1;33m\u001b[0m\u001b[1;33m\u001b[0m\u001b[0m\n\u001b[1;32m--> 151\u001b[1;33m         \u001b[0mret\u001b[0m \u001b[1;33m=\u001b[0m \u001b[0ma\u001b[0m \u001b[1;33m@\u001b[0m \u001b[0mb\u001b[0m\u001b[1;33m\u001b[0m\u001b[1;33m\u001b[0m\u001b[0m\n\u001b[0m\u001b[0;32m    152\u001b[0m \u001b[1;33m\u001b[0m\u001b[0m\n\u001b[0;32m    153\u001b[0m     if (sparse.issparse(a) and sparse.issparse(b)\n",
            "\u001b[1;31mValueError\u001b[0m: matmul: Input operand 1 has a mismatch in its core dimension 0, with gufunc signature (n?,k),(k,m?)->(n?,m?) (size 14 is different from 13)"
          ]
        }
      ]
    },
    {
      "cell_type": "code",
      "metadata": {
        "id": "8zYovyEwiKVv",
        "colab_type": "code",
        "outputId": "241ebcc2-15e0-46e7-e1c6-a02e892ac1b5",
        "colab": {
          "base_uri": "https://localhost:8080/",
          "height": 34
        },
        "tags": []
      },
      "source": [
        "r2_base = r2_score(Y_test, y_pred_val)\n",
        "print('R^2 scores (Val):',r2_base)"
      ],
      "execution_count": 119,
      "outputs": [
        {
          "output_type": "error",
          "ename": "NameError",
          "evalue": "name 'y_pred_val' is not defined",
          "traceback": [
            "\u001b[1;31m---------------------------------------------------------------------------\u001b[0m",
            "\u001b[1;31mNameError\u001b[0m                                 Traceback (most recent call last)",
            "\u001b[1;32m<ipython-input-119-c9946b934af9>\u001b[0m in \u001b[0;36m<module>\u001b[1;34m\u001b[0m\n\u001b[1;32m----> 1\u001b[1;33m \u001b[0mr2_base\u001b[0m \u001b[1;33m=\u001b[0m \u001b[0mr2_score\u001b[0m\u001b[1;33m(\u001b[0m\u001b[0mY_test\u001b[0m\u001b[1;33m,\u001b[0m \u001b[0my_pred_val\u001b[0m\u001b[1;33m)\u001b[0m\u001b[1;33m\u001b[0m\u001b[1;33m\u001b[0m\u001b[0m\n\u001b[0m\u001b[0;32m      2\u001b[0m \u001b[0mprint\u001b[0m\u001b[1;33m(\u001b[0m\u001b[1;34m'R^2 scores (Val):'\u001b[0m\u001b[1;33m,\u001b[0m\u001b[0mr2_base\u001b[0m\u001b[1;33m)\u001b[0m\u001b[1;33m\u001b[0m\u001b[1;33m\u001b[0m\u001b[0m\n",
            "\u001b[1;31mNameError\u001b[0m: name 'y_pred_val' is not defined"
          ]
        }
      ]
    },
    {
      "cell_type": "code",
      "metadata": {
        "id": "whHWYXGFiRef",
        "colab_type": "code",
        "outputId": "7489ca5f-460b-43b8-ae01-702deda4bb38",
        "colab": {
          "base_uri": "https://localhost:8080/",
          "height": 123
        }
      },
      "source": [
        "model.coef_"
      ],
      "execution_count": 120,
      "outputs": [
        {
          "output_type": "execute_result",
          "data": {
            "text/plain": "array([-1.20167768e+03,  1.20167768e+03, -3.39766496e-01,  4.02971955e+03,\n       -2.96454954e+03, -1.11741864e+04,  3.96847739e+03, -1.13219125e+04,\n       -7.52980673e+03,  1.91823302e+04, -7.66775767e+03,  1.75074053e+04,\n       -1.13020379e+03,  1.13020379e+03])"
          },
          "metadata": {},
          "execution_count": 120
        }
      ]
    },
    {
      "cell_type": "code",
      "metadata": {
        "id": "O8ubp8Ufiqk-",
        "colab_type": "code",
        "outputId": "283e5920-79b2-4eda-b49f-f187e9dc2500",
        "colab": {
          "base_uri": "https://localhost:8080/",
          "height": 407
        }
      },
      "source": [
        "list(X_train)"
      ],
      "execution_count": 121,
      "outputs": [
        {
          "output_type": "execute_result",
          "data": {
            "text/plain": "['condition_Used',\n 'condition_CPO',\n 'milage',\n 'Year',\n 'S_RS_S',\n 'S_RS_T',\n 'S_RS_4S',\n 'S_RS_Base',\n 'S_RS_Black',\n 'S_RS_GTS4',\n 'S_RS_4',\n 'S_RS_GTS',\n 'Cabriolet_Hardtop',\n 'Cabriolet_Cabriolet']",
            "text/html": "['condition_Used', 'condition_CPO', 'milage', 'Year', 'S_RS_S', 'S_RS_T', 'S_RS_4S', 'S_RS_Base', 'S_RS_Black', 'S_RS_GTS4', 'S_RS_4', 'S_RS_GTS', 'Cabriolet_Hardtop', 'Cabriolet_Cabriolet']"
          },
          "metadata": {},
          "execution_count": 121
        }
      ]
    },
    {
      "cell_type": "code",
      "metadata": {
        "id": "tGtvDkX3jZBn",
        "colab_type": "code",
        "colab": {}
      },
      "source": [
        "condition_Used = 0\n",
        "condition_CPO = 1\n",
        "milage = 30000\n",
        "Year = 2016\n",
        "S_RS_4S = 0\n",
        "S_RS_S = 0\n",
        "S_RS_Base = 1\n",
        "S_RS_GTS = 0\n",
        "S_RS_4 = 0\n",
        "S_RS_T = 0\n",
        "S_RS_4GTS = 0\n",
        "S_RS_Black_Ed = 0\n",
        "Cabriolet_Hardtop = 0\n",
        "Cabriolet_Cabriolet= 1\n",
        "Color_White = 0\n",
        "Color_Black = 1\n",
        "Color_Other = 0\n",
        "Color_Gray_Silver = 0\n",
        "Color_Blue = 0\n",
        "Color_Red = 0\n",
        "Transmission_Manual = 0\n",
        "Transmission_Automatic = 1"
      ],
      "execution_count": 122,
      "outputs": []
    },
    {
      "cell_type": "code",
      "metadata": {
        "id": "xBA0qh8WihBj",
        "colab_type": "code",
        "colab": {}
      },
      "source": [
        "price = model.predict([[condition_Used,condition_CPO,milage,Year,S_RS_4S,S_RS_S\n",
        "                ,S_RS_Base,S_RS_GTS,S_RS_4,S_RS_T,S_RS_4GTS,\n",
        "                S_RS_Black_Ed,Cabriolet_Hardtop,Cabriolet_Cabriolet,Color_White,\n",
        "                Color_Black,Color_Other,Color_Gray_Silver,Color_Blue,Color_Red,Transmission_Automatic,\n",
        "                Transmission_Manual]])\n"
      ],
      "execution_count": 123,
      "outputs": [
        {
          "output_type": "error",
          "ename": "ValueError",
          "evalue": "matmul: Input operand 1 has a mismatch in its core dimension 0, with gufunc signature (n?,k),(k,m?)->(n?,m?) (size 14 is different from 22)",
          "traceback": [
            "\u001b[1;31m---------------------------------------------------------------------------\u001b[0m",
            "\u001b[1;31mValueError\u001b[0m                                Traceback (most recent call last)",
            "\u001b[1;32m<ipython-input-123-db973c112b40>\u001b[0m in \u001b[0;36m<module>\u001b[1;34m\u001b[0m\n\u001b[0;32m      3\u001b[0m                 \u001b[0mS_RS_Black_Ed\u001b[0m\u001b[1;33m,\u001b[0m\u001b[0mCabriolet_Hardtop\u001b[0m\u001b[1;33m,\u001b[0m\u001b[0mCabriolet_Cabriolet\u001b[0m\u001b[1;33m,\u001b[0m\u001b[0mColor_White\u001b[0m\u001b[1;33m,\u001b[0m\u001b[1;33m\u001b[0m\u001b[1;33m\u001b[0m\u001b[0m\n\u001b[0;32m      4\u001b[0m                 \u001b[0mColor_Black\u001b[0m\u001b[1;33m,\u001b[0m\u001b[0mColor_Other\u001b[0m\u001b[1;33m,\u001b[0m\u001b[0mColor_Gray_Silver\u001b[0m\u001b[1;33m,\u001b[0m\u001b[0mColor_Blue\u001b[0m\u001b[1;33m,\u001b[0m\u001b[0mColor_Red\u001b[0m\u001b[1;33m,\u001b[0m\u001b[0mTransmission_Automatic\u001b[0m\u001b[1;33m,\u001b[0m\u001b[1;33m\u001b[0m\u001b[1;33m\u001b[0m\u001b[0m\n\u001b[1;32m----> 5\u001b[1;33m                 Transmission_Manual]])\n\u001b[0m",
            "\u001b[1;32m~\\anaconda3\\lib\\site-packages\\sklearn\\linear_model\\_base.py\u001b[0m in \u001b[0;36mpredict\u001b[1;34m(self, X)\u001b[0m\n\u001b[0;32m    223\u001b[0m             \u001b[0mReturns\u001b[0m \u001b[0mpredicted\u001b[0m \u001b[0mvalues\u001b[0m\u001b[1;33m.\u001b[0m\u001b[1;33m\u001b[0m\u001b[1;33m\u001b[0m\u001b[0m\n\u001b[0;32m    224\u001b[0m         \"\"\"\n\u001b[1;32m--> 225\u001b[1;33m         \u001b[1;32mreturn\u001b[0m \u001b[0mself\u001b[0m\u001b[1;33m.\u001b[0m\u001b[0m_decision_function\u001b[0m\u001b[1;33m(\u001b[0m\u001b[0mX\u001b[0m\u001b[1;33m)\u001b[0m\u001b[1;33m\u001b[0m\u001b[1;33m\u001b[0m\u001b[0m\n\u001b[0m\u001b[0;32m    226\u001b[0m \u001b[1;33m\u001b[0m\u001b[0m\n\u001b[0;32m    227\u001b[0m     \u001b[0m_preprocess_data\u001b[0m \u001b[1;33m=\u001b[0m \u001b[0mstaticmethod\u001b[0m\u001b[1;33m(\u001b[0m\u001b[0m_preprocess_data\u001b[0m\u001b[1;33m)\u001b[0m\u001b[1;33m\u001b[0m\u001b[1;33m\u001b[0m\u001b[0m\n",
            "\u001b[1;32m~\\anaconda3\\lib\\site-packages\\sklearn\\linear_model\\_base.py\u001b[0m in \u001b[0;36m_decision_function\u001b[1;34m(self, X)\u001b[0m\n\u001b[0;32m    207\u001b[0m         \u001b[0mX\u001b[0m \u001b[1;33m=\u001b[0m \u001b[0mcheck_array\u001b[0m\u001b[1;33m(\u001b[0m\u001b[0mX\u001b[0m\u001b[1;33m,\u001b[0m \u001b[0maccept_sparse\u001b[0m\u001b[1;33m=\u001b[0m\u001b[1;33m[\u001b[0m\u001b[1;34m'csr'\u001b[0m\u001b[1;33m,\u001b[0m \u001b[1;34m'csc'\u001b[0m\u001b[1;33m,\u001b[0m \u001b[1;34m'coo'\u001b[0m\u001b[1;33m]\u001b[0m\u001b[1;33m)\u001b[0m\u001b[1;33m\u001b[0m\u001b[1;33m\u001b[0m\u001b[0m\n\u001b[0;32m    208\u001b[0m         return safe_sparse_dot(X, self.coef_.T,\n\u001b[1;32m--> 209\u001b[1;33m                                dense_output=True) + self.intercept_\n\u001b[0m\u001b[0;32m    210\u001b[0m \u001b[1;33m\u001b[0m\u001b[0m\n\u001b[0;32m    211\u001b[0m     \u001b[1;32mdef\u001b[0m \u001b[0mpredict\u001b[0m\u001b[1;33m(\u001b[0m\u001b[0mself\u001b[0m\u001b[1;33m,\u001b[0m \u001b[0mX\u001b[0m\u001b[1;33m)\u001b[0m\u001b[1;33m:\u001b[0m\u001b[1;33m\u001b[0m\u001b[1;33m\u001b[0m\u001b[0m\n",
            "\u001b[1;32m~\\anaconda3\\lib\\site-packages\\sklearn\\utils\\extmath.py\u001b[0m in \u001b[0;36msafe_sparse_dot\u001b[1;34m(a, b, dense_output)\u001b[0m\n\u001b[0;32m    149\u001b[0m             \u001b[0mret\u001b[0m \u001b[1;33m=\u001b[0m \u001b[0mnp\u001b[0m\u001b[1;33m.\u001b[0m\u001b[0mdot\u001b[0m\u001b[1;33m(\u001b[0m\u001b[0ma\u001b[0m\u001b[1;33m,\u001b[0m \u001b[0mb\u001b[0m\u001b[1;33m)\u001b[0m\u001b[1;33m\u001b[0m\u001b[1;33m\u001b[0m\u001b[0m\n\u001b[0;32m    150\u001b[0m     \u001b[1;32melse\u001b[0m\u001b[1;33m:\u001b[0m\u001b[1;33m\u001b[0m\u001b[1;33m\u001b[0m\u001b[0m\n\u001b[1;32m--> 151\u001b[1;33m         \u001b[0mret\u001b[0m \u001b[1;33m=\u001b[0m \u001b[0ma\u001b[0m \u001b[1;33m@\u001b[0m \u001b[0mb\u001b[0m\u001b[1;33m\u001b[0m\u001b[1;33m\u001b[0m\u001b[0m\n\u001b[0m\u001b[0;32m    152\u001b[0m \u001b[1;33m\u001b[0m\u001b[0m\n\u001b[0;32m    153\u001b[0m     if (sparse.issparse(a) and sparse.issparse(b)\n",
            "\u001b[1;31mValueError\u001b[0m: matmul: Input operand 1 has a mismatch in its core dimension 0, with gufunc signature (n?,k),(k,m?)->(n?,m?) (size 14 is different from 22)"
          ]
        }
      ]
    },
    {
      "cell_type": "code",
      "metadata": {
        "id": "2R43VOualuwL",
        "colab_type": "code",
        "outputId": "b05eef92-e7ea-4820-88cc-5c09a646fad5",
        "colab": {
          "base_uri": "https://localhost:8080/",
          "height": 34
        },
        "tags": []
      },
      "source": [
        "print(\"Your 911 should be price at :$\",price)"
      ],
      "execution_count": 124,
      "outputs": [
        {
          "output_type": "error",
          "ename": "NameError",
          "evalue": "name 'price' is not defined",
          "traceback": [
            "\u001b[1;31m---------------------------------------------------------------------------\u001b[0m",
            "\u001b[1;31mNameError\u001b[0m                                 Traceback (most recent call last)",
            "\u001b[1;32m<ipython-input-124-17c21c07b07b>\u001b[0m in \u001b[0;36m<module>\u001b[1;34m\u001b[0m\n\u001b[1;32m----> 1\u001b[1;33m \u001b[0mprint\u001b[0m\u001b[1;33m(\u001b[0m\u001b[1;34m\"Your 911 should be price at :$\"\u001b[0m\u001b[1;33m,\u001b[0m\u001b[0mprice\u001b[0m\u001b[1;33m)\u001b[0m\u001b[1;33m\u001b[0m\u001b[1;33m\u001b[0m\u001b[0m\n\u001b[0m",
            "\u001b[1;31mNameError\u001b[0m: name 'price' is not defined"
          ]
        }
      ]
    },
    {
      "cell_type": "code",
      "metadata": {
        "id": "idvL9kDIU1As",
        "colab_type": "code",
        "colab": {}
      },
      "source": [
        "dt = df.copy()"
      ],
      "execution_count": 125,
      "outputs": []
    },
    {
      "cell_type": "markdown",
      "metadata": {},
      "source": [
        "### Linear Model (Ridge)\n",
        "---"
      ]
    },
    {
      "cell_type": "code",
      "metadata": {
        "id": "GKUIjFOInYAv",
        "colab_type": "code",
        "outputId": "fe4fc491-d2e9-4efb-a0d7-c9079acc6465",
        "colab": {
          "base_uri": "https://localhost:8080/",
          "height": 406
        },
        "tags": []
      },
      "source": [
        "from sklearn.model_selection import GridSearchCV, RandomizedSearchCV\n",
        "import category_encoders as ce\n",
        "import numpy as np\n",
        "from sklearn.feature_selection import f_regression, SelectKBest\n",
        "from sklearn.impute import SimpleImputer\n",
        "from sklearn.linear_model import Ridge\n",
        "from sklearn.model_selection import cross_val_score\n",
        "from sklearn.pipeline import make_pipeline\n",
        "from sklearn.preprocessing import StandardScaler\n",
        "\n",
        "pipeline = make_pipeline(\n",
        "    ce.OneHotEncoder(use_cat_names=True), \n",
        "    SimpleImputer(), \n",
        "    StandardScaler(), \n",
        "    SelectKBest(f_regression), \n",
        "    Ridge()\n",
        ")\n",
        "\n",
        "param_distributions = {\n",
        "    'simpleimputer__strategy': ['mean', 'median'], \n",
        "    'selectkbest__k': range(1, len(X_train.columns)+1), \n",
        "    'ridge__alpha': [0.1, 1,8,9,10,15], \n",
        "}\n",
        "\n",
        "# If you're on Colab, decrease n_iter & cv parameters\n",
        "search = RandomizedSearchCV(\n",
        "    pipeline, \n",
        "    param_distributions=param_distributions, \n",
        "    n_iter=100, \n",
        "    cv=10, \n",
        "    scoring='neg_mean_absolute_error', \n",
        "    verbose=10, \n",
        "    return_train_score=True, \n",
        "    n_jobs=-1\n",
        ")\n",
        "\n",
        "search.fit(X_train, Y_train);"
      ],
      "execution_count": 126,
      "outputs": [
        {
          "output_type": "stream",
          "name": "stdout",
          "text": "Fitting 10 folds for each of 100 candidates, totalling 1000 fits\n[Parallel(n_jobs=-1)]: Using backend LokyBackend with 12 concurrent workers.\n[Parallel(n_jobs=-1)]: Done   1 tasks      | elapsed:    1.5s\n[Parallel(n_jobs=-1)]: Done   8 tasks      | elapsed:    1.6s\n[Parallel(n_jobs=-1)]: Done  17 tasks      | elapsed:    1.7s\n[Parallel(n_jobs=-1)]: Done  26 tasks      | elapsed:    1.7s\n[Parallel(n_jobs=-1)]: Done  37 tasks      | elapsed:    1.8s\n[Parallel(n_jobs=-1)]: Batch computation too fast (0.1939s.) Setting batch_size=2.\n[Parallel(n_jobs=-1)]: Done  48 tasks      | elapsed:    1.8s\n[Parallel(n_jobs=-1)]: Done  61 tasks      | elapsed:    1.9s\n[Parallel(n_jobs=-1)]: Batch computation too fast (0.1284s.) Setting batch_size=4.\n[Parallel(n_jobs=-1)]: Done  77 tasks      | elapsed:    2.0s\n[Parallel(n_jobs=-1)]: Done 106 tasks      | elapsed:    2.1s\n[Parallel(n_jobs=-1)]: Batch computation too fast (0.1420s.) Setting batch_size=8.\n[Parallel(n_jobs=-1)]: Done 152 tasks      | elapsed:    2.2s\n[Parallel(n_jobs=-1)]: Done 224 tasks      | elapsed:    2.4s\n[Parallel(n_jobs=-1)]: Done 360 tasks      | elapsed:    2.7s\n[Parallel(n_jobs=-1)]: Done 512 tasks      | elapsed:    2.9s\n[Parallel(n_jobs=-1)]: Done 664 tasks      | elapsed:    3.3s\n[Parallel(n_jobs=-1)]: Done 832 tasks      | elapsed:    3.6s\n[Parallel(n_jobs=-1)]: Batch computation too fast (0.1849s.) Setting batch_size=16.\n[Parallel(n_jobs=-1)]: Done 1000 out of 1000 | elapsed:    3.7s finished\n"
        }
      ]
    },
    {
      "cell_type": "code",
      "execution_count": 127,
      "metadata": {
        "tags": []
      },
      "outputs": [
        {
          "output_type": "stream",
          "name": "stdout",
          "text": "Best hyperparameters {'simpleimputer__strategy': 'mean', 'selectkbest__k': 12, 'ridge__alpha': 15}\nCross-validation MAE 6332.585572709655\n"
        }
      ],
      "source": [
        "print('Best hyperparameters', search.best_params_)\n",
        "print('Cross-validation MAE', -search.best_score_)"
      ]
    },
    {
      "cell_type": "code",
      "execution_count": 128,
      "metadata": {},
      "outputs": [
        {
          "output_type": "execute_result",
          "data": {
            "text/plain": "215.138   \n\n                                                                              71  \\\nmean_fit_time                                                         0.00928202   \nstd_fit_time                                                          0.00302221   \nmean_score_time                                                       0.00205038   \nstd_score_time                                                       0.000652468   \nparam_simpleimputer__strategy                                             median   \nparam_selectkbest__k                                                           4   \nparam_ridge__alpha                                                           0.1   \nparams                         {'simpleimputer__strategy': 'median', 'selectk...   \nsplit0_test_score                                                        -8103.2   \nsplit1_test_score                                                       -9549.67   \nsplit2_test_score                                                       -7107.16   \nsplit3_test_score                                                       -9000.49   \nsplit4_test_score                                                       -11448.6   \nsplit5_test_score                                                       -7511.68   \nsplit6_test_score                                                       -7696.91   \nsplit7_test_score                                                       -12020.9   \nsplit8_test_score                                                       -7108.19   \nsplit9_test_score                                                       -7979.59   \nmean_test_score                                                         -8752.64   \nstd_test_score                                                           1665.31   \nrank_test_score                                                               93   \nsplit0_train_score                                                      -8845.67   \nsplit1_train_score                                                      -8587.04   \nsplit2_train_score                                                      -8896.14   \nsplit3_train_score                                                      -8732.16   \nsplit4_train_score                                                      -8345.16   \nsplit5_train_score                                                      -8878.06   \nsplit6_train_score                                                      -8787.42   \nsplit7_train_score                                                      -8271.22   \nsplit8_train_score                                                      -8867.63   \nsplit9_train_score                                                      -8810.42   \nmean_train_score                                                        -8702.09   \nstd_train_score                                                          215.138   \n\n                                                                              76  \\\nmean_fit_time                                                          0.0131626   \nstd_fit_time                                                           0.0172623   \nmean_score_time                                                       0.00199487   \nstd_score_time                                                       0.000630525   \nparam_simpleimputer__strategy                                               mean   \nparam_selectkbest__k                                                           1   \nparam_ridge__alpha                                                            15   \nparams                         {'simpleimputer__strategy': 'mean', 'selectkbe...   \nsplit0_test_score                                                       -8181.03   \nsplit1_test_score                                                       -11097.3   \nsplit2_test_score                                                       -8974.12   \nsplit3_test_score                                                       -10093.3   \nsplit4_test_score                                                       -13978.5   \nsplit5_test_score                                                       -8446.82   \nsplit6_test_score                                                         -10168   \nsplit7_test_score                                                       -13087.5   \nsplit8_test_score                                                       -9194.65   \nsplit9_test_score                                                       -9051.25   \nmean_test_score                                                         -10227.2   \nstd_test_score                                                           1854.95   \nrank_test_score                                                               95   \nsplit0_train_score                                                      -10445.4   \nsplit1_train_score                                                      -10077.9   \nsplit2_train_score                                                      -10360.9   \nsplit3_train_score                                                      -10263.1   \nsplit4_train_score                                                      -9758.96   \nsplit5_train_score                                                      -10397.5   \nsplit6_train_score                                                      -10204.8   \nsplit7_train_score                                                      -9837.92   \nsplit8_train_score                                                      -10311.9   \nsplit9_train_score                                                      -10346.5   \nmean_train_score                                                        -10200.5   \nstd_train_score                                                          224.414   \n\n                                                                              26  \\\nmean_fit_time                                                         0.00688167   \nstd_fit_time                                                         0.000536716   \nmean_score_time                                                       0.00139616   \nstd_score_time                                                       0.000488636   \nparam_simpleimputer__strategy                                             median   \nparam_selectkbest__k                                                           1   \nparam_ridge__alpha                                                            15   \nparams                         {'simpleimputer__strategy': 'median', 'selectk...   \nsplit0_test_score                                                       -8181.03   \nsplit1_test_score                                                       -11097.3   \nsplit2_test_score                                                       -8974.12   \nsplit3_test_score                                                       -10093.3   \nsplit4_test_score                                                       -13978.5   \nsplit5_test_score                                                       -8446.82   \nsplit6_test_score                                                         -10168   \nsplit7_test_score                                                       -13087.5   \nsplit8_test_score                                                       -9194.65   \nsplit9_test_score                                                       -9051.25   \nmean_test_score                                                         -10227.2   \nstd_test_score                                                           1854.95   \nrank_test_score                                                               95   \nsplit0_train_score                                                      -10445.4   \nsplit1_train_score                                                      -10077.9   \nsplit2_train_score                                                      -10360.9   \nsplit3_train_score                                                      -10263.1   \nsplit4_train_score                                                      -9758.96   \nsplit5_train_score                                                      -10397.5   \nsplit6_train_score                                                      -10204.8   \nsplit7_train_score                                                      -9837.92   \nsplit8_train_score                                                      -10311.9   \nsplit9_train_score                                                      -10346.5   \nmean_train_score                                                        -10200.5   \nstd_train_score                                                          224.414   \n\n                                                                              7   \\\nmean_fit_time                                                         0.00558534   \nstd_fit_time                                                         0.000661833   \nmean_score_time                                                       0.00109694   \nstd_score_time                                                       0.000298827   \nparam_simpleimputer__strategy                                               mean   \nparam_selectkbest__k                                                           1   \nparam_ridge__alpha                                                            10   \nparams                         {'simpleimputer__strategy': 'mean', 'selectkbe...   \nsplit0_test_score                                                       -8206.57   \nsplit1_test_score                                                       -11123.4   \nsplit2_test_score                                                       -8955.46   \nsplit3_test_score                                                         -10121   \nsplit4_test_score                                                       -13988.4   \nsplit5_test_score                                                       -8420.55   \nsplit6_test_score                                                       -10163.7   \nsplit7_test_score                                                       -13078.9   \nsplit8_test_score                                                       -9231.23   \nsplit9_test_score                                                       -9049.57   \nmean_test_score                                                         -10233.9   \nstd_test_score                                                            1855.8   \nrank_test_score                                                               97   \nsplit0_train_score                                                        -10450   \nsplit1_train_score                                                      -10081.5   \nsplit2_train_score                                                      -10368.9   \nsplit3_train_score                                                      -10270.2   \nsplit4_train_score                                                      -9762.06   \nsplit5_train_score                                                      -10405.4   \nsplit6_train_score                                                      -10211.9   \nsplit7_train_score                                                      -9844.12   \nsplit8_train_score                                                      -10316.3   \nsplit9_train_score                                                        -10353   \nmean_train_score                                                        -10206.4   \nstd_train_score                                                           225.24   \n\n                                                                              37  \\\nmean_fit_time                                                         0.00698745   \nstd_fit_time                                                         0.000862554   \nmean_score_time                                                       0.00319126   \nstd_score_time                                                        0.00560254   \nparam_simpleimputer__strategy                                             median   \nparam_selectkbest__k                                                           1   \nparam_ridge__alpha                                                             9   \nparams                         {'simpleimputer__strategy': 'median', 'selectk...   \nsplit0_test_score                                                       -8213.24   \nsplit1_test_score                                                       -11131.2   \nsplit2_test_score                                                       -8951.69   \nsplit3_test_score                                                       -10126.6   \nsplit4_test_score                                                       -13990.4   \nsplit5_test_score                                                       -8415.24   \nsplit6_test_score                                                       -10162.8   \nsplit7_test_score                                                         -13079   \nsplit8_test_score                                                       -9238.62   \nsplit9_test_score                                                       -9049.23   \nmean_test_score                                                         -10235.8   \nstd_test_score                                                           1856.24   \nrank_test_score                                                               98   \nsplit0_train_score                                                      -10451.2   \nsplit1_train_score                                                      -10082.4   \nsplit2_train_score                                                      -10370.5   \nsplit3_train_score                                                      -10271.7   \nsplit4_train_score                                                      -9762.84   \nsplit5_train_score                                                      -10407.3   \nsplit6_train_score                                                      -10213.5   \nsplit7_train_score                                                      -9845.77   \nsplit8_train_score                                                      -10317.4   \nsplit9_train_score                                                      -10354.4   \nmean_train_score                                                        -10207.7   \nstd_train_score                                                          225.368   \n\n                                                                              54  \\\nmean_fit_time                                                           0.014169   \nstd_fit_time                                                           0.0183218   \nmean_score_time                                                       0.00375087   \nstd_score_time                                                        0.00283446   \nparam_simpleimputer__strategy                                               mean   \nparam_selectkbest__k                                                           1   \nparam_ridge__alpha                                                             1   \nparams                         {'simpleimputer__strategy': 'mean', 'selectkbe...   \nsplit0_test_score                                                       -8267.39   \nsplit1_test_score                                                       -11197.4   \nsplit2_test_score                                                       -8921.06   \nsplit3_test_score                                                       -10172.1   \nsplit4_test_score                                                       -14006.6   \nsplit5_test_score                                                       -8372.13   \nsplit6_test_score                                                       -10155.8   \nsplit7_test_score                                                       -13080.1   \nsplit8_test_score                                                       -9306.53   \nsplit9_test_score                                                       -9046.47   \nmean_test_score                                                         -10252.6   \nstd_test_score                                                           1859.99   \nrank_test_score                                                               99   \nsplit0_train_score                                                      -10465.9   \nsplit1_train_score                                                      -10092.3   \nsplit2_train_score                                                        -10385   \nsplit3_train_score                                                      -10286.5   \nsplit4_train_score                                                      -9771.08   \nsplit5_train_score                                                      -10422.7   \nsplit6_train_score                                                        -10227   \nsplit7_train_score                                                      -9861.06   \nsplit8_train_score                                                      -10329.7   \nsplit9_train_score                                                      -10366.9   \nmean_train_score                                                        -10220.8   \nstd_train_score                                                          226.616   \n\n                                                                              46  \nmean_fit_time                                                          0.0166557  \nstd_fit_time                                                           0.0132087  \nmean_score_time                                                       0.00259299  \nstd_score_time                                                        0.00195416  \nparam_simpleimputer__strategy                                             median  \nparam_selectkbest__k                                                           1  \nparam_ridge__alpha                                                             1  \nparams                         {'simpleimputer__strategy': 'median', 'selectk...  \nsplit0_test_score                                                       -8267.39  \nsplit1_test_score                                                       -11197.4  \nsplit2_test_score                                                       -8921.06  \nsplit3_test_score                                                       -10172.1  \nsplit4_test_score                                                       -14006.6  \nsplit5_test_score                                                       -8372.13  \nsplit6_test_score                                                       -10155.8  \nsplit7_test_score                                                       -13080.1  \nsplit8_test_score                                                       -9306.53  \nsplit9_test_score                                                       -9046.47  \nmean_test_score                                                         -10252.6  \nstd_test_score                                                           1859.99  \nrank_test_score                                                               99  \nsplit0_train_score                                                      -10465.9  \nsplit1_train_score                                                      -10092.3  \nsplit2_train_score                                                        -10385  \nsplit3_train_score                                                      -10286.5  \nsplit4_train_score                                                      -9771.08  \nsplit5_train_score                                                      -10422.7  \nsplit6_train_score                                                        -10227  \nsplit7_train_score                                                      -9861.06  \nsplit8_train_score                                                      -10329.7  \nsplit9_train_score                                                      -10366.9  \nmean_train_score                                                        -10220.8  \nstd_train_score                                                          226.616  \n\n[33 rows x 100 columns]",
            "text/html": "<div>\n<style scoped>\n    .dataframe tbody tr th:only-of-type {\n        vertical-align: middle;\n    }\n\n    .dataframe tbody tr th {\n        vertical-align: top;\n    }\n\n    .dataframe thead th {\n        text-align: right;\n    }\n</style>\n<table border=\"1\" class=\"dataframe\">\n  <thead>\n    <tr style=\"text-align: right;\">\n      <th></th>\n      <th>1</th>\n      <th>91</th>\n      <th>4</th>\n      <th>25</th>\n      <th>27</th>\n      <th>18</th>\n      <th>93</th>\n      <th>19</th>\n      <th>21</th>\n      <th>34</th>\n      <th>...</th>\n      <th>36</th>\n      <th>78</th>\n      <th>14</th>\n      <th>71</th>\n      <th>76</th>\n      <th>26</th>\n      <th>7</th>\n      <th>37</th>\n      <th>54</th>\n      <th>46</th>\n    </tr>\n  </thead>\n  <tbody>\n    <tr>\n      <th>mean_fit_time</th>\n      <td>0.00866396</td>\n      <td>0.00887575</td>\n      <td>0.0123666</td>\n      <td>0.00688181</td>\n      <td>0.00628333</td>\n      <td>0.00681744</td>\n      <td>0.00738118</td>\n      <td>0.00658209</td>\n      <td>0.00488672</td>\n      <td>0.00698106</td>\n      <td>...</td>\n      <td>0.00787897</td>\n      <td>0.00787921</td>\n      <td>0.00608332</td>\n      <td>0.00928202</td>\n      <td>0.0131626</td>\n      <td>0.00688167</td>\n      <td>0.00558534</td>\n      <td>0.00698745</td>\n      <td>0.014169</td>\n      <td>0.0166557</td>\n    </tr>\n    <tr>\n      <th>std_fit_time</th>\n      <td>0.00306685</td>\n      <td>0.00379661</td>\n      <td>0.0111525</td>\n      <td>0.000536876</td>\n      <td>0.000638665</td>\n      <td>0.00117694</td>\n      <td>0.001493</td>\n      <td>0.00066179</td>\n      <td>0.000828129</td>\n      <td>0.00172731</td>\n      <td>...</td>\n      <td>0.00215941</td>\n      <td>0.00215973</td>\n      <td>0.000299431</td>\n      <td>0.00302221</td>\n      <td>0.0172623</td>\n      <td>0.000536716</td>\n      <td>0.000661833</td>\n      <td>0.000862554</td>\n      <td>0.0183218</td>\n      <td>0.0132087</td>\n    </tr>\n    <tr>\n      <th>mean_score_time</th>\n      <td>0.00189512</td>\n      <td>0.00189486</td>\n      <td>0.00299249</td>\n      <td>0.00139647</td>\n      <td>0.00159581</td>\n      <td>0.00149562</td>\n      <td>0.0102722</td>\n      <td>0.00179541</td>\n      <td>0.00129631</td>\n      <td>0.0021951</td>\n      <td>...</td>\n      <td>0.00149643</td>\n      <td>0.00219386</td>\n      <td>0.00139675</td>\n      <td>0.00205038</td>\n      <td>0.00199487</td>\n      <td>0.00139616</td>\n      <td>0.00109694</td>\n      <td>0.00319126</td>\n      <td>0.00375087</td>\n      <td>0.00259299</td>\n    </tr>\n    <tr>\n      <th>std_score_time</th>\n      <td>0.000537065</td>\n      <td>0.000828622</td>\n      <td>0.00160876</td>\n      <td>0.000488627</td>\n      <td>0.000488189</td>\n      <td>0.000498463</td>\n      <td>0.0192466</td>\n      <td>0.000398458</td>\n      <td>0.000456628</td>\n      <td>0.000746111</td>\n      <td>...</td>\n      <td>0.000498462</td>\n      <td>0.0009772</td>\n      <td>0.00048888</td>\n      <td>0.000652468</td>\n      <td>0.000630525</td>\n      <td>0.000488636</td>\n      <td>0.000298827</td>\n      <td>0.00560254</td>\n      <td>0.00283446</td>\n      <td>0.00195416</td>\n    </tr>\n    <tr>\n      <th>param_simpleimputer__strategy</th>\n      <td>mean</td>\n      <td>median</td>\n      <td>mean</td>\n      <td>median</td>\n      <td>mean</td>\n      <td>median</td>\n      <td>mean</td>\n      <td>mean</td>\n      <td>mean</td>\n      <td>mean</td>\n      <td>...</td>\n      <td>median</td>\n      <td>mean</td>\n      <td>mean</td>\n      <td>median</td>\n      <td>mean</td>\n      <td>median</td>\n      <td>mean</td>\n      <td>median</td>\n      <td>mean</td>\n      <td>median</td>\n    </tr>\n    <tr>\n      <th>param_selectkbest__k</th>\n      <td>12</td>\n      <td>12</td>\n      <td>12</td>\n      <td>12</td>\n      <td>12</td>\n      <td>12</td>\n      <td>13</td>\n      <td>13</td>\n      <td>13</td>\n      <td>12</td>\n      <td>...</td>\n      <td>4</td>\n      <td>3</td>\n      <td>4</td>\n      <td>4</td>\n      <td>1</td>\n      <td>1</td>\n      <td>1</td>\n      <td>1</td>\n      <td>1</td>\n      <td>1</td>\n    </tr>\n    <tr>\n      <th>param_ridge__alpha</th>\n      <td>15</td>\n      <td>10</td>\n      <td>9</td>\n      <td>9</td>\n      <td>8</td>\n      <td>8</td>\n      <td>15</td>\n      <td>9</td>\n      <td>8</td>\n      <td>1</td>\n      <td>...</td>\n      <td>1</td>\n      <td>0.1</td>\n      <td>0.1</td>\n      <td>0.1</td>\n      <td>15</td>\n      <td>15</td>\n      <td>10</td>\n      <td>9</td>\n      <td>1</td>\n      <td>1</td>\n    </tr>\n    <tr>\n      <th>params</th>\n      <td>{'simpleimputer__strategy': 'mean', 'selectkbe...</td>\n      <td>{'simpleimputer__strategy': 'median', 'selectk...</td>\n      <td>{'simpleimputer__strategy': 'mean', 'selectkbe...</td>\n      <td>{'simpleimputer__strategy': 'median', 'selectk...</td>\n      <td>{'simpleimputer__strategy': 'mean', 'selectkbe...</td>\n      <td>{'simpleimputer__strategy': 'median', 'selectk...</td>\n      <td>{'simpleimputer__strategy': 'mean', 'selectkbe...</td>\n      <td>{'simpleimputer__strategy': 'mean', 'selectkbe...</td>\n      <td>{'simpleimputer__strategy': 'mean', 'selectkbe...</td>\n      <td>{'simpleimputer__strategy': 'mean', 'selectkbe...</td>\n      <td>...</td>\n      <td>{'simpleimputer__strategy': 'median', 'selectk...</td>\n      <td>{'simpleimputer__strategy': 'mean', 'selectkbe...</td>\n      <td>{'simpleimputer__strategy': 'mean', 'selectkbe...</td>\n      <td>{'simpleimputer__strategy': 'median', 'selectk...</td>\n      <td>{'simpleimputer__strategy': 'mean', 'selectkbe...</td>\n      <td>{'simpleimputer__strategy': 'median', 'selectk...</td>\n      <td>{'simpleimputer__strategy': 'mean', 'selectkbe...</td>\n      <td>{'simpleimputer__strategy': 'median', 'selectk...</td>\n      <td>{'simpleimputer__strategy': 'mean', 'selectkbe...</td>\n      <td>{'simpleimputer__strategy': 'median', 'selectk...</td>\n    </tr>\n    <tr>\n      <th>split0_test_score</th>\n      <td>-6776.29</td>\n      <td>-6764.49</td>\n      <td>-6761.38</td>\n      <td>-6761.38</td>\n      <td>-6757.96</td>\n      <td>-6757.96</td>\n      <td>-6751.96</td>\n      <td>-6759.52</td>\n      <td>-6760.23</td>\n      <td>-6726.74</td>\n      <td>...</td>\n      <td>-8096.6</td>\n      <td>-8103.17</td>\n      <td>-8103.2</td>\n      <td>-8103.2</td>\n      <td>-8181.03</td>\n      <td>-8181.03</td>\n      <td>-8206.57</td>\n      <td>-8213.24</td>\n      <td>-8267.39</td>\n      <td>-8267.39</td>\n    </tr>\n    <tr>\n      <th>split1_test_score</th>\n      <td>-7777.36</td>\n      <td>-7800.83</td>\n      <td>-7806.06</td>\n      <td>-7806.06</td>\n      <td>-7811.5</td>\n      <td>-7811.5</td>\n      <td>-7871.64</td>\n      <td>-7879.93</td>\n      <td>-7881.24</td>\n      <td>-7863.96</td>\n      <td>...</td>\n      <td>-9550.57</td>\n      <td>-9549.67</td>\n      <td>-9549.67</td>\n      <td>-9549.67</td>\n      <td>-11097.3</td>\n      <td>-11097.3</td>\n      <td>-11123.4</td>\n      <td>-11131.2</td>\n      <td>-11197.4</td>\n      <td>-11197.4</td>\n    </tr>\n    <tr>\n      <th>split2_test_score</th>\n      <td>-5039.79</td>\n      <td>-5070.39</td>\n      <td>-5076.57</td>\n      <td>-5076.57</td>\n      <td>-5082.77</td>\n      <td>-5082.77</td>\n      <td>-5036.02</td>\n      <td>-5073.63</td>\n      <td>-5080</td>\n      <td>-5126.64</td>\n      <td>...</td>\n      <td>-7106.14</td>\n      <td>-7107.16</td>\n      <td>-7107.16</td>\n      <td>-7107.16</td>\n      <td>-8974.12</td>\n      <td>-8974.12</td>\n      <td>-8955.46</td>\n      <td>-8951.69</td>\n      <td>-8921.06</td>\n      <td>-8921.06</td>\n    </tr>\n    <tr>\n      <th>split3_test_score</th>\n      <td>-5557.21</td>\n      <td>-5585.65</td>\n      <td>-5593.53</td>\n      <td>-5593.53</td>\n      <td>-5601.76</td>\n      <td>-5601.76</td>\n      <td>-5635.93</td>\n      <td>-5654.04</td>\n      <td>-5657.18</td>\n      <td>-5670.44</td>\n      <td>...</td>\n      <td>-8995.75</td>\n      <td>-9000.5</td>\n      <td>-9000.49</td>\n      <td>-9000.49</td>\n      <td>-10093.3</td>\n      <td>-10093.3</td>\n      <td>-10121</td>\n      <td>-10126.6</td>\n      <td>-10172.1</td>\n      <td>-10172.1</td>\n    </tr>\n    <tr>\n      <th>split4_test_score</th>\n      <td>-8023.81</td>\n      <td>-7990.58</td>\n      <td>-7983.52</td>\n      <td>-7983.52</td>\n      <td>-7976.31</td>\n      <td>-7976.31</td>\n      <td>-7981.55</td>\n      <td>-7953.09</td>\n      <td>-7948.32</td>\n      <td>-7920.4</td>\n      <td>...</td>\n      <td>-11447.3</td>\n      <td>-11448.6</td>\n      <td>-11448.6</td>\n      <td>-11448.6</td>\n      <td>-13978.5</td>\n      <td>-13978.5</td>\n      <td>-13988.4</td>\n      <td>-13990.4</td>\n      <td>-14006.6</td>\n      <td>-14006.6</td>\n    </tr>\n    <tr>\n      <th>split5_test_score</th>\n      <td>-5780.16</td>\n      <td>-5788.67</td>\n      <td>-5790.91</td>\n      <td>-5790.91</td>\n      <td>-5793.37</td>\n      <td>-5793.37</td>\n      <td>-5778.17</td>\n      <td>-5779.9</td>\n      <td>-5781.55</td>\n      <td>-5818.55</td>\n      <td>...</td>\n      <td>-7513.26</td>\n      <td>-7511.68</td>\n      <td>-7511.68</td>\n      <td>-7511.68</td>\n      <td>-8446.82</td>\n      <td>-8446.82</td>\n      <td>-8420.55</td>\n      <td>-8415.24</td>\n      <td>-8372.13</td>\n      <td>-8372.13</td>\n    </tr>\n    <tr>\n      <th>split6_test_score</th>\n      <td>-5340.1</td>\n      <td>-5303.3</td>\n      <td>-5295.45</td>\n      <td>-5295.45</td>\n      <td>-5287.41</td>\n      <td>-5287.41</td>\n      <td>-5342.45</td>\n      <td>-5310.53</td>\n      <td>-5304.9</td>\n      <td>-5225.51</td>\n      <td>...</td>\n      <td>-7700.41</td>\n      <td>-7696.91</td>\n      <td>-7696.91</td>\n      <td>-7696.91</td>\n      <td>-10168</td>\n      <td>-10168</td>\n      <td>-10163.7</td>\n      <td>-10162.8</td>\n      <td>-10155.8</td>\n      <td>-10155.8</td>\n    </tr>\n    <tr>\n      <th>split7_test_score</th>\n      <td>-9445.35</td>\n      <td>-9450.59</td>\n      <td>-9452.94</td>\n      <td>-9452.94</td>\n      <td>-9455.37</td>\n      <td>-9455.37</td>\n      <td>-9415.86</td>\n      <td>-9426.33</td>\n      <td>-9430.52</td>\n      <td>-9487.08</td>\n      <td>...</td>\n      <td>-12018.3</td>\n      <td>-12020.9</td>\n      <td>-12020.9</td>\n      <td>-12020.9</td>\n      <td>-13087.5</td>\n      <td>-13087.5</td>\n      <td>-13078.9</td>\n      <td>-13079</td>\n      <td>-13080.1</td>\n      <td>-13080.1</td>\n    </tr>\n    <tr>\n      <th>split8_test_score</th>\n      <td>-4825.41</td>\n      <td>-4865.6</td>\n      <td>-4874.13</td>\n      <td>-4874.13</td>\n      <td>-4882.85</td>\n      <td>-4882.85</td>\n      <td>-4867.85</td>\n      <td>-4904.85</td>\n      <td>-4911.19</td>\n      <td>-4956.83</td>\n      <td>...</td>\n      <td>-7104.92</td>\n      <td>-7108.19</td>\n      <td>-7108.19</td>\n      <td>-7108.19</td>\n      <td>-9194.65</td>\n      <td>-9194.65</td>\n      <td>-9231.23</td>\n      <td>-9238.62</td>\n      <td>-9306.53</td>\n      <td>-9306.53</td>\n    </tr>\n    <tr>\n      <th>split9_test_score</th>\n      <td>-4760.38</td>\n      <td>-4724.15</td>\n      <td>-4716.3</td>\n      <td>-4716.3</td>\n      <td>-4708.22</td>\n      <td>-4708.22</td>\n      <td>-4707.54</td>\n      <td>-4680.04</td>\n      <td>-4675.39</td>\n      <td>-4649.54</td>\n      <td>...</td>\n      <td>-7980.92</td>\n      <td>-7979.59</td>\n      <td>-7979.59</td>\n      <td>-7979.59</td>\n      <td>-9051.25</td>\n      <td>-9051.25</td>\n      <td>-9049.57</td>\n      <td>-9049.23</td>\n      <td>-9046.47</td>\n      <td>-9046.47</td>\n    </tr>\n    <tr>\n      <th>mean_test_score</th>\n      <td>-6332.59</td>\n      <td>-6334.42</td>\n      <td>-6335.08</td>\n      <td>-6335.08</td>\n      <td>-6335.75</td>\n      <td>-6335.75</td>\n      <td>-6338.9</td>\n      <td>-6342.18</td>\n      <td>-6343.05</td>\n      <td>-6344.57</td>\n      <td>...</td>\n      <td>-8751.41</td>\n      <td>-8752.64</td>\n      <td>-8752.64</td>\n      <td>-8752.64</td>\n      <td>-10227.2</td>\n      <td>-10227.2</td>\n      <td>-10233.9</td>\n      <td>-10235.8</td>\n      <td>-10252.6</td>\n      <td>-10252.6</td>\n    </tr>\n    <tr>\n      <th>std_test_score</th>\n      <td>1521.18</td>\n      <td>1518.5</td>\n      <td>1518.2</td>\n      <td>1518.2</td>\n      <td>1517.93</td>\n      <td>1517.93</td>\n      <td>1516.91</td>\n      <td>1514.52</td>\n      <td>1514.58</td>\n      <td>1519.18</td>\n      <td>...</td>\n      <td>1664.83</td>\n      <td>1665.31</td>\n      <td>1665.31</td>\n      <td>1665.31</td>\n      <td>1854.95</td>\n      <td>1854.95</td>\n      <td>1855.8</td>\n      <td>1856.24</td>\n      <td>1859.99</td>\n      <td>1859.99</td>\n    </tr>\n    <tr>\n      <th>rank_test_score</th>\n      <td>1</td>\n      <td>2</td>\n      <td>3</td>\n      <td>3</td>\n      <td>5</td>\n      <td>5</td>\n      <td>7</td>\n      <td>8</td>\n      <td>9</td>\n      <td>10</td>\n      <td>...</td>\n      <td>90</td>\n      <td>92</td>\n      <td>93</td>\n      <td>93</td>\n      <td>95</td>\n      <td>95</td>\n      <td>97</td>\n      <td>98</td>\n      <td>99</td>\n      <td>99</td>\n    </tr>\n    <tr>\n      <th>split0_train_score</th>\n      <td>-6188.66</td>\n      <td>-6188.29</td>\n      <td>-6188.54</td>\n      <td>-6188.54</td>\n      <td>-6189.49</td>\n      <td>-6189.49</td>\n      <td>-6191.5</td>\n      <td>-6189.98</td>\n      <td>-6190.08</td>\n      <td>-6200.88</td>\n      <td>...</td>\n      <td>-8844.75</td>\n      <td>-8845.67</td>\n      <td>-8845.67</td>\n      <td>-8845.67</td>\n      <td>-10445.4</td>\n      <td>-10445.4</td>\n      <td>-10450</td>\n      <td>-10451.2</td>\n      <td>-10465.9</td>\n      <td>-10465.9</td>\n    </tr>\n    <tr>\n      <th>split1_train_score</th>\n      <td>-6046.68</td>\n      <td>-6047.54</td>\n      <td>-6047.89</td>\n      <td>-6047.89</td>\n      <td>-6048.23</td>\n      <td>-6048.23</td>\n      <td>-6043.97</td>\n      <td>-6045.62</td>\n      <td>-6046.01</td>\n      <td>-6053.2</td>\n      <td>...</td>\n      <td>-8585.26</td>\n      <td>-8587.04</td>\n      <td>-8587.04</td>\n      <td>-8587.04</td>\n      <td>-10077.9</td>\n      <td>-10077.9</td>\n      <td>-10081.5</td>\n      <td>-10082.4</td>\n      <td>-10092.3</td>\n      <td>-10092.3</td>\n    </tr>\n    <tr>\n      <th>split2_train_score</th>\n      <td>-6337.82</td>\n      <td>-6335.78</td>\n      <td>-6336.47</td>\n      <td>-6336.47</td>\n      <td>-6337.37</td>\n      <td>-6337.37</td>\n      <td>-6340.72</td>\n      <td>-6340.37</td>\n      <td>-6340.96</td>\n      <td>-6345.84</td>\n      <td>...</td>\n      <td>-8894.91</td>\n      <td>-8896.14</td>\n      <td>-8896.14</td>\n      <td>-8896.14</td>\n      <td>-10360.9</td>\n      <td>-10360.9</td>\n      <td>-10368.9</td>\n      <td>-10370.5</td>\n      <td>-10385</td>\n      <td>-10385</td>\n    </tr>\n    <tr>\n      <th>split3_train_score</th>\n      <td>-6290.25</td>\n      <td>-6286.8</td>\n      <td>-6286.33</td>\n      <td>-6286.33</td>\n      <td>-6286.04</td>\n      <td>-6286.04</td>\n      <td>-6289.16</td>\n      <td>-6285.56</td>\n      <td>-6285.37</td>\n      <td>-6287.02</td>\n      <td>...</td>\n      <td>-8731.25</td>\n      <td>-8732.16</td>\n      <td>-8732.16</td>\n      <td>-8732.16</td>\n      <td>-10263.1</td>\n      <td>-10263.1</td>\n      <td>-10270.2</td>\n      <td>-10271.7</td>\n      <td>-10286.5</td>\n      <td>-10286.5</td>\n    </tr>\n    <tr>\n      <th>split4_train_score</th>\n      <td>-5962.35</td>\n      <td>-5960.18</td>\n      <td>-5960.54</td>\n      <td>-5960.54</td>\n      <td>-5961.2</td>\n      <td>-5961.2</td>\n      <td>-5966.76</td>\n      <td>-5965.58</td>\n      <td>-5965.71</td>\n      <td>-5969.39</td>\n      <td>...</td>\n      <td>-8344.2</td>\n      <td>-8345.16</td>\n      <td>-8345.16</td>\n      <td>-8345.16</td>\n      <td>-9758.96</td>\n      <td>-9758.96</td>\n      <td>-9762.06</td>\n      <td>-9762.84</td>\n      <td>-9771.08</td>\n      <td>-9771.08</td>\n    </tr>\n    <tr>\n      <th>split5_train_score</th>\n      <td>-6269.54</td>\n      <td>-6269.05</td>\n      <td>-6269.5</td>\n      <td>-6269.5</td>\n      <td>-6270.14</td>\n      <td>-6270.14</td>\n      <td>-6275.67</td>\n      <td>-6274.88</td>\n      <td>-6275.24</td>\n      <td>-6278.84</td>\n      <td>...</td>\n      <td>-8876.61</td>\n      <td>-8878.06</td>\n      <td>-8878.06</td>\n      <td>-8878.06</td>\n      <td>-10397.5</td>\n      <td>-10397.5</td>\n      <td>-10405.4</td>\n      <td>-10407.3</td>\n      <td>-10422.7</td>\n      <td>-10422.7</td>\n    </tr>\n    <tr>\n      <th>split6_train_score</th>\n      <td>-6297.34</td>\n      <td>-6302.99</td>\n      <td>-6304.44</td>\n      <td>-6304.44</td>\n      <td>-6305.92</td>\n      <td>-6305.92</td>\n      <td>-6301.58</td>\n      <td>-6307.68</td>\n      <td>-6308.83</td>\n      <td>-6324.5</td>\n      <td>...</td>\n      <td>-8785.82</td>\n      <td>-8787.42</td>\n      <td>-8787.42</td>\n      <td>-8787.42</td>\n      <td>-10204.8</td>\n      <td>-10204.8</td>\n      <td>-10211.9</td>\n      <td>-10213.5</td>\n      <td>-10227</td>\n      <td>-10227</td>\n    </tr>\n    <tr>\n      <th>split7_train_score</th>\n      <td>-5745.66</td>\n      <td>-5743.86</td>\n      <td>-5743.62</td>\n      <td>-5743.62</td>\n      <td>-5743.45</td>\n      <td>-5743.45</td>\n      <td>-5751.64</td>\n      <td>-5748.47</td>\n      <td>-5747.95</td>\n      <td>-5745.12</td>\n      <td>...</td>\n      <td>-8269.74</td>\n      <td>-8271.22</td>\n      <td>-8271.22</td>\n      <td>-8271.22</td>\n      <td>-9837.92</td>\n      <td>-9837.92</td>\n      <td>-9844.12</td>\n      <td>-9845.77</td>\n      <td>-9861.06</td>\n      <td>-9861.06</td>\n    </tr>\n    <tr>\n      <th>split8_train_score</th>\n      <td>-6333.64</td>\n      <td>-6333.51</td>\n      <td>-6333.96</td>\n      <td>-6333.96</td>\n      <td>-6334.74</td>\n      <td>-6334.74</td>\n      <td>-6334.81</td>\n      <td>-6336.06</td>\n      <td>-6336.72</td>\n      <td>-6343.59</td>\n      <td>...</td>\n      <td>-8866.49</td>\n      <td>-8867.63</td>\n      <td>-8867.63</td>\n      <td>-8867.63</td>\n      <td>-10311.9</td>\n      <td>-10311.9</td>\n      <td>-10316.3</td>\n      <td>-10317.4</td>\n      <td>-10329.7</td>\n      <td>-10329.7</td>\n    </tr>\n    <tr>\n      <th>split9_train_score</th>\n      <td>-6408.35</td>\n      <td>-6411.75</td>\n      <td>-6412.62</td>\n      <td>-6412.62</td>\n      <td>-6413.62</td>\n      <td>-6413.62</td>\n      <td>-6411.1</td>\n      <td>-6416.12</td>\n      <td>-6417.23</td>\n      <td>-6426.77</td>\n      <td>...</td>\n      <td>-8809.3</td>\n      <td>-8810.42</td>\n      <td>-8810.42</td>\n      <td>-8810.42</td>\n      <td>-10346.5</td>\n      <td>-10346.5</td>\n      <td>-10353</td>\n      <td>-10354.4</td>\n      <td>-10366.9</td>\n      <td>-10366.9</td>\n    </tr>\n    <tr>\n      <th>mean_train_score</th>\n      <td>-6188.03</td>\n      <td>-6187.98</td>\n      <td>-6188.39</td>\n      <td>-6188.39</td>\n      <td>-6189.02</td>\n      <td>-6189.02</td>\n      <td>-6190.69</td>\n      <td>-6191.03</td>\n      <td>-6191.41</td>\n      <td>-6197.52</td>\n      <td>...</td>\n      <td>-8700.83</td>\n      <td>-8702.09</td>\n      <td>-8702.09</td>\n      <td>-8702.09</td>\n      <td>-10200.5</td>\n      <td>-10200.5</td>\n      <td>-10206.4</td>\n      <td>-10207.7</td>\n      <td>-10220.8</td>\n      <td>-10220.8</td>\n    </tr>\n    <tr>\n      <th>std_train_score</th>\n      <td>196.933</td>\n      <td>197.867</td>\n      <td>198.12</td>\n      <td>198.12</td>\n      <td>198.392</td>\n      <td>198.392</td>\n      <td>196.346</td>\n      <td>197.842</td>\n      <td>198.207</td>\n      <td>201.045</td>\n      <td>...</td>\n      <td>215.178</td>\n      <td>215.138</td>\n      <td>215.138</td>\n      <td>215.138</td>\n      <td>224.414</td>\n      <td>224.414</td>\n      <td>225.24</td>\n      <td>225.368</td>\n      <td>226.616</td>\n      <td>226.616</td>\n    </tr>\n  </tbody>\n</table>\n<p>33 rows × 100 columns</p>\n</div>"
          },
          "metadata": {},
          "execution_count": 128
        }
      ],
      "source": [
        "pd.DataFrame(search.cv_results_).sort_values(by='rank_test_score').T"
      ]
    },
    {
      "cell_type": "code",
      "execution_count": 129,
      "metadata": {
        "tags": []
      },
      "outputs": [
        {
          "output_type": "error",
          "ename": "ValueError",
          "evalue": "Unexpected input dimension 13, expected 14",
          "traceback": [
            "\u001b[1;31m---------------------------------------------------------------------------\u001b[0m",
            "\u001b[1;31mValueError\u001b[0m                                Traceback (most recent call last)",
            "\u001b[1;32m<ipython-input-129-f7c3139c5cff>\u001b[0m in \u001b[0;36m<module>\u001b[1;34m\u001b[0m\n\u001b[0;32m      1\u001b[0m \u001b[0mpipeline\u001b[0m \u001b[1;33m=\u001b[0m \u001b[0msearch\u001b[0m\u001b[1;33m.\u001b[0m\u001b[0mbest_estimator_\u001b[0m\u001b[1;33m\u001b[0m\u001b[1;33m\u001b[0m\u001b[0m\n\u001b[0;32m      2\u001b[0m \u001b[1;32mfrom\u001b[0m \u001b[0msklearn\u001b[0m\u001b[1;33m.\u001b[0m\u001b[0mmetrics\u001b[0m \u001b[1;32mimport\u001b[0m \u001b[0mmean_absolute_error\u001b[0m\u001b[1;33m\u001b[0m\u001b[1;33m\u001b[0m\u001b[0m\n\u001b[1;32m----> 3\u001b[1;33m \u001b[0my_pred\u001b[0m \u001b[1;33m=\u001b[0m \u001b[0mpipeline\u001b[0m\u001b[1;33m.\u001b[0m\u001b[0mpredict\u001b[0m\u001b[1;33m(\u001b[0m\u001b[0mX_test\u001b[0m\u001b[1;33m)\u001b[0m\u001b[1;33m\u001b[0m\u001b[1;33m\u001b[0m\u001b[0m\n\u001b[0m\u001b[0;32m      4\u001b[0m \u001b[0mmae\u001b[0m \u001b[1;33m=\u001b[0m \u001b[0mmean_absolute_error\u001b[0m\u001b[1;33m(\u001b[0m\u001b[0mY_test\u001b[0m\u001b[1;33m,\u001b[0m \u001b[0my_pred\u001b[0m\u001b[1;33m)\u001b[0m\u001b[1;33m\u001b[0m\u001b[1;33m\u001b[0m\u001b[0m\n\u001b[0;32m      5\u001b[0m \u001b[0mprint\u001b[0m\u001b[1;33m(\u001b[0m\u001b[1;34mf'Test MAE: ${mae:,.0f}'\u001b[0m\u001b[1;33m)\u001b[0m\u001b[1;33m\u001b[0m\u001b[1;33m\u001b[0m\u001b[0m\n",
            "\u001b[1;32m~\\anaconda3\\lib\\site-packages\\sklearn\\utils\\metaestimators.py\u001b[0m in \u001b[0;36m<lambda>\u001b[1;34m(*args, **kwargs)\u001b[0m\n\u001b[0;32m    114\u001b[0m \u001b[1;33m\u001b[0m\u001b[0m\n\u001b[0;32m    115\u001b[0m         \u001b[1;31m# lambda, but not partial, allows help() to work with update_wrapper\u001b[0m\u001b[1;33m\u001b[0m\u001b[1;33m\u001b[0m\u001b[1;33m\u001b[0m\u001b[0m\n\u001b[1;32m--> 116\u001b[1;33m         \u001b[0mout\u001b[0m \u001b[1;33m=\u001b[0m \u001b[1;32mlambda\u001b[0m \u001b[1;33m*\u001b[0m\u001b[0margs\u001b[0m\u001b[1;33m,\u001b[0m \u001b[1;33m**\u001b[0m\u001b[0mkwargs\u001b[0m\u001b[1;33m:\u001b[0m \u001b[0mself\u001b[0m\u001b[1;33m.\u001b[0m\u001b[0mfn\u001b[0m\u001b[1;33m(\u001b[0m\u001b[0mobj\u001b[0m\u001b[1;33m,\u001b[0m \u001b[1;33m*\u001b[0m\u001b[0margs\u001b[0m\u001b[1;33m,\u001b[0m \u001b[1;33m**\u001b[0m\u001b[0mkwargs\u001b[0m\u001b[1;33m)\u001b[0m\u001b[1;33m\u001b[0m\u001b[1;33m\u001b[0m\u001b[0m\n\u001b[0m\u001b[0;32m    117\u001b[0m         \u001b[1;31m# update the docstring of the returned function\u001b[0m\u001b[1;33m\u001b[0m\u001b[1;33m\u001b[0m\u001b[1;33m\u001b[0m\u001b[0m\n\u001b[0;32m    118\u001b[0m         \u001b[0mupdate_wrapper\u001b[0m\u001b[1;33m(\u001b[0m\u001b[0mout\u001b[0m\u001b[1;33m,\u001b[0m \u001b[0mself\u001b[0m\u001b[1;33m.\u001b[0m\u001b[0mfn\u001b[0m\u001b[1;33m)\u001b[0m\u001b[1;33m\u001b[0m\u001b[1;33m\u001b[0m\u001b[0m\n",
            "\u001b[1;32m~\\anaconda3\\lib\\site-packages\\sklearn\\pipeline.py\u001b[0m in \u001b[0;36mpredict\u001b[1;34m(self, X, **predict_params)\u001b[0m\n\u001b[0;32m    417\u001b[0m         \u001b[0mXt\u001b[0m \u001b[1;33m=\u001b[0m \u001b[0mX\u001b[0m\u001b[1;33m\u001b[0m\u001b[1;33m\u001b[0m\u001b[0m\n\u001b[0;32m    418\u001b[0m         \u001b[1;32mfor\u001b[0m \u001b[0m_\u001b[0m\u001b[1;33m,\u001b[0m \u001b[0mname\u001b[0m\u001b[1;33m,\u001b[0m \u001b[0mtransform\u001b[0m \u001b[1;32min\u001b[0m \u001b[0mself\u001b[0m\u001b[1;33m.\u001b[0m\u001b[0m_iter\u001b[0m\u001b[1;33m(\u001b[0m\u001b[0mwith_final\u001b[0m\u001b[1;33m=\u001b[0m\u001b[1;32mFalse\u001b[0m\u001b[1;33m)\u001b[0m\u001b[1;33m:\u001b[0m\u001b[1;33m\u001b[0m\u001b[1;33m\u001b[0m\u001b[0m\n\u001b[1;32m--> 419\u001b[1;33m             \u001b[0mXt\u001b[0m \u001b[1;33m=\u001b[0m \u001b[0mtransform\u001b[0m\u001b[1;33m.\u001b[0m\u001b[0mtransform\u001b[0m\u001b[1;33m(\u001b[0m\u001b[0mXt\u001b[0m\u001b[1;33m)\u001b[0m\u001b[1;33m\u001b[0m\u001b[1;33m\u001b[0m\u001b[0m\n\u001b[0m\u001b[0;32m    420\u001b[0m         \u001b[1;32mreturn\u001b[0m \u001b[0mself\u001b[0m\u001b[1;33m.\u001b[0m\u001b[0msteps\u001b[0m\u001b[1;33m[\u001b[0m\u001b[1;33m-\u001b[0m\u001b[1;36m1\u001b[0m\u001b[1;33m]\u001b[0m\u001b[1;33m[\u001b[0m\u001b[1;33m-\u001b[0m\u001b[1;36m1\u001b[0m\u001b[1;33m]\u001b[0m\u001b[1;33m.\u001b[0m\u001b[0mpredict\u001b[0m\u001b[1;33m(\u001b[0m\u001b[0mXt\u001b[0m\u001b[1;33m,\u001b[0m \u001b[1;33m**\u001b[0m\u001b[0mpredict_params\u001b[0m\u001b[1;33m)\u001b[0m\u001b[1;33m\u001b[0m\u001b[1;33m\u001b[0m\u001b[0m\n\u001b[0;32m    421\u001b[0m \u001b[1;33m\u001b[0m\u001b[0m\n",
            "\u001b[1;32m~\\anaconda3\\lib\\site-packages\\category_encoders\\one_hot.py\u001b[0m in \u001b[0;36mtransform\u001b[1;34m(self, X, override_return_df)\u001b[0m\n\u001b[0;32m    253\u001b[0m         \u001b[1;32mif\u001b[0m \u001b[0mX\u001b[0m\u001b[1;33m.\u001b[0m\u001b[0mshape\u001b[0m\u001b[1;33m[\u001b[0m\u001b[1;36m1\u001b[0m\u001b[1;33m]\u001b[0m \u001b[1;33m!=\u001b[0m \u001b[0mself\u001b[0m\u001b[1;33m.\u001b[0m\u001b[0m_dim\u001b[0m\u001b[1;33m:\u001b[0m\u001b[1;33m\u001b[0m\u001b[1;33m\u001b[0m\u001b[0m\n\u001b[0;32m    254\u001b[0m             raise ValueError('Unexpected input dimension %d, expected %d' % (\n\u001b[1;32m--> 255\u001b[1;33m                 X.shape[1], self._dim, ))\n\u001b[0m\u001b[0;32m    256\u001b[0m \u001b[1;33m\u001b[0m\u001b[0m\n\u001b[0;32m    257\u001b[0m         \u001b[1;32mif\u001b[0m \u001b[1;32mnot\u001b[0m \u001b[0mlist\u001b[0m\u001b[1;33m(\u001b[0m\u001b[0mself\u001b[0m\u001b[1;33m.\u001b[0m\u001b[0mcols\u001b[0m\u001b[1;33m)\u001b[0m\u001b[1;33m:\u001b[0m\u001b[1;33m\u001b[0m\u001b[1;33m\u001b[0m\u001b[0m\n",
            "\u001b[1;31mValueError\u001b[0m: Unexpected input dimension 13, expected 14"
          ]
        }
      ],
      "source": [
        "pipeline = search.best_estimator_\n",
        "from sklearn.metrics import mean_absolute_error\n",
        "y_pred = pipeline.predict(X_test)\n",
        "mae = mean_absolute_error(Y_test, y_pred)\n",
        "print(f'Test MAE: ${mae:,.0f}')"
      ]
    },
    {
      "cell_type": "markdown",
      "metadata": {},
      "source": [
        "### Random Forrest Regressor\n",
        "---"
      ]
    },
    {
      "cell_type": "code",
      "execution_count": 130,
      "metadata": {
        "tags": []
      },
      "outputs": [
        {
          "output_type": "stream",
          "name": "stdout",
          "text": "Fitting 10 folds for each of 100 candidates, totalling 1000 fits\n[Parallel(n_jobs=-1)]: Using backend LokyBackend with 12 concurrent workers.\n[Parallel(n_jobs=-1)]: Done   1 tasks      | elapsed:    0.5s\n[Parallel(n_jobs=-1)]: Done   8 tasks      | elapsed:    0.7s\n[Parallel(n_jobs=-1)]: Done  17 tasks      | elapsed:    1.5s\n[Parallel(n_jobs=-1)]: Done  26 tasks      | elapsed:    1.9s\n[Parallel(n_jobs=-1)]: Done  37 tasks      | elapsed:    3.2s\n[Parallel(n_jobs=-1)]: Done  48 tasks      | elapsed:    4.3s\n[Parallel(n_jobs=-1)]: Done  61 tasks      | elapsed:    5.5s\n[Parallel(n_jobs=-1)]: Done  74 tasks      | elapsed:    6.4s\n[Parallel(n_jobs=-1)]: Done  89 tasks      | elapsed:    7.6s\n[Parallel(n_jobs=-1)]: Done 104 tasks      | elapsed:    8.9s\n[Parallel(n_jobs=-1)]: Done 121 tasks      | elapsed:   10.5s\n[Parallel(n_jobs=-1)]: Done 138 tasks      | elapsed:   11.7s\n[Parallel(n_jobs=-1)]: Done 157 tasks      | elapsed:   12.5s\n[Parallel(n_jobs=-1)]: Done 176 tasks      | elapsed:   14.4s\n[Parallel(n_jobs=-1)]: Done 197 tasks      | elapsed:   16.1s\n[Parallel(n_jobs=-1)]: Done 218 tasks      | elapsed:   17.5s\n[Parallel(n_jobs=-1)]: Done 241 tasks      | elapsed:   19.5s\n[Parallel(n_jobs=-1)]: Done 264 tasks      | elapsed:   21.7s\n[Parallel(n_jobs=-1)]: Done 289 tasks      | elapsed:   23.5s\n[Parallel(n_jobs=-1)]: Done 314 tasks      | elapsed:   26.0s\n[Parallel(n_jobs=-1)]: Done 341 tasks      | elapsed:   28.8s\n[Parallel(n_jobs=-1)]: Done 368 tasks      | elapsed:   31.8s\n[Parallel(n_jobs=-1)]: Done 397 tasks      | elapsed:   35.2s\n[Parallel(n_jobs=-1)]: Done 426 tasks      | elapsed:   37.8s\n[Parallel(n_jobs=-1)]: Done 457 tasks      | elapsed:   39.9s\n[Parallel(n_jobs=-1)]: Done 488 tasks      | elapsed:   41.7s\n[Parallel(n_jobs=-1)]: Done 521 tasks      | elapsed:   44.3s\n[Parallel(n_jobs=-1)]: Done 554 tasks      | elapsed:   46.7s\n[Parallel(n_jobs=-1)]: Done 589 tasks      | elapsed:   50.0s\n[Parallel(n_jobs=-1)]: Done 624 tasks      | elapsed:   53.0s\n[Parallel(n_jobs=-1)]: Done 661 tasks      | elapsed:   55.5s\n[Parallel(n_jobs=-1)]: Done 698 tasks      | elapsed:   58.0s\n[Parallel(n_jobs=-1)]: Done 737 tasks      | elapsed:  1.0min\n[Parallel(n_jobs=-1)]: Done 776 tasks      | elapsed:  1.1min\n[Parallel(n_jobs=-1)]: Done 817 tasks      | elapsed:  1.1min\n[Parallel(n_jobs=-1)]: Done 858 tasks      | elapsed:  1.2min\n[Parallel(n_jobs=-1)]: Done 901 tasks      | elapsed:  1.3min\n[Parallel(n_jobs=-1)]: Done 944 tasks      | elapsed:  1.3min\n[Parallel(n_jobs=-1)]: Done 1000 out of 1000 | elapsed:  1.4min finished\n"
        }
      ],
      "source": [
        "from scipy.stats import randint, uniform\n",
        "from sklearn.ensemble import RandomForestRegressor\n",
        "\n",
        "features = train.columns.drop(target)\n",
        "X_train = train[features]\n",
        "y_train = train[target]\n",
        "\n",
        "pipeline = make_pipeline(\n",
        "    ce.TargetEncoder(), \n",
        "    SimpleImputer(),\n",
        "    StandardScaler(), \n",
        "    RandomForestRegressor(random_state=42)\n",
        ")\n",
        "\n",
        "param_distributions = {\n",
        "    'targetencoder__min_samples_leaf': randint(1, 1000),     \n",
        "    'simpleimputer__strategy': ['mean', 'median'], \n",
        "    'randomforestregressor__n_estimators': randint(50, 500), \n",
        "    'randomforestregressor__max_depth': [5, 10, 15, 20, None], \n",
        "    'randomforestregressor__max_features': uniform(0, 1), \n",
        "}\n",
        "\n",
        "# If you're on Colab, decrease n_iter & cv parameters\n",
        "search = RandomizedSearchCV(\n",
        "    pipeline, \n",
        "    param_distributions=param_distributions, \n",
        "    n_iter=100, \n",
        "    cv=10, \n",
        "    scoring='neg_mean_absolute_error', \n",
        "    verbose=10, \n",
        "    return_train_score=True, \n",
        "    n_jobs=-1\n",
        ")\n",
        "\n",
        "search.fit(X_train, y_train);"
      ]
    },
    {
      "cell_type": "code",
      "execution_count": 131,
      "metadata": {
        "tags": []
      },
      "outputs": [
        {
          "output_type": "stream",
          "name": "stdout",
          "text": "Best hyperparameters {'randomforestregressor__max_depth': 15, 'randomforestregressor__max_features': 0.6749716048091052, 'randomforestregressor__n_estimators': 117, 'simpleimputer__strategy': 'median', 'targetencoder__min_samples_leaf': 15}\nCross-validation MAE 5247.700326205393\n"
        }
      ],
      "source": [
        "print('Best hyperparameters', search.best_params_)\n",
        "print('Cross-validation MAE', -search.best_score_)"
      ]
    },
    {
      "cell_type": "code",
      "execution_count": 132,
      "metadata": {},
      "outputs": [
        {
          "output_type": "execute_result",
          "data": {
            "text/plain": "    mean_fit_time  std_fit_time  mean_score_time  std_score_time  \\\n2        0.564313      0.100206         0.036515        0.011239   \n98       0.785283      0.128164         0.048215        0.012366   \n35       1.085515      0.117982         0.060695        0.021836   \n5        1.055322      0.076732         0.056735        0.013946   \n33       1.305001      0.204676         0.063068        0.010511   \n..            ...           ...              ...             ...   \n6        0.916461      0.194324         0.051983        0.015032   \n19       0.700024      0.068976         0.040396        0.003167   \n58       1.365585      0.125732         0.065286        0.010968   \n47       0.672442      0.133449         0.042768        0.009687   \n50       0.591592      0.075553         0.038697        0.004963   \n\n   param_randomforestregressor__max_depth  \\\n2                                      15   \n98                                     20   \n35                                     20   \n5                                      20   \n33                                     20   \n..                                    ...   \n6                                    None   \n19                                     15   \n58                                   None   \n47                                     15   \n50                                      5   \n\n   param_randomforestregressor__max_features  \\\n2                                   0.674972   \n98                                  0.442701   \n35                                  0.716771   \n5                                   0.950032   \n33                                  0.416724   \n..                                       ...   \n6                                   0.160427   \n19                                   0.10346   \n58                                  0.411833   \n47                                0.00118207   \n50                                   0.06474   \n\n   param_randomforestregressor__n_estimators param_simpleimputer__strategy  \\\n2                                        117                        median   \n98                                       219                        median   \n35                                       327                          mean   \n5                                        284                        median   \n33                                       408                        median   \n..                                       ...                           ...   \n6                                        270                          mean   \n19                                       226                          mean   \n58                                       448                        median   \n47                                       181                        median   \n50                                       194                        median   \n\n   param_targetencoder__min_samples_leaf  \\\n2                                     15   \n98                                    26   \n35                                    51   \n5                                     35   \n33                                   175   \n..                                   ...   \n6                                    393   \n19                                   370   \n58                                   491   \n47                                   497   \n50                                   240   \n\n                                               params  ...  \\\n2   {'randomforestregressor__max_depth': 15, 'rand...  ...   \n98  {'randomforestregressor__max_depth': 20, 'rand...  ...   \n35  {'randomforestregressor__max_depth': 20, 'rand...  ...   \n5   {'randomforestregressor__max_depth': 20, 'rand...  ...   \n33  {'randomforestregressor__max_depth': 20, 'rand...  ...   \n..                                                ...  ...   \n6   {'randomforestregressor__max_depth': None, 'ra...  ...   \n19  {'randomforestregressor__max_depth': 15, 'rand...  ...   \n58  {'randomforestregressor__max_depth': None, 'ra...  ...   \n47  {'randomforestregressor__max_depth': 15, 'rand...  ...   \n50  {'randomforestregressor__max_depth': 5, 'rando...  ...   \n\n    split2_train_score  split3_train_score  split4_train_score  \\\n2         -1982.884263        -1924.188095        -1957.562675   \n98        -2036.922923        -1991.513355        -1961.351434   \n35        -2175.691544        -2083.292844        -2083.959436   \n5         -2156.431148        -2067.455853        -2050.589944   \n33        -2177.068990        -2095.860706        -2135.019694   \n..                 ...                 ...                 ...   \n6         -3029.995617        -2944.431695        -2927.502911   \n19        -3100.585329        -3006.884877        -2961.678779   \n58        -3032.369779        -3016.597010        -2860.633701   \n47        -3117.707898        -3100.990987        -2956.453931   \n50        -7826.998716        -7322.530923        -7543.542363   \n\n    split5_train_score  split6_train_score  split7_train_score  \\\n2         -1932.122911        -1949.067542        -1841.167033   \n98        -2018.521765        -2006.062063        -1915.167279   \n35        -2109.794156        -2083.615957        -2006.908952   \n5         -2102.082796        -2065.438893        -1986.638998   \n33        -2190.109867        -2158.584716        -2036.436817   \n..                 ...                 ...                 ...   \n6         -3022.310045        -3009.582296        -2907.623646   \n19        -3069.221867        -3043.977986        -2942.765454   \n58        -3009.474156        -2938.509850        -2924.434854   \n47        -3109.265388        -3021.987731        -3020.860237   \n50        -7800.645460        -7608.450508        -7891.394819   \n\n    split8_train_score  split9_train_score  mean_train_score  std_train_score  \n2         -1978.609296        -2000.757583      -1942.711948        42.811891  \n98        -2048.980828        -2081.812996      -2003.253975        47.827096  \n35        -2164.024518        -2208.881670      -2113.415943        63.601620  \n5         -2154.227474        -2208.386755      -2093.734147        63.624693  \n33        -2149.306055        -2163.204233      -2134.411143        48.190488  \n..                 ...                 ...               ...              ...  \n6         -3066.674703        -2987.041598      -2979.393280        49.875730  \n19        -3135.843601        -3045.593415      -3030.925948        59.013551  \n58        -2998.422487        -3056.357082      -2982.216670        55.186471  \n47        -3081.720403        -3150.377301      -3071.823113        53.982752  \n50        -7834.138892        -7816.800010      -7655.237377       214.595173  \n\n[100 rows x 35 columns]",
            "text/html": "<div>\n<style scoped>\n    .dataframe tbody tr th:only-of-type {\n        vertical-align: middle;\n    }\n\n    .dataframe tbody tr th {\n        vertical-align: top;\n    }\n\n    .dataframe thead th {\n        text-align: right;\n    }\n</style>\n<table border=\"1\" class=\"dataframe\">\n  <thead>\n    <tr style=\"text-align: right;\">\n      <th></th>\n      <th>mean_fit_time</th>\n      <th>std_fit_time</th>\n      <th>mean_score_time</th>\n      <th>std_score_time</th>\n      <th>param_randomforestregressor__max_depth</th>\n      <th>param_randomforestregressor__max_features</th>\n      <th>param_randomforestregressor__n_estimators</th>\n      <th>param_simpleimputer__strategy</th>\n      <th>param_targetencoder__min_samples_leaf</th>\n      <th>params</th>\n      <th>...</th>\n      <th>split2_train_score</th>\n      <th>split3_train_score</th>\n      <th>split4_train_score</th>\n      <th>split5_train_score</th>\n      <th>split6_train_score</th>\n      <th>split7_train_score</th>\n      <th>split8_train_score</th>\n      <th>split9_train_score</th>\n      <th>mean_train_score</th>\n      <th>std_train_score</th>\n    </tr>\n  </thead>\n  <tbody>\n    <tr>\n      <th>2</th>\n      <td>0.564313</td>\n      <td>0.100206</td>\n      <td>0.036515</td>\n      <td>0.011239</td>\n      <td>15</td>\n      <td>0.674972</td>\n      <td>117</td>\n      <td>median</td>\n      <td>15</td>\n      <td>{'randomforestregressor__max_depth': 15, 'rand...</td>\n      <td>...</td>\n      <td>-1982.884263</td>\n      <td>-1924.188095</td>\n      <td>-1957.562675</td>\n      <td>-1932.122911</td>\n      <td>-1949.067542</td>\n      <td>-1841.167033</td>\n      <td>-1978.609296</td>\n      <td>-2000.757583</td>\n      <td>-1942.711948</td>\n      <td>42.811891</td>\n    </tr>\n    <tr>\n      <th>98</th>\n      <td>0.785283</td>\n      <td>0.128164</td>\n      <td>0.048215</td>\n      <td>0.012366</td>\n      <td>20</td>\n      <td>0.442701</td>\n      <td>219</td>\n      <td>median</td>\n      <td>26</td>\n      <td>{'randomforestregressor__max_depth': 20, 'rand...</td>\n      <td>...</td>\n      <td>-2036.922923</td>\n      <td>-1991.513355</td>\n      <td>-1961.351434</td>\n      <td>-2018.521765</td>\n      <td>-2006.062063</td>\n      <td>-1915.167279</td>\n      <td>-2048.980828</td>\n      <td>-2081.812996</td>\n      <td>-2003.253975</td>\n      <td>47.827096</td>\n    </tr>\n    <tr>\n      <th>35</th>\n      <td>1.085515</td>\n      <td>0.117982</td>\n      <td>0.060695</td>\n      <td>0.021836</td>\n      <td>20</td>\n      <td>0.716771</td>\n      <td>327</td>\n      <td>mean</td>\n      <td>51</td>\n      <td>{'randomforestregressor__max_depth': 20, 'rand...</td>\n      <td>...</td>\n      <td>-2175.691544</td>\n      <td>-2083.292844</td>\n      <td>-2083.959436</td>\n      <td>-2109.794156</td>\n      <td>-2083.615957</td>\n      <td>-2006.908952</td>\n      <td>-2164.024518</td>\n      <td>-2208.881670</td>\n      <td>-2113.415943</td>\n      <td>63.601620</td>\n    </tr>\n    <tr>\n      <th>5</th>\n      <td>1.055322</td>\n      <td>0.076732</td>\n      <td>0.056735</td>\n      <td>0.013946</td>\n      <td>20</td>\n      <td>0.950032</td>\n      <td>284</td>\n      <td>median</td>\n      <td>35</td>\n      <td>{'randomforestregressor__max_depth': 20, 'rand...</td>\n      <td>...</td>\n      <td>-2156.431148</td>\n      <td>-2067.455853</td>\n      <td>-2050.589944</td>\n      <td>-2102.082796</td>\n      <td>-2065.438893</td>\n      <td>-1986.638998</td>\n      <td>-2154.227474</td>\n      <td>-2208.386755</td>\n      <td>-2093.734147</td>\n      <td>63.624693</td>\n    </tr>\n    <tr>\n      <th>33</th>\n      <td>1.305001</td>\n      <td>0.204676</td>\n      <td>0.063068</td>\n      <td>0.010511</td>\n      <td>20</td>\n      <td>0.416724</td>\n      <td>408</td>\n      <td>median</td>\n      <td>175</td>\n      <td>{'randomforestregressor__max_depth': 20, 'rand...</td>\n      <td>...</td>\n      <td>-2177.068990</td>\n      <td>-2095.860706</td>\n      <td>-2135.019694</td>\n      <td>-2190.109867</td>\n      <td>-2158.584716</td>\n      <td>-2036.436817</td>\n      <td>-2149.306055</td>\n      <td>-2163.204233</td>\n      <td>-2134.411143</td>\n      <td>48.190488</td>\n    </tr>\n    <tr>\n      <th>...</th>\n      <td>...</td>\n      <td>...</td>\n      <td>...</td>\n      <td>...</td>\n      <td>...</td>\n      <td>...</td>\n      <td>...</td>\n      <td>...</td>\n      <td>...</td>\n      <td>...</td>\n      <td>...</td>\n      <td>...</td>\n      <td>...</td>\n      <td>...</td>\n      <td>...</td>\n      <td>...</td>\n      <td>...</td>\n      <td>...</td>\n      <td>...</td>\n      <td>...</td>\n      <td>...</td>\n    </tr>\n    <tr>\n      <th>6</th>\n      <td>0.916461</td>\n      <td>0.194324</td>\n      <td>0.051983</td>\n      <td>0.015032</td>\n      <td>None</td>\n      <td>0.160427</td>\n      <td>270</td>\n      <td>mean</td>\n      <td>393</td>\n      <td>{'randomforestregressor__max_depth': None, 'ra...</td>\n      <td>...</td>\n      <td>-3029.995617</td>\n      <td>-2944.431695</td>\n      <td>-2927.502911</td>\n      <td>-3022.310045</td>\n      <td>-3009.582296</td>\n      <td>-2907.623646</td>\n      <td>-3066.674703</td>\n      <td>-2987.041598</td>\n      <td>-2979.393280</td>\n      <td>49.875730</td>\n    </tr>\n    <tr>\n      <th>19</th>\n      <td>0.700024</td>\n      <td>0.068976</td>\n      <td>0.040396</td>\n      <td>0.003167</td>\n      <td>15</td>\n      <td>0.10346</td>\n      <td>226</td>\n      <td>mean</td>\n      <td>370</td>\n      <td>{'randomforestregressor__max_depth': 15, 'rand...</td>\n      <td>...</td>\n      <td>-3100.585329</td>\n      <td>-3006.884877</td>\n      <td>-2961.678779</td>\n      <td>-3069.221867</td>\n      <td>-3043.977986</td>\n      <td>-2942.765454</td>\n      <td>-3135.843601</td>\n      <td>-3045.593415</td>\n      <td>-3030.925948</td>\n      <td>59.013551</td>\n    </tr>\n    <tr>\n      <th>58</th>\n      <td>1.365585</td>\n      <td>0.125732</td>\n      <td>0.065286</td>\n      <td>0.010968</td>\n      <td>None</td>\n      <td>0.411833</td>\n      <td>448</td>\n      <td>median</td>\n      <td>491</td>\n      <td>{'randomforestregressor__max_depth': None, 'ra...</td>\n      <td>...</td>\n      <td>-3032.369779</td>\n      <td>-3016.597010</td>\n      <td>-2860.633701</td>\n      <td>-3009.474156</td>\n      <td>-2938.509850</td>\n      <td>-2924.434854</td>\n      <td>-2998.422487</td>\n      <td>-3056.357082</td>\n      <td>-2982.216670</td>\n      <td>55.186471</td>\n    </tr>\n    <tr>\n      <th>47</th>\n      <td>0.672442</td>\n      <td>0.133449</td>\n      <td>0.042768</td>\n      <td>0.009687</td>\n      <td>15</td>\n      <td>0.00118207</td>\n      <td>181</td>\n      <td>median</td>\n      <td>497</td>\n      <td>{'randomforestregressor__max_depth': 15, 'rand...</td>\n      <td>...</td>\n      <td>-3117.707898</td>\n      <td>-3100.990987</td>\n      <td>-2956.453931</td>\n      <td>-3109.265388</td>\n      <td>-3021.987731</td>\n      <td>-3020.860237</td>\n      <td>-3081.720403</td>\n      <td>-3150.377301</td>\n      <td>-3071.823113</td>\n      <td>53.982752</td>\n    </tr>\n    <tr>\n      <th>50</th>\n      <td>0.591592</td>\n      <td>0.075553</td>\n      <td>0.038697</td>\n      <td>0.004963</td>\n      <td>5</td>\n      <td>0.06474</td>\n      <td>194</td>\n      <td>median</td>\n      <td>240</td>\n      <td>{'randomforestregressor__max_depth': 5, 'rando...</td>\n      <td>...</td>\n      <td>-7826.998716</td>\n      <td>-7322.530923</td>\n      <td>-7543.542363</td>\n      <td>-7800.645460</td>\n      <td>-7608.450508</td>\n      <td>-7891.394819</td>\n      <td>-7834.138892</td>\n      <td>-7816.800010</td>\n      <td>-7655.237377</td>\n      <td>214.595173</td>\n    </tr>\n  </tbody>\n</table>\n<p>100 rows × 35 columns</p>\n</div>"
          },
          "metadata": {},
          "execution_count": 132
        }
      ],
      "source": [
        "pd.DataFrame(search.cv_results_).sort_values(by='rank_test_score')"
      ]
    },
    {
      "cell_type": "code",
      "execution_count": 133,
      "metadata": {},
      "outputs": [],
      "source": [
        "pipeline = search.best_estimator_"
      ]
    },
    {
      "cell_type": "code",
      "execution_count": 134,
      "metadata": {
        "tags": []
      },
      "outputs": [
        {
          "output_type": "stream",
          "name": "stdout",
          "text": "Test MAE: $5,153\n"
        }
      ],
      "source": [
        "X_test = test[features]\n",
        "y_test = test[target]\n",
        "\n",
        "y_pred = pipeline.predict(X_test)\n",
        "mae = mean_absolute_error(Y_test, y_pred)\n",
        "print(f'Test MAE: ${mae:,.0f}')"
      ]
    },
    {
      "cell_type": "code",
      "execution_count": 135,
      "metadata": {},
      "outputs": [
        {
          "output_type": "execute_result",
          "data": {
            "text/plain": "     condition  milage  Year    Brand  Model Model_Vers  S_RS  Cabriolet  \\\n12        Used   54905  2012  Porsche    911    Carrera     S    Hardtop   \n1318      Used   15523  2014  Porsche    911    Carrera  Base    Hardtop   \n168       Used    6793  2018  Porsche    911    Carrera   GTS    Hardtop   \n1082      Used   28555  2014  Porsche    911    Carrera  Base    Hardtop   \n1169      Used   56436  2012  Porsche    911    Carrera     S    Hardtop   \n...        ...     ...   ...      ...    ...        ...   ...        ...   \n994       Used   37085  2017  Porsche    911    Carrera     S    Hardtop   \n1138      Used   50678  2009  Porsche    911    Carrera    4S    Hardtop   \n1181      Used   36118  2009  Porsche    911    Carrera     S  Cabriolet   \n1287      Used   63485  2007  Porsche    911    Carrera    4S  Cabriolet   \n60        Used   72700  2007  Porsche    911    Carrera     S    Hardtop   \n\n            Color Transmission  \n12          Black    Automatic  \n1318  Gray/Silver       Manual  \n168         Black    Automatic  \n1082          Red    Automatic  \n1169        Black       Manual  \n...           ...          ...  \n994         White    Automatic  \n1138          Red    Automatic  \n1181        Black       Manual  \n1287  Gray/Silver       Manual  \n60          Black    Automatic  \n\n[162 rows x 10 columns]",
            "text/html": "<div>\n<style scoped>\n    .dataframe tbody tr th:only-of-type {\n        vertical-align: middle;\n    }\n\n    .dataframe tbody tr th {\n        vertical-align: top;\n    }\n\n    .dataframe thead th {\n        text-align: right;\n    }\n</style>\n<table border=\"1\" class=\"dataframe\">\n  <thead>\n    <tr style=\"text-align: right;\">\n      <th></th>\n      <th>condition</th>\n      <th>milage</th>\n      <th>Year</th>\n      <th>Brand</th>\n      <th>Model</th>\n      <th>Model_Vers</th>\n      <th>S_RS</th>\n      <th>Cabriolet</th>\n      <th>Color</th>\n      <th>Transmission</th>\n    </tr>\n  </thead>\n  <tbody>\n    <tr>\n      <th>12</th>\n      <td>Used</td>\n      <td>54905</td>\n      <td>2012</td>\n      <td>Porsche</td>\n      <td>911</td>\n      <td>Carrera</td>\n      <td>S</td>\n      <td>Hardtop</td>\n      <td>Black</td>\n      <td>Automatic</td>\n    </tr>\n    <tr>\n      <th>1318</th>\n      <td>Used</td>\n      <td>15523</td>\n      <td>2014</td>\n      <td>Porsche</td>\n      <td>911</td>\n      <td>Carrera</td>\n      <td>Base</td>\n      <td>Hardtop</td>\n      <td>Gray/Silver</td>\n      <td>Manual</td>\n    </tr>\n    <tr>\n      <th>168</th>\n      <td>Used</td>\n      <td>6793</td>\n      <td>2018</td>\n      <td>Porsche</td>\n      <td>911</td>\n      <td>Carrera</td>\n      <td>GTS</td>\n      <td>Hardtop</td>\n      <td>Black</td>\n      <td>Automatic</td>\n    </tr>\n    <tr>\n      <th>1082</th>\n      <td>Used</td>\n      <td>28555</td>\n      <td>2014</td>\n      <td>Porsche</td>\n      <td>911</td>\n      <td>Carrera</td>\n      <td>Base</td>\n      <td>Hardtop</td>\n      <td>Red</td>\n      <td>Automatic</td>\n    </tr>\n    <tr>\n      <th>1169</th>\n      <td>Used</td>\n      <td>56436</td>\n      <td>2012</td>\n      <td>Porsche</td>\n      <td>911</td>\n      <td>Carrera</td>\n      <td>S</td>\n      <td>Hardtop</td>\n      <td>Black</td>\n      <td>Manual</td>\n    </tr>\n    <tr>\n      <th>...</th>\n      <td>...</td>\n      <td>...</td>\n      <td>...</td>\n      <td>...</td>\n      <td>...</td>\n      <td>...</td>\n      <td>...</td>\n      <td>...</td>\n      <td>...</td>\n      <td>...</td>\n    </tr>\n    <tr>\n      <th>994</th>\n      <td>Used</td>\n      <td>37085</td>\n      <td>2017</td>\n      <td>Porsche</td>\n      <td>911</td>\n      <td>Carrera</td>\n      <td>S</td>\n      <td>Hardtop</td>\n      <td>White</td>\n      <td>Automatic</td>\n    </tr>\n    <tr>\n      <th>1138</th>\n      <td>Used</td>\n      <td>50678</td>\n      <td>2009</td>\n      <td>Porsche</td>\n      <td>911</td>\n      <td>Carrera</td>\n      <td>4S</td>\n      <td>Hardtop</td>\n      <td>Red</td>\n      <td>Automatic</td>\n    </tr>\n    <tr>\n      <th>1181</th>\n      <td>Used</td>\n      <td>36118</td>\n      <td>2009</td>\n      <td>Porsche</td>\n      <td>911</td>\n      <td>Carrera</td>\n      <td>S</td>\n      <td>Cabriolet</td>\n      <td>Black</td>\n      <td>Manual</td>\n    </tr>\n    <tr>\n      <th>1287</th>\n      <td>Used</td>\n      <td>63485</td>\n      <td>2007</td>\n      <td>Porsche</td>\n      <td>911</td>\n      <td>Carrera</td>\n      <td>4S</td>\n      <td>Cabriolet</td>\n      <td>Gray/Silver</td>\n      <td>Manual</td>\n    </tr>\n    <tr>\n      <th>60</th>\n      <td>Used</td>\n      <td>72700</td>\n      <td>2007</td>\n      <td>Porsche</td>\n      <td>911</td>\n      <td>Carrera</td>\n      <td>S</td>\n      <td>Hardtop</td>\n      <td>Black</td>\n      <td>Automatic</td>\n    </tr>\n  </tbody>\n</table>\n<p>162 rows × 10 columns</p>\n</div>"
          },
          "metadata": {},
          "execution_count": 135
        }
      ],
      "source": [
        "X_test"
      ]
    },
    {
      "cell_type": "code",
      "execution_count": 136,
      "metadata": {},
      "outputs": [
        {
          "output_type": "error",
          "ename": "KeyError",
          "evalue": "1",
          "traceback": [
            "\u001b[1;31m---------------------------------------------------------------------------\u001b[0m",
            "\u001b[1;31mKeyError\u001b[0m                                  Traceback (most recent call last)",
            "\u001b[1;32m~\\anaconda3\\lib\\site-packages\\pandas\\core\\indexes\\base.py\u001b[0m in \u001b[0;36mget_loc\u001b[1;34m(self, key, method, tolerance)\u001b[0m\n\u001b[0;32m   2645\u001b[0m             \u001b[1;32mtry\u001b[0m\u001b[1;33m:\u001b[0m\u001b[1;33m\u001b[0m\u001b[1;33m\u001b[0m\u001b[0m\n\u001b[1;32m-> 2646\u001b[1;33m                 \u001b[1;32mreturn\u001b[0m \u001b[0mself\u001b[0m\u001b[1;33m.\u001b[0m\u001b[0m_engine\u001b[0m\u001b[1;33m.\u001b[0m\u001b[0mget_loc\u001b[0m\u001b[1;33m(\u001b[0m\u001b[0mkey\u001b[0m\u001b[1;33m)\u001b[0m\u001b[1;33m\u001b[0m\u001b[1;33m\u001b[0m\u001b[0m\n\u001b[0m\u001b[0;32m   2647\u001b[0m             \u001b[1;32mexcept\u001b[0m \u001b[0mKeyError\u001b[0m\u001b[1;33m:\u001b[0m\u001b[1;33m\u001b[0m\u001b[1;33m\u001b[0m\u001b[0m\n",
            "\u001b[1;32mpandas\\_libs\\index.pyx\u001b[0m in \u001b[0;36mpandas._libs.index.IndexEngine.get_loc\u001b[1;34m()\u001b[0m\n",
            "\u001b[1;32mpandas\\_libs\\index.pyx\u001b[0m in \u001b[0;36mpandas._libs.index.IndexEngine.get_loc\u001b[1;34m()\u001b[0m\n",
            "\u001b[1;32mpandas\\_libs\\hashtable_class_helper.pxi\u001b[0m in \u001b[0;36mpandas._libs.hashtable.Int64HashTable.get_item\u001b[1;34m()\u001b[0m\n",
            "\u001b[1;32mpandas\\_libs\\hashtable_class_helper.pxi\u001b[0m in \u001b[0;36mpandas._libs.hashtable.Int64HashTable.get_item\u001b[1;34m()\u001b[0m\n",
            "\u001b[1;31mKeyError\u001b[0m: 1",
            "\nDuring handling of the above exception, another exception occurred:\n",
            "\u001b[1;31mKeyError\u001b[0m                                  Traceback (most recent call last)",
            "\u001b[1;32m<ipython-input-136-09ff62f14aa5>\u001b[0m in \u001b[0;36m<module>\u001b[1;34m\u001b[0m\n\u001b[1;32m----> 1\u001b[1;33m \u001b[0mModel_test\u001b[0m \u001b[1;33m=\u001b[0m \u001b[0mX_test\u001b[0m\u001b[1;33m.\u001b[0m\u001b[0mloc\u001b[0m\u001b[1;33m[\u001b[0m\u001b[1;36m1\u001b[0m\u001b[1;33m,\u001b[0m\u001b[1;33m]\u001b[0m\u001b[1;33m.\u001b[0m\u001b[0mcopy\u001b[0m\u001b[1;33m(\u001b[0m\u001b[1;33m)\u001b[0m\u001b[1;33m\u001b[0m\u001b[1;33m\u001b[0m\u001b[0m\n\u001b[0m\u001b[0;32m      2\u001b[0m \u001b[0mModel_test\u001b[0m\u001b[1;33m\u001b[0m\u001b[1;33m\u001b[0m\u001b[0m\n",
            "\u001b[1;32m~\\anaconda3\\lib\\site-packages\\pandas\\core\\indexing.py\u001b[0m in \u001b[0;36m__getitem__\u001b[1;34m(self, key)\u001b[0m\n\u001b[0;32m   1760\u001b[0m                 \u001b[1;32mexcept\u001b[0m \u001b[1;33m(\u001b[0m\u001b[0mKeyError\u001b[0m\u001b[1;33m,\u001b[0m \u001b[0mIndexError\u001b[0m\u001b[1;33m,\u001b[0m \u001b[0mAttributeError\u001b[0m\u001b[1;33m)\u001b[0m\u001b[1;33m:\u001b[0m\u001b[1;33m\u001b[0m\u001b[1;33m\u001b[0m\u001b[0m\n\u001b[0;32m   1761\u001b[0m                     \u001b[1;32mpass\u001b[0m\u001b[1;33m\u001b[0m\u001b[1;33m\u001b[0m\u001b[0m\n\u001b[1;32m-> 1762\u001b[1;33m             \u001b[1;32mreturn\u001b[0m \u001b[0mself\u001b[0m\u001b[1;33m.\u001b[0m\u001b[0m_getitem_tuple\u001b[0m\u001b[1;33m(\u001b[0m\u001b[0mkey\u001b[0m\u001b[1;33m)\u001b[0m\u001b[1;33m\u001b[0m\u001b[1;33m\u001b[0m\u001b[0m\n\u001b[0m\u001b[0;32m   1763\u001b[0m         \u001b[1;32melse\u001b[0m\u001b[1;33m:\u001b[0m\u001b[1;33m\u001b[0m\u001b[1;33m\u001b[0m\u001b[0m\n\u001b[0;32m   1764\u001b[0m             \u001b[1;31m# we by definition only have the 0th axis\u001b[0m\u001b[1;33m\u001b[0m\u001b[1;33m\u001b[0m\u001b[1;33m\u001b[0m\u001b[0m\n",
            "\u001b[1;32m~\\anaconda3\\lib\\site-packages\\pandas\\core\\indexing.py\u001b[0m in \u001b[0;36m_getitem_tuple\u001b[1;34m(self, tup)\u001b[0m\n\u001b[0;32m   1270\u001b[0m     \u001b[1;32mdef\u001b[0m \u001b[0m_getitem_tuple\u001b[0m\u001b[1;33m(\u001b[0m\u001b[0mself\u001b[0m\u001b[1;33m,\u001b[0m \u001b[0mtup\u001b[0m\u001b[1;33m:\u001b[0m \u001b[0mTuple\u001b[0m\u001b[1;33m)\u001b[0m\u001b[1;33m:\u001b[0m\u001b[1;33m\u001b[0m\u001b[1;33m\u001b[0m\u001b[0m\n\u001b[0;32m   1271\u001b[0m         \u001b[1;32mtry\u001b[0m\u001b[1;33m:\u001b[0m\u001b[1;33m\u001b[0m\u001b[1;33m\u001b[0m\u001b[0m\n\u001b[1;32m-> 1272\u001b[1;33m             \u001b[1;32mreturn\u001b[0m \u001b[0mself\u001b[0m\u001b[1;33m.\u001b[0m\u001b[0m_getitem_lowerdim\u001b[0m\u001b[1;33m(\u001b[0m\u001b[0mtup\u001b[0m\u001b[1;33m)\u001b[0m\u001b[1;33m\u001b[0m\u001b[1;33m\u001b[0m\u001b[0m\n\u001b[0m\u001b[0;32m   1273\u001b[0m         \u001b[1;32mexcept\u001b[0m \u001b[0mIndexingError\u001b[0m\u001b[1;33m:\u001b[0m\u001b[1;33m\u001b[0m\u001b[1;33m\u001b[0m\u001b[0m\n\u001b[0;32m   1274\u001b[0m             \u001b[1;32mpass\u001b[0m\u001b[1;33m\u001b[0m\u001b[1;33m\u001b[0m\u001b[0m\n",
            "\u001b[1;32m~\\anaconda3\\lib\\site-packages\\pandas\\core\\indexing.py\u001b[0m in \u001b[0;36m_getitem_lowerdim\u001b[1;34m(self, tup)\u001b[0m\n\u001b[0;32m   1387\u001b[0m         \u001b[1;32mfor\u001b[0m \u001b[0mi\u001b[0m\u001b[1;33m,\u001b[0m \u001b[0mkey\u001b[0m \u001b[1;32min\u001b[0m \u001b[0menumerate\u001b[0m\u001b[1;33m(\u001b[0m\u001b[0mtup\u001b[0m\u001b[1;33m)\u001b[0m\u001b[1;33m:\u001b[0m\u001b[1;33m\u001b[0m\u001b[1;33m\u001b[0m\u001b[0m\n\u001b[0;32m   1388\u001b[0m             \u001b[1;32mif\u001b[0m \u001b[0mis_label_like\u001b[0m\u001b[1;33m(\u001b[0m\u001b[0mkey\u001b[0m\u001b[1;33m)\u001b[0m \u001b[1;32mor\u001b[0m \u001b[0misinstance\u001b[0m\u001b[1;33m(\u001b[0m\u001b[0mkey\u001b[0m\u001b[1;33m,\u001b[0m \u001b[0mtuple\u001b[0m\u001b[1;33m)\u001b[0m\u001b[1;33m:\u001b[0m\u001b[1;33m\u001b[0m\u001b[1;33m\u001b[0m\u001b[0m\n\u001b[1;32m-> 1389\u001b[1;33m                 \u001b[0msection\u001b[0m \u001b[1;33m=\u001b[0m \u001b[0mself\u001b[0m\u001b[1;33m.\u001b[0m\u001b[0m_getitem_axis\u001b[0m\u001b[1;33m(\u001b[0m\u001b[0mkey\u001b[0m\u001b[1;33m,\u001b[0m \u001b[0maxis\u001b[0m\u001b[1;33m=\u001b[0m\u001b[0mi\u001b[0m\u001b[1;33m)\u001b[0m\u001b[1;33m\u001b[0m\u001b[1;33m\u001b[0m\u001b[0m\n\u001b[0m\u001b[0;32m   1390\u001b[0m \u001b[1;33m\u001b[0m\u001b[0m\n\u001b[0;32m   1391\u001b[0m                 \u001b[1;31m# we have yielded a scalar ?\u001b[0m\u001b[1;33m\u001b[0m\u001b[1;33m\u001b[0m\u001b[1;33m\u001b[0m\u001b[0m\n",
            "\u001b[1;32m~\\anaconda3\\lib\\site-packages\\pandas\\core\\indexing.py\u001b[0m in \u001b[0;36m_getitem_axis\u001b[1;34m(self, key, axis)\u001b[0m\n\u001b[0;32m   1963\u001b[0m         \u001b[1;31m# fall thru to straight lookup\u001b[0m\u001b[1;33m\u001b[0m\u001b[1;33m\u001b[0m\u001b[1;33m\u001b[0m\u001b[0m\n\u001b[0;32m   1964\u001b[0m         \u001b[0mself\u001b[0m\u001b[1;33m.\u001b[0m\u001b[0m_validate_key\u001b[0m\u001b[1;33m(\u001b[0m\u001b[0mkey\u001b[0m\u001b[1;33m,\u001b[0m \u001b[0maxis\u001b[0m\u001b[1;33m)\u001b[0m\u001b[1;33m\u001b[0m\u001b[1;33m\u001b[0m\u001b[0m\n\u001b[1;32m-> 1965\u001b[1;33m         \u001b[1;32mreturn\u001b[0m \u001b[0mself\u001b[0m\u001b[1;33m.\u001b[0m\u001b[0m_get_label\u001b[0m\u001b[1;33m(\u001b[0m\u001b[0mkey\u001b[0m\u001b[1;33m,\u001b[0m \u001b[0maxis\u001b[0m\u001b[1;33m=\u001b[0m\u001b[0maxis\u001b[0m\u001b[1;33m)\u001b[0m\u001b[1;33m\u001b[0m\u001b[1;33m\u001b[0m\u001b[0m\n\u001b[0m\u001b[0;32m   1966\u001b[0m \u001b[1;33m\u001b[0m\u001b[0m\n\u001b[0;32m   1967\u001b[0m \u001b[1;33m\u001b[0m\u001b[0m\n",
            "\u001b[1;32m~\\anaconda3\\lib\\site-packages\\pandas\\core\\indexing.py\u001b[0m in \u001b[0;36m_get_label\u001b[1;34m(self, label, axis)\u001b[0m\n\u001b[0;32m    623\u001b[0m             \u001b[1;32mraise\u001b[0m \u001b[0mIndexingError\u001b[0m\u001b[1;33m(\u001b[0m\u001b[1;34m\"no slices here, handle elsewhere\"\u001b[0m\u001b[1;33m)\u001b[0m\u001b[1;33m\u001b[0m\u001b[1;33m\u001b[0m\u001b[0m\n\u001b[0;32m    624\u001b[0m \u001b[1;33m\u001b[0m\u001b[0m\n\u001b[1;32m--> 625\u001b[1;33m         \u001b[1;32mreturn\u001b[0m \u001b[0mself\u001b[0m\u001b[1;33m.\u001b[0m\u001b[0mobj\u001b[0m\u001b[1;33m.\u001b[0m\u001b[0m_xs\u001b[0m\u001b[1;33m(\u001b[0m\u001b[0mlabel\u001b[0m\u001b[1;33m,\u001b[0m \u001b[0maxis\u001b[0m\u001b[1;33m=\u001b[0m\u001b[0maxis\u001b[0m\u001b[1;33m)\u001b[0m\u001b[1;33m\u001b[0m\u001b[1;33m\u001b[0m\u001b[0m\n\u001b[0m\u001b[0;32m    626\u001b[0m \u001b[1;33m\u001b[0m\u001b[0m\n\u001b[0;32m    627\u001b[0m     \u001b[1;32mdef\u001b[0m \u001b[0m_get_loc\u001b[0m\u001b[1;33m(\u001b[0m\u001b[0mself\u001b[0m\u001b[1;33m,\u001b[0m \u001b[0mkey\u001b[0m\u001b[1;33m:\u001b[0m \u001b[0mint\u001b[0m\u001b[1;33m,\u001b[0m \u001b[0maxis\u001b[0m\u001b[1;33m:\u001b[0m \u001b[0mint\u001b[0m\u001b[1;33m)\u001b[0m\u001b[1;33m:\u001b[0m\u001b[1;33m\u001b[0m\u001b[1;33m\u001b[0m\u001b[0m\n",
            "\u001b[1;32m~\\anaconda3\\lib\\site-packages\\pandas\\core\\generic.py\u001b[0m in \u001b[0;36mxs\u001b[1;34m(self, key, axis, level, drop_level)\u001b[0m\n\u001b[0;32m   3535\u001b[0m             \u001b[0mloc\u001b[0m\u001b[1;33m,\u001b[0m \u001b[0mnew_index\u001b[0m \u001b[1;33m=\u001b[0m \u001b[0mself\u001b[0m\u001b[1;33m.\u001b[0m\u001b[0mindex\u001b[0m\u001b[1;33m.\u001b[0m\u001b[0mget_loc_level\u001b[0m\u001b[1;33m(\u001b[0m\u001b[0mkey\u001b[0m\u001b[1;33m,\u001b[0m \u001b[0mdrop_level\u001b[0m\u001b[1;33m=\u001b[0m\u001b[0mdrop_level\u001b[0m\u001b[1;33m)\u001b[0m\u001b[1;33m\u001b[0m\u001b[1;33m\u001b[0m\u001b[0m\n\u001b[0;32m   3536\u001b[0m         \u001b[1;32melse\u001b[0m\u001b[1;33m:\u001b[0m\u001b[1;33m\u001b[0m\u001b[1;33m\u001b[0m\u001b[0m\n\u001b[1;32m-> 3537\u001b[1;33m             \u001b[0mloc\u001b[0m \u001b[1;33m=\u001b[0m \u001b[0mself\u001b[0m\u001b[1;33m.\u001b[0m\u001b[0mindex\u001b[0m\u001b[1;33m.\u001b[0m\u001b[0mget_loc\u001b[0m\u001b[1;33m(\u001b[0m\u001b[0mkey\u001b[0m\u001b[1;33m)\u001b[0m\u001b[1;33m\u001b[0m\u001b[1;33m\u001b[0m\u001b[0m\n\u001b[0m\u001b[0;32m   3538\u001b[0m \u001b[1;33m\u001b[0m\u001b[0m\n\u001b[0;32m   3539\u001b[0m             \u001b[1;32mif\u001b[0m \u001b[0misinstance\u001b[0m\u001b[1;33m(\u001b[0m\u001b[0mloc\u001b[0m\u001b[1;33m,\u001b[0m \u001b[0mnp\u001b[0m\u001b[1;33m.\u001b[0m\u001b[0mndarray\u001b[0m\u001b[1;33m)\u001b[0m\u001b[1;33m:\u001b[0m\u001b[1;33m\u001b[0m\u001b[1;33m\u001b[0m\u001b[0m\n",
            "\u001b[1;32m~\\anaconda3\\lib\\site-packages\\pandas\\core\\indexes\\base.py\u001b[0m in \u001b[0;36mget_loc\u001b[1;34m(self, key, method, tolerance)\u001b[0m\n\u001b[0;32m   2646\u001b[0m                 \u001b[1;32mreturn\u001b[0m \u001b[0mself\u001b[0m\u001b[1;33m.\u001b[0m\u001b[0m_engine\u001b[0m\u001b[1;33m.\u001b[0m\u001b[0mget_loc\u001b[0m\u001b[1;33m(\u001b[0m\u001b[0mkey\u001b[0m\u001b[1;33m)\u001b[0m\u001b[1;33m\u001b[0m\u001b[1;33m\u001b[0m\u001b[0m\n\u001b[0;32m   2647\u001b[0m             \u001b[1;32mexcept\u001b[0m \u001b[0mKeyError\u001b[0m\u001b[1;33m:\u001b[0m\u001b[1;33m\u001b[0m\u001b[1;33m\u001b[0m\u001b[0m\n\u001b[1;32m-> 2648\u001b[1;33m                 \u001b[1;32mreturn\u001b[0m \u001b[0mself\u001b[0m\u001b[1;33m.\u001b[0m\u001b[0m_engine\u001b[0m\u001b[1;33m.\u001b[0m\u001b[0mget_loc\u001b[0m\u001b[1;33m(\u001b[0m\u001b[0mself\u001b[0m\u001b[1;33m.\u001b[0m\u001b[0m_maybe_cast_indexer\u001b[0m\u001b[1;33m(\u001b[0m\u001b[0mkey\u001b[0m\u001b[1;33m)\u001b[0m\u001b[1;33m)\u001b[0m\u001b[1;33m\u001b[0m\u001b[1;33m\u001b[0m\u001b[0m\n\u001b[0m\u001b[0;32m   2649\u001b[0m         \u001b[0mindexer\u001b[0m \u001b[1;33m=\u001b[0m \u001b[0mself\u001b[0m\u001b[1;33m.\u001b[0m\u001b[0mget_indexer\u001b[0m\u001b[1;33m(\u001b[0m\u001b[1;33m[\u001b[0m\u001b[0mkey\u001b[0m\u001b[1;33m]\u001b[0m\u001b[1;33m,\u001b[0m \u001b[0mmethod\u001b[0m\u001b[1;33m=\u001b[0m\u001b[0mmethod\u001b[0m\u001b[1;33m,\u001b[0m \u001b[0mtolerance\u001b[0m\u001b[1;33m=\u001b[0m\u001b[0mtolerance\u001b[0m\u001b[1;33m)\u001b[0m\u001b[1;33m\u001b[0m\u001b[1;33m\u001b[0m\u001b[0m\n\u001b[0;32m   2650\u001b[0m         \u001b[1;32mif\u001b[0m \u001b[0mindexer\u001b[0m\u001b[1;33m.\u001b[0m\u001b[0mndim\u001b[0m \u001b[1;33m>\u001b[0m \u001b[1;36m1\u001b[0m \u001b[1;32mor\u001b[0m \u001b[0mindexer\u001b[0m\u001b[1;33m.\u001b[0m\u001b[0msize\u001b[0m \u001b[1;33m>\u001b[0m \u001b[1;36m1\u001b[0m\u001b[1;33m:\u001b[0m\u001b[1;33m\u001b[0m\u001b[1;33m\u001b[0m\u001b[0m\n",
            "\u001b[1;32mpandas\\_libs\\index.pyx\u001b[0m in \u001b[0;36mpandas._libs.index.IndexEngine.get_loc\u001b[1;34m()\u001b[0m\n",
            "\u001b[1;32mpandas\\_libs\\index.pyx\u001b[0m in \u001b[0;36mpandas._libs.index.IndexEngine.get_loc\u001b[1;34m()\u001b[0m\n",
            "\u001b[1;32mpandas\\_libs\\hashtable_class_helper.pxi\u001b[0m in \u001b[0;36mpandas._libs.hashtable.Int64HashTable.get_item\u001b[1;34m()\u001b[0m\n",
            "\u001b[1;32mpandas\\_libs\\hashtable_class_helper.pxi\u001b[0m in \u001b[0;36mpandas._libs.hashtable.Int64HashTable.get_item\u001b[1;34m()\u001b[0m\n",
            "\u001b[1;31mKeyError\u001b[0m: 1"
          ]
        }
      ],
      "source": [
        "Model_test = X_test.loc[1,].copy()\n",
        "Model_test"
      ]
    },
    {
      "cell_type": "code",
      "execution_count": 137,
      "metadata": {},
      "outputs": [
        {
          "output_type": "error",
          "ename": "NameError",
          "evalue": "name 'Model_test' is not defined",
          "traceback": [
            "\u001b[1;31m---------------------------------------------------------------------------\u001b[0m",
            "\u001b[1;31mNameError\u001b[0m                                 Traceback (most recent call last)",
            "\u001b[1;32m<ipython-input-137-2b74bcc99970>\u001b[0m in \u001b[0;36m<module>\u001b[1;34m\u001b[0m\n\u001b[1;32m----> 1\u001b[1;33m \u001b[0mModel_test\u001b[0m\u001b[1;33m.\u001b[0m\u001b[0mcondition\u001b[0m \u001b[1;33m=\u001b[0m \u001b[1;34m'Used'\u001b[0m\u001b[1;33m\u001b[0m\u001b[1;33m\u001b[0m\u001b[0m\n\u001b[0m\u001b[0;32m      2\u001b[0m \u001b[0mModel_test\u001b[0m\u001b[1;33m.\u001b[0m\u001b[0mmilage\u001b[0m \u001b[1;33m=\u001b[0m \u001b[1;36m60000\u001b[0m\u001b[1;33m\u001b[0m\u001b[1;33m\u001b[0m\u001b[0m\n\u001b[0;32m      3\u001b[0m \u001b[0mModel_test\u001b[0m\u001b[1;33m.\u001b[0m\u001b[0mYear\u001b[0m \u001b[1;33m=\u001b[0m \u001b[1;36m2012\u001b[0m\u001b[1;33m\u001b[0m\u001b[1;33m\u001b[0m\u001b[0m\n\u001b[0;32m      4\u001b[0m \u001b[0mModel_test\u001b[0m\u001b[1;33m.\u001b[0m\u001b[0mBrand\u001b[0m \u001b[1;33m=\u001b[0m \u001b[1;34m'Porsche'\u001b[0m\u001b[1;33m\u001b[0m\u001b[1;33m\u001b[0m\u001b[0m\n\u001b[0;32m      5\u001b[0m \u001b[0mModel_test\u001b[0m\u001b[1;33m.\u001b[0m\u001b[0mModel\u001b[0m \u001b[1;33m=\u001b[0m \u001b[1;36m911\u001b[0m\u001b[1;33m\u001b[0m\u001b[1;33m\u001b[0m\u001b[0m\n",
            "\u001b[1;31mNameError\u001b[0m: name 'Model_test' is not defined"
          ]
        }
      ],
      "source": [
        "Model_test.condition = 'Used'\n",
        "Model_test.milage = 60000\n",
        "Model_test.Year = 2012\n",
        "Model_test.Brand = 'Porsche'\n",
        "Model_test.Model = 911\n",
        "Model_test.Model_Vers = 'Carrera'\n",
        "Model_test.S_RS = 'S'\n",
        "Model_test.Cabriolet = 'Cabriolet'\n",
        "Model_test.Color = 'Black'\n",
        "Model_test.Transmission = 'Automatic'"
      ]
    },
    {
      "cell_type": "code",
      "execution_count": 166,
      "metadata": {},
      "outputs": [
        {
          "output_type": "error",
          "ename": "NameError",
          "evalue": "name 'Model_test' is not defined",
          "traceback": [
            "\u001b[1;31m---------------------------------------------------------------------------\u001b[0m",
            "\u001b[1;31mNameError\u001b[0m                                 Traceback (most recent call last)",
            "\u001b[1;32m<ipython-input-166-e4bd2b3378fd>\u001b[0m in \u001b[0;36m<module>\u001b[1;34m\u001b[0m\n\u001b[1;32m----> 1\u001b[1;33m \u001b[0mModel_test\u001b[0m\u001b[1;33m\u001b[0m\u001b[1;33m\u001b[0m\u001b[0m\n\u001b[0m",
            "\u001b[1;31mNameError\u001b[0m: name 'Model_test' is not defined"
          ]
        }
      ],
      "source": [
        "Model_test"
      ]
    },
    {
      "cell_type": "code",
      "execution_count": 139,
      "metadata": {},
      "outputs": [
        {
          "output_type": "error",
          "ename": "NameError",
          "evalue": "name 'Model_test' is not defined",
          "traceback": [
            "\u001b[1;31m---------------------------------------------------------------------------\u001b[0m",
            "\u001b[1;31mNameError\u001b[0m                                 Traceback (most recent call last)",
            "\u001b[1;32m<ipython-input-139-69cd4f2b165f>\u001b[0m in \u001b[0;36m<module>\u001b[1;34m\u001b[0m\n\u001b[1;32m----> 1\u001b[1;33m \u001b[0mModel_test\u001b[0m\u001b[1;33m.\u001b[0m\u001b[0mto_csv\u001b[0m\u001b[1;33m(\u001b[0m\u001b[1;34m'Test_Car.csv'\u001b[0m\u001b[1;33m)\u001b[0m\u001b[1;33m\u001b[0m\u001b[1;33m\u001b[0m\u001b[0m\n\u001b[0m",
            "\u001b[1;31mNameError\u001b[0m: name 'Model_test' is not defined"
          ]
        }
      ],
      "source": [
        "Model_test.to_csv('Test_Car.csv')"
      ]
    },
    {
      "cell_type": "code",
      "execution_count": 140,
      "metadata": {},
      "outputs": [
        {
          "output_type": "error",
          "ename": "NameError",
          "evalue": "name 'Model_test' is not defined",
          "traceback": [
            "\u001b[1;31m---------------------------------------------------------------------------\u001b[0m",
            "\u001b[1;31mNameError\u001b[0m                                 Traceback (most recent call last)",
            "\u001b[1;32m<ipython-input-140-e5c49b789a40>\u001b[0m in \u001b[0;36m<module>\u001b[1;34m\u001b[0m\n\u001b[1;32m----> 1\u001b[1;33m \u001b[0mprice\u001b[0m \u001b[1;33m=\u001b[0m \u001b[0mpipeline\u001b[0m\u001b[1;33m.\u001b[0m\u001b[0mpredict\u001b[0m\u001b[1;33m(\u001b[0m\u001b[1;33m[\u001b[0m\u001b[0mModel_test\u001b[0m\u001b[1;33m]\u001b[0m\u001b[1;33m)\u001b[0m\u001b[1;33m\u001b[0m\u001b[1;33m\u001b[0m\u001b[0m\n\u001b[0m",
            "\u001b[1;31mNameError\u001b[0m: name 'Model_test' is not defined"
          ]
        }
      ],
      "source": [
        "price = pipeline.predict([Model_test])\n"
      ]
    },
    {
      "cell_type": "code",
      "execution_count": 141,
      "metadata": {
        "tags": []
      },
      "outputs": [
        {
          "output_type": "error",
          "ename": "NameError",
          "evalue": "name 'price' is not defined",
          "traceback": [
            "\u001b[1;31m---------------------------------------------------------------------------\u001b[0m",
            "\u001b[1;31mNameError\u001b[0m                                 Traceback (most recent call last)",
            "\u001b[1;32m<ipython-input-141-b20174b6fec9>\u001b[0m in \u001b[0;36m<module>\u001b[1;34m\u001b[0m\n\u001b[1;32m----> 1\u001b[1;33m \u001b[0mprint\u001b[0m\u001b[1;33m(\u001b[0m\u001b[1;34m\"High price for your 911 is:$\"\u001b[0m\u001b[1;33m,\u001b[0m\u001b[0mround\u001b[0m\u001b[1;33m(\u001b[0m\u001b[0mprice\u001b[0m\u001b[1;33m[\u001b[0m\u001b[1;36m0\u001b[0m\u001b[1;33m]\u001b[0m\u001b[1;33m+\u001b[0m\u001b[1;33m(\u001b[0m\u001b[0mprice\u001b[0m\u001b[1;33m[\u001b[0m\u001b[1;36m0\u001b[0m\u001b[1;33m]\u001b[0m\u001b[1;33m*\u001b[0m\u001b[1;36m.05\u001b[0m\u001b[1;33m)\u001b[0m\u001b[1;33m,\u001b[0m\u001b[1;36m0\u001b[0m\u001b[1;33m)\u001b[0m\u001b[1;33m)\u001b[0m\u001b[1;33m\u001b[0m\u001b[1;33m\u001b[0m\u001b[0m\n\u001b[0m\u001b[0;32m      2\u001b[0m \u001b[0mprint\u001b[0m\u001b[1;33m(\u001b[0m\u001b[1;34m\"Fair price for your 911 is:$\"\u001b[0m\u001b[1;33m,\u001b[0m\u001b[0mround\u001b[0m\u001b[1;33m(\u001b[0m\u001b[0mprice\u001b[0m\u001b[1;33m[\u001b[0m\u001b[1;36m0\u001b[0m\u001b[1;33m]\u001b[0m\u001b[1;33m,\u001b[0m\u001b[1;36m0\u001b[0m\u001b[1;33m)\u001b[0m\u001b[1;33m)\u001b[0m\u001b[1;33m\u001b[0m\u001b[1;33m\u001b[0m\u001b[0m\n\u001b[0;32m      3\u001b[0m \u001b[0mprint\u001b[0m\u001b[1;33m(\u001b[0m\u001b[1;34m\"Low price for your 911 is:$\"\u001b[0m\u001b[1;33m,\u001b[0m\u001b[0mround\u001b[0m\u001b[1;33m(\u001b[0m\u001b[0mprice\u001b[0m\u001b[1;33m[\u001b[0m\u001b[1;36m0\u001b[0m\u001b[1;33m]\u001b[0m\u001b[1;33m-\u001b[0m\u001b[1;33m(\u001b[0m\u001b[0mprice\u001b[0m\u001b[1;33m[\u001b[0m\u001b[1;36m0\u001b[0m\u001b[1;33m]\u001b[0m\u001b[1;33m*\u001b[0m\u001b[1;36m.05\u001b[0m\u001b[1;33m)\u001b[0m\u001b[1;33m,\u001b[0m\u001b[1;36m0\u001b[0m\u001b[1;33m)\u001b[0m\u001b[1;33m)\u001b[0m\u001b[1;33m\u001b[0m\u001b[1;33m\u001b[0m\u001b[0m\n",
            "\u001b[1;31mNameError\u001b[0m: name 'price' is not defined"
          ]
        }
      ],
      "source": [
        "print(\"High price for your 911 is:$\",round(price[0]+(price[0]*.05),0))\n",
        "print(\"Fair price for your 911 is:$\",round(price[0],0))\n",
        "print(\"Low price for your 911 is:$\",round(price[0]-(price[0]*.05),0))"
      ]
    },
    {
      "cell_type": "code",
      "execution_count": 142,
      "metadata": {},
      "outputs": [
        {
          "output_type": "execute_result",
          "data": {
            "text/plain": "Black          221\nWhite          115\nGray/Silver    102\nOther           98\nRed             56\nBlue            56\nName: Color, dtype: int64"
          },
          "metadata": {},
          "execution_count": 142
        }
      ],
      "source": [
        "train.Color.value_counts()"
      ]
    },
    {
      "cell_type": "code",
      "execution_count": 143,
      "metadata": {},
      "outputs": [
        {
          "output_type": "execute_result",
          "data": {
            "text/plain": "['911_Price.pkl']",
            "text/html": "['911_Price.pkl']"
          },
          "metadata": {},
          "execution_count": 143
        }
      ],
      "source": [
        "import joblib\n",
        "joblib.dump(pipeline, '911_Price.pkl') "
      ]
    },
    {
      "cell_type": "code",
      "execution_count": 144,
      "metadata": {},
      "outputs": [
        {
          "output_type": "execute_result",
          "data": {
            "text/plain": "S        286\nBase     263\n4S       148\nGTS       47\n4         29\nGTS4      18\nT         15\nBlack      4\nName: S_RS, dtype: int64"
          },
          "metadata": {},
          "execution_count": 144
        }
      ],
      "source": [
        "df.S_RS.value_counts()"
      ]
    },
    {
      "cell_type": "code",
      "execution_count": 145,
      "metadata": {},
      "outputs": [],
      "source": [
        "test_model_data = pd.read_csv('https://raw.githubusercontent.com/popkdodge/Unit-2-Build/master/Test_Car.csv',index_col=[0])"
      ]
    },
    {
      "cell_type": "code",
      "execution_count": 146,
      "metadata": {},
      "outputs": [],
      "source": [
        "model = joblib.load('911_Price.sav')"
      ]
    },
    {
      "cell_type": "code",
      "execution_count": 147,
      "metadata": {},
      "outputs": [
        {
          "output_type": "error",
          "ename": "NameError",
          "evalue": "name 'Model_test' is not defined",
          "traceback": [
            "\u001b[1;31m---------------------------------------------------------------------------\u001b[0m",
            "\u001b[1;31mNameError\u001b[0m                                 Traceback (most recent call last)",
            "\u001b[1;32m<ipython-input-147-d332a5ebd5fa>\u001b[0m in \u001b[0;36m<module>\u001b[1;34m\u001b[0m\n\u001b[1;32m----> 1\u001b[1;33m \u001b[0mmodel\u001b[0m\u001b[1;33m.\u001b[0m\u001b[0mpredict\u001b[0m\u001b[1;33m(\u001b[0m\u001b[1;33m[\u001b[0m\u001b[0mModel_test\u001b[0m\u001b[1;33m]\u001b[0m\u001b[1;33m)\u001b[0m\u001b[1;33m\u001b[0m\u001b[1;33m\u001b[0m\u001b[0m\n\u001b[0m",
            "\u001b[1;31mNameError\u001b[0m: name 'Model_test' is not defined"
          ]
        }
      ],
      "source": [
        "model.predict([Model_test])"
      ]
    },
    {
      "cell_type": "code",
      "execution_count": 148,
      "metadata": {},
      "outputs": [],
      "source": [
        "test_model_data = pd.read_csv('https://raw.githubusercontent.com/popkdodge/Unit-2-Build/master/Test_Car.csv',index_col=[0])"
      ]
    },
    {
      "cell_type": "code",
      "execution_count": 149,
      "metadata": {},
      "outputs": [
        {
          "output_type": "execute_result",
          "data": {
            "text/plain": "  condition milage  Year    Brand Model Model_Vers S_RS  Cabriolet  Color  \\\n1      Used  60000  2012  Porsche   911    Carrera    S  Cabriolet  Black   \n\n  Transmission  \n1    Automatic  ",
            "text/html": "<div>\n<style scoped>\n    .dataframe tbody tr th:only-of-type {\n        vertical-align: middle;\n    }\n\n    .dataframe tbody tr th {\n        vertical-align: top;\n    }\n\n    .dataframe thead th {\n        text-align: right;\n    }\n</style>\n<table border=\"1\" class=\"dataframe\">\n  <thead>\n    <tr style=\"text-align: right;\">\n      <th></th>\n      <th>condition</th>\n      <th>milage</th>\n      <th>Year</th>\n      <th>Brand</th>\n      <th>Model</th>\n      <th>Model_Vers</th>\n      <th>S_RS</th>\n      <th>Cabriolet</th>\n      <th>Color</th>\n      <th>Transmission</th>\n    </tr>\n  </thead>\n  <tbody>\n    <tr>\n      <th>1</th>\n      <td>Used</td>\n      <td>60000</td>\n      <td>2012</td>\n      <td>Porsche</td>\n      <td>911</td>\n      <td>Carrera</td>\n      <td>S</td>\n      <td>Cabriolet</td>\n      <td>Black</td>\n      <td>Automatic</td>\n    </tr>\n  </tbody>\n</table>\n</div>"
          },
          "metadata": {},
          "execution_count": 149
        }
      ],
      "source": [
        "test_model_data.T"
      ]
    },
    {
      "cell_type": "code",
      "execution_count": 150,
      "metadata": {},
      "outputs": [
        {
          "output_type": "execute_result",
          "data": {
            "text/plain": "     condition  milage   Price  Year    Brand  Model Model_Vers   S_RS  \\\n0         Used   47649   48950  2012  Porsche    911    Carrera  Black   \n1         Used   19020   67988  2015  Porsche    911    Carrera   Base   \n3         Used   56436   51990  2012  Porsche    911    Carrera      S   \n4         Used   85000   34900  2009  Porsche    911    Carrera      S   \n5         Used   15808   96995  2018  Porsche    911    Carrera      S   \n...        ...     ...     ...   ...      ...    ...        ...    ...   \n1493      Used   19826   99950  2017  Porsche    911    Carrera     4S   \n1494      Used   15710   89995  2016  Porsche    911    Carrera     4S   \n1495      Used     502   93900  2018  Porsche    911    Carrera      T   \n1496      Used    5182   81995  2016  Porsche    911    Carrera      S   \n1501       CPO   10074  112000  2018  Porsche    911    Carrera     4S   \n\n      Cabriolet  Color Transmission  \n0       Hardtop  Black    Automatic  \n1       Hardtop  Black    Automatic  \n3       Hardtop  Black    Automatic  \n4     Cabriolet  Black    Automatic  \n5       Hardtop  Black    Automatic  \n...         ...    ...          ...  \n1493    Hardtop  White       Manual  \n1494    Hardtop  White       Manual  \n1495    Hardtop  White       Manual  \n1496    Hardtop  White       Manual  \n1501    Hardtop  White       Manual  \n\n[810 rows x 11 columns]",
            "text/html": "<div>\n<style scoped>\n    .dataframe tbody tr th:only-of-type {\n        vertical-align: middle;\n    }\n\n    .dataframe tbody tr th {\n        vertical-align: top;\n    }\n\n    .dataframe thead th {\n        text-align: right;\n    }\n</style>\n<table border=\"1\" class=\"dataframe\">\n  <thead>\n    <tr style=\"text-align: right;\">\n      <th></th>\n      <th>condition</th>\n      <th>milage</th>\n      <th>Price</th>\n      <th>Year</th>\n      <th>Brand</th>\n      <th>Model</th>\n      <th>Model_Vers</th>\n      <th>S_RS</th>\n      <th>Cabriolet</th>\n      <th>Color</th>\n      <th>Transmission</th>\n    </tr>\n  </thead>\n  <tbody>\n    <tr>\n      <th>0</th>\n      <td>Used</td>\n      <td>47649</td>\n      <td>48950</td>\n      <td>2012</td>\n      <td>Porsche</td>\n      <td>911</td>\n      <td>Carrera</td>\n      <td>Black</td>\n      <td>Hardtop</td>\n      <td>Black</td>\n      <td>Automatic</td>\n    </tr>\n    <tr>\n      <th>1</th>\n      <td>Used</td>\n      <td>19020</td>\n      <td>67988</td>\n      <td>2015</td>\n      <td>Porsche</td>\n      <td>911</td>\n      <td>Carrera</td>\n      <td>Base</td>\n      <td>Hardtop</td>\n      <td>Black</td>\n      <td>Automatic</td>\n    </tr>\n    <tr>\n      <th>3</th>\n      <td>Used</td>\n      <td>56436</td>\n      <td>51990</td>\n      <td>2012</td>\n      <td>Porsche</td>\n      <td>911</td>\n      <td>Carrera</td>\n      <td>S</td>\n      <td>Hardtop</td>\n      <td>Black</td>\n      <td>Automatic</td>\n    </tr>\n    <tr>\n      <th>4</th>\n      <td>Used</td>\n      <td>85000</td>\n      <td>34900</td>\n      <td>2009</td>\n      <td>Porsche</td>\n      <td>911</td>\n      <td>Carrera</td>\n      <td>S</td>\n      <td>Cabriolet</td>\n      <td>Black</td>\n      <td>Automatic</td>\n    </tr>\n    <tr>\n      <th>5</th>\n      <td>Used</td>\n      <td>15808</td>\n      <td>96995</td>\n      <td>2018</td>\n      <td>Porsche</td>\n      <td>911</td>\n      <td>Carrera</td>\n      <td>S</td>\n      <td>Hardtop</td>\n      <td>Black</td>\n      <td>Automatic</td>\n    </tr>\n    <tr>\n      <th>...</th>\n      <td>...</td>\n      <td>...</td>\n      <td>...</td>\n      <td>...</td>\n      <td>...</td>\n      <td>...</td>\n      <td>...</td>\n      <td>...</td>\n      <td>...</td>\n      <td>...</td>\n      <td>...</td>\n    </tr>\n    <tr>\n      <th>1493</th>\n      <td>Used</td>\n      <td>19826</td>\n      <td>99950</td>\n      <td>2017</td>\n      <td>Porsche</td>\n      <td>911</td>\n      <td>Carrera</td>\n      <td>4S</td>\n      <td>Hardtop</td>\n      <td>White</td>\n      <td>Manual</td>\n    </tr>\n    <tr>\n      <th>1494</th>\n      <td>Used</td>\n      <td>15710</td>\n      <td>89995</td>\n      <td>2016</td>\n      <td>Porsche</td>\n      <td>911</td>\n      <td>Carrera</td>\n      <td>4S</td>\n      <td>Hardtop</td>\n      <td>White</td>\n      <td>Manual</td>\n    </tr>\n    <tr>\n      <th>1495</th>\n      <td>Used</td>\n      <td>502</td>\n      <td>93900</td>\n      <td>2018</td>\n      <td>Porsche</td>\n      <td>911</td>\n      <td>Carrera</td>\n      <td>T</td>\n      <td>Hardtop</td>\n      <td>White</td>\n      <td>Manual</td>\n    </tr>\n    <tr>\n      <th>1496</th>\n      <td>Used</td>\n      <td>5182</td>\n      <td>81995</td>\n      <td>2016</td>\n      <td>Porsche</td>\n      <td>911</td>\n      <td>Carrera</td>\n      <td>S</td>\n      <td>Hardtop</td>\n      <td>White</td>\n      <td>Manual</td>\n    </tr>\n    <tr>\n      <th>1501</th>\n      <td>CPO</td>\n      <td>10074</td>\n      <td>112000</td>\n      <td>2018</td>\n      <td>Porsche</td>\n      <td>911</td>\n      <td>Carrera</td>\n      <td>4S</td>\n      <td>Hardtop</td>\n      <td>White</td>\n      <td>Manual</td>\n    </tr>\n  </tbody>\n</table>\n<p>810 rows × 11 columns</p>\n</div>"
          },
          "metadata": {},
          "execution_count": 150
        }
      ],
      "source": [
        "df"
      ]
    },
    {
      "cell_type": "code",
      "execution_count": 151,
      "metadata": {},
      "outputs": [],
      "source": [
        "std = df.Price[df.Year==2012].std()"
      ]
    },
    {
      "cell_type": "code",
      "execution_count": 152,
      "metadata": {},
      "outputs": [
        {
          "output_type": "error",
          "ename": "NameError",
          "evalue": "name 'mean' is not defined",
          "traceback": [
            "\u001b[1;31m---------------------------------------------------------------------------\u001b[0m",
            "\u001b[1;31mNameError\u001b[0m                                 Traceback (most recent call last)",
            "\u001b[1;32m<ipython-input-152-d8877c5f4649>\u001b[0m in \u001b[0;36m<module>\u001b[1;34m\u001b[0m\n\u001b[1;32m----> 1\u001b[1;33m \u001b[0mspot\u001b[0m \u001b[1;33m=\u001b[0m \u001b[1;33m(\u001b[0m\u001b[0mmean\u001b[0m\u001b[1;33m-\u001b[0m\u001b[0mprice\u001b[0m\u001b[1;33m[\u001b[0m\u001b[1;36m0\u001b[0m\u001b[1;33m]\u001b[0m\u001b[1;33m)\u001b[0m\u001b[1;33m/\u001b[0m\u001b[0mstd\u001b[0m\u001b[1;33m\u001b[0m\u001b[1;33m\u001b[0m\u001b[0m\n\u001b[0m",
            "\u001b[1;31mNameError\u001b[0m: name 'mean' is not defined"
          ]
        }
      ],
      "source": [
        "spot = (mean-price[0])/std"
      ]
    },
    {
      "cell_type": "code",
      "execution_count": 153,
      "metadata": {},
      "outputs": [
        {
          "output_type": "error",
          "ename": "NameError",
          "evalue": "name 'spot' is not defined",
          "traceback": [
            "\u001b[1;31m---------------------------------------------------------------------------\u001b[0m",
            "\u001b[1;31mNameError\u001b[0m                                 Traceback (most recent call last)",
            "\u001b[1;32m<ipython-input-153-03b916898bb9>\u001b[0m in \u001b[0;36m<module>\u001b[1;34m\u001b[0m\n\u001b[1;32m----> 1\u001b[1;33m \u001b[0mspot\u001b[0m\u001b[1;33m\u001b[0m\u001b[1;33m\u001b[0m\u001b[0m\n\u001b[0m",
            "\u001b[1;31mNameError\u001b[0m: name 'spot' is not defined"
          ]
        }
      ],
      "source": [
        "spot"
      ]
    },
    {
      "cell_type": "code",
      "execution_count": 154,
      "metadata": {},
      "outputs": [],
      "source": [
        "year_for_chart = 2015"
      ]
    },
    {
      "cell_type": "code",
      "execution_count": 155,
      "metadata": {},
      "outputs": [
        {
          "output_type": "error",
          "ename": "NameError",
          "evalue": "name 'Model_test' is not defined",
          "traceback": [
            "\u001b[1;31m---------------------------------------------------------------------------\u001b[0m",
            "\u001b[1;31mNameError\u001b[0m                                 Traceback (most recent call last)",
            "\u001b[1;32m<ipython-input-155-ead3fef33860>\u001b[0m in \u001b[0;36m<module>\u001b[1;34m\u001b[0m\n\u001b[0;32m      9\u001b[0m \u001b[0mspot\u001b[0m \u001b[1;33m=\u001b[0m \u001b[1;33m(\u001b[0m\u001b[0mmean\u001b[0m\u001b[1;33m)\u001b[0m\u001b[1;33m/\u001b[0m\u001b[0mstd\u001b[0m\u001b[1;33m\u001b[0m\u001b[1;33m\u001b[0m\u001b[0m\n\u001b[0;32m     10\u001b[0m \u001b[0mhist_data\u001b[0m \u001b[1;33m=\u001b[0m \u001b[1;33m[\u001b[0m\u001b[0mx\u001b[0m\u001b[1;33m]\u001b[0m\u001b[1;33m\u001b[0m\u001b[1;33m\u001b[0m\u001b[0m\n\u001b[1;32m---> 11\u001b[1;33m \u001b[0mprice\u001b[0m \u001b[1;33m=\u001b[0m \u001b[0mmodel\u001b[0m\u001b[1;33m.\u001b[0m\u001b[0mpredict\u001b[0m\u001b[1;33m(\u001b[0m\u001b[1;33m[\u001b[0m\u001b[0mModel_test\u001b[0m\u001b[1;33m]\u001b[0m\u001b[1;33m)\u001b[0m\u001b[1;33m\u001b[0m\u001b[1;33m\u001b[0m\u001b[0m\n\u001b[0m\u001b[0;32m     12\u001b[0m \u001b[0mfair\u001b[0m \u001b[1;33m=\u001b[0m \u001b[0mround\u001b[0m\u001b[1;33m(\u001b[0m\u001b[0mprice\u001b[0m\u001b[1;33m[\u001b[0m\u001b[1;36m0\u001b[0m\u001b[1;33m]\u001b[0m\u001b[1;33m,\u001b[0m\u001b[1;36m0\u001b[0m\u001b[1;33m)\u001b[0m\u001b[1;33m\u001b[0m\u001b[1;33m\u001b[0m\u001b[0m\n\u001b[0;32m     13\u001b[0m \u001b[0mgroup_labels\u001b[0m \u001b[1;33m=\u001b[0m \u001b[1;33m[\u001b[0m\u001b[1;34m'911 Carrera'\u001b[0m\u001b[1;33m]\u001b[0m \u001b[1;31m# name of the dataset\u001b[0m\u001b[1;33m\u001b[0m\u001b[1;33m\u001b[0m\u001b[0m\n",
            "\u001b[1;31mNameError\u001b[0m: name 'Model_test' is not defined"
          ]
        }
      ],
      "source": [
        "import plotly.figure_factory as ff\n",
        "import plotly.graph_objects as go\n",
        "import numpy as np\n",
        "\n",
        "np.random.seed(1)\n",
        "mean = df.Price[df.Year==year_for_chart].mean()\n",
        "std = df.Price[df.Year==year_for_chart].std()\n",
        "x = np.random.randn(10000)\n",
        "spot = (mean)/std\n",
        "hist_data = [x]\n",
        "price = model.predict([Model_test])\n",
        "fair = round(price[0],0)\n",
        "group_labels = ['911 Carrera'] # name of the dataset\n",
        "number = year_for_chart\n",
        "fig = ff.create_distplot(hist_data, group_labels)\n",
        "fig.update_layout(\n",
        "    title={\n",
        "        'text': f\"{number} Carrera Price Distribution\",\n",
        "        'y':0.9,\n",
        "        'x':0.5,\n",
        "        'xanchor': 'center',\n",
        "        'yanchor': 'top'},\n",
        "    font=dict(\n",
        "        family=\"Courier New, monospace\",\n",
        "        size=18,\n",
        "        color=\"#7f7f7f\")\n",
        "    )\n",
        "fig.add_trace(go.Scatter(\n",
        "    x=[0],\n",
        "    y=[0.45],\n",
        "    text=[f\"Mean:{mean:,.0f}\"],\n",
        "    mode=\"text\",\n",
        ")) \n",
        "fig.add_trace(go.Scatter(\n",
        "    x=[2.13],\n",
        "    y=[0.3],\n",
        "    text=[f'1 STD:{(mean+std):,.0f}'],\n",
        "    mode=\"text\",\n",
        ")) \n",
        "fig.add_trace(go.Scatter(\n",
        "    x=[-2.11],\n",
        "    y=[0.3],\n",
        "    text=[f'-1 STD:{mean-std:,.0f}'],\n",
        "    mode=\"text\",\n",
        ")) \n",
        "fig.add_shape(\n",
        "        # Line Vertical\n",
        "        dict(\n",
        "            type=\"line\",\n",
        "            x0=0,\n",
        "            y0=0,\n",
        "            x1=0,\n",
        "            y1=0.4,\n",
        "            line=dict(\n",
        "                color=\"Yellow\",\n",
        "                width=3\n",
        "            )))\n",
        "fig.add_shape(\n",
        "        # Line Vertical\n",
        "        dict(\n",
        "            type=\"line\",\n",
        "            x0=1,\n",
        "            y0=0,\n",
        "            x1=1,\n",
        "            y1=0.23,\n",
        "            line=dict(\n",
        "                color=\"Red\",\n",
        "                width=3\n",
        "            )))\n",
        "fig.add_shape(\n",
        "        # Line Vertical\n",
        "        dict(\n",
        "            type=\"line\",\n",
        "            x0=-1,\n",
        "            y0=0,\n",
        "            x1=-1,\n",
        "            y1=0.23,\n",
        "            line=dict(\n",
        "                color=\"red\",\n",
        "                width=3\n",
        "            )))\n",
        "fig.add_shape(\n",
        "        # Line Vertical\n",
        "        dict(\n",
        "            type=\"line\",\n",
        "            x0=spot,\n",
        "            y0=0,\n",
        "            x1=spot,\n",
        "            y1=0.4,\n",
        "            line=dict(\n",
        "                color=\"Green\",\n",
        "                width=3\n",
        "            )))\n",
        "fig.show()"
      ]
    },
    {
      "cell_type": "code",
      "execution_count": 156,
      "metadata": {},
      "outputs": [
        {
          "output_type": "error",
          "ename": "NameError",
          "evalue": "name 'Model_test' is not defined",
          "traceback": [
            "\u001b[1;31m---------------------------------------------------------------------------\u001b[0m",
            "\u001b[1;31mNameError\u001b[0m                                 Traceback (most recent call last)",
            "\u001b[1;32m<ipython-input-156-8b69434a3b52>\u001b[0m in \u001b[0;36m<module>\u001b[1;34m\u001b[0m\n\u001b[1;32m----> 1\u001b[1;33m \u001b[0mModel_test\u001b[0m \u001b[1;33m=\u001b[0m \u001b[0mModel_test\u001b[0m\u001b[1;33m.\u001b[0m\u001b[0mT\u001b[0m\u001b[1;33m\u001b[0m\u001b[1;33m\u001b[0m\u001b[0m\n\u001b[0m",
            "\u001b[1;31mNameError\u001b[0m: name 'Model_test' is not defined"
          ]
        }
      ],
      "source": [
        "Model_test = Model_test.T"
      ]
    },
    {
      "cell_type": "code",
      "execution_count": 157,
      "metadata": {},
      "outputs": [
        {
          "output_type": "display_data",
          "data": {
            "text/plain": "IntSlider(value=0, description='x')",
            "application/vnd.jupyter.widget-view+json": {
              "version_major": 2,
              "version_minor": 0,
              "model_id": "3046f8992b524668b766a9d8c7dbdf83"
            }
          },
          "metadata": {}
        },
        {
          "output_type": "display_data",
          "data": {
            "text/plain": "IntSlider(value=0, description='y')",
            "application/vnd.jupyter.widget-view+json": {
              "version_major": 2,
              "version_minor": 0,
              "model_id": "05adb96e6a174b3785a28a93cebb8bd2"
            }
          },
          "metadata": {}
        }
      ],
      "source": [
        "from ipywidgets import IntSlider\n",
        "from IPython.display import display\n",
        "x = IntSlider(description='x')\n",
        "y = IntSlider(description='y')\n",
        "\n",
        "def update_y(args):\n",
        "    y.value = args['new']\n",
        "    print(args['new'])\n",
        "\n",
        "x.observe(update_y, 'value')\n",
        "\n",
        "display(x)\n",
        "display(y)"
      ]
    },
    {
      "cell_type": "code",
      "execution_count": 158,
      "metadata": {},
      "outputs": [
        {
          "output_type": "error",
          "ename": "NameError",
          "evalue": "name 'price' is not defined",
          "traceback": [
            "\u001b[1;31m---------------------------------------------------------------------------\u001b[0m",
            "\u001b[1;31mNameError\u001b[0m                                 Traceback (most recent call last)",
            "\u001b[1;32m<ipython-input-158-f6c81b82a8a9>\u001b[0m in \u001b[0;36m<module>\u001b[1;34m\u001b[0m\n\u001b[1;32m----> 1\u001b[1;33m \u001b[0mprice\u001b[0m\u001b[1;33m[\u001b[0m\u001b[1;36m0\u001b[0m\u001b[1;33m]\u001b[0m\u001b[1;33m-\u001b[0m\u001b[0mmean\u001b[0m\u001b[1;33m\u001b[0m\u001b[1;33m\u001b[0m\u001b[0m\n\u001b[0m",
            "\u001b[1;31mNameError\u001b[0m: name 'price' is not defined"
          ]
        }
      ],
      "source": [
        "price[0]-mean"
      ]
    },
    {
      "cell_type": "code",
      "execution_count": 159,
      "metadata": {},
      "outputs": [
        {
          "output_type": "error",
          "ename": "NameError",
          "evalue": "name 'price' is not defined",
          "traceback": [
            "\u001b[1;31m---------------------------------------------------------------------------\u001b[0m",
            "\u001b[1;31mNameError\u001b[0m                                 Traceback (most recent call last)",
            "\u001b[1;32m<ipython-input-159-94e09f66e9c4>\u001b[0m in \u001b[0;36m<module>\u001b[1;34m\u001b[0m\n\u001b[1;32m----> 1\u001b[1;33m \u001b[0mspot\u001b[0m \u001b[1;33m=\u001b[0m \u001b[1;33m(\u001b[0m\u001b[0mmean\u001b[0m\u001b[1;33m-\u001b[0m\u001b[0mprice\u001b[0m\u001b[1;33m[\u001b[0m\u001b[1;36m0\u001b[0m\u001b[1;33m]\u001b[0m\u001b[1;33m)\u001b[0m\u001b[1;33m/\u001b[0m\u001b[0mstd\u001b[0m\u001b[1;33m\u001b[0m\u001b[1;33m\u001b[0m\u001b[0m\n\u001b[0m\u001b[0;32m      2\u001b[0m \u001b[0mspot_std\u001b[0m \u001b[1;33m=\u001b[0m \u001b[1;33m(\u001b[0m\u001b[0mprice\u001b[0m\u001b[1;33m[\u001b[0m\u001b[1;36m0\u001b[0m\u001b[1;33m]\u001b[0m\u001b[1;33m-\u001b[0m\u001b[0mmean\u001b[0m\u001b[1;33m)\u001b[0m\u001b[1;33m\u001b[0m\u001b[1;33m\u001b[0m\u001b[0m\n\u001b[0;32m      3\u001b[0m \u001b[0mspot_std\u001b[0m\u001b[1;33m\u001b[0m\u001b[1;33m\u001b[0m\u001b[0m\n",
            "\u001b[1;31mNameError\u001b[0m: name 'price' is not defined"
          ]
        }
      ],
      "source": [
        "spot = (mean-price[0])/std\n",
        "spot_std = (price[0]-mean)\n",
        "spot_std"
      ]
    },
    {
      "cell_type": "code",
      "execution_count": 160,
      "metadata": {
        "tags": []
      },
      "outputs": [
        {
          "output_type": "error",
          "ename": "NameError",
          "evalue": "name 'price' is not defined",
          "traceback": [
            "\u001b[1;31m---------------------------------------------------------------------------\u001b[0m",
            "\u001b[1;31mNameError\u001b[0m                                 Traceback (most recent call last)",
            "\u001b[1;32m<ipython-input-160-b20174b6fec9>\u001b[0m in \u001b[0;36m<module>\u001b[1;34m\u001b[0m\n\u001b[1;32m----> 1\u001b[1;33m \u001b[0mprint\u001b[0m\u001b[1;33m(\u001b[0m\u001b[1;34m\"High price for your 911 is:$\"\u001b[0m\u001b[1;33m,\u001b[0m\u001b[0mround\u001b[0m\u001b[1;33m(\u001b[0m\u001b[0mprice\u001b[0m\u001b[1;33m[\u001b[0m\u001b[1;36m0\u001b[0m\u001b[1;33m]\u001b[0m\u001b[1;33m+\u001b[0m\u001b[1;33m(\u001b[0m\u001b[0mprice\u001b[0m\u001b[1;33m[\u001b[0m\u001b[1;36m0\u001b[0m\u001b[1;33m]\u001b[0m\u001b[1;33m*\u001b[0m\u001b[1;36m.05\u001b[0m\u001b[1;33m)\u001b[0m\u001b[1;33m,\u001b[0m\u001b[1;36m0\u001b[0m\u001b[1;33m)\u001b[0m\u001b[1;33m)\u001b[0m\u001b[1;33m\u001b[0m\u001b[1;33m\u001b[0m\u001b[0m\n\u001b[0m\u001b[0;32m      2\u001b[0m \u001b[0mprint\u001b[0m\u001b[1;33m(\u001b[0m\u001b[1;34m\"Fair price for your 911 is:$\"\u001b[0m\u001b[1;33m,\u001b[0m\u001b[0mround\u001b[0m\u001b[1;33m(\u001b[0m\u001b[0mprice\u001b[0m\u001b[1;33m[\u001b[0m\u001b[1;36m0\u001b[0m\u001b[1;33m]\u001b[0m\u001b[1;33m,\u001b[0m\u001b[1;36m0\u001b[0m\u001b[1;33m)\u001b[0m\u001b[1;33m)\u001b[0m\u001b[1;33m\u001b[0m\u001b[1;33m\u001b[0m\u001b[0m\n\u001b[0;32m      3\u001b[0m \u001b[0mprint\u001b[0m\u001b[1;33m(\u001b[0m\u001b[1;34m\"Low price for your 911 is:$\"\u001b[0m\u001b[1;33m,\u001b[0m\u001b[0mround\u001b[0m\u001b[1;33m(\u001b[0m\u001b[0mprice\u001b[0m\u001b[1;33m[\u001b[0m\u001b[1;36m0\u001b[0m\u001b[1;33m]\u001b[0m\u001b[1;33m-\u001b[0m\u001b[1;33m(\u001b[0m\u001b[0mprice\u001b[0m\u001b[1;33m[\u001b[0m\u001b[1;36m0\u001b[0m\u001b[1;33m]\u001b[0m\u001b[1;33m*\u001b[0m\u001b[1;36m.05\u001b[0m\u001b[1;33m)\u001b[0m\u001b[1;33m,\u001b[0m\u001b[1;36m0\u001b[0m\u001b[1;33m)\u001b[0m\u001b[1;33m)\u001b[0m\u001b[1;33m\u001b[0m\u001b[1;33m\u001b[0m\u001b[0m\n",
            "\u001b[1;31mNameError\u001b[0m: name 'price' is not defined"
          ]
        }
      ],
      "source": [
        "print(\"High price for your 911 is:$\",round(price[0]+(price[0]*.05),0))\n",
        "print(\"Fair price for your 911 is:$\",round(price[0],0))\n",
        "print(\"Low price for your 911 is:$\",round(price[0]-(price[0]*.05),0))"
      ]
    },
    {
      "cell_type": "code",
      "execution_count": 161,
      "metadata": {},
      "outputs": [
        {
          "output_type": "error",
          "ename": "NameError",
          "evalue": "name 'spot_std' is not defined",
          "traceback": [
            "\u001b[1;31m---------------------------------------------------------------------------\u001b[0m",
            "\u001b[1;31mNameError\u001b[0m                                 Traceback (most recent call last)",
            "\u001b[1;32m<ipython-input-161-939bc9e50955>\u001b[0m in \u001b[0;36m<module>\u001b[1;34m\u001b[0m\n\u001b[0;32m      3\u001b[0m fig1 = go.Figure(go.Indicator(\n\u001b[0;32m      4\u001b[0m     \u001b[0mdomain\u001b[0m \u001b[1;33m=\u001b[0m \u001b[1;33m{\u001b[0m\u001b[1;34m'x'\u001b[0m\u001b[1;33m:\u001b[0m \u001b[1;33m[\u001b[0m\u001b[1;36m0\u001b[0m\u001b[1;33m,\u001b[0m \u001b[1;36m1\u001b[0m\u001b[1;33m]\u001b[0m\u001b[1;33m,\u001b[0m \u001b[1;34m'y'\u001b[0m\u001b[1;33m:\u001b[0m \u001b[1;33m[\u001b[0m\u001b[1;36m0\u001b[0m\u001b[1;33m,\u001b[0m \u001b[1;36m1\u001b[0m\u001b[1;33m]\u001b[0m\u001b[1;33m}\u001b[0m\u001b[1;33m,\u001b[0m\u001b[1;33m\u001b[0m\u001b[1;33m\u001b[0m\u001b[0m\n\u001b[1;32m----> 5\u001b[1;33m     \u001b[0mvalue\u001b[0m \u001b[1;33m=\u001b[0m \u001b[0mspot_std\u001b[0m\u001b[1;33m,\u001b[0m\u001b[1;33m\u001b[0m\u001b[1;33m\u001b[0m\u001b[0m\n\u001b[0m\u001b[0;32m      6\u001b[0m     \u001b[0mmode\u001b[0m \u001b[1;33m=\u001b[0m \u001b[1;34m\"gauge+number+delta\"\u001b[0m\u001b[1;33m,\u001b[0m\u001b[1;33m\u001b[0m\u001b[1;33m\u001b[0m\u001b[0m\n\u001b[0;32m      7\u001b[0m     \u001b[0mtitle\u001b[0m \u001b[1;33m=\u001b[0m \u001b[1;33m{\u001b[0m\u001b[1;34m'text'\u001b[0m\u001b[1;33m:\u001b[0m \u001b[1;34m\"Price\"\u001b[0m\u001b[1;33m}\u001b[0m\u001b[1;33m,\u001b[0m\u001b[1;33m\u001b[0m\u001b[1;33m\u001b[0m\u001b[0m\n",
            "\u001b[1;31mNameError\u001b[0m: name 'spot_std' is not defined"
          ]
        }
      ],
      "source": [
        "import plotly.graph_objects as go\n",
        "\n",
        "fig1 = go.Figure(go.Indicator(\n",
        "    domain = {'x': [0, 1], 'y': [0, 1]},\n",
        "    value = spot_std,\n",
        "    mode = \"gauge+number+delta\",\n",
        "    title = {'text': \"Price\"},\n",
        "    delta = {'reference': 0},\n",
        "    gauge = {'axis': {'range': [-10000, 10000]},\n",
        "            'bar': {'color': \"#402306\"},\n",
        "             'steps' : [\n",
        "                 {'range': [-10000, -3333], 'color': \"#C29049\"},\n",
        "                 {'range': [-3333, 3333], 'color': \"#464C47\"},\n",
        "                 {'range': [3333, 10000], 'color': \"#A43131\"}],\n",
        "             'threshold' : {'line': {'color': \"Black\", 'width': 4}, 'thickness': 0.75, 'value': 1}}))\n",
        "\n",
        "fig1.show()"
      ]
    },
    {
      "cell_type": "code",
      "execution_count": 162,
      "metadata": {},
      "outputs": [
        {
          "output_type": "error",
          "ename": "NameError",
          "evalue": "name 'Model_test' is not defined",
          "traceback": [
            "\u001b[1;31m---------------------------------------------------------------------------\u001b[0m",
            "\u001b[1;31mNameError\u001b[0m                                 Traceback (most recent call last)",
            "\u001b[1;32m<ipython-input-162-e4bd2b3378fd>\u001b[0m in \u001b[0;36m<module>\u001b[1;34m\u001b[0m\n\u001b[1;32m----> 1\u001b[1;33m \u001b[0mModel_test\u001b[0m\u001b[1;33m\u001b[0m\u001b[1;33m\u001b[0m\u001b[0m\n\u001b[0m",
            "\u001b[1;31mNameError\u001b[0m: name 'Model_test' is not defined"
          ]
        }
      ],
      "source": [
        "Model_test"
      ]
    },
    {
      "cell_type": "code",
      "execution_count": 163,
      "metadata": {},
      "outputs": [
        {
          "output_type": "error",
          "ename": "NameError",
          "evalue": "name 'price' is not defined",
          "traceback": [
            "\u001b[1;31m---------------------------------------------------------------------------\u001b[0m",
            "\u001b[1;31mNameError\u001b[0m                                 Traceback (most recent call last)",
            "\u001b[1;32m<ipython-input-163-6ac7dcc96b90>\u001b[0m in \u001b[0;36m<module>\u001b[1;34m\u001b[0m\n\u001b[0;32m     17\u001b[0m fig3.add_trace(go.Scatter(\n\u001b[0;32m     18\u001b[0m     \u001b[0mx\u001b[0m\u001b[1;33m=\u001b[0m\u001b[1;33m[\u001b[0m\u001b[0myear_for_chart\u001b[0m\u001b[1;33m]\u001b[0m\u001b[1;33m,\u001b[0m\u001b[1;33m\u001b[0m\u001b[1;33m\u001b[0m\u001b[0m\n\u001b[1;32m---> 19\u001b[1;33m     \u001b[0my\u001b[0m\u001b[1;33m=\u001b[0m\u001b[1;33m[\u001b[0m\u001b[0mprice\u001b[0m\u001b[1;33m[\u001b[0m\u001b[1;36m0\u001b[0m\u001b[1;33m]\u001b[0m\u001b[1;33m]\u001b[0m\u001b[1;33m,\u001b[0m\u001b[1;33m\u001b[0m\u001b[1;33m\u001b[0m\u001b[0m\n\u001b[0m\u001b[0;32m     20\u001b[0m     \u001b[0mmode\u001b[0m\u001b[1;33m=\u001b[0m\u001b[1;34m\"markers\"\u001b[0m\u001b[1;33m,\u001b[0m\u001b[1;33m\u001b[0m\u001b[1;33m\u001b[0m\u001b[0m\n\u001b[0;32m     21\u001b[0m )) \n",
            "\u001b[1;31mNameError\u001b[0m: name 'price' is not defined"
          ]
        }
      ],
      "source": [
        "import plotly.express as px\n",
        "\n",
        "fig3 = px.scatter(df, x=\"Year\", y=\"Price\", color=\"Transmission\", trendline=\"lowess\")\n",
        "fig3.update_layout(\n",
        "    title=\"The 991.1 and 991.2\",\n",
        "    xaxis_title=\"Model Year\",\n",
        "    yaxis_title=\"Price\",\n",
        "    font=dict(\n",
        "        family=\"Courier New, monospace\",\n",
        "        size=18,\n",
        "        color=\"#7f7f7f\"),\n",
        "    xaxis=dict(\n",
        "        range=[2011.5, 2019.5]),\n",
        "    yaxis=dict(\n",
        "        range=[30000, 150000]),\n",
        "        )\n",
        "fig3.add_trace(go.Scatter(\n",
        "    x=[year_for_chart],\n",
        "    y=[price[0]],\n",
        "    mode=\"markers\",\n",
        ")) \n",
        "fig.add_annotation(\n",
        "        x=year_for_chart,\n",
        "        y=price[0],\n",
        "        xref=\"x\",\n",
        "        yref=\"y\",\n",
        "        text=\"max=5\",\n",
        "        showarrow=True,\n",
        "        font=dict(\n",
        "            family=\"Courier New, monospace\",\n",
        "            size=16,\n",
        "            color=\"#ffffff\"\n",
        "            ),\n",
        "        align=\"center\",\n",
        "        arrowhead=2,\n",
        "        arrowsize=1,\n",
        "        arrowwidth=2,\n",
        "        arrowcolor=\"#636363\",\n",
        "        ax=20,\n",
        "        ay=-30,\n",
        "        bordercolor=\"#c7c7c7\",\n",
        "        borderwidth=2,\n",
        "        borderpad=4,\n",
        "        bgcolor=\"#ff7f0e\",\n",
        "        opacity=0.8\n",
        "        )  \n",
        "fig3.show()"
      ]
    },
    {
      "cell_type": "code",
      "execution_count": 164,
      "metadata": {},
      "outputs": [
        {
          "output_type": "execute_result",
          "data": {
            "text/plain": "0       2012\n3       2012\n11      2012\n12      2012\n32      2012\n        ... \n1465    2012\n1466    2012\n1468    2012\n1486    2012\n1491    2012\nName: Year, Length: 70, dtype: int64"
          },
          "metadata": {},
          "execution_count": 164
        }
      ],
      "source": [
        "df.Year[df.Year==2012]"
      ]
    },
    {
      "cell_type": "code",
      "execution_count": 165,
      "metadata": {
        "tags": []
      },
      "outputs": [
        {
          "output_type": "stream",
          "name": "stdout",
          "text": "Fitting 10 folds for each of 100 candidates, totalling 1000 fits\n[Parallel(n_jobs=-1)]: Using backend LokyBackend with 12 concurrent workers.\n[Parallel(n_jobs=-1)]: Done   1 tasks      | elapsed:    1.3s\n[Parallel(n_jobs=-1)]: Done   8 tasks      | elapsed:    1.7s\n[Parallel(n_jobs=-1)]: Done  17 tasks      | elapsed:   11.0s\n[Parallel(n_jobs=-1)]: Done  26 tasks      | elapsed:   12.8s\n[Parallel(n_jobs=-1)]: Done  37 tasks      | elapsed:   15.8s\n[Parallel(n_jobs=-1)]: Done  48 tasks      | elapsed:   16.6s\n[Parallel(n_jobs=-1)]: Done  61 tasks      | elapsed:   27.0s\n[Parallel(n_jobs=-1)]: Done  74 tasks      | elapsed:   28.8s\n[Parallel(n_jobs=-1)]: Done  89 tasks      | elapsed:   30.5s\n[Parallel(n_jobs=-1)]: Done 104 tasks      | elapsed:   40.9s\n[Parallel(n_jobs=-1)]: Done 121 tasks      | elapsed:   45.2s\n[Parallel(n_jobs=-1)]: Done 138 tasks      | elapsed:   56.8s\n[Parallel(n_jobs=-1)]: Done 157 tasks      | elapsed:  1.2min\n[Parallel(n_jobs=-1)]: Done 176 tasks      | elapsed:  1.2min\n[Parallel(n_jobs=-1)]: Done 197 tasks      | elapsed:  1.3min\n[Parallel(n_jobs=-1)]: Done 218 tasks      | elapsed:  1.3min\n[Parallel(n_jobs=-1)]: Done 241 tasks      | elapsed:  1.4min\n[Parallel(n_jobs=-1)]: Done 264 tasks      | elapsed:  1.4min\n[Parallel(n_jobs=-1)]: Done 289 tasks      | elapsed:  1.4min\n[Parallel(n_jobs=-1)]: Done 314 tasks      | elapsed:  1.5min\n[Parallel(n_jobs=-1)]: Done 341 tasks      | elapsed:  1.6min\n[Parallel(n_jobs=-1)]: Done 368 tasks      | elapsed:  1.7min\n[Parallel(n_jobs=-1)]: Done 397 tasks      | elapsed:  1.8min\n[Parallel(n_jobs=-1)]: Done 426 tasks      | elapsed:  1.9min\n[Parallel(n_jobs=-1)]: Done 457 tasks      | elapsed:  2.0min\n[Parallel(n_jobs=-1)]: Done 488 tasks      | elapsed:  2.1min\n[Parallel(n_jobs=-1)]: Done 521 tasks      | elapsed:  2.4min\n[Parallel(n_jobs=-1)]: Done 554 tasks      | elapsed:  2.5min\n[Parallel(n_jobs=-1)]: Done 589 tasks      | elapsed:  2.7min\n[Parallel(n_jobs=-1)]: Done 624 tasks      | elapsed:  2.9min\n[Parallel(n_jobs=-1)]: Done 661 tasks      | elapsed:  3.0min\n[Parallel(n_jobs=-1)]: Done 698 tasks      | elapsed:  3.2min\n[Parallel(n_jobs=-1)]: Done 737 tasks      | elapsed:  3.3min\n[Parallel(n_jobs=-1)]: Done 776 tasks      | elapsed:  3.3min\n[Parallel(n_jobs=-1)]: Done 817 tasks      | elapsed:  3.4min\n[Parallel(n_jobs=-1)]: Done 858 tasks      | elapsed:  3.6min\n[Parallel(n_jobs=-1)]: Done 901 tasks      | elapsed:  4.0min\n[Parallel(n_jobs=-1)]: Done 944 tasks      | elapsed:  4.1min\n[Parallel(n_jobs=-1)]: Done 1000 out of 1000 | elapsed:  4.2min finished\n"
        }
      ],
      "source": [
        "from sklearn.ensemble import GradientBoostingRegressor\n",
        "\n",
        "features = train.columns.drop(target)\n",
        "X_train = train[features]\n",
        "y_train = train[target]\n",
        "\n",
        "pipeline = make_pipeline(\n",
        "    ce.TargetEncoder(), \n",
        "    SimpleImputer(),\n",
        "    StandardScaler(), \n",
        "    GradientBoostingRegressor(random_state=42)\n",
        ")\n",
        "param_distributions = {\n",
        "    'targetencoder__min_samples_leaf': randint(1, 1000),     \n",
        "    'simpleimputer__strategy': ['mean', 'median'], \n",
        "    'gradientboostingregressor__max_depth': [5, 10, 15, 20, None], \n",
        "    'gradientboostingregressor__loss': ['ls','lad','huber','quantile'], \n",
        "}\n",
        "\n",
        "# If you're on Colab, decrease n_iter & cv parameters\n",
        "search = RandomizedSearchCV(\n",
        "    pipeline, \n",
        "    param_distributions=param_distributions, \n",
        "    n_iter=100, \n",
        "    cv=10, \n",
        "    scoring='neg_mean_absolute_error', \n",
        "    verbose=10, \n",
        "    return_train_score=True, \n",
        "    n_jobs=-1\n",
        ")\n",
        "search.fit(X_train, y_train);"
      ]
    },
    {
      "cell_type": "code",
      "execution_count": null,
      "metadata": {
        "tags": []
      },
      "outputs": [],
      "source": [
        "print('Best hyperparameters', search.best_params_)\n",
        "print('Cross-validation MAE', -search.best_score_)"
      ]
    },
    {
      "cell_type": "code",
      "execution_count": 168,
      "metadata": {},
      "outputs": [],
      "source": [
        "pipeline = search.best_estimator_"
      ]
    },
    {
      "cell_type": "code",
      "execution_count": 169,
      "metadata": {
        "tags": []
      },
      "outputs": [
        {
          "output_type": "stream",
          "name": "stdout",
          "text": "Test MAE: $5,182\n"
        }
      ],
      "source": [
        "\n",
        "y_pred = pipeline.predict(X_test)\n",
        "mae = mean_absolute_error(Y_test, y_pred)\n",
        "print(f'Test MAE: ${mae:,.0f}')"
      ]
    },
    {
      "cell_type": "code",
      "execution_count": 170,
      "metadata": {},
      "outputs": [
        {
          "output_type": "execute_result",
          "data": {
            "text/plain": "718     59995\n705     64000\n1466    81900\n1177    67433\n155     37000\n        ...  \n1333    75900\n1439    76995\n104     55850\n422     32888\n54      64490\nName: Price, Length: 648, dtype: int32"
          },
          "metadata": {},
          "execution_count": 170
        }
      ],
      "source": [
        "Y_train"
      ]
    },
    {
      "cell_type": "code",
      "execution_count": 171,
      "metadata": {
        "tags": []
      },
      "outputs": [
        {
          "output_type": "stream",
          "name": "stdout",
          "text": "Fitting 10 folds for each of 100 candidates, totalling 1000 fits\n[Parallel(n_jobs=-1)]: Using backend LokyBackend with 12 concurrent workers.\n[Parallel(n_jobs=-1)]: Done   1 tasks      | elapsed:    0.9s\n[Parallel(n_jobs=-1)]: Done   8 tasks      | elapsed:    1.1s\n[Parallel(n_jobs=-1)]: Done  17 tasks      | elapsed:    1.2s\n[Parallel(n_jobs=-1)]: Done  26 tasks      | elapsed:    1.3s\n[Parallel(n_jobs=-1)]: Done  37 tasks      | elapsed:    1.5s\n[Parallel(n_jobs=-1)]: Done  48 tasks      | elapsed:    1.8s\n[Parallel(n_jobs=-1)]: Done  61 tasks      | elapsed:    2.0s\n[Parallel(n_jobs=-1)]: Done  74 tasks      | elapsed:    2.2s\n[Parallel(n_jobs=-1)]: Done  89 tasks      | elapsed:    2.4s\n[Parallel(n_jobs=-1)]: Done 104 tasks      | elapsed:    2.7s\n[Parallel(n_jobs=-1)]: Done 121 tasks      | elapsed:    2.9s\n[Parallel(n_jobs=-1)]: Done 138 tasks      | elapsed:    3.1s\n[Parallel(n_jobs=-1)]: Done 157 tasks      | elapsed:    3.4s\n[Parallel(n_jobs=-1)]: Done 176 tasks      | elapsed:    3.7s\n[Parallel(n_jobs=-1)]: Done 197 tasks      | elapsed:    4.1s\n[Parallel(n_jobs=-1)]: Done 218 tasks      | elapsed:    4.4s\n[Parallel(n_jobs=-1)]: Done 241 tasks      | elapsed:    4.8s\n[Parallel(n_jobs=-1)]: Done 264 tasks      | elapsed:    5.1s\n[Parallel(n_jobs=-1)]: Done 289 tasks      | elapsed:    5.5s\n[Parallel(n_jobs=-1)]: Done 314 tasks      | elapsed:    5.9s\n[Parallel(n_jobs=-1)]: Done 341 tasks      | elapsed:    6.3s\n[Parallel(n_jobs=-1)]: Done 368 tasks      | elapsed:    6.7s\n[Parallel(n_jobs=-1)]: Done 397 tasks      | elapsed:    7.2s\n[Parallel(n_jobs=-1)]: Done 426 tasks      | elapsed:    7.6s\n[Parallel(n_jobs=-1)]: Done 457 tasks      | elapsed:    8.1s\n[Parallel(n_jobs=-1)]: Done 488 tasks      | elapsed:    8.6s\n[Parallel(n_jobs=-1)]: Done 521 tasks      | elapsed:    9.1s\n[Parallel(n_jobs=-1)]: Done 554 tasks      | elapsed:    9.6s\n[Parallel(n_jobs=-1)]: Done 589 tasks      | elapsed:   10.1s\n[Parallel(n_jobs=-1)]: Done 624 tasks      | elapsed:   10.6s\n[Parallel(n_jobs=-1)]: Done 661 tasks      | elapsed:   11.2s\n[Parallel(n_jobs=-1)]: Done 698 tasks      | elapsed:   11.8s\n[Parallel(n_jobs=-1)]: Done 737 tasks      | elapsed:   12.4s\n[Parallel(n_jobs=-1)]: Done 776 tasks      | elapsed:   13.0s\n[Parallel(n_jobs=-1)]: Done 817 tasks      | elapsed:   13.6s\n[Parallel(n_jobs=-1)]: Done 858 tasks      | elapsed:   14.2s\n[Parallel(n_jobs=-1)]: Done 901 tasks      | elapsed:   14.9s\n[Parallel(n_jobs=-1)]: Done 944 tasks      | elapsed:   15.5s\n[Parallel(n_jobs=-1)]: Done 1000 out of 1000 | elapsed:   16.3s finished\n"
        }
      ],
      "source": [
        "from sklearn.ensemble import GradientBoostingRegressor\n",
        "from xgboost import XGBRegressor\n",
        "from sklearn.model_selection import GridSearchCV, RandomizedSearchCV\n",
        "import category_encoders as ce\n",
        "import numpy as np\n",
        "from sklearn.feature_selection import f_regression, SelectKBest\n",
        "from sklearn.impute import SimpleImputer\n",
        "from sklearn.linear_model import Ridge\n",
        "from sklearn.model_selection import cross_val_score\n",
        "from sklearn.pipeline import make_pipeline\n",
        "from sklearn.preprocessing import StandardScaler\n",
        "import numpy as np\n",
        "from scipy.stats import randint, uniform\n",
        "from sklearn.ensemble import RandomForestRegressor\n",
        "feature = ['condition','milage','Year','S_RS','Cabriolet']\n",
        "target = 'Price'\n",
        "X_train = train[feature]\n",
        "X_test = test[feature]\n",
        "Y_test = test[target]\n",
        "Y_train = train[target]\n",
        "pipeline = make_pipeline(\n",
        "    ce.TargetEncoder(), \n",
        "    SimpleImputer(),\n",
        "    StandardScaler(), \n",
        "    XGBRegressor(random_state=42,n_jobs=-1)\n",
        ")\n",
        "param_distributions = {\n",
        "    'targetencoder__min_samples_leaf': randint(1, 1000),     \n",
        "    'simpleimputer__strategy': ['mean', 'median'],\n",
        "    'xgbregressor__learning_rate': [.03, 0.05, .07 ,0.13,0.2],\n",
        "    'xgbregressor__max_depth': [5, 6, 7],}\n",
        "\n",
        "# If you're on Colab, decrease n_iter & cv parameters\n",
        "search = RandomizedSearchCV(\n",
        "    pipeline, \n",
        "    param_distributions=param_distributions, \n",
        "    n_iter=100, \n",
        "    cv=10, \n",
        "    scoring='neg_mean_absolute_error', \n",
        "    verbose=10, \n",
        "    return_train_score=True, \n",
        "    n_jobs=-1\n",
        ")\n",
        "search.fit(X_train, y_train);"
      ]
    },
    {
      "cell_type": "code",
      "execution_count": 172,
      "metadata": {
        "tags": []
      },
      "outputs": [
        {
          "output_type": "stream",
          "name": "stdout",
          "text": "Best hyperparameters {'simpleimputer__strategy': 'mean', 'targetencoder__min_samples_leaf': 15, 'xgbregressor__learning_rate': 0.2, 'xgbregressor__max_depth': 5}\nCross-validation MAE 5191.858480412409\n"
        }
      ],
      "source": [
        "print('Best hyperparameters', search.best_params_)\n",
        "print('Cross-validation MAE', -search.best_score_)"
      ]
    },
    {
      "cell_type": "code",
      "execution_count": 173,
      "metadata": {
        "tags": []
      },
      "outputs": [
        {
          "output_type": "stream",
          "name": "stdout",
          "text": "Test MAE: $5,208\n"
        }
      ],
      "source": [
        "pipeline = search.best_estimator_\n",
        "from sklearn.metrics import mean_absolute_error\n",
        "y_pred = pipeline.predict(X_test)\n",
        "mae = mean_absolute_error(Y_test, y_pred)\n",
        "print(f'Test MAE: ${mae:,.0f}')"
      ]
    },
    {
      "cell_type": "code",
      "execution_count": null,
      "metadata": {},
      "outputs": [],
      "source": []
    },
    {
      "cell_type": "code",
      "execution_count": 174,
      "metadata": {},
      "outputs": [
        {
          "output_type": "execute_result",
          "data": {
            "text/plain": "['__abstractmethods__',\n '__class__',\n '__delattr__',\n '__dict__',\n '__dir__',\n '__doc__',\n '__eq__',\n '__format__',\n '__ge__',\n '__getattribute__',\n '__getstate__',\n '__gt__',\n '__hash__',\n '__init__',\n '__init_subclass__',\n '__le__',\n '__lt__',\n '__module__',\n '__ne__',\n '__new__',\n '__reduce__',\n '__reduce_ex__',\n '__repr__',\n '__setattr__',\n '__setstate__',\n '__sizeof__',\n '__str__',\n '__subclasshook__',\n '__weakref__',\n '_abc_impl',\n '_compute_kernel',\n '_decision_function',\n '_dense_decision_function',\n '_dense_fit',\n '_dense_predict',\n '_estimator_type',\n '_get_coef',\n '_get_param_names',\n '_get_tags',\n '_impl',\n '_more_tags',\n '_pairwise',\n '_sparse_decision_function',\n '_sparse_fit',\n '_sparse_kernels',\n '_sparse_predict',\n '_validate_for_predict',\n '_validate_targets',\n '_warn_from_fit_status',\n 'coef_',\n 'fit',\n 'get_params',\n 'n_support_',\n 'predict',\n 'score',\n 'set_params']",
            "text/html": "['__abstractmethods__', '__class__', '__delattr__', '__dict__', '__dir__', '__doc__', '__eq__', '__format__', '__ge__', '__getattribute__', '__getstate__', '__gt__', '__hash__', '__init__', '__init_subclass__', '__le__', '__lt__', '__module__', '__ne__', '__new__', '__reduce__', '__reduce_ex__', '__repr__', '__setattr__', '__setstate__', '__sizeof__', '__str__', '__subclasshook__', '__weakref__', '_abc_impl', '_compute_kernel', '_decision_function', '_dense_decision_function', '_dense_fit', '_dense_predict', '_estimator_type', '_get_coef', '_get_param_names', '_get_tags', '_impl', '_more_tags', '_pairwise', '_sparse_decision_function', '_sparse_fit', '_sparse_kernels', '_sparse_predict', '_validate_for_predict', '_validate_targets', '_warn_from_fit_status', 'coef_', 'fit', 'get_params', 'n_support_', 'predict', 'score', 'set_params']"
          },
          "metadata": {},
          "execution_count": 174
        }
      ],
      "source": [
        "from sklearn import svm\n",
        "dir(svm.SVR)"
      ]
    },
    {
      "cell_type": "code",
      "execution_count": 175,
      "metadata": {
        "tags": []
      },
      "outputs": [
        {
          "output_type": "stream",
          "name": "stdout",
          "text": "Fitting 10 folds for each of 100 candidates, totalling 1000 fits\n[Parallel(n_jobs=-1)]: Using backend LokyBackend with 12 concurrent workers.\n[Parallel(n_jobs=-1)]: Done   1 tasks      | elapsed:    0.0s\n[Parallel(n_jobs=-1)]: Batch computation too fast (0.1008s.) Setting batch_size=2.\n[Parallel(n_jobs=-1)]: Done   8 tasks      | elapsed:    0.1s\n[Parallel(n_jobs=-1)]: Done  17 tasks      | elapsed:    0.2s\n[Parallel(n_jobs=-1)]: Done  28 tasks      | elapsed:    0.3s\n[Parallel(n_jobs=-1)]: Done  50 tasks      | elapsed:    0.5s\n[Parallel(n_jobs=-1)]: Done  72 tasks      | elapsed:    0.8s\n[Parallel(n_jobs=-1)]: Done  98 tasks      | elapsed:    1.1s\n[Parallel(n_jobs=-1)]: Done 124 tasks      | elapsed:    1.3s\n[Parallel(n_jobs=-1)]: Done 154 tasks      | elapsed:    1.6s\n[Parallel(n_jobs=-1)]: Done 184 tasks      | elapsed:    1.9s\n[Parallel(n_jobs=-1)]: Done 218 tasks      | elapsed:    2.2s\n[Parallel(n_jobs=-1)]: Done 252 tasks      | elapsed:    2.5s\n[Parallel(n_jobs=-1)]: Done 290 tasks      | elapsed:    2.8s\n[Parallel(n_jobs=-1)]: Done 328 tasks      | elapsed:    3.3s\n[Parallel(n_jobs=-1)]: Done 370 tasks      | elapsed:    3.7s\n[Parallel(n_jobs=-1)]: Done 412 tasks      | elapsed:    4.1s\n[Parallel(n_jobs=-1)]: Done 458 tasks      | elapsed:    4.4s\n[Parallel(n_jobs=-1)]: Done 504 tasks      | elapsed:    4.9s\n[Parallel(n_jobs=-1)]: Done 554 tasks      | elapsed:    5.4s\n[Parallel(n_jobs=-1)]: Done 604 tasks      | elapsed:    5.9s\n[Parallel(n_jobs=-1)]: Done 658 tasks      | elapsed:    6.4s\n[Parallel(n_jobs=-1)]: Done 712 tasks      | elapsed:    6.9s\n[Parallel(n_jobs=-1)]: Done 770 tasks      | elapsed:    7.6s\n[Parallel(n_jobs=-1)]: Done 828 tasks      | elapsed:    8.1s\n[Parallel(n_jobs=-1)]: Done 890 tasks      | elapsed:    8.7s\n[Parallel(n_jobs=-1)]: Done 952 tasks      | elapsed:    9.2s\n[Parallel(n_jobs=-1)]: Done 977 out of 1000 | elapsed:    9.5s remaining:    0.1s\n[Parallel(n_jobs=-1)]: Done 1000 out of 1000 | elapsed:    9.8s finished\n"
        }
      ],
      "source": [
        "from sklearn.svm import LinearSVR\n",
        "\n",
        "pipeline = make_pipeline(\n",
        "    ce.TargetEncoder(), \n",
        "    SimpleImputer(),\n",
        "    StandardScaler(), \n",
        "    LinearSVR()\n",
        ")\n",
        "param_distributions = {\n",
        "    'targetencoder__min_samples_leaf': randint(1, 1000),     \n",
        "    'simpleimputer__strategy': ['mean', 'median'],}\n",
        "\n",
        "# If you're on Colab, decrease n_iter & cv parameters\n",
        "search = RandomizedSearchCV(\n",
        "    pipeline, \n",
        "    param_distributions=param_distributions, \n",
        "    n_iter=100, \n",
        "    cv=10, \n",
        "    scoring='neg_mean_absolute_error', \n",
        "    verbose=10, \n",
        "    return_train_score=True, \n",
        "    n_jobs=-1\n",
        ")\n",
        "search.fit(X_train, y_train);"
      ]
    },
    {
      "cell_type": "code",
      "execution_count": 176,
      "metadata": {},
      "outputs": [
        {
          "output_type": "execute_result",
          "data": {
            "text/plain": "Index(['condition', 'milage', 'Price', 'Year', 'Brand', 'Model', 'Model_Vers',\n       'S_RS', 'Cabriolet', 'Color', 'Transmission'],\n      dtype='object')"
          },
          "metadata": {},
          "execution_count": 176
        }
      ],
      "source": [
        "df.columns"
      ]
    },
    {
      "cell_type": "code",
      "execution_count": 177,
      "metadata": {},
      "outputs": [
        {
          "output_type": "display_data",
          "data": {
            "application/vnd.plotly.v1+json": {
              "config": {
                "plotlyServerURL": "https://plotly.com"
              },
              "data": [
                {
                  "hovertemplate": "x=%{x}<br>y=%{y}<extra></extra>",
                  "legendgroup": "",
                  "marker": {
                    "color": "#636efa",
                    "symbol": "circle"
                  },
                  "mode": "markers",
                  "name": "",
                  "orientation": "v",
                  "showlegend": false,
                  "type": "scatter",
                  "x": [
                    2012,
                    2015,
                    2012,
                    2009,
                    2018,
                    2009,
                    2013,
                    2012,
                    2012,
                    2013,
                    2016,
                    2017,
                    2014,
                    2016,
                    2009,
                    2018,
                    2013,
                    2018,
                    2009,
                    2019,
                    2012,
                    2014,
                    2007,
                    2015,
                    2013,
                    2010,
                    2014,
                    2014,
                    2012,
                    2008,
                    2014,
                    2013,
                    2012,
                    2016,
                    2007,
                    2009,
                    2014,
                    2014,
                    2012,
                    2009,
                    2014,
                    2007,
                    2015,
                    2012,
                    2009,
                    2012,
                    2011,
                    2014,
                    2015,
                    2017,
                    2014,
                    2015,
                    2017,
                    2013,
                    2012,
                    2013,
                    2010,
                    2014,
                    2014,
                    2014,
                    2016,
                    2018,
                    2008,
                    2008,
                    2016,
                    2015,
                    2016,
                    2016,
                    2017,
                    2010,
                    2013,
                    2014,
                    2010,
                    2019,
                    2017,
                    2018,
                    2013,
                    2016,
                    2019,
                    2016,
                    2014,
                    2013,
                    2016,
                    2012,
                    2012,
                    2017,
                    2018,
                    2016,
                    2012,
                    2012,
                    2017,
                    2019,
                    2017,
                    2019,
                    2017,
                    2018,
                    2017,
                    2016,
                    2015,
                    2007,
                    2018,
                    2017,
                    2019,
                    2013,
                    2010,
                    2016,
                    2015,
                    2017,
                    2008,
                    2017,
                    2010,
                    2013,
                    2014,
                    2014,
                    2014,
                    2014,
                    2008,
                    2018,
                    2017,
                    2016,
                    2014,
                    2017,
                    2012,
                    2014,
                    2015,
                    2018,
                    2017,
                    2014,
                    2013,
                    2013,
                    2012,
                    2012,
                    2017,
                    2012,
                    2018,
                    2018,
                    2017,
                    2012,
                    2012,
                    2017,
                    2017,
                    2017,
                    2017,
                    2013,
                    2017,
                    2013,
                    2017,
                    2018,
                    2016,
                    2018,
                    2017,
                    2018,
                    2009,
                    2017,
                    2017,
                    2014,
                    2017,
                    2014,
                    2012,
                    2017,
                    2012,
                    2015,
                    2017,
                    2013,
                    2017,
                    2018,
                    2019,
                    2018,
                    2015,
                    2017,
                    2018,
                    2013,
                    2016,
                    2017,
                    2016,
                    2014,
                    2013,
                    2012,
                    2012,
                    2017,
                    2017,
                    2013,
                    2017,
                    2017,
                    2016,
                    2012,
                    2017,
                    2013,
                    2016,
                    2018,
                    2013,
                    2011,
                    2017,
                    2019,
                    2017,
                    2017,
                    2009,
                    2013,
                    2017,
                    2007,
                    2007,
                    2015,
                    2015,
                    2017,
                    2012,
                    2017,
                    2018,
                    2017,
                    2012,
                    2016,
                    2018,
                    2017,
                    2017,
                    2013,
                    2014,
                    2019,
                    2018,
                    2013,
                    2017,
                    2017,
                    2009,
                    2017,
                    2012,
                    2015,
                    2009,
                    2019,
                    2016,
                    2015,
                    2018,
                    2017,
                    2017,
                    2007,
                    2012,
                    2018,
                    2014,
                    2008,
                    2007,
                    2016,
                    2017,
                    2016,
                    2017,
                    2017,
                    2017,
                    2019,
                    2013,
                    2017,
                    2019,
                    2018,
                    2018,
                    2015,
                    2017,
                    2018,
                    2019,
                    2015,
                    2017,
                    2017,
                    2019,
                    2017,
                    2018,
                    2017,
                    2017,
                    2017,
                    2017,
                    2018,
                    2015,
                    2017,
                    2019,
                    2017,
                    2018,
                    2017,
                    2008,
                    2017,
                    2017,
                    2009,
                    2015,
                    2015,
                    2014,
                    2012,
                    2013,
                    2018,
                    2009,
                    2019,
                    2014,
                    2015,
                    2009,
                    2014,
                    2014,
                    2015,
                    2014,
                    2017,
                    2015,
                    2009,
                    2019,
                    2018,
                    2018,
                    2015,
                    2016,
                    2018,
                    2019,
                    2019,
                    2019,
                    2018,
                    2013,
                    2014,
                    2018,
                    2012,
                    2007,
                    2014,
                    2012,
                    2015,
                    2007,
                    2013,
                    2008,
                    2012,
                    2016,
                    2009,
                    2009,
                    2017,
                    2016,
                    2013,
                    2011,
                    2011,
                    2017,
                    2017,
                    2008,
                    2014,
                    2007,
                    2014,
                    2013,
                    2012,
                    2007,
                    2009,
                    2013,
                    2010,
                    2010,
                    2017,
                    2014,
                    2013,
                    2012,
                    2013,
                    2014,
                    2014,
                    2017,
                    2017,
                    2013,
                    2007,
                    2013,
                    2007,
                    2013,
                    2017,
                    2015,
                    2009,
                    2012,
                    2017,
                    2009,
                    2014,
                    2010,
                    2010,
                    2009,
                    2013,
                    2016,
                    2016,
                    2019,
                    2016,
                    2018,
                    2013,
                    2014,
                    2018,
                    2012,
                    2007,
                    2014,
                    2012,
                    2015,
                    2007,
                    2013,
                    2008,
                    2012,
                    2016,
                    2009,
                    2009,
                    2017,
                    2016,
                    2013,
                    2011,
                    2011,
                    2017,
                    2017,
                    2008,
                    2014,
                    2007,
                    2014,
                    2013,
                    2012,
                    2007,
                    2009,
                    2013,
                    2010,
                    2010,
                    2017,
                    2014,
                    2013,
                    2012,
                    2013,
                    2014,
                    2014,
                    2017,
                    2017,
                    2013,
                    2007,
                    2013,
                    2007,
                    2013,
                    2017,
                    2015,
                    2009,
                    2012,
                    2017,
                    2009,
                    2014,
                    2010,
                    2010,
                    2009,
                    2013,
                    2016,
                    2016,
                    2019,
                    2016,
                    2016,
                    2008,
                    2018,
                    2008,
                    2012,
                    2017,
                    2016,
                    2013,
                    2013,
                    2015,
                    2017,
                    2012,
                    2017,
                    2008,
                    2011,
                    2012,
                    2015,
                    2011,
                    2018,
                    2012,
                    2013,
                    2013,
                    2014,
                    2014,
                    2014,
                    2011,
                    2015,
                    2017,
                    2009,
                    2013,
                    2009,
                    2016,
                    2008,
                    2010,
                    2008,
                    2008,
                    2014,
                    2015,
                    2007,
                    2016,
                    2009,
                    2013,
                    2018,
                    2011,
                    2013,
                    2007,
                    2015,
                    2016,
                    2017,
                    2014,
                    2014,
                    2018,
                    2017,
                    2014,
                    2017,
                    2017,
                    2018,
                    2017,
                    2013,
                    2011,
                    2018,
                    2015,
                    2019,
                    2019,
                    2019,
                    2013,
                    2017,
                    2008,
                    2017,
                    2019,
                    2017,
                    2017,
                    2017,
                    2014,
                    2017,
                    2017,
                    2015,
                    2017,
                    2019,
                    2019,
                    2017,
                    2017,
                    2016,
                    2017,
                    2017,
                    2017,
                    2016,
                    2017,
                    2017,
                    2017,
                    2019,
                    2017,
                    2015,
                    2017,
                    2017,
                    2013,
                    2017,
                    2015,
                    2019,
                    2014,
                    2017,
                    2015,
                    2016,
                    2017,
                    2017,
                    2014,
                    2017,
                    2018,
                    2018,
                    2017,
                    2013,
                    2017,
                    2014,
                    2008,
                    2018,
                    2017,
                    2013,
                    2017,
                    2012,
                    2017,
                    2008,
                    2009,
                    2014,
                    2007,
                    2019,
                    2014,
                    2012,
                    2008,
                    2019,
                    2011,
                    2017,
                    2013,
                    2019,
                    2015,
                    2015,
                    2017,
                    2009,
                    2009,
                    2014,
                    2007,
                    2018,
                    2016,
                    2018,
                    2019,
                    2018,
                    2014,
                    2017,
                    2016,
                    2015,
                    2009,
                    2011,
                    2017,
                    2018,
                    2017,
                    2017,
                    2016,
                    2019,
                    2015,
                    2017,
                    2019,
                    2018,
                    2018,
                    2012,
                    2008,
                    2013,
                    2012,
                    2016,
                    2012,
                    2012,
                    2007,
                    2009,
                    2007,
                    2008,
                    2014,
                    2008,
                    2012,
                    2009,
                    2007,
                    2007,
                    2007,
                    2015,
                    2012,
                    2011,
                    2013,
                    2014,
                    2013,
                    2010,
                    2015,
                    2017,
                    2014,
                    2015,
                    2017,
                    2013,
                    2013,
                    2013,
                    2016,
                    2012,
                    2013,
                    2014,
                    2014,
                    2014,
                    2009,
                    2012,
                    2009,
                    2012,
                    2014,
                    2013,
                    2012,
                    2007,
                    2014,
                    2013,
                    2013,
                    2013,
                    2016,
                    2011,
                    2017,
                    2011,
                    2009,
                    2012,
                    2014,
                    2018,
                    2011,
                    2010,
                    2007,
                    2009,
                    2014,
                    2015,
                    2010,
                    2010,
                    2014,
                    2007,
                    2014,
                    2017,
                    2010,
                    2008,
                    2013,
                    2013,
                    2007,
                    2014,
                    2013,
                    2009,
                    2007,
                    2008,
                    2007,
                    2007,
                    2007,
                    2015,
                    2008,
                    2011,
                    2018,
                    2007,
                    2008,
                    2018,
                    2008,
                    2007,
                    2007,
                    2007,
                    2008,
                    2018,
                    2017,
                    2008,
                    2018,
                    2008,
                    2019,
                    2008,
                    2017,
                    2013,
                    2009,
                    2017,
                    2016,
                    2007,
                    2008,
                    2012,
                    2007,
                    2017,
                    2007,
                    2007,
                    2019,
                    2007,
                    2014,
                    2017,
                    2017,
                    2018,
                    2019,
                    2008,
                    2017,
                    2019,
                    2017,
                    2017,
                    2009,
                    2016,
                    2017,
                    2007,
                    2015,
                    2014,
                    2018,
                    2007,
                    2008,
                    2018,
                    2008,
                    2015,
                    2014,
                    2016,
                    2019,
                    2009,
                    2016,
                    2017,
                    2015,
                    2017,
                    2007,
                    2016,
                    2018,
                    2018,
                    2014,
                    2016,
                    2016,
                    2018,
                    2018,
                    2017,
                    2019,
                    2012,
                    2008,
                    2015,
                    2018,
                    2015,
                    2007,
                    2013,
                    2007,
                    2019,
                    2009,
                    2007,
                    2007,
                    2016,
                    2007,
                    2007,
                    2017,
                    2018,
                    2019,
                    2012,
                    2018,
                    2017,
                    2013,
                    2018,
                    2009,
                    2019,
                    2013,
                    2008,
                    2013,
                    2007,
                    2019,
                    2013,
                    2011,
                    2015,
                    2014,
                    2008,
                    2007,
                    2013,
                    2017,
                    2012,
                    2012,
                    2017,
                    2015,
                    2014,
                    2012,
                    2012,
                    2018,
                    2012,
                    2015,
                    2018,
                    2013,
                    2019,
                    2019,
                    2018,
                    2018,
                    2012,
                    2017,
                    2012,
                    2017,
                    2017,
                    2016,
                    2018,
                    2016,
                    2018
                  ],
                  "xaxis": "x",
                  "y": [
                    48950,
                    67988,
                    51990,
                    34900,
                    96995,
                    49999,
                    67790,
                    55000,
                    53000,
                    67395,
                    59991,
                    69998,
                    75991,
                    69991,
                    48995,
                    95800,
                    54750,
                    108994,
                    49900,
                    114881,
                    64999,
                    58900,
                    48000,
                    62998,
                    59999,
                    45980,
                    67999,
                    75990,
                    55000,
                    34998,
                    57990,
                    59900,
                    47999,
                    69995,
                    44548,
                    48900,
                    67433,
                    64490,
                    57800,
                    47977,
                    74680,
                    34988,
                    66940,
                    49990,
                    51950,
                    60999,
                    64991,
                    56995,
                    56995,
                    82900,
                    65999,
                    67900,
                    87000,
                    54981,
                    64898,
                    59980,
                    51950,
                    56988,
                    59999,
                    58900,
                    57850,
                    93911,
                    29995,
                    39995,
                    69900,
                    72750,
                    67990,
                    85000,
                    85989,
                    41500,
                    56995,
                    66789,
                    55850,
                    98949,
                    90399,
                    84590,
                    74995,
                    89980,
                    129900,
                    85904,
                    78800,
                    52500,
                    69988,
                    67994,
                    72000,
                    84900,
                    79991,
                    97700,
                    49900,
                    69800,
                    91888,
                    107498,
                    79950,
                    96984,
                    74995,
                    86839,
                    91500,
                    71875,
                    79900,
                    28888,
                    119995,
                    73995,
                    95192,
                    69900,
                    47995,
                    99995,
                    56990,
                    88939,
                    37000,
                    79888,
                    59999,
                    73998,
                    79995,
                    73924,
                    74900,
                    65000,
                    40900,
                    127489,
                    88094,
                    98495,
                    61995,
                    97950,
                    74988,
                    81900,
                    81800,
                    90306,
                    88995,
                    84900,
                    76888,
                    80900,
                    74199,
                    80000,
                    82991,
                    57998,
                    97580,
                    101898,
                    82988,
                    61999,
                    60800,
                    102000,
                    93598,
                    92000,
                    106900,
                    68999,
                    78998,
                    69950,
                    103900,
                    94800,
                    69500,
                    97898,
                    82498,
                    101990,
                    54999,
                    99998,
                    91598,
                    75000,
                    108995,
                    61790,
                    70000,
                    96995,
                    75995,
                    86955,
                    105995,
                    72495,
                    89877,
                    84590,
                    143970,
                    125220,
                    76500,
                    106900,
                    127298,
                    77995,
                    66981,
                    89995,
                    87777,
                    45000,
                    57888,
                    58900,
                    49995,
                    87900,
                    69980,
                    55000,
                    95000,
                    106998,
                    105900,
                    51990,
                    89995,
                    62990,
                    63000,
                    72609,
                    71800,
                    72609,
                    79850,
                    113000,
                    86864,
                    91000,
                    52997,
                    54985,
                    82900,
                    72609,
                    31888,
                    50000,
                    61000,
                    89995,
                    55499,
                    82900,
                    77500,
                    90000,
                    65999,
                    85911,
                    114981,
                    69995,
                    111500,
                    54999,
                    53000,
                    127900,
                    95995,
                    78498,
                    84983,
                    84900,
                    43995,
                    70500,
                    55999,
                    66664,
                    59995,
                    132790,
                    82894,
                    75998,
                    113988,
                    99000,
                    93500,
                    39995,
                    61783,
                    75988,
                    61900,
                    32888,
                    28800,
                    61998,
                    75900,
                    65000,
                    99995,
                    94900,
                    77995,
                    96900,
                    52500,
                    98144,
                    98900,
                    97970,
                    79900,
                    71499,
                    78988,
                    109949,
                    122019,
                    96383,
                    98988,
                    94992,
                    110594,
                    67955,
                    122900,
                    85500,
                    115955,
                    78800,
                    92495,
                    114993,
                    85995,
                    77898,
                    102995,
                    104987,
                    87900,
                    87500,
                    72609,
                    71850,
                    82900,
                    38900,
                    66000,
                    69995,
                    56000,
                    46997,
                    58777,
                    88995,
                    59950,
                    133500,
                    70900,
                    50900,
                    51900,
                    76900,
                    73888,
                    82900,
                    79995,
                    97950,
                    58998,
                    56999,
                    129900,
                    92900,
                    73990,
                    76128,
                    194900,
                    85900,
                    139995,
                    112995,
                    104995,
                    68900,
                    59950,
                    64000,
                    68398,
                    62885,
                    41999,
                    67000,
                    59900,
                    65988,
                    29988,
                    59995,
                    36800,
                    53815,
                    69984,
                    49590,
                    53890,
                    79100,
                    97745,
                    56898,
                    65996,
                    49790,
                    88790,
                    89900,
                    31500,
                    59800,
                    26888,
                    54995,
                    74900,
                    63900,
                    37875,
                    53900,
                    70955,
                    64950,
                    51950,
                    83991,
                    71999,
                    34900,
                    57995,
                    46777,
                    62995,
                    71899,
                    97949,
                    90999,
                    55500,
                    45999,
                    56000,
                    38998,
                    47765,
                    75980,
                    69980,
                    51950,
                    69995,
                    84347,
                    49888,
                    59800,
                    59000,
                    49299,
                    52599,
                    64991,
                    57500,
                    72500,
                    152660,
                    84995,
                    68900,
                    59950,
                    64000,
                    68398,
                    62885,
                    41999,
                    67000,
                    59900,
                    65988,
                    29988,
                    59995,
                    36800,
                    53815,
                    69984,
                    49590,
                    53890,
                    79100,
                    97745,
                    56898,
                    65996,
                    49790,
                    88790,
                    89900,
                    31500,
                    59800,
                    26888,
                    54995,
                    74900,
                    63900,
                    37875,
                    53900,
                    70955,
                    64950,
                    51950,
                    83991,
                    71999,
                    34900,
                    57995,
                    46777,
                    62995,
                    71899,
                    97949,
                    90999,
                    55500,
                    45999,
                    56000,
                    38998,
                    47765,
                    75980,
                    69980,
                    51950,
                    69995,
                    84347,
                    49888,
                    59800,
                    59000,
                    49299,
                    52599,
                    64991,
                    57500,
                    72500,
                    152660,
                    84995,
                    63995,
                    48950,
                    81999,
                    34995,
                    59990,
                    78499,
                    58990,
                    54299,
                    59991,
                    69984,
                    69900,
                    54590,
                    103995,
                    37986,
                    55996,
                    66990,
                    78777,
                    66900,
                    134900,
                    71950,
                    32000,
                    59991,
                    68850,
                    69950,
                    69950,
                    66950,
                    82795,
                    76998,
                    43995,
                    64995,
                    42000,
                    66995,
                    39500,
                    46353,
                    35995,
                    43991,
                    66900,
                    75900,
                    28888,
                    85991,
                    51999,
                    67995,
                    87800,
                    59994,
                    59999,
                    39999,
                    68999,
                    86500,
                    83900,
                    69998,
                    73000,
                    91589,
                    72990,
                    73911,
                    94695,
                    79850,
                    84000,
                    69786,
                    71995,
                    44995,
                    96991,
                    81995,
                    83186,
                    122998,
                    93988,
                    67500,
                    66999,
                    33000,
                    78878,
                    112500,
                    82988,
                    79980,
                    83880,
                    83841,
                    89998,
                    81421,
                    79900,
                    88336,
                    94995,
                    122900,
                    89989,
                    94900,
                    92995,
                    79991,
                    113995,
                    89996,
                    98800,
                    76999,
                    86998,
                    91998,
                    109000,
                    84998,
                    80000,
                    84888,
                    110995,
                    73995,
                    108998,
                    88590,
                    109981,
                    67000,
                    94951,
                    85950,
                    86998,
                    90000,
                    98948,
                    74850,
                    95582,
                    84995,
                    99998,
                    84800,
                    72609,
                    82000,
                    72609,
                    35000,
                    87991,
                    80995,
                    38000,
                    99990,
                    58977,
                    62900,
                    26490,
                    50995,
                    71633,
                    33000,
                    117595,
                    64869,
                    84300,
                    44995,
                    70000,
                    42633,
                    87795,
                    67898,
                    99495,
                    72997,
                    72900,
                    89495,
                    60000,
                    52000,
                    91991,
                    32900,
                    99900,
                    87998,
                    104995,
                    99000,
                    95432,
                    82900,
                    75995,
                    122550,
                    65000,
                    53950,
                    71999,
                    96785,
                    112900,
                    97991,
                    119955,
                    104995,
                    104308,
                    89957,
                    82999,
                    99800,
                    101909,
                    116900,
                    58880,
                    36988,
                    72609,
                    47999,
                    69995,
                    51990,
                    39890,
                    44548,
                    48900,
                    22990,
                    39300,
                    67433,
                    43900,
                    57800,
                    47977,
                    34988,
                    34944,
                    32975,
                    66940,
                    49990,
                    64991,
                    55000,
                    56995,
                    57999,
                    58000,
                    56995,
                    82900,
                    65999,
                    67900,
                    87000,
                    33000,
                    48700,
                    54981,
                    69999,
                    64898,
                    59980,
                    56988,
                    59999,
                    58900,
                    34900,
                    51990,
                    32999,
                    83875,
                    64490,
                    67790,
                    53000,
                    35990,
                    74680,
                    67395,
                    57900,
                    64000,
                    59991,
                    39998,
                    69998,
                    69950,
                    51950,
                    60999,
                    75991,
                    95800,
                    59995,
                    44990,
                    42900,
                    49900,
                    58900,
                    62998,
                    45980,
                    49500,
                    67999,
                    41977,
                    75291,
                    104000,
                    51950,
                    39988,
                    56997,
                    59950,
                    44995,
                    79995,
                    57890,
                    57900,
                    43500,
                    50725,
                    35895,
                    45000,
                    62995,
                    83950,
                    38500,
                    49950,
                    85000,
                    32000,
                    42500,
                    126995,
                    72609,
                    30995,
                    39900,
                    34995,
                    31980,
                    84500,
                    80995,
                    32000,
                    97970,
                    99999,
                    101950,
                    41900,
                    83900,
                    63900,
                    42890,
                    88888,
                    88991,
                    44925,
                    52400,
                    57991,
                    45000,
                    94994,
                    34998,
                    23950,
                    124900,
                    28880,
                    60999,
                    87998,
                    80995,
                    79283,
                    114000,
                    45500,
                    100000,
                    98995,
                    87900,
                    75900,
                    54999,
                    178900,
                    107900,
                    36000,
                    53998,
                    75000,
                    84991,
                    72609,
                    44887,
                    83885,
                    39995,
                    69000,
                    61503,
                    93995,
                    139863,
                    63900,
                    76599,
                    80000,
                    88984,
                    89989,
                    52475,
                    84000,
                    84950,
                    102900,
                    68990,
                    178900,
                    159991,
                    106977,
                    129995,
                    86514,
                    129000,
                    64800,
                    35000,
                    72984,
                    72609,
                    68777,
                    45995,
                    64900,
                    39971,
                    92795,
                    72950,
                    65900,
                    42900,
                    93900,
                    54888,
                    59995,
                    71000,
                    93800,
                    94988,
                    98900,
                    127991,
                    76995,
                    69984,
                    82000,
                    59995,
                    112340,
                    57900,
                    72609,
                    57888,
                    41994,
                    94800,
                    62000,
                    54991,
                    68998,
                    55952,
                    36788,
                    40625,
                    62900,
                    75500,
                    56990,
                    75500,
                    77788,
                    76900,
                    59997,
                    59997,
                    81900,
                    83979,
                    68950,
                    78950,
                    102900,
                    71510,
                    86800,
                    109900,
                    80500,
                    112900,
                    69900,
                    99900,
                    69990,
                    93999,
                    99950,
                    89995,
                    93900,
                    81995,
                    112000
                  ],
                  "yaxis": "y"
                }
              ],
              "layout": {
                "legend": {
                  "tracegroupgap": 0
                },
                "margin": {
                  "t": 60
                },
                "template": {
                  "data": {
                    "bar": [
                      {
                        "error_x": {
                          "color": "#2a3f5f"
                        },
                        "error_y": {
                          "color": "#2a3f5f"
                        },
                        "marker": {
                          "line": {
                            "color": "#E5ECF6",
                            "width": 0.5
                          }
                        },
                        "type": "bar"
                      }
                    ],
                    "barpolar": [
                      {
                        "marker": {
                          "line": {
                            "color": "#E5ECF6",
                            "width": 0.5
                          }
                        },
                        "type": "barpolar"
                      }
                    ],
                    "carpet": [
                      {
                        "aaxis": {
                          "endlinecolor": "#2a3f5f",
                          "gridcolor": "white",
                          "linecolor": "white",
                          "minorgridcolor": "white",
                          "startlinecolor": "#2a3f5f"
                        },
                        "baxis": {
                          "endlinecolor": "#2a3f5f",
                          "gridcolor": "white",
                          "linecolor": "white",
                          "minorgridcolor": "white",
                          "startlinecolor": "#2a3f5f"
                        },
                        "type": "carpet"
                      }
                    ],
                    "choropleth": [
                      {
                        "colorbar": {
                          "outlinewidth": 0,
                          "ticks": ""
                        },
                        "type": "choropleth"
                      }
                    ],
                    "contour": [
                      {
                        "colorbar": {
                          "outlinewidth": 0,
                          "ticks": ""
                        },
                        "colorscale": [
                          [
                            0,
                            "#0d0887"
                          ],
                          [
                            0.1111111111111111,
                            "#46039f"
                          ],
                          [
                            0.2222222222222222,
                            "#7201a8"
                          ],
                          [
                            0.3333333333333333,
                            "#9c179e"
                          ],
                          [
                            0.4444444444444444,
                            "#bd3786"
                          ],
                          [
                            0.5555555555555556,
                            "#d8576b"
                          ],
                          [
                            0.6666666666666666,
                            "#ed7953"
                          ],
                          [
                            0.7777777777777778,
                            "#fb9f3a"
                          ],
                          [
                            0.8888888888888888,
                            "#fdca26"
                          ],
                          [
                            1,
                            "#f0f921"
                          ]
                        ],
                        "type": "contour"
                      }
                    ],
                    "contourcarpet": [
                      {
                        "colorbar": {
                          "outlinewidth": 0,
                          "ticks": ""
                        },
                        "type": "contourcarpet"
                      }
                    ],
                    "heatmap": [
                      {
                        "colorbar": {
                          "outlinewidth": 0,
                          "ticks": ""
                        },
                        "colorscale": [
                          [
                            0,
                            "#0d0887"
                          ],
                          [
                            0.1111111111111111,
                            "#46039f"
                          ],
                          [
                            0.2222222222222222,
                            "#7201a8"
                          ],
                          [
                            0.3333333333333333,
                            "#9c179e"
                          ],
                          [
                            0.4444444444444444,
                            "#bd3786"
                          ],
                          [
                            0.5555555555555556,
                            "#d8576b"
                          ],
                          [
                            0.6666666666666666,
                            "#ed7953"
                          ],
                          [
                            0.7777777777777778,
                            "#fb9f3a"
                          ],
                          [
                            0.8888888888888888,
                            "#fdca26"
                          ],
                          [
                            1,
                            "#f0f921"
                          ]
                        ],
                        "type": "heatmap"
                      }
                    ],
                    "heatmapgl": [
                      {
                        "colorbar": {
                          "outlinewidth": 0,
                          "ticks": ""
                        },
                        "colorscale": [
                          [
                            0,
                            "#0d0887"
                          ],
                          [
                            0.1111111111111111,
                            "#46039f"
                          ],
                          [
                            0.2222222222222222,
                            "#7201a8"
                          ],
                          [
                            0.3333333333333333,
                            "#9c179e"
                          ],
                          [
                            0.4444444444444444,
                            "#bd3786"
                          ],
                          [
                            0.5555555555555556,
                            "#d8576b"
                          ],
                          [
                            0.6666666666666666,
                            "#ed7953"
                          ],
                          [
                            0.7777777777777778,
                            "#fb9f3a"
                          ],
                          [
                            0.8888888888888888,
                            "#fdca26"
                          ],
                          [
                            1,
                            "#f0f921"
                          ]
                        ],
                        "type": "heatmapgl"
                      }
                    ],
                    "histogram": [
                      {
                        "marker": {
                          "colorbar": {
                            "outlinewidth": 0,
                            "ticks": ""
                          }
                        },
                        "type": "histogram"
                      }
                    ],
                    "histogram2d": [
                      {
                        "colorbar": {
                          "outlinewidth": 0,
                          "ticks": ""
                        },
                        "colorscale": [
                          [
                            0,
                            "#0d0887"
                          ],
                          [
                            0.1111111111111111,
                            "#46039f"
                          ],
                          [
                            0.2222222222222222,
                            "#7201a8"
                          ],
                          [
                            0.3333333333333333,
                            "#9c179e"
                          ],
                          [
                            0.4444444444444444,
                            "#bd3786"
                          ],
                          [
                            0.5555555555555556,
                            "#d8576b"
                          ],
                          [
                            0.6666666666666666,
                            "#ed7953"
                          ],
                          [
                            0.7777777777777778,
                            "#fb9f3a"
                          ],
                          [
                            0.8888888888888888,
                            "#fdca26"
                          ],
                          [
                            1,
                            "#f0f921"
                          ]
                        ],
                        "type": "histogram2d"
                      }
                    ],
                    "histogram2dcontour": [
                      {
                        "colorbar": {
                          "outlinewidth": 0,
                          "ticks": ""
                        },
                        "colorscale": [
                          [
                            0,
                            "#0d0887"
                          ],
                          [
                            0.1111111111111111,
                            "#46039f"
                          ],
                          [
                            0.2222222222222222,
                            "#7201a8"
                          ],
                          [
                            0.3333333333333333,
                            "#9c179e"
                          ],
                          [
                            0.4444444444444444,
                            "#bd3786"
                          ],
                          [
                            0.5555555555555556,
                            "#d8576b"
                          ],
                          [
                            0.6666666666666666,
                            "#ed7953"
                          ],
                          [
                            0.7777777777777778,
                            "#fb9f3a"
                          ],
                          [
                            0.8888888888888888,
                            "#fdca26"
                          ],
                          [
                            1,
                            "#f0f921"
                          ]
                        ],
                        "type": "histogram2dcontour"
                      }
                    ],
                    "mesh3d": [
                      {
                        "colorbar": {
                          "outlinewidth": 0,
                          "ticks": ""
                        },
                        "type": "mesh3d"
                      }
                    ],
                    "parcoords": [
                      {
                        "line": {
                          "colorbar": {
                            "outlinewidth": 0,
                            "ticks": ""
                          }
                        },
                        "type": "parcoords"
                      }
                    ],
                    "pie": [
                      {
                        "automargin": true,
                        "type": "pie"
                      }
                    ],
                    "scatter": [
                      {
                        "marker": {
                          "colorbar": {
                            "outlinewidth": 0,
                            "ticks": ""
                          }
                        },
                        "type": "scatter"
                      }
                    ],
                    "scatter3d": [
                      {
                        "line": {
                          "colorbar": {
                            "outlinewidth": 0,
                            "ticks": ""
                          }
                        },
                        "marker": {
                          "colorbar": {
                            "outlinewidth": 0,
                            "ticks": ""
                          }
                        },
                        "type": "scatter3d"
                      }
                    ],
                    "scattercarpet": [
                      {
                        "marker": {
                          "colorbar": {
                            "outlinewidth": 0,
                            "ticks": ""
                          }
                        },
                        "type": "scattercarpet"
                      }
                    ],
                    "scattergeo": [
                      {
                        "marker": {
                          "colorbar": {
                            "outlinewidth": 0,
                            "ticks": ""
                          }
                        },
                        "type": "scattergeo"
                      }
                    ],
                    "scattergl": [
                      {
                        "marker": {
                          "colorbar": {
                            "outlinewidth": 0,
                            "ticks": ""
                          }
                        },
                        "type": "scattergl"
                      }
                    ],
                    "scattermapbox": [
                      {
                        "marker": {
                          "colorbar": {
                            "outlinewidth": 0,
                            "ticks": ""
                          }
                        },
                        "type": "scattermapbox"
                      }
                    ],
                    "scatterpolar": [
                      {
                        "marker": {
                          "colorbar": {
                            "outlinewidth": 0,
                            "ticks": ""
                          }
                        },
                        "type": "scatterpolar"
                      }
                    ],
                    "scatterpolargl": [
                      {
                        "marker": {
                          "colorbar": {
                            "outlinewidth": 0,
                            "ticks": ""
                          }
                        },
                        "type": "scatterpolargl"
                      }
                    ],
                    "scatterternary": [
                      {
                        "marker": {
                          "colorbar": {
                            "outlinewidth": 0,
                            "ticks": ""
                          }
                        },
                        "type": "scatterternary"
                      }
                    ],
                    "surface": [
                      {
                        "colorbar": {
                          "outlinewidth": 0,
                          "ticks": ""
                        },
                        "colorscale": [
                          [
                            0,
                            "#0d0887"
                          ],
                          [
                            0.1111111111111111,
                            "#46039f"
                          ],
                          [
                            0.2222222222222222,
                            "#7201a8"
                          ],
                          [
                            0.3333333333333333,
                            "#9c179e"
                          ],
                          [
                            0.4444444444444444,
                            "#bd3786"
                          ],
                          [
                            0.5555555555555556,
                            "#d8576b"
                          ],
                          [
                            0.6666666666666666,
                            "#ed7953"
                          ],
                          [
                            0.7777777777777778,
                            "#fb9f3a"
                          ],
                          [
                            0.8888888888888888,
                            "#fdca26"
                          ],
                          [
                            1,
                            "#f0f921"
                          ]
                        ],
                        "type": "surface"
                      }
                    ],
                    "table": [
                      {
                        "cells": {
                          "fill": {
                            "color": "#EBF0F8"
                          },
                          "line": {
                            "color": "white"
                          }
                        },
                        "header": {
                          "fill": {
                            "color": "#C8D4E3"
                          },
                          "line": {
                            "color": "white"
                          }
                        },
                        "type": "table"
                      }
                    ]
                  },
                  "layout": {
                    "annotationdefaults": {
                      "arrowcolor": "#2a3f5f",
                      "arrowhead": 0,
                      "arrowwidth": 1
                    },
                    "coloraxis": {
                      "colorbar": {
                        "outlinewidth": 0,
                        "ticks": ""
                      }
                    },
                    "colorscale": {
                      "diverging": [
                        [
                          0,
                          "#8e0152"
                        ],
                        [
                          0.1,
                          "#c51b7d"
                        ],
                        [
                          0.2,
                          "#de77ae"
                        ],
                        [
                          0.3,
                          "#f1b6da"
                        ],
                        [
                          0.4,
                          "#fde0ef"
                        ],
                        [
                          0.5,
                          "#f7f7f7"
                        ],
                        [
                          0.6,
                          "#e6f5d0"
                        ],
                        [
                          0.7,
                          "#b8e186"
                        ],
                        [
                          0.8,
                          "#7fbc41"
                        ],
                        [
                          0.9,
                          "#4d9221"
                        ],
                        [
                          1,
                          "#276419"
                        ]
                      ],
                      "sequential": [
                        [
                          0,
                          "#0d0887"
                        ],
                        [
                          0.1111111111111111,
                          "#46039f"
                        ],
                        [
                          0.2222222222222222,
                          "#7201a8"
                        ],
                        [
                          0.3333333333333333,
                          "#9c179e"
                        ],
                        [
                          0.4444444444444444,
                          "#bd3786"
                        ],
                        [
                          0.5555555555555556,
                          "#d8576b"
                        ],
                        [
                          0.6666666666666666,
                          "#ed7953"
                        ],
                        [
                          0.7777777777777778,
                          "#fb9f3a"
                        ],
                        [
                          0.8888888888888888,
                          "#fdca26"
                        ],
                        [
                          1,
                          "#f0f921"
                        ]
                      ],
                      "sequentialminus": [
                        [
                          0,
                          "#0d0887"
                        ],
                        [
                          0.1111111111111111,
                          "#46039f"
                        ],
                        [
                          0.2222222222222222,
                          "#7201a8"
                        ],
                        [
                          0.3333333333333333,
                          "#9c179e"
                        ],
                        [
                          0.4444444444444444,
                          "#bd3786"
                        ],
                        [
                          0.5555555555555556,
                          "#d8576b"
                        ],
                        [
                          0.6666666666666666,
                          "#ed7953"
                        ],
                        [
                          0.7777777777777778,
                          "#fb9f3a"
                        ],
                        [
                          0.8888888888888888,
                          "#fdca26"
                        ],
                        [
                          1,
                          "#f0f921"
                        ]
                      ]
                    },
                    "colorway": [
                      "#636efa",
                      "#EF553B",
                      "#00cc96",
                      "#ab63fa",
                      "#FFA15A",
                      "#19d3f3",
                      "#FF6692",
                      "#B6E880",
                      "#FF97FF",
                      "#FECB52"
                    ],
                    "font": {
                      "color": "#2a3f5f"
                    },
                    "geo": {
                      "bgcolor": "white",
                      "lakecolor": "white",
                      "landcolor": "#E5ECF6",
                      "showlakes": true,
                      "showland": true,
                      "subunitcolor": "white"
                    },
                    "hoverlabel": {
                      "align": "left"
                    },
                    "hovermode": "closest",
                    "mapbox": {
                      "style": "light"
                    },
                    "paper_bgcolor": "white",
                    "plot_bgcolor": "#E5ECF6",
                    "polar": {
                      "angularaxis": {
                        "gridcolor": "white",
                        "linecolor": "white",
                        "ticks": ""
                      },
                      "bgcolor": "#E5ECF6",
                      "radialaxis": {
                        "gridcolor": "white",
                        "linecolor": "white",
                        "ticks": ""
                      }
                    },
                    "scene": {
                      "xaxis": {
                        "backgroundcolor": "#E5ECF6",
                        "gridcolor": "white",
                        "gridwidth": 2,
                        "linecolor": "white",
                        "showbackground": true,
                        "ticks": "",
                        "zerolinecolor": "white"
                      },
                      "yaxis": {
                        "backgroundcolor": "#E5ECF6",
                        "gridcolor": "white",
                        "gridwidth": 2,
                        "linecolor": "white",
                        "showbackground": true,
                        "ticks": "",
                        "zerolinecolor": "white"
                      },
                      "zaxis": {
                        "backgroundcolor": "#E5ECF6",
                        "gridcolor": "white",
                        "gridwidth": 2,
                        "linecolor": "white",
                        "showbackground": true,
                        "ticks": "",
                        "zerolinecolor": "white"
                      }
                    },
                    "shapedefaults": {
                      "line": {
                        "color": "#2a3f5f"
                      }
                    },
                    "ternary": {
                      "aaxis": {
                        "gridcolor": "white",
                        "linecolor": "white",
                        "ticks": ""
                      },
                      "baxis": {
                        "gridcolor": "white",
                        "linecolor": "white",
                        "ticks": ""
                      },
                      "bgcolor": "#E5ECF6",
                      "caxis": {
                        "gridcolor": "white",
                        "linecolor": "white",
                        "ticks": ""
                      }
                    },
                    "title": {
                      "x": 0.05
                    },
                    "xaxis": {
                      "automargin": true,
                      "gridcolor": "white",
                      "linecolor": "white",
                      "ticks": "",
                      "title": {
                        "standoff": 15
                      },
                      "zerolinecolor": "white",
                      "zerolinewidth": 2
                    },
                    "yaxis": {
                      "automargin": true,
                      "gridcolor": "white",
                      "linecolor": "white",
                      "ticks": "",
                      "title": {
                        "standoff": 15
                      },
                      "zerolinecolor": "white",
                      "zerolinewidth": 2
                    }
                  }
                },
                "xaxis": {
                  "anchor": "y",
                  "domain": [
                    0,
                    1
                  ],
                  "title": {
                    "text": "x"
                  }
                },
                "yaxis": {
                  "anchor": "x",
                  "domain": [
                    0,
                    1
                  ],
                  "title": {
                    "text": "y"
                  }
                }
              }
            }
          },
          "metadata": {}
        }
      ],
      "source": [
        "# x and y given as array_like objects\n",
        "import plotly.express as px\n",
        "fig = px.scatter(x=df.Year, y=df.Price)\n",
        "fig.show()"
      ]
    },
    {
      "cell_type": "code",
      "execution_count": null,
      "metadata": {},
      "outputs": [],
      "source": []
    },
    {
      "cell_type": "code",
      "execution_count": 178,
      "metadata": {
        "tags": []
      },
      "outputs": [
        {
          "output_type": "stream",
          "name": "stdout",
          "text": "Best hyperparameters {'simpleimputer__strategy': 'mean', 'targetencoder__min_samples_leaf': 608}\nCross-validation MAE 71394.22495192308\n"
        }
      ],
      "source": [
        "print('Best hyperparameters', search.best_params_)\n",
        "print('Cross-validation MAE', -search.best_score_)"
      ]
    },
    {
      "cell_type": "code",
      "execution_count": 179,
      "metadata": {},
      "outputs": [
        {
          "output_type": "execute_result",
          "data": {
            "text/plain": "                 0\n0     52434.105469\n1     66403.039062\n2    122726.492188\n3     53290.269531\n4     53612.339844\n..             ...\n157   83644.742188\n158   51091.757812\n159   49521.394531\n160   44593.746094\n161   35094.511719\n\n[162 rows x 1 columns]",
            "text/html": "<div>\n<style scoped>\n    .dataframe tbody tr th:only-of-type {\n        vertical-align: middle;\n    }\n\n    .dataframe tbody tr th {\n        vertical-align: top;\n    }\n\n    .dataframe thead th {\n        text-align: right;\n    }\n</style>\n<table border=\"1\" class=\"dataframe\">\n  <thead>\n    <tr style=\"text-align: right;\">\n      <th></th>\n      <th>0</th>\n    </tr>\n  </thead>\n  <tbody>\n    <tr>\n      <th>0</th>\n      <td>52434.105469</td>\n    </tr>\n    <tr>\n      <th>1</th>\n      <td>66403.039062</td>\n    </tr>\n    <tr>\n      <th>2</th>\n      <td>122726.492188</td>\n    </tr>\n    <tr>\n      <th>3</th>\n      <td>53290.269531</td>\n    </tr>\n    <tr>\n      <th>4</th>\n      <td>53612.339844</td>\n    </tr>\n    <tr>\n      <th>...</th>\n      <td>...</td>\n    </tr>\n    <tr>\n      <th>157</th>\n      <td>83644.742188</td>\n    </tr>\n    <tr>\n      <th>158</th>\n      <td>51091.757812</td>\n    </tr>\n    <tr>\n      <th>159</th>\n      <td>49521.394531</td>\n    </tr>\n    <tr>\n      <th>160</th>\n      <td>44593.746094</td>\n    </tr>\n    <tr>\n      <th>161</th>\n      <td>35094.511719</td>\n    </tr>\n  </tbody>\n</table>\n<p>162 rows × 1 columns</p>\n</div>"
          },
          "metadata": {},
          "execution_count": 179
        }
      ],
      "source": [
        "pd.DataFrame(y_pred)"
      ]
    },
    {
      "cell_type": "code",
      "execution_count": 180,
      "metadata": {},
      "outputs": [
        {
          "output_type": "execute_result",
          "data": {
            "text/plain": "array([ 52434.105,  66403.04 , 122726.49 ,  53290.27 ,  53612.34 ,\n        52273.395,  79774.68 ,  81369.38 ,  57191.836,  85321.6  ,\n        56790.145,  48112.48 ,  81760.055,  92653.06 ,  84341.77 ,\n        63724.484,  72370.49 ,  76573.62 ,  44844.49 ,  96573.164,\n       130750.46 ,  94879.65 ,  87947.484,  62532.875,  51999.19 ,\n        78517.13 ,  64279.97 ,  33702.03 ,  77668.38 ,  45309.02 ,\n       103665.805,  74632.055,  52268.605,  92268.336, 136824.   ,\n        94245.8  ,  84120.22 ,  45643.49 ,  86573.51 ,  96335.15 ,\n        71936.19 ,  59590.52 ,  58026.527,  96540.31 ,  74176.89 ,\n        38129.96 ,  78210.336,  28765.375,  58348.195,  31220.234,\n        53612.34 ,  37400.05 ,  57566.66 ,  77214.305,  86887.836,\n        71661.55 ,  47383.008,  77253.516,  50063.73 ,  66446.28 ,\n       104446.49 ,  46238.44 ,  73506.35 ,  84120.22 ,  53736.54 ,\n        87115.305,  62527.426, 105500.484,  91539.58 , 171197.05 ,\n       103234.695, 101187.25 ,  56969.582,  83649.06 ,  39646.965,\n        83478.66 ,  53635.633,  57653.58 ,  70670.43 ,  89276.81 ,\n        73919.64 ,  84136.27 ,  59212.613,  69419.945,  35304.76 ,\n       109133.55 ,  57555.855,  55674.375,  68797.27 ,  74879.59 ,\n        70982.12 ,  94333.39 ,  74828.26 , 110062.44 ,  52108.523,\n        67266.266,  76456.67 ,  96298.234,  58034.887,  92935.09 ,\n        66094.54 ,  89993.26 ,  45239.89 ,  92935.09 ,  53612.34 ,\n        81593.11 ,  71324.305,  91331.86 , 104235.336,  64011.535,\n        57555.855, 141731.36 ,  71661.55 ,  52782.113,  52434.105,\n        95371.62 ,  67660.875,  74088.234,  59390.1  ,  85713.41 ,\n       100438.43 ,  67717.66 ,  73957.664,  92935.09 ,  55476.73 ,\n        64564.754,  55424.4  ,  82185.19 ,  33118.242,  82185.19 ,\n        85229.08 ,  73284.9  ,  63326.656,  62722.395,  99305.16 ,\n        94560.086,  70363.56 , 105399.88 ,  63869.207, 101316.09 ,\n        66054.086,  80795.49 ,  89566.11 ,  85702.78 ,  49003.215,\n       104442.805,  59876.816,  88335.46 ,  66054.086,  76942.47 ,\n        38853.98 ,  92534.63 , 100462.17 ,  61269.168,  64461.508,\n        99834.11 ,  51246.938,  83644.74 ,  51091.758,  49521.395,\n        44593.746,  35094.51 ], dtype=float32)"
          },
          "metadata": {},
          "execution_count": 180
        }
      ],
      "source": [
        "y_pred"
      ]
    },
    {
      "cell_type": "code",
      "execution_count": 181,
      "metadata": {},
      "outputs": [
        {
          "output_type": "error",
          "ename": "NameError",
          "evalue": "name 'pi' is not defined",
          "traceback": [
            "\u001b[1;31m---------------------------------------------------------------------------\u001b[0m",
            "\u001b[1;31mNameError\u001b[0m                                 Traceback (most recent call last)",
            "\u001b[1;32m<ipython-input-181-71757e73f3e3>\u001b[0m in \u001b[0;36m<module>\u001b[1;34m\u001b[0m\n\u001b[0;32m      1\u001b[0m p_importance = pd.DataFrame({'feature' : X_test.columns,\n\u001b[1;32m----> 2\u001b[1;33m                              \u001b[1;34m'weight'\u001b[0m  \u001b[1;33m:\u001b[0m \u001b[0mpi\u001b[0m\u001b[1;33m.\u001b[0m\u001b[0mimportances_mean\u001b[0m\u001b[1;33m,\u001b[0m\u001b[1;33m\u001b[0m\u001b[1;33m\u001b[0m\u001b[0m\n\u001b[0m\u001b[0;32m      3\u001b[0m                              'std'     : pi.importances_std})\n\u001b[0;32m      4\u001b[0m \u001b[1;33m\u001b[0m\u001b[0m\n\u001b[0;32m      5\u001b[0m \u001b[0mp_importance\u001b[0m\u001b[1;33m.\u001b[0m\u001b[0msort_values\u001b[0m\u001b[1;33m(\u001b[0m\u001b[1;34m'weight'\u001b[0m\u001b[1;33m,\u001b[0m \u001b[0mascending\u001b[0m\u001b[1;33m=\u001b[0m\u001b[1;32mFalse\u001b[0m\u001b[1;33m)\u001b[0m\u001b[1;33m.\u001b[0m\u001b[0mtail\u001b[0m\u001b[1;33m(\u001b[0m\u001b[1;36m10\u001b[0m\u001b[1;33m)\u001b[0m\u001b[1;33m\u001b[0m\u001b[1;33m\u001b[0m\u001b[0m\n",
            "\u001b[1;31mNameError\u001b[0m: name 'pi' is not defined"
          ]
        }
      ],
      "source": [
        "p_importance = pd.DataFrame({'feature' : X_test.columns,\n",
        "                             'weight'  : pi.importances_mean,\n",
        "                             'std'     : pi.importances_std})\n",
        "\n",
        "p_importance.sort_values('weight', ascending=False).tail(10)"
      ]
    },
    {
      "cell_type": "code",
      "execution_count": 182,
      "metadata": {},
      "outputs": [
        {
          "output_type": "execute_result",
          "data": {
            "text/plain": "     condition  milage   Price  Year    Brand  Model Model_Vers   S_RS  \\\n0         Used   47649   48950  2012  Porsche    911    Carrera  Black   \n1         Used   19020   67988  2015  Porsche    911    Carrera   Base   \n3         Used   56436   51990  2012  Porsche    911    Carrera      S   \n4         Used   85000   34900  2009  Porsche    911    Carrera      S   \n5         Used   15808   96995  2018  Porsche    911    Carrera      S   \n...        ...     ...     ...   ...      ...    ...        ...    ...   \n1493      Used   19826   99950  2017  Porsche    911    Carrera     4S   \n1494      Used   15710   89995  2016  Porsche    911    Carrera     4S   \n1495      Used     502   93900  2018  Porsche    911    Carrera      T   \n1496      Used    5182   81995  2016  Porsche    911    Carrera      S   \n1501       CPO   10074  112000  2018  Porsche    911    Carrera     4S   \n\n      Cabriolet  Color Transmission  \n0       Hardtop  Black    Automatic  \n1       Hardtop  Black    Automatic  \n3       Hardtop  Black    Automatic  \n4     Cabriolet  Black    Automatic  \n5       Hardtop  Black    Automatic  \n...         ...    ...          ...  \n1493    Hardtop  White       Manual  \n1494    Hardtop  White       Manual  \n1495    Hardtop  White       Manual  \n1496    Hardtop  White       Manual  \n1501    Hardtop  White       Manual  \n\n[810 rows x 11 columns]",
            "text/html": "<div>\n<style scoped>\n    .dataframe tbody tr th:only-of-type {\n        vertical-align: middle;\n    }\n\n    .dataframe tbody tr th {\n        vertical-align: top;\n    }\n\n    .dataframe thead th {\n        text-align: right;\n    }\n</style>\n<table border=\"1\" class=\"dataframe\">\n  <thead>\n    <tr style=\"text-align: right;\">\n      <th></th>\n      <th>condition</th>\n      <th>milage</th>\n      <th>Price</th>\n      <th>Year</th>\n      <th>Brand</th>\n      <th>Model</th>\n      <th>Model_Vers</th>\n      <th>S_RS</th>\n      <th>Cabriolet</th>\n      <th>Color</th>\n      <th>Transmission</th>\n    </tr>\n  </thead>\n  <tbody>\n    <tr>\n      <th>0</th>\n      <td>Used</td>\n      <td>47649</td>\n      <td>48950</td>\n      <td>2012</td>\n      <td>Porsche</td>\n      <td>911</td>\n      <td>Carrera</td>\n      <td>Black</td>\n      <td>Hardtop</td>\n      <td>Black</td>\n      <td>Automatic</td>\n    </tr>\n    <tr>\n      <th>1</th>\n      <td>Used</td>\n      <td>19020</td>\n      <td>67988</td>\n      <td>2015</td>\n      <td>Porsche</td>\n      <td>911</td>\n      <td>Carrera</td>\n      <td>Base</td>\n      <td>Hardtop</td>\n      <td>Black</td>\n      <td>Automatic</td>\n    </tr>\n    <tr>\n      <th>3</th>\n      <td>Used</td>\n      <td>56436</td>\n      <td>51990</td>\n      <td>2012</td>\n      <td>Porsche</td>\n      <td>911</td>\n      <td>Carrera</td>\n      <td>S</td>\n      <td>Hardtop</td>\n      <td>Black</td>\n      <td>Automatic</td>\n    </tr>\n    <tr>\n      <th>4</th>\n      <td>Used</td>\n      <td>85000</td>\n      <td>34900</td>\n      <td>2009</td>\n      <td>Porsche</td>\n      <td>911</td>\n      <td>Carrera</td>\n      <td>S</td>\n      <td>Cabriolet</td>\n      <td>Black</td>\n      <td>Automatic</td>\n    </tr>\n    <tr>\n      <th>5</th>\n      <td>Used</td>\n      <td>15808</td>\n      <td>96995</td>\n      <td>2018</td>\n      <td>Porsche</td>\n      <td>911</td>\n      <td>Carrera</td>\n      <td>S</td>\n      <td>Hardtop</td>\n      <td>Black</td>\n      <td>Automatic</td>\n    </tr>\n    <tr>\n      <th>...</th>\n      <td>...</td>\n      <td>...</td>\n      <td>...</td>\n      <td>...</td>\n      <td>...</td>\n      <td>...</td>\n      <td>...</td>\n      <td>...</td>\n      <td>...</td>\n      <td>...</td>\n      <td>...</td>\n    </tr>\n    <tr>\n      <th>1493</th>\n      <td>Used</td>\n      <td>19826</td>\n      <td>99950</td>\n      <td>2017</td>\n      <td>Porsche</td>\n      <td>911</td>\n      <td>Carrera</td>\n      <td>4S</td>\n      <td>Hardtop</td>\n      <td>White</td>\n      <td>Manual</td>\n    </tr>\n    <tr>\n      <th>1494</th>\n      <td>Used</td>\n      <td>15710</td>\n      <td>89995</td>\n      <td>2016</td>\n      <td>Porsche</td>\n      <td>911</td>\n      <td>Carrera</td>\n      <td>4S</td>\n      <td>Hardtop</td>\n      <td>White</td>\n      <td>Manual</td>\n    </tr>\n    <tr>\n      <th>1495</th>\n      <td>Used</td>\n      <td>502</td>\n      <td>93900</td>\n      <td>2018</td>\n      <td>Porsche</td>\n      <td>911</td>\n      <td>Carrera</td>\n      <td>T</td>\n      <td>Hardtop</td>\n      <td>White</td>\n      <td>Manual</td>\n    </tr>\n    <tr>\n      <th>1496</th>\n      <td>Used</td>\n      <td>5182</td>\n      <td>81995</td>\n      <td>2016</td>\n      <td>Porsche</td>\n      <td>911</td>\n      <td>Carrera</td>\n      <td>S</td>\n      <td>Hardtop</td>\n      <td>White</td>\n      <td>Manual</td>\n    </tr>\n    <tr>\n      <th>1501</th>\n      <td>CPO</td>\n      <td>10074</td>\n      <td>112000</td>\n      <td>2018</td>\n      <td>Porsche</td>\n      <td>911</td>\n      <td>Carrera</td>\n      <td>4S</td>\n      <td>Hardtop</td>\n      <td>White</td>\n      <td>Manual</td>\n    </tr>\n  </tbody>\n</table>\n<p>810 rows × 11 columns</p>\n</div>"
          },
          "metadata": {},
          "execution_count": 182
        }
      ],
      "source": [
        "df"
      ]
    },
    {
      "cell_type": "code",
      "execution_count": 183,
      "metadata": {
        "tags": []
      },
      "outputs": [
        {
          "output_type": "error",
          "ename": "NameError",
          "evalue": "name 'i' is not defined",
          "traceback": [
            "\u001b[1;31m---------------------------------------------------------------------------\u001b[0m",
            "\u001b[1;31mNameError\u001b[0m                                 Traceback (most recent call last)",
            "\u001b[1;32m<ipython-input-183-cefe81cf54fb>\u001b[0m in \u001b[0;36m<module>\u001b[1;34m\u001b[0m\n\u001b[1;32m----> 1\u001b[1;33m \u001b[0mguess\u001b[0m \u001b[1;33m=\u001b[0m \u001b[0mround\u001b[0m\u001b[1;33m(\u001b[0m\u001b[0mdf\u001b[0m\u001b[1;33m.\u001b[0m\u001b[0mPrice\u001b[0m\u001b[1;33m[\u001b[0m\u001b[0mdf\u001b[0m\u001b[1;33m.\u001b[0m\u001b[0mYear\u001b[0m\u001b[1;33m==\u001b[0m\u001b[0mi\u001b[0m\u001b[1;33m]\u001b[0m\u001b[1;33m.\u001b[0m\u001b[0mmean\u001b[0m\u001b[1;33m(\u001b[0m\u001b[1;33m)\u001b[0m\u001b[1;33m)\u001b[0m\u001b[1;33m\u001b[0m\u001b[1;33m\u001b[0m\u001b[0m\n\u001b[0m\u001b[0;32m      2\u001b[0m \u001b[1;32mfor\u001b[0m \u001b[0mi\u001b[0m \u001b[1;32min\u001b[0m \u001b[0mrange\u001b[0m \u001b[1;33m(\u001b[0m\u001b[1;36m2012\u001b[0m\u001b[1;33m,\u001b[0m \u001b[1;36m2020\u001b[0m\u001b[1;33m)\u001b[0m\u001b[1;33m:\u001b[0m\u001b[1;33m\u001b[0m\u001b[1;33m\u001b[0m\u001b[0m\n\u001b[0;32m      3\u001b[0m     \u001b[0mguess\u001b[0m \u001b[1;33m=\u001b[0m \u001b[0mround\u001b[0m\u001b[1;33m(\u001b[0m\u001b[0mdf\u001b[0m\u001b[1;33m.\u001b[0m\u001b[0mPrice\u001b[0m\u001b[1;33m[\u001b[0m\u001b[0mdf\u001b[0m\u001b[1;33m.\u001b[0m\u001b[0mYear\u001b[0m\u001b[1;33m==\u001b[0m\u001b[0mi\u001b[0m\u001b[1;33m]\u001b[0m\u001b[1;33m.\u001b[0m\u001b[0mmean\u001b[0m\u001b[1;33m(\u001b[0m\u001b[1;33m)\u001b[0m\u001b[1;33m)\u001b[0m\u001b[1;33m\u001b[0m\u001b[1;33m\u001b[0m\u001b[0m\n\u001b[0;32m      4\u001b[0m     \u001b[0merrors\u001b[0m \u001b[1;33m=\u001b[0m \u001b[0mguess\u001b[0m \u001b[1;33m-\u001b[0m \u001b[0mdf\u001b[0m\u001b[1;33m[\u001b[0m\u001b[1;34m'Price'\u001b[0m\u001b[1;33m]\u001b[0m\u001b[1;33m\u001b[0m\u001b[1;33m\u001b[0m\u001b[0m\n\u001b[0;32m      5\u001b[0m     \u001b[0mm\u001b[0m \u001b[1;33m=\u001b[0m \u001b[0mround\u001b[0m\u001b[1;33m(\u001b[0m\u001b[0mdf\u001b[0m\u001b[1;33m.\u001b[0m\u001b[0mPrice\u001b[0m\u001b[1;33m[\u001b[0m\u001b[0mdf\u001b[0m\u001b[1;33m.\u001b[0m\u001b[0mYear\u001b[0m\u001b[1;33m==\u001b[0m\u001b[0mi\u001b[0m\u001b[1;33m]\u001b[0m\u001b[1;33m.\u001b[0m\u001b[0mmean\u001b[0m\u001b[1;33m(\u001b[0m\u001b[1;33m)\u001b[0m\u001b[1;33m)\u001b[0m\u001b[1;33m\u001b[0m\u001b[1;33m\u001b[0m\u001b[0m\n",
            "\u001b[1;31mNameError\u001b[0m: name 'i' is not defined"
          ]
        }
      ],
      "source": [
        "\n",
        "guess = round(df.Price[df.Year==i].mean())\n",
        "for i in range (2012, 2020):\n",
        "    guess = round(df.Price[df.Year==i].mean())\n",
        "    errors = guess - df['Price']\n",
        "    m = round(df.Price[df.Year==i].mean())\n",
        "    #print(i,'average price is ${}.'.format(m))\n",
        "    mean_absolute_error = round(errors.abs().mean(),0)\n",
        "    print('Mean absolute error for year {} is ${}.'.format(i,mean_absolute_error))"
      ]
    },
    {
      "cell_type": "code",
      "execution_count": 184,
      "metadata": {},
      "outputs": [
        {
          "output_type": "execute_result",
          "data": {
            "text/plain": "61906.65714285714"
          },
          "metadata": {},
          "execution_count": 184
        }
      ],
      "source": [
        "df.Price[df.Year == 2012].mean()"
      ]
    },
    {
      "cell_type": "code",
      "execution_count": 185,
      "metadata": {},
      "outputs": [
        {
          "output_type": "execute_result",
          "data": {
            "text/plain": "     condition  milage  Year  S_RS  Cabriolet\n12        Used   54905  2012     S    Hardtop\n1318      Used   15523  2014  Base    Hardtop\n168       Used    6793  2018   GTS    Hardtop\n1082      Used   28555  2014  Base    Hardtop\n1169      Used   56436  2012     S    Hardtop\n...        ...     ...   ...   ...        ...\n994       Used   37085  2017     S    Hardtop\n1138      Used   50678  2009    4S    Hardtop\n1181      Used   36118  2009     S  Cabriolet\n1287      Used   63485  2007    4S  Cabriolet\n60        Used   72700  2007     S    Hardtop\n\n[162 rows x 5 columns]",
            "text/html": "<div>\n<style scoped>\n    .dataframe tbody tr th:only-of-type {\n        vertical-align: middle;\n    }\n\n    .dataframe tbody tr th {\n        vertical-align: top;\n    }\n\n    .dataframe thead th {\n        text-align: right;\n    }\n</style>\n<table border=\"1\" class=\"dataframe\">\n  <thead>\n    <tr style=\"text-align: right;\">\n      <th></th>\n      <th>condition</th>\n      <th>milage</th>\n      <th>Year</th>\n      <th>S_RS</th>\n      <th>Cabriolet</th>\n    </tr>\n  </thead>\n  <tbody>\n    <tr>\n      <th>12</th>\n      <td>Used</td>\n      <td>54905</td>\n      <td>2012</td>\n      <td>S</td>\n      <td>Hardtop</td>\n    </tr>\n    <tr>\n      <th>1318</th>\n      <td>Used</td>\n      <td>15523</td>\n      <td>2014</td>\n      <td>Base</td>\n      <td>Hardtop</td>\n    </tr>\n    <tr>\n      <th>168</th>\n      <td>Used</td>\n      <td>6793</td>\n      <td>2018</td>\n      <td>GTS</td>\n      <td>Hardtop</td>\n    </tr>\n    <tr>\n      <th>1082</th>\n      <td>Used</td>\n      <td>28555</td>\n      <td>2014</td>\n      <td>Base</td>\n      <td>Hardtop</td>\n    </tr>\n    <tr>\n      <th>1169</th>\n      <td>Used</td>\n      <td>56436</td>\n      <td>2012</td>\n      <td>S</td>\n      <td>Hardtop</td>\n    </tr>\n    <tr>\n      <th>...</th>\n      <td>...</td>\n      <td>...</td>\n      <td>...</td>\n      <td>...</td>\n      <td>...</td>\n    </tr>\n    <tr>\n      <th>994</th>\n      <td>Used</td>\n      <td>37085</td>\n      <td>2017</td>\n      <td>S</td>\n      <td>Hardtop</td>\n    </tr>\n    <tr>\n      <th>1138</th>\n      <td>Used</td>\n      <td>50678</td>\n      <td>2009</td>\n      <td>4S</td>\n      <td>Hardtop</td>\n    </tr>\n    <tr>\n      <th>1181</th>\n      <td>Used</td>\n      <td>36118</td>\n      <td>2009</td>\n      <td>S</td>\n      <td>Cabriolet</td>\n    </tr>\n    <tr>\n      <th>1287</th>\n      <td>Used</td>\n      <td>63485</td>\n      <td>2007</td>\n      <td>4S</td>\n      <td>Cabriolet</td>\n    </tr>\n    <tr>\n      <th>60</th>\n      <td>Used</td>\n      <td>72700</td>\n      <td>2007</td>\n      <td>S</td>\n      <td>Hardtop</td>\n    </tr>\n  </tbody>\n</table>\n<p>162 rows × 5 columns</p>\n</div>"
          },
          "metadata": {},
          "execution_count": 185
        }
      ],
      "source": [
        "X_test"
      ]
    },
    {
      "cell_type": "code",
      "execution_count": 186,
      "metadata": {
        "tags": []
      },
      "outputs": [
        {
          "output_type": "stream",
          "name": "stdout",
          "text": "Gradient Boosting R^2 0.43104710561797677\n"
        }
      ],
      "source": [
        "from pdpbox.pdp import pdp_interact, pdp_interact_plot\n",
        "gb = make_pipeline(\n",
        "    ce.OrdinalEncoder(), \n",
        "    LinearSVR()\n",
        ")\n",
        "\n",
        "gb.fit(X_train, y_train)\n",
        "y_pred = gb.predict(X_test)\n",
        "print('Gradient Boosting R^2', r2_score(Y_test, y_pred))"
      ]
    },
    {
      "cell_type": "code",
      "execution_count": null,
      "metadata": {},
      "outputs": [],
      "source": []
    },
    {
      "cell_type": "code",
      "execution_count": 187,
      "metadata": {},
      "outputs": [
        {
          "output_type": "error",
          "ename": "ValueError",
          "evalue": "Must train encoder before it can be used to transform data.",
          "traceback": [
            "\u001b[1;31m---------------------------------------------------------------------------\u001b[0m",
            "\u001b[1;31mValueError\u001b[0m                                Traceback (most recent call last)",
            "\u001b[1;32m<ipython-input-187-5d0ece686e4c>\u001b[0m in \u001b[0;36m<module>\u001b[1;34m\u001b[0m\n\u001b[0;32m      7\u001b[0m     \u001b[0mdataset\u001b[0m\u001b[1;33m=\u001b[0m\u001b[0mX_test\u001b[0m\u001b[1;33m,\u001b[0m\u001b[1;33m\u001b[0m\u001b[1;33m\u001b[0m\u001b[0m\n\u001b[0;32m      8\u001b[0m     \u001b[0mmodel_features\u001b[0m\u001b[1;33m=\u001b[0m\u001b[0mX_test\u001b[0m\u001b[1;33m.\u001b[0m\u001b[0mcolumns\u001b[0m\u001b[1;33m,\u001b[0m\u001b[1;33m\u001b[0m\u001b[1;33m\u001b[0m\u001b[0m\n\u001b[1;32m----> 9\u001b[1;33m     \u001b[0mfeature\u001b[0m\u001b[1;33m=\u001b[0m\u001b[0mfeature\u001b[0m\u001b[1;33m\u001b[0m\u001b[1;33m\u001b[0m\u001b[0m\n\u001b[0m\u001b[0;32m     10\u001b[0m )\n",
            "\u001b[1;32m~\\anaconda3\\lib\\site-packages\\pdpbox\\pdp.py\u001b[0m in \u001b[0;36mpdp_isolate\u001b[1;34m(model, dataset, model_features, feature, num_grid_points, grid_type, percentile_range, grid_range, cust_grid_points, memory_limit, n_jobs, predict_kwds, data_transformer)\u001b[0m\n\u001b[0;32m    157\u001b[0m             \u001b[0mfeature_grid\u001b[0m\u001b[1;33m,\u001b[0m \u001b[0mdata\u001b[0m\u001b[1;33m=\u001b[0m\u001b[0m_dataset\u001b[0m\u001b[1;33m,\u001b[0m \u001b[0mmodel\u001b[0m\u001b[1;33m=\u001b[0m\u001b[0mmodel\u001b[0m\u001b[1;33m,\u001b[0m \u001b[0mmodel_features\u001b[0m\u001b[1;33m=\u001b[0m\u001b[0mmodel_features\u001b[0m\u001b[1;33m,\u001b[0m \u001b[0mn_classes\u001b[0m\u001b[1;33m=\u001b[0m\u001b[0mn_classes\u001b[0m\u001b[1;33m,\u001b[0m\u001b[1;33m\u001b[0m\u001b[1;33m\u001b[0m\u001b[0m\n\u001b[0;32m    158\u001b[0m             feature=feature, feature_type=feature_type, predict_kwds=predict_kwds, data_transformer=data_transformer)\n\u001b[1;32m--> 159\u001b[1;33m         for feature_grid in feature_grids)\n\u001b[0m\u001b[0;32m    160\u001b[0m \u001b[1;33m\u001b[0m\u001b[0m\n\u001b[0;32m    161\u001b[0m     \u001b[1;32mif\u001b[0m \u001b[0mn_classes\u001b[0m \u001b[1;33m>\u001b[0m \u001b[1;36m2\u001b[0m\u001b[1;33m:\u001b[0m\u001b[1;33m\u001b[0m\u001b[1;33m\u001b[0m\u001b[0m\n",
            "\u001b[1;32m~\\anaconda3\\lib\\site-packages\\joblib\\parallel.py\u001b[0m in \u001b[0;36m__call__\u001b[1;34m(self, iterable)\u001b[0m\n\u001b[0;32m   1002\u001b[0m             \u001b[1;31m# remaining jobs.\u001b[0m\u001b[1;33m\u001b[0m\u001b[1;33m\u001b[0m\u001b[1;33m\u001b[0m\u001b[0m\n\u001b[0;32m   1003\u001b[0m             \u001b[0mself\u001b[0m\u001b[1;33m.\u001b[0m\u001b[0m_iterating\u001b[0m \u001b[1;33m=\u001b[0m \u001b[1;32mFalse\u001b[0m\u001b[1;33m\u001b[0m\u001b[1;33m\u001b[0m\u001b[0m\n\u001b[1;32m-> 1004\u001b[1;33m             \u001b[1;32mif\u001b[0m \u001b[0mself\u001b[0m\u001b[1;33m.\u001b[0m\u001b[0mdispatch_one_batch\u001b[0m\u001b[1;33m(\u001b[0m\u001b[0miterator\u001b[0m\u001b[1;33m)\u001b[0m\u001b[1;33m:\u001b[0m\u001b[1;33m\u001b[0m\u001b[1;33m\u001b[0m\u001b[0m\n\u001b[0m\u001b[0;32m   1005\u001b[0m                 \u001b[0mself\u001b[0m\u001b[1;33m.\u001b[0m\u001b[0m_iterating\u001b[0m \u001b[1;33m=\u001b[0m \u001b[0mself\u001b[0m\u001b[1;33m.\u001b[0m\u001b[0m_original_iterator\u001b[0m \u001b[1;32mis\u001b[0m \u001b[1;32mnot\u001b[0m \u001b[1;32mNone\u001b[0m\u001b[1;33m\u001b[0m\u001b[1;33m\u001b[0m\u001b[0m\n\u001b[0;32m   1006\u001b[0m \u001b[1;33m\u001b[0m\u001b[0m\n",
            "\u001b[1;32m~\\anaconda3\\lib\\site-packages\\joblib\\parallel.py\u001b[0m in \u001b[0;36mdispatch_one_batch\u001b[1;34m(self, iterator)\u001b[0m\n\u001b[0;32m    833\u001b[0m                 \u001b[1;32mreturn\u001b[0m \u001b[1;32mFalse\u001b[0m\u001b[1;33m\u001b[0m\u001b[1;33m\u001b[0m\u001b[0m\n\u001b[0;32m    834\u001b[0m             \u001b[1;32melse\u001b[0m\u001b[1;33m:\u001b[0m\u001b[1;33m\u001b[0m\u001b[1;33m\u001b[0m\u001b[0m\n\u001b[1;32m--> 835\u001b[1;33m                 \u001b[0mself\u001b[0m\u001b[1;33m.\u001b[0m\u001b[0m_dispatch\u001b[0m\u001b[1;33m(\u001b[0m\u001b[0mtasks\u001b[0m\u001b[1;33m)\u001b[0m\u001b[1;33m\u001b[0m\u001b[1;33m\u001b[0m\u001b[0m\n\u001b[0m\u001b[0;32m    836\u001b[0m                 \u001b[1;32mreturn\u001b[0m \u001b[1;32mTrue\u001b[0m\u001b[1;33m\u001b[0m\u001b[1;33m\u001b[0m\u001b[0m\n\u001b[0;32m    837\u001b[0m \u001b[1;33m\u001b[0m\u001b[0m\n",
            "\u001b[1;32m~\\anaconda3\\lib\\site-packages\\joblib\\parallel.py\u001b[0m in \u001b[0;36m_dispatch\u001b[1;34m(self, batch)\u001b[0m\n\u001b[0;32m    752\u001b[0m         \u001b[1;32mwith\u001b[0m \u001b[0mself\u001b[0m\u001b[1;33m.\u001b[0m\u001b[0m_lock\u001b[0m\u001b[1;33m:\u001b[0m\u001b[1;33m\u001b[0m\u001b[1;33m\u001b[0m\u001b[0m\n\u001b[0;32m    753\u001b[0m             \u001b[0mjob_idx\u001b[0m \u001b[1;33m=\u001b[0m \u001b[0mlen\u001b[0m\u001b[1;33m(\u001b[0m\u001b[0mself\u001b[0m\u001b[1;33m.\u001b[0m\u001b[0m_jobs\u001b[0m\u001b[1;33m)\u001b[0m\u001b[1;33m\u001b[0m\u001b[1;33m\u001b[0m\u001b[0m\n\u001b[1;32m--> 754\u001b[1;33m             \u001b[0mjob\u001b[0m \u001b[1;33m=\u001b[0m \u001b[0mself\u001b[0m\u001b[1;33m.\u001b[0m\u001b[0m_backend\u001b[0m\u001b[1;33m.\u001b[0m\u001b[0mapply_async\u001b[0m\u001b[1;33m(\u001b[0m\u001b[0mbatch\u001b[0m\u001b[1;33m,\u001b[0m \u001b[0mcallback\u001b[0m\u001b[1;33m=\u001b[0m\u001b[0mcb\u001b[0m\u001b[1;33m)\u001b[0m\u001b[1;33m\u001b[0m\u001b[1;33m\u001b[0m\u001b[0m\n\u001b[0m\u001b[0;32m    755\u001b[0m             \u001b[1;31m# A job can complete so quickly than its callback is\u001b[0m\u001b[1;33m\u001b[0m\u001b[1;33m\u001b[0m\u001b[1;33m\u001b[0m\u001b[0m\n\u001b[0;32m    756\u001b[0m             \u001b[1;31m# called before we get here, causing self._jobs to\u001b[0m\u001b[1;33m\u001b[0m\u001b[1;33m\u001b[0m\u001b[1;33m\u001b[0m\u001b[0m\n",
            "\u001b[1;32m~\\anaconda3\\lib\\site-packages\\joblib\\_parallel_backends.py\u001b[0m in \u001b[0;36mapply_async\u001b[1;34m(self, func, callback)\u001b[0m\n\u001b[0;32m    207\u001b[0m     \u001b[1;32mdef\u001b[0m \u001b[0mapply_async\u001b[0m\u001b[1;33m(\u001b[0m\u001b[0mself\u001b[0m\u001b[1;33m,\u001b[0m \u001b[0mfunc\u001b[0m\u001b[1;33m,\u001b[0m \u001b[0mcallback\u001b[0m\u001b[1;33m=\u001b[0m\u001b[1;32mNone\u001b[0m\u001b[1;33m)\u001b[0m\u001b[1;33m:\u001b[0m\u001b[1;33m\u001b[0m\u001b[1;33m\u001b[0m\u001b[0m\n\u001b[0;32m    208\u001b[0m         \u001b[1;34m\"\"\"Schedule a func to be run\"\"\"\u001b[0m\u001b[1;33m\u001b[0m\u001b[1;33m\u001b[0m\u001b[0m\n\u001b[1;32m--> 209\u001b[1;33m         \u001b[0mresult\u001b[0m \u001b[1;33m=\u001b[0m \u001b[0mImmediateResult\u001b[0m\u001b[1;33m(\u001b[0m\u001b[0mfunc\u001b[0m\u001b[1;33m)\u001b[0m\u001b[1;33m\u001b[0m\u001b[1;33m\u001b[0m\u001b[0m\n\u001b[0m\u001b[0;32m    210\u001b[0m         \u001b[1;32mif\u001b[0m \u001b[0mcallback\u001b[0m\u001b[1;33m:\u001b[0m\u001b[1;33m\u001b[0m\u001b[1;33m\u001b[0m\u001b[0m\n\u001b[0;32m    211\u001b[0m             \u001b[0mcallback\u001b[0m\u001b[1;33m(\u001b[0m\u001b[0mresult\u001b[0m\u001b[1;33m)\u001b[0m\u001b[1;33m\u001b[0m\u001b[1;33m\u001b[0m\u001b[0m\n",
            "\u001b[1;32m~\\anaconda3\\lib\\site-packages\\joblib\\_parallel_backends.py\u001b[0m in \u001b[0;36m__init__\u001b[1;34m(self, batch)\u001b[0m\n\u001b[0;32m    588\u001b[0m         \u001b[1;31m# Don't delay the application, to avoid keeping the input\u001b[0m\u001b[1;33m\u001b[0m\u001b[1;33m\u001b[0m\u001b[1;33m\u001b[0m\u001b[0m\n\u001b[0;32m    589\u001b[0m         \u001b[1;31m# arguments in memory\u001b[0m\u001b[1;33m\u001b[0m\u001b[1;33m\u001b[0m\u001b[1;33m\u001b[0m\u001b[0m\n\u001b[1;32m--> 590\u001b[1;33m         \u001b[0mself\u001b[0m\u001b[1;33m.\u001b[0m\u001b[0mresults\u001b[0m \u001b[1;33m=\u001b[0m \u001b[0mbatch\u001b[0m\u001b[1;33m(\u001b[0m\u001b[1;33m)\u001b[0m\u001b[1;33m\u001b[0m\u001b[1;33m\u001b[0m\u001b[0m\n\u001b[0m\u001b[0;32m    591\u001b[0m \u001b[1;33m\u001b[0m\u001b[0m\n\u001b[0;32m    592\u001b[0m     \u001b[1;32mdef\u001b[0m \u001b[0mget\u001b[0m\u001b[1;33m(\u001b[0m\u001b[0mself\u001b[0m\u001b[1;33m)\u001b[0m\u001b[1;33m:\u001b[0m\u001b[1;33m\u001b[0m\u001b[1;33m\u001b[0m\u001b[0m\n",
            "\u001b[1;32m~\\anaconda3\\lib\\site-packages\\joblib\\parallel.py\u001b[0m in \u001b[0;36m__call__\u001b[1;34m(self)\u001b[0m\n\u001b[0;32m    254\u001b[0m         \u001b[1;32mwith\u001b[0m \u001b[0mparallel_backend\u001b[0m\u001b[1;33m(\u001b[0m\u001b[0mself\u001b[0m\u001b[1;33m.\u001b[0m\u001b[0m_backend\u001b[0m\u001b[1;33m,\u001b[0m \u001b[0mn_jobs\u001b[0m\u001b[1;33m=\u001b[0m\u001b[0mself\u001b[0m\u001b[1;33m.\u001b[0m\u001b[0m_n_jobs\u001b[0m\u001b[1;33m)\u001b[0m\u001b[1;33m:\u001b[0m\u001b[1;33m\u001b[0m\u001b[1;33m\u001b[0m\u001b[0m\n\u001b[0;32m    255\u001b[0m             return [func(*args, **kwargs)\n\u001b[1;32m--> 256\u001b[1;33m                     for func, args, kwargs in self.items]\n\u001b[0m\u001b[0;32m    257\u001b[0m \u001b[1;33m\u001b[0m\u001b[0m\n\u001b[0;32m    258\u001b[0m     \u001b[1;32mdef\u001b[0m \u001b[0m__len__\u001b[0m\u001b[1;33m(\u001b[0m\u001b[0mself\u001b[0m\u001b[1;33m)\u001b[0m\u001b[1;33m:\u001b[0m\u001b[1;33m\u001b[0m\u001b[1;33m\u001b[0m\u001b[0m\n",
            "\u001b[1;32m~\\anaconda3\\lib\\site-packages\\joblib\\parallel.py\u001b[0m in \u001b[0;36m<listcomp>\u001b[1;34m(.0)\u001b[0m\n\u001b[0;32m    254\u001b[0m         \u001b[1;32mwith\u001b[0m \u001b[0mparallel_backend\u001b[0m\u001b[1;33m(\u001b[0m\u001b[0mself\u001b[0m\u001b[1;33m.\u001b[0m\u001b[0m_backend\u001b[0m\u001b[1;33m,\u001b[0m \u001b[0mn_jobs\u001b[0m\u001b[1;33m=\u001b[0m\u001b[0mself\u001b[0m\u001b[1;33m.\u001b[0m\u001b[0m_n_jobs\u001b[0m\u001b[1;33m)\u001b[0m\u001b[1;33m:\u001b[0m\u001b[1;33m\u001b[0m\u001b[1;33m\u001b[0m\u001b[0m\n\u001b[0;32m    255\u001b[0m             return [func(*args, **kwargs)\n\u001b[1;32m--> 256\u001b[1;33m                     for func, args, kwargs in self.items]\n\u001b[0m\u001b[0;32m    257\u001b[0m \u001b[1;33m\u001b[0m\u001b[0m\n\u001b[0;32m    258\u001b[0m     \u001b[1;32mdef\u001b[0m \u001b[0m__len__\u001b[0m\u001b[1;33m(\u001b[0m\u001b[0mself\u001b[0m\u001b[1;33m)\u001b[0m\u001b[1;33m:\u001b[0m\u001b[1;33m\u001b[0m\u001b[1;33m\u001b[0m\u001b[0m\n",
            "\u001b[1;32m~\\anaconda3\\lib\\site-packages\\pdpbox\\pdp_calc_utils.py\u001b[0m in \u001b[0;36m_calc_ice_lines\u001b[1;34m(feature_grid, data, model, model_features, n_classes, feature, feature_type, predict_kwds, data_transformer, unit_test)\u001b[0m\n\u001b[0;32m     42\u001b[0m \u001b[1;33m\u001b[0m\u001b[0m\n\u001b[0;32m     43\u001b[0m     \u001b[1;31m# get predictions for this chunk\u001b[0m\u001b[1;33m\u001b[0m\u001b[1;33m\u001b[0m\u001b[1;33m\u001b[0m\u001b[0m\n\u001b[1;32m---> 44\u001b[1;33m     \u001b[0mpreds\u001b[0m \u001b[1;33m=\u001b[0m \u001b[0mpredict\u001b[0m\u001b[1;33m(\u001b[0m\u001b[0m_data\u001b[0m\u001b[1;33m[\u001b[0m\u001b[0mmodel_features\u001b[0m\u001b[1;33m]\u001b[0m\u001b[1;33m,\u001b[0m \u001b[1;33m**\u001b[0m\u001b[0mpredict_kwds\u001b[0m\u001b[1;33m)\u001b[0m\u001b[1;33m\u001b[0m\u001b[1;33m\u001b[0m\u001b[0m\n\u001b[0m\u001b[0;32m     45\u001b[0m \u001b[1;33m\u001b[0m\u001b[0m\n\u001b[0;32m     46\u001b[0m     \u001b[1;32mif\u001b[0m \u001b[0mn_classes\u001b[0m \u001b[1;33m==\u001b[0m \u001b[1;36m0\u001b[0m\u001b[1;33m:\u001b[0m\u001b[1;33m\u001b[0m\u001b[1;33m\u001b[0m\u001b[0m\n",
            "\u001b[1;32m~\\anaconda3\\lib\\site-packages\\sklearn\\utils\\metaestimators.py\u001b[0m in \u001b[0;36m<lambda>\u001b[1;34m(*args, **kwargs)\u001b[0m\n\u001b[0;32m    114\u001b[0m \u001b[1;33m\u001b[0m\u001b[0m\n\u001b[0;32m    115\u001b[0m         \u001b[1;31m# lambda, but not partial, allows help() to work with update_wrapper\u001b[0m\u001b[1;33m\u001b[0m\u001b[1;33m\u001b[0m\u001b[1;33m\u001b[0m\u001b[0m\n\u001b[1;32m--> 116\u001b[1;33m         \u001b[0mout\u001b[0m \u001b[1;33m=\u001b[0m \u001b[1;32mlambda\u001b[0m \u001b[1;33m*\u001b[0m\u001b[0margs\u001b[0m\u001b[1;33m,\u001b[0m \u001b[1;33m**\u001b[0m\u001b[0mkwargs\u001b[0m\u001b[1;33m:\u001b[0m \u001b[0mself\u001b[0m\u001b[1;33m.\u001b[0m\u001b[0mfn\u001b[0m\u001b[1;33m(\u001b[0m\u001b[0mobj\u001b[0m\u001b[1;33m,\u001b[0m \u001b[1;33m*\u001b[0m\u001b[0margs\u001b[0m\u001b[1;33m,\u001b[0m \u001b[1;33m**\u001b[0m\u001b[0mkwargs\u001b[0m\u001b[1;33m)\u001b[0m\u001b[1;33m\u001b[0m\u001b[1;33m\u001b[0m\u001b[0m\n\u001b[0m\u001b[0;32m    117\u001b[0m         \u001b[1;31m# update the docstring of the returned function\u001b[0m\u001b[1;33m\u001b[0m\u001b[1;33m\u001b[0m\u001b[1;33m\u001b[0m\u001b[0m\n\u001b[0;32m    118\u001b[0m         \u001b[0mupdate_wrapper\u001b[0m\u001b[1;33m(\u001b[0m\u001b[0mout\u001b[0m\u001b[1;33m,\u001b[0m \u001b[0mself\u001b[0m\u001b[1;33m.\u001b[0m\u001b[0mfn\u001b[0m\u001b[1;33m)\u001b[0m\u001b[1;33m\u001b[0m\u001b[1;33m\u001b[0m\u001b[0m\n",
            "\u001b[1;32m~\\anaconda3\\lib\\site-packages\\sklearn\\pipeline.py\u001b[0m in \u001b[0;36mpredict\u001b[1;34m(self, X, **predict_params)\u001b[0m\n\u001b[0;32m    417\u001b[0m         \u001b[0mXt\u001b[0m \u001b[1;33m=\u001b[0m \u001b[0mX\u001b[0m\u001b[1;33m\u001b[0m\u001b[1;33m\u001b[0m\u001b[0m\n\u001b[0;32m    418\u001b[0m         \u001b[1;32mfor\u001b[0m \u001b[0m_\u001b[0m\u001b[1;33m,\u001b[0m \u001b[0mname\u001b[0m\u001b[1;33m,\u001b[0m \u001b[0mtransform\u001b[0m \u001b[1;32min\u001b[0m \u001b[0mself\u001b[0m\u001b[1;33m.\u001b[0m\u001b[0m_iter\u001b[0m\u001b[1;33m(\u001b[0m\u001b[0mwith_final\u001b[0m\u001b[1;33m=\u001b[0m\u001b[1;32mFalse\u001b[0m\u001b[1;33m)\u001b[0m\u001b[1;33m:\u001b[0m\u001b[1;33m\u001b[0m\u001b[1;33m\u001b[0m\u001b[0m\n\u001b[1;32m--> 419\u001b[1;33m             \u001b[0mXt\u001b[0m \u001b[1;33m=\u001b[0m \u001b[0mtransform\u001b[0m\u001b[1;33m.\u001b[0m\u001b[0mtransform\u001b[0m\u001b[1;33m(\u001b[0m\u001b[0mXt\u001b[0m\u001b[1;33m)\u001b[0m\u001b[1;33m\u001b[0m\u001b[1;33m\u001b[0m\u001b[0m\n\u001b[0m\u001b[0;32m    420\u001b[0m         \u001b[1;32mreturn\u001b[0m \u001b[0mself\u001b[0m\u001b[1;33m.\u001b[0m\u001b[0msteps\u001b[0m\u001b[1;33m[\u001b[0m\u001b[1;33m-\u001b[0m\u001b[1;36m1\u001b[0m\u001b[1;33m]\u001b[0m\u001b[1;33m[\u001b[0m\u001b[1;33m-\u001b[0m\u001b[1;36m1\u001b[0m\u001b[1;33m]\u001b[0m\u001b[1;33m.\u001b[0m\u001b[0mpredict\u001b[0m\u001b[1;33m(\u001b[0m\u001b[0mXt\u001b[0m\u001b[1;33m,\u001b[0m \u001b[1;33m**\u001b[0m\u001b[0mpredict_params\u001b[0m\u001b[1;33m)\u001b[0m\u001b[1;33m\u001b[0m\u001b[1;33m\u001b[0m\u001b[0m\n\u001b[0;32m    421\u001b[0m \u001b[1;33m\u001b[0m\u001b[0m\n",
            "\u001b[1;32m~\\anaconda3\\lib\\site-packages\\category_encoders\\target_encoder.py\u001b[0m in \u001b[0;36mtransform\u001b[1;34m(self, X, y, override_return_df)\u001b[0m\n\u001b[0;32m    209\u001b[0m \u001b[1;33m\u001b[0m\u001b[0m\n\u001b[0;32m    210\u001b[0m         \u001b[1;32mif\u001b[0m \u001b[0mself\u001b[0m\u001b[1;33m.\u001b[0m\u001b[0m_dim\u001b[0m \u001b[1;32mis\u001b[0m \u001b[1;32mNone\u001b[0m\u001b[1;33m:\u001b[0m\u001b[1;33m\u001b[0m\u001b[1;33m\u001b[0m\u001b[0m\n\u001b[1;32m--> 211\u001b[1;33m             \u001b[1;32mraise\u001b[0m \u001b[0mValueError\u001b[0m\u001b[1;33m(\u001b[0m\u001b[1;34m'Must train encoder before it can be used to transform data.'\u001b[0m\u001b[1;33m)\u001b[0m\u001b[1;33m\u001b[0m\u001b[1;33m\u001b[0m\u001b[0m\n\u001b[0m\u001b[0;32m    212\u001b[0m \u001b[1;33m\u001b[0m\u001b[0m\n\u001b[0;32m    213\u001b[0m         \u001b[1;31m# unite the input into pandas types\u001b[0m\u001b[1;33m\u001b[0m\u001b[1;33m\u001b[0m\u001b[1;33m\u001b[0m\u001b[0m\n",
            "\u001b[1;31mValueError\u001b[0m: Must train encoder before it can be used to transform data."
          ]
        }
      ],
      "source": [
        "from pdpbox.pdp import pdp_isolate, pdp_plot\n",
        "from pdpbox.pdp import pdp_interact, pdp_interact_plot\n",
        "feature = 'Year'\n",
        "\n",
        "isolated = pdp_isolate(\n",
        "    model= pipeline,\n",
        "    dataset=X_test,\n",
        "    model_features=X_test.columns,\n",
        "    feature=feature\n",
        ")"
      ]
    },
    {
      "cell_type": "code",
      "execution_count": 188,
      "metadata": {},
      "outputs": [
        {
          "output_type": "error",
          "ename": "NameError",
          "evalue": "name 'isolated' is not defined",
          "traceback": [
            "\u001b[1;31m---------------------------------------------------------------------------\u001b[0m",
            "\u001b[1;31mNameError\u001b[0m                                 Traceback (most recent call last)",
            "\u001b[1;32m<ipython-input-188-a3364c31d61f>\u001b[0m in \u001b[0;36m<module>\u001b[1;34m\u001b[0m\n\u001b[1;32m----> 1\u001b[1;33m \u001b[0mpdp_plot\u001b[0m\u001b[1;33m(\u001b[0m\u001b[0misolated\u001b[0m\u001b[1;33m,\u001b[0m \u001b[0mfeature_name\u001b[0m\u001b[1;33m=\u001b[0m\u001b[0mfeature\u001b[0m\u001b[1;33m)\u001b[0m\u001b[1;33m\u001b[0m\u001b[1;33m\u001b[0m\u001b[0m\n\u001b[0m",
            "\u001b[1;31mNameError\u001b[0m: name 'isolated' is not defined"
          ]
        }
      ],
      "source": [
        "pdp_plot(isolated, feature_name=feature)"
      ]
    },
    {
      "cell_type": "code",
      "execution_count": 189,
      "metadata": {},
      "outputs": [
        {
          "output_type": "error",
          "ename": "ValueError",
          "evalue": "Must train encoder before it can be used to transform data.",
          "traceback": [
            "\u001b[1;31m---------------------------------------------------------------------------\u001b[0m",
            "\u001b[1;31mValueError\u001b[0m                                Traceback (most recent call last)",
            "\u001b[1;32m<ipython-input-189-eba0056c801b>\u001b[0m in \u001b[0;36m<module>\u001b[1;34m\u001b[0m\n\u001b[0;32m      5\u001b[0m     \u001b[0mdataset\u001b[0m\u001b[1;33m=\u001b[0m\u001b[0mX_test\u001b[0m\u001b[1;33m,\u001b[0m\u001b[1;33m\u001b[0m\u001b[1;33m\u001b[0m\u001b[0m\n\u001b[0;32m      6\u001b[0m     \u001b[0mmodel_features\u001b[0m\u001b[1;33m=\u001b[0m\u001b[0mX_test\u001b[0m\u001b[1;33m.\u001b[0m\u001b[0mcolumns\u001b[0m\u001b[1;33m,\u001b[0m\u001b[1;33m\u001b[0m\u001b[1;33m\u001b[0m\u001b[0m\n\u001b[1;32m----> 7\u001b[1;33m     \u001b[0mfeatures\u001b[0m\u001b[1;33m=\u001b[0m\u001b[0mfeatures\u001b[0m\u001b[1;33m\u001b[0m\u001b[1;33m\u001b[0m\u001b[0m\n\u001b[0m\u001b[0;32m      8\u001b[0m )\n\u001b[0;32m      9\u001b[0m \u001b[1;33m\u001b[0m\u001b[0m\n",
            "\u001b[1;32m~\\anaconda3\\lib\\site-packages\\pdpbox\\pdp.py\u001b[0m in \u001b[0;36mpdp_interact\u001b[1;34m(model, dataset, model_features, features, num_grid_points, grid_types, percentile_ranges, grid_ranges, cust_grid_points, memory_limit, n_jobs, predict_kwds, data_transformer)\u001b[0m\n\u001b[0;32m    556\u001b[0m             \u001b[0mnum_grid_points\u001b[0m\u001b[1;33m=\u001b[0m\u001b[0mnum_grid_points\u001b[0m\u001b[1;33m[\u001b[0m\u001b[0midx\u001b[0m\u001b[1;33m]\u001b[0m\u001b[1;33m,\u001b[0m \u001b[0mgrid_type\u001b[0m\u001b[1;33m=\u001b[0m\u001b[0mgrid_types\u001b[0m\u001b[1;33m[\u001b[0m\u001b[0midx\u001b[0m\u001b[1;33m]\u001b[0m\u001b[1;33m,\u001b[0m \u001b[0mpercentile_range\u001b[0m\u001b[1;33m=\u001b[0m\u001b[0mpercentile_ranges\u001b[0m\u001b[1;33m[\u001b[0m\u001b[0midx\u001b[0m\u001b[1;33m]\u001b[0m\u001b[1;33m,\u001b[0m\u001b[1;33m\u001b[0m\u001b[1;33m\u001b[0m\u001b[0m\n\u001b[0;32m    557\u001b[0m             \u001b[0mgrid_range\u001b[0m\u001b[1;33m=\u001b[0m\u001b[0mgrid_ranges\u001b[0m\u001b[1;33m[\u001b[0m\u001b[0midx\u001b[0m\u001b[1;33m]\u001b[0m\u001b[1;33m,\u001b[0m \u001b[0mcust_grid_points\u001b[0m\u001b[1;33m=\u001b[0m\u001b[0mcust_grid_points\u001b[0m\u001b[1;33m[\u001b[0m\u001b[0midx\u001b[0m\u001b[1;33m]\u001b[0m\u001b[1;33m,\u001b[0m \u001b[0mmemory_limit\u001b[0m\u001b[1;33m=\u001b[0m\u001b[0mmemory_limit\u001b[0m\u001b[1;33m,\u001b[0m\u001b[1;33m\u001b[0m\u001b[1;33m\u001b[0m\u001b[0m\n\u001b[1;32m--> 558\u001b[1;33m             n_jobs=n_jobs, predict_kwds=predict_kwds, data_transformer=data_transformer)\n\u001b[0m\u001b[0;32m    559\u001b[0m         \u001b[0mpdp_isolate_outs\u001b[0m\u001b[1;33m.\u001b[0m\u001b[0mappend\u001b[0m\u001b[1;33m(\u001b[0m\u001b[0mpdp_isolate_out\u001b[0m\u001b[1;33m)\u001b[0m\u001b[1;33m\u001b[0m\u001b[1;33m\u001b[0m\u001b[0m\n\u001b[0;32m    560\u001b[0m \u001b[1;33m\u001b[0m\u001b[0m\n",
            "\u001b[1;32m~\\anaconda3\\lib\\site-packages\\pdpbox\\pdp.py\u001b[0m in \u001b[0;36mpdp_isolate\u001b[1;34m(model, dataset, model_features, feature, num_grid_points, grid_type, percentile_range, grid_range, cust_grid_points, memory_limit, n_jobs, predict_kwds, data_transformer)\u001b[0m\n\u001b[0;32m    157\u001b[0m             \u001b[0mfeature_grid\u001b[0m\u001b[1;33m,\u001b[0m \u001b[0mdata\u001b[0m\u001b[1;33m=\u001b[0m\u001b[0m_dataset\u001b[0m\u001b[1;33m,\u001b[0m \u001b[0mmodel\u001b[0m\u001b[1;33m=\u001b[0m\u001b[0mmodel\u001b[0m\u001b[1;33m,\u001b[0m \u001b[0mmodel_features\u001b[0m\u001b[1;33m=\u001b[0m\u001b[0mmodel_features\u001b[0m\u001b[1;33m,\u001b[0m \u001b[0mn_classes\u001b[0m\u001b[1;33m=\u001b[0m\u001b[0mn_classes\u001b[0m\u001b[1;33m,\u001b[0m\u001b[1;33m\u001b[0m\u001b[1;33m\u001b[0m\u001b[0m\n\u001b[0;32m    158\u001b[0m             feature=feature, feature_type=feature_type, predict_kwds=predict_kwds, data_transformer=data_transformer)\n\u001b[1;32m--> 159\u001b[1;33m         for feature_grid in feature_grids)\n\u001b[0m\u001b[0;32m    160\u001b[0m \u001b[1;33m\u001b[0m\u001b[0m\n\u001b[0;32m    161\u001b[0m     \u001b[1;32mif\u001b[0m \u001b[0mn_classes\u001b[0m \u001b[1;33m>\u001b[0m \u001b[1;36m2\u001b[0m\u001b[1;33m:\u001b[0m\u001b[1;33m\u001b[0m\u001b[1;33m\u001b[0m\u001b[0m\n",
            "\u001b[1;32m~\\anaconda3\\lib\\site-packages\\joblib\\parallel.py\u001b[0m in \u001b[0;36m__call__\u001b[1;34m(self, iterable)\u001b[0m\n\u001b[0;32m   1002\u001b[0m             \u001b[1;31m# remaining jobs.\u001b[0m\u001b[1;33m\u001b[0m\u001b[1;33m\u001b[0m\u001b[1;33m\u001b[0m\u001b[0m\n\u001b[0;32m   1003\u001b[0m             \u001b[0mself\u001b[0m\u001b[1;33m.\u001b[0m\u001b[0m_iterating\u001b[0m \u001b[1;33m=\u001b[0m \u001b[1;32mFalse\u001b[0m\u001b[1;33m\u001b[0m\u001b[1;33m\u001b[0m\u001b[0m\n\u001b[1;32m-> 1004\u001b[1;33m             \u001b[1;32mif\u001b[0m \u001b[0mself\u001b[0m\u001b[1;33m.\u001b[0m\u001b[0mdispatch_one_batch\u001b[0m\u001b[1;33m(\u001b[0m\u001b[0miterator\u001b[0m\u001b[1;33m)\u001b[0m\u001b[1;33m:\u001b[0m\u001b[1;33m\u001b[0m\u001b[1;33m\u001b[0m\u001b[0m\n\u001b[0m\u001b[0;32m   1005\u001b[0m                 \u001b[0mself\u001b[0m\u001b[1;33m.\u001b[0m\u001b[0m_iterating\u001b[0m \u001b[1;33m=\u001b[0m \u001b[0mself\u001b[0m\u001b[1;33m.\u001b[0m\u001b[0m_original_iterator\u001b[0m \u001b[1;32mis\u001b[0m \u001b[1;32mnot\u001b[0m \u001b[1;32mNone\u001b[0m\u001b[1;33m\u001b[0m\u001b[1;33m\u001b[0m\u001b[0m\n\u001b[0;32m   1006\u001b[0m \u001b[1;33m\u001b[0m\u001b[0m\n",
            "\u001b[1;32m~\\anaconda3\\lib\\site-packages\\joblib\\parallel.py\u001b[0m in \u001b[0;36mdispatch_one_batch\u001b[1;34m(self, iterator)\u001b[0m\n\u001b[0;32m    833\u001b[0m                 \u001b[1;32mreturn\u001b[0m \u001b[1;32mFalse\u001b[0m\u001b[1;33m\u001b[0m\u001b[1;33m\u001b[0m\u001b[0m\n\u001b[0;32m    834\u001b[0m             \u001b[1;32melse\u001b[0m\u001b[1;33m:\u001b[0m\u001b[1;33m\u001b[0m\u001b[1;33m\u001b[0m\u001b[0m\n\u001b[1;32m--> 835\u001b[1;33m                 \u001b[0mself\u001b[0m\u001b[1;33m.\u001b[0m\u001b[0m_dispatch\u001b[0m\u001b[1;33m(\u001b[0m\u001b[0mtasks\u001b[0m\u001b[1;33m)\u001b[0m\u001b[1;33m\u001b[0m\u001b[1;33m\u001b[0m\u001b[0m\n\u001b[0m\u001b[0;32m    836\u001b[0m                 \u001b[1;32mreturn\u001b[0m \u001b[1;32mTrue\u001b[0m\u001b[1;33m\u001b[0m\u001b[1;33m\u001b[0m\u001b[0m\n\u001b[0;32m    837\u001b[0m \u001b[1;33m\u001b[0m\u001b[0m\n",
            "\u001b[1;32m~\\anaconda3\\lib\\site-packages\\joblib\\parallel.py\u001b[0m in \u001b[0;36m_dispatch\u001b[1;34m(self, batch)\u001b[0m\n\u001b[0;32m    752\u001b[0m         \u001b[1;32mwith\u001b[0m \u001b[0mself\u001b[0m\u001b[1;33m.\u001b[0m\u001b[0m_lock\u001b[0m\u001b[1;33m:\u001b[0m\u001b[1;33m\u001b[0m\u001b[1;33m\u001b[0m\u001b[0m\n\u001b[0;32m    753\u001b[0m             \u001b[0mjob_idx\u001b[0m \u001b[1;33m=\u001b[0m \u001b[0mlen\u001b[0m\u001b[1;33m(\u001b[0m\u001b[0mself\u001b[0m\u001b[1;33m.\u001b[0m\u001b[0m_jobs\u001b[0m\u001b[1;33m)\u001b[0m\u001b[1;33m\u001b[0m\u001b[1;33m\u001b[0m\u001b[0m\n\u001b[1;32m--> 754\u001b[1;33m             \u001b[0mjob\u001b[0m \u001b[1;33m=\u001b[0m \u001b[0mself\u001b[0m\u001b[1;33m.\u001b[0m\u001b[0m_backend\u001b[0m\u001b[1;33m.\u001b[0m\u001b[0mapply_async\u001b[0m\u001b[1;33m(\u001b[0m\u001b[0mbatch\u001b[0m\u001b[1;33m,\u001b[0m \u001b[0mcallback\u001b[0m\u001b[1;33m=\u001b[0m\u001b[0mcb\u001b[0m\u001b[1;33m)\u001b[0m\u001b[1;33m\u001b[0m\u001b[1;33m\u001b[0m\u001b[0m\n\u001b[0m\u001b[0;32m    755\u001b[0m             \u001b[1;31m# A job can complete so quickly than its callback is\u001b[0m\u001b[1;33m\u001b[0m\u001b[1;33m\u001b[0m\u001b[1;33m\u001b[0m\u001b[0m\n\u001b[0;32m    756\u001b[0m             \u001b[1;31m# called before we get here, causing self._jobs to\u001b[0m\u001b[1;33m\u001b[0m\u001b[1;33m\u001b[0m\u001b[1;33m\u001b[0m\u001b[0m\n",
            "\u001b[1;32m~\\anaconda3\\lib\\site-packages\\joblib\\_parallel_backends.py\u001b[0m in \u001b[0;36mapply_async\u001b[1;34m(self, func, callback)\u001b[0m\n\u001b[0;32m    207\u001b[0m     \u001b[1;32mdef\u001b[0m \u001b[0mapply_async\u001b[0m\u001b[1;33m(\u001b[0m\u001b[0mself\u001b[0m\u001b[1;33m,\u001b[0m \u001b[0mfunc\u001b[0m\u001b[1;33m,\u001b[0m \u001b[0mcallback\u001b[0m\u001b[1;33m=\u001b[0m\u001b[1;32mNone\u001b[0m\u001b[1;33m)\u001b[0m\u001b[1;33m:\u001b[0m\u001b[1;33m\u001b[0m\u001b[1;33m\u001b[0m\u001b[0m\n\u001b[0;32m    208\u001b[0m         \u001b[1;34m\"\"\"Schedule a func to be run\"\"\"\u001b[0m\u001b[1;33m\u001b[0m\u001b[1;33m\u001b[0m\u001b[0m\n\u001b[1;32m--> 209\u001b[1;33m         \u001b[0mresult\u001b[0m \u001b[1;33m=\u001b[0m \u001b[0mImmediateResult\u001b[0m\u001b[1;33m(\u001b[0m\u001b[0mfunc\u001b[0m\u001b[1;33m)\u001b[0m\u001b[1;33m\u001b[0m\u001b[1;33m\u001b[0m\u001b[0m\n\u001b[0m\u001b[0;32m    210\u001b[0m         \u001b[1;32mif\u001b[0m \u001b[0mcallback\u001b[0m\u001b[1;33m:\u001b[0m\u001b[1;33m\u001b[0m\u001b[1;33m\u001b[0m\u001b[0m\n\u001b[0;32m    211\u001b[0m             \u001b[0mcallback\u001b[0m\u001b[1;33m(\u001b[0m\u001b[0mresult\u001b[0m\u001b[1;33m)\u001b[0m\u001b[1;33m\u001b[0m\u001b[1;33m\u001b[0m\u001b[0m\n",
            "\u001b[1;32m~\\anaconda3\\lib\\site-packages\\joblib\\_parallel_backends.py\u001b[0m in \u001b[0;36m__init__\u001b[1;34m(self, batch)\u001b[0m\n\u001b[0;32m    588\u001b[0m         \u001b[1;31m# Don't delay the application, to avoid keeping the input\u001b[0m\u001b[1;33m\u001b[0m\u001b[1;33m\u001b[0m\u001b[1;33m\u001b[0m\u001b[0m\n\u001b[0;32m    589\u001b[0m         \u001b[1;31m# arguments in memory\u001b[0m\u001b[1;33m\u001b[0m\u001b[1;33m\u001b[0m\u001b[1;33m\u001b[0m\u001b[0m\n\u001b[1;32m--> 590\u001b[1;33m         \u001b[0mself\u001b[0m\u001b[1;33m.\u001b[0m\u001b[0mresults\u001b[0m \u001b[1;33m=\u001b[0m \u001b[0mbatch\u001b[0m\u001b[1;33m(\u001b[0m\u001b[1;33m)\u001b[0m\u001b[1;33m\u001b[0m\u001b[1;33m\u001b[0m\u001b[0m\n\u001b[0m\u001b[0;32m    591\u001b[0m \u001b[1;33m\u001b[0m\u001b[0m\n\u001b[0;32m    592\u001b[0m     \u001b[1;32mdef\u001b[0m \u001b[0mget\u001b[0m\u001b[1;33m(\u001b[0m\u001b[0mself\u001b[0m\u001b[1;33m)\u001b[0m\u001b[1;33m:\u001b[0m\u001b[1;33m\u001b[0m\u001b[1;33m\u001b[0m\u001b[0m\n",
            "\u001b[1;32m~\\anaconda3\\lib\\site-packages\\joblib\\parallel.py\u001b[0m in \u001b[0;36m__call__\u001b[1;34m(self)\u001b[0m\n\u001b[0;32m    254\u001b[0m         \u001b[1;32mwith\u001b[0m \u001b[0mparallel_backend\u001b[0m\u001b[1;33m(\u001b[0m\u001b[0mself\u001b[0m\u001b[1;33m.\u001b[0m\u001b[0m_backend\u001b[0m\u001b[1;33m,\u001b[0m \u001b[0mn_jobs\u001b[0m\u001b[1;33m=\u001b[0m\u001b[0mself\u001b[0m\u001b[1;33m.\u001b[0m\u001b[0m_n_jobs\u001b[0m\u001b[1;33m)\u001b[0m\u001b[1;33m:\u001b[0m\u001b[1;33m\u001b[0m\u001b[1;33m\u001b[0m\u001b[0m\n\u001b[0;32m    255\u001b[0m             return [func(*args, **kwargs)\n\u001b[1;32m--> 256\u001b[1;33m                     for func, args, kwargs in self.items]\n\u001b[0m\u001b[0;32m    257\u001b[0m \u001b[1;33m\u001b[0m\u001b[0m\n\u001b[0;32m    258\u001b[0m     \u001b[1;32mdef\u001b[0m \u001b[0m__len__\u001b[0m\u001b[1;33m(\u001b[0m\u001b[0mself\u001b[0m\u001b[1;33m)\u001b[0m\u001b[1;33m:\u001b[0m\u001b[1;33m\u001b[0m\u001b[1;33m\u001b[0m\u001b[0m\n",
            "\u001b[1;32m~\\anaconda3\\lib\\site-packages\\joblib\\parallel.py\u001b[0m in \u001b[0;36m<listcomp>\u001b[1;34m(.0)\u001b[0m\n\u001b[0;32m    254\u001b[0m         \u001b[1;32mwith\u001b[0m \u001b[0mparallel_backend\u001b[0m\u001b[1;33m(\u001b[0m\u001b[0mself\u001b[0m\u001b[1;33m.\u001b[0m\u001b[0m_backend\u001b[0m\u001b[1;33m,\u001b[0m \u001b[0mn_jobs\u001b[0m\u001b[1;33m=\u001b[0m\u001b[0mself\u001b[0m\u001b[1;33m.\u001b[0m\u001b[0m_n_jobs\u001b[0m\u001b[1;33m)\u001b[0m\u001b[1;33m:\u001b[0m\u001b[1;33m\u001b[0m\u001b[1;33m\u001b[0m\u001b[0m\n\u001b[0;32m    255\u001b[0m             return [func(*args, **kwargs)\n\u001b[1;32m--> 256\u001b[1;33m                     for func, args, kwargs in self.items]\n\u001b[0m\u001b[0;32m    257\u001b[0m \u001b[1;33m\u001b[0m\u001b[0m\n\u001b[0;32m    258\u001b[0m     \u001b[1;32mdef\u001b[0m \u001b[0m__len__\u001b[0m\u001b[1;33m(\u001b[0m\u001b[0mself\u001b[0m\u001b[1;33m)\u001b[0m\u001b[1;33m:\u001b[0m\u001b[1;33m\u001b[0m\u001b[1;33m\u001b[0m\u001b[0m\n",
            "\u001b[1;32m~\\anaconda3\\lib\\site-packages\\pdpbox\\pdp_calc_utils.py\u001b[0m in \u001b[0;36m_calc_ice_lines\u001b[1;34m(feature_grid, data, model, model_features, n_classes, feature, feature_type, predict_kwds, data_transformer, unit_test)\u001b[0m\n\u001b[0;32m     42\u001b[0m \u001b[1;33m\u001b[0m\u001b[0m\n\u001b[0;32m     43\u001b[0m     \u001b[1;31m# get predictions for this chunk\u001b[0m\u001b[1;33m\u001b[0m\u001b[1;33m\u001b[0m\u001b[1;33m\u001b[0m\u001b[0m\n\u001b[1;32m---> 44\u001b[1;33m     \u001b[0mpreds\u001b[0m \u001b[1;33m=\u001b[0m \u001b[0mpredict\u001b[0m\u001b[1;33m(\u001b[0m\u001b[0m_data\u001b[0m\u001b[1;33m[\u001b[0m\u001b[0mmodel_features\u001b[0m\u001b[1;33m]\u001b[0m\u001b[1;33m,\u001b[0m \u001b[1;33m**\u001b[0m\u001b[0mpredict_kwds\u001b[0m\u001b[1;33m)\u001b[0m\u001b[1;33m\u001b[0m\u001b[1;33m\u001b[0m\u001b[0m\n\u001b[0m\u001b[0;32m     45\u001b[0m \u001b[1;33m\u001b[0m\u001b[0m\n\u001b[0;32m     46\u001b[0m     \u001b[1;32mif\u001b[0m \u001b[0mn_classes\u001b[0m \u001b[1;33m==\u001b[0m \u001b[1;36m0\u001b[0m\u001b[1;33m:\u001b[0m\u001b[1;33m\u001b[0m\u001b[1;33m\u001b[0m\u001b[0m\n",
            "\u001b[1;32m~\\anaconda3\\lib\\site-packages\\sklearn\\utils\\metaestimators.py\u001b[0m in \u001b[0;36m<lambda>\u001b[1;34m(*args, **kwargs)\u001b[0m\n\u001b[0;32m    114\u001b[0m \u001b[1;33m\u001b[0m\u001b[0m\n\u001b[0;32m    115\u001b[0m         \u001b[1;31m# lambda, but not partial, allows help() to work with update_wrapper\u001b[0m\u001b[1;33m\u001b[0m\u001b[1;33m\u001b[0m\u001b[1;33m\u001b[0m\u001b[0m\n\u001b[1;32m--> 116\u001b[1;33m         \u001b[0mout\u001b[0m \u001b[1;33m=\u001b[0m \u001b[1;32mlambda\u001b[0m \u001b[1;33m*\u001b[0m\u001b[0margs\u001b[0m\u001b[1;33m,\u001b[0m \u001b[1;33m**\u001b[0m\u001b[0mkwargs\u001b[0m\u001b[1;33m:\u001b[0m \u001b[0mself\u001b[0m\u001b[1;33m.\u001b[0m\u001b[0mfn\u001b[0m\u001b[1;33m(\u001b[0m\u001b[0mobj\u001b[0m\u001b[1;33m,\u001b[0m \u001b[1;33m*\u001b[0m\u001b[0margs\u001b[0m\u001b[1;33m,\u001b[0m \u001b[1;33m**\u001b[0m\u001b[0mkwargs\u001b[0m\u001b[1;33m)\u001b[0m\u001b[1;33m\u001b[0m\u001b[1;33m\u001b[0m\u001b[0m\n\u001b[0m\u001b[0;32m    117\u001b[0m         \u001b[1;31m# update the docstring of the returned function\u001b[0m\u001b[1;33m\u001b[0m\u001b[1;33m\u001b[0m\u001b[1;33m\u001b[0m\u001b[0m\n\u001b[0;32m    118\u001b[0m         \u001b[0mupdate_wrapper\u001b[0m\u001b[1;33m(\u001b[0m\u001b[0mout\u001b[0m\u001b[1;33m,\u001b[0m \u001b[0mself\u001b[0m\u001b[1;33m.\u001b[0m\u001b[0mfn\u001b[0m\u001b[1;33m)\u001b[0m\u001b[1;33m\u001b[0m\u001b[1;33m\u001b[0m\u001b[0m\n",
            "\u001b[1;32m~\\anaconda3\\lib\\site-packages\\sklearn\\pipeline.py\u001b[0m in \u001b[0;36mpredict\u001b[1;34m(self, X, **predict_params)\u001b[0m\n\u001b[0;32m    417\u001b[0m         \u001b[0mXt\u001b[0m \u001b[1;33m=\u001b[0m \u001b[0mX\u001b[0m\u001b[1;33m\u001b[0m\u001b[1;33m\u001b[0m\u001b[0m\n\u001b[0;32m    418\u001b[0m         \u001b[1;32mfor\u001b[0m \u001b[0m_\u001b[0m\u001b[1;33m,\u001b[0m \u001b[0mname\u001b[0m\u001b[1;33m,\u001b[0m \u001b[0mtransform\u001b[0m \u001b[1;32min\u001b[0m \u001b[0mself\u001b[0m\u001b[1;33m.\u001b[0m\u001b[0m_iter\u001b[0m\u001b[1;33m(\u001b[0m\u001b[0mwith_final\u001b[0m\u001b[1;33m=\u001b[0m\u001b[1;32mFalse\u001b[0m\u001b[1;33m)\u001b[0m\u001b[1;33m:\u001b[0m\u001b[1;33m\u001b[0m\u001b[1;33m\u001b[0m\u001b[0m\n\u001b[1;32m--> 419\u001b[1;33m             \u001b[0mXt\u001b[0m \u001b[1;33m=\u001b[0m \u001b[0mtransform\u001b[0m\u001b[1;33m.\u001b[0m\u001b[0mtransform\u001b[0m\u001b[1;33m(\u001b[0m\u001b[0mXt\u001b[0m\u001b[1;33m)\u001b[0m\u001b[1;33m\u001b[0m\u001b[1;33m\u001b[0m\u001b[0m\n\u001b[0m\u001b[0;32m    420\u001b[0m         \u001b[1;32mreturn\u001b[0m \u001b[0mself\u001b[0m\u001b[1;33m.\u001b[0m\u001b[0msteps\u001b[0m\u001b[1;33m[\u001b[0m\u001b[1;33m-\u001b[0m\u001b[1;36m1\u001b[0m\u001b[1;33m]\u001b[0m\u001b[1;33m[\u001b[0m\u001b[1;33m-\u001b[0m\u001b[1;36m1\u001b[0m\u001b[1;33m]\u001b[0m\u001b[1;33m.\u001b[0m\u001b[0mpredict\u001b[0m\u001b[1;33m(\u001b[0m\u001b[0mXt\u001b[0m\u001b[1;33m,\u001b[0m \u001b[1;33m**\u001b[0m\u001b[0mpredict_params\u001b[0m\u001b[1;33m)\u001b[0m\u001b[1;33m\u001b[0m\u001b[1;33m\u001b[0m\u001b[0m\n\u001b[0;32m    421\u001b[0m \u001b[1;33m\u001b[0m\u001b[0m\n",
            "\u001b[1;32m~\\anaconda3\\lib\\site-packages\\category_encoders\\target_encoder.py\u001b[0m in \u001b[0;36mtransform\u001b[1;34m(self, X, y, override_return_df)\u001b[0m\n\u001b[0;32m    209\u001b[0m \u001b[1;33m\u001b[0m\u001b[0m\n\u001b[0;32m    210\u001b[0m         \u001b[1;32mif\u001b[0m \u001b[0mself\u001b[0m\u001b[1;33m.\u001b[0m\u001b[0m_dim\u001b[0m \u001b[1;32mis\u001b[0m \u001b[1;32mNone\u001b[0m\u001b[1;33m:\u001b[0m\u001b[1;33m\u001b[0m\u001b[1;33m\u001b[0m\u001b[0m\n\u001b[1;32m--> 211\u001b[1;33m             \u001b[1;32mraise\u001b[0m \u001b[0mValueError\u001b[0m\u001b[1;33m(\u001b[0m\u001b[1;34m'Must train encoder before it can be used to transform data.'\u001b[0m\u001b[1;33m)\u001b[0m\u001b[1;33m\u001b[0m\u001b[1;33m\u001b[0m\u001b[0m\n\u001b[0m\u001b[0;32m    212\u001b[0m \u001b[1;33m\u001b[0m\u001b[0m\n\u001b[0;32m    213\u001b[0m         \u001b[1;31m# unite the input into pandas types\u001b[0m\u001b[1;33m\u001b[0m\u001b[1;33m\u001b[0m\u001b[1;33m\u001b[0m\u001b[0m\n",
            "\u001b[1;31mValueError\u001b[0m: Must train encoder before it can be used to transform data."
          ]
        }
      ],
      "source": [
        "features = ['milage', 'Year']\n",
        "\n",
        "interaction = pdp_interact(\n",
        "    model=pipeline, \n",
        "    dataset=X_test, \n",
        "    model_features=X_test.columns, \n",
        "    features=features\n",
        ")\n",
        "\n",
        "pdp_interact_plot(interaction, plot_type='grid', feature_names=features, ncols= \"interger\", figsize= [12, 9]);"
      ]
    },
    {
      "cell_type": "code",
      "execution_count": 190,
      "metadata": {},
      "outputs": [
        {
          "output_type": "error",
          "ename": "TypeError",
          "evalue": "'function' object is not iterable",
          "traceback": [
            "\u001b[1;31m---------------------------------------------------------------------------\u001b[0m",
            "\u001b[1;31mTypeError\u001b[0m                                 Traceback (most recent call last)",
            "\u001b[1;32m<ipython-input-190-2aa3b161acb6>\u001b[0m in \u001b[0;36m<module>\u001b[1;34m\u001b[0m\n\u001b[1;32m----> 1\u001b[1;33m \u001b[0mdict\u001b[0m\u001b[1;33m(\u001b[0m\u001b[0mpdp_interact\u001b[0m\u001b[1;33m)\u001b[0m\u001b[1;33m\u001b[0m\u001b[1;33m\u001b[0m\u001b[0m\n\u001b[0m",
            "\u001b[1;31mTypeError\u001b[0m: 'function' object is not iterable"
          ]
        }
      ],
      "source": [
        "dict(pdp_interact)"
      ]
    },
    {
      "cell_type": "code",
      "execution_count": 191,
      "metadata": {},
      "outputs": [
        {
          "output_type": "error",
          "ename": "NameError",
          "evalue": "name 'row' is not defined",
          "traceback": [
            "\u001b[1;31m---------------------------------------------------------------------------\u001b[0m",
            "\u001b[1;31mNameError\u001b[0m                                 Traceback (most recent call last)",
            "\u001b[1;32m<ipython-input-191-ba8f01b51614>\u001b[0m in \u001b[0;36m<module>\u001b[1;34m\u001b[0m\n\u001b[0;32m      1\u001b[0m \u001b[1;32mimport\u001b[0m \u001b[0mshap\u001b[0m\u001b[1;33m\u001b[0m\u001b[1;33m\u001b[0m\u001b[0m\n\u001b[0;32m      2\u001b[0m \u001b[1;33m\u001b[0m\u001b[0m\n\u001b[1;32m----> 3\u001b[1;33m \u001b[0mrow\u001b[0m\u001b[1;33m\u001b[0m\u001b[1;33m\u001b[0m\u001b[0m\n\u001b[0m\u001b[0;32m      4\u001b[0m \u001b[0mexplainer\u001b[0m \u001b[1;33m=\u001b[0m \u001b[0mshap\u001b[0m\u001b[1;33m.\u001b[0m\u001b[0mTreeExplainer\u001b[0m\u001b[1;33m(\u001b[0m\u001b[0mmodel\u001b[0m\u001b[1;33m)\u001b[0m\u001b[1;33m\u001b[0m\u001b[1;33m\u001b[0m\u001b[0m\n\u001b[0;32m      5\u001b[0m \u001b[0mrow_processed\u001b[0m \u001b[1;33m=\u001b[0m \u001b[0mprocessor\u001b[0m\u001b[1;33m.\u001b[0m\u001b[0mtransform\u001b[0m\u001b[1;33m(\u001b[0m\u001b[0mrow\u001b[0m\u001b[1;33m)\u001b[0m\u001b[1;33m\u001b[0m\u001b[1;33m\u001b[0m\u001b[0m\n",
            "\u001b[1;31mNameError\u001b[0m: name 'row' is not defined"
          ]
        }
      ],
      "source": [
        "import shap\n",
        "\n",
        "row\n",
        "explainer = shap.TreeExplainer(model)\n",
        "row_processed = processor.transform(row)\n",
        "shap_values = explainer.shap_values(row_processed)\n",
        "\n",
        "shap.initjs()\n",
        "shap.force_plot(\n",
        "    base_value=explainer.expected_value, \n",
        "    shap_values=shap_values, \n",
        "    features=row, \n",
        "    link='logit' # For classification, this shows predicted probabilities\n",
        ")"
      ]
    }
  ],
  "metadata": {
    "colab": {
      "name": "Porsche_911.ipynb",
      "provenance": [],
      "authorship_tag": "ABX9TyN6bSkRV5yK+S2A7e2MZXF+",
      "include_colab_link": true
    },
    "kernelspec": {
      "name": "python3",
      "display_name": "Python 3"
    }
  },
  "nbformat": 4,
  "nbformat_minor": 0
}
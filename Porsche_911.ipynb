{
  "cells": [
    {
      "cell_type": "code",
      "metadata": {
        "id": "0TXog-C7YI5y",
        "colab_type": "code",
        "colab": {}
      },
      "source": [
        "import pandas as pd\n",
        "import numpy as np\n"
      ],
      "execution_count": 1,
      "outputs": []
    },
    {
      "cell_type": "code",
      "metadata": {
        "id": "XTGC-WwtW-Dy",
        "colab_type": "code",
        "colab": {}
      },
      "source": [
        "df = pd.read_csv('https://raw.githubusercontent.com/popkdodge/Unit-2-Build/master/Carrera_911_1_2.csv',index_col=[0])"
      ],
      "execution_count": 2,
      "outputs": []
    },
    {
      "cell_type": "code",
      "metadata": {
        "id": "pFR_iXuTYH5Q",
        "colab_type": "code",
        "outputId": "9dfbf1be-d9d3-475c-e0f2-14442781629a",
        "colab": {
          "base_uri": "https://localhost:8080/",
          "height": 406
        }
      },
      "source": [
        "df"
      ],
      "execution_count": 3,
      "outputs": [
        {
          "output_type": "execute_result",
          "data": {
            "text/plain": "              condition  milage     Price  Year    Brand  Model Model_Vers  \\\n0                  Used   47649   48950.0  2012  Porsche    911    Carrera   \n1                  Used   19020   67988.0  2015  Porsche    911    Carrera   \n3                  Used   56436   51990.0  2012  Porsche    911    Carrera   \n4                  Used   85000   34900.0  2009  Porsche    911    Carrera   \n5                  Used   15808   96995.0  2018  Porsche    911    Carrera   \n...                 ...     ...       ...   ...      ...    ...        ...   \n1493               Used   19826   99950.0  2017  Porsche    911    Carrera   \n1494               Used   15710   89995.0  2016  Porsche    911    Carrera   \n1495               Used     502   93900.0  2018  Porsche    911    Carrera   \n1496               Used    5182   81995.0  2016  Porsche    911    Carrera   \n1501  Porsche Certified   10074  112000.0  2018  Porsche    911    Carrera   \n\n       S_RS  Cabriolet  Color Transmission  \n0     Black    Edition  Black    Automatic  \n1      Base    Hardtop  Black    Automatic  \n3         S    Hardtop  Black    Automatic  \n4         S  Cabriolet  Black    Automatic  \n5         S    Hardtop  Black    Automatic  \n...     ...        ...    ...          ...  \n1493     4S    Hardtop  White       Manual  \n1494     4S    Hardtop  White       Manual  \n1495      T    Hardtop  White       Manual  \n1496      S    Hardtop  White       Manual  \n1501     4S    Hardtop  White       Manual  \n\n[810 rows x 11 columns]",
            "text/html": "<div>\n<style scoped>\n    .dataframe tbody tr th:only-of-type {\n        vertical-align: middle;\n    }\n\n    .dataframe tbody tr th {\n        vertical-align: top;\n    }\n\n    .dataframe thead th {\n        text-align: right;\n    }\n</style>\n<table border=\"1\" class=\"dataframe\">\n  <thead>\n    <tr style=\"text-align: right;\">\n      <th></th>\n      <th>condition</th>\n      <th>milage</th>\n      <th>Price</th>\n      <th>Year</th>\n      <th>Brand</th>\n      <th>Model</th>\n      <th>Model_Vers</th>\n      <th>S_RS</th>\n      <th>Cabriolet</th>\n      <th>Color</th>\n      <th>Transmission</th>\n    </tr>\n  </thead>\n  <tbody>\n    <tr>\n      <th>0</th>\n      <td>Used</td>\n      <td>47649</td>\n      <td>48950.0</td>\n      <td>2012</td>\n      <td>Porsche</td>\n      <td>911</td>\n      <td>Carrera</td>\n      <td>Black</td>\n      <td>Edition</td>\n      <td>Black</td>\n      <td>Automatic</td>\n    </tr>\n    <tr>\n      <th>1</th>\n      <td>Used</td>\n      <td>19020</td>\n      <td>67988.0</td>\n      <td>2015</td>\n      <td>Porsche</td>\n      <td>911</td>\n      <td>Carrera</td>\n      <td>Base</td>\n      <td>Hardtop</td>\n      <td>Black</td>\n      <td>Automatic</td>\n    </tr>\n    <tr>\n      <th>3</th>\n      <td>Used</td>\n      <td>56436</td>\n      <td>51990.0</td>\n      <td>2012</td>\n      <td>Porsche</td>\n      <td>911</td>\n      <td>Carrera</td>\n      <td>S</td>\n      <td>Hardtop</td>\n      <td>Black</td>\n      <td>Automatic</td>\n    </tr>\n    <tr>\n      <th>4</th>\n      <td>Used</td>\n      <td>85000</td>\n      <td>34900.0</td>\n      <td>2009</td>\n      <td>Porsche</td>\n      <td>911</td>\n      <td>Carrera</td>\n      <td>S</td>\n      <td>Cabriolet</td>\n      <td>Black</td>\n      <td>Automatic</td>\n    </tr>\n    <tr>\n      <th>5</th>\n      <td>Used</td>\n      <td>15808</td>\n      <td>96995.0</td>\n      <td>2018</td>\n      <td>Porsche</td>\n      <td>911</td>\n      <td>Carrera</td>\n      <td>S</td>\n      <td>Hardtop</td>\n      <td>Black</td>\n      <td>Automatic</td>\n    </tr>\n    <tr>\n      <th>...</th>\n      <td>...</td>\n      <td>...</td>\n      <td>...</td>\n      <td>...</td>\n      <td>...</td>\n      <td>...</td>\n      <td>...</td>\n      <td>...</td>\n      <td>...</td>\n      <td>...</td>\n      <td>...</td>\n    </tr>\n    <tr>\n      <th>1493</th>\n      <td>Used</td>\n      <td>19826</td>\n      <td>99950.0</td>\n      <td>2017</td>\n      <td>Porsche</td>\n      <td>911</td>\n      <td>Carrera</td>\n      <td>4S</td>\n      <td>Hardtop</td>\n      <td>White</td>\n      <td>Manual</td>\n    </tr>\n    <tr>\n      <th>1494</th>\n      <td>Used</td>\n      <td>15710</td>\n      <td>89995.0</td>\n      <td>2016</td>\n      <td>Porsche</td>\n      <td>911</td>\n      <td>Carrera</td>\n      <td>4S</td>\n      <td>Hardtop</td>\n      <td>White</td>\n      <td>Manual</td>\n    </tr>\n    <tr>\n      <th>1495</th>\n      <td>Used</td>\n      <td>502</td>\n      <td>93900.0</td>\n      <td>2018</td>\n      <td>Porsche</td>\n      <td>911</td>\n      <td>Carrera</td>\n      <td>T</td>\n      <td>Hardtop</td>\n      <td>White</td>\n      <td>Manual</td>\n    </tr>\n    <tr>\n      <th>1496</th>\n      <td>Used</td>\n      <td>5182</td>\n      <td>81995.0</td>\n      <td>2016</td>\n      <td>Porsche</td>\n      <td>911</td>\n      <td>Carrera</td>\n      <td>S</td>\n      <td>Hardtop</td>\n      <td>White</td>\n      <td>Manual</td>\n    </tr>\n    <tr>\n      <th>1501</th>\n      <td>Porsche Certified</td>\n      <td>10074</td>\n      <td>112000.0</td>\n      <td>2018</td>\n      <td>Porsche</td>\n      <td>911</td>\n      <td>Carrera</td>\n      <td>4S</td>\n      <td>Hardtop</td>\n      <td>White</td>\n      <td>Manual</td>\n    </tr>\n  </tbody>\n</table>\n<p>810 rows × 11 columns</p>\n</div>"
          },
          "metadata": {},
          "execution_count": 3
        }
      ]
    },
    {
      "cell_type": "code",
      "metadata": {
        "id": "3O15x4CgYQZh",
        "colab_type": "code",
        "outputId": "08033378-6362-46c5-fd88-f934aa966b91",
        "colab": {
          "base_uri": "https://localhost:8080/",
          "height": 105
        }
      },
      "source": [
        "df['Cabriolet'].value_counts()"
      ],
      "execution_count": 4,
      "outputs": [
        {
          "output_type": "execute_result",
          "data": {
            "text/plain": "Hardtop      736\nCabriolet     69\nEdition        4\nBlack          1\nName: Cabriolet, dtype: int64"
          },
          "metadata": {},
          "execution_count": 4
        }
      ]
    },
    {
      "cell_type": "code",
      "metadata": {
        "id": "9xlaMAukZAwP",
        "colab_type": "code",
        "outputId": "c22d4d89-d47a-4235-9e52-a0549aebdd61",
        "colab": {
          "base_uri": "https://localhost:8080/",
          "height": 230
        }
      },
      "source": [
        "df.isnull().sum()"
      ],
      "execution_count": 5,
      "outputs": [
        {
          "output_type": "execute_result",
          "data": {
            "text/plain": "condition       0\nmilage          0\nPrice           0\nYear            0\nBrand           0\nModel           0\nModel_Vers      0\nS_RS            0\nCabriolet       0\nColor           0\nTransmission    0\ndtype: int64"
          },
          "metadata": {},
          "execution_count": 5
        }
      ]
    },
    {
      "cell_type": "code",
      "metadata": {
        "id": "XD6vcCjvYemr",
        "colab_type": "code",
        "colab": {}
      },
      "source": [
        "df['Cabriolet'] = df['Cabriolet'].replace(\"Black\",'Hardtop')"
      ],
      "execution_count": 6,
      "outputs": []
    },
    {
      "cell_type": "code",
      "metadata": {
        "colab_type": "code",
        "id": "-tdTHFnrY5Ao",
        "colab": {}
      },
      "source": [
        "df['Cabriolet'] = df['Cabriolet'].replace(\"Edition\",'Hardtop')"
      ],
      "execution_count": 7,
      "outputs": []
    },
    {
      "cell_type": "code",
      "metadata": {
        "id": "Sf8jlHVzY2Ry",
        "colab_type": "code",
        "colab": {}
      },
      "source": [
        "df['Price'] = df['Price'].astype(int)"
      ],
      "execution_count": 8,
      "outputs": []
    },
    {
      "cell_type": "code",
      "metadata": {
        "id": "_uLEAlGjal7U",
        "colab_type": "code",
        "outputId": "e876f2d3-8372-4fce-bf28-8f42e7c4eee0",
        "colab": {
          "base_uri": "https://localhost:8080/",
          "height": 230
        }
      },
      "source": [
        "df.dtypes"
      ],
      "execution_count": 9,
      "outputs": [
        {
          "output_type": "execute_result",
          "data": {
            "text/plain": "condition       object\nmilage           int64\nPrice            int32\nYear             int64\nBrand           object\nModel            int64\nModel_Vers      object\nS_RS            object\nCabriolet       object\nColor           object\nTransmission    object\ndtype: object"
          },
          "metadata": {},
          "execution_count": 9
        }
      ]
    },
    {
      "cell_type": "code",
      "metadata": {
        "id": "eB7rYEo2aosx",
        "colab_type": "code",
        "outputId": "e498c4ef-128b-4b54-d923-f455f0209737",
        "colab": {
          "base_uri": "https://localhost:8080/",
          "height": 70
        }
      },
      "source": [
        "df.condition.value_counts(normalize=True)"
      ],
      "execution_count": 10,
      "outputs": [
        {
          "output_type": "execute_result",
          "data": {
            "text/plain": "Used                 0.84321\nPorsche Certified    0.15679\nName: condition, dtype: float64"
          },
          "metadata": {},
          "execution_count": 10
        }
      ]
    },
    {
      "cell_type": "code",
      "metadata": {
        "id": "aslU4xWya1Te",
        "colab_type": "code",
        "colab": {}
      },
      "source": [
        "df['condition'] = df['condition'].replace(\"Porsche Certified\",'CPO')"
      ],
      "execution_count": 11,
      "outputs": []
    },
    {
      "cell_type": "code",
      "metadata": {
        "id": "DqHQrh3Ha9QL",
        "colab_type": "code",
        "colab": {}
      },
      "source": [
        "from sklearn.model_selection import train_test_split\n",
        "train, test= train_test_split(df, test_size=0.20, random_state=2)"
      ],
      "execution_count": 49,
      "outputs": []
    },
    {
      "cell_type": "code",
      "metadata": {
        "id": "b3bQE5U7hsOB",
        "colab_type": "code",
        "colab": {}
      },
      "source": [
        ""
      ],
      "execution_count": 0,
      "outputs": []
    },
    {
      "cell_type": "code",
      "metadata": {
        "id": "FA0xZeJHcDHL",
        "colab_type": "code",
        "outputId": "1bbd41c4-d72e-4954-c1f7-59774e22f065",
        "colab": {
          "base_uri": "https://localhost:8080/",
          "height": 406
        }
      },
      "source": [
        "train"
      ],
      "execution_count": 50,
      "outputs": [
        {
          "output_type": "execute_result",
          "data": {
            "text/plain": "     condition  milage   Price  Year    Brand  Model Model_Vers  S_RS  \\\n1494      Used   15710   89995  2016  Porsche    911    Carrera    4S   \n1176      Used   35750   39300  2008  Porsche    911    Carrera     S   \n692       Used   26324   59000  2010  Porsche    911    Carrera    4S   \n758       Used  130000   34900  2013  Porsche    911    Carrera  Base   \n825       Used    4113  103995  2017  Porsche    911    Carrera  Base   \n...        ...     ...     ...   ...      ...    ...        ...   ...   \n1047       CPO   34541   84995  2018  Porsche    911    Carrera  Base   \n1151       CPO   17066   89957  2015  Porsche    911    Carrera   GTS   \n938       Used   40700   66999  2017  Porsche    911    Carrera  Base   \n1035      Used   26067   94951  2017  Porsche    911    Carrera     S   \n324       Used   23000   76500  2015  Porsche    911    Carrera     S   \n\n      Cabriolet        Color Transmission  \n1494    Hardtop        White       Manual  \n1176  Cabriolet        Black       Manual  \n692   Cabriolet        Other    Automatic  \n758     Hardtop  Gray/Silver    Automatic  \n825     Hardtop        White    Automatic  \n...         ...          ...          ...  \n1047    Hardtop        White    Automatic  \n1151    Hardtop          Red    Automatic  \n938     Hardtop        White    Automatic  \n1035    Hardtop        White    Automatic  \n324     Hardtop        Black    Automatic  \n\n[648 rows x 11 columns]",
            "text/html": "<div>\n<style scoped>\n    .dataframe tbody tr th:only-of-type {\n        vertical-align: middle;\n    }\n\n    .dataframe tbody tr th {\n        vertical-align: top;\n    }\n\n    .dataframe thead th {\n        text-align: right;\n    }\n</style>\n<table border=\"1\" class=\"dataframe\">\n  <thead>\n    <tr style=\"text-align: right;\">\n      <th></th>\n      <th>condition</th>\n      <th>milage</th>\n      <th>Price</th>\n      <th>Year</th>\n      <th>Brand</th>\n      <th>Model</th>\n      <th>Model_Vers</th>\n      <th>S_RS</th>\n      <th>Cabriolet</th>\n      <th>Color</th>\n      <th>Transmission</th>\n    </tr>\n  </thead>\n  <tbody>\n    <tr>\n      <th>1494</th>\n      <td>Used</td>\n      <td>15710</td>\n      <td>89995</td>\n      <td>2016</td>\n      <td>Porsche</td>\n      <td>911</td>\n      <td>Carrera</td>\n      <td>4S</td>\n      <td>Hardtop</td>\n      <td>White</td>\n      <td>Manual</td>\n    </tr>\n    <tr>\n      <th>1176</th>\n      <td>Used</td>\n      <td>35750</td>\n      <td>39300</td>\n      <td>2008</td>\n      <td>Porsche</td>\n      <td>911</td>\n      <td>Carrera</td>\n      <td>S</td>\n      <td>Cabriolet</td>\n      <td>Black</td>\n      <td>Manual</td>\n    </tr>\n    <tr>\n      <th>692</th>\n      <td>Used</td>\n      <td>26324</td>\n      <td>59000</td>\n      <td>2010</td>\n      <td>Porsche</td>\n      <td>911</td>\n      <td>Carrera</td>\n      <td>4S</td>\n      <td>Cabriolet</td>\n      <td>Other</td>\n      <td>Automatic</td>\n    </tr>\n    <tr>\n      <th>758</th>\n      <td>Used</td>\n      <td>130000</td>\n      <td>34900</td>\n      <td>2013</td>\n      <td>Porsche</td>\n      <td>911</td>\n      <td>Carrera</td>\n      <td>Base</td>\n      <td>Hardtop</td>\n      <td>Gray/Silver</td>\n      <td>Automatic</td>\n    </tr>\n    <tr>\n      <th>825</th>\n      <td>Used</td>\n      <td>4113</td>\n      <td>103995</td>\n      <td>2017</td>\n      <td>Porsche</td>\n      <td>911</td>\n      <td>Carrera</td>\n      <td>Base</td>\n      <td>Hardtop</td>\n      <td>White</td>\n      <td>Automatic</td>\n    </tr>\n    <tr>\n      <th>...</th>\n      <td>...</td>\n      <td>...</td>\n      <td>...</td>\n      <td>...</td>\n      <td>...</td>\n      <td>...</td>\n      <td>...</td>\n      <td>...</td>\n      <td>...</td>\n      <td>...</td>\n      <td>...</td>\n    </tr>\n    <tr>\n      <th>1047</th>\n      <td>CPO</td>\n      <td>34541</td>\n      <td>84995</td>\n      <td>2018</td>\n      <td>Porsche</td>\n      <td>911</td>\n      <td>Carrera</td>\n      <td>Base</td>\n      <td>Hardtop</td>\n      <td>White</td>\n      <td>Automatic</td>\n    </tr>\n    <tr>\n      <th>1151</th>\n      <td>CPO</td>\n      <td>17066</td>\n      <td>89957</td>\n      <td>2015</td>\n      <td>Porsche</td>\n      <td>911</td>\n      <td>Carrera</td>\n      <td>GTS</td>\n      <td>Hardtop</td>\n      <td>Red</td>\n      <td>Automatic</td>\n    </tr>\n    <tr>\n      <th>938</th>\n      <td>Used</td>\n      <td>40700</td>\n      <td>66999</td>\n      <td>2017</td>\n      <td>Porsche</td>\n      <td>911</td>\n      <td>Carrera</td>\n      <td>Base</td>\n      <td>Hardtop</td>\n      <td>White</td>\n      <td>Automatic</td>\n    </tr>\n    <tr>\n      <th>1035</th>\n      <td>Used</td>\n      <td>26067</td>\n      <td>94951</td>\n      <td>2017</td>\n      <td>Porsche</td>\n      <td>911</td>\n      <td>Carrera</td>\n      <td>S</td>\n      <td>Hardtop</td>\n      <td>White</td>\n      <td>Automatic</td>\n    </tr>\n    <tr>\n      <th>324</th>\n      <td>Used</td>\n      <td>23000</td>\n      <td>76500</td>\n      <td>2015</td>\n      <td>Porsche</td>\n      <td>911</td>\n      <td>Carrera</td>\n      <td>S</td>\n      <td>Hardtop</td>\n      <td>Black</td>\n      <td>Automatic</td>\n    </tr>\n  </tbody>\n</table>\n<p>648 rows × 11 columns</p>\n</div>"
          },
          "metadata": {},
          "execution_count": 50
        }
      ]
    },
    {
      "cell_type": "code",
      "metadata": {
        "id": "YUXqy1xPc45p",
        "colab_type": "code",
        "outputId": "a0b7131e-792d-45a3-c090-7b5e8e6ddb1f",
        "colab": {
          "base_uri": "https://localhost:8080/",
          "height": 406
        }
      },
      "source": [
        "test"
      ],
      "execution_count": 51,
      "outputs": [
        {
          "output_type": "execute_result",
          "data": {
            "text/plain": "     condition  milage   Price  Year    Brand  Model Model_Vers  S_RS  \\\n830       Used   36843   78777  2015  Porsche    911    Carrera     S   \n244       Used   22789  103900  2017  Porsche    911    Carrera    4S   \n226        CPO   13220  106900  2017  Porsche    911    Carrera    4S   \n1020      Used   21136   73995  2013  Porsche    911    Carrera     S   \n606       Used   35103   68398  2018  Porsche    911    Carrera  Base   \n...        ...     ...     ...   ...      ...    ...        ...   ...   \n1098      Used    5517   99495  2019  Porsche    911    Carrera     T   \n1408      Used   17000   35000  2008  Porsche    911    Carrera     S   \n936       Used   26775   67500  2013  Porsche    911    Carrera     S   \n1261      Used   22463   56997  2013  Porsche    911    Carrera  Base   \n532       Used   28822   76900  2014  Porsche    911    Carrera    4S   \n\n      Cabriolet        Color Transmission  \n830     Hardtop        White    Automatic  \n244     Hardtop        Black    Automatic  \n226     Hardtop        Black    Automatic  \n1020    Hardtop        White    Automatic  \n606     Hardtop        Other    Automatic  \n...         ...          ...          ...  \n1098    Hardtop          Red    Automatic  \n1408  Cabriolet        Other       Manual  \n936     Hardtop        White    Automatic  \n1261    Hardtop  Gray/Silver       Manual  \n532     Hardtop        Other    Automatic  \n\n[162 rows x 11 columns]",
            "text/html": "<div>\n<style scoped>\n    .dataframe tbody tr th:only-of-type {\n        vertical-align: middle;\n    }\n\n    .dataframe tbody tr th {\n        vertical-align: top;\n    }\n\n    .dataframe thead th {\n        text-align: right;\n    }\n</style>\n<table border=\"1\" class=\"dataframe\">\n  <thead>\n    <tr style=\"text-align: right;\">\n      <th></th>\n      <th>condition</th>\n      <th>milage</th>\n      <th>Price</th>\n      <th>Year</th>\n      <th>Brand</th>\n      <th>Model</th>\n      <th>Model_Vers</th>\n      <th>S_RS</th>\n      <th>Cabriolet</th>\n      <th>Color</th>\n      <th>Transmission</th>\n    </tr>\n  </thead>\n  <tbody>\n    <tr>\n      <th>830</th>\n      <td>Used</td>\n      <td>36843</td>\n      <td>78777</td>\n      <td>2015</td>\n      <td>Porsche</td>\n      <td>911</td>\n      <td>Carrera</td>\n      <td>S</td>\n      <td>Hardtop</td>\n      <td>White</td>\n      <td>Automatic</td>\n    </tr>\n    <tr>\n      <th>244</th>\n      <td>Used</td>\n      <td>22789</td>\n      <td>103900</td>\n      <td>2017</td>\n      <td>Porsche</td>\n      <td>911</td>\n      <td>Carrera</td>\n      <td>4S</td>\n      <td>Hardtop</td>\n      <td>Black</td>\n      <td>Automatic</td>\n    </tr>\n    <tr>\n      <th>226</th>\n      <td>CPO</td>\n      <td>13220</td>\n      <td>106900</td>\n      <td>2017</td>\n      <td>Porsche</td>\n      <td>911</td>\n      <td>Carrera</td>\n      <td>4S</td>\n      <td>Hardtop</td>\n      <td>Black</td>\n      <td>Automatic</td>\n    </tr>\n    <tr>\n      <th>1020</th>\n      <td>Used</td>\n      <td>21136</td>\n      <td>73995</td>\n      <td>2013</td>\n      <td>Porsche</td>\n      <td>911</td>\n      <td>Carrera</td>\n      <td>S</td>\n      <td>Hardtop</td>\n      <td>White</td>\n      <td>Automatic</td>\n    </tr>\n    <tr>\n      <th>606</th>\n      <td>Used</td>\n      <td>35103</td>\n      <td>68398</td>\n      <td>2018</td>\n      <td>Porsche</td>\n      <td>911</td>\n      <td>Carrera</td>\n      <td>Base</td>\n      <td>Hardtop</td>\n      <td>Other</td>\n      <td>Automatic</td>\n    </tr>\n    <tr>\n      <th>...</th>\n      <td>...</td>\n      <td>...</td>\n      <td>...</td>\n      <td>...</td>\n      <td>...</td>\n      <td>...</td>\n      <td>...</td>\n      <td>...</td>\n      <td>...</td>\n      <td>...</td>\n      <td>...</td>\n    </tr>\n    <tr>\n      <th>1098</th>\n      <td>Used</td>\n      <td>5517</td>\n      <td>99495</td>\n      <td>2019</td>\n      <td>Porsche</td>\n      <td>911</td>\n      <td>Carrera</td>\n      <td>T</td>\n      <td>Hardtop</td>\n      <td>Red</td>\n      <td>Automatic</td>\n    </tr>\n    <tr>\n      <th>1408</th>\n      <td>Used</td>\n      <td>17000</td>\n      <td>35000</td>\n      <td>2008</td>\n      <td>Porsche</td>\n      <td>911</td>\n      <td>Carrera</td>\n      <td>S</td>\n      <td>Cabriolet</td>\n      <td>Other</td>\n      <td>Manual</td>\n    </tr>\n    <tr>\n      <th>936</th>\n      <td>Used</td>\n      <td>26775</td>\n      <td>67500</td>\n      <td>2013</td>\n      <td>Porsche</td>\n      <td>911</td>\n      <td>Carrera</td>\n      <td>S</td>\n      <td>Hardtop</td>\n      <td>White</td>\n      <td>Automatic</td>\n    </tr>\n    <tr>\n      <th>1261</th>\n      <td>Used</td>\n      <td>22463</td>\n      <td>56997</td>\n      <td>2013</td>\n      <td>Porsche</td>\n      <td>911</td>\n      <td>Carrera</td>\n      <td>Base</td>\n      <td>Hardtop</td>\n      <td>Gray/Silver</td>\n      <td>Manual</td>\n    </tr>\n    <tr>\n      <th>532</th>\n      <td>Used</td>\n      <td>28822</td>\n      <td>76900</td>\n      <td>2014</td>\n      <td>Porsche</td>\n      <td>911</td>\n      <td>Carrera</td>\n      <td>4S</td>\n      <td>Hardtop</td>\n      <td>Other</td>\n      <td>Automatic</td>\n    </tr>\n  </tbody>\n</table>\n<p>162 rows × 11 columns</p>\n</div>"
          },
          "metadata": {},
          "execution_count": 51
        }
      ]
    },
    {
      "cell_type": "code",
      "metadata": {
        "id": "K9H-qFr3c54x",
        "colab_type": "code",
        "colab": {}
      },
      "source": [
        "feature = ['condition','milage','Year','S_RS','Cabriolet','Color','Transmission']\n",
        "target = 'Price'\n",
        "X_train = train[feature]\n",
        "X_test = test[feature]\n",
        "Y_test = test[target]\n",
        "Y_train = train[target]"
      ],
      "execution_count": 86,
      "outputs": []
    },
    {
      "cell_type": "code",
      "metadata": {
        "id": "zSgLO81geFji",
        "colab_type": "code",
        "outputId": "53731534-06ce-4377-d576-ee00c7dd5889",
        "colab": {
          "base_uri": "https://localhost:8080/",
          "height": 283
        }
      },
      "source": [
        "!pip install category_encoders"
      ],
      "execution_count": 53,
      "outputs": [
        {
          "output_type": "stream",
          "name": "stdout",
          "text": "Requirement already satisfied: category_encoders in c:\\users\\sasana kongjareon\\anaconda3\\lib\\site-packages (2.2.2)\nRequirement already satisfied: statsmodels>=0.9.0 in c:\\users\\sasana kongjareon\\anaconda3\\lib\\site-packages (from category_encoders) (0.11.0)\nRequirement already satisfied: scikit-learn>=0.20.0 in c:\\users\\sasana kongjareon\\anaconda3\\lib\\site-packages (from category_encoders) (0.22.1)\nRequirement already satisfied: pandas>=0.21.1 in c:\\users\\sasana kongjareon\\anaconda3\\lib\\site-packages (from category_encoders) (1.0.4)\nRequirement already satisfied: patsy>=0.5.1 in c:\\users\\sasana kongjareon\\anaconda3\\lib\\site-packages (from category_encoders) (0.5.1)\nRequirement already satisfied: numpy>=1.14.0 in c:\\users\\sasana kongjareon\\anaconda3\\lib\\site-packages (from category_encoders) (1.18.1)\nRequirement already satisfied: scipy>=1.0.0 in c:\\users\\sasana kongjareon\\anaconda3\\lib\\site-packages (from category_encoders) (1.4.1)\nRequirement already satisfied: joblib>=0.11 in c:\\users\\sasana kongjareon\\anaconda3\\lib\\site-packages (from scikit-learn>=0.20.0->category_encoders) (0.14.1)\nRequirement already satisfied: python-dateutil>=2.6.1 in c:\\users\\sasana kongjareon\\anaconda3\\lib\\site-packages (from pandas>=0.21.1->category_encoders) (2.8.1)\nRequirement already satisfied: pytz>=2017.2 in c:\\users\\sasana kongjareon\\anaconda3\\lib\\site-packages (from pandas>=0.21.1->category_encoders) (2019.3)\nRequirement already satisfied: six in c:\\users\\sasana kongjareon\\anaconda3\\lib\\site-packages (from patsy>=0.5.1->category_encoders) (1.14.0)\n"
        }
      ]
    },
    {
      "cell_type": "code",
      "metadata": {
        "id": "Pmzy9lAVdQnc",
        "colab_type": "code",
        "outputId": "9f259b6b-801e-4a37-c446-637a941c0213",
        "colab": {
          "base_uri": "https://localhost:8080/",
          "height": 52
        }
      },
      "source": [
        "import category_encoders as ce\n",
        "encoder = ce.OneHotEncoder(use_cat_names=True)"
      ],
      "execution_count": 54,
      "outputs": []
    },
    {
      "cell_type": "code",
      "metadata": {
        "id": "78_uFQtReodF",
        "colab_type": "code",
        "outputId": "bef2f617-1b19-449d-fee1-ceaec749d4b9",
        "colab": {
          "base_uri": "https://localhost:8080/",
          "height": 406
        }
      },
      "source": [
        "X_test"
      ],
      "execution_count": 55,
      "outputs": [
        {
          "output_type": "execute_result",
          "data": {
            "text/plain": "     condition  milage  Year  S_RS  Cabriolet        Color Transmission\n830       Used   36843  2015     S    Hardtop        White    Automatic\n244       Used   22789  2017    4S    Hardtop        Black    Automatic\n226        CPO   13220  2017    4S    Hardtop        Black    Automatic\n1020      Used   21136  2013     S    Hardtop        White    Automatic\n606       Used   35103  2018  Base    Hardtop        Other    Automatic\n...        ...     ...   ...   ...        ...          ...          ...\n1098      Used    5517  2019     T    Hardtop          Red    Automatic\n1408      Used   17000  2008     S  Cabriolet        Other       Manual\n936       Used   26775  2013     S    Hardtop        White    Automatic\n1261      Used   22463  2013  Base    Hardtop  Gray/Silver       Manual\n532       Used   28822  2014    4S    Hardtop        Other    Automatic\n\n[162 rows x 7 columns]",
            "text/html": "<div>\n<style scoped>\n    .dataframe tbody tr th:only-of-type {\n        vertical-align: middle;\n    }\n\n    .dataframe tbody tr th {\n        vertical-align: top;\n    }\n\n    .dataframe thead th {\n        text-align: right;\n    }\n</style>\n<table border=\"1\" class=\"dataframe\">\n  <thead>\n    <tr style=\"text-align: right;\">\n      <th></th>\n      <th>condition</th>\n      <th>milage</th>\n      <th>Year</th>\n      <th>S_RS</th>\n      <th>Cabriolet</th>\n      <th>Color</th>\n      <th>Transmission</th>\n    </tr>\n  </thead>\n  <tbody>\n    <tr>\n      <th>830</th>\n      <td>Used</td>\n      <td>36843</td>\n      <td>2015</td>\n      <td>S</td>\n      <td>Hardtop</td>\n      <td>White</td>\n      <td>Automatic</td>\n    </tr>\n    <tr>\n      <th>244</th>\n      <td>Used</td>\n      <td>22789</td>\n      <td>2017</td>\n      <td>4S</td>\n      <td>Hardtop</td>\n      <td>Black</td>\n      <td>Automatic</td>\n    </tr>\n    <tr>\n      <th>226</th>\n      <td>CPO</td>\n      <td>13220</td>\n      <td>2017</td>\n      <td>4S</td>\n      <td>Hardtop</td>\n      <td>Black</td>\n      <td>Automatic</td>\n    </tr>\n    <tr>\n      <th>1020</th>\n      <td>Used</td>\n      <td>21136</td>\n      <td>2013</td>\n      <td>S</td>\n      <td>Hardtop</td>\n      <td>White</td>\n      <td>Automatic</td>\n    </tr>\n    <tr>\n      <th>606</th>\n      <td>Used</td>\n      <td>35103</td>\n      <td>2018</td>\n      <td>Base</td>\n      <td>Hardtop</td>\n      <td>Other</td>\n      <td>Automatic</td>\n    </tr>\n    <tr>\n      <th>...</th>\n      <td>...</td>\n      <td>...</td>\n      <td>...</td>\n      <td>...</td>\n      <td>...</td>\n      <td>...</td>\n      <td>...</td>\n    </tr>\n    <tr>\n      <th>1098</th>\n      <td>Used</td>\n      <td>5517</td>\n      <td>2019</td>\n      <td>T</td>\n      <td>Hardtop</td>\n      <td>Red</td>\n      <td>Automatic</td>\n    </tr>\n    <tr>\n      <th>1408</th>\n      <td>Used</td>\n      <td>17000</td>\n      <td>2008</td>\n      <td>S</td>\n      <td>Cabriolet</td>\n      <td>Other</td>\n      <td>Manual</td>\n    </tr>\n    <tr>\n      <th>936</th>\n      <td>Used</td>\n      <td>26775</td>\n      <td>2013</td>\n      <td>S</td>\n      <td>Hardtop</td>\n      <td>White</td>\n      <td>Automatic</td>\n    </tr>\n    <tr>\n      <th>1261</th>\n      <td>Used</td>\n      <td>22463</td>\n      <td>2013</td>\n      <td>Base</td>\n      <td>Hardtop</td>\n      <td>Gray/Silver</td>\n      <td>Manual</td>\n    </tr>\n    <tr>\n      <th>532</th>\n      <td>Used</td>\n      <td>28822</td>\n      <td>2014</td>\n      <td>4S</td>\n      <td>Hardtop</td>\n      <td>Other</td>\n      <td>Automatic</td>\n    </tr>\n  </tbody>\n</table>\n<p>162 rows × 7 columns</p>\n</div>"
          },
          "metadata": {},
          "execution_count": 55
        }
      ]
    },
    {
      "cell_type": "code",
      "metadata": {
        "id": "jrSG9ioQesLf",
        "colab_type": "code",
        "outputId": "5d813412-80c9-4491-dc30-2eb288a92164",
        "colab": {
          "base_uri": "https://localhost:8080/",
          "height": 406
        }
      },
      "source": [
        "X_train"
      ],
      "execution_count": 56,
      "outputs": [
        {
          "output_type": "execute_result",
          "data": {
            "text/plain": "     condition  milage  Year  S_RS  Cabriolet        Color Transmission\n1494      Used   15710  2016    4S    Hardtop        White       Manual\n1176      Used   35750  2008     S  Cabriolet        Black       Manual\n692       Used   26324  2010    4S  Cabriolet        Other    Automatic\n758       Used  130000  2013  Base    Hardtop  Gray/Silver    Automatic\n825       Used    4113  2017  Base    Hardtop        White    Automatic\n...        ...     ...   ...   ...        ...          ...          ...\n1047       CPO   34541  2018  Base    Hardtop        White    Automatic\n1151       CPO   17066  2015   GTS    Hardtop          Red    Automatic\n938       Used   40700  2017  Base    Hardtop        White    Automatic\n1035      Used   26067  2017     S    Hardtop        White    Automatic\n324       Used   23000  2015     S    Hardtop        Black    Automatic\n\n[648 rows x 7 columns]",
            "text/html": "<div>\n<style scoped>\n    .dataframe tbody tr th:only-of-type {\n        vertical-align: middle;\n    }\n\n    .dataframe tbody tr th {\n        vertical-align: top;\n    }\n\n    .dataframe thead th {\n        text-align: right;\n    }\n</style>\n<table border=\"1\" class=\"dataframe\">\n  <thead>\n    <tr style=\"text-align: right;\">\n      <th></th>\n      <th>condition</th>\n      <th>milage</th>\n      <th>Year</th>\n      <th>S_RS</th>\n      <th>Cabriolet</th>\n      <th>Color</th>\n      <th>Transmission</th>\n    </tr>\n  </thead>\n  <tbody>\n    <tr>\n      <th>1494</th>\n      <td>Used</td>\n      <td>15710</td>\n      <td>2016</td>\n      <td>4S</td>\n      <td>Hardtop</td>\n      <td>White</td>\n      <td>Manual</td>\n    </tr>\n    <tr>\n      <th>1176</th>\n      <td>Used</td>\n      <td>35750</td>\n      <td>2008</td>\n      <td>S</td>\n      <td>Cabriolet</td>\n      <td>Black</td>\n      <td>Manual</td>\n    </tr>\n    <tr>\n      <th>692</th>\n      <td>Used</td>\n      <td>26324</td>\n      <td>2010</td>\n      <td>4S</td>\n      <td>Cabriolet</td>\n      <td>Other</td>\n      <td>Automatic</td>\n    </tr>\n    <tr>\n      <th>758</th>\n      <td>Used</td>\n      <td>130000</td>\n      <td>2013</td>\n      <td>Base</td>\n      <td>Hardtop</td>\n      <td>Gray/Silver</td>\n      <td>Automatic</td>\n    </tr>\n    <tr>\n      <th>825</th>\n      <td>Used</td>\n      <td>4113</td>\n      <td>2017</td>\n      <td>Base</td>\n      <td>Hardtop</td>\n      <td>White</td>\n      <td>Automatic</td>\n    </tr>\n    <tr>\n      <th>...</th>\n      <td>...</td>\n      <td>...</td>\n      <td>...</td>\n      <td>...</td>\n      <td>...</td>\n      <td>...</td>\n      <td>...</td>\n    </tr>\n    <tr>\n      <th>1047</th>\n      <td>CPO</td>\n      <td>34541</td>\n      <td>2018</td>\n      <td>Base</td>\n      <td>Hardtop</td>\n      <td>White</td>\n      <td>Automatic</td>\n    </tr>\n    <tr>\n      <th>1151</th>\n      <td>CPO</td>\n      <td>17066</td>\n      <td>2015</td>\n      <td>GTS</td>\n      <td>Hardtop</td>\n      <td>Red</td>\n      <td>Automatic</td>\n    </tr>\n    <tr>\n      <th>938</th>\n      <td>Used</td>\n      <td>40700</td>\n      <td>2017</td>\n      <td>Base</td>\n      <td>Hardtop</td>\n      <td>White</td>\n      <td>Automatic</td>\n    </tr>\n    <tr>\n      <th>1035</th>\n      <td>Used</td>\n      <td>26067</td>\n      <td>2017</td>\n      <td>S</td>\n      <td>Hardtop</td>\n      <td>White</td>\n      <td>Automatic</td>\n    </tr>\n    <tr>\n      <th>324</th>\n      <td>Used</td>\n      <td>23000</td>\n      <td>2015</td>\n      <td>S</td>\n      <td>Hardtop</td>\n      <td>Black</td>\n      <td>Automatic</td>\n    </tr>\n  </tbody>\n</table>\n<p>648 rows × 7 columns</p>\n</div>"
          },
          "metadata": {},
          "execution_count": 56
        }
      ]
    },
    {
      "cell_type": "code",
      "metadata": {
        "id": "JQt0T-t3fAAP",
        "colab_type": "code",
        "colab": {}
      },
      "source": [
        "X_train = encoder.fit_transform(X_train)"
      ],
      "execution_count": 57,
      "outputs": []
    },
    {
      "cell_type": "code",
      "metadata": {
        "id": "wZ0Poc6eeLyt",
        "colab_type": "code",
        "colab": {}
      },
      "source": [
        "X_test = encoder.fit_transform(X_test)"
      ],
      "execution_count": 58,
      "outputs": []
    },
    {
      "cell_type": "code",
      "metadata": {
        "id": "23v5dKr1eqwt",
        "colab_type": "code",
        "outputId": "9fcceb09-a718-49b2-f6b2-c8f28c9e96dc",
        "colab": {
          "base_uri": "https://localhost:8080/",
          "height": 34
        }
      },
      "source": [
        "from sklearn.linear_model import LinearRegression\n",
        "from sklearn.metrics import mean_absolute_error, mean_squared_error, r2_score\n",
        "\n",
        "model = LinearRegression()\n",
        "\n",
        "\n",
        "model.fit(X_train, Y_train)"
      ],
      "execution_count": 59,
      "outputs": [
        {
          "output_type": "execute_result",
          "data": {
            "text/plain": "LinearRegression(copy_X=True, fit_intercept=True, n_jobs=None, normalize=False)"
          },
          "metadata": {},
          "execution_count": 59
        }
      ]
    },
    {
      "cell_type": "code",
      "metadata": {
        "id": "eXINm9QBeVpg",
        "colab_type": "code",
        "outputId": "04be7ed7-ee43-437c-9a0d-4f4c985f2eb7",
        "colab": {
          "base_uri": "https://localhost:8080/",
          "height": 34
        }
      },
      "source": [
        "y_pred_train = model.predict(X_train)\n",
        "print(\"MAE(Train):$\",mean_absolute_error(Y_train, y_pred_train))"
      ],
      "execution_count": 60,
      "outputs": [
        {
          "output_type": "stream",
          "name": "stdout",
          "text": "MAE(Train):$ 5887.1435565924985\n"
        }
      ]
    },
    {
      "cell_type": "code",
      "metadata": {
        "id": "AAFOnwW0gyzT",
        "colab_type": "code",
        "outputId": "4d39958c-148f-47e0-e6fc-4a81def10709",
        "colab": {
          "base_uri": "https://localhost:8080/",
          "height": 34
        }
      },
      "source": [
        "r2_base = r2_score(Y_train, y_pred_train)\n",
        "print('R^2 scores (Train):',r2_base)"
      ],
      "execution_count": 61,
      "outputs": [
        {
          "output_type": "stream",
          "name": "stdout",
          "text": "R^2 scores (Train): 0.8526697531427914\n"
        }
      ]
    },
    {
      "cell_type": "code",
      "metadata": {
        "id": "M2e3bvFzhSyo",
        "colab_type": "code",
        "outputId": "6703de46-3c65-4fe8-8572-f2ba578f44a2",
        "colab": {
          "base_uri": "https://localhost:8080/",
          "height": 34
        }
      },
      "source": [
        "y_pred_val = model.predict(X_test)\n",
        "print(\"MAE(Val):$\",mean_absolute_error(Y_test, y_pred_val))"
      ],
      "execution_count": 62,
      "outputs": [
        {
          "output_type": "stream",
          "name": "stdout",
          "text": "MAE(Val):$ 9245.341766848309\n"
        }
      ]
    },
    {
      "cell_type": "code",
      "metadata": {
        "id": "8zYovyEwiKVv",
        "colab_type": "code",
        "outputId": "241ebcc2-15e0-46e7-e1c6-a02e892ac1b5",
        "colab": {
          "base_uri": "https://localhost:8080/",
          "height": 34
        }
      },
      "source": [
        "r2_base = r2_score(Y_test, y_pred_val)\n",
        "print('R^2 scores (Train):',r2_base)"
      ],
      "execution_count": 63,
      "outputs": [
        {
          "output_type": "stream",
          "name": "stdout",
          "text": "R^2 scores (Train): 0.6024955718824534\n"
        }
      ]
    },
    {
      "cell_type": "code",
      "metadata": {
        "id": "whHWYXGFiRef",
        "colab_type": "code",
        "outputId": "7489ca5f-460b-43b8-ae01-702deda4bb38",
        "colab": {
          "base_uri": "https://localhost:8080/",
          "height": 123
        }
      },
      "source": [
        "model.coef_"
      ],
      "execution_count": 64,
      "outputs": [
        {
          "output_type": "execute_result",
          "data": {
            "text/plain": "array([-1.31655432e+03,  1.31655432e+03, -3.33234590e-01,  3.96288098e+03,\n        2.70944244e+03, -2.65031358e+03, -1.14525798e+04,  1.85901607e+04,\n       -7.61778495e+03, -1.13169386e+04,  2.47773451e+04, -1.30393313e+04,\n       -1.01278027e+03,  1.01278027e+03, -5.60972173e+02, -2.61793715e+03,\n        5.96289735e+02,  3.28889368e+02,  1.37856716e+03,  8.75163062e+02,\n        1.05500997e+03, -1.05500997e+03])"
          },
          "metadata": {},
          "execution_count": 64
        }
      ]
    },
    {
      "cell_type": "code",
      "metadata": {
        "id": "O8ubp8Ufiqk-",
        "colab_type": "code",
        "outputId": "283e5920-79b2-4eda-b49f-f187e9dc2500",
        "colab": {
          "base_uri": "https://localhost:8080/",
          "height": 407
        }
      },
      "source": [
        "list(X_train)"
      ],
      "execution_count": 65,
      "outputs": [
        {
          "output_type": "execute_result",
          "data": {
            "text/plain": "['condition_Used',\n 'condition_CPO',\n 'milage',\n 'Year',\n 'S_RS_4S',\n 'S_RS_S',\n 'S_RS_Base',\n 'S_RS_GTS',\n 'S_RS_4',\n 'S_RS_T',\n 'S_RS_GTS4',\n 'S_RS_Black',\n 'Cabriolet_Hardtop',\n 'Cabriolet_Cabriolet',\n 'Color_White',\n 'Color_Black',\n 'Color_Other',\n 'Color_Gray/Silver',\n 'Color_Blue',\n 'Color_Red',\n 'Transmission_Manual',\n 'Transmission_Automatic']"
          },
          "metadata": {},
          "execution_count": 65
        }
      ]
    },
    {
      "cell_type": "code",
      "metadata": {
        "id": "tGtvDkX3jZBn",
        "colab_type": "code",
        "colab": {}
      },
      "source": [
        "condition_Used = 0\n",
        "condition_CPO = 1\n",
        "milage = 30000\n",
        "Year = 2016\n",
        "S_RS_4S = 0\n",
        "S_RS_S = 0\n",
        "S_RS_Base = 1\n",
        "S_RS_GTS = 0\n",
        "S_RS_4 = 0\n",
        "S_RS_T = 0\n",
        "S_RS_4GTS = 0\n",
        "S_RS_Black_Ed = 0\n",
        "Cabriolet_Hardtop = 0\n",
        "Cabriolet_Cabriolet= 1\n",
        "Color_White = 0\n",
        "Color_Black = 1\n",
        "Color_Other = 0\n",
        "Color_Gray_Silver = 0\n",
        "Color_Blue = 0\n",
        "Color_Red = 0\n",
        "Transmission_Manual = 0\n",
        "Transmission_Automatic = 1"
      ],
      "execution_count": 66,
      "outputs": []
    },
    {
      "cell_type": "code",
      "metadata": {
        "id": "xBA0qh8WihBj",
        "colab_type": "code",
        "colab": {}
      },
      "source": [
        "price = model.predict([[condition_Used,condition_CPO,milage,Year,S_RS_4S,S_RS_S\n",
        "                ,S_RS_Base,S_RS_GTS,S_RS_4,S_RS_T,S_RS_4GTS,\n",
        "                S_RS_Black_Ed,Cabriolet_Hardtop,Cabriolet_Cabriolet,Color_White,\n",
        "                Color_Black,Color_Other,Color_Gray_Silver,Color_Blue,Color_Red,Transmission_Automatic,\n",
        "                Transmission_Manual]])\n"
      ],
      "execution_count": 67,
      "outputs": []
    },
    {
      "cell_type": "code",
      "metadata": {
        "id": "2R43VOualuwL",
        "colab_type": "code",
        "outputId": "b05eef92-e7ea-4820-88cc-5c09a646fad5",
        "colab": {
          "base_uri": "https://localhost:8080/",
          "height": 34
        }
      },
      "source": [
        "print(\"Your 911 should be price at :$\",price)"
      ],
      "execution_count": 68,
      "outputs": [
        {
          "output_type": "stream",
          "name": "stdout",
          "text": "Your 911 should be price at :$ [75973.26777012]\n"
        }
      ]
    },
    {
      "cell_type": "code",
      "metadata": {
        "id": "idvL9kDIU1As",
        "colab_type": "code",
        "colab": {}
      },
      "source": [
        "dt = df.copy()"
      ],
      "execution_count": 69,
      "outputs": []
    },
    {
      "cell_type": "markdown",
      "metadata": {},
      "source": [
        "### Linear Model (Ridge)\n",
        "---"
      ]
    },
    {
      "cell_type": "code",
      "metadata": {
        "id": "GKUIjFOInYAv",
        "colab_type": "code",
        "outputId": "fe4fc491-d2e9-4efb-a0d7-c9079acc6465",
        "colab": {
          "base_uri": "https://localhost:8080/",
          "height": 406
        }
      },
      "source": [
        "from sklearn.model_selection import GridSearchCV, RandomizedSearchCV\n",
        "import category_encoders as ce\n",
        "import numpy as np\n",
        "from sklearn.feature_selection import f_regression, SelectKBest\n",
        "from sklearn.impute import SimpleImputer\n",
        "from sklearn.linear_model import Ridge\n",
        "from sklearn.model_selection import cross_val_score\n",
        "from sklearn.pipeline import make_pipeline\n",
        "from sklearn.preprocessing import StandardScaler\n",
        "\n",
        "pipeline = make_pipeline(\n",
        "    ce.OneHotEncoder(use_cat_names=True), \n",
        "    SimpleImputer(), \n",
        "    StandardScaler(), \n",
        "    SelectKBest(f_regression), \n",
        "    Ridge()\n",
        ")\n",
        "\n",
        "param_distributions = {\n",
        "    'simpleimputer__strategy': ['mean', 'median'], \n",
        "    'selectkbest__k': range(1, len(X_train.columns)+1), \n",
        "    'ridge__alpha': [0.1, 1, 10], \n",
        "}\n",
        "\n",
        "# If you're on Colab, decrease n_iter & cv parameters\n",
        "search = RandomizedSearchCV(\n",
        "    pipeline, \n",
        "    param_distributions=param_distributions, \n",
        "    n_iter=100, \n",
        "    cv=10, \n",
        "    scoring='neg_mean_absolute_error', \n",
        "    verbose=10, \n",
        "    return_train_score=True, \n",
        "    n_jobs=-1\n",
        ")\n",
        "\n",
        "search.fit(X_train, Y_train);"
      ],
      "execution_count": 91,
      "outputs": [
        {
          "output_type": "stream",
          "name": "stdout",
          "text": "Fitting 10 folds for each of 42 candidates, totalling 420 fits\n[Parallel(n_jobs=-1)]: Using backend LokyBackend with 12 concurrent workers.\n[Parallel(n_jobs=-1)]: Done   1 tasks      | elapsed:    0.1s\n[Parallel(n_jobs=-1)]: Batch computation too fast (0.1945s.) Setting batch_size=2.\n[Parallel(n_jobs=-1)]: Done   8 tasks      | elapsed:    0.2s\n[Parallel(n_jobs=-1)]: Done  17 tasks      | elapsed:    0.3s\n[Parallel(n_jobs=-1)]: Done  28 tasks      | elapsed:    0.8s\n[Parallel(n_jobs=-1)]: Done  50 tasks      | elapsed:    1.1s\n[Parallel(n_jobs=-1)]: Done  72 tasks      | elapsed:    1.4s\n[Parallel(n_jobs=-1)]: Done  98 tasks      | elapsed:    2.0s\n[Parallel(n_jobs=-1)]: Done 124 tasks      | elapsed:    2.5s\n[Parallel(n_jobs=-1)]: Done 154 tasks      | elapsed:    3.1s\n[Parallel(n_jobs=-1)]: Done 184 tasks      | elapsed:    3.6s\n[Parallel(n_jobs=-1)]: Done 218 tasks      | elapsed:    4.4s\n[Parallel(n_jobs=-1)]: Done 252 tasks      | elapsed:    5.1s\n[Parallel(n_jobs=-1)]: Done 290 tasks      | elapsed:    5.7s\n[Parallel(n_jobs=-1)]: Done 328 tasks      | elapsed:    6.5s\n[Parallel(n_jobs=-1)]: Done 370 tasks      | elapsed:    7.4s\n[Parallel(n_jobs=-1)]: Done 420 out of 420 | elapsed:    8.2s finished\n"
        }
      ]
    },
    {
      "cell_type": "code",
      "execution_count": 92,
      "metadata": {},
      "outputs": [
        {
          "output_type": "stream",
          "name": "stdout",
          "text": "Best hyperparameters {'simpleimputer__strategy': 'mean', 'selectkbest__k': 6, 'ridge__alpha': 10}\nCross-validation MAE 7896.886499892751\n"
        }
      ],
      "source": [
        "print('Best hyperparameters', search.best_params_)\n",
        "print('Cross-validation MAE', -search.best_score_)"
      ]
    },
    {
      "cell_type": "code",
      "execution_count": 93,
      "metadata": {},
      "outputs": [
        {
          "output_type": "execute_result",
          "data": {
            "text/plain": " 234.589   \n\n                                                                              4   \\\nmean_fit_time                                                           0.132796   \nstd_fit_time                                                           0.0248393   \nmean_score_time                                                        0.0379978   \nstd_score_time                                                         0.0145991   \nparam_simpleimputer__strategy                                               mean   \nparam_selectkbest__k                                                           3   \nparam_ridge__alpha                                                           0.1   \nparams                         {'simpleimputer__strategy': 'mean', 'selectkbe...   \nsplit0_test_score                                                       -6734.29   \nsplit1_test_score                                                       -6696.05   \nsplit2_test_score                                                       -8106.41   \nsplit3_test_score                                                       -10175.7   \nsplit4_test_score                                                       -7220.06   \nsplit5_test_score                                                       -8960.22   \nsplit6_test_score                                                       -10386.2   \nsplit7_test_score                                                       -10444.1   \nsplit8_test_score                                                       -9243.97   \nsplit9_test_score                                                       -7517.03   \nmean_test_score                                                         -8548.39   \nstd_test_score                                                           1414.85   \nrank_test_score                                                               35   \nsplit0_train_score                                                       -8727.3   \nsplit1_train_score                                                      -8724.72   \nsplit2_train_score                                                      -8580.51   \nsplit3_train_score                                                      -8322.27   \nsplit4_train_score                                                      -8685.32   \nsplit5_train_score                                                      -8385.99   \nsplit6_train_score                                                      -8274.17   \nsplit7_train_score                                                      -8300.21   \nsplit8_train_score                                                      -8435.37   \nsplit9_train_score                                                      -7947.08   \nmean_train_score                                                        -8438.29   \nstd_train_score                                                          234.589   \n\n                                                                              29  \\\nmean_fit_time                                                            0.13871   \nstd_fit_time                                                           0.0272829   \nmean_score_time                                                        0.0338103   \nstd_score_time                                                         0.0104595   \nparam_simpleimputer__strategy                                             median   \nparam_selectkbest__k                                                           1   \nparam_ridge__alpha                                                            10   \nparams                         {'simpleimputer__strategy': 'median', 'selectk...   \nsplit0_test_score                                                       -9486.67   \nsplit1_test_score                                                        -8866.3   \nsplit2_test_score                                                        -9501.1   \nsplit3_test_score                                                       -10959.6   \nsplit4_test_score                                                       -7841.82   \nsplit5_test_score                                                       -11110.2   \nsplit6_test_score                                                       -12516.7   \nsplit7_test_score                                                       -11564.1   \nsplit8_test_score                                                       -9723.29   \nsplit9_test_score                                                       -9802.88   \nmean_test_score                                                         -10137.3   \nstd_test_score                                                            1315.9   \nrank_test_score                                                               37   \nsplit0_train_score                                                      -10169.3   \nsplit1_train_score                                                      -10245.5   \nsplit2_train_score                                                      -10172.6   \nsplit3_train_score                                                       -9997.1   \nsplit4_train_score                                                      -10354.1   \nsplit5_train_score                                                      -9951.66   \nsplit6_train_score                                                      -9815.26   \nsplit7_train_score                                                      -9956.14   \nsplit8_train_score                                                      -10146.1   \nsplit9_train_score                                                      -10154.4   \nmean_train_score                                                        -10096.2   \nstd_train_score                                                          153.329   \n\n                                                                              28  \\\nmean_fit_time                                                           0.150824   \nstd_fit_time                                                           0.0216201   \nmean_score_time                                                         0.034821   \nstd_score_time                                                         0.0122176   \nparam_simpleimputer__strategy                                               mean   \nparam_selectkbest__k                                                           1   \nparam_ridge__alpha                                                            10   \nparams                         {'simpleimputer__strategy': 'mean', 'selectkbe...   \nsplit0_test_score                                                       -9486.67   \nsplit1_test_score                                                        -8866.3   \nsplit2_test_score                                                        -9501.1   \nsplit3_test_score                                                       -10959.6   \nsplit4_test_score                                                       -7841.82   \nsplit5_test_score                                                       -11110.2   \nsplit6_test_score                                                       -12516.7   \nsplit7_test_score                                                       -11564.1   \nsplit8_test_score                                                       -9723.29   \nsplit9_test_score                                                       -9802.88   \nmean_test_score                                                         -10137.3   \nstd_test_score                                                            1315.9   \nrank_test_score                                                               37   \nsplit0_train_score                                                      -10169.3   \nsplit1_train_score                                                      -10245.5   \nsplit2_train_score                                                      -10172.6   \nsplit3_train_score                                                       -9997.1   \nsplit4_train_score                                                      -10354.1   \nsplit5_train_score                                                      -9951.66   \nsplit6_train_score                                                      -9815.26   \nsplit7_train_score                                                      -9956.14   \nsplit8_train_score                                                      -10146.1   \nsplit9_train_score                                                      -10154.4   \nmean_train_score                                                        -10096.2   \nstd_train_score                                                          153.329   \n\n                                                                              15  \\\nmean_fit_time                                                           0.159288   \nstd_fit_time                                                           0.0340108   \nmean_score_time                                                        0.0380814   \nstd_score_time                                                         0.0117941   \nparam_simpleimputer__strategy                                             median   \nparam_selectkbest__k                                                           1   \nparam_ridge__alpha                                                             1   \nparams                         {'simpleimputer__strategy': 'median', 'selectk...   \nsplit0_test_score                                                        -9468.1   \nsplit1_test_score                                                       -8930.84   \nsplit2_test_score                                                       -9517.23   \nsplit3_test_score                                                       -10937.8   \nsplit4_test_score                                                       -7840.81   \nsplit5_test_score                                                       -11067.9   \nsplit6_test_score                                                       -12544.4   \nsplit7_test_score                                                       -11603.4   \nsplit8_test_score                                                       -9789.88   \nsplit9_test_score                                                       -9823.26   \nmean_test_score                                                         -10152.4   \nstd_test_score                                                            1312.6   \nrank_test_score                                                               39   \nsplit0_train_score                                                      -10181.2   \nsplit1_train_score                                                      -10255.8   \nsplit2_train_score                                                      -10181.6   \nsplit3_train_score                                                      -10006.3   \nsplit4_train_score                                                      -10365.3   \nsplit5_train_score                                                      -9956.89   \nsplit6_train_score                                                      -9824.93   \nsplit7_train_score                                                      -9964.79   \nsplit8_train_score                                                      -10165.7   \nsplit9_train_score                                                      -10164.7   \nmean_train_score                                                        -10106.7   \nstd_train_score                                                          154.649   \n\n                                                                              14  \\\nmean_fit_time                                                           0.165394   \nstd_fit_time                                                           0.0483753   \nmean_score_time                                                        0.0362668   \nstd_score_time                                                        0.00938847   \nparam_simpleimputer__strategy                                               mean   \nparam_selectkbest__k                                                           1   \nparam_ridge__alpha                                                             1   \nparams                         {'simpleimputer__strategy': 'mean', 'selectkbe...   \nsplit0_test_score                                                        -9468.1   \nsplit1_test_score                                                       -8930.84   \nsplit2_test_score                                                       -9517.23   \nsplit3_test_score                                                       -10937.8   \nsplit4_test_score                                                       -7840.81   \nsplit5_test_score                                                       -11067.9   \nsplit6_test_score                                                       -12544.4   \nsplit7_test_score                                                       -11603.4   \nsplit8_test_score                                                       -9789.88   \nsplit9_test_score                                                       -9823.26   \nmean_test_score                                                         -10152.4   \nstd_test_score                                                            1312.6   \nrank_test_score                                                               39   \nsplit0_train_score                                                      -10181.2   \nsplit1_train_score                                                      -10255.8   \nsplit2_train_score                                                      -10181.6   \nsplit3_train_score                                                      -10006.3   \nsplit4_train_score                                                      -10365.3   \nsplit5_train_score                                                      -9956.89   \nsplit6_train_score                                                      -9824.93   \nsplit7_train_score                                                      -9964.79   \nsplit8_train_score                                                      -10165.7   \nsplit9_train_score                                                      -10164.7   \nmean_train_score                                                        -10106.7   \nstd_train_score                                                          154.649   \n\n                                                                              1   \\\nmean_fit_time                                                           0.147805   \nstd_fit_time                                                            0.023567   \nmean_score_time                                                        0.0348066   \nstd_score_time                                                         0.0101359   \nparam_simpleimputer__strategy                                             median   \nparam_selectkbest__k                                                           1   \nparam_ridge__alpha                                                           0.1   \nparams                         {'simpleimputer__strategy': 'median', 'selectk...   \nsplit0_test_score                                                       -9466.85   \nsplit1_test_score                                                       -8937.65   \nsplit2_test_score                                                       -9518.87   \nsplit3_test_score                                                       -10935.6   \nsplit4_test_score                                                        -7840.7   \nsplit5_test_score                                                       -11063.6   \nsplit6_test_score                                                       -12548.8   \nsplit7_test_score                                                       -11607.4   \nsplit8_test_score                                                       -9796.65   \nsplit9_test_score                                                       -9825.33   \nmean_test_score                                                         -10154.1   \nstd_test_score                                                           1312.55   \nrank_test_score                                                               41   \nsplit0_train_score                                                      -10182.6   \nsplit1_train_score                                                      -10257.4   \nsplit2_train_score                                                      -10182.7   \nsplit3_train_score                                                      -10007.6   \nsplit4_train_score                                                      -10366.5   \nsplit5_train_score                                                      -9957.58   \nsplit6_train_score                                                      -9826.65   \nsplit7_train_score                                                      -9966.53   \nsplit8_train_score                                                      -10167.8   \nsplit9_train_score                                                      -10165.9   \nmean_train_score                                                        -10108.1   \nstd_train_score                                                           154.62   \n\n                                                                              0   \nmean_fit_time                                                           0.136332  \nstd_fit_time                                                           0.0363836  \nmean_score_time                                                        0.0303191  \nstd_score_time                                                         0.0113468  \nparam_simpleimputer__strategy                                               mean  \nparam_selectkbest__k                                                           1  \nparam_ridge__alpha                                                           0.1  \nparams                         {'simpleimputer__strategy': 'mean', 'selectkbe...  \nsplit0_test_score                                                       -9466.85  \nsplit1_test_score                                                       -8937.65  \nsplit2_test_score                                                       -9518.87  \nsplit3_test_score                                                       -10935.6  \nsplit4_test_score                                                        -7840.7  \nsplit5_test_score                                                       -11063.6  \nsplit6_test_score                                                       -12548.8  \nsplit7_test_score                                                       -11607.4  \nsplit8_test_score                                                       -9796.65  \nsplit9_test_score                                                       -9825.33  \nmean_test_score                                                         -10154.1  \nstd_test_score                                                           1312.55  \nrank_test_score                                                               41  \nsplit0_train_score                                                      -10182.6  \nsplit1_train_score                                                      -10257.4  \nsplit2_train_score                                                      -10182.7  \nsplit3_train_score                                                      -10007.6  \nsplit4_train_score                                                      -10366.5  \nsplit5_train_score                                                      -9957.58  \nsplit6_train_score                                                      -9826.65  \nsplit7_train_score                                                      -9966.53  \nsplit8_train_score                                                      -10167.8  \nsplit9_train_score                                                      -10165.9  \nmean_train_score                                                        -10108.1  \nstd_train_score                                                           154.62  \n\n[33 rows x 42 columns]",
            "text/html": "<div>\n<style scoped>\n    .dataframe tbody tr th:only-of-type {\n        vertical-align: middle;\n    }\n\n    .dataframe tbody tr th {\n        vertical-align: top;\n    }\n\n    .dataframe thead th {\n        text-align: right;\n    }\n</style>\n<table border=\"1\" class=\"dataframe\">\n  <thead>\n    <tr style=\"text-align: right;\">\n      <th></th>\n      <th>39</th>\n      <th>38</th>\n      <th>25</th>\n      <th>24</th>\n      <th>11</th>\n      <th>10</th>\n      <th>41</th>\n      <th>40</th>\n      <th>26</th>\n      <th>27</th>\n      <th>...</th>\n      <th>19</th>\n      <th>18</th>\n      <th>5</th>\n      <th>4</th>\n      <th>29</th>\n      <th>28</th>\n      <th>15</th>\n      <th>14</th>\n      <th>1</th>\n      <th>0</th>\n    </tr>\n  </thead>\n  <tbody>\n    <tr>\n      <th>mean_fit_time</th>\n      <td>0.141194</td>\n      <td>0.148025</td>\n      <td>0.166059</td>\n      <td>0.1349</td>\n      <td>0.146111</td>\n      <td>0.143716</td>\n      <td>0.139324</td>\n      <td>0.162622</td>\n      <td>0.159388</td>\n      <td>0.150042</td>\n      <td>...</td>\n      <td>0.212681</td>\n      <td>0.128712</td>\n      <td>0.151251</td>\n      <td>0.132796</td>\n      <td>0.13871</td>\n      <td>0.150824</td>\n      <td>0.159288</td>\n      <td>0.165394</td>\n      <td>0.147805</td>\n      <td>0.136332</td>\n    </tr>\n    <tr>\n      <th>std_fit_time</th>\n      <td>0.00794143</td>\n      <td>0.0329661</td>\n      <td>0.0306274</td>\n      <td>0.0184752</td>\n      <td>0.0284183</td>\n      <td>0.0303082</td>\n      <td>0.0261769</td>\n      <td>0.0405309</td>\n      <td>0.0282006</td>\n      <td>0.0340251</td>\n      <td>...</td>\n      <td>0.065625</td>\n      <td>0.0115674</td>\n      <td>0.0362129</td>\n      <td>0.0248393</td>\n      <td>0.0272829</td>\n      <td>0.0216201</td>\n      <td>0.0340108</td>\n      <td>0.0483753</td>\n      <td>0.023567</td>\n      <td>0.0363836</td>\n    </tr>\n    <tr>\n      <th>mean_score_time</th>\n      <td>0.0331796</td>\n      <td>0.036694</td>\n      <td>0.0405956</td>\n      <td>0.0316082</td>\n      <td>0.0320896</td>\n      <td>0.0297212</td>\n      <td>0.0312599</td>\n      <td>0.035169</td>\n      <td>0.0340076</td>\n      <td>0.0305785</td>\n      <td>...</td>\n      <td>0.0470994</td>\n      <td>0.0287401</td>\n      <td>0.0369016</td>\n      <td>0.0379978</td>\n      <td>0.0338103</td>\n      <td>0.034821</td>\n      <td>0.0380814</td>\n      <td>0.0362668</td>\n      <td>0.0348066</td>\n      <td>0.0303191</td>\n    </tr>\n    <tr>\n      <th>std_score_time</th>\n      <td>0.0136661</td>\n      <td>0.00681494</td>\n      <td>0.0122197</td>\n      <td>0.00675235</td>\n      <td>0.00701866</td>\n      <td>0.005159</td>\n      <td>0.00682309</td>\n      <td>0.0086893</td>\n      <td>0.00918146</td>\n      <td>0.00440601</td>\n      <td>...</td>\n      <td>0.0256161</td>\n      <td>0.00521462</td>\n      <td>0.0197971</td>\n      <td>0.0145991</td>\n      <td>0.0104595</td>\n      <td>0.0122176</td>\n      <td>0.0117941</td>\n      <td>0.00938847</td>\n      <td>0.0101359</td>\n      <td>0.0113468</td>\n    </tr>\n    <tr>\n      <th>param_simpleimputer__strategy</th>\n      <td>median</td>\n      <td>mean</td>\n      <td>median</td>\n      <td>mean</td>\n      <td>median</td>\n      <td>mean</td>\n      <td>median</td>\n      <td>mean</td>\n      <td>mean</td>\n      <td>median</td>\n      <td>...</td>\n      <td>median</td>\n      <td>mean</td>\n      <td>median</td>\n      <td>mean</td>\n      <td>median</td>\n      <td>mean</td>\n      <td>median</td>\n      <td>mean</td>\n      <td>median</td>\n      <td>mean</td>\n    </tr>\n    <tr>\n      <th>param_selectkbest__k</th>\n      <td>6</td>\n      <td>6</td>\n      <td>6</td>\n      <td>6</td>\n      <td>6</td>\n      <td>6</td>\n      <td>7</td>\n      <td>7</td>\n      <td>7</td>\n      <td>7</td>\n      <td>...</td>\n      <td>3</td>\n      <td>3</td>\n      <td>3</td>\n      <td>3</td>\n      <td>1</td>\n      <td>1</td>\n      <td>1</td>\n      <td>1</td>\n      <td>1</td>\n      <td>1</td>\n    </tr>\n    <tr>\n      <th>param_ridge__alpha</th>\n      <td>10</td>\n      <td>10</td>\n      <td>1</td>\n      <td>1</td>\n      <td>0.1</td>\n      <td>0.1</td>\n      <td>10</td>\n      <td>10</td>\n      <td>1</td>\n      <td>1</td>\n      <td>...</td>\n      <td>1</td>\n      <td>1</td>\n      <td>0.1</td>\n      <td>0.1</td>\n      <td>10</td>\n      <td>10</td>\n      <td>1</td>\n      <td>1</td>\n      <td>0.1</td>\n      <td>0.1</td>\n    </tr>\n    <tr>\n      <th>params</th>\n      <td>{'simpleimputer__strategy': 'median', 'selectk...</td>\n      <td>{'simpleimputer__strategy': 'mean', 'selectkbe...</td>\n      <td>{'simpleimputer__strategy': 'median', 'selectk...</td>\n      <td>{'simpleimputer__strategy': 'mean', 'selectkbe...</td>\n      <td>{'simpleimputer__strategy': 'median', 'selectk...</td>\n      <td>{'simpleimputer__strategy': 'mean', 'selectkbe...</td>\n      <td>{'simpleimputer__strategy': 'median', 'selectk...</td>\n      <td>{'simpleimputer__strategy': 'mean', 'selectkbe...</td>\n      <td>{'simpleimputer__strategy': 'mean', 'selectkbe...</td>\n      <td>{'simpleimputer__strategy': 'median', 'selectk...</td>\n      <td>...</td>\n      <td>{'simpleimputer__strategy': 'median', 'selectk...</td>\n      <td>{'simpleimputer__strategy': 'mean', 'selectkbe...</td>\n      <td>{'simpleimputer__strategy': 'median', 'selectk...</td>\n      <td>{'simpleimputer__strategy': 'mean', 'selectkbe...</td>\n      <td>{'simpleimputer__strategy': 'median', 'selectk...</td>\n      <td>{'simpleimputer__strategy': 'mean', 'selectkbe...</td>\n      <td>{'simpleimputer__strategy': 'median', 'selectk...</td>\n      <td>{'simpleimputer__strategy': 'mean', 'selectkbe...</td>\n      <td>{'simpleimputer__strategy': 'median', 'selectk...</td>\n      <td>{'simpleimputer__strategy': 'mean', 'selectkbe...</td>\n    </tr>\n    <tr>\n      <th>split0_test_score</th>\n      <td>-5921.18</td>\n      <td>-5921.18</td>\n      <td>-5913.07</td>\n      <td>-5913.07</td>\n      <td>-5913.12</td>\n      <td>-5913.12</td>\n      <td>-5958.32</td>\n      <td>-5958.32</td>\n      <td>-5943.7</td>\n      <td>-5943.7</td>\n      <td>...</td>\n      <td>-6733.07</td>\n      <td>-6733.07</td>\n      <td>-6734.29</td>\n      <td>-6734.29</td>\n      <td>-9486.67</td>\n      <td>-9486.67</td>\n      <td>-9468.1</td>\n      <td>-9468.1</td>\n      <td>-9466.85</td>\n      <td>-9466.85</td>\n    </tr>\n    <tr>\n      <th>split1_test_score</th>\n      <td>-6465.9</td>\n      <td>-6465.9</td>\n      <td>-6509.06</td>\n      <td>-6509.06</td>\n      <td>-6514.2</td>\n      <td>-6514.2</td>\n      <td>-6469.6</td>\n      <td>-6469.6</td>\n      <td>-6525.89</td>\n      <td>-6525.89</td>\n      <td>...</td>\n      <td>-6691.8</td>\n      <td>-6691.8</td>\n      <td>-6696.05</td>\n      <td>-6696.05</td>\n      <td>-8866.3</td>\n      <td>-8866.3</td>\n      <td>-8930.84</td>\n      <td>-8930.84</td>\n      <td>-8937.65</td>\n      <td>-8937.65</td>\n    </tr>\n    <tr>\n      <th>split2_test_score</th>\n      <td>-7212.89</td>\n      <td>-7212.89</td>\n      <td>-7245.31</td>\n      <td>-7245.31</td>\n      <td>-7249.68</td>\n      <td>-7249.68</td>\n      <td>-7153.85</td>\n      <td>-7153.85</td>\n      <td>-7186.73</td>\n      <td>-7186.73</td>\n      <td>...</td>\n      <td>-8104.72</td>\n      <td>-8104.72</td>\n      <td>-8106.41</td>\n      <td>-8106.41</td>\n      <td>-9501.1</td>\n      <td>-9501.1</td>\n      <td>-9517.23</td>\n      <td>-9517.23</td>\n      <td>-9518.87</td>\n      <td>-9518.87</td>\n    </tr>\n    <tr>\n      <th>split3_test_score</th>\n      <td>-9163.67</td>\n      <td>-9163.67</td>\n      <td>-9191.58</td>\n      <td>-9191.58</td>\n      <td>-9194.4</td>\n      <td>-9194.4</td>\n      <td>-9163</td>\n      <td>-9163</td>\n      <td>-9191.52</td>\n      <td>-9191.52</td>\n      <td>...</td>\n      <td>-10174.5</td>\n      <td>-10174.5</td>\n      <td>-10175.7</td>\n      <td>-10175.7</td>\n      <td>-10959.6</td>\n      <td>-10959.6</td>\n      <td>-10937.8</td>\n      <td>-10937.8</td>\n      <td>-10935.6</td>\n      <td>-10935.6</td>\n    </tr>\n    <tr>\n      <th>split4_test_score</th>\n      <td>-6822.73</td>\n      <td>-6822.73</td>\n      <td>-6778.13</td>\n      <td>-6778.13</td>\n      <td>-6773.39</td>\n      <td>-6773.39</td>\n      <td>-6824.38</td>\n      <td>-6824.38</td>\n      <td>-6778.29</td>\n      <td>-6778.29</td>\n      <td>...</td>\n      <td>-7222.62</td>\n      <td>-7222.62</td>\n      <td>-7220.06</td>\n      <td>-7220.06</td>\n      <td>-7841.82</td>\n      <td>-7841.82</td>\n      <td>-7840.81</td>\n      <td>-7840.81</td>\n      <td>-7840.7</td>\n      <td>-7840.7</td>\n    </tr>\n    <tr>\n      <th>split5_test_score</th>\n      <td>-7827.47</td>\n      <td>-7827.47</td>\n      <td>-7829.8</td>\n      <td>-7829.8</td>\n      <td>-7829.98</td>\n      <td>-7829.98</td>\n      <td>-7906.97</td>\n      <td>-7906.97</td>\n      <td>-7890.98</td>\n      <td>-7890.98</td>\n      <td>...</td>\n      <td>-8960.53</td>\n      <td>-8960.53</td>\n      <td>-8960.22</td>\n      <td>-8960.22</td>\n      <td>-11110.2</td>\n      <td>-11110.2</td>\n      <td>-11067.9</td>\n      <td>-11067.9</td>\n      <td>-11063.6</td>\n      <td>-11063.6</td>\n    </tr>\n    <tr>\n      <th>split6_test_score</th>\n      <td>-9711.14</td>\n      <td>-9711.14</td>\n      <td>-9688.42</td>\n      <td>-9688.42</td>\n      <td>-9686.06</td>\n      <td>-9686.06</td>\n      <td>-9711.26</td>\n      <td>-9711.26</td>\n      <td>-9688.43</td>\n      <td>-9688.43</td>\n      <td>...</td>\n      <td>-10388.9</td>\n      <td>-10388.9</td>\n      <td>-10386.2</td>\n      <td>-10386.2</td>\n      <td>-12516.7</td>\n      <td>-12516.7</td>\n      <td>-12544.4</td>\n      <td>-12544.4</td>\n      <td>-12548.8</td>\n      <td>-12548.8</td>\n    </tr>\n    <tr>\n      <th>split7_test_score</th>\n      <td>-9997.57</td>\n      <td>-9997.57</td>\n      <td>-10063.6</td>\n      <td>-10063.6</td>\n      <td>-10070.3</td>\n      <td>-10070.3</td>\n      <td>-9997.81</td>\n      <td>-9997.81</td>\n      <td>-10063.6</td>\n      <td>-10063.6</td>\n      <td>...</td>\n      <td>-10436.7</td>\n      <td>-10436.7</td>\n      <td>-10444.1</td>\n      <td>-10444.1</td>\n      <td>-11564.1</td>\n      <td>-11564.1</td>\n      <td>-11603.4</td>\n      <td>-11603.4</td>\n      <td>-11607.4</td>\n      <td>-11607.4</td>\n    </tr>\n    <tr>\n      <th>split8_test_score</th>\n      <td>-8435.86</td>\n      <td>-8435.86</td>\n      <td>-8448.39</td>\n      <td>-8448.39</td>\n      <td>-8449.99</td>\n      <td>-8449.99</td>\n      <td>-8501.72</td>\n      <td>-8501.72</td>\n      <td>-8505.66</td>\n      <td>-8505.66</td>\n      <td>...</td>\n      <td>-9242.56</td>\n      <td>-9242.56</td>\n      <td>-9243.97</td>\n      <td>-9243.97</td>\n      <td>-9723.29</td>\n      <td>-9723.29</td>\n      <td>-9789.88</td>\n      <td>-9789.88</td>\n      <td>-9796.65</td>\n      <td>-9796.65</td>\n    </tr>\n    <tr>\n      <th>split9_test_score</th>\n      <td>-7410.44</td>\n      <td>-7410.44</td>\n      <td>-7412.02</td>\n      <td>-7412.02</td>\n      <td>-7413.36</td>\n      <td>-7413.36</td>\n      <td>-7409.83</td>\n      <td>-7409.83</td>\n      <td>-7412</td>\n      <td>-7412</td>\n      <td>...</td>\n      <td>-7517.13</td>\n      <td>-7517.13</td>\n      <td>-7517.03</td>\n      <td>-7517.03</td>\n      <td>-9802.88</td>\n      <td>-9802.88</td>\n      <td>-9823.26</td>\n      <td>-9823.26</td>\n      <td>-9825.33</td>\n      <td>-9825.33</td>\n    </tr>\n    <tr>\n      <th>mean_test_score</th>\n      <td>-7896.89</td>\n      <td>-7896.89</td>\n      <td>-7907.94</td>\n      <td>-7907.94</td>\n      <td>-7909.45</td>\n      <td>-7909.45</td>\n      <td>-7909.68</td>\n      <td>-7909.68</td>\n      <td>-7918.68</td>\n      <td>-7918.68</td>\n      <td>...</td>\n      <td>-8547.25</td>\n      <td>-8547.25</td>\n      <td>-8548.39</td>\n      <td>-8548.39</td>\n      <td>-10137.3</td>\n      <td>-10137.3</td>\n      <td>-10152.4</td>\n      <td>-10152.4</td>\n      <td>-10154.1</td>\n      <td>-10154.1</td>\n    </tr>\n    <tr>\n      <th>std_test_score</th>\n      <td>1319.62</td>\n      <td>1319.62</td>\n      <td>1328.93</td>\n      <td>1328.93</td>\n      <td>1329.64</td>\n      <td>1329.64</td>\n      <td>1319.39</td>\n      <td>1319.39</td>\n      <td>1327.83</td>\n      <td>1327.83</td>\n      <td>...</td>\n      <td>1414.55</td>\n      <td>1414.55</td>\n      <td>1414.85</td>\n      <td>1414.85</td>\n      <td>1315.9</td>\n      <td>1315.9</td>\n      <td>1312.6</td>\n      <td>1312.6</td>\n      <td>1312.55</td>\n      <td>1312.55</td>\n    </tr>\n    <tr>\n      <th>rank_test_score</th>\n      <td>1</td>\n      <td>1</td>\n      <td>3</td>\n      <td>3</td>\n      <td>5</td>\n      <td>5</td>\n      <td>7</td>\n      <td>7</td>\n      <td>9</td>\n      <td>9</td>\n      <td>...</td>\n      <td>33</td>\n      <td>33</td>\n      <td>35</td>\n      <td>35</td>\n      <td>37</td>\n      <td>37</td>\n      <td>39</td>\n      <td>39</td>\n      <td>41</td>\n      <td>41</td>\n    </tr>\n    <tr>\n      <th>split0_train_score</th>\n      <td>-7706.18</td>\n      <td>-7706.18</td>\n      <td>-7714.53</td>\n      <td>-7714.53</td>\n      <td>-7715.89</td>\n      <td>-7715.89</td>\n      <td>-7686.6</td>\n      <td>-7686.6</td>\n      <td>-7696.33</td>\n      <td>-7696.33</td>\n      <td>...</td>\n      <td>-8725.98</td>\n      <td>-8725.98</td>\n      <td>-8727.3</td>\n      <td>-8727.3</td>\n      <td>-10169.3</td>\n      <td>-10169.3</td>\n      <td>-10181.2</td>\n      <td>-10181.2</td>\n      <td>-10182.6</td>\n      <td>-10182.6</td>\n    </tr>\n    <tr>\n      <th>split1_train_score</th>\n      <td>-7644.82</td>\n      <td>-7644.82</td>\n      <td>-7646.92</td>\n      <td>-7646.92</td>\n      <td>-7647.34</td>\n      <td>-7647.34</td>\n      <td>-7631.04</td>\n      <td>-7631.04</td>\n      <td>-7632.29</td>\n      <td>-7632.29</td>\n      <td>...</td>\n      <td>-8724.12</td>\n      <td>-8724.12</td>\n      <td>-8724.72</td>\n      <td>-8724.72</td>\n      <td>-10245.5</td>\n      <td>-10245.5</td>\n      <td>-10255.8</td>\n      <td>-10255.8</td>\n      <td>-10257.4</td>\n      <td>-10257.4</td>\n    </tr>\n    <tr>\n      <th>split2_train_score</th>\n      <td>-7586.64</td>\n      <td>-7586.64</td>\n      <td>-7592.96</td>\n      <td>-7592.96</td>\n      <td>-7593.74</td>\n      <td>-7593.74</td>\n      <td>-7577.94</td>\n      <td>-7577.94</td>\n      <td>-7585.09</td>\n      <td>-7585.09</td>\n      <td>...</td>\n      <td>-8579.42</td>\n      <td>-8579.42</td>\n      <td>-8580.51</td>\n      <td>-8580.51</td>\n      <td>-10172.6</td>\n      <td>-10172.6</td>\n      <td>-10181.6</td>\n      <td>-10181.6</td>\n      <td>-10182.7</td>\n      <td>-10182.7</td>\n    </tr>\n    <tr>\n      <th>split3_train_score</th>\n      <td>-7779.41</td>\n      <td>-7779.41</td>\n      <td>-7789.37</td>\n      <td>-7789.37</td>\n      <td>-7790.45</td>\n      <td>-7790.45</td>\n      <td>-7779.49</td>\n      <td>-7779.49</td>\n      <td>-7789.39</td>\n      <td>-7789.39</td>\n      <td>...</td>\n      <td>-8321.66</td>\n      <td>-8321.66</td>\n      <td>-8322.27</td>\n      <td>-8322.27</td>\n      <td>-9997.1</td>\n      <td>-9997.1</td>\n      <td>-10006.3</td>\n      <td>-10006.3</td>\n      <td>-10007.6</td>\n      <td>-10007.6</td>\n    </tr>\n    <tr>\n      <th>split4_train_score</th>\n      <td>-8045.75</td>\n      <td>-8045.75</td>\n      <td>-8061.03</td>\n      <td>-8061.03</td>\n      <td>-8062.79</td>\n      <td>-8062.79</td>\n      <td>-8045.85</td>\n      <td>-8045.85</td>\n      <td>-8061.03</td>\n      <td>-8061.03</td>\n      <td>...</td>\n      <td>-8684.28</td>\n      <td>-8684.28</td>\n      <td>-8685.32</td>\n      <td>-8685.32</td>\n      <td>-10354.1</td>\n      <td>-10354.1</td>\n      <td>-10365.3</td>\n      <td>-10365.3</td>\n      <td>-10366.5</td>\n      <td>-10366.5</td>\n    </tr>\n    <tr>\n      <th>split5_train_score</th>\n      <td>-7445.82</td>\n      <td>-7445.82</td>\n      <td>-7450.02</td>\n      <td>-7450.02</td>\n      <td>-7450.83</td>\n      <td>-7450.83</td>\n      <td>-7421.85</td>\n      <td>-7421.85</td>\n      <td>-7430.15</td>\n      <td>-7430.15</td>\n      <td>...</td>\n      <td>-8385.27</td>\n      <td>-8385.27</td>\n      <td>-8385.99</td>\n      <td>-8385.99</td>\n      <td>-9951.66</td>\n      <td>-9951.66</td>\n      <td>-9956.89</td>\n      <td>-9956.89</td>\n      <td>-9957.58</td>\n      <td>-9957.58</td>\n    </tr>\n    <tr>\n      <th>split6_train_score</th>\n      <td>-7663.83</td>\n      <td>-7663.83</td>\n      <td>-7674.8</td>\n      <td>-7674.8</td>\n      <td>-7675.95</td>\n      <td>-7675.95</td>\n      <td>-7663.91</td>\n      <td>-7663.91</td>\n      <td>-7674.81</td>\n      <td>-7674.81</td>\n      <td>...</td>\n      <td>-8272.91</td>\n      <td>-8272.91</td>\n      <td>-8274.17</td>\n      <td>-8274.17</td>\n      <td>-9815.26</td>\n      <td>-9815.26</td>\n      <td>-9824.93</td>\n      <td>-9824.93</td>\n      <td>-9826.65</td>\n      <td>-9826.65</td>\n    </tr>\n    <tr>\n      <th>split7_train_score</th>\n      <td>-7682.92</td>\n      <td>-7682.92</td>\n      <td>-7685.41</td>\n      <td>-7685.41</td>\n      <td>-7685.67</td>\n      <td>-7685.67</td>\n      <td>-7683.06</td>\n      <td>-7683.06</td>\n      <td>-7685.42</td>\n      <td>-7685.42</td>\n      <td>...</td>\n      <td>-8299.68</td>\n      <td>-8299.68</td>\n      <td>-8300.21</td>\n      <td>-8300.21</td>\n      <td>-9956.14</td>\n      <td>-9956.14</td>\n      <td>-9964.79</td>\n      <td>-9964.79</td>\n      <td>-9966.53</td>\n      <td>-9966.53</td>\n    </tr>\n    <tr>\n      <th>split8_train_score</th>\n      <td>-7402.4</td>\n      <td>-7402.4</td>\n      <td>-7415.17</td>\n      <td>-7415.17</td>\n      <td>-7417.04</td>\n      <td>-7417.04</td>\n      <td>-7378.78</td>\n      <td>-7378.78</td>\n      <td>-7392.18</td>\n      <td>-7392.18</td>\n      <td>...</td>\n      <td>-8433.66</td>\n      <td>-8433.66</td>\n      <td>-8435.37</td>\n      <td>-8435.37</td>\n      <td>-10146.1</td>\n      <td>-10146.1</td>\n      <td>-10165.7</td>\n      <td>-10165.7</td>\n      <td>-10167.8</td>\n      <td>-10167.8</td>\n    </tr>\n    <tr>\n      <th>split9_train_score</th>\n      <td>-7948.35</td>\n      <td>-7948.35</td>\n      <td>-7957.51</td>\n      <td>-7957.51</td>\n      <td>-7958.71</td>\n      <td>-7958.71</td>\n      <td>-7948.38</td>\n      <td>-7948.38</td>\n      <td>-7957.51</td>\n      <td>-7957.51</td>\n      <td>...</td>\n      <td>-7945.89</td>\n      <td>-7945.89</td>\n      <td>-7947.08</td>\n      <td>-7947.08</td>\n      <td>-10154.4</td>\n      <td>-10154.4</td>\n      <td>-10164.7</td>\n      <td>-10164.7</td>\n      <td>-10165.9</td>\n      <td>-10165.9</td>\n    </tr>\n    <tr>\n      <th>mean_train_score</th>\n      <td>-7690.61</td>\n      <td>-7690.61</td>\n      <td>-7698.77</td>\n      <td>-7698.77</td>\n      <td>-7699.84</td>\n      <td>-7699.84</td>\n      <td>-7681.69</td>\n      <td>-7681.69</td>\n      <td>-7690.42</td>\n      <td>-7690.42</td>\n      <td>...</td>\n      <td>-8437.28</td>\n      <td>-8437.28</td>\n      <td>-8438.29</td>\n      <td>-8438.29</td>\n      <td>-10096.2</td>\n      <td>-10096.2</td>\n      <td>-10106.7</td>\n      <td>-10106.7</td>\n      <td>-10108.1</td>\n      <td>-10108.1</td>\n    </tr>\n    <tr>\n      <th>std_train_score</th>\n      <td>189.039</td>\n      <td>189.039</td>\n      <td>190.676</td>\n      <td>190.676</td>\n      <td>190.784</td>\n      <td>190.784</td>\n      <td>196.531</td>\n      <td>196.531</td>\n      <td>197.471</td>\n      <td>197.471</td>\n      <td>...</td>\n      <td>234.592</td>\n      <td>234.592</td>\n      <td>234.589</td>\n      <td>234.589</td>\n      <td>153.329</td>\n      <td>153.329</td>\n      <td>154.649</td>\n      <td>154.649</td>\n      <td>154.62</td>\n      <td>154.62</td>\n    </tr>\n  </tbody>\n</table>\n<p>33 rows × 42 columns</p>\n</div>"
          },
          "metadata": {},
          "execution_count": 93
        }
      ],
      "source": [
        "pd.DataFrame(search.cv_results_).sort_values(by='rank_test_score').T"
      ]
    },
    {
      "cell_type": "code",
      "execution_count": 95,
      "metadata": {},
      "outputs": [
        {
          "output_type": "stream",
          "name": "stdout",
          "text": "Test MAE: $8,529\n"
        }
      ],
      "source": [
        "pipeline = search.best_estimator_\n",
        "from sklearn.metrics import mean_absolute_error\n",
        "y_pred = pipeline.predict(X_test)\n",
        "mae = mean_absolute_error(Y_test, y_pred)\n",
        "print(f'Test MAE: ${mae:,.0f}')"
      ]
    },
    {
      "cell_type": "markdown",
      "metadata": {},
      "source": [
        "### Random Forrest Regressor\n",
        "---"
      ]
    },
    {
      "cell_type": "code",
      "execution_count": 98,
      "metadata": {},
      "outputs": [
        {
          "output_type": "stream",
          "name": "stdout",
          "text": "Fitting 10 folds for each of 100 candidates, totalling 1000 fits\n[Parallel(n_jobs=-1)]: Using backend LokyBackend with 12 concurrent workers.\n[Parallel(n_jobs=-1)]: Done   1 tasks      | elapsed:    1.1s\n[Parallel(n_jobs=-1)]: Done   8 tasks      | elapsed:    1.3s\n[Parallel(n_jobs=-1)]: Done  17 tasks      | elapsed:    2.5s\n[Parallel(n_jobs=-1)]: Done  26 tasks      | elapsed:    3.1s\n[Parallel(n_jobs=-1)]: Done  37 tasks      | elapsed:    4.2s\n[Parallel(n_jobs=-1)]: Done  48 tasks      | elapsed:    4.7s\n[Parallel(n_jobs=-1)]: Done  61 tasks      | elapsed:    6.5s\n[Parallel(n_jobs=-1)]: Done  74 tasks      | elapsed:    7.5s\n[Parallel(n_jobs=-1)]: Done  89 tasks      | elapsed:    8.5s\n[Parallel(n_jobs=-1)]: Done 104 tasks      | elapsed:   10.7s\n[Parallel(n_jobs=-1)]: Done 121 tasks      | elapsed:   12.1s\n[Parallel(n_jobs=-1)]: Done 138 tasks      | elapsed:   14.0s\n[Parallel(n_jobs=-1)]: Done 157 tasks      | elapsed:   16.3s\n[Parallel(n_jobs=-1)]: Done 176 tasks      | elapsed:   18.2s\n[Parallel(n_jobs=-1)]: Done 197 tasks      | elapsed:   21.0s\n[Parallel(n_jobs=-1)]: Done 218 tasks      | elapsed:   23.5s\n[Parallel(n_jobs=-1)]: Done 241 tasks      | elapsed:   25.5s\n[Parallel(n_jobs=-1)]: Done 264 tasks      | elapsed:   27.6s\n[Parallel(n_jobs=-1)]: Done 289 tasks      | elapsed:   29.4s\n[Parallel(n_jobs=-1)]: Done 314 tasks      | elapsed:   33.1s\n[Parallel(n_jobs=-1)]: Done 341 tasks      | elapsed:   36.2s\n[Parallel(n_jobs=-1)]: Done 368 tasks      | elapsed:   38.7s\n[Parallel(n_jobs=-1)]: Done 397 tasks      | elapsed:   41.5s\n[Parallel(n_jobs=-1)]: Done 426 tasks      | elapsed:   45.5s\n[Parallel(n_jobs=-1)]: Done 457 tasks      | elapsed:   49.3s\n[Parallel(n_jobs=-1)]: Done 488 tasks      | elapsed:   52.9s\n[Parallel(n_jobs=-1)]: Done 521 tasks      | elapsed:   55.1s\n[Parallel(n_jobs=-1)]: Done 554 tasks      | elapsed:   58.0s\n[Parallel(n_jobs=-1)]: Done 589 tasks      | elapsed:  1.0min\n[Parallel(n_jobs=-1)]: Done 624 tasks      | elapsed:  1.1min\n[Parallel(n_jobs=-1)]: Done 661 tasks      | elapsed:  1.2min\n[Parallel(n_jobs=-1)]: Done 698 tasks      | elapsed:  1.2min\n[Parallel(n_jobs=-1)]: Done 737 tasks      | elapsed:  1.3min\n[Parallel(n_jobs=-1)]: Done 776 tasks      | elapsed:  1.4min\n[Parallel(n_jobs=-1)]: Done 817 tasks      | elapsed:  1.4min\n[Parallel(n_jobs=-1)]: Done 858 tasks      | elapsed:  1.5min\n[Parallel(n_jobs=-1)]: Done 901 tasks      | elapsed:  1.6min\n[Parallel(n_jobs=-1)]: Done 944 tasks      | elapsed:  1.6min\n[Parallel(n_jobs=-1)]: Done 1000 out of 1000 | elapsed:  1.7min finished\n"
        }
      ],
      "source": [
        "from scipy.stats import randint, uniform\n",
        "from sklearn.ensemble import RandomForestRegressor\n",
        "\n",
        "features = train.columns.drop(target)\n",
        "X_train = train[features]\n",
        "y_train = train[target]\n",
        "\n",
        "pipeline = make_pipeline(\n",
        "    ce.TargetEncoder(), \n",
        "    SimpleImputer(), \n",
        "    RandomForestRegressor(random_state=42)\n",
        ")\n",
        "\n",
        "param_distributions = {\n",
        "    'targetencoder__min_samples_leaf': randint(1, 1000),     \n",
        "    'simpleimputer__strategy': ['mean', 'median'], \n",
        "    'randomforestregressor__n_estimators': randint(50, 500), \n",
        "    'randomforestregressor__max_depth': [5, 10, 15, 20, None], \n",
        "    'randomforestregressor__max_features': uniform(0, 1), \n",
        "}\n",
        "\n",
        "# If you're on Colab, decrease n_iter & cv parameters\n",
        "search = RandomizedSearchCV(\n",
        "    pipeline, \n",
        "    param_distributions=param_distributions, \n",
        "    n_iter=100, \n",
        "    cv=10, \n",
        "    scoring='neg_mean_absolute_error', \n",
        "    verbose=10, \n",
        "    return_train_score=True, \n",
        "    n_jobs=-1\n",
        ")\n",
        "\n",
        "search.fit(X_train, y_train);"
      ]
    },
    {
      "cell_type": "code",
      "execution_count": 99,
      "metadata": {},
      "outputs": [
        {
          "output_type": "stream",
          "name": "stdout",
          "text": "Best hyperparameters {'randomforestregressor__max_depth': 15, 'randomforestregressor__max_features': 0.9908725183445583, 'randomforestregressor__n_estimators': 215, 'simpleimputer__strategy': 'median', 'targetencoder__min_samples_leaf': 1}\nCross-validation MAE 5134.987753469612\n"
        }
      ],
      "source": [
        "print('Best hyperparameters', search.best_params_)\n",
        "print('Cross-validation MAE', -search.best_score_)"
      ]
    },
    {
      "cell_type": "code",
      "execution_count": 100,
      "metadata": {},
      "outputs": [
        {
          "output_type": "execute_result",
          "data": {
            "text/plain": "                                256   \nparam_simpleimputer__strategy                                                           mean   \nparam_targetencoder__min_samples_leaf                                                    353   \nparams                                     {'randomforestregressor__max_depth': None, 'ra...   \nsplit0_test_score                                                                    -6140.8   \nsplit1_test_score                                                                   -7848.43   \nsplit2_test_score                                                                   -6452.75   \nsplit3_test_score                                                                   -8140.51   \nsplit4_test_score                                                                   -8089.98   \nsplit5_test_score                                                                    -8947.7   \nsplit6_test_score                                                                   -9830.55   \nsplit7_test_score                                                                   -9467.58   \nsplit8_test_score                                                                   -11208.3   \nsplit9_test_score                                                                   -7008.73   \nmean_test_score                                                                     -8313.53   \nstd_test_score                                                                       1503.23   \nrank_test_score                                                                           95   \nsplit0_train_score                                                                  -3151.99   \nsplit1_train_score                                                                  -3037.06   \nsplit2_train_score                                                                  -3151.02   \nsplit3_train_score                                                                  -3034.55   \nsplit4_train_score                                                                  -3099.58   \nsplit5_train_score                                                                  -2982.65   \nsplit6_train_score                                                                  -2962.62   \nsplit7_train_score                                                                  -2967.56   \nsplit8_train_score                                                                  -2819.19   \nsplit9_train_score                                                                   -3083.1   \nmean_train_score                                                                    -3028.93   \nstd_train_score                                                                      96.1106   \n\n                                                                                          77  \\\nmean_fit_time                                                                        1.68212   \nstd_fit_time                                                                        0.131218   \nmean_score_time                                                                    0.0787455   \nstd_score_time                                                                       0.01045   \nparam_randomforestregressor__max_depth                                                    15   \nparam_randomforestregressor__max_features                                            0.23692   \nparam_randomforestregressor__n_estimators                                                489   \nparam_simpleimputer__strategy                                                         median   \nparam_targetencoder__min_samples_leaf                                                    390   \nparams                                     {'randomforestregressor__max_depth': 15, 'rand...   \nsplit0_test_score                                                                   -6109.23   \nsplit1_test_score                                                                   -7837.04   \nsplit2_test_score                                                                    -6434.4   \nsplit3_test_score                                                                   -8145.57   \nsplit4_test_score                                                                   -8228.86   \nsplit5_test_score                                                                   -8968.83   \nsplit6_test_score                                                                   -9861.56   \nsplit7_test_score                                                                   -9428.22   \nsplit8_test_score                                                                   -11230.3   \nsplit9_test_score                                                                    -7102.5   \nmean_test_score                                                                     -8334.65   \nstd_test_score                                                                       1506.34   \nrank_test_score                                                                           96   \nsplit0_train_score                                                                   -3205.8   \nsplit1_train_score                                                                  -3087.91   \nsplit2_train_score                                                                  -3199.54   \nsplit3_train_score                                                                  -3068.41   \nsplit4_train_score                                                                  -3145.17   \nsplit5_train_score                                                                  -3037.68   \nsplit6_train_score                                                                  -3001.48   \nsplit7_train_score                                                                  -3018.38   \nsplit8_train_score                                                                  -2863.49   \nsplit9_train_score                                                                  -3142.96   \nmean_train_score                                                                    -3077.08   \nstd_train_score                                                                      98.5233   \n\n                                                                                          95  \\\nmean_fit_time                                                                       0.597938   \nstd_fit_time                                                                         0.09813   \nmean_score_time                                                                     0.041158   \nstd_score_time                                                                     0.0140521   \nparam_randomforestregressor__max_depth                                                  None   \nparam_randomforestregressor__max_features                                          0.0739048   \nparam_randomforestregressor__n_estimators                                                139   \nparam_simpleimputer__strategy                                                         median   \nparam_targetencoder__min_samples_leaf                                                    276   \nparams                                     {'randomforestregressor__max_depth': None, 'ra...   \nsplit0_test_score                                                                   -6181.85   \nsplit1_test_score                                                                   -8101.11   \nsplit2_test_score                                                                    -6448.7   \nsplit3_test_score                                                                    -8066.3   \nsplit4_test_score                                                                   -8076.65   \nsplit5_test_score                                                                   -9058.78   \nsplit6_test_score                                                                   -9787.73   \nsplit7_test_score                                                                   -9450.82   \nsplit8_test_score                                                                   -11185.9   \nsplit9_test_score                                                                   -7052.84   \nmean_test_score                                                                     -8341.06   \nstd_test_score                                                                       1484.52   \nrank_test_score                                                                           97   \nsplit0_train_score                                                                   -3218.9   \nsplit1_train_score                                                                  -3092.56   \nsplit2_train_score                                                                  -3179.21   \nsplit3_train_score                                                                  -3031.05   \nsplit4_train_score                                                                  -3148.88   \nsplit5_train_score                                                                  -3027.62   \nsplit6_train_score                                                                  -2990.63   \nsplit7_train_score                                                                  -3008.64   \nsplit8_train_score                                                                   -2849.5   \nsplit9_train_score                                                                  -3120.68   \nmean_train_score                                                                    -3066.77   \nstd_train_score                                                                      102.612   \n\n                                                                                          48  \\\nmean_fit_time                                                                       0.956101   \nstd_fit_time                                                                         0.12807   \nmean_score_time                                                                    0.0540044   \nstd_score_time                                                                     0.0180982   \nparam_randomforestregressor__max_depth                                                    20   \nparam_randomforestregressor__max_features                                           0.143776   \nparam_randomforestregressor__n_estimators                                                222   \nparam_simpleimputer__strategy                                                           mean   \nparam_targetencoder__min_samples_leaf                                                    358   \nparams                                     {'randomforestregressor__max_depth': 20, 'rand...   \nsplit0_test_score                                                                   -6170.57   \nsplit1_test_score                                                                   -8018.94   \nsplit2_test_score                                                                   -6452.94   \nsplit3_test_score                                                                   -8047.34   \nsplit4_test_score                                                                   -8196.48   \nsplit5_test_score                                                                    -9063.5   \nsplit6_test_score                                                                   -9821.49   \nsplit7_test_score                                                                   -9465.96   \nsplit8_test_score                                                                     -11170   \nsplit9_test_score                                                                   -7009.13   \nmean_test_score                                                                     -8341.64   \nstd_test_score                                                                       1491.41   \nrank_test_score                                                                           98   \nsplit0_train_score                                                                  -3198.17   \nsplit1_train_score                                                                  -3062.12   \nsplit2_train_score                                                                   -3157.1   \nsplit3_train_score                                                                  -3036.33   \nsplit4_train_score                                                                  -3133.07   \nsplit5_train_score                                                                   -3019.8   \nsplit6_train_score                                                                  -2979.82   \nsplit7_train_score                                                                   -2997.7   \nsplit8_train_score                                                                  -2843.93   \nsplit9_train_score                                                                  -3095.35   \nmean_train_score                                                                    -3052.34   \nstd_train_score                                                                      96.7967   \n\n                                                                                          46  \\\nmean_fit_time                                                                         1.6612   \nstd_fit_time                                                                        0.119045   \nmean_score_time                                                                    0.0817479   \nstd_score_time                                                                     0.0116075   \nparam_randomforestregressor__max_depth                                                    15   \nparam_randomforestregressor__max_features                                          0.0993257   \nparam_randomforestregressor__n_estimators                                                478   \nparam_simpleimputer__strategy                                                           mean   \nparam_targetencoder__min_samples_leaf                                                    373   \nparams                                     {'randomforestregressor__max_depth': 15, 'rand...   \nsplit0_test_score                                                                   -6209.94   \nsplit1_test_score                                                                   -7957.26   \nsplit2_test_score                                                                   -6516.38   \nsplit3_test_score                                                                    -8180.5   \nsplit4_test_score                                                                   -8160.01   \nsplit5_test_score                                                                   -8961.37   \nsplit6_test_score                                                                   -9801.95   \nsplit7_test_score                                                                    -9418.8   \nsplit8_test_score                                                                   -11283.7   \nsplit9_test_score                                                                   -7149.36   \nmean_test_score                                                                     -8363.93   \nstd_test_score                                                                       1477.56   \nrank_test_score                                                                           99   \nsplit0_train_score                                                                   -3213.9   \nsplit1_train_score                                                                   -3097.9   \nsplit2_train_score                                                                  -3205.98   \nsplit3_train_score                                                                   -3061.1   \nsplit4_train_score                                                                  -3161.39   \nsplit5_train_score                                                                  -3057.45   \nsplit6_train_score                                                                  -3008.01   \nsplit7_train_score                                                                  -3014.92   \nsplit8_train_score                                                                  -2872.88   \nsplit9_train_score                                                                  -3133.52   \nmean_train_score                                                                     -3082.7   \nstd_train_score                                                                      98.3443   \n\n                                                                                          79  \nmean_fit_time                                                                         1.5379  \nstd_fit_time                                                                        0.129133  \nmean_score_time                                                                    0.0840476  \nstd_score_time                                                                     0.0228959  \nparam_randomforestregressor__max_depth                                                    15  \nparam_randomforestregressor__max_features                                           0.119291  \nparam_randomforestregressor__n_estimators                                                459  \nparam_simpleimputer__strategy                                                           mean  \nparam_targetencoder__min_samples_leaf                                                    367  \nparams                                     {'randomforestregressor__max_depth': 15, 'rand...  \nsplit0_test_score                                                                   -6230.26  \nsplit1_test_score                                                                   -7962.16  \nsplit2_test_score                                                                   -6513.95  \nsplit3_test_score                                                                   -8173.77  \nsplit4_test_score                                                                   -8149.17  \nsplit5_test_score                                                                    -8962.7  \nsplit6_test_score                                                                   -9833.52  \nsplit7_test_score                                                                   -9416.17  \nsplit8_test_score                                                                   -11261.4  \nsplit9_test_score                                                                   -7159.06  \nmean_test_score                                                                     -8366.22  \nstd_test_score                                                                        1472.8  \nrank_test_score                                                                          100  \nsplit0_train_score                                                                  -3212.58  \nsplit1_train_score                                                                  -3096.91  \nsplit2_train_score                                                                  -3205.08  \nsplit3_train_score                                                                  -3060.39  \nsplit4_train_score                                                                  -3162.64  \nsplit5_train_score                                                                  -3059.18  \nsplit6_train_score                                                                  -3010.52  \nsplit7_train_score                                                                  -3016.79  \nsplit8_train_score                                                                  -2879.48  \nsplit9_train_score                                                                  -3138.28  \nmean_train_score                                                                    -3084.19  \nstd_train_score                                                                      96.6471  \n\n[35 rows x 100 columns]",
            "text/html": "<div>\n<style scoped>\n    .dataframe tbody tr th:only-of-type {\n        vertical-align: middle;\n    }\n\n    .dataframe tbody tr th {\n        vertical-align: top;\n    }\n\n    .dataframe thead th {\n        text-align: right;\n    }\n</style>\n<table border=\"1\" class=\"dataframe\">\n  <thead>\n    <tr style=\"text-align: right;\">\n      <th></th>\n      <th>57</th>\n      <th>30</th>\n      <th>47</th>\n      <th>34</th>\n      <th>96</th>\n      <th>31</th>\n      <th>55</th>\n      <th>82</th>\n      <th>32</th>\n      <th>62</th>\n      <th>...</th>\n      <th>22</th>\n      <th>13</th>\n      <th>66</th>\n      <th>28</th>\n      <th>12</th>\n      <th>77</th>\n      <th>95</th>\n      <th>48</th>\n      <th>46</th>\n      <th>79</th>\n    </tr>\n  </thead>\n  <tbody>\n    <tr>\n      <th>mean_fit_time</th>\n      <td>1.09538</td>\n      <td>1.68849</td>\n      <td>1.16014</td>\n      <td>1.24891</td>\n      <td>1.2167</td>\n      <td>1.49963</td>\n      <td>0.363425</td>\n      <td>0.919704</td>\n      <td>1.52889</td>\n      <td>1.4773</td>\n      <td>...</td>\n      <td>1.01827</td>\n      <td>1.18639</td>\n      <td>1.33455</td>\n      <td>0.499205</td>\n      <td>0.934364</td>\n      <td>1.68212</td>\n      <td>0.597938</td>\n      <td>0.956101</td>\n      <td>1.6612</td>\n      <td>1.5379</td>\n    </tr>\n    <tr>\n      <th>std_fit_time</th>\n      <td>0.116847</td>\n      <td>0.0991227</td>\n      <td>0.130269</td>\n      <td>0.101751</td>\n      <td>0.140594</td>\n      <td>0.15293</td>\n      <td>0.0359279</td>\n      <td>0.101518</td>\n      <td>0.18909</td>\n      <td>0.143809</td>\n      <td>...</td>\n      <td>0.079556</td>\n      <td>0.129046</td>\n      <td>0.19398</td>\n      <td>0.0566052</td>\n      <td>0.113981</td>\n      <td>0.131218</td>\n      <td>0.09813</td>\n      <td>0.12807</td>\n      <td>0.119045</td>\n      <td>0.129133</td>\n    </tr>\n    <tr>\n      <th>mean_score_time</th>\n      <td>0.0485495</td>\n      <td>0.0814076</td>\n      <td>0.0658051</td>\n      <td>0.0626861</td>\n      <td>0.0602865</td>\n      <td>0.102103</td>\n      <td>0.0433539</td>\n      <td>0.0473467</td>\n      <td>0.0660875</td>\n      <td>0.0746016</td>\n      <td>...</td>\n      <td>0.0752959</td>\n      <td>0.068853</td>\n      <td>0.0766592</td>\n      <td>0.0380636</td>\n      <td>0.0489419</td>\n      <td>0.0787455</td>\n      <td>0.041158</td>\n      <td>0.0540044</td>\n      <td>0.0817479</td>\n      <td>0.0840476</td>\n    </tr>\n    <tr>\n      <th>std_score_time</th>\n      <td>0.00680832</td>\n      <td>0.0330882</td>\n      <td>0.0161204</td>\n      <td>0.00752743</td>\n      <td>0.00759446</td>\n      <td>0.0587851</td>\n      <td>0.0242494</td>\n      <td>0.0101797</td>\n      <td>0.0217593</td>\n      <td>0.0151936</td>\n      <td>...</td>\n      <td>0.0375519</td>\n      <td>0.0125993</td>\n      <td>0.0223941</td>\n      <td>0.0112595</td>\n      <td>0.00617705</td>\n      <td>0.01045</td>\n      <td>0.0140521</td>\n      <td>0.0180982</td>\n      <td>0.0116075</td>\n      <td>0.0228959</td>\n    </tr>\n    <tr>\n      <th>param_randomforestregressor__max_depth</th>\n      <td>15</td>\n      <td>15</td>\n      <td>10</td>\n      <td>15</td>\n      <td>15</td>\n      <td>10</td>\n      <td>10</td>\n      <td>10</td>\n      <td>15</td>\n      <td>20</td>\n      <td>...</td>\n      <td>None</td>\n      <td>None</td>\n      <td>20</td>\n      <td>None</td>\n      <td>None</td>\n      <td>15</td>\n      <td>None</td>\n      <td>20</td>\n      <td>15</td>\n      <td>15</td>\n    </tr>\n    <tr>\n      <th>param_randomforestregressor__max_features</th>\n      <td>0.990873</td>\n      <td>0.735678</td>\n      <td>0.704441</td>\n      <td>0.440375</td>\n      <td>0.706969</td>\n      <td>0.213266</td>\n      <td>0.493859</td>\n      <td>0.852417</td>\n      <td>0.980763</td>\n      <td>0.274728</td>\n      <td>...</td>\n      <td>0.501442</td>\n      <td>0.421669</td>\n      <td>0.47131</td>\n      <td>0.329091</td>\n      <td>0.23768</td>\n      <td>0.23692</td>\n      <td>0.0739048</td>\n      <td>0.143776</td>\n      <td>0.0993257</td>\n      <td>0.119291</td>\n    </tr>\n    <tr>\n      <th>param_randomforestregressor__n_estimators</th>\n      <td>215</td>\n      <td>463</td>\n      <td>259</td>\n      <td>358</td>\n      <td>311</td>\n      <td>478</td>\n      <td>64</td>\n      <td>229</td>\n      <td>340</td>\n      <td>458</td>\n      <td>...</td>\n      <td>265</td>\n      <td>346</td>\n      <td>371</td>\n      <td>86</td>\n      <td>256</td>\n      <td>489</td>\n      <td>139</td>\n      <td>222</td>\n      <td>478</td>\n      <td>459</td>\n    </tr>\n    <tr>\n      <th>param_simpleimputer__strategy</th>\n      <td>median</td>\n      <td>mean</td>\n      <td>mean</td>\n      <td>mean</td>\n      <td>mean</td>\n      <td>mean</td>\n      <td>median</td>\n      <td>median</td>\n      <td>mean</td>\n      <td>median</td>\n      <td>...</td>\n      <td>median</td>\n      <td>mean</td>\n      <td>median</td>\n      <td>mean</td>\n      <td>mean</td>\n      <td>median</td>\n      <td>median</td>\n      <td>mean</td>\n      <td>mean</td>\n      <td>mean</td>\n    </tr>\n    <tr>\n      <th>param_targetencoder__min_samples_leaf</th>\n      <td>1</td>\n      <td>29</td>\n      <td>38</td>\n      <td>104</td>\n      <td>177</td>\n      <td>20</td>\n      <td>78</td>\n      <td>65</td>\n      <td>88</td>\n      <td>103</td>\n      <td>...</td>\n      <td>382</td>\n      <td>371</td>\n      <td>356</td>\n      <td>320</td>\n      <td>353</td>\n      <td>390</td>\n      <td>276</td>\n      <td>358</td>\n      <td>373</td>\n      <td>367</td>\n    </tr>\n    <tr>\n      <th>params</th>\n      <td>{'randomforestregressor__max_depth': 15, 'rand...</td>\n      <td>{'randomforestregressor__max_depth': 15, 'rand...</td>\n      <td>{'randomforestregressor__max_depth': 10, 'rand...</td>\n      <td>{'randomforestregressor__max_depth': 15, 'rand...</td>\n      <td>{'randomforestregressor__max_depth': 15, 'rand...</td>\n      <td>{'randomforestregressor__max_depth': 10, 'rand...</td>\n      <td>{'randomforestregressor__max_depth': 10, 'rand...</td>\n      <td>{'randomforestregressor__max_depth': 10, 'rand...</td>\n      <td>{'randomforestregressor__max_depth': 15, 'rand...</td>\n      <td>{'randomforestregressor__max_depth': 20, 'rand...</td>\n      <td>...</td>\n      <td>{'randomforestregressor__max_depth': None, 'ra...</td>\n      <td>{'randomforestregressor__max_depth': None, 'ra...</td>\n      <td>{'randomforestregressor__max_depth': 20, 'rand...</td>\n      <td>{'randomforestregressor__max_depth': None, 'ra...</td>\n      <td>{'randomforestregressor__max_depth': None, 'ra...</td>\n      <td>{'randomforestregressor__max_depth': 15, 'rand...</td>\n      <td>{'randomforestregressor__max_depth': None, 'ra...</td>\n      <td>{'randomforestregressor__max_depth': 20, 'rand...</td>\n      <td>{'randomforestregressor__max_depth': 15, 'rand...</td>\n      <td>{'randomforestregressor__max_depth': 15, 'rand...</td>\n    </tr>\n    <tr>\n      <th>split0_test_score</th>\n      <td>-4577.87</td>\n      <td>-4243.9</td>\n      <td>-3990.46</td>\n      <td>-4281.04</td>\n      <td>-4192.37</td>\n      <td>-4425.17</td>\n      <td>-4145.85</td>\n      <td>-4681.98</td>\n      <td>-4743.26</td>\n      <td>-4275.07</td>\n      <td>...</td>\n      <td>-5748.35</td>\n      <td>-5928.73</td>\n      <td>-5905.5</td>\n      <td>-6181.71</td>\n      <td>-6140.8</td>\n      <td>-6109.23</td>\n      <td>-6181.85</td>\n      <td>-6170.57</td>\n      <td>-6209.94</td>\n      <td>-6230.26</td>\n    </tr>\n    <tr>\n      <th>split1_test_score</th>\n      <td>-4025.11</td>\n      <td>-4415.93</td>\n      <td>-4528.73</td>\n      <td>-4797.16</td>\n      <td>-4658.08</td>\n      <td>-4923.38</td>\n      <td>-5121.38</td>\n      <td>-4802.71</td>\n      <td>-4761.15</td>\n      <td>-5180.71</td>\n      <td>...</td>\n      <td>-7416.71</td>\n      <td>-7499.65</td>\n      <td>-7485.79</td>\n      <td>-7753.96</td>\n      <td>-7848.43</td>\n      <td>-7837.04</td>\n      <td>-8101.11</td>\n      <td>-8018.94</td>\n      <td>-7957.26</td>\n      <td>-7962.16</td>\n    </tr>\n    <tr>\n      <th>split2_test_score</th>\n      <td>-3968.23</td>\n      <td>-4570.19</td>\n      <td>-4864.34</td>\n      <td>-5000.61</td>\n      <td>-4772.36</td>\n      <td>-5283.3</td>\n      <td>-5054.09</td>\n      <td>-4714.09</td>\n      <td>-4816.7</td>\n      <td>-5607.69</td>\n      <td>...</td>\n      <td>-6521.17</td>\n      <td>-6420.98</td>\n      <td>-6404.55</td>\n      <td>-6387.57</td>\n      <td>-6452.75</td>\n      <td>-6434.4</td>\n      <td>-6448.7</td>\n      <td>-6452.94</td>\n      <td>-6516.38</td>\n      <td>-6513.95</td>\n    </tr>\n    <tr>\n      <th>split3_test_score</th>\n      <td>-4493.23</td>\n      <td>-4365.4</td>\n      <td>-4783.36</td>\n      <td>-4921.03</td>\n      <td>-5101.64</td>\n      <td>-5519.37</td>\n      <td>-5407.06</td>\n      <td>-5501.7</td>\n      <td>-5319.93</td>\n      <td>-5322.73</td>\n      <td>...</td>\n      <td>-8002.35</td>\n      <td>-8097.41</td>\n      <td>-8124.11</td>\n      <td>-7984.29</td>\n      <td>-8140.51</td>\n      <td>-8145.57</td>\n      <td>-8066.3</td>\n      <td>-8047.34</td>\n      <td>-8180.5</td>\n      <td>-8173.77</td>\n    </tr>\n    <tr>\n      <th>split4_test_score</th>\n      <td>-4637.25</td>\n      <td>-4989.2</td>\n      <td>-5279.32</td>\n      <td>-5377.4</td>\n      <td>-5286.8</td>\n      <td>-4859.79</td>\n      <td>-5385.64</td>\n      <td>-5396.55</td>\n      <td>-5611.81</td>\n      <td>-5607</td>\n      <td>...</td>\n      <td>-8148.24</td>\n      <td>-8066.18</td>\n      <td>-8106.61</td>\n      <td>-8128.3</td>\n      <td>-8089.98</td>\n      <td>-8228.86</td>\n      <td>-8076.65</td>\n      <td>-8196.48</td>\n      <td>-8160.01</td>\n      <td>-8149.17</td>\n    </tr>\n    <tr>\n      <th>split5_test_score</th>\n      <td>-6137.57</td>\n      <td>-6168.41</td>\n      <td>-6177.74</td>\n      <td>-6681.92</td>\n      <td>-6591.45</td>\n      <td>-6594.42</td>\n      <td>-6840.02</td>\n      <td>-6804.03</td>\n      <td>-7120.88</td>\n      <td>-7137.75</td>\n      <td>...</td>\n      <td>-8709.11</td>\n      <td>-8694.95</td>\n      <td>-8714.69</td>\n      <td>-8957.75</td>\n      <td>-8947.7</td>\n      <td>-8968.83</td>\n      <td>-9058.78</td>\n      <td>-9063.5</td>\n      <td>-8961.37</td>\n      <td>-8962.7</td>\n    </tr>\n    <tr>\n      <th>split6_test_score</th>\n      <td>-6292.21</td>\n      <td>-6190.99</td>\n      <td>-6126.94</td>\n      <td>-5830.35</td>\n      <td>-6366.22</td>\n      <td>-6702.07</td>\n      <td>-6254.38</td>\n      <td>-6510.32</td>\n      <td>-6524.91</td>\n      <td>-6543.56</td>\n      <td>...</td>\n      <td>-9567.62</td>\n      <td>-9649.9</td>\n      <td>-9674.16</td>\n      <td>-9850.89</td>\n      <td>-9830.55</td>\n      <td>-9861.56</td>\n      <td>-9787.73</td>\n      <td>-9821.49</td>\n      <td>-9801.95</td>\n      <td>-9833.52</td>\n    </tr>\n    <tr>\n      <th>split7_test_score</th>\n      <td>-5748.94</td>\n      <td>-6008.6</td>\n      <td>-5981.04</td>\n      <td>-5986.08</td>\n      <td>-6014.92</td>\n      <td>-6252.78</td>\n      <td>-6151.63</td>\n      <td>-6087.48</td>\n      <td>-6064.26</td>\n      <td>-6247.27</td>\n      <td>...</td>\n      <td>-9255.89</td>\n      <td>-9270.93</td>\n      <td>-9284.39</td>\n      <td>-9295.68</td>\n      <td>-9467.58</td>\n      <td>-9428.22</td>\n      <td>-9450.82</td>\n      <td>-9465.96</td>\n      <td>-9418.8</td>\n      <td>-9416.17</td>\n    </tr>\n    <tr>\n      <th>split8_test_score</th>\n      <td>-7283.82</td>\n      <td>-7934.74</td>\n      <td>-8354.08</td>\n      <td>-8199.45</td>\n      <td>-8263.37</td>\n      <td>-7762.6</td>\n      <td>-8181.23</td>\n      <td>-8637.76</td>\n      <td>-8832.58</td>\n      <td>-8448.27</td>\n      <td>...</td>\n      <td>-10951.5</td>\n      <td>-11179.8</td>\n      <td>-11186.8</td>\n      <td>-11148.1</td>\n      <td>-11208.3</td>\n      <td>-11230.3</td>\n      <td>-11185.9</td>\n      <td>-11170</td>\n      <td>-11283.7</td>\n      <td>-11261.4</td>\n    </tr>\n    <tr>\n      <th>split9_test_score</th>\n      <td>-4185.63</td>\n      <td>-5733.2</td>\n      <td>-5321.2</td>\n      <td>-5550.47</td>\n      <td>-5453.87</td>\n      <td>-5437.59</td>\n      <td>-5534.45</td>\n      <td>-5403.51</td>\n      <td>-5731.79</td>\n      <td>-5938.33</td>\n      <td>...</td>\n      <td>-7106.6</td>\n      <td>-6968.33</td>\n      <td>-6977.86</td>\n      <td>-6826.23</td>\n      <td>-7008.73</td>\n      <td>-7102.5</td>\n      <td>-7052.84</td>\n      <td>-7009.13</td>\n      <td>-7149.36</td>\n      <td>-7159.06</td>\n    </tr>\n    <tr>\n      <th>mean_test_score</th>\n      <td>-5134.99</td>\n      <td>-5462.06</td>\n      <td>-5540.72</td>\n      <td>-5662.55</td>\n      <td>-5670.11</td>\n      <td>-5776.05</td>\n      <td>-5807.57</td>\n      <td>-5854.01</td>\n      <td>-5952.73</td>\n      <td>-6030.84</td>\n      <td>...</td>\n      <td>-8142.75</td>\n      <td>-8177.69</td>\n      <td>-8186.44</td>\n      <td>-8251.45</td>\n      <td>-8313.53</td>\n      <td>-8334.65</td>\n      <td>-8341.06</td>\n      <td>-8341.64</td>\n      <td>-8363.93</td>\n      <td>-8366.22</td>\n    </tr>\n    <tr>\n      <th>std_test_score</th>\n      <td>1086.42</td>\n      <td>1109.8</td>\n      <td>1159.02</td>\n      <td>1065.23</td>\n      <td>1127.3</td>\n      <td>975.48</td>\n      <td>1059.77</td>\n      <td>1159.81</td>\n      <td>1213.95</td>\n      <td>1097.87</td>\n      <td>...</td>\n      <td>1465</td>\n      <td>1507.58</td>\n      <td>1517.88</td>\n      <td>1505.37</td>\n      <td>1503.23</td>\n      <td>1506.34</td>\n      <td>1484.52</td>\n      <td>1491.41</td>\n      <td>1477.56</td>\n      <td>1472.8</td>\n    </tr>\n    <tr>\n      <th>rank_test_score</th>\n      <td>1</td>\n      <td>2</td>\n      <td>3</td>\n      <td>4</td>\n      <td>5</td>\n      <td>6</td>\n      <td>7</td>\n      <td>8</td>\n      <td>9</td>\n      <td>10</td>\n      <td>...</td>\n      <td>91</td>\n      <td>92</td>\n      <td>93</td>\n      <td>94</td>\n      <td>95</td>\n      <td>96</td>\n      <td>97</td>\n      <td>98</td>\n      <td>99</td>\n      <td>100</td>\n    </tr>\n    <tr>\n      <th>split0_train_score</th>\n      <td>-1922.8</td>\n      <td>-2119.98</td>\n      <td>-2573.3</td>\n      <td>-2206.97</td>\n      <td>-2229.69</td>\n      <td>-3067.73</td>\n      <td>-2929.18</td>\n      <td>-2647.94</td>\n      <td>-2249.83</td>\n      <td>-2325.2</td>\n      <td>...</td>\n      <td>-3070.26</td>\n      <td>-3107.08</td>\n      <td>-3102.18</td>\n      <td>-3194.63</td>\n      <td>-3151.99</td>\n      <td>-3205.8</td>\n      <td>-3218.9</td>\n      <td>-3198.17</td>\n      <td>-3213.9</td>\n      <td>-3212.58</td>\n    </tr>\n    <tr>\n      <th>split1_train_score</th>\n      <td>-1972.23</td>\n      <td>-2106.2</td>\n      <td>-2524.23</td>\n      <td>-2105.37</td>\n      <td>-2154.46</td>\n      <td>-2987.92</td>\n      <td>-2864.37</td>\n      <td>-2613.12</td>\n      <td>-2244.47</td>\n      <td>-2314.71</td>\n      <td>...</td>\n      <td>-2986.98</td>\n      <td>-3014.95</td>\n      <td>-3008.15</td>\n      <td>-3061.16</td>\n      <td>-3037.06</td>\n      <td>-3087.91</td>\n      <td>-3092.56</td>\n      <td>-3062.12</td>\n      <td>-3097.9</td>\n      <td>-3096.91</td>\n    </tr>\n    <tr>\n      <th>split2_train_score</th>\n      <td>-1950.26</td>\n      <td>-2092.63</td>\n      <td>-2486.93</td>\n      <td>-2199.65</td>\n      <td>-2200.65</td>\n      <td>-2977.04</td>\n      <td>-2839.78</td>\n      <td>-2605.6</td>\n      <td>-2260.04</td>\n      <td>-2316.94</td>\n      <td>...</td>\n      <td>-3063.1</td>\n      <td>-3097.52</td>\n      <td>-3085.31</td>\n      <td>-3181.6</td>\n      <td>-3151.02</td>\n      <td>-3199.54</td>\n      <td>-3179.21</td>\n      <td>-3157.1</td>\n      <td>-3205.98</td>\n      <td>-3205.08</td>\n    </tr>\n    <tr>\n      <th>split3_train_score</th>\n      <td>-1900.33</td>\n      <td>-2087.81</td>\n      <td>-2533.13</td>\n      <td>-2177</td>\n      <td>-2157.94</td>\n      <td>-2989.41</td>\n      <td>-2914.12</td>\n      <td>-2611.71</td>\n      <td>-2198.86</td>\n      <td>-2286.63</td>\n      <td>...</td>\n      <td>-2933.79</td>\n      <td>-2959.52</td>\n      <td>-2952.13</td>\n      <td>-3035.53</td>\n      <td>-3034.55</td>\n      <td>-3068.41</td>\n      <td>-3031.05</td>\n      <td>-3036.33</td>\n      <td>-3061.1</td>\n      <td>-3060.39</td>\n    </tr>\n    <tr>\n      <th>split4_train_score</th>\n      <td>-1918.92</td>\n      <td>-2049.48</td>\n      <td>-2458.87</td>\n      <td>-2135.08</td>\n      <td>-2151.79</td>\n      <td>-2921.19</td>\n      <td>-2839.47</td>\n      <td>-2594.49</td>\n      <td>-2213.79</td>\n      <td>-2232.91</td>\n      <td>...</td>\n      <td>-3019.42</td>\n      <td>-3043.53</td>\n      <td>-3037.4</td>\n      <td>-3086.77</td>\n      <td>-3099.58</td>\n      <td>-3145.17</td>\n      <td>-3148.88</td>\n      <td>-3133.07</td>\n      <td>-3161.39</td>\n      <td>-3162.64</td>\n    </tr>\n    <tr>\n      <th>split5_train_score</th>\n      <td>-1812.43</td>\n      <td>-2005.08</td>\n      <td>-2417.06</td>\n      <td>-2073.86</td>\n      <td>-2049.17</td>\n      <td>-2935.54</td>\n      <td>-2887.74</td>\n      <td>-2503.95</td>\n      <td>-2120.28</td>\n      <td>-2206.9</td>\n      <td>...</td>\n      <td>-2904.45</td>\n      <td>-2949.13</td>\n      <td>-2941.81</td>\n      <td>-2980.6</td>\n      <td>-2982.65</td>\n      <td>-3037.68</td>\n      <td>-3027.62</td>\n      <td>-3019.8</td>\n      <td>-3057.45</td>\n      <td>-3059.18</td>\n    </tr>\n    <tr>\n      <th>split6_train_score</th>\n      <td>-1831.77</td>\n      <td>-1995.95</td>\n      <td>-2403.52</td>\n      <td>-2060.19</td>\n      <td>-2055.56</td>\n      <td>-2906.54</td>\n      <td>-2864.01</td>\n      <td>-2491.19</td>\n      <td>-2137.5</td>\n      <td>-2243.27</td>\n      <td>...</td>\n      <td>-2880.63</td>\n      <td>-2928.52</td>\n      <td>-2925.82</td>\n      <td>-2953.59</td>\n      <td>-2962.62</td>\n      <td>-3001.48</td>\n      <td>-2990.63</td>\n      <td>-2979.82</td>\n      <td>-3008.01</td>\n      <td>-3010.52</td>\n    </tr>\n    <tr>\n      <th>split7_train_score</th>\n      <td>-1855.7</td>\n      <td>-2009.27</td>\n      <td>-2403.64</td>\n      <td>-2084.35</td>\n      <td>-2095.94</td>\n      <td>-2885.07</td>\n      <td>-2836.26</td>\n      <td>-2537.07</td>\n      <td>-2139.12</td>\n      <td>-2140.11</td>\n      <td>...</td>\n      <td>-2919.99</td>\n      <td>-2934.56</td>\n      <td>-2934.55</td>\n      <td>-3001.28</td>\n      <td>-2967.56</td>\n      <td>-3018.38</td>\n      <td>-3008.64</td>\n      <td>-2997.7</td>\n      <td>-3014.92</td>\n      <td>-3016.79</td>\n    </tr>\n    <tr>\n      <th>split8_train_score</th>\n      <td>-1720.74</td>\n      <td>-1868.63</td>\n      <td>-2228.42</td>\n      <td>-1937.21</td>\n      <td>-1937.5</td>\n      <td>-2787.79</td>\n      <td>-2630.85</td>\n      <td>-2318.05</td>\n      <td>-1986.51</td>\n      <td>-2039.65</td>\n      <td>...</td>\n      <td>-2747.83</td>\n      <td>-2772.54</td>\n      <td>-2770.19</td>\n      <td>-2810.63</td>\n      <td>-2819.19</td>\n      <td>-2863.49</td>\n      <td>-2849.5</td>\n      <td>-2843.93</td>\n      <td>-2872.88</td>\n      <td>-2879.48</td>\n    </tr>\n    <tr>\n      <th>split9_train_score</th>\n      <td>-1926.08</td>\n      <td>-2023.57</td>\n      <td>-2471.22</td>\n      <td>-2128.29</td>\n      <td>-2140.29</td>\n      <td>-3018.91</td>\n      <td>-2902.72</td>\n      <td>-2626.96</td>\n      <td>-2195.31</td>\n      <td>-2284.81</td>\n      <td>...</td>\n      <td>-3031.78</td>\n      <td>-3046.79</td>\n      <td>-3045.46</td>\n      <td>-3090.08</td>\n      <td>-3083.1</td>\n      <td>-3142.96</td>\n      <td>-3120.68</td>\n      <td>-3095.35</td>\n      <td>-3133.52</td>\n      <td>-3138.28</td>\n    </tr>\n    <tr>\n      <th>mean_train_score</th>\n      <td>-1881.13</td>\n      <td>-2035.86</td>\n      <td>-2450.03</td>\n      <td>-2110.8</td>\n      <td>-2117.3</td>\n      <td>-2947.71</td>\n      <td>-2850.85</td>\n      <td>-2555.01</td>\n      <td>-2174.57</td>\n      <td>-2239.11</td>\n      <td>...</td>\n      <td>-2955.82</td>\n      <td>-2985.41</td>\n      <td>-2980.3</td>\n      <td>-3039.59</td>\n      <td>-3028.93</td>\n      <td>-3077.08</td>\n      <td>-3066.77</td>\n      <td>-3052.34</td>\n      <td>-3082.7</td>\n      <td>-3084.19</td>\n    </tr>\n    <tr>\n      <th>std_train_score</th>\n      <td>72.2202</td>\n      <td>70.3517</td>\n      <td>91.6546</td>\n      <td>75.6361</td>\n      <td>80.9739</td>\n      <td>74.6569</td>\n      <td>79.6321</td>\n      <td>93.6353</td>\n      <td>78.3328</td>\n      <td>86.1445</td>\n      <td>...</td>\n      <td>94.1894</td>\n      <td>94.0807</td>\n      <td>92.5456</td>\n      <td>106.878</td>\n      <td>96.1106</td>\n      <td>98.5233</td>\n      <td>102.612</td>\n      <td>96.7967</td>\n      <td>98.3443</td>\n      <td>96.6471</td>\n    </tr>\n  </tbody>\n</table>\n<p>35 rows × 100 columns</p>\n</div>"
          },
          "metadata": {},
          "execution_count": 100
        }
      ],
      "source": [
        "pd.DataFrame(search.cv_results_).sort_values(by='rank_test_score').T"
      ]
    },
    {
      "cell_type": "code",
      "execution_count": 101,
      "metadata": {},
      "outputs": [],
      "source": [
        "pipeline = search.best_estimator_"
      ]
    },
    {
      "cell_type": "code",
      "execution_count": 102,
      "metadata": {},
      "outputs": [
        {
          "output_type": "stream",
          "name": "stdout",
          "text": "Test MAE: $5,649\n"
        }
      ],
      "source": [
        "X_test = test[features]\n",
        "y_test = test[target]\n",
        "\n",
        "y_pred = pipeline.predict(X_test)\n",
        "mae = mean_absolute_error(y_test, y_pred)\n",
        "print(f'Test MAE: ${mae:,.0f}')"
      ]
    },
    {
      "cell_type": "code",
      "execution_count": 111,
      "metadata": {},
      "outputs": [
        {
          "output_type": "execute_result",
          "data": {
            "text/plain": "     condition  milage  Year    Brand  Model Model_Vers  S_RS  Cabriolet  \\\n830       Used   36843  2015  Porsche    911    Carrera     S    Hardtop   \n244       Used   22789  2017  Porsche    911    Carrera    4S    Hardtop   \n226        CPO   13220  2017  Porsche    911    Carrera    4S    Hardtop   \n1020      Used   21136  2013  Porsche    911    Carrera     S    Hardtop   \n606       Used   35103  2018  Porsche    911    Carrera  Base    Hardtop   \n...        ...     ...   ...      ...    ...        ...   ...        ...   \n1098      Used    5517  2019  Porsche    911    Carrera     T    Hardtop   \n1408      Used   17000  2008  Porsche    911    Carrera     S  Cabriolet   \n936       Used   26775  2013  Porsche    911    Carrera     S    Hardtop   \n1261      Used   22463  2013  Porsche    911    Carrera  Base    Hardtop   \n532       Used   28822  2014  Porsche    911    Carrera    4S    Hardtop   \n\n            Color Transmission  \n830         White    Automatic  \n244         Black    Automatic  \n226         Black    Automatic  \n1020        White    Automatic  \n606         Other    Automatic  \n...           ...          ...  \n1098          Red    Automatic  \n1408        Other       Manual  \n936         White    Automatic  \n1261  Gray/Silver       Manual  \n532         Other    Automatic  \n\n[162 rows x 10 columns]",
            "text/html": "<div>\n<style scoped>\n    .dataframe tbody tr th:only-of-type {\n        vertical-align: middle;\n    }\n\n    .dataframe tbody tr th {\n        vertical-align: top;\n    }\n\n    .dataframe thead th {\n        text-align: right;\n    }\n</style>\n<table border=\"1\" class=\"dataframe\">\n  <thead>\n    <tr style=\"text-align: right;\">\n      <th></th>\n      <th>condition</th>\n      <th>milage</th>\n      <th>Year</th>\n      <th>Brand</th>\n      <th>Model</th>\n      <th>Model_Vers</th>\n      <th>S_RS</th>\n      <th>Cabriolet</th>\n      <th>Color</th>\n      <th>Transmission</th>\n    </tr>\n  </thead>\n  <tbody>\n    <tr>\n      <th>830</th>\n      <td>Used</td>\n      <td>36843</td>\n      <td>2015</td>\n      <td>Porsche</td>\n      <td>911</td>\n      <td>Carrera</td>\n      <td>S</td>\n      <td>Hardtop</td>\n      <td>White</td>\n      <td>Automatic</td>\n    </tr>\n    <tr>\n      <th>244</th>\n      <td>Used</td>\n      <td>22789</td>\n      <td>2017</td>\n      <td>Porsche</td>\n      <td>911</td>\n      <td>Carrera</td>\n      <td>4S</td>\n      <td>Hardtop</td>\n      <td>Black</td>\n      <td>Automatic</td>\n    </tr>\n    <tr>\n      <th>226</th>\n      <td>CPO</td>\n      <td>13220</td>\n      <td>2017</td>\n      <td>Porsche</td>\n      <td>911</td>\n      <td>Carrera</td>\n      <td>4S</td>\n      <td>Hardtop</td>\n      <td>Black</td>\n      <td>Automatic</td>\n    </tr>\n    <tr>\n      <th>1020</th>\n      <td>Used</td>\n      <td>21136</td>\n      <td>2013</td>\n      <td>Porsche</td>\n      <td>911</td>\n      <td>Carrera</td>\n      <td>S</td>\n      <td>Hardtop</td>\n      <td>White</td>\n      <td>Automatic</td>\n    </tr>\n    <tr>\n      <th>606</th>\n      <td>Used</td>\n      <td>35103</td>\n      <td>2018</td>\n      <td>Porsche</td>\n      <td>911</td>\n      <td>Carrera</td>\n      <td>Base</td>\n      <td>Hardtop</td>\n      <td>Other</td>\n      <td>Automatic</td>\n    </tr>\n    <tr>\n      <th>...</th>\n      <td>...</td>\n      <td>...</td>\n      <td>...</td>\n      <td>...</td>\n      <td>...</td>\n      <td>...</td>\n      <td>...</td>\n      <td>...</td>\n      <td>...</td>\n      <td>...</td>\n    </tr>\n    <tr>\n      <th>1098</th>\n      <td>Used</td>\n      <td>5517</td>\n      <td>2019</td>\n      <td>Porsche</td>\n      <td>911</td>\n      <td>Carrera</td>\n      <td>T</td>\n      <td>Hardtop</td>\n      <td>Red</td>\n      <td>Automatic</td>\n    </tr>\n    <tr>\n      <th>1408</th>\n      <td>Used</td>\n      <td>17000</td>\n      <td>2008</td>\n      <td>Porsche</td>\n      <td>911</td>\n      <td>Carrera</td>\n      <td>S</td>\n      <td>Cabriolet</td>\n      <td>Other</td>\n      <td>Manual</td>\n    </tr>\n    <tr>\n      <th>936</th>\n      <td>Used</td>\n      <td>26775</td>\n      <td>2013</td>\n      <td>Porsche</td>\n      <td>911</td>\n      <td>Carrera</td>\n      <td>S</td>\n      <td>Hardtop</td>\n      <td>White</td>\n      <td>Automatic</td>\n    </tr>\n    <tr>\n      <th>1261</th>\n      <td>Used</td>\n      <td>22463</td>\n      <td>2013</td>\n      <td>Porsche</td>\n      <td>911</td>\n      <td>Carrera</td>\n      <td>Base</td>\n      <td>Hardtop</td>\n      <td>Gray/Silver</td>\n      <td>Manual</td>\n    </tr>\n    <tr>\n      <th>532</th>\n      <td>Used</td>\n      <td>28822</td>\n      <td>2014</td>\n      <td>Porsche</td>\n      <td>911</td>\n      <td>Carrera</td>\n      <td>4S</td>\n      <td>Hardtop</td>\n      <td>Other</td>\n      <td>Automatic</td>\n    </tr>\n  </tbody>\n</table>\n<p>162 rows × 10 columns</p>\n</div>"
          },
          "metadata": {},
          "execution_count": 111
        }
      ],
      "source": [
        "X_test"
      ]
    },
    {
      "cell_type": "code",
      "execution_count": 131,
      "metadata": {},
      "outputs": [
        {
          "output_type": "execute_result",
          "data": {
            "text/plain": "condition            Used\nmilage              19020\nYear                 2015\nBrand             Porsche\nModel                 911\nModel_Vers        Carrera\nS_RS                 Base\nCabriolet         Hardtop\nColor               Black\nTransmission    Automatic\nName: 1, dtype: object"
          },
          "metadata": {},
          "execution_count": 131
        }
      ],
      "source": [
        "Model_test = X_test.loc[1,].copy()\n",
        "Model_test"
      ]
    },
    {
      "cell_type": "code",
      "execution_count": 133,
      "metadata": {},
      "outputs": [],
      "source": [
        "Model_test.condition = 'Used'\n",
        "Model_test.milage = 20000\n",
        "Model_test.Year = 2013\n",
        "Model_test.Brand = 'Porsche'\n",
        "Model_test.Model = 911\n",
        "Model_test.Model_Vers = 'Carrera'\n",
        "Model_test.S_RS = '4S'\n",
        "Model_test.Cabriolet = 'Cabriolet'\n",
        "Model_test.Color = 'White'\n",
        "Model_test.Transmission = 'Automatic'"
      ]
    },
    {
      "cell_type": "code",
      "execution_count": 134,
      "metadata": {},
      "outputs": [
        {
          "output_type": "execute_result",
          "data": {
            "text/plain": "condition            Used\nmilage              20000\nYear                 2013\nBrand             Porsche\nModel                 911\nModel_Vers        Carrera\nS_RS                   4S\nCabriolet       Cabriolet\nColor               White\nTransmission    Automatic\nName: 1, dtype: object"
          },
          "metadata": {},
          "execution_count": 134
        }
      ],
      "source": [
        "Model_test"
      ]
    },
    {
      "cell_type": "code",
      "execution_count": 135,
      "metadata": {},
      "outputs": [],
      "source": [
        "price = pipeline.predict([Model_test])\n"
      ]
    },
    {
      "cell_type": "code",
      "execution_count": 139,
      "metadata": {},
      "outputs": [
        {
          "output_type": "stream",
          "name": "stdout",
          "text": "Your 911 should be price at :$ 71858.44186046511\n"
        }
      ],
      "source": [
        "print(\"Your 911 should be price at :$\",price[0])"
      ]
    },
    {
      "cell_type": "code",
      "execution_count": null,
      "metadata": {},
      "outputs": [],
      "source": []
    }
  ],
  "metadata": {
    "colab": {
      "name": "Porsche_911.ipynb",
      "provenance": [],
      "authorship_tag": "ABX9TyN6bSkRV5yK+S2A7e2MZXF+",
      "include_colab_link": true
    },
    "kernelspec": {
      "name": "python3",
      "display_name": "Python 3"
    }
  },
  "nbformat": 4,
  "nbformat_minor": 0
}
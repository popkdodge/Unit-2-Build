{
  "cells": [
    {
      "cell_type": "code",
      "metadata": {
        "id": "0TXog-C7YI5y",
        "colab_type": "code",
        "colab": {}
      },
      "source": [
        "import pandas as pd\n",
        "import numpy as np\n"
      ],
      "execution_count": 1,
      "outputs": []
    },
    {
      "cell_type": "code",
      "metadata": {
        "id": "XTGC-WwtW-Dy",
        "colab_type": "code",
        "colab": {}
      },
      "source": [
        "df = pd.read_csv('https://raw.githubusercontent.com/popkdodge/Unit-2-Build/master/Carrera_911_1_2.csv',index_col=[0])"
      ],
      "execution_count": 2,
      "outputs": []
    },
    {
      "cell_type": "code",
      "metadata": {
        "id": "pFR_iXuTYH5Q",
        "colab_type": "code",
        "outputId": "9dfbf1be-d9d3-475c-e0f2-14442781629a",
        "colab": {
          "base_uri": "https://localhost:8080/",
          "height": 406
        }
      },
      "source": [
        "df"
      ],
      "execution_count": 3,
      "outputs": [
        {
          "output_type": "execute_result",
          "data": {
            "text/plain": "              condition  milage     Price  Year    Brand  Model Model_Vers  \\\n0                  Used   47649   48950.0  2012  Porsche    911    Carrera   \n1                  Used   19020   67988.0  2015  Porsche    911    Carrera   \n3                  Used   56436   51990.0  2012  Porsche    911    Carrera   \n4                  Used   85000   34900.0  2009  Porsche    911    Carrera   \n5                  Used   15808   96995.0  2018  Porsche    911    Carrera   \n...                 ...     ...       ...   ...      ...    ...        ...   \n1493               Used   19826   99950.0  2017  Porsche    911    Carrera   \n1494               Used   15710   89995.0  2016  Porsche    911    Carrera   \n1495               Used     502   93900.0  2018  Porsche    911    Carrera   \n1496               Used    5182   81995.0  2016  Porsche    911    Carrera   \n1501  Porsche Certified   10074  112000.0  2018  Porsche    911    Carrera   \n\n       S_RS  Cabriolet  Color Transmission  \n0     Black    Edition  Black    Automatic  \n1      Base    Hardtop  Black    Automatic  \n3         S    Hardtop  Black    Automatic  \n4         S  Cabriolet  Black    Automatic  \n5         S    Hardtop  Black    Automatic  \n...     ...        ...    ...          ...  \n1493     4S    Hardtop  White       Manual  \n1494     4S    Hardtop  White       Manual  \n1495      T    Hardtop  White       Manual  \n1496      S    Hardtop  White       Manual  \n1501     4S    Hardtop  White       Manual  \n\n[810 rows x 11 columns]",
            "text/html": "<div>\n<style scoped>\n    .dataframe tbody tr th:only-of-type {\n        vertical-align: middle;\n    }\n\n    .dataframe tbody tr th {\n        vertical-align: top;\n    }\n\n    .dataframe thead th {\n        text-align: right;\n    }\n</style>\n<table border=\"1\" class=\"dataframe\">\n  <thead>\n    <tr style=\"text-align: right;\">\n      <th></th>\n      <th>condition</th>\n      <th>milage</th>\n      <th>Price</th>\n      <th>Year</th>\n      <th>Brand</th>\n      <th>Model</th>\n      <th>Model_Vers</th>\n      <th>S_RS</th>\n      <th>Cabriolet</th>\n      <th>Color</th>\n      <th>Transmission</th>\n    </tr>\n  </thead>\n  <tbody>\n    <tr>\n      <th>0</th>\n      <td>Used</td>\n      <td>47649</td>\n      <td>48950.0</td>\n      <td>2012</td>\n      <td>Porsche</td>\n      <td>911</td>\n      <td>Carrera</td>\n      <td>Black</td>\n      <td>Edition</td>\n      <td>Black</td>\n      <td>Automatic</td>\n    </tr>\n    <tr>\n      <th>1</th>\n      <td>Used</td>\n      <td>19020</td>\n      <td>67988.0</td>\n      <td>2015</td>\n      <td>Porsche</td>\n      <td>911</td>\n      <td>Carrera</td>\n      <td>Base</td>\n      <td>Hardtop</td>\n      <td>Black</td>\n      <td>Automatic</td>\n    </tr>\n    <tr>\n      <th>3</th>\n      <td>Used</td>\n      <td>56436</td>\n      <td>51990.0</td>\n      <td>2012</td>\n      <td>Porsche</td>\n      <td>911</td>\n      <td>Carrera</td>\n      <td>S</td>\n      <td>Hardtop</td>\n      <td>Black</td>\n      <td>Automatic</td>\n    </tr>\n    <tr>\n      <th>4</th>\n      <td>Used</td>\n      <td>85000</td>\n      <td>34900.0</td>\n      <td>2009</td>\n      <td>Porsche</td>\n      <td>911</td>\n      <td>Carrera</td>\n      <td>S</td>\n      <td>Cabriolet</td>\n      <td>Black</td>\n      <td>Automatic</td>\n    </tr>\n    <tr>\n      <th>5</th>\n      <td>Used</td>\n      <td>15808</td>\n      <td>96995.0</td>\n      <td>2018</td>\n      <td>Porsche</td>\n      <td>911</td>\n      <td>Carrera</td>\n      <td>S</td>\n      <td>Hardtop</td>\n      <td>Black</td>\n      <td>Automatic</td>\n    </tr>\n    <tr>\n      <th>...</th>\n      <td>...</td>\n      <td>...</td>\n      <td>...</td>\n      <td>...</td>\n      <td>...</td>\n      <td>...</td>\n      <td>...</td>\n      <td>...</td>\n      <td>...</td>\n      <td>...</td>\n      <td>...</td>\n    </tr>\n    <tr>\n      <th>1493</th>\n      <td>Used</td>\n      <td>19826</td>\n      <td>99950.0</td>\n      <td>2017</td>\n      <td>Porsche</td>\n      <td>911</td>\n      <td>Carrera</td>\n      <td>4S</td>\n      <td>Hardtop</td>\n      <td>White</td>\n      <td>Manual</td>\n    </tr>\n    <tr>\n      <th>1494</th>\n      <td>Used</td>\n      <td>15710</td>\n      <td>89995.0</td>\n      <td>2016</td>\n      <td>Porsche</td>\n      <td>911</td>\n      <td>Carrera</td>\n      <td>4S</td>\n      <td>Hardtop</td>\n      <td>White</td>\n      <td>Manual</td>\n    </tr>\n    <tr>\n      <th>1495</th>\n      <td>Used</td>\n      <td>502</td>\n      <td>93900.0</td>\n      <td>2018</td>\n      <td>Porsche</td>\n      <td>911</td>\n      <td>Carrera</td>\n      <td>T</td>\n      <td>Hardtop</td>\n      <td>White</td>\n      <td>Manual</td>\n    </tr>\n    <tr>\n      <th>1496</th>\n      <td>Used</td>\n      <td>5182</td>\n      <td>81995.0</td>\n      <td>2016</td>\n      <td>Porsche</td>\n      <td>911</td>\n      <td>Carrera</td>\n      <td>S</td>\n      <td>Hardtop</td>\n      <td>White</td>\n      <td>Manual</td>\n    </tr>\n    <tr>\n      <th>1501</th>\n      <td>Porsche Certified</td>\n      <td>10074</td>\n      <td>112000.0</td>\n      <td>2018</td>\n      <td>Porsche</td>\n      <td>911</td>\n      <td>Carrera</td>\n      <td>4S</td>\n      <td>Hardtop</td>\n      <td>White</td>\n      <td>Manual</td>\n    </tr>\n  </tbody>\n</table>\n<p>810 rows × 11 columns</p>\n</div>"
          },
          "metadata": {},
          "execution_count": 3
        }
      ]
    },
    {
      "cell_type": "code",
      "metadata": {
        "id": "3O15x4CgYQZh",
        "colab_type": "code",
        "outputId": "08033378-6362-46c5-fd88-f934aa966b91",
        "colab": {
          "base_uri": "https://localhost:8080/",
          "height": 105
        }
      },
      "source": [
        "df['Cabriolet'].value_counts()"
      ],
      "execution_count": 4,
      "outputs": [
        {
          "output_type": "execute_result",
          "data": {
            "text/plain": "Hardtop      736\nCabriolet     69\nEdition        4\nBlack          1\nName: Cabriolet, dtype: int64"
          },
          "metadata": {},
          "execution_count": 4
        }
      ]
    },
    {
      "cell_type": "code",
      "metadata": {
        "id": "9xlaMAukZAwP",
        "colab_type": "code",
        "outputId": "c22d4d89-d47a-4235-9e52-a0549aebdd61",
        "colab": {
          "base_uri": "https://localhost:8080/",
          "height": 230
        }
      },
      "source": [
        "df.isnull().sum()"
      ],
      "execution_count": 5,
      "outputs": [
        {
          "output_type": "execute_result",
          "data": {
            "text/plain": "condition       0\nmilage          0\nPrice           0\nYear            0\nBrand           0\nModel           0\nModel_Vers      0\nS_RS            0\nCabriolet       0\nColor           0\nTransmission    0\ndtype: int64"
          },
          "metadata": {},
          "execution_count": 5
        }
      ]
    },
    {
      "cell_type": "code",
      "metadata": {
        "id": "XD6vcCjvYemr",
        "colab_type": "code",
        "colab": {}
      },
      "source": [
        "df['Cabriolet'] = df['Cabriolet'].replace(\"Black\",'Hardtop')"
      ],
      "execution_count": 6,
      "outputs": []
    },
    {
      "cell_type": "code",
      "metadata": {
        "colab_type": "code",
        "id": "-tdTHFnrY5Ao",
        "colab": {}
      },
      "source": [
        "df['Cabriolet'] = df['Cabriolet'].replace(\"Edition\",'Hardtop')"
      ],
      "execution_count": 7,
      "outputs": []
    },
    {
      "cell_type": "code",
      "metadata": {
        "id": "Sf8jlHVzY2Ry",
        "colab_type": "code",
        "colab": {}
      },
      "source": [
        "df['Price'] = df['Price'].astype(int)"
      ],
      "execution_count": 8,
      "outputs": []
    },
    {
      "cell_type": "code",
      "metadata": {
        "id": "_uLEAlGjal7U",
        "colab_type": "code",
        "outputId": "e876f2d3-8372-4fce-bf28-8f42e7c4eee0",
        "colab": {
          "base_uri": "https://localhost:8080/",
          "height": 230
        }
      },
      "source": [
        "df.dtypes"
      ],
      "execution_count": 9,
      "outputs": [
        {
          "output_type": "execute_result",
          "data": {
            "text/plain": "condition       object\nmilage           int64\nPrice            int32\nYear             int64\nBrand           object\nModel            int64\nModel_Vers      object\nS_RS            object\nCabriolet       object\nColor           object\nTransmission    object\ndtype: object"
          },
          "metadata": {},
          "execution_count": 9
        }
      ]
    },
    {
      "cell_type": "code",
      "metadata": {
        "id": "eB7rYEo2aosx",
        "colab_type": "code",
        "outputId": "e498c4ef-128b-4b54-d923-f455f0209737",
        "colab": {
          "base_uri": "https://localhost:8080/",
          "height": 70
        }
      },
      "source": [
        "df.condition.value_counts(normalize=True)"
      ],
      "execution_count": 10,
      "outputs": [
        {
          "output_type": "execute_result",
          "data": {
            "text/plain": "Used                 0.84321\nPorsche Certified    0.15679\nName: condition, dtype: float64"
          },
          "metadata": {},
          "execution_count": 10
        }
      ]
    },
    {
      "cell_type": "code",
      "metadata": {
        "id": "aslU4xWya1Te",
        "colab_type": "code",
        "colab": {}
      },
      "source": [
        "df['condition'] = df['condition'].replace(\"Porsche Certified\",'CPO')"
      ],
      "execution_count": 11,
      "outputs": []
    },
    {
      "cell_type": "code",
      "metadata": {
        "id": "DqHQrh3Ha9QL",
        "colab_type": "code",
        "colab": {}
      },
      "source": [
        "from sklearn.model_selection import train_test_split\n",
        "train, test= train_test_split(df, test_size=0.20, random_state=2)"
      ],
      "execution_count": 12,
      "outputs": []
    },
    {
      "cell_type": "code",
      "metadata": {
        "id": "b3bQE5U7hsOB",
        "colab_type": "code",
        "colab": {}
      },
      "source": [
        ""
      ],
      "execution_count": 0,
      "outputs": []
    },
    {
      "cell_type": "code",
      "metadata": {
        "id": "FA0xZeJHcDHL",
        "colab_type": "code",
        "outputId": "1bbd41c4-d72e-4954-c1f7-59774e22f065",
        "colab": {
          "base_uri": "https://localhost:8080/",
          "height": 406
        }
      },
      "source": [
        "train"
      ],
      "execution_count": 13,
      "outputs": [
        {
          "output_type": "execute_result",
          "data": {
            "text/plain": "     condition  milage   Price  Year    Brand  Model Model_Vers  S_RS  \\\n1494      Used   15710   89995  2016  Porsche    911    Carrera    4S   \n1176      Used   35750   39300  2008  Porsche    911    Carrera     S   \n692       Used   26324   59000  2010  Porsche    911    Carrera    4S   \n758       Used  130000   34900  2013  Porsche    911    Carrera  Base   \n825       Used    4113  103995  2017  Porsche    911    Carrera  Base   \n...        ...     ...     ...   ...      ...    ...        ...   ...   \n1047       CPO   34541   84995  2018  Porsche    911    Carrera  Base   \n1151       CPO   17066   89957  2015  Porsche    911    Carrera   GTS   \n938       Used   40700   66999  2017  Porsche    911    Carrera  Base   \n1035      Used   26067   94951  2017  Porsche    911    Carrera     S   \n324       Used   23000   76500  2015  Porsche    911    Carrera     S   \n\n      Cabriolet        Color Transmission  \n1494    Hardtop        White       Manual  \n1176  Cabriolet        Black       Manual  \n692   Cabriolet        Other    Automatic  \n758     Hardtop  Gray/Silver    Automatic  \n825     Hardtop        White    Automatic  \n...         ...          ...          ...  \n1047    Hardtop        White    Automatic  \n1151    Hardtop          Red    Automatic  \n938     Hardtop        White    Automatic  \n1035    Hardtop        White    Automatic  \n324     Hardtop        Black    Automatic  \n\n[648 rows x 11 columns]",
            "text/html": "<div>\n<style scoped>\n    .dataframe tbody tr th:only-of-type {\n        vertical-align: middle;\n    }\n\n    .dataframe tbody tr th {\n        vertical-align: top;\n    }\n\n    .dataframe thead th {\n        text-align: right;\n    }\n</style>\n<table border=\"1\" class=\"dataframe\">\n  <thead>\n    <tr style=\"text-align: right;\">\n      <th></th>\n      <th>condition</th>\n      <th>milage</th>\n      <th>Price</th>\n      <th>Year</th>\n      <th>Brand</th>\n      <th>Model</th>\n      <th>Model_Vers</th>\n      <th>S_RS</th>\n      <th>Cabriolet</th>\n      <th>Color</th>\n      <th>Transmission</th>\n    </tr>\n  </thead>\n  <tbody>\n    <tr>\n      <th>1494</th>\n      <td>Used</td>\n      <td>15710</td>\n      <td>89995</td>\n      <td>2016</td>\n      <td>Porsche</td>\n      <td>911</td>\n      <td>Carrera</td>\n      <td>4S</td>\n      <td>Hardtop</td>\n      <td>White</td>\n      <td>Manual</td>\n    </tr>\n    <tr>\n      <th>1176</th>\n      <td>Used</td>\n      <td>35750</td>\n      <td>39300</td>\n      <td>2008</td>\n      <td>Porsche</td>\n      <td>911</td>\n      <td>Carrera</td>\n      <td>S</td>\n      <td>Cabriolet</td>\n      <td>Black</td>\n      <td>Manual</td>\n    </tr>\n    <tr>\n      <th>692</th>\n      <td>Used</td>\n      <td>26324</td>\n      <td>59000</td>\n      <td>2010</td>\n      <td>Porsche</td>\n      <td>911</td>\n      <td>Carrera</td>\n      <td>4S</td>\n      <td>Cabriolet</td>\n      <td>Other</td>\n      <td>Automatic</td>\n    </tr>\n    <tr>\n      <th>758</th>\n      <td>Used</td>\n      <td>130000</td>\n      <td>34900</td>\n      <td>2013</td>\n      <td>Porsche</td>\n      <td>911</td>\n      <td>Carrera</td>\n      <td>Base</td>\n      <td>Hardtop</td>\n      <td>Gray/Silver</td>\n      <td>Automatic</td>\n    </tr>\n    <tr>\n      <th>825</th>\n      <td>Used</td>\n      <td>4113</td>\n      <td>103995</td>\n      <td>2017</td>\n      <td>Porsche</td>\n      <td>911</td>\n      <td>Carrera</td>\n      <td>Base</td>\n      <td>Hardtop</td>\n      <td>White</td>\n      <td>Automatic</td>\n    </tr>\n    <tr>\n      <th>...</th>\n      <td>...</td>\n      <td>...</td>\n      <td>...</td>\n      <td>...</td>\n      <td>...</td>\n      <td>...</td>\n      <td>...</td>\n      <td>...</td>\n      <td>...</td>\n      <td>...</td>\n      <td>...</td>\n    </tr>\n    <tr>\n      <th>1047</th>\n      <td>CPO</td>\n      <td>34541</td>\n      <td>84995</td>\n      <td>2018</td>\n      <td>Porsche</td>\n      <td>911</td>\n      <td>Carrera</td>\n      <td>Base</td>\n      <td>Hardtop</td>\n      <td>White</td>\n      <td>Automatic</td>\n    </tr>\n    <tr>\n      <th>1151</th>\n      <td>CPO</td>\n      <td>17066</td>\n      <td>89957</td>\n      <td>2015</td>\n      <td>Porsche</td>\n      <td>911</td>\n      <td>Carrera</td>\n      <td>GTS</td>\n      <td>Hardtop</td>\n      <td>Red</td>\n      <td>Automatic</td>\n    </tr>\n    <tr>\n      <th>938</th>\n      <td>Used</td>\n      <td>40700</td>\n      <td>66999</td>\n      <td>2017</td>\n      <td>Porsche</td>\n      <td>911</td>\n      <td>Carrera</td>\n      <td>Base</td>\n      <td>Hardtop</td>\n      <td>White</td>\n      <td>Automatic</td>\n    </tr>\n    <tr>\n      <th>1035</th>\n      <td>Used</td>\n      <td>26067</td>\n      <td>94951</td>\n      <td>2017</td>\n      <td>Porsche</td>\n      <td>911</td>\n      <td>Carrera</td>\n      <td>S</td>\n      <td>Hardtop</td>\n      <td>White</td>\n      <td>Automatic</td>\n    </tr>\n    <tr>\n      <th>324</th>\n      <td>Used</td>\n      <td>23000</td>\n      <td>76500</td>\n      <td>2015</td>\n      <td>Porsche</td>\n      <td>911</td>\n      <td>Carrera</td>\n      <td>S</td>\n      <td>Hardtop</td>\n      <td>Black</td>\n      <td>Automatic</td>\n    </tr>\n  </tbody>\n</table>\n<p>648 rows × 11 columns</p>\n</div>"
          },
          "metadata": {},
          "execution_count": 13
        }
      ]
    },
    {
      "cell_type": "code",
      "metadata": {
        "id": "YUXqy1xPc45p",
        "colab_type": "code",
        "outputId": "a0b7131e-792d-45a3-c090-7b5e8e6ddb1f",
        "colab": {
          "base_uri": "https://localhost:8080/",
          "height": 406
        }
      },
      "source": [
        "test"
      ],
      "execution_count": 14,
      "outputs": [
        {
          "output_type": "execute_result",
          "data": {
            "text/plain": "     condition  milage   Price  Year    Brand  Model Model_Vers  S_RS  \\\n830       Used   36843   78777  2015  Porsche    911    Carrera     S   \n244       Used   22789  103900  2017  Porsche    911    Carrera    4S   \n226        CPO   13220  106900  2017  Porsche    911    Carrera    4S   \n1020      Used   21136   73995  2013  Porsche    911    Carrera     S   \n606       Used   35103   68398  2018  Porsche    911    Carrera  Base   \n...        ...     ...     ...   ...      ...    ...        ...   ...   \n1098      Used    5517   99495  2019  Porsche    911    Carrera     T   \n1408      Used   17000   35000  2008  Porsche    911    Carrera     S   \n936       Used   26775   67500  2013  Porsche    911    Carrera     S   \n1261      Used   22463   56997  2013  Porsche    911    Carrera  Base   \n532       Used   28822   76900  2014  Porsche    911    Carrera    4S   \n\n      Cabriolet        Color Transmission  \n830     Hardtop        White    Automatic  \n244     Hardtop        Black    Automatic  \n226     Hardtop        Black    Automatic  \n1020    Hardtop        White    Automatic  \n606     Hardtop        Other    Automatic  \n...         ...          ...          ...  \n1098    Hardtop          Red    Automatic  \n1408  Cabriolet        Other       Manual  \n936     Hardtop        White    Automatic  \n1261    Hardtop  Gray/Silver       Manual  \n532     Hardtop        Other    Automatic  \n\n[162 rows x 11 columns]",
            "text/html": "<div>\n<style scoped>\n    .dataframe tbody tr th:only-of-type {\n        vertical-align: middle;\n    }\n\n    .dataframe tbody tr th {\n        vertical-align: top;\n    }\n\n    .dataframe thead th {\n        text-align: right;\n    }\n</style>\n<table border=\"1\" class=\"dataframe\">\n  <thead>\n    <tr style=\"text-align: right;\">\n      <th></th>\n      <th>condition</th>\n      <th>milage</th>\n      <th>Price</th>\n      <th>Year</th>\n      <th>Brand</th>\n      <th>Model</th>\n      <th>Model_Vers</th>\n      <th>S_RS</th>\n      <th>Cabriolet</th>\n      <th>Color</th>\n      <th>Transmission</th>\n    </tr>\n  </thead>\n  <tbody>\n    <tr>\n      <th>830</th>\n      <td>Used</td>\n      <td>36843</td>\n      <td>78777</td>\n      <td>2015</td>\n      <td>Porsche</td>\n      <td>911</td>\n      <td>Carrera</td>\n      <td>S</td>\n      <td>Hardtop</td>\n      <td>White</td>\n      <td>Automatic</td>\n    </tr>\n    <tr>\n      <th>244</th>\n      <td>Used</td>\n      <td>22789</td>\n      <td>103900</td>\n      <td>2017</td>\n      <td>Porsche</td>\n      <td>911</td>\n      <td>Carrera</td>\n      <td>4S</td>\n      <td>Hardtop</td>\n      <td>Black</td>\n      <td>Automatic</td>\n    </tr>\n    <tr>\n      <th>226</th>\n      <td>CPO</td>\n      <td>13220</td>\n      <td>106900</td>\n      <td>2017</td>\n      <td>Porsche</td>\n      <td>911</td>\n      <td>Carrera</td>\n      <td>4S</td>\n      <td>Hardtop</td>\n      <td>Black</td>\n      <td>Automatic</td>\n    </tr>\n    <tr>\n      <th>1020</th>\n      <td>Used</td>\n      <td>21136</td>\n      <td>73995</td>\n      <td>2013</td>\n      <td>Porsche</td>\n      <td>911</td>\n      <td>Carrera</td>\n      <td>S</td>\n      <td>Hardtop</td>\n      <td>White</td>\n      <td>Automatic</td>\n    </tr>\n    <tr>\n      <th>606</th>\n      <td>Used</td>\n      <td>35103</td>\n      <td>68398</td>\n      <td>2018</td>\n      <td>Porsche</td>\n      <td>911</td>\n      <td>Carrera</td>\n      <td>Base</td>\n      <td>Hardtop</td>\n      <td>Other</td>\n      <td>Automatic</td>\n    </tr>\n    <tr>\n      <th>...</th>\n      <td>...</td>\n      <td>...</td>\n      <td>...</td>\n      <td>...</td>\n      <td>...</td>\n      <td>...</td>\n      <td>...</td>\n      <td>...</td>\n      <td>...</td>\n      <td>...</td>\n      <td>...</td>\n    </tr>\n    <tr>\n      <th>1098</th>\n      <td>Used</td>\n      <td>5517</td>\n      <td>99495</td>\n      <td>2019</td>\n      <td>Porsche</td>\n      <td>911</td>\n      <td>Carrera</td>\n      <td>T</td>\n      <td>Hardtop</td>\n      <td>Red</td>\n      <td>Automatic</td>\n    </tr>\n    <tr>\n      <th>1408</th>\n      <td>Used</td>\n      <td>17000</td>\n      <td>35000</td>\n      <td>2008</td>\n      <td>Porsche</td>\n      <td>911</td>\n      <td>Carrera</td>\n      <td>S</td>\n      <td>Cabriolet</td>\n      <td>Other</td>\n      <td>Manual</td>\n    </tr>\n    <tr>\n      <th>936</th>\n      <td>Used</td>\n      <td>26775</td>\n      <td>67500</td>\n      <td>2013</td>\n      <td>Porsche</td>\n      <td>911</td>\n      <td>Carrera</td>\n      <td>S</td>\n      <td>Hardtop</td>\n      <td>White</td>\n      <td>Automatic</td>\n    </tr>\n    <tr>\n      <th>1261</th>\n      <td>Used</td>\n      <td>22463</td>\n      <td>56997</td>\n      <td>2013</td>\n      <td>Porsche</td>\n      <td>911</td>\n      <td>Carrera</td>\n      <td>Base</td>\n      <td>Hardtop</td>\n      <td>Gray/Silver</td>\n      <td>Manual</td>\n    </tr>\n    <tr>\n      <th>532</th>\n      <td>Used</td>\n      <td>28822</td>\n      <td>76900</td>\n      <td>2014</td>\n      <td>Porsche</td>\n      <td>911</td>\n      <td>Carrera</td>\n      <td>4S</td>\n      <td>Hardtop</td>\n      <td>Other</td>\n      <td>Automatic</td>\n    </tr>\n  </tbody>\n</table>\n<p>162 rows × 11 columns</p>\n</div>"
          },
          "metadata": {},
          "execution_count": 14
        }
      ]
    },
    {
      "cell_type": "code",
      "metadata": {
        "id": "K9H-qFr3c54x",
        "colab_type": "code",
        "colab": {}
      },
      "source": [
        "feature = ['condition','milage','Year','S_RS','Cabriolet','Color','Transmission']\n",
        "target = 'Price'\n",
        "X_train = train[feature]\n",
        "X_test = test[feature]\n",
        "Y_test = test[target]\n",
        "Y_train = train[target]"
      ],
      "execution_count": 15,
      "outputs": []
    },
    {
      "cell_type": "code",
      "metadata": {
        "id": "zSgLO81geFji",
        "colab_type": "code",
        "outputId": "53731534-06ce-4377-d576-ee00c7dd5889",
        "colab": {
          "base_uri": "https://localhost:8080/",
          "height": 283
        }
      },
      "source": [
        "!pip install category_encoders"
      ],
      "execution_count": 16,
      "outputs": [
        {
          "output_type": "stream",
          "name": "stdout",
          "text": "Requirement already satisfied: category_encoders in c:\\users\\sasana kongjareon\\anaconda3\\lib\\site-packages (2.2.2)\nRequirement already satisfied: scipy>=1.0.0 in c:\\users\\sasana kongjareon\\anaconda3\\lib\\site-packages (from category_encoders) (1.4.1)\nRequirement already satisfied: numpy>=1.14.0 in c:\\users\\sasana kongjareon\\anaconda3\\lib\\site-packages (from category_encoders) (1.18.1)\nRequirement already satisfied: patsy>=0.5.1 in c:\\users\\sasana kongjareon\\anaconda3\\lib\\site-packages (from category_encoders) (0.5.1)\nRequirement already satisfied: statsmodels>=0.9.0 in c:\\users\\sasana kongjareon\\anaconda3\\lib\\site-packages (from category_encoders) (0.11.0)\nRequirement already satisfied: scikit-learn>=0.20.0 in c:\\users\\sasana kongjareon\\anaconda3\\lib\\site-packages (from category_encoders) (0.22.1)\nRequirement already satisfied: pandas>=0.21.1 in c:\\users\\sasana kongjareon\\anaconda3\\lib\\site-packages (from category_encoders) (1.0.4)\nRequirement already satisfied: six in c:\\users\\sasana kongjareon\\anaconda3\\lib\\site-packages (from patsy>=0.5.1->category_encoders) (1.14.0)\nRequirement already satisfied: joblib>=0.11 in c:\\users\\sasana kongjareon\\anaconda3\\lib\\site-packages (from scikit-learn>=0.20.0->category_encoders) (0.14.1)\nRequirement already satisfied: python-dateutil>=2.6.1 in c:\\users\\sasana kongjareon\\anaconda3\\lib\\site-packages (from pandas>=0.21.1->category_encoders) (2.8.1)\nRequirement already satisfied: pytz>=2017.2 in c:\\users\\sasana kongjareon\\anaconda3\\lib\\site-packages (from pandas>=0.21.1->category_encoders) (2019.3)\n"
        }
      ]
    },
    {
      "cell_type": "code",
      "metadata": {
        "id": "Pmzy9lAVdQnc",
        "colab_type": "code",
        "outputId": "9f259b6b-801e-4a37-c446-637a941c0213",
        "colab": {
          "base_uri": "https://localhost:8080/",
          "height": 52
        }
      },
      "source": [
        "import category_encoders as ce\n",
        "encoder = ce.OneHotEncoder(use_cat_names=True)"
      ],
      "execution_count": 17,
      "outputs": []
    },
    {
      "cell_type": "code",
      "metadata": {
        "id": "78_uFQtReodF",
        "colab_type": "code",
        "outputId": "bef2f617-1b19-449d-fee1-ceaec749d4b9",
        "colab": {
          "base_uri": "https://localhost:8080/",
          "height": 406
        }
      },
      "source": [
        "X_test"
      ],
      "execution_count": 18,
      "outputs": [
        {
          "output_type": "execute_result",
          "data": {
            "text/plain": "     condition  milage  Year  S_RS  Cabriolet        Color Transmission\n830       Used   36843  2015     S    Hardtop        White    Automatic\n244       Used   22789  2017    4S    Hardtop        Black    Automatic\n226        CPO   13220  2017    4S    Hardtop        Black    Automatic\n1020      Used   21136  2013     S    Hardtop        White    Automatic\n606       Used   35103  2018  Base    Hardtop        Other    Automatic\n...        ...     ...   ...   ...        ...          ...          ...\n1098      Used    5517  2019     T    Hardtop          Red    Automatic\n1408      Used   17000  2008     S  Cabriolet        Other       Manual\n936       Used   26775  2013     S    Hardtop        White    Automatic\n1261      Used   22463  2013  Base    Hardtop  Gray/Silver       Manual\n532       Used   28822  2014    4S    Hardtop        Other    Automatic\n\n[162 rows x 7 columns]",
            "text/html": "<div>\n<style scoped>\n    .dataframe tbody tr th:only-of-type {\n        vertical-align: middle;\n    }\n\n    .dataframe tbody tr th {\n        vertical-align: top;\n    }\n\n    .dataframe thead th {\n        text-align: right;\n    }\n</style>\n<table border=\"1\" class=\"dataframe\">\n  <thead>\n    <tr style=\"text-align: right;\">\n      <th></th>\n      <th>condition</th>\n      <th>milage</th>\n      <th>Year</th>\n      <th>S_RS</th>\n      <th>Cabriolet</th>\n      <th>Color</th>\n      <th>Transmission</th>\n    </tr>\n  </thead>\n  <tbody>\n    <tr>\n      <th>830</th>\n      <td>Used</td>\n      <td>36843</td>\n      <td>2015</td>\n      <td>S</td>\n      <td>Hardtop</td>\n      <td>White</td>\n      <td>Automatic</td>\n    </tr>\n    <tr>\n      <th>244</th>\n      <td>Used</td>\n      <td>22789</td>\n      <td>2017</td>\n      <td>4S</td>\n      <td>Hardtop</td>\n      <td>Black</td>\n      <td>Automatic</td>\n    </tr>\n    <tr>\n      <th>226</th>\n      <td>CPO</td>\n      <td>13220</td>\n      <td>2017</td>\n      <td>4S</td>\n      <td>Hardtop</td>\n      <td>Black</td>\n      <td>Automatic</td>\n    </tr>\n    <tr>\n      <th>1020</th>\n      <td>Used</td>\n      <td>21136</td>\n      <td>2013</td>\n      <td>S</td>\n      <td>Hardtop</td>\n      <td>White</td>\n      <td>Automatic</td>\n    </tr>\n    <tr>\n      <th>606</th>\n      <td>Used</td>\n      <td>35103</td>\n      <td>2018</td>\n      <td>Base</td>\n      <td>Hardtop</td>\n      <td>Other</td>\n      <td>Automatic</td>\n    </tr>\n    <tr>\n      <th>...</th>\n      <td>...</td>\n      <td>...</td>\n      <td>...</td>\n      <td>...</td>\n      <td>...</td>\n      <td>...</td>\n      <td>...</td>\n    </tr>\n    <tr>\n      <th>1098</th>\n      <td>Used</td>\n      <td>5517</td>\n      <td>2019</td>\n      <td>T</td>\n      <td>Hardtop</td>\n      <td>Red</td>\n      <td>Automatic</td>\n    </tr>\n    <tr>\n      <th>1408</th>\n      <td>Used</td>\n      <td>17000</td>\n      <td>2008</td>\n      <td>S</td>\n      <td>Cabriolet</td>\n      <td>Other</td>\n      <td>Manual</td>\n    </tr>\n    <tr>\n      <th>936</th>\n      <td>Used</td>\n      <td>26775</td>\n      <td>2013</td>\n      <td>S</td>\n      <td>Hardtop</td>\n      <td>White</td>\n      <td>Automatic</td>\n    </tr>\n    <tr>\n      <th>1261</th>\n      <td>Used</td>\n      <td>22463</td>\n      <td>2013</td>\n      <td>Base</td>\n      <td>Hardtop</td>\n      <td>Gray/Silver</td>\n      <td>Manual</td>\n    </tr>\n    <tr>\n      <th>532</th>\n      <td>Used</td>\n      <td>28822</td>\n      <td>2014</td>\n      <td>4S</td>\n      <td>Hardtop</td>\n      <td>Other</td>\n      <td>Automatic</td>\n    </tr>\n  </tbody>\n</table>\n<p>162 rows × 7 columns</p>\n</div>"
          },
          "metadata": {},
          "execution_count": 18
        }
      ]
    },
    {
      "cell_type": "code",
      "metadata": {
        "id": "jrSG9ioQesLf",
        "colab_type": "code",
        "outputId": "5d813412-80c9-4491-dc30-2eb288a92164",
        "colab": {
          "base_uri": "https://localhost:8080/",
          "height": 406
        }
      },
      "source": [
        "X_train"
      ],
      "execution_count": 19,
      "outputs": [
        {
          "output_type": "execute_result",
          "data": {
            "text/plain": "     condition  milage  Year  S_RS  Cabriolet        Color Transmission\n1494      Used   15710  2016    4S    Hardtop        White       Manual\n1176      Used   35750  2008     S  Cabriolet        Black       Manual\n692       Used   26324  2010    4S  Cabriolet        Other    Automatic\n758       Used  130000  2013  Base    Hardtop  Gray/Silver    Automatic\n825       Used    4113  2017  Base    Hardtop        White    Automatic\n...        ...     ...   ...   ...        ...          ...          ...\n1047       CPO   34541  2018  Base    Hardtop        White    Automatic\n1151       CPO   17066  2015   GTS    Hardtop          Red    Automatic\n938       Used   40700  2017  Base    Hardtop        White    Automatic\n1035      Used   26067  2017     S    Hardtop        White    Automatic\n324       Used   23000  2015     S    Hardtop        Black    Automatic\n\n[648 rows x 7 columns]",
            "text/html": "<div>\n<style scoped>\n    .dataframe tbody tr th:only-of-type {\n        vertical-align: middle;\n    }\n\n    .dataframe tbody tr th {\n        vertical-align: top;\n    }\n\n    .dataframe thead th {\n        text-align: right;\n    }\n</style>\n<table border=\"1\" class=\"dataframe\">\n  <thead>\n    <tr style=\"text-align: right;\">\n      <th></th>\n      <th>condition</th>\n      <th>milage</th>\n      <th>Year</th>\n      <th>S_RS</th>\n      <th>Cabriolet</th>\n      <th>Color</th>\n      <th>Transmission</th>\n    </tr>\n  </thead>\n  <tbody>\n    <tr>\n      <th>1494</th>\n      <td>Used</td>\n      <td>15710</td>\n      <td>2016</td>\n      <td>4S</td>\n      <td>Hardtop</td>\n      <td>White</td>\n      <td>Manual</td>\n    </tr>\n    <tr>\n      <th>1176</th>\n      <td>Used</td>\n      <td>35750</td>\n      <td>2008</td>\n      <td>S</td>\n      <td>Cabriolet</td>\n      <td>Black</td>\n      <td>Manual</td>\n    </tr>\n    <tr>\n      <th>692</th>\n      <td>Used</td>\n      <td>26324</td>\n      <td>2010</td>\n      <td>4S</td>\n      <td>Cabriolet</td>\n      <td>Other</td>\n      <td>Automatic</td>\n    </tr>\n    <tr>\n      <th>758</th>\n      <td>Used</td>\n      <td>130000</td>\n      <td>2013</td>\n      <td>Base</td>\n      <td>Hardtop</td>\n      <td>Gray/Silver</td>\n      <td>Automatic</td>\n    </tr>\n    <tr>\n      <th>825</th>\n      <td>Used</td>\n      <td>4113</td>\n      <td>2017</td>\n      <td>Base</td>\n      <td>Hardtop</td>\n      <td>White</td>\n      <td>Automatic</td>\n    </tr>\n    <tr>\n      <th>...</th>\n      <td>...</td>\n      <td>...</td>\n      <td>...</td>\n      <td>...</td>\n      <td>...</td>\n      <td>...</td>\n      <td>...</td>\n    </tr>\n    <tr>\n      <th>1047</th>\n      <td>CPO</td>\n      <td>34541</td>\n      <td>2018</td>\n      <td>Base</td>\n      <td>Hardtop</td>\n      <td>White</td>\n      <td>Automatic</td>\n    </tr>\n    <tr>\n      <th>1151</th>\n      <td>CPO</td>\n      <td>17066</td>\n      <td>2015</td>\n      <td>GTS</td>\n      <td>Hardtop</td>\n      <td>Red</td>\n      <td>Automatic</td>\n    </tr>\n    <tr>\n      <th>938</th>\n      <td>Used</td>\n      <td>40700</td>\n      <td>2017</td>\n      <td>Base</td>\n      <td>Hardtop</td>\n      <td>White</td>\n      <td>Automatic</td>\n    </tr>\n    <tr>\n      <th>1035</th>\n      <td>Used</td>\n      <td>26067</td>\n      <td>2017</td>\n      <td>S</td>\n      <td>Hardtop</td>\n      <td>White</td>\n      <td>Automatic</td>\n    </tr>\n    <tr>\n      <th>324</th>\n      <td>Used</td>\n      <td>23000</td>\n      <td>2015</td>\n      <td>S</td>\n      <td>Hardtop</td>\n      <td>Black</td>\n      <td>Automatic</td>\n    </tr>\n  </tbody>\n</table>\n<p>648 rows × 7 columns</p>\n</div>"
          },
          "metadata": {},
          "execution_count": 19
        }
      ]
    },
    {
      "cell_type": "code",
      "metadata": {
        "id": "JQt0T-t3fAAP",
        "colab_type": "code",
        "colab": {}
      },
      "source": [
        "X_train = encoder.fit_transform(X_train)"
      ],
      "execution_count": 20,
      "outputs": []
    },
    {
      "cell_type": "code",
      "metadata": {
        "id": "wZ0Poc6eeLyt",
        "colab_type": "code",
        "colab": {}
      },
      "source": [
        "X_test = encoder.fit_transform(X_test)"
      ],
      "execution_count": 21,
      "outputs": []
    },
    {
      "cell_type": "code",
      "metadata": {
        "id": "23v5dKr1eqwt",
        "colab_type": "code",
        "outputId": "9fcceb09-a718-49b2-f6b2-c8f28c9e96dc",
        "colab": {
          "base_uri": "https://localhost:8080/",
          "height": 34
        }
      },
      "source": [
        "from sklearn.linear_model import LinearRegression\n",
        "from sklearn.metrics import mean_absolute_error, mean_squared_error, r2_score\n",
        "\n",
        "model = LinearRegression()\n",
        "\n",
        "\n",
        "model.fit(X_train, Y_train)"
      ],
      "execution_count": 22,
      "outputs": [
        {
          "output_type": "execute_result",
          "data": {
            "text/plain": "LinearRegression(copy_X=True, fit_intercept=True, n_jobs=None, normalize=False)"
          },
          "metadata": {},
          "execution_count": 22
        }
      ]
    },
    {
      "cell_type": "code",
      "metadata": {
        "id": "eXINm9QBeVpg",
        "colab_type": "code",
        "outputId": "04be7ed7-ee43-437c-9a0d-4f4c985f2eb7",
        "colab": {
          "base_uri": "https://localhost:8080/",
          "height": 34
        }
      },
      "source": [
        "y_pred_train = model.predict(X_train)\n",
        "print(\"MAE(Train):$\",mean_absolute_error(Y_train, y_pred_train))"
      ],
      "execution_count": 23,
      "outputs": [
        {
          "output_type": "stream",
          "name": "stdout",
          "text": "MAE(Train):$ 5887.1435565924985\n"
        }
      ]
    },
    {
      "cell_type": "code",
      "metadata": {
        "id": "AAFOnwW0gyzT",
        "colab_type": "code",
        "outputId": "4d39958c-148f-47e0-e6fc-4a81def10709",
        "colab": {
          "base_uri": "https://localhost:8080/",
          "height": 34
        }
      },
      "source": [
        "r2_base = r2_score(Y_train, y_pred_train)\n",
        "print('R^2 scores (Train):',r2_base)"
      ],
      "execution_count": 24,
      "outputs": [
        {
          "output_type": "stream",
          "name": "stdout",
          "text": "R^2 scores (Train): 0.8526697531427914\n"
        }
      ]
    },
    {
      "cell_type": "code",
      "metadata": {
        "id": "M2e3bvFzhSyo",
        "colab_type": "code",
        "outputId": "6703de46-3c65-4fe8-8572-f2ba578f44a2",
        "colab": {
          "base_uri": "https://localhost:8080/",
          "height": 34
        }
      },
      "source": [
        "y_pred_val = model.predict(X_test)\n",
        "print(\"MAE(Val):$\",mean_absolute_error(Y_test, y_pred_val))"
      ],
      "execution_count": 25,
      "outputs": [
        {
          "output_type": "stream",
          "name": "stdout",
          "text": "MAE(Val):$ 9245.341766848309\n"
        }
      ]
    },
    {
      "cell_type": "code",
      "metadata": {
        "id": "8zYovyEwiKVv",
        "colab_type": "code",
        "outputId": "241ebcc2-15e0-46e7-e1c6-a02e892ac1b5",
        "colab": {
          "base_uri": "https://localhost:8080/",
          "height": 34
        }
      },
      "source": [
        "r2_base = r2_score(Y_test, y_pred_val)\n",
        "print('R^2 scores (Train):',r2_base)"
      ],
      "execution_count": 26,
      "outputs": [
        {
          "output_type": "stream",
          "name": "stdout",
          "text": "R^2 scores (Train): 0.6024955718824534\n"
        }
      ]
    },
    {
      "cell_type": "code",
      "metadata": {
        "id": "whHWYXGFiRef",
        "colab_type": "code",
        "outputId": "7489ca5f-460b-43b8-ae01-702deda4bb38",
        "colab": {
          "base_uri": "https://localhost:8080/",
          "height": 123
        }
      },
      "source": [
        "model.coef_"
      ],
      "execution_count": 27,
      "outputs": [
        {
          "output_type": "execute_result",
          "data": {
            "text/plain": "array([-1.31655432e+03,  1.31655432e+03, -3.33234590e-01,  3.96288098e+03,\n        2.70944244e+03, -2.65031358e+03, -1.14525798e+04,  1.85901607e+04,\n       -7.61778495e+03, -1.13169386e+04,  2.47773451e+04, -1.30393313e+04,\n       -1.01278027e+03,  1.01278027e+03, -5.60972173e+02, -2.61793715e+03,\n        5.96289735e+02,  3.28889368e+02,  1.37856716e+03,  8.75163062e+02,\n        1.05500997e+03, -1.05500997e+03])"
          },
          "metadata": {},
          "execution_count": 27
        }
      ]
    },
    {
      "cell_type": "code",
      "metadata": {
        "id": "O8ubp8Ufiqk-",
        "colab_type": "code",
        "outputId": "283e5920-79b2-4eda-b49f-f187e9dc2500",
        "colab": {
          "base_uri": "https://localhost:8080/",
          "height": 407
        }
      },
      "source": [
        "list(X_train)"
      ],
      "execution_count": 28,
      "outputs": [
        {
          "output_type": "execute_result",
          "data": {
            "text/plain": "['condition_Used',\n 'condition_CPO',\n 'milage',\n 'Year',\n 'S_RS_4S',\n 'S_RS_S',\n 'S_RS_Base',\n 'S_RS_GTS',\n 'S_RS_4',\n 'S_RS_T',\n 'S_RS_GTS4',\n 'S_RS_Black',\n 'Cabriolet_Hardtop',\n 'Cabriolet_Cabriolet',\n 'Color_White',\n 'Color_Black',\n 'Color_Other',\n 'Color_Gray/Silver',\n 'Color_Blue',\n 'Color_Red',\n 'Transmission_Manual',\n 'Transmission_Automatic']"
          },
          "metadata": {},
          "execution_count": 28
        }
      ]
    },
    {
      "cell_type": "code",
      "metadata": {
        "id": "tGtvDkX3jZBn",
        "colab_type": "code",
        "colab": {}
      },
      "source": [
        "condition_Used = 0\n",
        "condition_CPO = 1\n",
        "milage = 30000\n",
        "Year = 2016\n",
        "S_RS_4S = 0\n",
        "S_RS_S = 0\n",
        "S_RS_Base = 1\n",
        "S_RS_GTS = 0\n",
        "S_RS_4 = 0\n",
        "S_RS_T = 0\n",
        "S_RS_4GTS = 0\n",
        "S_RS_Black_Ed = 0\n",
        "Cabriolet_Hardtop = 0\n",
        "Cabriolet_Cabriolet= 1\n",
        "Color_White = 0\n",
        "Color_Black = 1\n",
        "Color_Other = 0\n",
        "Color_Gray_Silver = 0\n",
        "Color_Blue = 0\n",
        "Color_Red = 0\n",
        "Transmission_Manual = 0\n",
        "Transmission_Automatic = 1"
      ],
      "execution_count": 29,
      "outputs": []
    },
    {
      "cell_type": "code",
      "metadata": {
        "id": "xBA0qh8WihBj",
        "colab_type": "code",
        "colab": {}
      },
      "source": [
        "price = model.predict([[condition_Used,condition_CPO,milage,Year,S_RS_4S,S_RS_S\n",
        "                ,S_RS_Base,S_RS_GTS,S_RS_4,S_RS_T,S_RS_4GTS,\n",
        "                S_RS_Black_Ed,Cabriolet_Hardtop,Cabriolet_Cabriolet,Color_White,\n",
        "                Color_Black,Color_Other,Color_Gray_Silver,Color_Blue,Color_Red,Transmission_Automatic,\n",
        "                Transmission_Manual]])\n"
      ],
      "execution_count": 30,
      "outputs": []
    },
    {
      "cell_type": "code",
      "metadata": {
        "id": "2R43VOualuwL",
        "colab_type": "code",
        "outputId": "b05eef92-e7ea-4820-88cc-5c09a646fad5",
        "colab": {
          "base_uri": "https://localhost:8080/",
          "height": 34
        }
      },
      "source": [
        "print(\"Your 911 should be price at :$\",price)"
      ],
      "execution_count": 31,
      "outputs": [
        {
          "output_type": "stream",
          "name": "stdout",
          "text": "Your 911 should be price at :$ [75973.26777012]\n"
        }
      ]
    },
    {
      "cell_type": "code",
      "metadata": {
        "id": "idvL9kDIU1As",
        "colab_type": "code",
        "colab": {}
      },
      "source": [
        "dt = df.copy()"
      ],
      "execution_count": 32,
      "outputs": []
    },
    {
      "cell_type": "markdown",
      "metadata": {},
      "source": [
        "### Linear Model (Ridge)\n",
        "---"
      ]
    },
    {
      "cell_type": "code",
      "metadata": {
        "id": "GKUIjFOInYAv",
        "colab_type": "code",
        "outputId": "fe4fc491-d2e9-4efb-a0d7-c9079acc6465",
        "colab": {
          "base_uri": "https://localhost:8080/",
          "height": 406
        }
      },
      "source": [
        "from sklearn.model_selection import GridSearchCV, RandomizedSearchCV\n",
        "import category_encoders as ce\n",
        "import numpy as np\n",
        "from sklearn.feature_selection import f_regression, SelectKBest\n",
        "from sklearn.impute import SimpleImputer\n",
        "from sklearn.linear_model import Ridge\n",
        "from sklearn.model_selection import cross_val_score\n",
        "from sklearn.pipeline import make_pipeline\n",
        "from sklearn.preprocessing import StandardScaler\n",
        "\n",
        "pipeline = make_pipeline(\n",
        "    ce.OneHotEncoder(use_cat_names=True), \n",
        "    SimpleImputer(), \n",
        "    StandardScaler(), \n",
        "    SelectKBest(f_regression), \n",
        "    Ridge()\n",
        ")\n",
        "\n",
        "param_distributions = {\n",
        "    'simpleimputer__strategy': ['mean', 'median'], \n",
        "    'selectkbest__k': range(1, len(X_train.columns)+1), \n",
        "    'ridge__alpha': [0.1, 1, 10], \n",
        "}\n",
        "\n",
        "# If you're on Colab, decrease n_iter & cv parameters\n",
        "search = RandomizedSearchCV(\n",
        "    pipeline, \n",
        "    param_distributions=param_distributions, \n",
        "    n_iter=100, \n",
        "    cv=10, \n",
        "    scoring='neg_mean_absolute_error', \n",
        "    verbose=10, \n",
        "    return_train_score=True, \n",
        "    n_jobs=-1\n",
        ")\n",
        "\n",
        "search.fit(X_train, Y_train);"
      ],
      "execution_count": 33,
      "outputs": [
        {
          "output_type": "stream",
          "name": "stdout",
          "text": "Fitting 10 folds for each of 100 candidates, totalling 1000 fits\n[Parallel(n_jobs=-1)]: Using backend LokyBackend with 12 concurrent workers.\n[Parallel(n_jobs=-1)]: Done   1 tasks      | elapsed:    8.5s\n[Parallel(n_jobs=-1)]: Done   8 tasks      | elapsed:    8.6s\n[Parallel(n_jobs=-1)]: Done  17 tasks      | elapsed:    8.7s\n[Parallel(n_jobs=-1)]: Done  26 tasks      | elapsed:    8.8s\n[Parallel(n_jobs=-1)]: Done  37 tasks      | elapsed:    8.9s\n[Parallel(n_jobs=-1)]: Batch computation too fast (0.1867s.) Setting batch_size=2.\n[Parallel(n_jobs=-1)]: Done  48 tasks      | elapsed:    8.9s\n[Parallel(n_jobs=-1)]: Done  61 tasks      | elapsed:    9.0s\n[Parallel(n_jobs=-1)]: Batch computation too fast (0.1516s.) Setting batch_size=4.\n[Parallel(n_jobs=-1)]: Done  76 tasks      | elapsed:    9.1s\n[Parallel(n_jobs=-1)]: Done 106 tasks      | elapsed:    9.3s\n[Parallel(n_jobs=-1)]: Done 152 tasks      | elapsed:    9.4s\n[Parallel(n_jobs=-1)]: Done 220 tasks      | elapsed:    9.6s\n[Parallel(n_jobs=-1)]: Done 288 tasks      | elapsed:    9.8s\n[Parallel(n_jobs=-1)]: Done 364 tasks      | elapsed:   10.0s\n[Parallel(n_jobs=-1)]: Done 440 tasks      | elapsed:   10.2s\n[Parallel(n_jobs=-1)]: Done 524 tasks      | elapsed:   10.4s\n[Parallel(n_jobs=-1)]: Done 608 tasks      | elapsed:   10.6s\n[Parallel(n_jobs=-1)]: Done 700 tasks      | elapsed:   10.9s\n[Parallel(n_jobs=-1)]: Done 792 tasks      | elapsed:   11.1s\n[Parallel(n_jobs=-1)]: Done 892 tasks      | elapsed:   11.4s\n[Parallel(n_jobs=-1)]: Batch computation too fast (0.1994s.) Setting batch_size=8.\n[Parallel(n_jobs=-1)]: Done 1000 out of 1000 | elapsed:   11.5s finished\n"
        }
      ]
    },
    {
      "cell_type": "code",
      "execution_count": 34,
      "metadata": {},
      "outputs": [
        {
          "output_type": "stream",
          "name": "stdout",
          "text": "Best hyperparameters {'simpleimputer__strategy': 'mean', 'selectkbest__k': 15, 'ridge__alpha': 10}\nCross-validation MAE 6030.780678220875\n"
        }
      ],
      "source": [
        "print('Best hyperparameters', search.best_params_)\n",
        "print('Cross-validation MAE', -search.best_score_)"
      ]
    },
    {
      "cell_type": "code",
      "execution_count": 35,
      "metadata": {},
      "outputs": [
        {
          "output_type": "execute_result",
          "data": {
            "text/plain": "231.847   \n\n                                                                              78  \\\nmean_fit_time                                                         0.00837765   \nstd_fit_time                                                         0.000798447   \nmean_score_time                                                       0.00199482   \nstd_score_time                                                       0.000772572   \nparam_simpleimputer__strategy                                               mean   \nparam_selectkbest__k                                                           3   \nparam_ridge__alpha                                                             1   \nparams                         {'simpleimputer__strategy': 'mean', 'selectkbe...   \nsplit0_test_score                                                       -6733.07   \nsplit1_test_score                                                        -6691.8   \nsplit2_test_score                                                       -8104.72   \nsplit3_test_score                                                       -10174.5   \nsplit4_test_score                                                       -7222.62   \nsplit5_test_score                                                       -8960.53   \nsplit6_test_score                                                       -10388.9   \nsplit7_test_score                                                       -10436.7   \nsplit8_test_score                                                       -9242.56   \nsplit9_test_score                                                       -7517.13   \nmean_test_score                                                         -8547.25   \nstd_test_score                                                           1414.55   \nrank_test_score                                                               94   \nsplit0_train_score                                                      -8725.98   \nsplit1_train_score                                                      -8724.12   \nsplit2_train_score                                                      -8579.42   \nsplit3_train_score                                                      -8321.66   \nsplit4_train_score                                                      -8684.28   \nsplit5_train_score                                                      -8385.27   \nsplit6_train_score                                                      -8272.91   \nsplit7_train_score                                                      -8299.68   \nsplit8_train_score                                                      -8433.66   \nsplit9_train_score                                                      -7945.89   \nmean_train_score                                                        -8437.28   \nstd_train_score                                                          234.592   \n\n                                                                              67  \\\nmean_fit_time                                                         0.00847778   \nstd_fit_time                                                          0.00066921   \nmean_score_time                                                       0.00174675   \nstd_score_time                                                       0.000599999   \nparam_simpleimputer__strategy                                             median   \nparam_selectkbest__k                                                           3   \nparam_ridge__alpha                                                           0.1   \nparams                         {'simpleimputer__strategy': 'median', 'selectk...   \nsplit0_test_score                                                       -6734.29   \nsplit1_test_score                                                       -6696.05   \nsplit2_test_score                                                       -8106.41   \nsplit3_test_score                                                       -10175.7   \nsplit4_test_score                                                       -7220.06   \nsplit5_test_score                                                       -8960.22   \nsplit6_test_score                                                       -10386.2   \nsplit7_test_score                                                       -10444.1   \nsplit8_test_score                                                       -9243.97   \nsplit9_test_score                                                       -7517.03   \nmean_test_score                                                         -8548.39   \nstd_test_score                                                           1414.85   \nrank_test_score                                                               95   \nsplit0_train_score                                                       -8727.3   \nsplit1_train_score                                                      -8724.72   \nsplit2_train_score                                                      -8580.51   \nsplit3_train_score                                                      -8322.27   \nsplit4_train_score                                                      -8685.32   \nsplit5_train_score                                                      -8385.99   \nsplit6_train_score                                                      -8274.17   \nsplit7_train_score                                                      -8300.21   \nsplit8_train_score                                                      -8435.37   \nsplit9_train_score                                                      -7947.08   \nmean_train_score                                                        -8438.29   \nstd_train_score                                                          234.589   \n\n                                                                              24  \\\nmean_fit_time                                                         0.00728047   \nstd_fit_time                                                         0.000897344   \nmean_score_time                                                       0.00179524   \nstd_score_time                                                       0.000598577   \nparam_simpleimputer__strategy                                               mean   \nparam_selectkbest__k                                                           3   \nparam_ridge__alpha                                                           0.1   \nparams                         {'simpleimputer__strategy': 'mean', 'selectkbe...   \nsplit0_test_score                                                       -6734.29   \nsplit1_test_score                                                       -6696.05   \nsplit2_test_score                                                       -8106.41   \nsplit3_test_score                                                       -10175.7   \nsplit4_test_score                                                       -7220.06   \nsplit5_test_score                                                       -8960.22   \nsplit6_test_score                                                       -10386.2   \nsplit7_test_score                                                       -10444.1   \nsplit8_test_score                                                       -9243.97   \nsplit9_test_score                                                       -7517.03   \nmean_test_score                                                         -8548.39   \nstd_test_score                                                           1414.85   \nrank_test_score                                                               95   \nsplit0_train_score                                                       -8727.3   \nsplit1_train_score                                                      -8724.72   \nsplit2_train_score                                                      -8580.51   \nsplit3_train_score                                                      -8322.27   \nsplit4_train_score                                                      -8685.32   \nsplit5_train_score                                                      -8385.99   \nsplit6_train_score                                                      -8274.17   \nsplit7_train_score                                                      -8300.21   \nsplit8_train_score                                                      -8435.37   \nsplit9_train_score                                                      -7947.08   \nmean_train_score                                                        -8438.29   \nstd_train_score                                                          234.589   \n\n                                                                              63  \\\nmean_fit_time                                                         0.00748062   \nstd_fit_time                                                         0.000804009   \nmean_score_time                                                       0.00169494   \nstd_score_time                                                       0.000638512   \nparam_simpleimputer__strategy                                             median   \nparam_selectkbest__k                                                           1   \nparam_ridge__alpha                                                            10   \nparams                         {'simpleimputer__strategy': 'median', 'selectk...   \nsplit0_test_score                                                       -9486.67   \nsplit1_test_score                                                        -8866.3   \nsplit2_test_score                                                        -9501.1   \nsplit3_test_score                                                       -10959.6   \nsplit4_test_score                                                       -7841.82   \nsplit5_test_score                                                       -11110.2   \nsplit6_test_score                                                       -12516.7   \nsplit7_test_score                                                       -11564.1   \nsplit8_test_score                                                       -9723.29   \nsplit9_test_score                                                       -9802.88   \nmean_test_score                                                         -10137.3   \nstd_test_score                                                            1315.9   \nrank_test_score                                                               97   \nsplit0_train_score                                                      -10169.3   \nsplit1_train_score                                                      -10245.5   \nsplit2_train_score                                                      -10172.6   \nsplit3_train_score                                                       -9997.1   \nsplit4_train_score                                                      -10354.1   \nsplit5_train_score                                                      -9951.66   \nsplit6_train_score                                                      -9815.26   \nsplit7_train_score                                                      -9956.14   \nsplit8_train_score                                                      -10146.1   \nsplit9_train_score                                                      -10154.4   \nmean_train_score                                                        -10096.2   \nstd_train_score                                                          153.329   \n\n                                                                              2   \\\nmean_fit_time                                                         0.00768003   \nstd_fit_time                                                         0.000457123   \nmean_score_time                                                       0.00189462   \nstd_score_time                                                       0.000537239   \nparam_simpleimputer__strategy                                               mean   \nparam_selectkbest__k                                                           1   \nparam_ridge__alpha                                                             1   \nparams                         {'simpleimputer__strategy': 'mean', 'selectkbe...   \nsplit0_test_score                                                        -9468.1   \nsplit1_test_score                                                       -8930.84   \nsplit2_test_score                                                       -9517.23   \nsplit3_test_score                                                       -10937.8   \nsplit4_test_score                                                       -7840.81   \nsplit5_test_score                                                       -11067.9   \nsplit6_test_score                                                       -12544.4   \nsplit7_test_score                                                       -11603.4   \nsplit8_test_score                                                       -9789.88   \nsplit9_test_score                                                       -9823.26   \nmean_test_score                                                         -10152.4   \nstd_test_score                                                            1312.6   \nrank_test_score                                                               98   \nsplit0_train_score                                                      -10181.2   \nsplit1_train_score                                                      -10255.8   \nsplit2_train_score                                                      -10181.6   \nsplit3_train_score                                                      -10006.3   \nsplit4_train_score                                                      -10365.3   \nsplit5_train_score                                                      -9956.89   \nsplit6_train_score                                                      -9824.93   \nsplit7_train_score                                                      -9964.79   \nsplit8_train_score                                                      -10165.7   \nsplit9_train_score                                                      -10164.7   \nmean_train_score                                                        -10106.7   \nstd_train_score                                                          154.649   \n\n                                                                              30  \\\nmean_fit_time                                                         0.00767939   \nstd_fit_time                                                          0.00100273   \nmean_score_time                                                       0.00159552   \nstd_score_time                                                       0.000489075   \nparam_simpleimputer__strategy                                             median   \nparam_selectkbest__k                                                           1   \nparam_ridge__alpha                                                             1   \nparams                         {'simpleimputer__strategy': 'median', 'selectk...   \nsplit0_test_score                                                        -9468.1   \nsplit1_test_score                                                       -8930.84   \nsplit2_test_score                                                       -9517.23   \nsplit3_test_score                                                       -10937.8   \nsplit4_test_score                                                       -7840.81   \nsplit5_test_score                                                       -11067.9   \nsplit6_test_score                                                       -12544.4   \nsplit7_test_score                                                       -11603.4   \nsplit8_test_score                                                       -9789.88   \nsplit9_test_score                                                       -9823.26   \nmean_test_score                                                         -10152.4   \nstd_test_score                                                            1312.6   \nrank_test_score                                                               98   \nsplit0_train_score                                                      -10181.2   \nsplit1_train_score                                                      -10255.8   \nsplit2_train_score                                                      -10181.6   \nsplit3_train_score                                                      -10006.3   \nsplit4_train_score                                                      -10365.3   \nsplit5_train_score                                                      -9956.89   \nsplit6_train_score                                                      -9824.93   \nsplit7_train_score                                                      -9964.79   \nsplit8_train_score                                                      -10165.7   \nsplit9_train_score                                                      -10164.7   \nmean_train_score                                                        -10106.7   \nstd_train_score                                                          154.649   \n\n                                                                              75  \nmean_fit_time                                                         0.00748019  \nstd_fit_time                                                          0.00162347  \nmean_score_time                                                       0.00179522  \nstd_score_time                                                       0.000746398  \nparam_simpleimputer__strategy                                               mean  \nparam_selectkbest__k                                                           1  \nparam_ridge__alpha                                                           0.1  \nparams                         {'simpleimputer__strategy': 'mean', 'selectkbe...  \nsplit0_test_score                                                       -9466.85  \nsplit1_test_score                                                       -8937.65  \nsplit2_test_score                                                       -9518.87  \nsplit3_test_score                                                       -10935.6  \nsplit4_test_score                                                        -7840.7  \nsplit5_test_score                                                       -11063.6  \nsplit6_test_score                                                       -12548.8  \nsplit7_test_score                                                       -11607.4  \nsplit8_test_score                                                       -9796.65  \nsplit9_test_score                                                       -9825.33  \nmean_test_score                                                         -10154.1  \nstd_test_score                                                           1312.55  \nrank_test_score                                                              100  \nsplit0_train_score                                                      -10182.6  \nsplit1_train_score                                                      -10257.4  \nsplit2_train_score                                                      -10182.7  \nsplit3_train_score                                                      -10007.6  \nsplit4_train_score                                                      -10366.5  \nsplit5_train_score                                                      -9957.58  \nsplit6_train_score                                                      -9826.65  \nsplit7_train_score                                                      -9966.53  \nsplit8_train_score                                                      -10167.8  \nsplit9_train_score                                                      -10165.9  \nmean_train_score                                                        -10108.1  \nstd_train_score                                                           154.62  \n\n[33 rows x 100 columns]",
            "text/html": "<div>\n<style scoped>\n    .dataframe tbody tr th:only-of-type {\n        vertical-align: middle;\n    }\n\n    .dataframe tbody tr th {\n        vertical-align: top;\n    }\n\n    .dataframe thead th {\n        text-align: right;\n    }\n</style>\n<table border=\"1\" class=\"dataframe\">\n  <thead>\n    <tr style=\"text-align: right;\">\n      <th></th>\n      <th>5</th>\n      <th>65</th>\n      <th>8</th>\n      <th>95</th>\n      <th>35</th>\n      <th>7</th>\n      <th>51</th>\n      <th>77</th>\n      <th>74</th>\n      <th>82</th>\n      <th>...</th>\n      <th>23</th>\n      <th>14</th>\n      <th>87</th>\n      <th>78</th>\n      <th>67</th>\n      <th>24</th>\n      <th>63</th>\n      <th>2</th>\n      <th>30</th>\n      <th>75</th>\n    </tr>\n  </thead>\n  <tbody>\n    <tr>\n      <th>mean_fit_time</th>\n      <td>0.00787864</td>\n      <td>0.00802867</td>\n      <td>0.00757985</td>\n      <td>0.0101727</td>\n      <td>0.00628285</td>\n      <td>0.00867693</td>\n      <td>0.00708182</td>\n      <td>0.0105726</td>\n      <td>0.00783005</td>\n      <td>0.00787902</td>\n      <td>...</td>\n      <td>0.00807881</td>\n      <td>0.00922282</td>\n      <td>0.00777879</td>\n      <td>0.00837765</td>\n      <td>0.00847778</td>\n      <td>0.00728047</td>\n      <td>0.00748062</td>\n      <td>0.00768003</td>\n      <td>0.00767939</td>\n      <td>0.00748019</td>\n    </tr>\n    <tr>\n      <th>std_fit_time</th>\n      <td>0.000698546</td>\n      <td>0.00184703</td>\n      <td>0.000488658</td>\n      <td>0.00284941</td>\n      <td>0.00126523</td>\n      <td>0.000896934</td>\n      <td>0.00137176</td>\n      <td>0.00179584</td>\n      <td>0.00122196</td>\n      <td>0.00242072</td>\n      <td>...</td>\n      <td>0.00129665</td>\n      <td>0.00139652</td>\n      <td>0.000398532</td>\n      <td>0.000798447</td>\n      <td>0.00066921</td>\n      <td>0.000897344</td>\n      <td>0.000804009</td>\n      <td>0.000457123</td>\n      <td>0.00100273</td>\n      <td>0.00162347</td>\n    </tr>\n    <tr>\n      <th>mean_score_time</th>\n      <td>0.00209482</td>\n      <td>0.00189526</td>\n      <td>0.00209451</td>\n      <td>0.00219398</td>\n      <td>0.0015954</td>\n      <td>0.00179484</td>\n      <td>0.0017947</td>\n      <td>0.00189388</td>\n      <td>0.00159569</td>\n      <td>0.00199423</td>\n      <td>...</td>\n      <td>0.00319173</td>\n      <td>0.00199447</td>\n      <td>0.00159545</td>\n      <td>0.00199482</td>\n      <td>0.00174675</td>\n      <td>0.00179524</td>\n      <td>0.00169494</td>\n      <td>0.00189462</td>\n      <td>0.00159552</td>\n      <td>0.00179522</td>\n    </tr>\n    <tr>\n      <th>std_score_time</th>\n      <td>0.00053711</td>\n      <td>0.00053718</td>\n      <td>0.000300092</td>\n      <td>0.000598974</td>\n      <td>0.000488685</td>\n      <td>0.000398531</td>\n      <td>0.000398816</td>\n      <td>0.00069821</td>\n      <td>0.000661286</td>\n      <td>0.000446222</td>\n      <td>...</td>\n      <td>0.00359042</td>\n      <td>0.000445423</td>\n      <td>0.000488628</td>\n      <td>0.000772572</td>\n      <td>0.000599999</td>\n      <td>0.000598577</td>\n      <td>0.000638512</td>\n      <td>0.000537239</td>\n      <td>0.000489075</td>\n      <td>0.000746398</td>\n    </tr>\n    <tr>\n      <th>param_simpleimputer__strategy</th>\n      <td>mean</td>\n      <td>median</td>\n      <td>mean</td>\n      <td>median</td>\n      <td>mean</td>\n      <td>median</td>\n      <td>mean</td>\n      <td>median</td>\n      <td>mean</td>\n      <td>mean</td>\n      <td>...</td>\n      <td>median</td>\n      <td>median</td>\n      <td>median</td>\n      <td>mean</td>\n      <td>median</td>\n      <td>mean</td>\n      <td>median</td>\n      <td>mean</td>\n      <td>median</td>\n      <td>mean</td>\n    </tr>\n    <tr>\n      <th>param_selectkbest__k</th>\n      <td>15</td>\n      <td>15</td>\n      <td>15</td>\n      <td>15</td>\n      <td>15</td>\n      <td>15</td>\n      <td>17</td>\n      <td>17</td>\n      <td>20</td>\n      <td>18</td>\n      <td>...</td>\n      <td>2</td>\n      <td>4</td>\n      <td>4</td>\n      <td>3</td>\n      <td>3</td>\n      <td>3</td>\n      <td>1</td>\n      <td>1</td>\n      <td>1</td>\n      <td>1</td>\n    </tr>\n    <tr>\n      <th>param_ridge__alpha</th>\n      <td>10</td>\n      <td>10</td>\n      <td>1</td>\n      <td>1</td>\n      <td>0.1</td>\n      <td>0.1</td>\n      <td>10</td>\n      <td>10</td>\n      <td>10</td>\n      <td>10</td>\n      <td>...</td>\n      <td>0.1</td>\n      <td>1</td>\n      <td>0.1</td>\n      <td>1</td>\n      <td>0.1</td>\n      <td>0.1</td>\n      <td>10</td>\n      <td>1</td>\n      <td>1</td>\n      <td>0.1</td>\n    </tr>\n    <tr>\n      <th>params</th>\n      <td>{'simpleimputer__strategy': 'mean', 'selectkbe...</td>\n      <td>{'simpleimputer__strategy': 'median', 'selectk...</td>\n      <td>{'simpleimputer__strategy': 'mean', 'selectkbe...</td>\n      <td>{'simpleimputer__strategy': 'median', 'selectk...</td>\n      <td>{'simpleimputer__strategy': 'mean', 'selectkbe...</td>\n      <td>{'simpleimputer__strategy': 'median', 'selectk...</td>\n      <td>{'simpleimputer__strategy': 'mean', 'selectkbe...</td>\n      <td>{'simpleimputer__strategy': 'median', 'selectk...</td>\n      <td>{'simpleimputer__strategy': 'mean', 'selectkbe...</td>\n      <td>{'simpleimputer__strategy': 'mean', 'selectkbe...</td>\n      <td>...</td>\n      <td>{'simpleimputer__strategy': 'median', 'selectk...</td>\n      <td>{'simpleimputer__strategy': 'median', 'selectk...</td>\n      <td>{'simpleimputer__strategy': 'median', 'selectk...</td>\n      <td>{'simpleimputer__strategy': 'mean', 'selectkbe...</td>\n      <td>{'simpleimputer__strategy': 'median', 'selectk...</td>\n      <td>{'simpleimputer__strategy': 'mean', 'selectkbe...</td>\n      <td>{'simpleimputer__strategy': 'median', 'selectk...</td>\n      <td>{'simpleimputer__strategy': 'mean', 'selectkbe...</td>\n      <td>{'simpleimputer__strategy': 'median', 'selectk...</td>\n      <td>{'simpleimputer__strategy': 'mean', 'selectkbe...</td>\n    </tr>\n    <tr>\n      <th>split0_test_score</th>\n      <td>-4758.75</td>\n      <td>-4758.75</td>\n      <td>-4854.57</td>\n      <td>-4854.57</td>\n      <td>-4866.88</td>\n      <td>-4866.88</td>\n      <td>-5030.6</td>\n      <td>-5030.6</td>\n      <td>-5075.78</td>\n      <td>-5078.77</td>\n      <td>...</td>\n      <td>-6603.08</td>\n      <td>-6733.23</td>\n      <td>-6734.31</td>\n      <td>-6733.07</td>\n      <td>-6734.29</td>\n      <td>-6734.29</td>\n      <td>-9486.67</td>\n      <td>-9468.1</td>\n      <td>-9468.1</td>\n      <td>-9466.85</td>\n    </tr>\n    <tr>\n      <th>split1_test_score</th>\n      <td>-5226.46</td>\n      <td>-5226.46</td>\n      <td>-5308.55</td>\n      <td>-5308.55</td>\n      <td>-5320.58</td>\n      <td>-5320.58</td>\n      <td>-5397.43</td>\n      <td>-5397.43</td>\n      <td>-5397.99</td>\n      <td>-5388.24</td>\n      <td>...</td>\n      <td>-6720.17</td>\n      <td>-6691.84</td>\n      <td>-6696.05</td>\n      <td>-6691.8</td>\n      <td>-6696.05</td>\n      <td>-6696.05</td>\n      <td>-8866.3</td>\n      <td>-8930.84</td>\n      <td>-8930.84</td>\n      <td>-8937.65</td>\n    </tr>\n    <tr>\n      <th>split2_test_score</th>\n      <td>-5841.04</td>\n      <td>-5841.04</td>\n      <td>-5791.83</td>\n      <td>-5791.83</td>\n      <td>-5787.2</td>\n      <td>-5787.2</td>\n      <td>-5851.77</td>\n      <td>-5851.77</td>\n      <td>-5906.99</td>\n      <td>-5912.26</td>\n      <td>...</td>\n      <td>-8003.18</td>\n      <td>-8104.89</td>\n      <td>-8106.43</td>\n      <td>-8104.72</td>\n      <td>-8106.41</td>\n      <td>-8106.41</td>\n      <td>-9501.1</td>\n      <td>-9517.23</td>\n      <td>-9517.23</td>\n      <td>-9518.87</td>\n    </tr>\n    <tr>\n      <th>split3_test_score</th>\n      <td>-6301.72</td>\n      <td>-6301.72</td>\n      <td>-6261.53</td>\n      <td>-6261.53</td>\n      <td>-6257.32</td>\n      <td>-6257.32</td>\n      <td>-6109.68</td>\n      <td>-6109.68</td>\n      <td>-6082.48</td>\n      <td>-6114.42</td>\n      <td>...</td>\n      <td>-10169.2</td>\n      <td>-10174.6</td>\n      <td>-10175.7</td>\n      <td>-10174.5</td>\n      <td>-10175.7</td>\n      <td>-10175.7</td>\n      <td>-10959.6</td>\n      <td>-10937.8</td>\n      <td>-10937.8</td>\n      <td>-10935.6</td>\n    </tr>\n    <tr>\n      <th>split4_test_score</th>\n      <td>-5128.07</td>\n      <td>-5128.07</td>\n      <td>-5109.15</td>\n      <td>-5109.15</td>\n      <td>-5108.03</td>\n      <td>-5108.03</td>\n      <td>-5230.18</td>\n      <td>-5230.18</td>\n      <td>-5253.64</td>\n      <td>-5231.73</td>\n      <td>...</td>\n      <td>-7256.3</td>\n      <td>-7222.62</td>\n      <td>-7220.06</td>\n      <td>-7222.62</td>\n      <td>-7220.06</td>\n      <td>-7220.06</td>\n      <td>-7841.82</td>\n      <td>-7840.81</td>\n      <td>-7840.81</td>\n      <td>-7840.7</td>\n    </tr>\n    <tr>\n      <th>split5_test_score</th>\n      <td>-7153.08</td>\n      <td>-7153.08</td>\n      <td>-7118.29</td>\n      <td>-7118.29</td>\n      <td>-7115.66</td>\n      <td>-7115.66</td>\n      <td>-7357.38</td>\n      <td>-7357.38</td>\n      <td>-7384</td>\n      <td>-7358.91</td>\n      <td>...</td>\n      <td>-9016.65</td>\n      <td>-8960.46</td>\n      <td>-8960.21</td>\n      <td>-8960.53</td>\n      <td>-8960.22</td>\n      <td>-8960.22</td>\n      <td>-11110.2</td>\n      <td>-11067.9</td>\n      <td>-11067.9</td>\n      <td>-11063.6</td>\n    </tr>\n    <tr>\n      <th>split6_test_score</th>\n      <td>-7510.54</td>\n      <td>-7510.54</td>\n      <td>-7623.45</td>\n      <td>-7623.45</td>\n      <td>-7636.75</td>\n      <td>-7636.75</td>\n      <td>-7419.9</td>\n      <td>-7419.9</td>\n      <td>-7487.56</td>\n      <td>-7456.25</td>\n      <td>...</td>\n      <td>-10383.8</td>\n      <td>-10389</td>\n      <td>-10386.2</td>\n      <td>-10388.9</td>\n      <td>-10386.2</td>\n      <td>-10386.2</td>\n      <td>-12516.7</td>\n      <td>-12544.4</td>\n      <td>-12544.4</td>\n      <td>-12548.8</td>\n    </tr>\n    <tr>\n      <th>split7_test_score</th>\n      <td>-6745.71</td>\n      <td>-6745.71</td>\n      <td>-6772.3</td>\n      <td>-6772.3</td>\n      <td>-6775.45</td>\n      <td>-6775.45</td>\n      <td>-6721.08</td>\n      <td>-6721.08</td>\n      <td>-6710.99</td>\n      <td>-6717.16</td>\n      <td>...</td>\n      <td>-10400</td>\n      <td>-10436.7</td>\n      <td>-10444.1</td>\n      <td>-10436.7</td>\n      <td>-10444.1</td>\n      <td>-10444.1</td>\n      <td>-11564.1</td>\n      <td>-11603.4</td>\n      <td>-11603.4</td>\n      <td>-11607.4</td>\n    </tr>\n    <tr>\n      <th>split8_test_score</th>\n      <td>-6647.47</td>\n      <td>-6647.47</td>\n      <td>-6626.08</td>\n      <td>-6626.08</td>\n      <td>-6625.66</td>\n      <td>-6625.66</td>\n      <td>-6645.46</td>\n      <td>-6645.46</td>\n      <td>-6621.61</td>\n      <td>-6658.24</td>\n      <td>...</td>\n      <td>-9262.85</td>\n      <td>-9242.59</td>\n      <td>-9243.97</td>\n      <td>-9242.56</td>\n      <td>-9243.97</td>\n      <td>-9243.97</td>\n      <td>-9723.29</td>\n      <td>-9789.88</td>\n      <td>-9789.88</td>\n      <td>-9796.65</td>\n    </tr>\n    <tr>\n      <th>split9_test_score</th>\n      <td>-4994.97</td>\n      <td>-4994.97</td>\n      <td>-4985.95</td>\n      <td>-4985.95</td>\n      <td>-4985.06</td>\n      <td>-4985.06</td>\n      <td>-4722.87</td>\n      <td>-4722.87</td>\n      <td>-4697.02</td>\n      <td>-4713.89</td>\n      <td>...</td>\n      <td>-7577.42</td>\n      <td>-7456.6</td>\n      <td>-7455.08</td>\n      <td>-7517.13</td>\n      <td>-7517.03</td>\n      <td>-7517.03</td>\n      <td>-9802.88</td>\n      <td>-9823.26</td>\n      <td>-9823.26</td>\n      <td>-9825.33</td>\n    </tr>\n    <tr>\n      <th>mean_test_score</th>\n      <td>-6030.78</td>\n      <td>-6030.78</td>\n      <td>-6045.17</td>\n      <td>-6045.17</td>\n      <td>-6047.86</td>\n      <td>-6047.86</td>\n      <td>-6048.64</td>\n      <td>-6048.64</td>\n      <td>-6061.8</td>\n      <td>-6062.99</td>\n      <td>...</td>\n      <td>-8539.26</td>\n      <td>-8541.25</td>\n      <td>-8542.2</td>\n      <td>-8547.25</td>\n      <td>-8548.39</td>\n      <td>-8548.39</td>\n      <td>-10137.3</td>\n      <td>-10152.4</td>\n      <td>-10152.4</td>\n      <td>-10154.1</td>\n    </tr>\n    <tr>\n      <th>std_test_score</th>\n      <td>927.516</td>\n      <td>927.516</td>\n      <td>926.171</td>\n      <td>926.171</td>\n      <td>926.084</td>\n      <td>926.084</td>\n      <td>912.799</td>\n      <td>912.799</td>\n      <td>920.264</td>\n      <td>914.508</td>\n      <td>...</td>\n      <td>1420.88</td>\n      <td>1419.05</td>\n      <td>1419.48</td>\n      <td>1414.55</td>\n      <td>1414.85</td>\n      <td>1414.85</td>\n      <td>1315.9</td>\n      <td>1312.6</td>\n      <td>1312.6</td>\n      <td>1312.55</td>\n    </tr>\n    <tr>\n      <th>rank_test_score</th>\n      <td>1</td>\n      <td>1</td>\n      <td>3</td>\n      <td>3</td>\n      <td>5</td>\n      <td>5</td>\n      <td>7</td>\n      <td>7</td>\n      <td>9</td>\n      <td>10</td>\n      <td>...</td>\n      <td>91</td>\n      <td>92</td>\n      <td>93</td>\n      <td>94</td>\n      <td>95</td>\n      <td>95</td>\n      <td>97</td>\n      <td>98</td>\n      <td>98</td>\n      <td>100</td>\n    </tr>\n    <tr>\n      <th>split0_train_score</th>\n      <td>-6011.03</td>\n      <td>-6011.03</td>\n      <td>-6016.26</td>\n      <td>-6016.26</td>\n      <td>-6018.67</td>\n      <td>-6018.67</td>\n      <td>-6029.77</td>\n      <td>-6029.77</td>\n      <td>-6041.25</td>\n      <td>-6051.22</td>\n      <td>...</td>\n      <td>-8711.85</td>\n      <td>-8726.04</td>\n      <td>-8727.31</td>\n      <td>-8725.98</td>\n      <td>-8727.3</td>\n      <td>-8727.3</td>\n      <td>-10169.3</td>\n      <td>-10181.2</td>\n      <td>-10181.2</td>\n      <td>-10182.6</td>\n    </tr>\n    <tr>\n      <th>split1_train_score</th>\n      <td>-5974.94</td>\n      <td>-5974.94</td>\n      <td>-5973.17</td>\n      <td>-5973.17</td>\n      <td>-5973.59</td>\n      <td>-5973.59</td>\n      <td>-6002.19</td>\n      <td>-6002.19</td>\n      <td>-6005.77</td>\n      <td>-6012.52</td>\n      <td>...</td>\n      <td>-8715.91</td>\n      <td>-8724.15</td>\n      <td>-8724.72</td>\n      <td>-8724.12</td>\n      <td>-8724.72</td>\n      <td>-8724.72</td>\n      <td>-10245.5</td>\n      <td>-10255.8</td>\n      <td>-10255.8</td>\n      <td>-10257.4</td>\n    </tr>\n    <tr>\n      <th>split2_train_score</th>\n      <td>-5909.27</td>\n      <td>-5909.27</td>\n      <td>-5914.94</td>\n      <td>-5914.94</td>\n      <td>-5916.83</td>\n      <td>-5916.83</td>\n      <td>-5908.92</td>\n      <td>-5908.92</td>\n      <td>-5912.26</td>\n      <td>-5931.67</td>\n      <td>...</td>\n      <td>-8570.34</td>\n      <td>-8579.47</td>\n      <td>-8580.52</td>\n      <td>-8579.42</td>\n      <td>-8580.51</td>\n      <td>-8580.51</td>\n      <td>-10172.6</td>\n      <td>-10181.6</td>\n      <td>-10181.6</td>\n      <td>-10182.7</td>\n    </tr>\n    <tr>\n      <th>split3_train_score</th>\n      <td>-5844.23</td>\n      <td>-5844.23</td>\n      <td>-5850.17</td>\n      <td>-5850.17</td>\n      <td>-5851.9</td>\n      <td>-5851.9</td>\n      <td>-5862.35</td>\n      <td>-5862.35</td>\n      <td>-5869.7</td>\n      <td>-5873.74</td>\n      <td>...</td>\n      <td>-8318.44</td>\n      <td>-8321.68</td>\n      <td>-8322.28</td>\n      <td>-8321.66</td>\n      <td>-8322.27</td>\n      <td>-8322.27</td>\n      <td>-9997.1</td>\n      <td>-10006.3</td>\n      <td>-10006.3</td>\n      <td>-10007.6</td>\n    </tr>\n    <tr>\n      <th>split4_train_score</th>\n      <td>-5984.19</td>\n      <td>-5984.19</td>\n      <td>-5986.25</td>\n      <td>-5986.25</td>\n      <td>-5988.12</td>\n      <td>-5988.12</td>\n      <td>-6007.22</td>\n      <td>-6007.22</td>\n      <td>-5995.84</td>\n      <td>-6007.86</td>\n      <td>...</td>\n      <td>-8673.5</td>\n      <td>-8684.31</td>\n      <td>-8685.33</td>\n      <td>-8684.28</td>\n      <td>-8685.32</td>\n      <td>-8685.32</td>\n      <td>-10354.1</td>\n      <td>-10365.3</td>\n      <td>-10365.3</td>\n      <td>-10366.5</td>\n    </tr>\n    <tr>\n      <th>split5_train_score</th>\n      <td>-5924.64</td>\n      <td>-5924.64</td>\n      <td>-5916.46</td>\n      <td>-5916.46</td>\n      <td>-5916.09</td>\n      <td>-5916.09</td>\n      <td>-5699.53</td>\n      <td>-5699.53</td>\n      <td>-5694.15</td>\n      <td>-5700.01</td>\n      <td>...</td>\n      <td>-8371.52</td>\n      <td>-8385.3</td>\n      <td>-8386</td>\n      <td>-8385.27</td>\n      <td>-8385.99</td>\n      <td>-8385.99</td>\n      <td>-9951.66</td>\n      <td>-9956.89</td>\n      <td>-9956.89</td>\n      <td>-9957.58</td>\n    </tr>\n    <tr>\n      <th>split6_train_score</th>\n      <td>-5620.06</td>\n      <td>-5620.06</td>\n      <td>-5624.35</td>\n      <td>-5624.35</td>\n      <td>-5626.28</td>\n      <td>-5626.28</td>\n      <td>-5635.35</td>\n      <td>-5635.35</td>\n      <td>-5645.68</td>\n      <td>-5648.76</td>\n      <td>...</td>\n      <td>-8262.14</td>\n      <td>-8272.94</td>\n      <td>-8274.18</td>\n      <td>-8272.91</td>\n      <td>-8274.17</td>\n      <td>-8274.17</td>\n      <td>-9815.26</td>\n      <td>-9824.93</td>\n      <td>-9824.93</td>\n      <td>-9826.65</td>\n    </tr>\n    <tr>\n      <th>split7_train_score</th>\n      <td>-5796.73</td>\n      <td>-5796.73</td>\n      <td>-5816.98</td>\n      <td>-5816.98</td>\n      <td>-5819.38</td>\n      <td>-5819.38</td>\n      <td>-5779.95</td>\n      <td>-5779.95</td>\n      <td>-5781.63</td>\n      <td>-5792.4</td>\n      <td>...</td>\n      <td>-8292.2</td>\n      <td>-8299.72</td>\n      <td>-8300.21</td>\n      <td>-8299.68</td>\n      <td>-8300.21</td>\n      <td>-8300.21</td>\n      <td>-9956.14</td>\n      <td>-9964.79</td>\n      <td>-9964.79</td>\n      <td>-9966.53</td>\n    </tr>\n    <tr>\n      <th>split8_train_score</th>\n      <td>-5715.54</td>\n      <td>-5715.54</td>\n      <td>-5735.95</td>\n      <td>-5735.95</td>\n      <td>-5738.99</td>\n      <td>-5738.99</td>\n      <td>-5722.54</td>\n      <td>-5722.54</td>\n      <td>-5738.21</td>\n      <td>-5731.55</td>\n      <td>...</td>\n      <td>-8448.84</td>\n      <td>-8433.67</td>\n      <td>-8435.37</td>\n      <td>-8433.66</td>\n      <td>-8435.37</td>\n      <td>-8435.37</td>\n      <td>-10146.1</td>\n      <td>-10165.7</td>\n      <td>-10165.7</td>\n      <td>-10167.8</td>\n    </tr>\n    <tr>\n      <th>split9_train_score</th>\n      <td>-6204.8</td>\n      <td>-6204.8</td>\n      <td>-6210.43</td>\n      <td>-6210.43</td>\n      <td>-6212.05</td>\n      <td>-6212.05</td>\n      <td>-6042.52</td>\n      <td>-6042.52</td>\n      <td>-6057.73</td>\n      <td>-6056.18</td>\n      <td>...</td>\n      <td>-8600.64</td>\n      <td>-7958.95</td>\n      <td>-7960.26</td>\n      <td>-7945.89</td>\n      <td>-7947.08</td>\n      <td>-7947.08</td>\n      <td>-10154.4</td>\n      <td>-10164.7</td>\n      <td>-10164.7</td>\n      <td>-10165.9</td>\n    </tr>\n    <tr>\n      <th>mean_train_score</th>\n      <td>-5898.54</td>\n      <td>-5898.54</td>\n      <td>-5904.5</td>\n      <td>-5904.5</td>\n      <td>-5906.19</td>\n      <td>-5906.19</td>\n      <td>-5869.03</td>\n      <td>-5869.03</td>\n      <td>-5874.22</td>\n      <td>-5880.59</td>\n      <td>...</td>\n      <td>-8496.54</td>\n      <td>-8438.62</td>\n      <td>-8439.62</td>\n      <td>-8437.28</td>\n      <td>-8438.29</td>\n      <td>-8438.29</td>\n      <td>-10096.2</td>\n      <td>-10106.7</td>\n      <td>-10106.7</td>\n      <td>-10108.1</td>\n    </tr>\n    <tr>\n      <th>std_train_score</th>\n      <td>156.452</td>\n      <td>156.452</td>\n      <td>153.375</td>\n      <td>153.375</td>\n      <td>153.121</td>\n      <td>153.121</td>\n      <td>143.922</td>\n      <td>143.922</td>\n      <td>143.828</td>\n      <td>145.792</td>\n      <td>...</td>\n      <td>169.823</td>\n      <td>231.885</td>\n      <td>231.847</td>\n      <td>234.592</td>\n      <td>234.589</td>\n      <td>234.589</td>\n      <td>153.329</td>\n      <td>154.649</td>\n      <td>154.649</td>\n      <td>154.62</td>\n    </tr>\n  </tbody>\n</table>\n<p>33 rows × 100 columns</p>\n</div>"
          },
          "metadata": {},
          "execution_count": 35
        }
      ],
      "source": [
        "pd.DataFrame(search.cv_results_).sort_values(by='rank_test_score').T"
      ]
    },
    {
      "cell_type": "code",
      "execution_count": 36,
      "metadata": {},
      "outputs": [
        {
          "output_type": "stream",
          "name": "stdout",
          "text": "Test MAE: $9,039\n"
        }
      ],
      "source": [
        "pipeline = search.best_estimator_\n",
        "from sklearn.metrics import mean_absolute_error\n",
        "y_pred = pipeline.predict(X_test)\n",
        "mae = mean_absolute_error(Y_test, y_pred)\n",
        "print(f'Test MAE: ${mae:,.0f}')"
      ]
    },
    {
      "cell_type": "markdown",
      "metadata": {},
      "source": [
        "### Random Forrest Regressor\n",
        "---"
      ]
    },
    {
      "cell_type": "code",
      "execution_count": 37,
      "metadata": {},
      "outputs": [
        {
          "output_type": "stream",
          "name": "stdout",
          "text": "Fitting 10 folds for each of 100 candidates, totalling 1000 fits\n[Parallel(n_jobs=-1)]: Using backend LokyBackend with 12 concurrent workers.\n[Parallel(n_jobs=-1)]: Done   1 tasks      | elapsed:    0.9s\n[Parallel(n_jobs=-1)]: Done   8 tasks      | elapsed:    2.4s\n[Parallel(n_jobs=-1)]: Done  17 tasks      | elapsed:    2.8s\n[Parallel(n_jobs=-1)]: Done  26 tasks      | elapsed:    3.7s\n[Parallel(n_jobs=-1)]: Done  37 tasks      | elapsed:    5.4s\n[Parallel(n_jobs=-1)]: Done  48 tasks      | elapsed:    6.7s\n[Parallel(n_jobs=-1)]: Done  61 tasks      | elapsed:    8.9s\n[Parallel(n_jobs=-1)]: Done  74 tasks      | elapsed:   10.5s\n[Parallel(n_jobs=-1)]: Done  89 tasks      | elapsed:   12.1s\n[Parallel(n_jobs=-1)]: Done 104 tasks      | elapsed:   13.5s\n[Parallel(n_jobs=-1)]: Done 121 tasks      | elapsed:   14.9s\n[Parallel(n_jobs=-1)]: Done 138 tasks      | elapsed:   16.9s\n[Parallel(n_jobs=-1)]: Done 157 tasks      | elapsed:   18.7s\n[Parallel(n_jobs=-1)]: Done 176 tasks      | elapsed:   20.0s\n[Parallel(n_jobs=-1)]: Done 197 tasks      | elapsed:   22.1s\n[Parallel(n_jobs=-1)]: Done 218 tasks      | elapsed:   24.4s\n[Parallel(n_jobs=-1)]: Done 241 tasks      | elapsed:   27.9s\n[Parallel(n_jobs=-1)]: Done 264 tasks      | elapsed:   30.3s\n[Parallel(n_jobs=-1)]: Done 289 tasks      | elapsed:   32.5s\n[Parallel(n_jobs=-1)]: Done 314 tasks      | elapsed:   35.1s\n[Parallel(n_jobs=-1)]: Done 341 tasks      | elapsed:   39.0s\n[Parallel(n_jobs=-1)]: Done 368 tasks      | elapsed:   41.2s\n[Parallel(n_jobs=-1)]: Done 397 tasks      | elapsed:   44.5s\n[Parallel(n_jobs=-1)]: Done 426 tasks      | elapsed:   47.5s\n[Parallel(n_jobs=-1)]: Done 457 tasks      | elapsed:   51.6s\n[Parallel(n_jobs=-1)]: Done 488 tasks      | elapsed:   54.5s\n[Parallel(n_jobs=-1)]: Done 521 tasks      | elapsed:   58.5s\n[Parallel(n_jobs=-1)]: Done 554 tasks      | elapsed:  1.0min\n[Parallel(n_jobs=-1)]: Done 589 tasks      | elapsed:  1.1min\n[Parallel(n_jobs=-1)]: Done 624 tasks      | elapsed:  1.1min\n[Parallel(n_jobs=-1)]: Done 661 tasks      | elapsed:  1.2min\n[Parallel(n_jobs=-1)]: Done 698 tasks      | elapsed:  1.2min\n[Parallel(n_jobs=-1)]: Done 737 tasks      | elapsed:  1.3min\n[Parallel(n_jobs=-1)]: Done 776 tasks      | elapsed:  1.4min\n[Parallel(n_jobs=-1)]: Done 817 tasks      | elapsed:  1.4min\n[Parallel(n_jobs=-1)]: Done 858 tasks      | elapsed:  1.5min\n[Parallel(n_jobs=-1)]: Done 901 tasks      | elapsed:  1.6min\n[Parallel(n_jobs=-1)]: Done 944 tasks      | elapsed:  1.7min\n[Parallel(n_jobs=-1)]: Done 1000 out of 1000 | elapsed:  1.7min finished\n"
        }
      ],
      "source": [
        "from scipy.stats import randint, uniform\n",
        "from sklearn.ensemble import RandomForestRegressor\n",
        "\n",
        "features = train.columns.drop(target)\n",
        "X_train = train[features]\n",
        "y_train = train[target]\n",
        "\n",
        "pipeline = make_pipeline(\n",
        "    ce.TargetEncoder(), \n",
        "    SimpleImputer(),\n",
        "    StandardScaler(), \n",
        "    RandomForestRegressor(random_state=42)\n",
        ")\n",
        "\n",
        "param_distributions = {\n",
        "    'targetencoder__min_samples_leaf': randint(1, 1000),     \n",
        "    'simpleimputer__strategy': ['mean', 'median'], \n",
        "    'randomforestregressor__n_estimators': randint(50, 500), \n",
        "    'randomforestregressor__max_depth': [5, 10, 15, 20, None], \n",
        "    'randomforestregressor__max_features': uniform(0, 1), \n",
        "}\n",
        "\n",
        "# If you're on Colab, decrease n_iter & cv parameters\n",
        "search = RandomizedSearchCV(\n",
        "    pipeline, \n",
        "    param_distributions=param_distributions, \n",
        "    n_iter=100, \n",
        "    cv=10, \n",
        "    scoring='neg_mean_absolute_error', \n",
        "    verbose=10, \n",
        "    return_train_score=True, \n",
        "    n_jobs=-1\n",
        ")\n",
        "\n",
        "search.fit(X_train, y_train);"
      ]
    },
    {
      "cell_type": "code",
      "execution_count": 38,
      "metadata": {},
      "outputs": [
        {
          "output_type": "stream",
          "name": "stdout",
          "text": "Best hyperparameters {'randomforestregressor__max_depth': 15, 'randomforestregressor__max_features': 0.969730777741145, 'randomforestregressor__n_estimators': 342, 'simpleimputer__strategy': 'mean', 'targetencoder__min_samples_leaf': 6}\nCross-validation MAE 5122.505617594907\n"
        }
      ],
      "source": [
        "print('Best hyperparameters', search.best_params_)\n",
        "print('Cross-validation MAE', -search.best_score_)"
      ]
    },
    {
      "cell_type": "code",
      "execution_count": 39,
      "metadata": {},
      "outputs": [
        {
          "output_type": "execute_result",
          "data": {
            "text/plain": "    mean_fit_time  std_fit_time  mean_score_time  std_score_time  \\\n38       1.480300      0.217216         0.076946        0.022173   \n6        2.458197      0.330559         0.102400        0.050263   \n74       1.895312      0.215764         0.078789        0.013459   \n56       0.761447      0.068748         0.049055        0.011495   \n63       0.735158      0.151138         0.054712        0.020411   \n..            ...           ...              ...             ...   \n21       1.233616      0.223540         0.070691        0.023740   \n64       0.786347      0.087692         0.050796        0.011478   \n25       0.395761      0.069589         0.033891        0.013942   \n39       1.015706      0.111283         0.057703        0.012594   \n1        0.690062      0.248572         0.048146        0.031158   \n\n   param_randomforestregressor__max_depth  \\\n38                                     15   \n6                                      20   \n74                                   None   \n56                                   None   \n63                                     20   \n..                                    ...   \n21                                     15   \n64                                     20   \n25                                     15   \n39                                   None   \n1                                    None   \n\n   param_randomforestregressor__max_features  \\\n38                                  0.969731   \n6                                   0.765178   \n74                                  0.995814   \n56                                  0.849838   \n63                                  0.511645   \n..                                       ...   \n21                                  0.165256   \n64                                  0.312589   \n25                                  0.371049   \n39                                  0.216928   \n1                                   0.250409   \n\n   param_randomforestregressor__n_estimators param_simpleimputer__strategy  \\\n38                                       342                          mean   \n6                                        490                          mean   \n74                                       447                          mean   \n56                                       150                          mean   \n63                                       147                          mean   \n..                                       ...                           ...   \n21                                       249                          mean   \n64                                       178                        median   \n25                                        57                        median   \n39                                       246                        median   \n1                                        110                        median   \n\n   param_targetencoder__min_samples_leaf  \\\n38                                     6   \n6                                     17   \n74                                    37   \n56                                    42   \n63                                    42   \n..                                   ...   \n21                                   245   \n64                                   334   \n25                                   418   \n39                                   416   \n1                                    266   \n\n                                               params  ...  \\\n38  {'randomforestregressor__max_depth': 15, 'rand...  ...   \n6   {'randomforestregressor__max_depth': 20, 'rand...  ...   \n74  {'randomforestregressor__max_depth': None, 'ra...  ...   \n56  {'randomforestregressor__max_depth': None, 'ra...  ...   \n63  {'randomforestregressor__max_depth': 20, 'rand...  ...   \n..                                                ...  ...   \n21  {'randomforestregressor__max_depth': 15, 'rand...  ...   \n64  {'randomforestregressor__max_depth': 20, 'rand...  ...   \n25  {'randomforestregressor__max_depth': 15, 'rand...  ...   \n39  {'randomforestregressor__max_depth': None, 'ra...  ...   \n1   {'randomforestregressor__max_depth': None, 'ra...  ...   \n\n    split2_train_score  split3_train_score  split4_train_score  \\\n38        -1951.413974        -1901.336178        -1905.437645   \n6         -1998.624115        -1955.187830        -1917.242829   \n74        -2133.248253        -2116.714832        -2101.863761   \n56        -2105.798593        -2130.193551        -2094.089720   \n63        -2121.874599        -2134.484288        -2060.219464   \n..                 ...                 ...                 ...   \n21        -3222.031336        -3073.206632        -3170.042403   \n64        -3160.437470        -3017.616769        -3086.584482   \n25        -3246.377335        -3078.258535        -3161.251730   \n39        -3151.561366        -3036.134007        -3098.195638   \n1         -3197.485717        -3056.542258        -3124.895026   \n\n    split5_train_score  split6_train_score  split7_train_score  \\\n38        -1825.048222        -1829.027030        -1864.756044   \n6         -1917.381990        -1832.013906        -1878.554634   \n74        -2046.688593        -2010.402005        -2053.732737   \n56        -2072.656501        -2038.771103        -2082.632990   \n63        -2038.524568        -2023.319581        -2060.741473   \n..                 ...                 ...                 ...   \n21        -3067.002575        -3021.335022        -2856.877515   \n64        -2976.994983        -2949.365049        -2974.249171   \n25        -3066.366893        -3039.286546        -3034.975363   \n39        -2984.870316        -2964.784197        -2965.548976   \n1         -3007.366365        -3015.989615        -3021.206487   \n\n    split8_train_score  split9_train_score  mean_train_score  std_train_score  \n38        -1729.831602        -1946.749141      -1885.132576        70.113459  \n6         -1750.723267        -1960.178721      -1912.384121        70.310384  \n74        -1898.495212        -2046.716301      -2070.033637        73.102505  \n56        -1900.746701        -2054.945616      -2079.743789        71.045784  \n63        -1901.123451        -2076.147051      -2069.037972        69.137567  \n..                 ...                 ...               ...              ...  \n21        -2880.843445        -3014.158794      -3065.150333       122.909107  \n64        -2809.037487        -3082.247775      -3025.334266       100.244071  \n25        -2866.006047        -3155.218245      -3096.274866       102.801567  \n39        -2817.578210        -3076.034977      -3028.359592        96.511682  \n1         -2834.736831        -3099.450498      -3056.680894        97.061988  \n\n[100 rows x 35 columns]",
            "text/html": "<div>\n<style scoped>\n    .dataframe tbody tr th:only-of-type {\n        vertical-align: middle;\n    }\n\n    .dataframe tbody tr th {\n        vertical-align: top;\n    }\n\n    .dataframe thead th {\n        text-align: right;\n    }\n</style>\n<table border=\"1\" class=\"dataframe\">\n  <thead>\n    <tr style=\"text-align: right;\">\n      <th></th>\n      <th>mean_fit_time</th>\n      <th>std_fit_time</th>\n      <th>mean_score_time</th>\n      <th>std_score_time</th>\n      <th>param_randomforestregressor__max_depth</th>\n      <th>param_randomforestregressor__max_features</th>\n      <th>param_randomforestregressor__n_estimators</th>\n      <th>param_simpleimputer__strategy</th>\n      <th>param_targetencoder__min_samples_leaf</th>\n      <th>params</th>\n      <th>...</th>\n      <th>split2_train_score</th>\n      <th>split3_train_score</th>\n      <th>split4_train_score</th>\n      <th>split5_train_score</th>\n      <th>split6_train_score</th>\n      <th>split7_train_score</th>\n      <th>split8_train_score</th>\n      <th>split9_train_score</th>\n      <th>mean_train_score</th>\n      <th>std_train_score</th>\n    </tr>\n  </thead>\n  <tbody>\n    <tr>\n      <th>38</th>\n      <td>1.480300</td>\n      <td>0.217216</td>\n      <td>0.076946</td>\n      <td>0.022173</td>\n      <td>15</td>\n      <td>0.969731</td>\n      <td>342</td>\n      <td>mean</td>\n      <td>6</td>\n      <td>{'randomforestregressor__max_depth': 15, 'rand...</td>\n      <td>...</td>\n      <td>-1951.413974</td>\n      <td>-1901.336178</td>\n      <td>-1905.437645</td>\n      <td>-1825.048222</td>\n      <td>-1829.027030</td>\n      <td>-1864.756044</td>\n      <td>-1729.831602</td>\n      <td>-1946.749141</td>\n      <td>-1885.132576</td>\n      <td>70.113459</td>\n    </tr>\n    <tr>\n      <th>6</th>\n      <td>2.458197</td>\n      <td>0.330559</td>\n      <td>0.102400</td>\n      <td>0.050263</td>\n      <td>20</td>\n      <td>0.765178</td>\n      <td>490</td>\n      <td>mean</td>\n      <td>17</td>\n      <td>{'randomforestregressor__max_depth': 20, 'rand...</td>\n      <td>...</td>\n      <td>-1998.624115</td>\n      <td>-1955.187830</td>\n      <td>-1917.242829</td>\n      <td>-1917.381990</td>\n      <td>-1832.013906</td>\n      <td>-1878.554634</td>\n      <td>-1750.723267</td>\n      <td>-1960.178721</td>\n      <td>-1912.384121</td>\n      <td>70.310384</td>\n    </tr>\n    <tr>\n      <th>74</th>\n      <td>1.895312</td>\n      <td>0.215764</td>\n      <td>0.078789</td>\n      <td>0.013459</td>\n      <td>None</td>\n      <td>0.995814</td>\n      <td>447</td>\n      <td>mean</td>\n      <td>37</td>\n      <td>{'randomforestregressor__max_depth': None, 'ra...</td>\n      <td>...</td>\n      <td>-2133.248253</td>\n      <td>-2116.714832</td>\n      <td>-2101.863761</td>\n      <td>-2046.688593</td>\n      <td>-2010.402005</td>\n      <td>-2053.732737</td>\n      <td>-1898.495212</td>\n      <td>-2046.716301</td>\n      <td>-2070.033637</td>\n      <td>73.102505</td>\n    </tr>\n    <tr>\n      <th>56</th>\n      <td>0.761447</td>\n      <td>0.068748</td>\n      <td>0.049055</td>\n      <td>0.011495</td>\n      <td>None</td>\n      <td>0.849838</td>\n      <td>150</td>\n      <td>mean</td>\n      <td>42</td>\n      <td>{'randomforestregressor__max_depth': None, 'ra...</td>\n      <td>...</td>\n      <td>-2105.798593</td>\n      <td>-2130.193551</td>\n      <td>-2094.089720</td>\n      <td>-2072.656501</td>\n      <td>-2038.771103</td>\n      <td>-2082.632990</td>\n      <td>-1900.746701</td>\n      <td>-2054.945616</td>\n      <td>-2079.743789</td>\n      <td>71.045784</td>\n    </tr>\n    <tr>\n      <th>63</th>\n      <td>0.735158</td>\n      <td>0.151138</td>\n      <td>0.054712</td>\n      <td>0.020411</td>\n      <td>20</td>\n      <td>0.511645</td>\n      <td>147</td>\n      <td>mean</td>\n      <td>42</td>\n      <td>{'randomforestregressor__max_depth': 20, 'rand...</td>\n      <td>...</td>\n      <td>-2121.874599</td>\n      <td>-2134.484288</td>\n      <td>-2060.219464</td>\n      <td>-2038.524568</td>\n      <td>-2023.319581</td>\n      <td>-2060.741473</td>\n      <td>-1901.123451</td>\n      <td>-2076.147051</td>\n      <td>-2069.037972</td>\n      <td>69.137567</td>\n    </tr>\n    <tr>\n      <th>...</th>\n      <td>...</td>\n      <td>...</td>\n      <td>...</td>\n      <td>...</td>\n      <td>...</td>\n      <td>...</td>\n      <td>...</td>\n      <td>...</td>\n      <td>...</td>\n      <td>...</td>\n      <td>...</td>\n      <td>...</td>\n      <td>...</td>\n      <td>...</td>\n      <td>...</td>\n      <td>...</td>\n      <td>...</td>\n      <td>...</td>\n      <td>...</td>\n      <td>...</td>\n      <td>...</td>\n    </tr>\n    <tr>\n      <th>21</th>\n      <td>1.233616</td>\n      <td>0.223540</td>\n      <td>0.070691</td>\n      <td>0.023740</td>\n      <td>15</td>\n      <td>0.165256</td>\n      <td>249</td>\n      <td>mean</td>\n      <td>245</td>\n      <td>{'randomforestregressor__max_depth': 15, 'rand...</td>\n      <td>...</td>\n      <td>-3222.031336</td>\n      <td>-3073.206632</td>\n      <td>-3170.042403</td>\n      <td>-3067.002575</td>\n      <td>-3021.335022</td>\n      <td>-2856.877515</td>\n      <td>-2880.843445</td>\n      <td>-3014.158794</td>\n      <td>-3065.150333</td>\n      <td>122.909107</td>\n    </tr>\n    <tr>\n      <th>64</th>\n      <td>0.786347</td>\n      <td>0.087692</td>\n      <td>0.050796</td>\n      <td>0.011478</td>\n      <td>20</td>\n      <td>0.312589</td>\n      <td>178</td>\n      <td>median</td>\n      <td>334</td>\n      <td>{'randomforestregressor__max_depth': 20, 'rand...</td>\n      <td>...</td>\n      <td>-3160.437470</td>\n      <td>-3017.616769</td>\n      <td>-3086.584482</td>\n      <td>-2976.994983</td>\n      <td>-2949.365049</td>\n      <td>-2974.249171</td>\n      <td>-2809.037487</td>\n      <td>-3082.247775</td>\n      <td>-3025.334266</td>\n      <td>100.244071</td>\n    </tr>\n    <tr>\n      <th>25</th>\n      <td>0.395761</td>\n      <td>0.069589</td>\n      <td>0.033891</td>\n      <td>0.013942</td>\n      <td>15</td>\n      <td>0.371049</td>\n      <td>57</td>\n      <td>median</td>\n      <td>418</td>\n      <td>{'randomforestregressor__max_depth': 15, 'rand...</td>\n      <td>...</td>\n      <td>-3246.377335</td>\n      <td>-3078.258535</td>\n      <td>-3161.251730</td>\n      <td>-3066.366893</td>\n      <td>-3039.286546</td>\n      <td>-3034.975363</td>\n      <td>-2866.006047</td>\n      <td>-3155.218245</td>\n      <td>-3096.274866</td>\n      <td>102.801567</td>\n    </tr>\n    <tr>\n      <th>39</th>\n      <td>1.015706</td>\n      <td>0.111283</td>\n      <td>0.057703</td>\n      <td>0.012594</td>\n      <td>None</td>\n      <td>0.216928</td>\n      <td>246</td>\n      <td>median</td>\n      <td>416</td>\n      <td>{'randomforestregressor__max_depth': None, 'ra...</td>\n      <td>...</td>\n      <td>-3151.561366</td>\n      <td>-3036.134007</td>\n      <td>-3098.195638</td>\n      <td>-2984.870316</td>\n      <td>-2964.784197</td>\n      <td>-2965.548976</td>\n      <td>-2817.578210</td>\n      <td>-3076.034977</td>\n      <td>-3028.359592</td>\n      <td>96.511682</td>\n    </tr>\n    <tr>\n      <th>1</th>\n      <td>0.690062</td>\n      <td>0.248572</td>\n      <td>0.048146</td>\n      <td>0.031158</td>\n      <td>None</td>\n      <td>0.250409</td>\n      <td>110</td>\n      <td>median</td>\n      <td>266</td>\n      <td>{'randomforestregressor__max_depth': None, 'ra...</td>\n      <td>...</td>\n      <td>-3197.485717</td>\n      <td>-3056.542258</td>\n      <td>-3124.895026</td>\n      <td>-3007.366365</td>\n      <td>-3015.989615</td>\n      <td>-3021.206487</td>\n      <td>-2834.736831</td>\n      <td>-3099.450498</td>\n      <td>-3056.680894</td>\n      <td>97.061988</td>\n    </tr>\n  </tbody>\n</table>\n<p>100 rows × 35 columns</p>\n</div>"
          },
          "metadata": {},
          "execution_count": 39
        }
      ],
      "source": [
        "pd.DataFrame(search.cv_results_).sort_values(by='rank_test_score')"
      ]
    },
    {
      "cell_type": "code",
      "execution_count": 40,
      "metadata": {},
      "outputs": [],
      "source": [
        "pipeline = search.best_estimator_"
      ]
    },
    {
      "cell_type": "code",
      "execution_count": 41,
      "metadata": {},
      "outputs": [
        {
          "output_type": "stream",
          "name": "stdout",
          "text": "Test MAE: $5,652\n"
        }
      ],
      "source": [
        "X_test = test[features]\n",
        "y_test = test[target]\n",
        "\n",
        "y_pred = pipeline.predict(X_test)\n",
        "mae = mean_absolute_error(y_test, y_pred)\n",
        "print(f'Test MAE: ${mae:,.0f}')"
      ]
    },
    {
      "cell_type": "code",
      "execution_count": 42,
      "metadata": {},
      "outputs": [
        {
          "output_type": "execute_result",
          "data": {
            "text/plain": "     condition  milage  Year    Brand  Model Model_Vers  S_RS  Cabriolet  \\\n830       Used   36843  2015  Porsche    911    Carrera     S    Hardtop   \n244       Used   22789  2017  Porsche    911    Carrera    4S    Hardtop   \n226        CPO   13220  2017  Porsche    911    Carrera    4S    Hardtop   \n1020      Used   21136  2013  Porsche    911    Carrera     S    Hardtop   \n606       Used   35103  2018  Porsche    911    Carrera  Base    Hardtop   \n...        ...     ...   ...      ...    ...        ...   ...        ...   \n1098      Used    5517  2019  Porsche    911    Carrera     T    Hardtop   \n1408      Used   17000  2008  Porsche    911    Carrera     S  Cabriolet   \n936       Used   26775  2013  Porsche    911    Carrera     S    Hardtop   \n1261      Used   22463  2013  Porsche    911    Carrera  Base    Hardtop   \n532       Used   28822  2014  Porsche    911    Carrera    4S    Hardtop   \n\n            Color Transmission  \n830         White    Automatic  \n244         Black    Automatic  \n226         Black    Automatic  \n1020        White    Automatic  \n606         Other    Automatic  \n...           ...          ...  \n1098          Red    Automatic  \n1408        Other       Manual  \n936         White    Automatic  \n1261  Gray/Silver       Manual  \n532         Other    Automatic  \n\n[162 rows x 10 columns]",
            "text/html": "<div>\n<style scoped>\n    .dataframe tbody tr th:only-of-type {\n        vertical-align: middle;\n    }\n\n    .dataframe tbody tr th {\n        vertical-align: top;\n    }\n\n    .dataframe thead th {\n        text-align: right;\n    }\n</style>\n<table border=\"1\" class=\"dataframe\">\n  <thead>\n    <tr style=\"text-align: right;\">\n      <th></th>\n      <th>condition</th>\n      <th>milage</th>\n      <th>Year</th>\n      <th>Brand</th>\n      <th>Model</th>\n      <th>Model_Vers</th>\n      <th>S_RS</th>\n      <th>Cabriolet</th>\n      <th>Color</th>\n      <th>Transmission</th>\n    </tr>\n  </thead>\n  <tbody>\n    <tr>\n      <th>830</th>\n      <td>Used</td>\n      <td>36843</td>\n      <td>2015</td>\n      <td>Porsche</td>\n      <td>911</td>\n      <td>Carrera</td>\n      <td>S</td>\n      <td>Hardtop</td>\n      <td>White</td>\n      <td>Automatic</td>\n    </tr>\n    <tr>\n      <th>244</th>\n      <td>Used</td>\n      <td>22789</td>\n      <td>2017</td>\n      <td>Porsche</td>\n      <td>911</td>\n      <td>Carrera</td>\n      <td>4S</td>\n      <td>Hardtop</td>\n      <td>Black</td>\n      <td>Automatic</td>\n    </tr>\n    <tr>\n      <th>226</th>\n      <td>CPO</td>\n      <td>13220</td>\n      <td>2017</td>\n      <td>Porsche</td>\n      <td>911</td>\n      <td>Carrera</td>\n      <td>4S</td>\n      <td>Hardtop</td>\n      <td>Black</td>\n      <td>Automatic</td>\n    </tr>\n    <tr>\n      <th>1020</th>\n      <td>Used</td>\n      <td>21136</td>\n      <td>2013</td>\n      <td>Porsche</td>\n      <td>911</td>\n      <td>Carrera</td>\n      <td>S</td>\n      <td>Hardtop</td>\n      <td>White</td>\n      <td>Automatic</td>\n    </tr>\n    <tr>\n      <th>606</th>\n      <td>Used</td>\n      <td>35103</td>\n      <td>2018</td>\n      <td>Porsche</td>\n      <td>911</td>\n      <td>Carrera</td>\n      <td>Base</td>\n      <td>Hardtop</td>\n      <td>Other</td>\n      <td>Automatic</td>\n    </tr>\n    <tr>\n      <th>...</th>\n      <td>...</td>\n      <td>...</td>\n      <td>...</td>\n      <td>...</td>\n      <td>...</td>\n      <td>...</td>\n      <td>...</td>\n      <td>...</td>\n      <td>...</td>\n      <td>...</td>\n    </tr>\n    <tr>\n      <th>1098</th>\n      <td>Used</td>\n      <td>5517</td>\n      <td>2019</td>\n      <td>Porsche</td>\n      <td>911</td>\n      <td>Carrera</td>\n      <td>T</td>\n      <td>Hardtop</td>\n      <td>Red</td>\n      <td>Automatic</td>\n    </tr>\n    <tr>\n      <th>1408</th>\n      <td>Used</td>\n      <td>17000</td>\n      <td>2008</td>\n      <td>Porsche</td>\n      <td>911</td>\n      <td>Carrera</td>\n      <td>S</td>\n      <td>Cabriolet</td>\n      <td>Other</td>\n      <td>Manual</td>\n    </tr>\n    <tr>\n      <th>936</th>\n      <td>Used</td>\n      <td>26775</td>\n      <td>2013</td>\n      <td>Porsche</td>\n      <td>911</td>\n      <td>Carrera</td>\n      <td>S</td>\n      <td>Hardtop</td>\n      <td>White</td>\n      <td>Automatic</td>\n    </tr>\n    <tr>\n      <th>1261</th>\n      <td>Used</td>\n      <td>22463</td>\n      <td>2013</td>\n      <td>Porsche</td>\n      <td>911</td>\n      <td>Carrera</td>\n      <td>Base</td>\n      <td>Hardtop</td>\n      <td>Gray/Silver</td>\n      <td>Manual</td>\n    </tr>\n    <tr>\n      <th>532</th>\n      <td>Used</td>\n      <td>28822</td>\n      <td>2014</td>\n      <td>Porsche</td>\n      <td>911</td>\n      <td>Carrera</td>\n      <td>4S</td>\n      <td>Hardtop</td>\n      <td>Other</td>\n      <td>Automatic</td>\n    </tr>\n  </tbody>\n</table>\n<p>162 rows × 10 columns</p>\n</div>"
          },
          "metadata": {},
          "execution_count": 42
        }
      ],
      "source": [
        "X_test"
      ]
    },
    {
      "cell_type": "code",
      "execution_count": 43,
      "metadata": {},
      "outputs": [
        {
          "output_type": "execute_result",
          "data": {
            "text/plain": "condition            Used\nmilage              19020\nYear                 2015\nBrand             Porsche\nModel                 911\nModel_Vers        Carrera\nS_RS                 Base\nCabriolet         Hardtop\nColor               Black\nTransmission    Automatic\nName: 1, dtype: object"
          },
          "metadata": {},
          "execution_count": 43
        }
      ],
      "source": [
        "Model_test = X_test.loc[1,].copy()\n",
        "Model_test"
      ]
    },
    {
      "cell_type": "code",
      "execution_count": 44,
      "metadata": {},
      "outputs": [],
      "source": [
        "Model_test.condition = 'Used'\n",
        "Model_test.milage = 60000\n",
        "Model_test.Year = 2013\n",
        "Model_test.Brand = 'Porsche'\n",
        "Model_test.Model = 911\n",
        "Model_test.Model_Vers = 'Carrera'\n",
        "Model_test.S_RS = 'S'\n",
        "Model_test.Cabriolet = 'Cabriolet'\n",
        "Model_test.Color = 'Black'\n",
        "Model_test.Transmission = 'Automatic'"
      ]
    },
    {
      "cell_type": "code",
      "execution_count": 45,
      "metadata": {},
      "outputs": [
        {
          "output_type": "execute_result",
          "data": {
            "text/plain": "condition            Used\nmilage              60000\nYear                 2013\nBrand             Porsche\nModel                 911\nModel_Vers        Carrera\nS_RS                    S\nCabriolet       Cabriolet\nColor               Black\nTransmission    Automatic\nName: 1, dtype: object"
          },
          "metadata": {},
          "execution_count": 45
        }
      ],
      "source": [
        "Model_test"
      ]
    },
    {
      "cell_type": "code",
      "execution_count": 54,
      "metadata": {},
      "outputs": [],
      "source": [
        "Model_test.to_csv('Test_Car.csv')"
      ]
    },
    {
      "cell_type": "code",
      "execution_count": 46,
      "metadata": {},
      "outputs": [],
      "source": [
        "price = pipeline.predict([Model_test])\n"
      ]
    },
    {
      "cell_type": "code",
      "execution_count": 52,
      "metadata": {},
      "outputs": [
        {
          "output_type": "stream",
          "name": "stdout",
          "text": "High price for your 911 is:$ 61279.0\nFair price for your 911 is:$ 58361.0\nLow price for your 911 is:$ 55443.0\n"
        }
      ],
      "source": [
        "print(\"High price for your 911 is:$\",round(price[0]+(price[0]*.05),0))\n",
        "print(\"Fair price for your 911 is:$\",round(price[0],0))\n",
        "print(\"Low price for your 911 is:$\",round(price[0]-(price[0]*.05),0))"
      ]
    },
    {
      "cell_type": "code",
      "execution_count": 48,
      "metadata": {},
      "outputs": [
        {
          "output_type": "error",
          "ename": "NameError",
          "evalue": "name 'price_dict' is not defined",
          "traceback": [
            "\u001b[1;31m---------------------------------------------------------------------------\u001b[0m",
            "\u001b[1;31mNameError\u001b[0m                                 Traceback (most recent call last)",
            "\u001b[1;32m<ipython-input-48-07c9e7ebbdd2>\u001b[0m in \u001b[0;36m<module>\u001b[1;34m\u001b[0m\n\u001b[1;32m----> 1\u001b[1;33m \u001b[0mprice_dict\u001b[0m\u001b[1;33m\u001b[0m\u001b[1;33m\u001b[0m\u001b[0m\n\u001b[0m",
            "\u001b[1;31mNameError\u001b[0m: name 'price_dict' is not defined"
          ]
        }
      ],
      "source": [
        "price_dict"
      ]
    },
    {
      "cell_type": "code",
      "execution_count": 51,
      "metadata": {},
      "outputs": [
        {
          "output_type": "execute_result",
          "data": {
            "text/plain": "Black          218\nWhite          117\nGray/Silver    101\nOther           93\nBlue            64\nRed             55\nName: Color, dtype: int64"
          },
          "metadata": {},
          "execution_count": 51
        }
      ],
      "source": [
        "train.Color.value_counts()"
      ]
    },
    {
      "cell_type": "code",
      "execution_count": 53,
      "metadata": {},
      "outputs": [
        {
          "output_type": "execute_result",
          "data": {
            "text/plain": "['911_Price.sav']"
          },
          "metadata": {},
          "execution_count": 53
        }
      ],
      "source": [
        "import joblib\n",
        "filename = '911_Price.sav'\n",
        "joblib.dump(pipeline, filename)\n",
        " "
      ]
    },
    {
      "cell_type": "code",
      "execution_count": 55,
      "metadata": {},
      "outputs": [
        {
          "output_type": "error",
          "ename": "FileNotFoundError",
          "evalue": "[Errno 2] File Unit-2-Build\\Test_Car.csv does not exist: 'Unit-2-Build\\\\Test_Car.csv'",
          "traceback": [
            "\u001b[1;31m---------------------------------------------------------------------------\u001b[0m",
            "\u001b[1;31mFileNotFoundError\u001b[0m                         Traceback (most recent call last)",
            "\u001b[1;32m<ipython-input-55-22fdcb076d80>\u001b[0m in \u001b[0;36m<module>\u001b[1;34m\u001b[0m\n\u001b[1;32m----> 1\u001b[1;33m \u001b[0mtest_model_data\u001b[0m \u001b[1;33m=\u001b[0m \u001b[0mpd\u001b[0m\u001b[1;33m.\u001b[0m\u001b[0mread_csv\u001b[0m\u001b[1;33m(\u001b[0m\u001b[1;34m'Unit-2-Build\\Test_Car.csv'\u001b[0m\u001b[1;33m,\u001b[0m\u001b[0mindex_col\u001b[0m\u001b[1;33m=\u001b[0m\u001b[1;33m[\u001b[0m\u001b[1;36m0\u001b[0m\u001b[1;33m]\u001b[0m\u001b[1;33m)\u001b[0m\u001b[1;33m\u001b[0m\u001b[1;33m\u001b[0m\u001b[0m\n\u001b[0m",
            "\u001b[1;32m~\\anaconda3\\lib\\site-packages\\pandas\\io\\parsers.py\u001b[0m in \u001b[0;36mparser_f\u001b[1;34m(filepath_or_buffer, sep, delimiter, header, names, index_col, usecols, squeeze, prefix, mangle_dupe_cols, dtype, engine, converters, true_values, false_values, skipinitialspace, skiprows, skipfooter, nrows, na_values, keep_default_na, na_filter, verbose, skip_blank_lines, parse_dates, infer_datetime_format, keep_date_col, date_parser, dayfirst, cache_dates, iterator, chunksize, compression, thousands, decimal, lineterminator, quotechar, quoting, doublequote, escapechar, comment, encoding, dialect, error_bad_lines, warn_bad_lines, delim_whitespace, low_memory, memory_map, float_precision)\u001b[0m\n\u001b[0;32m    674\u001b[0m         )\n\u001b[0;32m    675\u001b[0m \u001b[1;33m\u001b[0m\u001b[0m\n\u001b[1;32m--> 676\u001b[1;33m         \u001b[1;32mreturn\u001b[0m \u001b[0m_read\u001b[0m\u001b[1;33m(\u001b[0m\u001b[0mfilepath_or_buffer\u001b[0m\u001b[1;33m,\u001b[0m \u001b[0mkwds\u001b[0m\u001b[1;33m)\u001b[0m\u001b[1;33m\u001b[0m\u001b[1;33m\u001b[0m\u001b[0m\n\u001b[0m\u001b[0;32m    677\u001b[0m \u001b[1;33m\u001b[0m\u001b[0m\n\u001b[0;32m    678\u001b[0m     \u001b[0mparser_f\u001b[0m\u001b[1;33m.\u001b[0m\u001b[0m__name__\u001b[0m \u001b[1;33m=\u001b[0m \u001b[0mname\u001b[0m\u001b[1;33m\u001b[0m\u001b[1;33m\u001b[0m\u001b[0m\n",
            "\u001b[1;32m~\\anaconda3\\lib\\site-packages\\pandas\\io\\parsers.py\u001b[0m in \u001b[0;36m_read\u001b[1;34m(filepath_or_buffer, kwds)\u001b[0m\n\u001b[0;32m    446\u001b[0m \u001b[1;33m\u001b[0m\u001b[0m\n\u001b[0;32m    447\u001b[0m     \u001b[1;31m# Create the parser.\u001b[0m\u001b[1;33m\u001b[0m\u001b[1;33m\u001b[0m\u001b[1;33m\u001b[0m\u001b[0m\n\u001b[1;32m--> 448\u001b[1;33m     \u001b[0mparser\u001b[0m \u001b[1;33m=\u001b[0m \u001b[0mTextFileReader\u001b[0m\u001b[1;33m(\u001b[0m\u001b[0mfp_or_buf\u001b[0m\u001b[1;33m,\u001b[0m \u001b[1;33m**\u001b[0m\u001b[0mkwds\u001b[0m\u001b[1;33m)\u001b[0m\u001b[1;33m\u001b[0m\u001b[1;33m\u001b[0m\u001b[0m\n\u001b[0m\u001b[0;32m    449\u001b[0m \u001b[1;33m\u001b[0m\u001b[0m\n\u001b[0;32m    450\u001b[0m     \u001b[1;32mif\u001b[0m \u001b[0mchunksize\u001b[0m \u001b[1;32mor\u001b[0m \u001b[0miterator\u001b[0m\u001b[1;33m:\u001b[0m\u001b[1;33m\u001b[0m\u001b[1;33m\u001b[0m\u001b[0m\n",
            "\u001b[1;32m~\\anaconda3\\lib\\site-packages\\pandas\\io\\parsers.py\u001b[0m in \u001b[0;36m__init__\u001b[1;34m(self, f, engine, **kwds)\u001b[0m\n\u001b[0;32m    878\u001b[0m             \u001b[0mself\u001b[0m\u001b[1;33m.\u001b[0m\u001b[0moptions\u001b[0m\u001b[1;33m[\u001b[0m\u001b[1;34m\"has_index_names\"\u001b[0m\u001b[1;33m]\u001b[0m \u001b[1;33m=\u001b[0m \u001b[0mkwds\u001b[0m\u001b[1;33m[\u001b[0m\u001b[1;34m\"has_index_names\"\u001b[0m\u001b[1;33m]\u001b[0m\u001b[1;33m\u001b[0m\u001b[1;33m\u001b[0m\u001b[0m\n\u001b[0;32m    879\u001b[0m \u001b[1;33m\u001b[0m\u001b[0m\n\u001b[1;32m--> 880\u001b[1;33m         \u001b[0mself\u001b[0m\u001b[1;33m.\u001b[0m\u001b[0m_make_engine\u001b[0m\u001b[1;33m(\u001b[0m\u001b[0mself\u001b[0m\u001b[1;33m.\u001b[0m\u001b[0mengine\u001b[0m\u001b[1;33m)\u001b[0m\u001b[1;33m\u001b[0m\u001b[1;33m\u001b[0m\u001b[0m\n\u001b[0m\u001b[0;32m    881\u001b[0m \u001b[1;33m\u001b[0m\u001b[0m\n\u001b[0;32m    882\u001b[0m     \u001b[1;32mdef\u001b[0m \u001b[0mclose\u001b[0m\u001b[1;33m(\u001b[0m\u001b[0mself\u001b[0m\u001b[1;33m)\u001b[0m\u001b[1;33m:\u001b[0m\u001b[1;33m\u001b[0m\u001b[1;33m\u001b[0m\u001b[0m\n",
            "\u001b[1;32m~\\anaconda3\\lib\\site-packages\\pandas\\io\\parsers.py\u001b[0m in \u001b[0;36m_make_engine\u001b[1;34m(self, engine)\u001b[0m\n\u001b[0;32m   1112\u001b[0m     \u001b[1;32mdef\u001b[0m \u001b[0m_make_engine\u001b[0m\u001b[1;33m(\u001b[0m\u001b[0mself\u001b[0m\u001b[1;33m,\u001b[0m \u001b[0mengine\u001b[0m\u001b[1;33m=\u001b[0m\u001b[1;34m\"c\"\u001b[0m\u001b[1;33m)\u001b[0m\u001b[1;33m:\u001b[0m\u001b[1;33m\u001b[0m\u001b[1;33m\u001b[0m\u001b[0m\n\u001b[0;32m   1113\u001b[0m         \u001b[1;32mif\u001b[0m \u001b[0mengine\u001b[0m \u001b[1;33m==\u001b[0m \u001b[1;34m\"c\"\u001b[0m\u001b[1;33m:\u001b[0m\u001b[1;33m\u001b[0m\u001b[1;33m\u001b[0m\u001b[0m\n\u001b[1;32m-> 1114\u001b[1;33m             \u001b[0mself\u001b[0m\u001b[1;33m.\u001b[0m\u001b[0m_engine\u001b[0m \u001b[1;33m=\u001b[0m \u001b[0mCParserWrapper\u001b[0m\u001b[1;33m(\u001b[0m\u001b[0mself\u001b[0m\u001b[1;33m.\u001b[0m\u001b[0mf\u001b[0m\u001b[1;33m,\u001b[0m \u001b[1;33m**\u001b[0m\u001b[0mself\u001b[0m\u001b[1;33m.\u001b[0m\u001b[0moptions\u001b[0m\u001b[1;33m)\u001b[0m\u001b[1;33m\u001b[0m\u001b[1;33m\u001b[0m\u001b[0m\n\u001b[0m\u001b[0;32m   1115\u001b[0m         \u001b[1;32melse\u001b[0m\u001b[1;33m:\u001b[0m\u001b[1;33m\u001b[0m\u001b[1;33m\u001b[0m\u001b[0m\n\u001b[0;32m   1116\u001b[0m             \u001b[1;32mif\u001b[0m \u001b[0mengine\u001b[0m \u001b[1;33m==\u001b[0m \u001b[1;34m\"python\"\u001b[0m\u001b[1;33m:\u001b[0m\u001b[1;33m\u001b[0m\u001b[1;33m\u001b[0m\u001b[0m\n",
            "\u001b[1;32m~\\anaconda3\\lib\\site-packages\\pandas\\io\\parsers.py\u001b[0m in \u001b[0;36m__init__\u001b[1;34m(self, src, **kwds)\u001b[0m\n\u001b[0;32m   1889\u001b[0m         \u001b[0mkwds\u001b[0m\u001b[1;33m[\u001b[0m\u001b[1;34m\"usecols\"\u001b[0m\u001b[1;33m]\u001b[0m \u001b[1;33m=\u001b[0m \u001b[0mself\u001b[0m\u001b[1;33m.\u001b[0m\u001b[0musecols\u001b[0m\u001b[1;33m\u001b[0m\u001b[1;33m\u001b[0m\u001b[0m\n\u001b[0;32m   1890\u001b[0m \u001b[1;33m\u001b[0m\u001b[0m\n\u001b[1;32m-> 1891\u001b[1;33m         \u001b[0mself\u001b[0m\u001b[1;33m.\u001b[0m\u001b[0m_reader\u001b[0m \u001b[1;33m=\u001b[0m \u001b[0mparsers\u001b[0m\u001b[1;33m.\u001b[0m\u001b[0mTextReader\u001b[0m\u001b[1;33m(\u001b[0m\u001b[0msrc\u001b[0m\u001b[1;33m,\u001b[0m \u001b[1;33m**\u001b[0m\u001b[0mkwds\u001b[0m\u001b[1;33m)\u001b[0m\u001b[1;33m\u001b[0m\u001b[1;33m\u001b[0m\u001b[0m\n\u001b[0m\u001b[0;32m   1892\u001b[0m         \u001b[0mself\u001b[0m\u001b[1;33m.\u001b[0m\u001b[0munnamed_cols\u001b[0m \u001b[1;33m=\u001b[0m \u001b[0mself\u001b[0m\u001b[1;33m.\u001b[0m\u001b[0m_reader\u001b[0m\u001b[1;33m.\u001b[0m\u001b[0munnamed_cols\u001b[0m\u001b[1;33m\u001b[0m\u001b[1;33m\u001b[0m\u001b[0m\n\u001b[0;32m   1893\u001b[0m \u001b[1;33m\u001b[0m\u001b[0m\n",
            "\u001b[1;32mpandas\\_libs\\parsers.pyx\u001b[0m in \u001b[0;36mpandas._libs.parsers.TextReader.__cinit__\u001b[1;34m()\u001b[0m\n",
            "\u001b[1;32mpandas\\_libs\\parsers.pyx\u001b[0m in \u001b[0;36mpandas._libs.parsers.TextReader._setup_parser_source\u001b[1;34m()\u001b[0m\n",
            "\u001b[1;31mFileNotFoundError\u001b[0m: [Errno 2] File Unit-2-Build\\Test_Car.csv does not exist: 'Unit-2-Build\\\\Test_Car.csv'"
          ]
        }
      ],
      "source": [
        "test_model_data = pd.read_csv('Unit-2-Build\\Test_Car.csv',index_col=[0])"
      ]
    },
    {
      "cell_type": "code",
      "execution_count": null,
      "metadata": {},
      "outputs": [],
      "source": []
    }
  ],
  "metadata": {
    "colab": {
      "name": "Porsche_911.ipynb",
      "provenance": [],
      "authorship_tag": "ABX9TyN6bSkRV5yK+S2A7e2MZXF+",
      "include_colab_link": true
    },
    "kernelspec": {
      "name": "python3",
      "display_name": "Python 3"
    }
  },
  "nbformat": 4,
  "nbformat_minor": 0
}
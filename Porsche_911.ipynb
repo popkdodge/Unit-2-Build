{
  "nbformat": 4,
  "nbformat_minor": 0,
  "metadata": {
    "colab": {
      "name": "Porsche_911.ipynb",
      "provenance": [],
      "authorship_tag": "ABX9TyN6bSkRV5yK+S2A7e2MZXF+",
      "include_colab_link": true
    },
    "kernelspec": {
      "name": "python3",
      "display_name": "Python 3"
    }
  },
  "cells": [
    {
      "cell_type": "markdown",
      "metadata": {
        "id": "view-in-github",
        "colab_type": "text"
      },
      "source": [
        "<a href=\"https://colab.research.google.com/github/popkdodge/Unit-2-Build/blob/master/Porsche_911.ipynb\" target=\"_parent\"><img src=\"https://colab.research.google.com/assets/colab-badge.svg\" alt=\"Open In Colab\"/></a>"
      ]
    },
    {
      "cell_type": "code",
      "metadata": {
        "id": "0TXog-C7YI5y",
        "colab_type": "code",
        "colab": {}
      },
      "source": [
        "import pandas as pd\n",
        "import numpy as np\n"
      ],
      "execution_count": 0,
      "outputs": []
    },
    {
      "cell_type": "code",
      "metadata": {
        "id": "XTGC-WwtW-Dy",
        "colab_type": "code",
        "colab": {}
      },
      "source": [
        "df = pd.read_csv('https://raw.githubusercontent.com/popkdodge/Unit-2-Build/master/Carrera_911_1_2.csv',index_col=[0])"
      ],
      "execution_count": 0,
      "outputs": []
    },
    {
      "cell_type": "code",
      "metadata": {
        "id": "pFR_iXuTYH5Q",
        "colab_type": "code",
        "outputId": "9dfbf1be-d9d3-475c-e0f2-14442781629a",
        "colab": {
          "base_uri": "https://localhost:8080/",
          "height": 406
        }
      },
      "source": [
        "df"
      ],
      "execution_count": 0,
      "outputs": [
        {
          "output_type": "execute_result",
          "data": {
            "text/html": [
              "<div>\n",
              "<style scoped>\n",
              "    .dataframe tbody tr th:only-of-type {\n",
              "        vertical-align: middle;\n",
              "    }\n",
              "\n",
              "    .dataframe tbody tr th {\n",
              "        vertical-align: top;\n",
              "    }\n",
              "\n",
              "    .dataframe thead th {\n",
              "        text-align: right;\n",
              "    }\n",
              "</style>\n",
              "<table border=\"1\" class=\"dataframe\">\n",
              "  <thead>\n",
              "    <tr style=\"text-align: right;\">\n",
              "      <th></th>\n",
              "      <th>condition</th>\n",
              "      <th>milage</th>\n",
              "      <th>Price</th>\n",
              "      <th>Year</th>\n",
              "      <th>Brand</th>\n",
              "      <th>Model</th>\n",
              "      <th>Model_Vers</th>\n",
              "      <th>S_RS</th>\n",
              "      <th>Cabriolet</th>\n",
              "      <th>Color</th>\n",
              "      <th>Transmission</th>\n",
              "    </tr>\n",
              "  </thead>\n",
              "  <tbody>\n",
              "    <tr>\n",
              "      <th>0</th>\n",
              "      <td>Used</td>\n",
              "      <td>47649</td>\n",
              "      <td>48950.0</td>\n",
              "      <td>2012</td>\n",
              "      <td>Porsche</td>\n",
              "      <td>911</td>\n",
              "      <td>Carrera</td>\n",
              "      <td>Black</td>\n",
              "      <td>Edition</td>\n",
              "      <td>Black</td>\n",
              "      <td>Automatic</td>\n",
              "    </tr>\n",
              "    <tr>\n",
              "      <th>1</th>\n",
              "      <td>Used</td>\n",
              "      <td>19020</td>\n",
              "      <td>67988.0</td>\n",
              "      <td>2015</td>\n",
              "      <td>Porsche</td>\n",
              "      <td>911</td>\n",
              "      <td>Carrera</td>\n",
              "      <td>Base</td>\n",
              "      <td>Hardtop</td>\n",
              "      <td>Black</td>\n",
              "      <td>Automatic</td>\n",
              "    </tr>\n",
              "    <tr>\n",
              "      <th>3</th>\n",
              "      <td>Used</td>\n",
              "      <td>56436</td>\n",
              "      <td>51990.0</td>\n",
              "      <td>2012</td>\n",
              "      <td>Porsche</td>\n",
              "      <td>911</td>\n",
              "      <td>Carrera</td>\n",
              "      <td>S</td>\n",
              "      <td>Hardtop</td>\n",
              "      <td>Black</td>\n",
              "      <td>Automatic</td>\n",
              "    </tr>\n",
              "    <tr>\n",
              "      <th>4</th>\n",
              "      <td>Used</td>\n",
              "      <td>85000</td>\n",
              "      <td>34900.0</td>\n",
              "      <td>2009</td>\n",
              "      <td>Porsche</td>\n",
              "      <td>911</td>\n",
              "      <td>Carrera</td>\n",
              "      <td>S</td>\n",
              "      <td>Cabriolet</td>\n",
              "      <td>Black</td>\n",
              "      <td>Automatic</td>\n",
              "    </tr>\n",
              "    <tr>\n",
              "      <th>5</th>\n",
              "      <td>Used</td>\n",
              "      <td>15808</td>\n",
              "      <td>96995.0</td>\n",
              "      <td>2018</td>\n",
              "      <td>Porsche</td>\n",
              "      <td>911</td>\n",
              "      <td>Carrera</td>\n",
              "      <td>S</td>\n",
              "      <td>Hardtop</td>\n",
              "      <td>Black</td>\n",
              "      <td>Automatic</td>\n",
              "    </tr>\n",
              "    <tr>\n",
              "      <th>...</th>\n",
              "      <td>...</td>\n",
              "      <td>...</td>\n",
              "      <td>...</td>\n",
              "      <td>...</td>\n",
              "      <td>...</td>\n",
              "      <td>...</td>\n",
              "      <td>...</td>\n",
              "      <td>...</td>\n",
              "      <td>...</td>\n",
              "      <td>...</td>\n",
              "      <td>...</td>\n",
              "    </tr>\n",
              "    <tr>\n",
              "      <th>1493</th>\n",
              "      <td>Used</td>\n",
              "      <td>19826</td>\n",
              "      <td>99950.0</td>\n",
              "      <td>2017</td>\n",
              "      <td>Porsche</td>\n",
              "      <td>911</td>\n",
              "      <td>Carrera</td>\n",
              "      <td>4S</td>\n",
              "      <td>Hardtop</td>\n",
              "      <td>White</td>\n",
              "      <td>Manual</td>\n",
              "    </tr>\n",
              "    <tr>\n",
              "      <th>1494</th>\n",
              "      <td>Used</td>\n",
              "      <td>15710</td>\n",
              "      <td>89995.0</td>\n",
              "      <td>2016</td>\n",
              "      <td>Porsche</td>\n",
              "      <td>911</td>\n",
              "      <td>Carrera</td>\n",
              "      <td>4S</td>\n",
              "      <td>Hardtop</td>\n",
              "      <td>White</td>\n",
              "      <td>Manual</td>\n",
              "    </tr>\n",
              "    <tr>\n",
              "      <th>1495</th>\n",
              "      <td>Used</td>\n",
              "      <td>502</td>\n",
              "      <td>93900.0</td>\n",
              "      <td>2018</td>\n",
              "      <td>Porsche</td>\n",
              "      <td>911</td>\n",
              "      <td>Carrera</td>\n",
              "      <td>T</td>\n",
              "      <td>Hardtop</td>\n",
              "      <td>White</td>\n",
              "      <td>Manual</td>\n",
              "    </tr>\n",
              "    <tr>\n",
              "      <th>1496</th>\n",
              "      <td>Used</td>\n",
              "      <td>5182</td>\n",
              "      <td>81995.0</td>\n",
              "      <td>2016</td>\n",
              "      <td>Porsche</td>\n",
              "      <td>911</td>\n",
              "      <td>Carrera</td>\n",
              "      <td>S</td>\n",
              "      <td>Hardtop</td>\n",
              "      <td>White</td>\n",
              "      <td>Manual</td>\n",
              "    </tr>\n",
              "    <tr>\n",
              "      <th>1501</th>\n",
              "      <td>Porsche Certified</td>\n",
              "      <td>10074</td>\n",
              "      <td>112000.0</td>\n",
              "      <td>2018</td>\n",
              "      <td>Porsche</td>\n",
              "      <td>911</td>\n",
              "      <td>Carrera</td>\n",
              "      <td>4S</td>\n",
              "      <td>Hardtop</td>\n",
              "      <td>White</td>\n",
              "      <td>Manual</td>\n",
              "    </tr>\n",
              "  </tbody>\n",
              "</table>\n",
              "<p>810 rows × 11 columns</p>\n",
              "</div>"
            ],
            "text/plain": [
              "              condition  milage     Price  ...  Cabriolet  Color  Transmission\n",
              "0                  Used   47649   48950.0  ...    Edition  Black     Automatic\n",
              "1                  Used   19020   67988.0  ...    Hardtop  Black     Automatic\n",
              "3                  Used   56436   51990.0  ...    Hardtop  Black     Automatic\n",
              "4                  Used   85000   34900.0  ...  Cabriolet  Black     Automatic\n",
              "5                  Used   15808   96995.0  ...    Hardtop  Black     Automatic\n",
              "...                 ...     ...       ...  ...        ...    ...           ...\n",
              "1493               Used   19826   99950.0  ...    Hardtop  White        Manual\n",
              "1494               Used   15710   89995.0  ...    Hardtop  White        Manual\n",
              "1495               Used     502   93900.0  ...    Hardtop  White        Manual\n",
              "1496               Used    5182   81995.0  ...    Hardtop  White        Manual\n",
              "1501  Porsche Certified   10074  112000.0  ...    Hardtop  White        Manual\n",
              "\n",
              "[810 rows x 11 columns]"
            ]
          },
          "metadata": {
            "tags": []
          },
          "execution_count": 5
        }
      ]
    },
    {
      "cell_type": "code",
      "metadata": {
        "id": "3O15x4CgYQZh",
        "colab_type": "code",
        "outputId": "08033378-6362-46c5-fd88-f934aa966b91",
        "colab": {
          "base_uri": "https://localhost:8080/",
          "height": 105
        }
      },
      "source": [
        "df['Cabriolet'].value_counts()"
      ],
      "execution_count": 0,
      "outputs": [
        {
          "output_type": "execute_result",
          "data": {
            "text/plain": [
              "Hardtop      736\n",
              "Cabriolet     69\n",
              "Edition        4\n",
              "Black          1\n",
              "Name: Cabriolet, dtype: int64"
            ]
          },
          "metadata": {
            "tags": []
          },
          "execution_count": 6
        }
      ]
    },
    {
      "cell_type": "code",
      "metadata": {
        "id": "9xlaMAukZAwP",
        "colab_type": "code",
        "outputId": "c22d4d89-d47a-4235-9e52-a0549aebdd61",
        "colab": {
          "base_uri": "https://localhost:8080/",
          "height": 230
        }
      },
      "source": [
        "df.isnull().sum()"
      ],
      "execution_count": 0,
      "outputs": [
        {
          "output_type": "execute_result",
          "data": {
            "text/plain": [
              "condition       0\n",
              "milage          0\n",
              "Price           0\n",
              "Year            0\n",
              "Brand           0\n",
              "Model           0\n",
              "Model_Vers      0\n",
              "S_RS            0\n",
              "Cabriolet       0\n",
              "Color           0\n",
              "Transmission    0\n",
              "dtype: int64"
            ]
          },
          "metadata": {
            "tags": []
          },
          "execution_count": 7
        }
      ]
    },
    {
      "cell_type": "code",
      "metadata": {
        "id": "XD6vcCjvYemr",
        "colab_type": "code",
        "colab": {}
      },
      "source": [
        "df['Cabriolet'] = df['Cabriolet'].replace(\"Black\",'Hardtop')"
      ],
      "execution_count": 0,
      "outputs": []
    },
    {
      "cell_type": "code",
      "metadata": {
        "colab_type": "code",
        "id": "-tdTHFnrY5Ao",
        "colab": {}
      },
      "source": [
        "df['Cabriolet'] = df['Cabriolet'].replace(\"Edition\",'Hardtop')"
      ],
      "execution_count": 0,
      "outputs": []
    },
    {
      "cell_type": "code",
      "metadata": {
        "id": "Sf8jlHVzY2Ry",
        "colab_type": "code",
        "colab": {}
      },
      "source": [
        "df['Price'] = df['Price'].astype(int)"
      ],
      "execution_count": 0,
      "outputs": []
    },
    {
      "cell_type": "code",
      "metadata": {
        "id": "_uLEAlGjal7U",
        "colab_type": "code",
        "outputId": "e876f2d3-8372-4fce-bf28-8f42e7c4eee0",
        "colab": {
          "base_uri": "https://localhost:8080/",
          "height": 230
        }
      },
      "source": [
        "df.dtypes"
      ],
      "execution_count": 0,
      "outputs": [
        {
          "output_type": "execute_result",
          "data": {
            "text/plain": [
              "condition       object\n",
              "milage           int64\n",
              "Price            int64\n",
              "Year             int64\n",
              "Brand           object\n",
              "Model            int64\n",
              "Model_Vers      object\n",
              "S_RS            object\n",
              "Cabriolet       object\n",
              "Color           object\n",
              "Transmission    object\n",
              "dtype: object"
            ]
          },
          "metadata": {
            "tags": []
          },
          "execution_count": 11
        }
      ]
    },
    {
      "cell_type": "code",
      "metadata": {
        "id": "eB7rYEo2aosx",
        "colab_type": "code",
        "outputId": "e498c4ef-128b-4b54-d923-f455f0209737",
        "colab": {
          "base_uri": "https://localhost:8080/",
          "height": 70
        }
      },
      "source": [
        "df.condition.value_counts(normalize=True)"
      ],
      "execution_count": 0,
      "outputs": [
        {
          "output_type": "execute_result",
          "data": {
            "text/plain": [
              "Used                 0.84321\n",
              "Porsche Certified    0.15679\n",
              "Name: condition, dtype: float64"
            ]
          },
          "metadata": {
            "tags": []
          },
          "execution_count": 12
        }
      ]
    },
    {
      "cell_type": "code",
      "metadata": {
        "id": "aslU4xWya1Te",
        "colab_type": "code",
        "colab": {}
      },
      "source": [
        "df['condition'] = df['condition'].replace(\"Porsche Certified\",'CPO')"
      ],
      "execution_count": 0,
      "outputs": []
    },
    {
      "cell_type": "code",
      "metadata": {
        "id": "DqHQrh3Ha9QL",
        "colab_type": "code",
        "colab": {}
      },
      "source": [
        "from sklearn.model_selection import train_test_split\n",
        "train, test= train_test_split(df, test_size=0.20, random_state=2)"
      ],
      "execution_count": 0,
      "outputs": []
    },
    {
      "cell_type": "code",
      "metadata": {
        "id": "b3bQE5U7hsOB",
        "colab_type": "code",
        "colab": {}
      },
      "source": [
        ""
      ],
      "execution_count": 0,
      "outputs": []
    },
    {
      "cell_type": "code",
      "metadata": {
        "id": "FA0xZeJHcDHL",
        "colab_type": "code",
        "outputId": "1bbd41c4-d72e-4954-c1f7-59774e22f065",
        "colab": {
          "base_uri": "https://localhost:8080/",
          "height": 406
        }
      },
      "source": [
        "train"
      ],
      "execution_count": 0,
      "outputs": [
        {
          "output_type": "execute_result",
          "data": {
            "text/html": [
              "<div>\n",
              "<style scoped>\n",
              "    .dataframe tbody tr th:only-of-type {\n",
              "        vertical-align: middle;\n",
              "    }\n",
              "\n",
              "    .dataframe tbody tr th {\n",
              "        vertical-align: top;\n",
              "    }\n",
              "\n",
              "    .dataframe thead th {\n",
              "        text-align: right;\n",
              "    }\n",
              "</style>\n",
              "<table border=\"1\" class=\"dataframe\">\n",
              "  <thead>\n",
              "    <tr style=\"text-align: right;\">\n",
              "      <th></th>\n",
              "      <th>condition</th>\n",
              "      <th>milage</th>\n",
              "      <th>Price</th>\n",
              "      <th>Year</th>\n",
              "      <th>Brand</th>\n",
              "      <th>Model</th>\n",
              "      <th>Model_Vers</th>\n",
              "      <th>S_RS</th>\n",
              "      <th>Cabriolet</th>\n",
              "      <th>Color</th>\n",
              "      <th>Transmission</th>\n",
              "    </tr>\n",
              "  </thead>\n",
              "  <tbody>\n",
              "    <tr>\n",
              "      <th>1494</th>\n",
              "      <td>Used</td>\n",
              "      <td>15710</td>\n",
              "      <td>89995</td>\n",
              "      <td>2016</td>\n",
              "      <td>Porsche</td>\n",
              "      <td>911</td>\n",
              "      <td>Carrera</td>\n",
              "      <td>4S</td>\n",
              "      <td>Hardtop</td>\n",
              "      <td>White</td>\n",
              "      <td>Manual</td>\n",
              "    </tr>\n",
              "    <tr>\n",
              "      <th>1176</th>\n",
              "      <td>Used</td>\n",
              "      <td>35750</td>\n",
              "      <td>39300</td>\n",
              "      <td>2008</td>\n",
              "      <td>Porsche</td>\n",
              "      <td>911</td>\n",
              "      <td>Carrera</td>\n",
              "      <td>S</td>\n",
              "      <td>Cabriolet</td>\n",
              "      <td>Black</td>\n",
              "      <td>Manual</td>\n",
              "    </tr>\n",
              "    <tr>\n",
              "      <th>692</th>\n",
              "      <td>Used</td>\n",
              "      <td>26324</td>\n",
              "      <td>59000</td>\n",
              "      <td>2010</td>\n",
              "      <td>Porsche</td>\n",
              "      <td>911</td>\n",
              "      <td>Carrera</td>\n",
              "      <td>4S</td>\n",
              "      <td>Cabriolet</td>\n",
              "      <td>Other</td>\n",
              "      <td>Automatic</td>\n",
              "    </tr>\n",
              "    <tr>\n",
              "      <th>758</th>\n",
              "      <td>Used</td>\n",
              "      <td>130000</td>\n",
              "      <td>34900</td>\n",
              "      <td>2013</td>\n",
              "      <td>Porsche</td>\n",
              "      <td>911</td>\n",
              "      <td>Carrera</td>\n",
              "      <td>Base</td>\n",
              "      <td>Hardtop</td>\n",
              "      <td>Gray/Silver</td>\n",
              "      <td>Automatic</td>\n",
              "    </tr>\n",
              "    <tr>\n",
              "      <th>825</th>\n",
              "      <td>Used</td>\n",
              "      <td>4113</td>\n",
              "      <td>103995</td>\n",
              "      <td>2017</td>\n",
              "      <td>Porsche</td>\n",
              "      <td>911</td>\n",
              "      <td>Carrera</td>\n",
              "      <td>Base</td>\n",
              "      <td>Hardtop</td>\n",
              "      <td>White</td>\n",
              "      <td>Automatic</td>\n",
              "    </tr>\n",
              "    <tr>\n",
              "      <th>...</th>\n",
              "      <td>...</td>\n",
              "      <td>...</td>\n",
              "      <td>...</td>\n",
              "      <td>...</td>\n",
              "      <td>...</td>\n",
              "      <td>...</td>\n",
              "      <td>...</td>\n",
              "      <td>...</td>\n",
              "      <td>...</td>\n",
              "      <td>...</td>\n",
              "      <td>...</td>\n",
              "    </tr>\n",
              "    <tr>\n",
              "      <th>1047</th>\n",
              "      <td>CPO</td>\n",
              "      <td>34541</td>\n",
              "      <td>84995</td>\n",
              "      <td>2018</td>\n",
              "      <td>Porsche</td>\n",
              "      <td>911</td>\n",
              "      <td>Carrera</td>\n",
              "      <td>Base</td>\n",
              "      <td>Hardtop</td>\n",
              "      <td>White</td>\n",
              "      <td>Automatic</td>\n",
              "    </tr>\n",
              "    <tr>\n",
              "      <th>1151</th>\n",
              "      <td>CPO</td>\n",
              "      <td>17066</td>\n",
              "      <td>89957</td>\n",
              "      <td>2015</td>\n",
              "      <td>Porsche</td>\n",
              "      <td>911</td>\n",
              "      <td>Carrera</td>\n",
              "      <td>GTS</td>\n",
              "      <td>Hardtop</td>\n",
              "      <td>Red</td>\n",
              "      <td>Automatic</td>\n",
              "    </tr>\n",
              "    <tr>\n",
              "      <th>938</th>\n",
              "      <td>Used</td>\n",
              "      <td>40700</td>\n",
              "      <td>66999</td>\n",
              "      <td>2017</td>\n",
              "      <td>Porsche</td>\n",
              "      <td>911</td>\n",
              "      <td>Carrera</td>\n",
              "      <td>Base</td>\n",
              "      <td>Hardtop</td>\n",
              "      <td>White</td>\n",
              "      <td>Automatic</td>\n",
              "    </tr>\n",
              "    <tr>\n",
              "      <th>1035</th>\n",
              "      <td>Used</td>\n",
              "      <td>26067</td>\n",
              "      <td>94951</td>\n",
              "      <td>2017</td>\n",
              "      <td>Porsche</td>\n",
              "      <td>911</td>\n",
              "      <td>Carrera</td>\n",
              "      <td>S</td>\n",
              "      <td>Hardtop</td>\n",
              "      <td>White</td>\n",
              "      <td>Automatic</td>\n",
              "    </tr>\n",
              "    <tr>\n",
              "      <th>324</th>\n",
              "      <td>Used</td>\n",
              "      <td>23000</td>\n",
              "      <td>76500</td>\n",
              "      <td>2015</td>\n",
              "      <td>Porsche</td>\n",
              "      <td>911</td>\n",
              "      <td>Carrera</td>\n",
              "      <td>S</td>\n",
              "      <td>Hardtop</td>\n",
              "      <td>Black</td>\n",
              "      <td>Automatic</td>\n",
              "    </tr>\n",
              "  </tbody>\n",
              "</table>\n",
              "<p>648 rows × 11 columns</p>\n",
              "</div>"
            ],
            "text/plain": [
              "     condition  milage   Price  Year  ...  S_RS  Cabriolet        Color Transmission\n",
              "1494      Used   15710   89995  2016  ...    4S    Hardtop        White       Manual\n",
              "1176      Used   35750   39300  2008  ...     S  Cabriolet        Black       Manual\n",
              "692       Used   26324   59000  2010  ...    4S  Cabriolet        Other    Automatic\n",
              "758       Used  130000   34900  2013  ...  Base    Hardtop  Gray/Silver    Automatic\n",
              "825       Used    4113  103995  2017  ...  Base    Hardtop        White    Automatic\n",
              "...        ...     ...     ...   ...  ...   ...        ...          ...          ...\n",
              "1047       CPO   34541   84995  2018  ...  Base    Hardtop        White    Automatic\n",
              "1151       CPO   17066   89957  2015  ...   GTS    Hardtop          Red    Automatic\n",
              "938       Used   40700   66999  2017  ...  Base    Hardtop        White    Automatic\n",
              "1035      Used   26067   94951  2017  ...     S    Hardtop        White    Automatic\n",
              "324       Used   23000   76500  2015  ...     S    Hardtop        Black    Automatic\n",
              "\n",
              "[648 rows x 11 columns]"
            ]
          },
          "metadata": {
            "tags": []
          },
          "execution_count": 15
        }
      ]
    },
    {
      "cell_type": "code",
      "metadata": {
        "id": "YUXqy1xPc45p",
        "colab_type": "code",
        "outputId": "a0b7131e-792d-45a3-c090-7b5e8e6ddb1f",
        "colab": {
          "base_uri": "https://localhost:8080/",
          "height": 406
        }
      },
      "source": [
        "test"
      ],
      "execution_count": 0,
      "outputs": [
        {
          "output_type": "execute_result",
          "data": {
            "text/html": [
              "<div>\n",
              "<style scoped>\n",
              "    .dataframe tbody tr th:only-of-type {\n",
              "        vertical-align: middle;\n",
              "    }\n",
              "\n",
              "    .dataframe tbody tr th {\n",
              "        vertical-align: top;\n",
              "    }\n",
              "\n",
              "    .dataframe thead th {\n",
              "        text-align: right;\n",
              "    }\n",
              "</style>\n",
              "<table border=\"1\" class=\"dataframe\">\n",
              "  <thead>\n",
              "    <tr style=\"text-align: right;\">\n",
              "      <th></th>\n",
              "      <th>condition</th>\n",
              "      <th>milage</th>\n",
              "      <th>Price</th>\n",
              "      <th>Year</th>\n",
              "      <th>Brand</th>\n",
              "      <th>Model</th>\n",
              "      <th>Model_Vers</th>\n",
              "      <th>S_RS</th>\n",
              "      <th>Cabriolet</th>\n",
              "      <th>Color</th>\n",
              "      <th>Transmission</th>\n",
              "    </tr>\n",
              "  </thead>\n",
              "  <tbody>\n",
              "    <tr>\n",
              "      <th>830</th>\n",
              "      <td>Used</td>\n",
              "      <td>36843</td>\n",
              "      <td>78777</td>\n",
              "      <td>2015</td>\n",
              "      <td>Porsche</td>\n",
              "      <td>911</td>\n",
              "      <td>Carrera</td>\n",
              "      <td>S</td>\n",
              "      <td>Hardtop</td>\n",
              "      <td>White</td>\n",
              "      <td>Automatic</td>\n",
              "    </tr>\n",
              "    <tr>\n",
              "      <th>244</th>\n",
              "      <td>Used</td>\n",
              "      <td>22789</td>\n",
              "      <td>103900</td>\n",
              "      <td>2017</td>\n",
              "      <td>Porsche</td>\n",
              "      <td>911</td>\n",
              "      <td>Carrera</td>\n",
              "      <td>4S</td>\n",
              "      <td>Hardtop</td>\n",
              "      <td>Black</td>\n",
              "      <td>Automatic</td>\n",
              "    </tr>\n",
              "    <tr>\n",
              "      <th>226</th>\n",
              "      <td>CPO</td>\n",
              "      <td>13220</td>\n",
              "      <td>106900</td>\n",
              "      <td>2017</td>\n",
              "      <td>Porsche</td>\n",
              "      <td>911</td>\n",
              "      <td>Carrera</td>\n",
              "      <td>4S</td>\n",
              "      <td>Hardtop</td>\n",
              "      <td>Black</td>\n",
              "      <td>Automatic</td>\n",
              "    </tr>\n",
              "    <tr>\n",
              "      <th>1020</th>\n",
              "      <td>Used</td>\n",
              "      <td>21136</td>\n",
              "      <td>73995</td>\n",
              "      <td>2013</td>\n",
              "      <td>Porsche</td>\n",
              "      <td>911</td>\n",
              "      <td>Carrera</td>\n",
              "      <td>S</td>\n",
              "      <td>Hardtop</td>\n",
              "      <td>White</td>\n",
              "      <td>Automatic</td>\n",
              "    </tr>\n",
              "    <tr>\n",
              "      <th>606</th>\n",
              "      <td>Used</td>\n",
              "      <td>35103</td>\n",
              "      <td>68398</td>\n",
              "      <td>2018</td>\n",
              "      <td>Porsche</td>\n",
              "      <td>911</td>\n",
              "      <td>Carrera</td>\n",
              "      <td>Base</td>\n",
              "      <td>Hardtop</td>\n",
              "      <td>Other</td>\n",
              "      <td>Automatic</td>\n",
              "    </tr>\n",
              "    <tr>\n",
              "      <th>...</th>\n",
              "      <td>...</td>\n",
              "      <td>...</td>\n",
              "      <td>...</td>\n",
              "      <td>...</td>\n",
              "      <td>...</td>\n",
              "      <td>...</td>\n",
              "      <td>...</td>\n",
              "      <td>...</td>\n",
              "      <td>...</td>\n",
              "      <td>...</td>\n",
              "      <td>...</td>\n",
              "    </tr>\n",
              "    <tr>\n",
              "      <th>1098</th>\n",
              "      <td>Used</td>\n",
              "      <td>5517</td>\n",
              "      <td>99495</td>\n",
              "      <td>2019</td>\n",
              "      <td>Porsche</td>\n",
              "      <td>911</td>\n",
              "      <td>Carrera</td>\n",
              "      <td>T</td>\n",
              "      <td>Hardtop</td>\n",
              "      <td>Red</td>\n",
              "      <td>Automatic</td>\n",
              "    </tr>\n",
              "    <tr>\n",
              "      <th>1408</th>\n",
              "      <td>Used</td>\n",
              "      <td>17000</td>\n",
              "      <td>35000</td>\n",
              "      <td>2008</td>\n",
              "      <td>Porsche</td>\n",
              "      <td>911</td>\n",
              "      <td>Carrera</td>\n",
              "      <td>S</td>\n",
              "      <td>Cabriolet</td>\n",
              "      <td>Other</td>\n",
              "      <td>Manual</td>\n",
              "    </tr>\n",
              "    <tr>\n",
              "      <th>936</th>\n",
              "      <td>Used</td>\n",
              "      <td>26775</td>\n",
              "      <td>67500</td>\n",
              "      <td>2013</td>\n",
              "      <td>Porsche</td>\n",
              "      <td>911</td>\n",
              "      <td>Carrera</td>\n",
              "      <td>S</td>\n",
              "      <td>Hardtop</td>\n",
              "      <td>White</td>\n",
              "      <td>Automatic</td>\n",
              "    </tr>\n",
              "    <tr>\n",
              "      <th>1261</th>\n",
              "      <td>Used</td>\n",
              "      <td>22463</td>\n",
              "      <td>56997</td>\n",
              "      <td>2013</td>\n",
              "      <td>Porsche</td>\n",
              "      <td>911</td>\n",
              "      <td>Carrera</td>\n",
              "      <td>Base</td>\n",
              "      <td>Hardtop</td>\n",
              "      <td>Gray/Silver</td>\n",
              "      <td>Manual</td>\n",
              "    </tr>\n",
              "    <tr>\n",
              "      <th>532</th>\n",
              "      <td>Used</td>\n",
              "      <td>28822</td>\n",
              "      <td>76900</td>\n",
              "      <td>2014</td>\n",
              "      <td>Porsche</td>\n",
              "      <td>911</td>\n",
              "      <td>Carrera</td>\n",
              "      <td>4S</td>\n",
              "      <td>Hardtop</td>\n",
              "      <td>Other</td>\n",
              "      <td>Automatic</td>\n",
              "    </tr>\n",
              "  </tbody>\n",
              "</table>\n",
              "<p>162 rows × 11 columns</p>\n",
              "</div>"
            ],
            "text/plain": [
              "     condition  milage   Price  Year  ...  S_RS  Cabriolet        Color Transmission\n",
              "830       Used   36843   78777  2015  ...     S    Hardtop        White    Automatic\n",
              "244       Used   22789  103900  2017  ...    4S    Hardtop        Black    Automatic\n",
              "226        CPO   13220  106900  2017  ...    4S    Hardtop        Black    Automatic\n",
              "1020      Used   21136   73995  2013  ...     S    Hardtop        White    Automatic\n",
              "606       Used   35103   68398  2018  ...  Base    Hardtop        Other    Automatic\n",
              "...        ...     ...     ...   ...  ...   ...        ...          ...          ...\n",
              "1098      Used    5517   99495  2019  ...     T    Hardtop          Red    Automatic\n",
              "1408      Used   17000   35000  2008  ...     S  Cabriolet        Other       Manual\n",
              "936       Used   26775   67500  2013  ...     S    Hardtop        White    Automatic\n",
              "1261      Used   22463   56997  2013  ...  Base    Hardtop  Gray/Silver       Manual\n",
              "532       Used   28822   76900  2014  ...    4S    Hardtop        Other    Automatic\n",
              "\n",
              "[162 rows x 11 columns]"
            ]
          },
          "metadata": {
            "tags": []
          },
          "execution_count": 16
        }
      ]
    },
    {
      "cell_type": "code",
      "metadata": {
        "id": "K9H-qFr3c54x",
        "colab_type": "code",
        "colab": {}
      },
      "source": [
        "feature = ['condition','milage','Year','S_RS','Cabriolet','Color','Transmission']\n",
        "target = 'Price'\n",
        "X_train = train[feature]\n",
        "X_test = test[feature]\n",
        "Y_test = test[target]\n",
        "Y_train = train[target]"
      ],
      "execution_count": 0,
      "outputs": []
    },
    {
      "cell_type": "code",
      "metadata": {
        "id": "zSgLO81geFji",
        "colab_type": "code",
        "outputId": "53731534-06ce-4377-d576-ee00c7dd5889",
        "colab": {
          "base_uri": "https://localhost:8080/",
          "height": 283
        }
      },
      "source": [
        "!pip install category_encoders"
      ],
      "execution_count": 0,
      "outputs": [
        {
          "output_type": "stream",
          "text": [
            "Collecting category_encoders\n",
            "\u001b[?25l  Downloading https://files.pythonhosted.org/packages/44/57/fcef41c248701ee62e8325026b90c432adea35555cbc870aff9cfba23727/category_encoders-2.2.2-py2.py3-none-any.whl (80kB)\n",
            "\r\u001b[K     |████                            | 10kB 18.3MB/s eta 0:00:01\r\u001b[K     |████████▏                       | 20kB 1.7MB/s eta 0:00:01\r\u001b[K     |████████████▏                   | 30kB 2.1MB/s eta 0:00:01\r\u001b[K     |████████████████▎               | 40kB 2.4MB/s eta 0:00:01\r\u001b[K     |████████████████████▎           | 51kB 1.9MB/s eta 0:00:01\r\u001b[K     |████████████████████████▍       | 61kB 2.2MB/s eta 0:00:01\r\u001b[K     |████████████████████████████▍   | 71kB 2.4MB/s eta 0:00:01\r\u001b[K     |████████████████████████████████| 81kB 2.2MB/s \n",
            "\u001b[?25hRequirement already satisfied: patsy>=0.5.1 in /usr/local/lib/python3.6/dist-packages (from category_encoders) (0.5.1)\n",
            "Requirement already satisfied: pandas>=0.21.1 in /usr/local/lib/python3.6/dist-packages (from category_encoders) (1.0.4)\n",
            "Requirement already satisfied: scikit-learn>=0.20.0 in /usr/local/lib/python3.6/dist-packages (from category_encoders) (0.22.2.post1)\n",
            "Requirement already satisfied: numpy>=1.14.0 in /usr/local/lib/python3.6/dist-packages (from category_encoders) (1.18.4)\n",
            "Requirement already satisfied: statsmodels>=0.9.0 in /usr/local/lib/python3.6/dist-packages (from category_encoders) (0.10.2)\n",
            "Requirement already satisfied: scipy>=1.0.0 in /usr/local/lib/python3.6/dist-packages (from category_encoders) (1.4.1)\n",
            "Requirement already satisfied: six in /usr/local/lib/python3.6/dist-packages (from patsy>=0.5.1->category_encoders) (1.12.0)\n",
            "Requirement already satisfied: pytz>=2017.2 in /usr/local/lib/python3.6/dist-packages (from pandas>=0.21.1->category_encoders) (2018.9)\n",
            "Requirement already satisfied: python-dateutil>=2.6.1 in /usr/local/lib/python3.6/dist-packages (from pandas>=0.21.1->category_encoders) (2.8.1)\n",
            "Requirement already satisfied: joblib>=0.11 in /usr/local/lib/python3.6/dist-packages (from scikit-learn>=0.20.0->category_encoders) (0.15.1)\n",
            "Installing collected packages: category-encoders\n",
            "Successfully installed category-encoders-2.2.2\n"
          ],
          "name": "stdout"
        }
      ]
    },
    {
      "cell_type": "code",
      "metadata": {
        "id": "Pmzy9lAVdQnc",
        "colab_type": "code",
        "outputId": "9f259b6b-801e-4a37-c446-637a941c0213",
        "colab": {
          "base_uri": "https://localhost:8080/",
          "height": 52
        }
      },
      "source": [
        "import category_encoders as ce\n",
        "encoder = ce.OneHotEncoder(use_cat_names=True)"
      ],
      "execution_count": 0,
      "outputs": [
        {
          "output_type": "stream",
          "text": [
            "/usr/local/lib/python3.6/dist-packages/statsmodels/tools/_testing.py:19: FutureWarning: pandas.util.testing is deprecated. Use the functions in the public API at pandas.testing instead.\n",
            "  import pandas.util.testing as tm\n"
          ],
          "name": "stderr"
        }
      ]
    },
    {
      "cell_type": "code",
      "metadata": {
        "id": "78_uFQtReodF",
        "colab_type": "code",
        "outputId": "bef2f617-1b19-449d-fee1-ceaec749d4b9",
        "colab": {
          "base_uri": "https://localhost:8080/",
          "height": 406
        }
      },
      "source": [
        "X_test"
      ],
      "execution_count": 0,
      "outputs": [
        {
          "output_type": "execute_result",
          "data": {
            "text/html": [
              "<div>\n",
              "<style scoped>\n",
              "    .dataframe tbody tr th:only-of-type {\n",
              "        vertical-align: middle;\n",
              "    }\n",
              "\n",
              "    .dataframe tbody tr th {\n",
              "        vertical-align: top;\n",
              "    }\n",
              "\n",
              "    .dataframe thead th {\n",
              "        text-align: right;\n",
              "    }\n",
              "</style>\n",
              "<table border=\"1\" class=\"dataframe\">\n",
              "  <thead>\n",
              "    <tr style=\"text-align: right;\">\n",
              "      <th></th>\n",
              "      <th>condition</th>\n",
              "      <th>milage</th>\n",
              "      <th>Year</th>\n",
              "      <th>S_RS</th>\n",
              "      <th>Cabriolet</th>\n",
              "      <th>Color</th>\n",
              "      <th>Transmission</th>\n",
              "    </tr>\n",
              "  </thead>\n",
              "  <tbody>\n",
              "    <tr>\n",
              "      <th>830</th>\n",
              "      <td>Used</td>\n",
              "      <td>36843</td>\n",
              "      <td>2015</td>\n",
              "      <td>S</td>\n",
              "      <td>Hardtop</td>\n",
              "      <td>White</td>\n",
              "      <td>Automatic</td>\n",
              "    </tr>\n",
              "    <tr>\n",
              "      <th>244</th>\n",
              "      <td>Used</td>\n",
              "      <td>22789</td>\n",
              "      <td>2017</td>\n",
              "      <td>4S</td>\n",
              "      <td>Hardtop</td>\n",
              "      <td>Black</td>\n",
              "      <td>Automatic</td>\n",
              "    </tr>\n",
              "    <tr>\n",
              "      <th>226</th>\n",
              "      <td>CPO</td>\n",
              "      <td>13220</td>\n",
              "      <td>2017</td>\n",
              "      <td>4S</td>\n",
              "      <td>Hardtop</td>\n",
              "      <td>Black</td>\n",
              "      <td>Automatic</td>\n",
              "    </tr>\n",
              "    <tr>\n",
              "      <th>1020</th>\n",
              "      <td>Used</td>\n",
              "      <td>21136</td>\n",
              "      <td>2013</td>\n",
              "      <td>S</td>\n",
              "      <td>Hardtop</td>\n",
              "      <td>White</td>\n",
              "      <td>Automatic</td>\n",
              "    </tr>\n",
              "    <tr>\n",
              "      <th>606</th>\n",
              "      <td>Used</td>\n",
              "      <td>35103</td>\n",
              "      <td>2018</td>\n",
              "      <td>Base</td>\n",
              "      <td>Hardtop</td>\n",
              "      <td>Other</td>\n",
              "      <td>Automatic</td>\n",
              "    </tr>\n",
              "    <tr>\n",
              "      <th>...</th>\n",
              "      <td>...</td>\n",
              "      <td>...</td>\n",
              "      <td>...</td>\n",
              "      <td>...</td>\n",
              "      <td>...</td>\n",
              "      <td>...</td>\n",
              "      <td>...</td>\n",
              "    </tr>\n",
              "    <tr>\n",
              "      <th>1098</th>\n",
              "      <td>Used</td>\n",
              "      <td>5517</td>\n",
              "      <td>2019</td>\n",
              "      <td>T</td>\n",
              "      <td>Hardtop</td>\n",
              "      <td>Red</td>\n",
              "      <td>Automatic</td>\n",
              "    </tr>\n",
              "    <tr>\n",
              "      <th>1408</th>\n",
              "      <td>Used</td>\n",
              "      <td>17000</td>\n",
              "      <td>2008</td>\n",
              "      <td>S</td>\n",
              "      <td>Cabriolet</td>\n",
              "      <td>Other</td>\n",
              "      <td>Manual</td>\n",
              "    </tr>\n",
              "    <tr>\n",
              "      <th>936</th>\n",
              "      <td>Used</td>\n",
              "      <td>26775</td>\n",
              "      <td>2013</td>\n",
              "      <td>S</td>\n",
              "      <td>Hardtop</td>\n",
              "      <td>White</td>\n",
              "      <td>Automatic</td>\n",
              "    </tr>\n",
              "    <tr>\n",
              "      <th>1261</th>\n",
              "      <td>Used</td>\n",
              "      <td>22463</td>\n",
              "      <td>2013</td>\n",
              "      <td>Base</td>\n",
              "      <td>Hardtop</td>\n",
              "      <td>Gray/Silver</td>\n",
              "      <td>Manual</td>\n",
              "    </tr>\n",
              "    <tr>\n",
              "      <th>532</th>\n",
              "      <td>Used</td>\n",
              "      <td>28822</td>\n",
              "      <td>2014</td>\n",
              "      <td>4S</td>\n",
              "      <td>Hardtop</td>\n",
              "      <td>Other</td>\n",
              "      <td>Automatic</td>\n",
              "    </tr>\n",
              "  </tbody>\n",
              "</table>\n",
              "<p>162 rows × 7 columns</p>\n",
              "</div>"
            ],
            "text/plain": [
              "     condition  milage  Year  S_RS  Cabriolet        Color Transmission\n",
              "830       Used   36843  2015     S    Hardtop        White    Automatic\n",
              "244       Used   22789  2017    4S    Hardtop        Black    Automatic\n",
              "226        CPO   13220  2017    4S    Hardtop        Black    Automatic\n",
              "1020      Used   21136  2013     S    Hardtop        White    Automatic\n",
              "606       Used   35103  2018  Base    Hardtop        Other    Automatic\n",
              "...        ...     ...   ...   ...        ...          ...          ...\n",
              "1098      Used    5517  2019     T    Hardtop          Red    Automatic\n",
              "1408      Used   17000  2008     S  Cabriolet        Other       Manual\n",
              "936       Used   26775  2013     S    Hardtop        White    Automatic\n",
              "1261      Used   22463  2013  Base    Hardtop  Gray/Silver       Manual\n",
              "532       Used   28822  2014    4S    Hardtop        Other    Automatic\n",
              "\n",
              "[162 rows x 7 columns]"
            ]
          },
          "metadata": {
            "tags": []
          },
          "execution_count": 20
        }
      ]
    },
    {
      "cell_type": "code",
      "metadata": {
        "id": "jrSG9ioQesLf",
        "colab_type": "code",
        "outputId": "5d813412-80c9-4491-dc30-2eb288a92164",
        "colab": {
          "base_uri": "https://localhost:8080/",
          "height": 406
        }
      },
      "source": [
        "X_train"
      ],
      "execution_count": 0,
      "outputs": [
        {
          "output_type": "execute_result",
          "data": {
            "text/html": [
              "<div>\n",
              "<style scoped>\n",
              "    .dataframe tbody tr th:only-of-type {\n",
              "        vertical-align: middle;\n",
              "    }\n",
              "\n",
              "    .dataframe tbody tr th {\n",
              "        vertical-align: top;\n",
              "    }\n",
              "\n",
              "    .dataframe thead th {\n",
              "        text-align: right;\n",
              "    }\n",
              "</style>\n",
              "<table border=\"1\" class=\"dataframe\">\n",
              "  <thead>\n",
              "    <tr style=\"text-align: right;\">\n",
              "      <th></th>\n",
              "      <th>condition</th>\n",
              "      <th>milage</th>\n",
              "      <th>Year</th>\n",
              "      <th>S_RS</th>\n",
              "      <th>Cabriolet</th>\n",
              "      <th>Color</th>\n",
              "      <th>Transmission</th>\n",
              "    </tr>\n",
              "  </thead>\n",
              "  <tbody>\n",
              "    <tr>\n",
              "      <th>1494</th>\n",
              "      <td>Used</td>\n",
              "      <td>15710</td>\n",
              "      <td>2016</td>\n",
              "      <td>4S</td>\n",
              "      <td>Hardtop</td>\n",
              "      <td>White</td>\n",
              "      <td>Manual</td>\n",
              "    </tr>\n",
              "    <tr>\n",
              "      <th>1176</th>\n",
              "      <td>Used</td>\n",
              "      <td>35750</td>\n",
              "      <td>2008</td>\n",
              "      <td>S</td>\n",
              "      <td>Cabriolet</td>\n",
              "      <td>Black</td>\n",
              "      <td>Manual</td>\n",
              "    </tr>\n",
              "    <tr>\n",
              "      <th>692</th>\n",
              "      <td>Used</td>\n",
              "      <td>26324</td>\n",
              "      <td>2010</td>\n",
              "      <td>4S</td>\n",
              "      <td>Cabriolet</td>\n",
              "      <td>Other</td>\n",
              "      <td>Automatic</td>\n",
              "    </tr>\n",
              "    <tr>\n",
              "      <th>758</th>\n",
              "      <td>Used</td>\n",
              "      <td>130000</td>\n",
              "      <td>2013</td>\n",
              "      <td>Base</td>\n",
              "      <td>Hardtop</td>\n",
              "      <td>Gray/Silver</td>\n",
              "      <td>Automatic</td>\n",
              "    </tr>\n",
              "    <tr>\n",
              "      <th>825</th>\n",
              "      <td>Used</td>\n",
              "      <td>4113</td>\n",
              "      <td>2017</td>\n",
              "      <td>Base</td>\n",
              "      <td>Hardtop</td>\n",
              "      <td>White</td>\n",
              "      <td>Automatic</td>\n",
              "    </tr>\n",
              "    <tr>\n",
              "      <th>...</th>\n",
              "      <td>...</td>\n",
              "      <td>...</td>\n",
              "      <td>...</td>\n",
              "      <td>...</td>\n",
              "      <td>...</td>\n",
              "      <td>...</td>\n",
              "      <td>...</td>\n",
              "    </tr>\n",
              "    <tr>\n",
              "      <th>1047</th>\n",
              "      <td>CPO</td>\n",
              "      <td>34541</td>\n",
              "      <td>2018</td>\n",
              "      <td>Base</td>\n",
              "      <td>Hardtop</td>\n",
              "      <td>White</td>\n",
              "      <td>Automatic</td>\n",
              "    </tr>\n",
              "    <tr>\n",
              "      <th>1151</th>\n",
              "      <td>CPO</td>\n",
              "      <td>17066</td>\n",
              "      <td>2015</td>\n",
              "      <td>GTS</td>\n",
              "      <td>Hardtop</td>\n",
              "      <td>Red</td>\n",
              "      <td>Automatic</td>\n",
              "    </tr>\n",
              "    <tr>\n",
              "      <th>938</th>\n",
              "      <td>Used</td>\n",
              "      <td>40700</td>\n",
              "      <td>2017</td>\n",
              "      <td>Base</td>\n",
              "      <td>Hardtop</td>\n",
              "      <td>White</td>\n",
              "      <td>Automatic</td>\n",
              "    </tr>\n",
              "    <tr>\n",
              "      <th>1035</th>\n",
              "      <td>Used</td>\n",
              "      <td>26067</td>\n",
              "      <td>2017</td>\n",
              "      <td>S</td>\n",
              "      <td>Hardtop</td>\n",
              "      <td>White</td>\n",
              "      <td>Automatic</td>\n",
              "    </tr>\n",
              "    <tr>\n",
              "      <th>324</th>\n",
              "      <td>Used</td>\n",
              "      <td>23000</td>\n",
              "      <td>2015</td>\n",
              "      <td>S</td>\n",
              "      <td>Hardtop</td>\n",
              "      <td>Black</td>\n",
              "      <td>Automatic</td>\n",
              "    </tr>\n",
              "  </tbody>\n",
              "</table>\n",
              "<p>648 rows × 7 columns</p>\n",
              "</div>"
            ],
            "text/plain": [
              "     condition  milage  Year  S_RS  Cabriolet        Color Transmission\n",
              "1494      Used   15710  2016    4S    Hardtop        White       Manual\n",
              "1176      Used   35750  2008     S  Cabriolet        Black       Manual\n",
              "692       Used   26324  2010    4S  Cabriolet        Other    Automatic\n",
              "758       Used  130000  2013  Base    Hardtop  Gray/Silver    Automatic\n",
              "825       Used    4113  2017  Base    Hardtop        White    Automatic\n",
              "...        ...     ...   ...   ...        ...          ...          ...\n",
              "1047       CPO   34541  2018  Base    Hardtop        White    Automatic\n",
              "1151       CPO   17066  2015   GTS    Hardtop          Red    Automatic\n",
              "938       Used   40700  2017  Base    Hardtop        White    Automatic\n",
              "1035      Used   26067  2017     S    Hardtop        White    Automatic\n",
              "324       Used   23000  2015     S    Hardtop        Black    Automatic\n",
              "\n",
              "[648 rows x 7 columns]"
            ]
          },
          "metadata": {
            "tags": []
          },
          "execution_count": 21
        }
      ]
    },
    {
      "cell_type": "code",
      "metadata": {
        "id": "JQt0T-t3fAAP",
        "colab_type": "code",
        "colab": {}
      },
      "source": [
        "X_train = encoder.fit_transform(X_train)"
      ],
      "execution_count": 0,
      "outputs": []
    },
    {
      "cell_type": "code",
      "metadata": {
        "id": "wZ0Poc6eeLyt",
        "colab_type": "code",
        "colab": {}
      },
      "source": [
        "X_test = encoder.fit_transform(X_test)"
      ],
      "execution_count": 0,
      "outputs": []
    },
    {
      "cell_type": "code",
      "metadata": {
        "id": "23v5dKr1eqwt",
        "colab_type": "code",
        "outputId": "9fcceb09-a718-49b2-f6b2-c8f28c9e96dc",
        "colab": {
          "base_uri": "https://localhost:8080/",
          "height": 34
        }
      },
      "source": [
        "from sklearn.linear_model import LinearRegression\n",
        "from sklearn.metrics import mean_absolute_error, mean_squared_error, r2_score\n",
        "\n",
        "model = LinearRegression()\n",
        "\n",
        "\n",
        "model.fit(X_train, Y_train)"
      ],
      "execution_count": 0,
      "outputs": [
        {
          "output_type": "execute_result",
          "data": {
            "text/plain": [
              "LinearRegression(copy_X=True, fit_intercept=True, n_jobs=None, normalize=False)"
            ]
          },
          "metadata": {
            "tags": []
          },
          "execution_count": 24
        }
      ]
    },
    {
      "cell_type": "code",
      "metadata": {
        "id": "eXINm9QBeVpg",
        "colab_type": "code",
        "outputId": "04be7ed7-ee43-437c-9a0d-4f4c985f2eb7",
        "colab": {
          "base_uri": "https://localhost:8080/",
          "height": 34
        }
      },
      "source": [
        "y_pred_train = model.predict(X_train)\n",
        "print(\"MAE(Train):$\",mean_absolute_error(Y_train, y_pred_train))"
      ],
      "execution_count": 0,
      "outputs": [
        {
          "output_type": "stream",
          "text": [
            "MAE(Train):$ 5887.143556592604\n"
          ],
          "name": "stdout"
        }
      ]
    },
    {
      "cell_type": "code",
      "metadata": {
        "id": "AAFOnwW0gyzT",
        "colab_type": "code",
        "outputId": "4d39958c-148f-47e0-e6fc-4a81def10709",
        "colab": {
          "base_uri": "https://localhost:8080/",
          "height": 34
        }
      },
      "source": [
        "r2_base = r2_score(Y_train, y_pred_train)\n",
        "print('R^2 scores (Train):',r2_base)"
      ],
      "execution_count": 0,
      "outputs": [
        {
          "output_type": "stream",
          "text": [
            "R^2 scores (Train): 0.8526697531427905\n"
          ],
          "name": "stdout"
        }
      ]
    },
    {
      "cell_type": "code",
      "metadata": {
        "id": "M2e3bvFzhSyo",
        "colab_type": "code",
        "outputId": "6703de46-3c65-4fe8-8572-f2ba578f44a2",
        "colab": {
          "base_uri": "https://localhost:8080/",
          "height": 34
        }
      },
      "source": [
        "y_pred_val = model.predict(X_test)\n",
        "print(\"MAE(Val):$\",mean_absolute_error(Y_test, y_pred_val))"
      ],
      "execution_count": 0,
      "outputs": [
        {
          "output_type": "stream",
          "text": [
            "MAE(Val):$ 9245.341766847487\n"
          ],
          "name": "stdout"
        }
      ]
    },
    {
      "cell_type": "code",
      "metadata": {
        "id": "8zYovyEwiKVv",
        "colab_type": "code",
        "outputId": "241ebcc2-15e0-46e7-e1c6-a02e892ac1b5",
        "colab": {
          "base_uri": "https://localhost:8080/",
          "height": 34
        }
      },
      "source": [
        "r2_base = r2_score(Y_test, y_pred_val)\n",
        "print('R^2 scores (Train):',r2_base)"
      ],
      "execution_count": 0,
      "outputs": [
        {
          "output_type": "stream",
          "text": [
            "R^2 scores (Train): 0.6024955718824838\n"
          ],
          "name": "stdout"
        }
      ]
    },
    {
      "cell_type": "code",
      "metadata": {
        "id": "whHWYXGFiRef",
        "colab_type": "code",
        "outputId": "7489ca5f-460b-43b8-ae01-702deda4bb38",
        "colab": {
          "base_uri": "https://localhost:8080/",
          "height": 123
        }
      },
      "source": [
        "model.coef_"
      ],
      "execution_count": 0,
      "outputs": [
        {
          "output_type": "execute_result",
          "data": {
            "text/plain": [
              "array([-1.31655432e+03,  1.31655432e+03, -3.33234590e-01,  3.96288098e+03,\n",
              "        2.70944244e+03, -2.65031358e+03, -1.14525798e+04,  1.85901607e+04,\n",
              "       -7.61778495e+03, -1.13169386e+04,  2.47773451e+04, -1.30393313e+04,\n",
              "       -1.01278027e+03,  1.01278027e+03, -5.60972173e+02, -2.61793715e+03,\n",
              "        5.96289735e+02,  3.28889368e+02,  1.37856716e+03,  8.75163062e+02,\n",
              "        1.05500997e+03, -1.05500997e+03])"
            ]
          },
          "metadata": {
            "tags": []
          },
          "execution_count": 29
        }
      ]
    },
    {
      "cell_type": "code",
      "metadata": {
        "id": "O8ubp8Ufiqk-",
        "colab_type": "code",
        "outputId": "283e5920-79b2-4eda-b49f-f187e9dc2500",
        "colab": {
          "base_uri": "https://localhost:8080/",
          "height": 407
        }
      },
      "source": [
        "list(X_train)"
      ],
      "execution_count": 0,
      "outputs": [
        {
          "output_type": "execute_result",
          "data": {
            "text/plain": [
              "['condition_Used',\n",
              " 'condition_CPO',\n",
              " 'milage',\n",
              " 'Year',\n",
              " 'S_RS_4S',\n",
              " 'S_RS_S',\n",
              " 'S_RS_Base',\n",
              " 'S_RS_GTS',\n",
              " 'S_RS_4',\n",
              " 'S_RS_T',\n",
              " 'S_RS_GTS4',\n",
              " 'S_RS_Black',\n",
              " 'Cabriolet_Hardtop',\n",
              " 'Cabriolet_Cabriolet',\n",
              " 'Color_White',\n",
              " 'Color_Black',\n",
              " 'Color_Other',\n",
              " 'Color_Gray/Silver',\n",
              " 'Color_Blue',\n",
              " 'Color_Red',\n",
              " 'Transmission_Manual',\n",
              " 'Transmission_Automatic']"
            ]
          },
          "metadata": {
            "tags": []
          },
          "execution_count": 30
        }
      ]
    },
    {
      "cell_type": "code",
      "metadata": {
        "id": "tGtvDkX3jZBn",
        "colab_type": "code",
        "colab": {}
      },
      "source": [
        "condition_Used = 0\n",
        "condition_CPO = 1\n",
        "milage = 30000\n",
        "Year = 2016\n",
        "S_RS_4S = 0\n",
        "S_RS_S = 0\n",
        "S_RS_Base = 1\n",
        "S_RS_GTS = 0\n",
        "S_RS_4 = 0\n",
        "S_RS_T = 0\n",
        "S_RS_4GTS = 0\n",
        "S_RS_Black_Ed = 0\n",
        "Cabriolet_Hardtop = 0\n",
        "Cabriolet_Cabriolet= 1\n",
        "Color_White = 0\n",
        "Color_Black = 1\n",
        "Color_Other = 0\n",
        "Color_Gray_Silver = 0\n",
        "Color_Blue = 0\n",
        "Color_Red = 0\n",
        "Transmission_Manual = 0\n",
        "Transmission_Automatic = 1"
      ],
      "execution_count": 0,
      "outputs": []
    },
    {
      "cell_type": "code",
      "metadata": {
        "id": "xBA0qh8WihBj",
        "colab_type": "code",
        "colab": {}
      },
      "source": [
        "price = model.predict([[condition_Used,condition_CPO,milage,Year,S_RS_4S,S_RS_S\n",
        "                ,S_RS_Base,S_RS_GTS,S_RS_4,S_RS_T,S_RS_4GTS,\n",
        "                S_RS_Black_Ed,Cabriolet_Hardtop,Cabriolet_Cabriolet,Color_White,\n",
        "                Color_Black,Color_Other,Color_Gray_Silver,Color_Blue,Color_Red,Transmission_Automatic,\n",
        "                Transmission_Manual]])\n"
      ],
      "execution_count": 0,
      "outputs": []
    },
    {
      "cell_type": "code",
      "metadata": {
        "id": "2R43VOualuwL",
        "colab_type": "code",
        "outputId": "b05eef92-e7ea-4820-88cc-5c09a646fad5",
        "colab": {
          "base_uri": "https://localhost:8080/",
          "height": 34
        }
      },
      "source": [
        "print(\"Your 911 should be price at :$\",price)"
      ],
      "execution_count": 0,
      "outputs": [
        {
          "output_type": "stream",
          "text": [
            "Your 911 should be price at :$ [75973.26777012]\n"
          ],
          "name": "stdout"
        }
      ]
    },
    {
      "cell_type": "code",
      "metadata": {
        "id": "idvL9kDIU1As",
        "colab_type": "code",
        "colab": {}
      },
      "source": [
        "dt = df.copy()"
      ],
      "execution_count": 0,
      "outputs": []
    },
    {
      "cell_type": "code",
      "metadata": {
        "id": "GKUIjFOInYAv",
        "colab_type": "code",
        "outputId": "fe4fc491-d2e9-4efb-a0d7-c9079acc6465",
        "colab": {
          "base_uri": "https://localhost:8080/",
          "height": 406
        }
      },
      "source": [
        "dt.drop(['Transmission','Cabriolet'],axis=1)"
      ],
      "execution_count": 0,
      "outputs": [
        {
          "output_type": "execute_result",
          "data": {
            "text/html": [
              "<div>\n",
              "<style scoped>\n",
              "    .dataframe tbody tr th:only-of-type {\n",
              "        vertical-align: middle;\n",
              "    }\n",
              "\n",
              "    .dataframe tbody tr th {\n",
              "        vertical-align: top;\n",
              "    }\n",
              "\n",
              "    .dataframe thead th {\n",
              "        text-align: right;\n",
              "    }\n",
              "</style>\n",
              "<table border=\"1\" class=\"dataframe\">\n",
              "  <thead>\n",
              "    <tr style=\"text-align: right;\">\n",
              "      <th></th>\n",
              "      <th>condition</th>\n",
              "      <th>milage</th>\n",
              "      <th>Price</th>\n",
              "      <th>Year</th>\n",
              "      <th>Brand</th>\n",
              "      <th>Model</th>\n",
              "      <th>Model_Vers</th>\n",
              "      <th>S_RS</th>\n",
              "      <th>Color</th>\n",
              "    </tr>\n",
              "  </thead>\n",
              "  <tbody>\n",
              "    <tr>\n",
              "      <th>0</th>\n",
              "      <td>Used</td>\n",
              "      <td>47649</td>\n",
              "      <td>48950.0</td>\n",
              "      <td>2012</td>\n",
              "      <td>Porsche</td>\n",
              "      <td>911</td>\n",
              "      <td>Carrera</td>\n",
              "      <td>Black</td>\n",
              "      <td>Black</td>\n",
              "    </tr>\n",
              "    <tr>\n",
              "      <th>1</th>\n",
              "      <td>Used</td>\n",
              "      <td>19020</td>\n",
              "      <td>67988.0</td>\n",
              "      <td>2015</td>\n",
              "      <td>Porsche</td>\n",
              "      <td>911</td>\n",
              "      <td>Carrera</td>\n",
              "      <td>Base</td>\n",
              "      <td>Black</td>\n",
              "    </tr>\n",
              "    <tr>\n",
              "      <th>3</th>\n",
              "      <td>Used</td>\n",
              "      <td>56436</td>\n",
              "      <td>51990.0</td>\n",
              "      <td>2012</td>\n",
              "      <td>Porsche</td>\n",
              "      <td>911</td>\n",
              "      <td>Carrera</td>\n",
              "      <td>S</td>\n",
              "      <td>Black</td>\n",
              "    </tr>\n",
              "    <tr>\n",
              "      <th>4</th>\n",
              "      <td>Used</td>\n",
              "      <td>85000</td>\n",
              "      <td>34900.0</td>\n",
              "      <td>2009</td>\n",
              "      <td>Porsche</td>\n",
              "      <td>911</td>\n",
              "      <td>Carrera</td>\n",
              "      <td>S</td>\n",
              "      <td>Black</td>\n",
              "    </tr>\n",
              "    <tr>\n",
              "      <th>5</th>\n",
              "      <td>Used</td>\n",
              "      <td>15808</td>\n",
              "      <td>96995.0</td>\n",
              "      <td>2018</td>\n",
              "      <td>Porsche</td>\n",
              "      <td>911</td>\n",
              "      <td>Carrera</td>\n",
              "      <td>S</td>\n",
              "      <td>Black</td>\n",
              "    </tr>\n",
              "    <tr>\n",
              "      <th>...</th>\n",
              "      <td>...</td>\n",
              "      <td>...</td>\n",
              "      <td>...</td>\n",
              "      <td>...</td>\n",
              "      <td>...</td>\n",
              "      <td>...</td>\n",
              "      <td>...</td>\n",
              "      <td>...</td>\n",
              "      <td>...</td>\n",
              "    </tr>\n",
              "    <tr>\n",
              "      <th>1493</th>\n",
              "      <td>Used</td>\n",
              "      <td>19826</td>\n",
              "      <td>99950.0</td>\n",
              "      <td>2017</td>\n",
              "      <td>Porsche</td>\n",
              "      <td>911</td>\n",
              "      <td>Carrera</td>\n",
              "      <td>4S</td>\n",
              "      <td>White</td>\n",
              "    </tr>\n",
              "    <tr>\n",
              "      <th>1494</th>\n",
              "      <td>Used</td>\n",
              "      <td>15710</td>\n",
              "      <td>89995.0</td>\n",
              "      <td>2016</td>\n",
              "      <td>Porsche</td>\n",
              "      <td>911</td>\n",
              "      <td>Carrera</td>\n",
              "      <td>4S</td>\n",
              "      <td>White</td>\n",
              "    </tr>\n",
              "    <tr>\n",
              "      <th>1495</th>\n",
              "      <td>Used</td>\n",
              "      <td>502</td>\n",
              "      <td>93900.0</td>\n",
              "      <td>2018</td>\n",
              "      <td>Porsche</td>\n",
              "      <td>911</td>\n",
              "      <td>Carrera</td>\n",
              "      <td>T</td>\n",
              "      <td>White</td>\n",
              "    </tr>\n",
              "    <tr>\n",
              "      <th>1496</th>\n",
              "      <td>Used</td>\n",
              "      <td>5182</td>\n",
              "      <td>81995.0</td>\n",
              "      <td>2016</td>\n",
              "      <td>Porsche</td>\n",
              "      <td>911</td>\n",
              "      <td>Carrera</td>\n",
              "      <td>S</td>\n",
              "      <td>White</td>\n",
              "    </tr>\n",
              "    <tr>\n",
              "      <th>1501</th>\n",
              "      <td>Porsche Certified</td>\n",
              "      <td>10074</td>\n",
              "      <td>112000.0</td>\n",
              "      <td>2018</td>\n",
              "      <td>Porsche</td>\n",
              "      <td>911</td>\n",
              "      <td>Carrera</td>\n",
              "      <td>4S</td>\n",
              "      <td>White</td>\n",
              "    </tr>\n",
              "  </tbody>\n",
              "</table>\n",
              "<p>810 rows × 9 columns</p>\n",
              "</div>"
            ],
            "text/plain": [
              "              condition  milage     Price  Year  ... Model  Model_Vers   S_RS  Color\n",
              "0                  Used   47649   48950.0  2012  ...   911     Carrera  Black  Black\n",
              "1                  Used   19020   67988.0  2015  ...   911     Carrera   Base  Black\n",
              "3                  Used   56436   51990.0  2012  ...   911     Carrera      S  Black\n",
              "4                  Used   85000   34900.0  2009  ...   911     Carrera      S  Black\n",
              "5                  Used   15808   96995.0  2018  ...   911     Carrera      S  Black\n",
              "...                 ...     ...       ...   ...  ...   ...         ...    ...    ...\n",
              "1493               Used   19826   99950.0  2017  ...   911     Carrera     4S  White\n",
              "1494               Used   15710   89995.0  2016  ...   911     Carrera     4S  White\n",
              "1495               Used     502   93900.0  2018  ...   911     Carrera      T  White\n",
              "1496               Used    5182   81995.0  2016  ...   911     Carrera      S  White\n",
              "1501  Porsche Certified   10074  112000.0  2018  ...   911     Carrera     4S  White\n",
              "\n",
              "[810 rows x 9 columns]"
            ]
          },
          "metadata": {
            "tags": []
          },
          "execution_count": 12
        }
      ]
    }
  ]
}
{
 "cells": [
  {
   "cell_type": "code",
   "execution_count": 3,
   "metadata": {},
   "outputs": [],
   "source": [
    "import pandas as pd \n",
    "import numpy as np"
   ]
  },
  {
   "cell_type": "code",
   "execution_count": 4,
   "metadata": {},
   "outputs": [],
   "source": [
    "DATA_PATH = 'https://raw.githubusercontent.com/popkdodge/Unit-2-Build/master/Porsche_Datasets'"
   ]
  },
  {
   "cell_type": "code",
   "execution_count": 193,
   "metadata": {},
   "outputs": [],
   "source": [
    "df = pd.read_csv('https://raw.githubusercontent.com/popkdodge/Unit-2-Build/master/Porsche_Datasets/Automatics/car1.csv')"
   ]
  },
  {
   "cell_type": "code",
   "execution_count": 194,
   "metadata": {},
   "outputs": [
    {
     "output_type": "execute_result",
     "data": {
      "text/plain": "                                     car          condition      milage  \\\n0               2012 Porsche 911 Carrera               Used   40074 mi.   \n1         2012 Porsche 911 Black Edition               Used   33351 mi.   \n2               2016 Porsche 911 Carrera               Used   31000 mi.   \n3             2012 Porsche 911 Carrera S               Used   56436 mi.   \n4             2007 Porsche 911 Carrera S               Used   20646 mi.   \n5                   2015 Porsche 911 GT3               Used   11106 mi.   \n6                 2007 Porsche 911 Turbo               Used  106140 mi.   \n7     2009 Porsche 911 Carrera Cabriolet               Used   20663 mi.   \n8             2014 Porsche 911 Carrera S               Used   34688 mi.   \n9               2014 Porsche 911 Carrera  Porsche Certified   27962 mi.   \n10           2012 Porsche 911 Carrera 4S               Used   41019 mi.   \n11              2014 Porsche 911 Turbo S               Used   29655 mi.   \n12  2009 Porsche 911 Carrera S Cabriolet               Used   36118 mi.   \n13        2012 Porsche 911 Black Edition               Used   42012 mi.   \n14           2014 Porsche 911 Carrera 4S               Used   30465 mi.   \n15            2007 Porsche 911 Carrera S               Used   72700 mi.   \n16            2015 Porsche 911 Carrera S               Used   31022 mi.   \n17            2012 Porsche 911 Carrera S               Used   34155 mi.   \n18        2012 Porsche 911 Black Edition               Used   40689 mi.   \n19              2009 Porsche 911 Carrera               Used   16587 mi.   \n20              2012 Porsche 911 Carrera               Used   17081 mi.   \n21           2011 Porsche 911 Carrera 4S               Used   35800 mi.   \n22        2012 Porsche 911 Black Edition               Used   42233 mi.   \n23              2014 Porsche 911 Carrera               Used   34042 mi.   \n24      2009 Porsche 911 Turbo Cabriolet               Used   35420 mi.   \n25              2015 Porsche 911 Targa 4               Used   42440 mi.   \n26            2015 Porsche 911 Carrera S               Used   29400 mi.   \n27           2017 Porsche 911 Carrera 4S               Used   10300 mi.   \n28                2009 Porsche 911 Turbo               Used   68246 mi.   \n29              2014 Porsche 911 Turbo S               Used   57588 mi.   \n30            2014 Porsche 911 Carrera S               Used   36256 mi.   \n31              2015 Porsche 911 Carrera               Used   28872 mi.   \n32            2017 Porsche 911 Carrera S               Used   11370 mi.   \n33                2015 Porsche 911 Turbo               Used   37541 mi.   \n34              2014 Porsche 911 Turbo S               Used   12429 mi.   \n35              2013 Porsche 911 Carrera               Used   49611 mi.   \n36              2014 Porsche 911 Turbo S               Used   65987 mi.   \n37            2012 Porsche 911 Carrera S  Porsche Certified   26973 mi.   \n38            2013 Porsche 911 Carrera S               Used   23124 mi.   \n39            2010 Porsche 911 Carrera S               Used   37884 mi.   \n40              2014 Porsche 911 Carrera               Used   32322 mi.   \n41           2014 Porsche 911 Carrera 4S               Used   59850 mi.   \n42           2014 Porsche 911 Carrera 4S               Used   69978 mi.   \n\n    extar_info  \n0        47999  \n1        44000  \n2        69995  \n3        51990  \n4        44548  \n5       126500  \n6        39995  \n7        48900  \n8        67433  \n9        64490  \n10       57800  \n11      106990  \n12       47977  \n13       48418  \n14       74680  \n15       34988  \n16       66940  \n17       49990  \n18       46977  \n19       51950  \n20       60999  \n21       64991  \n22       44591  \n23       56995  \n24       62894  \n25       69995  \n26       56995  \n27       82900  \n28       63999  \n29       85220  \n30       65999  \n31       67900  \n32       87000  \n33       97990  \n34      128000  \n35       54981  \n36       89995  \n37       64898  \n38       59980  \n39       51950  \n40       56988  \n41       59999  \n42       58900  ",
      "text/html": "<div>\n<style scoped>\n    .dataframe tbody tr th:only-of-type {\n        vertical-align: middle;\n    }\n\n    .dataframe tbody tr th {\n        vertical-align: top;\n    }\n\n    .dataframe thead th {\n        text-align: right;\n    }\n</style>\n<table border=\"1\" class=\"dataframe\">\n  <thead>\n    <tr style=\"text-align: right;\">\n      <th></th>\n      <th>car</th>\n      <th>condition</th>\n      <th>milage</th>\n      <th>extar_info</th>\n    </tr>\n  </thead>\n  <tbody>\n    <tr>\n      <th>0</th>\n      <td>2012 Porsche 911 Carrera</td>\n      <td>Used</td>\n      <td>40074 mi.</td>\n      <td>47999</td>\n    </tr>\n    <tr>\n      <th>1</th>\n      <td>2012 Porsche 911 Black Edition</td>\n      <td>Used</td>\n      <td>33351 mi.</td>\n      <td>44000</td>\n    </tr>\n    <tr>\n      <th>2</th>\n      <td>2016 Porsche 911 Carrera</td>\n      <td>Used</td>\n      <td>31000 mi.</td>\n      <td>69995</td>\n    </tr>\n    <tr>\n      <th>3</th>\n      <td>2012 Porsche 911 Carrera S</td>\n      <td>Used</td>\n      <td>56436 mi.</td>\n      <td>51990</td>\n    </tr>\n    <tr>\n      <th>4</th>\n      <td>2007 Porsche 911 Carrera S</td>\n      <td>Used</td>\n      <td>20646 mi.</td>\n      <td>44548</td>\n    </tr>\n    <tr>\n      <th>5</th>\n      <td>2015 Porsche 911 GT3</td>\n      <td>Used</td>\n      <td>11106 mi.</td>\n      <td>126500</td>\n    </tr>\n    <tr>\n      <th>6</th>\n      <td>2007 Porsche 911 Turbo</td>\n      <td>Used</td>\n      <td>106140 mi.</td>\n      <td>39995</td>\n    </tr>\n    <tr>\n      <th>7</th>\n      <td>2009 Porsche 911 Carrera Cabriolet</td>\n      <td>Used</td>\n      <td>20663 mi.</td>\n      <td>48900</td>\n    </tr>\n    <tr>\n      <th>8</th>\n      <td>2014 Porsche 911 Carrera S</td>\n      <td>Used</td>\n      <td>34688 mi.</td>\n      <td>67433</td>\n    </tr>\n    <tr>\n      <th>9</th>\n      <td>2014 Porsche 911 Carrera</td>\n      <td>Porsche Certified</td>\n      <td>27962 mi.</td>\n      <td>64490</td>\n    </tr>\n    <tr>\n      <th>10</th>\n      <td>2012 Porsche 911 Carrera 4S</td>\n      <td>Used</td>\n      <td>41019 mi.</td>\n      <td>57800</td>\n    </tr>\n    <tr>\n      <th>11</th>\n      <td>2014 Porsche 911 Turbo S</td>\n      <td>Used</td>\n      <td>29655 mi.</td>\n      <td>106990</td>\n    </tr>\n    <tr>\n      <th>12</th>\n      <td>2009 Porsche 911 Carrera S Cabriolet</td>\n      <td>Used</td>\n      <td>36118 mi.</td>\n      <td>47977</td>\n    </tr>\n    <tr>\n      <th>13</th>\n      <td>2012 Porsche 911 Black Edition</td>\n      <td>Used</td>\n      <td>42012 mi.</td>\n      <td>48418</td>\n    </tr>\n    <tr>\n      <th>14</th>\n      <td>2014 Porsche 911 Carrera 4S</td>\n      <td>Used</td>\n      <td>30465 mi.</td>\n      <td>74680</td>\n    </tr>\n    <tr>\n      <th>15</th>\n      <td>2007 Porsche 911 Carrera S</td>\n      <td>Used</td>\n      <td>72700 mi.</td>\n      <td>34988</td>\n    </tr>\n    <tr>\n      <th>16</th>\n      <td>2015 Porsche 911 Carrera S</td>\n      <td>Used</td>\n      <td>31022 mi.</td>\n      <td>66940</td>\n    </tr>\n    <tr>\n      <th>17</th>\n      <td>2012 Porsche 911 Carrera S</td>\n      <td>Used</td>\n      <td>34155 mi.</td>\n      <td>49990</td>\n    </tr>\n    <tr>\n      <th>18</th>\n      <td>2012 Porsche 911 Black Edition</td>\n      <td>Used</td>\n      <td>40689 mi.</td>\n      <td>46977</td>\n    </tr>\n    <tr>\n      <th>19</th>\n      <td>2009 Porsche 911 Carrera</td>\n      <td>Used</td>\n      <td>16587 mi.</td>\n      <td>51950</td>\n    </tr>\n    <tr>\n      <th>20</th>\n      <td>2012 Porsche 911 Carrera</td>\n      <td>Used</td>\n      <td>17081 mi.</td>\n      <td>60999</td>\n    </tr>\n    <tr>\n      <th>21</th>\n      <td>2011 Porsche 911 Carrera 4S</td>\n      <td>Used</td>\n      <td>35800 mi.</td>\n      <td>64991</td>\n    </tr>\n    <tr>\n      <th>22</th>\n      <td>2012 Porsche 911 Black Edition</td>\n      <td>Used</td>\n      <td>42233 mi.</td>\n      <td>44591</td>\n    </tr>\n    <tr>\n      <th>23</th>\n      <td>2014 Porsche 911 Carrera</td>\n      <td>Used</td>\n      <td>34042 mi.</td>\n      <td>56995</td>\n    </tr>\n    <tr>\n      <th>24</th>\n      <td>2009 Porsche 911 Turbo Cabriolet</td>\n      <td>Used</td>\n      <td>35420 mi.</td>\n      <td>62894</td>\n    </tr>\n    <tr>\n      <th>25</th>\n      <td>2015 Porsche 911 Targa 4</td>\n      <td>Used</td>\n      <td>42440 mi.</td>\n      <td>69995</td>\n    </tr>\n    <tr>\n      <th>26</th>\n      <td>2015 Porsche 911 Carrera S</td>\n      <td>Used</td>\n      <td>29400 mi.</td>\n      <td>56995</td>\n    </tr>\n    <tr>\n      <th>27</th>\n      <td>2017 Porsche 911 Carrera 4S</td>\n      <td>Used</td>\n      <td>10300 mi.</td>\n      <td>82900</td>\n    </tr>\n    <tr>\n      <th>28</th>\n      <td>2009 Porsche 911 Turbo</td>\n      <td>Used</td>\n      <td>68246 mi.</td>\n      <td>63999</td>\n    </tr>\n    <tr>\n      <th>29</th>\n      <td>2014 Porsche 911 Turbo S</td>\n      <td>Used</td>\n      <td>57588 mi.</td>\n      <td>85220</td>\n    </tr>\n    <tr>\n      <th>30</th>\n      <td>2014 Porsche 911 Carrera S</td>\n      <td>Used</td>\n      <td>36256 mi.</td>\n      <td>65999</td>\n    </tr>\n    <tr>\n      <th>31</th>\n      <td>2015 Porsche 911 Carrera</td>\n      <td>Used</td>\n      <td>28872 mi.</td>\n      <td>67900</td>\n    </tr>\n    <tr>\n      <th>32</th>\n      <td>2017 Porsche 911 Carrera S</td>\n      <td>Used</td>\n      <td>11370 mi.</td>\n      <td>87000</td>\n    </tr>\n    <tr>\n      <th>33</th>\n      <td>2015 Porsche 911 Turbo</td>\n      <td>Used</td>\n      <td>37541 mi.</td>\n      <td>97990</td>\n    </tr>\n    <tr>\n      <th>34</th>\n      <td>2014 Porsche 911 Turbo S</td>\n      <td>Used</td>\n      <td>12429 mi.</td>\n      <td>128000</td>\n    </tr>\n    <tr>\n      <th>35</th>\n      <td>2013 Porsche 911 Carrera</td>\n      <td>Used</td>\n      <td>49611 mi.</td>\n      <td>54981</td>\n    </tr>\n    <tr>\n      <th>36</th>\n      <td>2014 Porsche 911 Turbo S</td>\n      <td>Used</td>\n      <td>65987 mi.</td>\n      <td>89995</td>\n    </tr>\n    <tr>\n      <th>37</th>\n      <td>2012 Porsche 911 Carrera S</td>\n      <td>Porsche Certified</td>\n      <td>26973 mi.</td>\n      <td>64898</td>\n    </tr>\n    <tr>\n      <th>38</th>\n      <td>2013 Porsche 911 Carrera S</td>\n      <td>Used</td>\n      <td>23124 mi.</td>\n      <td>59980</td>\n    </tr>\n    <tr>\n      <th>39</th>\n      <td>2010 Porsche 911 Carrera S</td>\n      <td>Used</td>\n      <td>37884 mi.</td>\n      <td>51950</td>\n    </tr>\n    <tr>\n      <th>40</th>\n      <td>2014 Porsche 911 Carrera</td>\n      <td>Used</td>\n      <td>32322 mi.</td>\n      <td>56988</td>\n    </tr>\n    <tr>\n      <th>41</th>\n      <td>2014 Porsche 911 Carrera 4S</td>\n      <td>Used</td>\n      <td>59850 mi.</td>\n      <td>59999</td>\n    </tr>\n    <tr>\n      <th>42</th>\n      <td>2014 Porsche 911 Carrera 4S</td>\n      <td>Used</td>\n      <td>69978 mi.</td>\n      <td>58900</td>\n    </tr>\n  </tbody>\n</table>\n</div>"
     },
     "metadata": {},
     "execution_count": 194
    }
   ],
   "source": [
    "df"
   ]
  },
  {
   "cell_type": "code",
   "execution_count": 18,
   "metadata": {},
   "outputs": [],
   "source": [
    "split_name = df.car.str.split(expand=True)"
   ]
  },
  {
   "cell_type": "code",
   "execution_count": 8,
   "metadata": {},
   "outputs": [
    {
     "output_type": "error",
     "ename": "NameError",
     "evalue": "name 'split_name' is not defined",
     "traceback": [
      "\u001b[1;31m---------------------------------------------------------------------------\u001b[0m",
      "\u001b[1;31mNameError\u001b[0m                                 Traceback (most recent call last)",
      "\u001b[1;32m<ipython-input-8-972214f02607>\u001b[0m in \u001b[0;36m<module>\u001b[1;34m\u001b[0m\n\u001b[1;32m----> 1\u001b[1;33m \u001b[0msplit_name\u001b[0m\u001b[1;33m\u001b[0m\u001b[1;33m\u001b[0m\u001b[0m\n\u001b[0m",
      "\u001b[1;31mNameError\u001b[0m: name 'split_name' is not defined"
     ]
    }
   ],
   "source": [
    "split_name"
   ]
  },
  {
   "cell_type": "code",
   "execution_count": 9,
   "metadata": {},
   "outputs": [
    {
     "output_type": "error",
     "ename": "NameError",
     "evalue": "name 'df' is not defined",
     "traceback": [
      "\u001b[1;31m---------------------------------------------------------------------------\u001b[0m",
      "\u001b[1;31mNameError\u001b[0m                                 Traceback (most recent call last)",
      "\u001b[1;32m<ipython-input-9-fd444c09bd81>\u001b[0m in \u001b[0;36m<module>\u001b[1;34m\u001b[0m\n\u001b[1;32m----> 1\u001b[1;33m \u001b[0mreunited\u001b[0m \u001b[1;33m=\u001b[0m \u001b[0mpd\u001b[0m\u001b[1;33m.\u001b[0m\u001b[0mconcat\u001b[0m\u001b[1;33m(\u001b[0m\u001b[1;33m[\u001b[0m\u001b[0mdf\u001b[0m\u001b[1;33m,\u001b[0m\u001b[0msplit_name\u001b[0m\u001b[1;33m]\u001b[0m\u001b[1;33m,\u001b[0m\u001b[0maxis\u001b[0m\u001b[1;33m=\u001b[0m\u001b[1;36m1\u001b[0m \u001b[1;33m)\u001b[0m\u001b[1;33m\u001b[0m\u001b[1;33m\u001b[0m\u001b[0m\n\u001b[0m",
      "\u001b[1;31mNameError\u001b[0m: name 'df' is not defined"
     ]
    }
   ],
   "source": [
    "reunited = pd.concat([df,split_name],axis=1 )"
   ]
  },
  {
   "cell_type": "code",
   "execution_count": 10,
   "metadata": {},
   "outputs": [
    {
     "output_type": "error",
     "ename": "NameError",
     "evalue": "name 'reunited' is not defined",
     "traceback": [
      "\u001b[1;31m---------------------------------------------------------------------------\u001b[0m",
      "\u001b[1;31mNameError\u001b[0m                                 Traceback (most recent call last)",
      "\u001b[1;32m<ipython-input-10-fcf744f1e28b>\u001b[0m in \u001b[0;36m<module>\u001b[1;34m\u001b[0m\n\u001b[1;32m----> 1\u001b[1;33m \u001b[0mreunited\u001b[0m \u001b[1;33m=\u001b[0m \u001b[0mreunited\u001b[0m\u001b[1;33m.\u001b[0m\u001b[0mdrop\u001b[0m\u001b[1;33m(\u001b[0m\u001b[0mcolumns\u001b[0m\u001b[1;33m=\u001b[0m\u001b[1;33m[\u001b[0m\u001b[1;34m'extar_info'\u001b[0m\u001b[1;33m,\u001b[0m\u001b[1;34m'car'\u001b[0m\u001b[1;33m]\u001b[0m\u001b[1;33m)\u001b[0m\u001b[1;33m\u001b[0m\u001b[1;33m\u001b[0m\u001b[0m\n\u001b[0m",
      "\u001b[1;31mNameError\u001b[0m: name 'reunited' is not defined"
     ]
    }
   ],
   "source": [
    "reunited = reunited.drop(columns=['extar_info','car'])"
   ]
  },
  {
   "cell_type": "code",
   "execution_count": 11,
   "metadata": {},
   "outputs": [
    {
     "output_type": "error",
     "ename": "NameError",
     "evalue": "name 'reunited' is not defined",
     "traceback": [
      "\u001b[1;31m---------------------------------------------------------------------------\u001b[0m",
      "\u001b[1;31mNameError\u001b[0m                                 Traceback (most recent call last)",
      "\u001b[1;32m<ipython-input-11-01a73e5845e8>\u001b[0m in \u001b[0;36m<module>\u001b[1;34m\u001b[0m\n\u001b[1;32m----> 1\u001b[1;33m \u001b[0mreunited\u001b[0m\u001b[1;33m.\u001b[0m\u001b[0mrename\u001b[0m\u001b[1;33m(\u001b[0m\u001b[0mcolumns\u001b[0m\u001b[1;33m=\u001b[0m\u001b[1;33m{\u001b[0m\u001b[1;36m0\u001b[0m\u001b[1;33m:\u001b[0m\u001b[1;34m'Year'\u001b[0m\u001b[1;33m,\u001b[0m \u001b[1;36m1\u001b[0m\u001b[1;33m:\u001b[0m\u001b[1;34m'Brand'\u001b[0m\u001b[1;33m,\u001b[0m \u001b[1;36m2\u001b[0m\u001b[1;33m:\u001b[0m\u001b[1;34m'Model'\u001b[0m\u001b[1;33m,\u001b[0m \u001b[1;36m3\u001b[0m\u001b[1;33m:\u001b[0m\u001b[1;34m'Model_Vers'\u001b[0m\u001b[1;33m,\u001b[0m \u001b[1;36m4\u001b[0m\u001b[1;33m:\u001b[0m\u001b[1;34m'S_RS'\u001b[0m\u001b[1;33m}\u001b[0m\u001b[1;33m)\u001b[0m\u001b[1;33m\u001b[0m\u001b[1;33m\u001b[0m\u001b[0m\n\u001b[0m",
      "\u001b[1;31mNameError\u001b[0m: name 'reunited' is not defined"
     ]
    }
   ],
   "source": [
    "reunited.rename(columns={0:'Year', 1:'Brand', 2:'Model', 3:'Model_Vers', 4:'S_RS'})"
   ]
  },
  {
   "cell_type": "code",
   "execution_count": 19,
   "metadata": {},
   "outputs": [],
   "source": [
    "df = pd.read_csv('https://raw.githubusercontent.com/popkdodge/Unit-2-Build/master/Porsche_Datasets/Manual/car1black_m.csv')\n",
    "split_name = df.car.str.split(expand=True)\n",
    "reunited = pd.concat([df,split_name],axis=1 )\n",
    "reunited = reunited.drop(columns=['extar_info','car'])\n",
    "reunited =reunited.rename(columns={0:'Year', 1:'Brand', 2:'Model', 3:'Model_Vers', 4:'S_RS'})\n",
    "reunited['Color'] = 'Black'\n",
    "reunited['Transmission'] = 'Manual'\n",
    "reunited.milage = reunited.milage.str.rstrip('mi.')\n",
    "reunited.milage = reunited.milage.str.strip()\n",
    "reunited['milage'] = pd.to_numeric(reunited['milage'])\n",
    "reunited['Year'] = pd.to_numeric(reunited['Year'])"
   ]
  },
  {
   "cell_type": "code",
   "execution_count": 20,
   "metadata": {},
   "outputs": [
    {
     "output_type": "execute_result",
     "data": {
      "text/plain": "            condition  milage  Year    Brand Model Model_Vers       S_RS  \\\n0                Used   40074  2012  Porsche   911    Carrera       None   \n1                Used   33351  2012  Porsche   911      Black    Edition   \n2                Used   31000  2016  Porsche   911    Carrera       None   \n3                Used   56436  2012  Porsche   911    Carrera          S   \n4                Used   20646  2007  Porsche   911    Carrera          S   \n5                Used   11106  2015  Porsche   911        GT3       None   \n6                Used  106140  2007  Porsche   911      Turbo       None   \n7                Used   20663  2009  Porsche   911    Carrera  Cabriolet   \n8                Used   34688  2014  Porsche   911    Carrera          S   \n9   Porsche Certified   27962  2014  Porsche   911    Carrera       None   \n10               Used   41019  2012  Porsche   911    Carrera         4S   \n11               Used   29655  2014  Porsche   911      Turbo          S   \n12               Used   36118  2009  Porsche   911    Carrera          S   \n13               Used   42012  2012  Porsche   911      Black    Edition   \n14               Used   30465  2014  Porsche   911    Carrera         4S   \n15               Used   72700  2007  Porsche   911    Carrera          S   \n16               Used   31022  2015  Porsche   911    Carrera          S   \n17               Used   34155  2012  Porsche   911    Carrera          S   \n18               Used   40689  2012  Porsche   911      Black    Edition   \n19               Used   16587  2009  Porsche   911    Carrera       None   \n20               Used   17081  2012  Porsche   911    Carrera       None   \n21               Used   35800  2011  Porsche   911    Carrera         4S   \n22               Used   42233  2012  Porsche   911      Black    Edition   \n23               Used   34042  2014  Porsche   911    Carrera       None   \n24               Used   35420  2009  Porsche   911      Turbo  Cabriolet   \n25               Used   42440  2015  Porsche   911      Targa          4   \n26               Used   29400  2015  Porsche   911    Carrera          S   \n27               Used   10300  2017  Porsche   911    Carrera         4S   \n28               Used   68246  2009  Porsche   911      Turbo       None   \n29               Used   57588  2014  Porsche   911      Turbo          S   \n30               Used   36256  2014  Porsche   911    Carrera          S   \n31               Used   28872  2015  Porsche   911    Carrera       None   \n32               Used   11370  2017  Porsche   911    Carrera          S   \n33               Used   37541  2015  Porsche   911      Turbo       None   \n34               Used   12429  2014  Porsche   911      Turbo          S   \n35               Used   49611  2013  Porsche   911    Carrera       None   \n36               Used   65987  2014  Porsche   911      Turbo          S   \n37  Porsche Certified   26973  2012  Porsche   911    Carrera          S   \n38               Used   23124  2013  Porsche   911    Carrera          S   \n39               Used   37884  2010  Porsche   911    Carrera          S   \n40               Used   32322  2014  Porsche   911    Carrera       None   \n41               Used   59850  2014  Porsche   911    Carrera         4S   \n42               Used   69978  2014  Porsche   911    Carrera         4S   \n\n            5  Color Transmission  \n0        None  Black    Automatic  \n1        None  Black    Automatic  \n2        None  Black    Automatic  \n3        None  Black    Automatic  \n4        None  Black    Automatic  \n5        None  Black    Automatic  \n6        None  Black    Automatic  \n7        None  Black    Automatic  \n8        None  Black    Automatic  \n9        None  Black    Automatic  \n10       None  Black    Automatic  \n11       None  Black    Automatic  \n12  Cabriolet  Black    Automatic  \n13       None  Black    Automatic  \n14       None  Black    Automatic  \n15       None  Black    Automatic  \n16       None  Black    Automatic  \n17       None  Black    Automatic  \n18       None  Black    Automatic  \n19       None  Black    Automatic  \n20       None  Black    Automatic  \n21       None  Black    Automatic  \n22       None  Black    Automatic  \n23       None  Black    Automatic  \n24       None  Black    Automatic  \n25       None  Black    Automatic  \n26       None  Black    Automatic  \n27       None  Black    Automatic  \n28       None  Black    Automatic  \n29       None  Black    Automatic  \n30       None  Black    Automatic  \n31       None  Black    Automatic  \n32       None  Black    Automatic  \n33       None  Black    Automatic  \n34       None  Black    Automatic  \n35       None  Black    Automatic  \n36       None  Black    Automatic  \n37       None  Black    Automatic  \n38       None  Black    Automatic  \n39       None  Black    Automatic  \n40       None  Black    Automatic  \n41       None  Black    Automatic  \n42       None  Black    Automatic  ",
      "text/html": "<div>\n<style scoped>\n    .dataframe tbody tr th:only-of-type {\n        vertical-align: middle;\n    }\n\n    .dataframe tbody tr th {\n        vertical-align: top;\n    }\n\n    .dataframe thead th {\n        text-align: right;\n    }\n</style>\n<table border=\"1\" class=\"dataframe\">\n  <thead>\n    <tr style=\"text-align: right;\">\n      <th></th>\n      <th>condition</th>\n      <th>milage</th>\n      <th>Year</th>\n      <th>Brand</th>\n      <th>Model</th>\n      <th>Model_Vers</th>\n      <th>S_RS</th>\n      <th>5</th>\n      <th>Color</th>\n      <th>Transmission</th>\n    </tr>\n  </thead>\n  <tbody>\n    <tr>\n      <th>0</th>\n      <td>Used</td>\n      <td>40074</td>\n      <td>2012</td>\n      <td>Porsche</td>\n      <td>911</td>\n      <td>Carrera</td>\n      <td>None</td>\n      <td>None</td>\n      <td>Black</td>\n      <td>Automatic</td>\n    </tr>\n    <tr>\n      <th>1</th>\n      <td>Used</td>\n      <td>33351</td>\n      <td>2012</td>\n      <td>Porsche</td>\n      <td>911</td>\n      <td>Black</td>\n      <td>Edition</td>\n      <td>None</td>\n      <td>Black</td>\n      <td>Automatic</td>\n    </tr>\n    <tr>\n      <th>2</th>\n      <td>Used</td>\n      <td>31000</td>\n      <td>2016</td>\n      <td>Porsche</td>\n      <td>911</td>\n      <td>Carrera</td>\n      <td>None</td>\n      <td>None</td>\n      <td>Black</td>\n      <td>Automatic</td>\n    </tr>\n    <tr>\n      <th>3</th>\n      <td>Used</td>\n      <td>56436</td>\n      <td>2012</td>\n      <td>Porsche</td>\n      <td>911</td>\n      <td>Carrera</td>\n      <td>S</td>\n      <td>None</td>\n      <td>Black</td>\n      <td>Automatic</td>\n    </tr>\n    <tr>\n      <th>4</th>\n      <td>Used</td>\n      <td>20646</td>\n      <td>2007</td>\n      <td>Porsche</td>\n      <td>911</td>\n      <td>Carrera</td>\n      <td>S</td>\n      <td>None</td>\n      <td>Black</td>\n      <td>Automatic</td>\n    </tr>\n    <tr>\n      <th>5</th>\n      <td>Used</td>\n      <td>11106</td>\n      <td>2015</td>\n      <td>Porsche</td>\n      <td>911</td>\n      <td>GT3</td>\n      <td>None</td>\n      <td>None</td>\n      <td>Black</td>\n      <td>Automatic</td>\n    </tr>\n    <tr>\n      <th>6</th>\n      <td>Used</td>\n      <td>106140</td>\n      <td>2007</td>\n      <td>Porsche</td>\n      <td>911</td>\n      <td>Turbo</td>\n      <td>None</td>\n      <td>None</td>\n      <td>Black</td>\n      <td>Automatic</td>\n    </tr>\n    <tr>\n      <th>7</th>\n      <td>Used</td>\n      <td>20663</td>\n      <td>2009</td>\n      <td>Porsche</td>\n      <td>911</td>\n      <td>Carrera</td>\n      <td>Cabriolet</td>\n      <td>None</td>\n      <td>Black</td>\n      <td>Automatic</td>\n    </tr>\n    <tr>\n      <th>8</th>\n      <td>Used</td>\n      <td>34688</td>\n      <td>2014</td>\n      <td>Porsche</td>\n      <td>911</td>\n      <td>Carrera</td>\n      <td>S</td>\n      <td>None</td>\n      <td>Black</td>\n      <td>Automatic</td>\n    </tr>\n    <tr>\n      <th>9</th>\n      <td>Porsche Certified</td>\n      <td>27962</td>\n      <td>2014</td>\n      <td>Porsche</td>\n      <td>911</td>\n      <td>Carrera</td>\n      <td>None</td>\n      <td>None</td>\n      <td>Black</td>\n      <td>Automatic</td>\n    </tr>\n    <tr>\n      <th>10</th>\n      <td>Used</td>\n      <td>41019</td>\n      <td>2012</td>\n      <td>Porsche</td>\n      <td>911</td>\n      <td>Carrera</td>\n      <td>4S</td>\n      <td>None</td>\n      <td>Black</td>\n      <td>Automatic</td>\n    </tr>\n    <tr>\n      <th>11</th>\n      <td>Used</td>\n      <td>29655</td>\n      <td>2014</td>\n      <td>Porsche</td>\n      <td>911</td>\n      <td>Turbo</td>\n      <td>S</td>\n      <td>None</td>\n      <td>Black</td>\n      <td>Automatic</td>\n    </tr>\n    <tr>\n      <th>12</th>\n      <td>Used</td>\n      <td>36118</td>\n      <td>2009</td>\n      <td>Porsche</td>\n      <td>911</td>\n      <td>Carrera</td>\n      <td>S</td>\n      <td>Cabriolet</td>\n      <td>Black</td>\n      <td>Automatic</td>\n    </tr>\n    <tr>\n      <th>13</th>\n      <td>Used</td>\n      <td>42012</td>\n      <td>2012</td>\n      <td>Porsche</td>\n      <td>911</td>\n      <td>Black</td>\n      <td>Edition</td>\n      <td>None</td>\n      <td>Black</td>\n      <td>Automatic</td>\n    </tr>\n    <tr>\n      <th>14</th>\n      <td>Used</td>\n      <td>30465</td>\n      <td>2014</td>\n      <td>Porsche</td>\n      <td>911</td>\n      <td>Carrera</td>\n      <td>4S</td>\n      <td>None</td>\n      <td>Black</td>\n      <td>Automatic</td>\n    </tr>\n    <tr>\n      <th>15</th>\n      <td>Used</td>\n      <td>72700</td>\n      <td>2007</td>\n      <td>Porsche</td>\n      <td>911</td>\n      <td>Carrera</td>\n      <td>S</td>\n      <td>None</td>\n      <td>Black</td>\n      <td>Automatic</td>\n    </tr>\n    <tr>\n      <th>16</th>\n      <td>Used</td>\n      <td>31022</td>\n      <td>2015</td>\n      <td>Porsche</td>\n      <td>911</td>\n      <td>Carrera</td>\n      <td>S</td>\n      <td>None</td>\n      <td>Black</td>\n      <td>Automatic</td>\n    </tr>\n    <tr>\n      <th>17</th>\n      <td>Used</td>\n      <td>34155</td>\n      <td>2012</td>\n      <td>Porsche</td>\n      <td>911</td>\n      <td>Carrera</td>\n      <td>S</td>\n      <td>None</td>\n      <td>Black</td>\n      <td>Automatic</td>\n    </tr>\n    <tr>\n      <th>18</th>\n      <td>Used</td>\n      <td>40689</td>\n      <td>2012</td>\n      <td>Porsche</td>\n      <td>911</td>\n      <td>Black</td>\n      <td>Edition</td>\n      <td>None</td>\n      <td>Black</td>\n      <td>Automatic</td>\n    </tr>\n    <tr>\n      <th>19</th>\n      <td>Used</td>\n      <td>16587</td>\n      <td>2009</td>\n      <td>Porsche</td>\n      <td>911</td>\n      <td>Carrera</td>\n      <td>None</td>\n      <td>None</td>\n      <td>Black</td>\n      <td>Automatic</td>\n    </tr>\n    <tr>\n      <th>20</th>\n      <td>Used</td>\n      <td>17081</td>\n      <td>2012</td>\n      <td>Porsche</td>\n      <td>911</td>\n      <td>Carrera</td>\n      <td>None</td>\n      <td>None</td>\n      <td>Black</td>\n      <td>Automatic</td>\n    </tr>\n    <tr>\n      <th>21</th>\n      <td>Used</td>\n      <td>35800</td>\n      <td>2011</td>\n      <td>Porsche</td>\n      <td>911</td>\n      <td>Carrera</td>\n      <td>4S</td>\n      <td>None</td>\n      <td>Black</td>\n      <td>Automatic</td>\n    </tr>\n    <tr>\n      <th>22</th>\n      <td>Used</td>\n      <td>42233</td>\n      <td>2012</td>\n      <td>Porsche</td>\n      <td>911</td>\n      <td>Black</td>\n      <td>Edition</td>\n      <td>None</td>\n      <td>Black</td>\n      <td>Automatic</td>\n    </tr>\n    <tr>\n      <th>23</th>\n      <td>Used</td>\n      <td>34042</td>\n      <td>2014</td>\n      <td>Porsche</td>\n      <td>911</td>\n      <td>Carrera</td>\n      <td>None</td>\n      <td>None</td>\n      <td>Black</td>\n      <td>Automatic</td>\n    </tr>\n    <tr>\n      <th>24</th>\n      <td>Used</td>\n      <td>35420</td>\n      <td>2009</td>\n      <td>Porsche</td>\n      <td>911</td>\n      <td>Turbo</td>\n      <td>Cabriolet</td>\n      <td>None</td>\n      <td>Black</td>\n      <td>Automatic</td>\n    </tr>\n    <tr>\n      <th>25</th>\n      <td>Used</td>\n      <td>42440</td>\n      <td>2015</td>\n      <td>Porsche</td>\n      <td>911</td>\n      <td>Targa</td>\n      <td>4</td>\n      <td>None</td>\n      <td>Black</td>\n      <td>Automatic</td>\n    </tr>\n    <tr>\n      <th>26</th>\n      <td>Used</td>\n      <td>29400</td>\n      <td>2015</td>\n      <td>Porsche</td>\n      <td>911</td>\n      <td>Carrera</td>\n      <td>S</td>\n      <td>None</td>\n      <td>Black</td>\n      <td>Automatic</td>\n    </tr>\n    <tr>\n      <th>27</th>\n      <td>Used</td>\n      <td>10300</td>\n      <td>2017</td>\n      <td>Porsche</td>\n      <td>911</td>\n      <td>Carrera</td>\n      <td>4S</td>\n      <td>None</td>\n      <td>Black</td>\n      <td>Automatic</td>\n    </tr>\n    <tr>\n      <th>28</th>\n      <td>Used</td>\n      <td>68246</td>\n      <td>2009</td>\n      <td>Porsche</td>\n      <td>911</td>\n      <td>Turbo</td>\n      <td>None</td>\n      <td>None</td>\n      <td>Black</td>\n      <td>Automatic</td>\n    </tr>\n    <tr>\n      <th>29</th>\n      <td>Used</td>\n      <td>57588</td>\n      <td>2014</td>\n      <td>Porsche</td>\n      <td>911</td>\n      <td>Turbo</td>\n      <td>S</td>\n      <td>None</td>\n      <td>Black</td>\n      <td>Automatic</td>\n    </tr>\n    <tr>\n      <th>30</th>\n      <td>Used</td>\n      <td>36256</td>\n      <td>2014</td>\n      <td>Porsche</td>\n      <td>911</td>\n      <td>Carrera</td>\n      <td>S</td>\n      <td>None</td>\n      <td>Black</td>\n      <td>Automatic</td>\n    </tr>\n    <tr>\n      <th>31</th>\n      <td>Used</td>\n      <td>28872</td>\n      <td>2015</td>\n      <td>Porsche</td>\n      <td>911</td>\n      <td>Carrera</td>\n      <td>None</td>\n      <td>None</td>\n      <td>Black</td>\n      <td>Automatic</td>\n    </tr>\n    <tr>\n      <th>32</th>\n      <td>Used</td>\n      <td>11370</td>\n      <td>2017</td>\n      <td>Porsche</td>\n      <td>911</td>\n      <td>Carrera</td>\n      <td>S</td>\n      <td>None</td>\n      <td>Black</td>\n      <td>Automatic</td>\n    </tr>\n    <tr>\n      <th>33</th>\n      <td>Used</td>\n      <td>37541</td>\n      <td>2015</td>\n      <td>Porsche</td>\n      <td>911</td>\n      <td>Turbo</td>\n      <td>None</td>\n      <td>None</td>\n      <td>Black</td>\n      <td>Automatic</td>\n    </tr>\n    <tr>\n      <th>34</th>\n      <td>Used</td>\n      <td>12429</td>\n      <td>2014</td>\n      <td>Porsche</td>\n      <td>911</td>\n      <td>Turbo</td>\n      <td>S</td>\n      <td>None</td>\n      <td>Black</td>\n      <td>Automatic</td>\n    </tr>\n    <tr>\n      <th>35</th>\n      <td>Used</td>\n      <td>49611</td>\n      <td>2013</td>\n      <td>Porsche</td>\n      <td>911</td>\n      <td>Carrera</td>\n      <td>None</td>\n      <td>None</td>\n      <td>Black</td>\n      <td>Automatic</td>\n    </tr>\n    <tr>\n      <th>36</th>\n      <td>Used</td>\n      <td>65987</td>\n      <td>2014</td>\n      <td>Porsche</td>\n      <td>911</td>\n      <td>Turbo</td>\n      <td>S</td>\n      <td>None</td>\n      <td>Black</td>\n      <td>Automatic</td>\n    </tr>\n    <tr>\n      <th>37</th>\n      <td>Porsche Certified</td>\n      <td>26973</td>\n      <td>2012</td>\n      <td>Porsche</td>\n      <td>911</td>\n      <td>Carrera</td>\n      <td>S</td>\n      <td>None</td>\n      <td>Black</td>\n      <td>Automatic</td>\n    </tr>\n    <tr>\n      <th>38</th>\n      <td>Used</td>\n      <td>23124</td>\n      <td>2013</td>\n      <td>Porsche</td>\n      <td>911</td>\n      <td>Carrera</td>\n      <td>S</td>\n      <td>None</td>\n      <td>Black</td>\n      <td>Automatic</td>\n    </tr>\n    <tr>\n      <th>39</th>\n      <td>Used</td>\n      <td>37884</td>\n      <td>2010</td>\n      <td>Porsche</td>\n      <td>911</td>\n      <td>Carrera</td>\n      <td>S</td>\n      <td>None</td>\n      <td>Black</td>\n      <td>Automatic</td>\n    </tr>\n    <tr>\n      <th>40</th>\n      <td>Used</td>\n      <td>32322</td>\n      <td>2014</td>\n      <td>Porsche</td>\n      <td>911</td>\n      <td>Carrera</td>\n      <td>None</td>\n      <td>None</td>\n      <td>Black</td>\n      <td>Automatic</td>\n    </tr>\n    <tr>\n      <th>41</th>\n      <td>Used</td>\n      <td>59850</td>\n      <td>2014</td>\n      <td>Porsche</td>\n      <td>911</td>\n      <td>Carrera</td>\n      <td>4S</td>\n      <td>None</td>\n      <td>Black</td>\n      <td>Automatic</td>\n    </tr>\n    <tr>\n      <th>42</th>\n      <td>Used</td>\n      <td>69978</td>\n      <td>2014</td>\n      <td>Porsche</td>\n      <td>911</td>\n      <td>Carrera</td>\n      <td>4S</td>\n      <td>None</td>\n      <td>Black</td>\n      <td>Automatic</td>\n    </tr>\n  </tbody>\n</table>\n</div>"
     },
     "metadata": {},
     "execution_count": 20
    }
   ],
   "source": [
    "reunited"
   ]
  },
  {
   "cell_type": "code",
   "execution_count": 23,
   "metadata": {},
   "outputs": [
    {
     "output_type": "execute_result",
     "data": {
      "text/plain": "condition       object\nmilage           int64\nYear             int64\nBrand           object\nModel           object\nModel_Vers      object\nS_RS            object\n5               object\nColor           object\nTransmission    object\ndtype: object"
     },
     "metadata": {},
     "execution_count": 23
    }
   ],
   "source": [
    "reunited['milage'] = pd.to_numeric(reunited['milage'])\n",
    "reunited.dtypes"
   ]
  },
  {
   "cell_type": "code",
   "execution_count": 203,
   "metadata": {},
   "outputs": [
    {
     "output_type": "execute_result",
     "data": {
      "text/plain": "            condition  milage       Price  Year    Brand Model Model_Vers  \\\n0                Used   47649       48950  2012  Porsche   911    Carrera   \n1                Used   19020       67988  2015  Porsche   911    Carrera   \n2                Used   15305      115000  2016  Porsche   911      Turbo   \n3                Used   56436       51990  2012  Porsche   911    Carrera   \n4                Used   85000       34900  2009  Porsche   911    Carrera   \n..                ...     ...         ...   ...      ...   ...        ...   \n60               Used    9880       99900  2008  Porsche   911      Turbo   \n61               Used      30  Not Priced  2019  Porsche   911  Speedster   \n62  Porsche Certified    4486      429997  2011  Porsche   911        GT3   \n63               Used    5930  Not Priced  2011  Porsche   911      Turbo   \n64               Used   17500       94900  2007  Porsche   911      Turbo   \n\n         S_RS  Cabriolet  Color Transmission    6    7  \n0       Black    Edition  Black    Automatic  NaN  NaN  \n1        None       None  Black    Automatic  NaN  NaN  \n2        None       None  Black    Automatic  NaN  NaN  \n3           S       None  Black    Automatic  NaN  NaN  \n4           S  Cabriolet  Black    Automatic  NaN  NaN  \n..        ...        ...    ...          ...  ...  ...  \n60  Cabriolet       None  White       Manual  NaN  NaN  \n61       None       None  White       Manual  NaN  NaN  \n62         RS        4.0  White       Manual  NaN  NaN  \n63       None       None  White       Manual  NaN  NaN  \n64       None       None  White       Manual  NaN  NaN  \n\n[1511 rows x 13 columns]",
      "text/html": "<div>\n<style scoped>\n    .dataframe tbody tr th:only-of-type {\n        vertical-align: middle;\n    }\n\n    .dataframe tbody tr th {\n        vertical-align: top;\n    }\n\n    .dataframe thead th {\n        text-align: right;\n    }\n</style>\n<table border=\"1\" class=\"dataframe\">\n  <thead>\n    <tr style=\"text-align: right;\">\n      <th></th>\n      <th>condition</th>\n      <th>milage</th>\n      <th>Price</th>\n      <th>Year</th>\n      <th>Brand</th>\n      <th>Model</th>\n      <th>Model_Vers</th>\n      <th>S_RS</th>\n      <th>Cabriolet</th>\n      <th>Color</th>\n      <th>Transmission</th>\n      <th>6</th>\n      <th>7</th>\n    </tr>\n  </thead>\n  <tbody>\n    <tr>\n      <th>0</th>\n      <td>Used</td>\n      <td>47649</td>\n      <td>48950</td>\n      <td>2012</td>\n      <td>Porsche</td>\n      <td>911</td>\n      <td>Carrera</td>\n      <td>Black</td>\n      <td>Edition</td>\n      <td>Black</td>\n      <td>Automatic</td>\n      <td>NaN</td>\n      <td>NaN</td>\n    </tr>\n    <tr>\n      <th>1</th>\n      <td>Used</td>\n      <td>19020</td>\n      <td>67988</td>\n      <td>2015</td>\n      <td>Porsche</td>\n      <td>911</td>\n      <td>Carrera</td>\n      <td>None</td>\n      <td>None</td>\n      <td>Black</td>\n      <td>Automatic</td>\n      <td>NaN</td>\n      <td>NaN</td>\n    </tr>\n    <tr>\n      <th>2</th>\n      <td>Used</td>\n      <td>15305</td>\n      <td>115000</td>\n      <td>2016</td>\n      <td>Porsche</td>\n      <td>911</td>\n      <td>Turbo</td>\n      <td>None</td>\n      <td>None</td>\n      <td>Black</td>\n      <td>Automatic</td>\n      <td>NaN</td>\n      <td>NaN</td>\n    </tr>\n    <tr>\n      <th>3</th>\n      <td>Used</td>\n      <td>56436</td>\n      <td>51990</td>\n      <td>2012</td>\n      <td>Porsche</td>\n      <td>911</td>\n      <td>Carrera</td>\n      <td>S</td>\n      <td>None</td>\n      <td>Black</td>\n      <td>Automatic</td>\n      <td>NaN</td>\n      <td>NaN</td>\n    </tr>\n    <tr>\n      <th>4</th>\n      <td>Used</td>\n      <td>85000</td>\n      <td>34900</td>\n      <td>2009</td>\n      <td>Porsche</td>\n      <td>911</td>\n      <td>Carrera</td>\n      <td>S</td>\n      <td>Cabriolet</td>\n      <td>Black</td>\n      <td>Automatic</td>\n      <td>NaN</td>\n      <td>NaN</td>\n    </tr>\n    <tr>\n      <th>...</th>\n      <td>...</td>\n      <td>...</td>\n      <td>...</td>\n      <td>...</td>\n      <td>...</td>\n      <td>...</td>\n      <td>...</td>\n      <td>...</td>\n      <td>...</td>\n      <td>...</td>\n      <td>...</td>\n      <td>...</td>\n      <td>...</td>\n    </tr>\n    <tr>\n      <th>60</th>\n      <td>Used</td>\n      <td>9880</td>\n      <td>99900</td>\n      <td>2008</td>\n      <td>Porsche</td>\n      <td>911</td>\n      <td>Turbo</td>\n      <td>Cabriolet</td>\n      <td>None</td>\n      <td>White</td>\n      <td>Manual</td>\n      <td>NaN</td>\n      <td>NaN</td>\n    </tr>\n    <tr>\n      <th>61</th>\n      <td>Used</td>\n      <td>30</td>\n      <td>Not Priced</td>\n      <td>2019</td>\n      <td>Porsche</td>\n      <td>911</td>\n      <td>Speedster</td>\n      <td>None</td>\n      <td>None</td>\n      <td>White</td>\n      <td>Manual</td>\n      <td>NaN</td>\n      <td>NaN</td>\n    </tr>\n    <tr>\n      <th>62</th>\n      <td>Porsche Certified</td>\n      <td>4486</td>\n      <td>429997</td>\n      <td>2011</td>\n      <td>Porsche</td>\n      <td>911</td>\n      <td>GT3</td>\n      <td>RS</td>\n      <td>4.0</td>\n      <td>White</td>\n      <td>Manual</td>\n      <td>NaN</td>\n      <td>NaN</td>\n    </tr>\n    <tr>\n      <th>63</th>\n      <td>Used</td>\n      <td>5930</td>\n      <td>Not Priced</td>\n      <td>2011</td>\n      <td>Porsche</td>\n      <td>911</td>\n      <td>Turbo</td>\n      <td>None</td>\n      <td>None</td>\n      <td>White</td>\n      <td>Manual</td>\n      <td>NaN</td>\n      <td>NaN</td>\n    </tr>\n    <tr>\n      <th>64</th>\n      <td>Used</td>\n      <td>17500</td>\n      <td>94900</td>\n      <td>2007</td>\n      <td>Porsche</td>\n      <td>911</td>\n      <td>Turbo</td>\n      <td>None</td>\n      <td>None</td>\n      <td>White</td>\n      <td>Manual</td>\n      <td>NaN</td>\n      <td>NaN</td>\n    </tr>\n  </tbody>\n</table>\n<p>1511 rows × 13 columns</p>\n</div>"
     },
     "metadata": {},
     "execution_count": 203
    }
   ],
   "source": [
    "df = pd.read_csv('https://raw.githubusercontent.com/popkdodge/Unit-2-Build/master/Porsche_Datasets/Manual/car1white_m.csv')\n",
    "split_name = df.car.str.split(expand=True)\n",
    "reunited = pd.concat([df,split_name],axis=1 )\n",
    "reunited = reunited.drop(columns=['car'])\n",
    "reunited =reunited.rename(columns={'extar_info':'Price',0:'Year', 1:'Brand', 2:'Model', 3:'Model_Vers', 4:'S_RS',5:'Cabriolet'})\n",
    "reunited['Color'] = 'White'\n",
    "reunited['Transmission'] = 'Manual'\n",
    "reunited.milage = reunited.milage.str.rstrip('mi.')\n",
    "reunited.milage = reunited.milage.str.strip()\n",
    "reunited['milage'] = pd.to_numeric(reunited['milage'])\n",
    "reunited['Year'] = pd.to_numeric(reunited['Year'])\n",
    "reunited \n",
    "#porsche = reunited\n",
    "porsche = pd.concat([porsche,reunited],axis=0 )\n",
    "porsche"
   ]
  },
  {
   "cell_type": "code",
   "execution_count": 192,
   "metadata": {},
   "outputs": [
    {
     "output_type": "execute_result",
     "data": {
      "text/plain": "Black          377\nWhite          266\nOther          198\nBlue           127\nGray/Silver    100\nRed             98\nName: Color, dtype: int64"
     },
     "metadata": {},
     "execution_count": 192
    }
   ],
   "source": [
    "porsche['Color'].value_counts()"
   ]
  },
  {
   "cell_type": "code",
   "execution_count": 86,
   "metadata": {},
   "outputs": [],
   "source": [
    "porsche = porsche.drop_duplicates()"
   ]
  },
  {
   "cell_type": "code",
   "execution_count": 207,
   "metadata": {},
   "outputs": [
    {
     "output_type": "execute_result",
     "data": {
      "text/plain": "            condition  milage       Price  Year    Brand Model Model_Vers  \\\n0                Used   47649       48950  2012  Porsche   911    Carrera   \n1                Used   19020       67988  2015  Porsche   911    Carrera   \n2                Used   15305      115000  2016  Porsche   911      Turbo   \n3                Used   56436       51990  2012  Porsche   911    Carrera   \n4                Used   85000       34900  2009  Porsche   911    Carrera   \n..                ...     ...         ...   ...      ...   ...        ...   \n60               Used    9880       99900  2008  Porsche   911      Turbo   \n61               Used      30  Not Priced  2019  Porsche   911  Speedster   \n62  Porsche Certified    4486      429997  2011  Porsche   911        GT3   \n63               Used    5930  Not Priced  2011  Porsche   911      Turbo   \n64               Used   17500       94900  2007  Porsche   911      Turbo   \n\n         S_RS  Cabriolet  Color Transmission  \n0       Black    Edition  Black    Automatic  \n1        None       None  Black    Automatic  \n2        None       None  Black    Automatic  \n3           S       None  Black    Automatic  \n4           S  Cabriolet  Black    Automatic  \n..        ...        ...    ...          ...  \n60  Cabriolet       None  White       Manual  \n61       None       None  White       Manual  \n62         RS        4.0  White       Manual  \n63       None       None  White       Manual  \n64       None       None  White       Manual  \n\n[1511 rows x 11 columns]",
      "text/html": "<div>\n<style scoped>\n    .dataframe tbody tr th:only-of-type {\n        vertical-align: middle;\n    }\n\n    .dataframe tbody tr th {\n        vertical-align: top;\n    }\n\n    .dataframe thead th {\n        text-align: right;\n    }\n</style>\n<table border=\"1\" class=\"dataframe\">\n  <thead>\n    <tr style=\"text-align: right;\">\n      <th></th>\n      <th>condition</th>\n      <th>milage</th>\n      <th>Price</th>\n      <th>Year</th>\n      <th>Brand</th>\n      <th>Model</th>\n      <th>Model_Vers</th>\n      <th>S_RS</th>\n      <th>Cabriolet</th>\n      <th>Color</th>\n      <th>Transmission</th>\n    </tr>\n  </thead>\n  <tbody>\n    <tr>\n      <th>0</th>\n      <td>Used</td>\n      <td>47649</td>\n      <td>48950</td>\n      <td>2012</td>\n      <td>Porsche</td>\n      <td>911</td>\n      <td>Carrera</td>\n      <td>Black</td>\n      <td>Edition</td>\n      <td>Black</td>\n      <td>Automatic</td>\n    </tr>\n    <tr>\n      <th>1</th>\n      <td>Used</td>\n      <td>19020</td>\n      <td>67988</td>\n      <td>2015</td>\n      <td>Porsche</td>\n      <td>911</td>\n      <td>Carrera</td>\n      <td>None</td>\n      <td>None</td>\n      <td>Black</td>\n      <td>Automatic</td>\n    </tr>\n    <tr>\n      <th>2</th>\n      <td>Used</td>\n      <td>15305</td>\n      <td>115000</td>\n      <td>2016</td>\n      <td>Porsche</td>\n      <td>911</td>\n      <td>Turbo</td>\n      <td>None</td>\n      <td>None</td>\n      <td>Black</td>\n      <td>Automatic</td>\n    </tr>\n    <tr>\n      <th>3</th>\n      <td>Used</td>\n      <td>56436</td>\n      <td>51990</td>\n      <td>2012</td>\n      <td>Porsche</td>\n      <td>911</td>\n      <td>Carrera</td>\n      <td>S</td>\n      <td>None</td>\n      <td>Black</td>\n      <td>Automatic</td>\n    </tr>\n    <tr>\n      <th>4</th>\n      <td>Used</td>\n      <td>85000</td>\n      <td>34900</td>\n      <td>2009</td>\n      <td>Porsche</td>\n      <td>911</td>\n      <td>Carrera</td>\n      <td>S</td>\n      <td>Cabriolet</td>\n      <td>Black</td>\n      <td>Automatic</td>\n    </tr>\n    <tr>\n      <th>...</th>\n      <td>...</td>\n      <td>...</td>\n      <td>...</td>\n      <td>...</td>\n      <td>...</td>\n      <td>...</td>\n      <td>...</td>\n      <td>...</td>\n      <td>...</td>\n      <td>...</td>\n      <td>...</td>\n    </tr>\n    <tr>\n      <th>60</th>\n      <td>Used</td>\n      <td>9880</td>\n      <td>99900</td>\n      <td>2008</td>\n      <td>Porsche</td>\n      <td>911</td>\n      <td>Turbo</td>\n      <td>Cabriolet</td>\n      <td>None</td>\n      <td>White</td>\n      <td>Manual</td>\n    </tr>\n    <tr>\n      <th>61</th>\n      <td>Used</td>\n      <td>30</td>\n      <td>Not Priced</td>\n      <td>2019</td>\n      <td>Porsche</td>\n      <td>911</td>\n      <td>Speedster</td>\n      <td>None</td>\n      <td>None</td>\n      <td>White</td>\n      <td>Manual</td>\n    </tr>\n    <tr>\n      <th>62</th>\n      <td>Porsche Certified</td>\n      <td>4486</td>\n      <td>429997</td>\n      <td>2011</td>\n      <td>Porsche</td>\n      <td>911</td>\n      <td>GT3</td>\n      <td>RS</td>\n      <td>4.0</td>\n      <td>White</td>\n      <td>Manual</td>\n    </tr>\n    <tr>\n      <th>63</th>\n      <td>Used</td>\n      <td>5930</td>\n      <td>Not Priced</td>\n      <td>2011</td>\n      <td>Porsche</td>\n      <td>911</td>\n      <td>Turbo</td>\n      <td>None</td>\n      <td>None</td>\n      <td>White</td>\n      <td>Manual</td>\n    </tr>\n    <tr>\n      <th>64</th>\n      <td>Used</td>\n      <td>17500</td>\n      <td>94900</td>\n      <td>2007</td>\n      <td>Porsche</td>\n      <td>911</td>\n      <td>Turbo</td>\n      <td>None</td>\n      <td>None</td>\n      <td>White</td>\n      <td>Manual</td>\n    </tr>\n  </tbody>\n</table>\n<p>1511 rows × 11 columns</p>\n</div>"
     },
     "metadata": {},
     "execution_count": 207
    }
   ],
   "source": [
    "porsche.drop(columns =[6,7])"
   ]
  },
  {
   "cell_type": "code",
   "execution_count": 208,
   "metadata": {},
   "outputs": [],
   "source": [
    "porsche.to_csv('porsche_auto.csv')"
   ]
  }
 ],
 "metadata": {
  "language_info": {
   "codemirror_mode": {
    "name": "ipython",
    "version": 3
   },
   "file_extension": ".py",
   "mimetype": "text/x-python",
   "name": "python",
   "nbconvert_exporter": "python",
   "pygments_lexer": "ipython3",
   "version": "3.7.6-final"
  },
  "orig_nbformat": 2,
  "kernelspec": {
   "name": "python3",
   "display_name": "Python 3"
  }
 },
 "nbformat": 4,
 "nbformat_minor": 2
}
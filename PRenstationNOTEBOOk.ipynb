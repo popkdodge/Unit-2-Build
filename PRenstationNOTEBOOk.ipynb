{
 "cells": [
  {
   "cell_type": "markdown",
   "metadata": {},
   "source": [
    "# Porsche 911 \n",
    "---"
   ]
  },
  {
   "cell_type": "markdown",
   "metadata": {},
   "source": [
    "This is a clean version of original notebook it try to keep everything in a neat a presentation ready format."
   ]
  },
  {
   "cell_type": "code",
   "execution_count": 2,
   "metadata": {},
   "outputs": [],
   "source": [
    "import pandas as pd\n",
    "import numpy as np"
   ]
  },
  {
   "cell_type": "code",
   "execution_count": 3,
   "metadata": {},
   "outputs": [],
   "source": [
    "df = pd.read_csv('https://raw.githubusercontent.com/popkdodge/Unit-2-Build/master/Carrera_911_1_2.csv',index_col=[0])"
   ]
  },
  {
   "cell_type": "markdown",
   "metadata": {},
   "source": [
    "## Quick data engineering\n",
    "---"
   ]
  },
  {
   "cell_type": "code",
   "execution_count": 4,
   "metadata": {},
   "outputs": [],
   "source": [
    "df['Cabriolet'] = df['Cabriolet'].replace(\"Black\",'Hardtop')\n",
    "df['Cabriolet'] = df['Cabriolet'].replace(\"Edition\",'Hardtop')\n",
    "df['Price'] = df['Price'].astype(int)\n",
    "df['condition'] = df['condition'].replace(\"Porsche Certified\",'CPO')"
   ]
  },
  {
   "cell_type": "markdown",
   "metadata": {},
   "source": [
    "## Train Test Split\n",
    "---"
   ]
  },
  {
   "cell_type": "code",
   "execution_count": 6,
   "metadata": {},
   "outputs": [],
   "source": [
    "from sklearn.model_selection import train_test_split\n",
    "train, test= train_test_split(df, test_size=0.20)"
   ]
  },
  {
   "cell_type": "code",
   "execution_count": 7,
   "metadata": {},
   "outputs": [
    {
     "output_type": "execute_result",
     "data": {
      "text/plain": "     condition  milage  Price  Year    Brand  Model Model_Vers  S_RS  \\\n1183      Used   72700  34988  2007  Porsche    911    Carrera     S   \n1434      Used    4950  98900  2012  Porsche    911    Carrera  GTS4   \n1234      Used   53111  39998  2011  Porsche    911    Carrera     S   \n23        Used   46369  48995  2009  Porsche    911    Carrera     S   \n910       Used   37586  69786  2017  Porsche    911    Carrera  Base   \n...        ...     ...    ...   ...      ...    ...        ...   ...   \n720       Used   64056  53815  2012  Porsche    911    Carrera    4S   \n848        CPO   15135  82795  2015  Porsche    911    Carrera     S   \n437       Used   48000  52500  2013  Porsche    911    Carrera  Base   \n404       Used   13111  66664  2015  Porsche    911    Carrera  Base   \n1351      Used   51025  53998  2015  Porsche    911    Carrera     4   \n\n     Cabriolet        Color Transmission  \n1183   Hardtop        Black       Manual  \n1434   Hardtop          Red       Manual  \n1234   Hardtop        Black       Manual  \n23     Hardtop        Black    Automatic  \n910    Hardtop        White    Automatic  \n...        ...          ...          ...  \n720    Hardtop  Gray/Silver    Automatic  \n848    Hardtop        White    Automatic  \n437    Hardtop         Blue    Automatic  \n404    Hardtop         Blue    Automatic  \n1351   Hardtop  Gray/Silver       Manual  \n\n[648 rows x 11 columns]",
      "text/html": "<div>\n<style scoped>\n    .dataframe tbody tr th:only-of-type {\n        vertical-align: middle;\n    }\n\n    .dataframe tbody tr th {\n        vertical-align: top;\n    }\n\n    .dataframe thead th {\n        text-align: right;\n    }\n</style>\n<table border=\"1\" class=\"dataframe\">\n  <thead>\n    <tr style=\"text-align: right;\">\n      <th></th>\n      <th>condition</th>\n      <th>milage</th>\n      <th>Price</th>\n      <th>Year</th>\n      <th>Brand</th>\n      <th>Model</th>\n      <th>Model_Vers</th>\n      <th>S_RS</th>\n      <th>Cabriolet</th>\n      <th>Color</th>\n      <th>Transmission</th>\n    </tr>\n  </thead>\n  <tbody>\n    <tr>\n      <th>1183</th>\n      <td>Used</td>\n      <td>72700</td>\n      <td>34988</td>\n      <td>2007</td>\n      <td>Porsche</td>\n      <td>911</td>\n      <td>Carrera</td>\n      <td>S</td>\n      <td>Hardtop</td>\n      <td>Black</td>\n      <td>Manual</td>\n    </tr>\n    <tr>\n      <th>1434</th>\n      <td>Used</td>\n      <td>4950</td>\n      <td>98900</td>\n      <td>2012</td>\n      <td>Porsche</td>\n      <td>911</td>\n      <td>Carrera</td>\n      <td>GTS4</td>\n      <td>Hardtop</td>\n      <td>Red</td>\n      <td>Manual</td>\n    </tr>\n    <tr>\n      <th>1234</th>\n      <td>Used</td>\n      <td>53111</td>\n      <td>39998</td>\n      <td>2011</td>\n      <td>Porsche</td>\n      <td>911</td>\n      <td>Carrera</td>\n      <td>S</td>\n      <td>Hardtop</td>\n      <td>Black</td>\n      <td>Manual</td>\n    </tr>\n    <tr>\n      <th>23</th>\n      <td>Used</td>\n      <td>46369</td>\n      <td>48995</td>\n      <td>2009</td>\n      <td>Porsche</td>\n      <td>911</td>\n      <td>Carrera</td>\n      <td>S</td>\n      <td>Hardtop</td>\n      <td>Black</td>\n      <td>Automatic</td>\n    </tr>\n    <tr>\n      <th>910</th>\n      <td>Used</td>\n      <td>37586</td>\n      <td>69786</td>\n      <td>2017</td>\n      <td>Porsche</td>\n      <td>911</td>\n      <td>Carrera</td>\n      <td>Base</td>\n      <td>Hardtop</td>\n      <td>White</td>\n      <td>Automatic</td>\n    </tr>\n    <tr>\n      <th>...</th>\n      <td>...</td>\n      <td>...</td>\n      <td>...</td>\n      <td>...</td>\n      <td>...</td>\n      <td>...</td>\n      <td>...</td>\n      <td>...</td>\n      <td>...</td>\n      <td>...</td>\n      <td>...</td>\n    </tr>\n    <tr>\n      <th>720</th>\n      <td>Used</td>\n      <td>64056</td>\n      <td>53815</td>\n      <td>2012</td>\n      <td>Porsche</td>\n      <td>911</td>\n      <td>Carrera</td>\n      <td>4S</td>\n      <td>Hardtop</td>\n      <td>Gray/Silver</td>\n      <td>Automatic</td>\n    </tr>\n    <tr>\n      <th>848</th>\n      <td>CPO</td>\n      <td>15135</td>\n      <td>82795</td>\n      <td>2015</td>\n      <td>Porsche</td>\n      <td>911</td>\n      <td>Carrera</td>\n      <td>S</td>\n      <td>Hardtop</td>\n      <td>White</td>\n      <td>Automatic</td>\n    </tr>\n    <tr>\n      <th>437</th>\n      <td>Used</td>\n      <td>48000</td>\n      <td>52500</td>\n      <td>2013</td>\n      <td>Porsche</td>\n      <td>911</td>\n      <td>Carrera</td>\n      <td>Base</td>\n      <td>Hardtop</td>\n      <td>Blue</td>\n      <td>Automatic</td>\n    </tr>\n    <tr>\n      <th>404</th>\n      <td>Used</td>\n      <td>13111</td>\n      <td>66664</td>\n      <td>2015</td>\n      <td>Porsche</td>\n      <td>911</td>\n      <td>Carrera</td>\n      <td>Base</td>\n      <td>Hardtop</td>\n      <td>Blue</td>\n      <td>Automatic</td>\n    </tr>\n    <tr>\n      <th>1351</th>\n      <td>Used</td>\n      <td>51025</td>\n      <td>53998</td>\n      <td>2015</td>\n      <td>Porsche</td>\n      <td>911</td>\n      <td>Carrera</td>\n      <td>4</td>\n      <td>Hardtop</td>\n      <td>Gray/Silver</td>\n      <td>Manual</td>\n    </tr>\n  </tbody>\n</table>\n<p>648 rows × 11 columns</p>\n</div>"
     },
     "metadata": {},
     "execution_count": 7
    }
   ],
   "source": [
    "train"
   ]
  },
  {
   "cell_type": "code",
   "execution_count": 8,
   "metadata": {},
   "outputs": [
    {
     "output_type": "execute_result",
     "data": {
      "text/plain": "     condition  milage   Price  Year    Brand  Model Model_Vers  S_RS  \\\n252        CPO    5980   97898  2018  Porsche    911    Carrera     S   \n210       Used   19828   82988  2017  Porsche    911    Carrera  Base   \n799       Used   30156   72500  2016  Porsche    911    Carrera     S   \n1208      Used   18800   69999  2016  Porsche    911    Carrera     4   \n1383      Used   11813   84000  2016  Porsche    911    Carrera    4S   \n...        ...     ...     ...   ...      ...    ...        ...   ...   \n478       Used    3918  115955  2017  Porsche    911    Carrera     S   \n690        CPO   39154   59800  2014  Porsche    911    Carrera  Base   \n688       Used   47883   49888  2009  Porsche    911    Carrera    4S   \n215       Used   35652   60800  2012  Porsche    911    Carrera     S   \n342       Used   35361   87900  2017  Porsche    911    Carrera    4S   \n\n     Cabriolet        Color Transmission  \n252    Hardtop        Black    Automatic  \n210    Hardtop        Black    Automatic  \n799    Hardtop  Gray/Silver    Automatic  \n1208   Hardtop        Black       Manual  \n1383   Hardtop        Other       Manual  \n...        ...          ...          ...  \n478    Hardtop         Blue    Automatic  \n690    Hardtop        Other    Automatic  \n688    Hardtop        Other    Automatic  \n215    Hardtop        Black    Automatic  \n342    Hardtop        Black    Automatic  \n\n[162 rows x 11 columns]",
      "text/html": "<div>\n<style scoped>\n    .dataframe tbody tr th:only-of-type {\n        vertical-align: middle;\n    }\n\n    .dataframe tbody tr th {\n        vertical-align: top;\n    }\n\n    .dataframe thead th {\n        text-align: right;\n    }\n</style>\n<table border=\"1\" class=\"dataframe\">\n  <thead>\n    <tr style=\"text-align: right;\">\n      <th></th>\n      <th>condition</th>\n      <th>milage</th>\n      <th>Price</th>\n      <th>Year</th>\n      <th>Brand</th>\n      <th>Model</th>\n      <th>Model_Vers</th>\n      <th>S_RS</th>\n      <th>Cabriolet</th>\n      <th>Color</th>\n      <th>Transmission</th>\n    </tr>\n  </thead>\n  <tbody>\n    <tr>\n      <th>252</th>\n      <td>CPO</td>\n      <td>5980</td>\n      <td>97898</td>\n      <td>2018</td>\n      <td>Porsche</td>\n      <td>911</td>\n      <td>Carrera</td>\n      <td>S</td>\n      <td>Hardtop</td>\n      <td>Black</td>\n      <td>Automatic</td>\n    </tr>\n    <tr>\n      <th>210</th>\n      <td>Used</td>\n      <td>19828</td>\n      <td>82988</td>\n      <td>2017</td>\n      <td>Porsche</td>\n      <td>911</td>\n      <td>Carrera</td>\n      <td>Base</td>\n      <td>Hardtop</td>\n      <td>Black</td>\n      <td>Automatic</td>\n    </tr>\n    <tr>\n      <th>799</th>\n      <td>Used</td>\n      <td>30156</td>\n      <td>72500</td>\n      <td>2016</td>\n      <td>Porsche</td>\n      <td>911</td>\n      <td>Carrera</td>\n      <td>S</td>\n      <td>Hardtop</td>\n      <td>Gray/Silver</td>\n      <td>Automatic</td>\n    </tr>\n    <tr>\n      <th>1208</th>\n      <td>Used</td>\n      <td>18800</td>\n      <td>69999</td>\n      <td>2016</td>\n      <td>Porsche</td>\n      <td>911</td>\n      <td>Carrera</td>\n      <td>4</td>\n      <td>Hardtop</td>\n      <td>Black</td>\n      <td>Manual</td>\n    </tr>\n    <tr>\n      <th>1383</th>\n      <td>Used</td>\n      <td>11813</td>\n      <td>84000</td>\n      <td>2016</td>\n      <td>Porsche</td>\n      <td>911</td>\n      <td>Carrera</td>\n      <td>4S</td>\n      <td>Hardtop</td>\n      <td>Other</td>\n      <td>Manual</td>\n    </tr>\n    <tr>\n      <th>...</th>\n      <td>...</td>\n      <td>...</td>\n      <td>...</td>\n      <td>...</td>\n      <td>...</td>\n      <td>...</td>\n      <td>...</td>\n      <td>...</td>\n      <td>...</td>\n      <td>...</td>\n      <td>...</td>\n    </tr>\n    <tr>\n      <th>478</th>\n      <td>Used</td>\n      <td>3918</td>\n      <td>115955</td>\n      <td>2017</td>\n      <td>Porsche</td>\n      <td>911</td>\n      <td>Carrera</td>\n      <td>S</td>\n      <td>Hardtop</td>\n      <td>Blue</td>\n      <td>Automatic</td>\n    </tr>\n    <tr>\n      <th>690</th>\n      <td>CPO</td>\n      <td>39154</td>\n      <td>59800</td>\n      <td>2014</td>\n      <td>Porsche</td>\n      <td>911</td>\n      <td>Carrera</td>\n      <td>Base</td>\n      <td>Hardtop</td>\n      <td>Other</td>\n      <td>Automatic</td>\n    </tr>\n    <tr>\n      <th>688</th>\n      <td>Used</td>\n      <td>47883</td>\n      <td>49888</td>\n      <td>2009</td>\n      <td>Porsche</td>\n      <td>911</td>\n      <td>Carrera</td>\n      <td>4S</td>\n      <td>Hardtop</td>\n      <td>Other</td>\n      <td>Automatic</td>\n    </tr>\n    <tr>\n      <th>215</th>\n      <td>Used</td>\n      <td>35652</td>\n      <td>60800</td>\n      <td>2012</td>\n      <td>Porsche</td>\n      <td>911</td>\n      <td>Carrera</td>\n      <td>S</td>\n      <td>Hardtop</td>\n      <td>Black</td>\n      <td>Automatic</td>\n    </tr>\n    <tr>\n      <th>342</th>\n      <td>Used</td>\n      <td>35361</td>\n      <td>87900</td>\n      <td>2017</td>\n      <td>Porsche</td>\n      <td>911</td>\n      <td>Carrera</td>\n      <td>4S</td>\n      <td>Hardtop</td>\n      <td>Black</td>\n      <td>Automatic</td>\n    </tr>\n  </tbody>\n</table>\n<p>162 rows × 11 columns</p>\n</div>"
     },
     "metadata": {},
     "execution_count": 8
    }
   ],
   "source": [
    "test"
   ]
  },
  {
   "cell_type": "code",
   "execution_count": null,
   "metadata": {},
   "outputs": [],
   "source": []
  }
 ],
 "metadata": {
  "language_info": {
   "codemirror_mode": {
    "name": "ipython",
    "version": 3
   },
   "file_extension": ".py",
   "mimetype": "text/x-python",
   "name": "python",
   "nbconvert_exporter": "python",
   "pygments_lexer": "ipython3",
   "version": "3.7.6-final"
  },
  "orig_nbformat": 2,
  "kernelspec": {
   "name": "python3",
   "display_name": "Python 3"
  }
 },
 "nbformat": 4,
 "nbformat_minor": 2
}